{
 "cells": [
  {
   "cell_type": "markdown",
   "id": "717fe34f-9066-40cf-b60f-ed250e83a802",
   "metadata": {},
   "source": [
    "Run the following cell first!"
   ]
  },
  {
   "cell_type": "code",
   "execution_count": null,
   "id": "ec0ae2a7-2274-4ac6-ba76-962bf0eb5b26",
   "metadata": {},
   "outputs": [],
   "source": [
    "import warnings\n",
    "warnings.simplefilter('ignore', FutureWarning)\n",
    "from hidden import *\n",
    "from IPython.display import Image, display, HTML\n",
    "%matplotlib widget"
   ]
  },
  {
   "cell_type": "markdown",
   "id": "678d12f8-98e6-4985-ac27-14936c6fc35a",
   "metadata": {},
   "source": [
    "# Model Building"
   ]
  },
  {
   "cell_type": "markdown",
   "id": "cbd94e89-f6dc-4e5e-bcf3-7bd450ef1144",
   "metadata": {},
   "source": [
    "The goal of this notebook is to give you a hands-on experience of building a model for real-world data and then making decisions based on conclusions drawn using the model. This may sound abstract and daunting at first, but by the end, you will be able to\n",
    "* choose a mathematical function that captures the overall trend of the data;\n",
    "* know what it means to \"fit a model to data\";\n",
    "* make predictions using a model;\n",
    "* estimate the confidence interval of your prediction;\n",
    "* use your model to detect a signal;\n",
    "* know what it means to refine a model;\n",
    "* recognise when a model can be improved to capture more patterns in the data;\n",
    "* make policy recommendations informed by model predictions.\n",
    "\n",
    "We ask that you complete the content of this notebook linearly for the best learning experience. The questions should be slightly tricky but fun to think about, and it's ok if you answer them wrong! If you look ahead, you may encounter spoilers, which means that you will learn less!"
   ]
  },
  {
   "cell_type": "markdown",
   "id": "4630c526-27b6-46c3-86a5-98c036ad3da5",
   "metadata": {},
   "source": [
    "## Part 1: Pre-lab "
   ]
  },
  {
   "cell_type": "markdown",
   "id": "f5eeca22-1794-4d00-a6e3-0570be22838f",
   "metadata": {},
   "source": [
    "Suppose you collected a set of data (e.g. hare population on an island) over a certain period of time. You want to describe the overall trend of the data in a concise way, using a mathematical function. Suppose the following are four different mathematical functions (linear, quadratic, Gaussian, and cosine) that you tried. When plotted on a graph, each mathematical function appears as a curve, and the shape of the curve is meant to capture the overall trend of the data. Although the word \"model\" has a more general meaning, it simply means \"mathematical function\" in the context of modelling numerical data."
   ]
  },
  {
   "cell_type": "code",
   "execution_count": null,
   "id": "94924600-c93e-4133-af0a-6142caea84b4",
   "metadata": {},
   "outputs": [],
   "source": [
    "# Just run this cell. \n",
    "fit_pre_lab_models()"
   ]
  },
  {
   "cell_type": "markdown",
   "id": "3db71eb8-71f9-414a-b9e1-181df97faf94",
   "metadata": {},
   "source": [
    "**Question 1.1:** Looking at the four model curves above (linear, quadratic, Gaussian, cosine), which model(s) seem to capture the trend better?"
   ]
  },
  {
   "cell_type": "markdown",
   "id": "59243454-4a1f-4a42-af88-a0df8b1e93b2",
   "metadata": {},
   "source": [
    "<div style=\"text-align: center; margin-top: 10px;\">\n",
    "    <div style=\"width: 100%; height: 30px; border-top: 2px solid black; border-radius: 50px 50px 0 0; margin-top: 10px;\"></div>\n",
    "</div>"
   ]
  },
  {
   "cell_type": "markdown",
   "id": "70968331-64c4-4fbc-a6e5-90b16c94fe44",
   "metadata": {},
   "source": [
    "_Replace this with your answer._"
   ]
  },
  {
   "cell_type": "markdown",
   "id": "eb0c970b-8a1c-436a-b5d3-64431672bedc",
   "metadata": {},
   "source": [
    "<div style=\"text-align: center; margin-top: 10px;\">\n",
    "    <div style=\"width: 100%; height: 30px; border-bottom: 2px solid black; border-radius: 0 0 50px 50px; margin-top: 10px;\"></div>\n",
    "</div>"
   ]
  },
  {
   "cell_type": "markdown",
   "id": "84fa5a51-459c-4fd1-8331-2732141eabdc",
   "metadata": {},
   "source": [
    "**Question 1.2:** Suppose you have two models that fit data within this time range equally well. How would you decide which model better captures the pattern(s) in the underlying data?"
   ]
  },
  {
   "cell_type": "markdown",
   "id": "39ec0ffe-a999-4a11-a4a3-c15ecf9be07c",
   "metadata": {},
   "source": [
    "<div style=\"text-align: center; margin-top: 10px;\">\n",
    "    <div style=\"width: 100%; height: 30px; border-top: 2px solid black; border-radius: 50px 50px 0 0; margin-top: 10px;\"></div>\n",
    "</div>"
   ]
  },
  {
   "cell_type": "markdown",
   "id": "361fb874-d6c8-4916-9d5a-47c6aef13e83",
   "metadata": {},
   "source": [
    "_Replace this with your answer._ "
   ]
  },
  {
   "cell_type": "markdown",
   "id": "476fcd5c-dd70-41a3-a69a-bf80a41158c7",
   "metadata": {},
   "source": [
    "<div style=\"text-align: center; margin-top: 10px;\">\n",
    "    <div style=\"width: 100%; height: 30px; border-bottom: 2px solid black; border-radius: 0 0 50px 50px; margin-top: 10px;\"></div>\n",
    "</div>"
   ]
  },
  {
   "cell_type": "markdown",
   "id": "47ea7a73-906f-4fe3-9ee9-01deafafb4a0",
   "metadata": {},
   "source": [
    "Let us now show more of the data outside of the original range of time. The grey background indicates the extended range of time. The same mathematical functions are plotted over this larger range of time."
   ]
  },
  {
   "cell_type": "code",
   "execution_count": null,
   "id": "4e48d6dd-872f-4dfa-9ff0-134d814d397f",
   "metadata": {},
   "outputs": [],
   "source": [
    "# Just run this cell. The gray portion represents the additional data beyond the original range. \n",
    "expanded_plot()"
   ]
  },
  {
   "cell_type": "markdown",
   "id": "06fadf0c-53c8-45ea-9965-cb11f8f92ee1",
   "metadata": {},
   "source": [
    "**Question 1.3:** Looking at the data collected over a larger range of time, which of the four models now best capture(s) the overall trend? In other words, which model fits the data outside of the range just as well as inside? **[Hint: There's more than one! Think a bit before moving on.]**"
   ]
  },
  {
   "cell_type": "markdown",
   "id": "f0ee6944-bfff-41db-9126-40bfe9723775",
   "metadata": {},
   "source": [
    "<div style=\"text-align: center; margin-top: 10px;\">\n",
    "    <div style=\"width: 100%; height: 30px; border-top: 2px solid black; border-radius: 50px 50px 0 0; margin-top: 10px;\"></div>\n",
    "</div>"
   ]
  },
  {
   "cell_type": "markdown",
   "id": "2537a43b-5828-4441-8bc1-77165e2eb53c",
   "metadata": {},
   "source": [
    "_Replace this with your answer._"
   ]
  },
  {
   "cell_type": "markdown",
   "id": "94e25e7e-516d-4acb-a361-cc75965b532a",
   "metadata": {},
   "source": [
    "<div style=\"text-align: center; margin-top: 10px;\">\n",
    "    <div style=\"width: 100%; height: 30px; border-bottom: 2px solid black; border-radius: 0 0 50px 50px; margin-top: 10px;\"></div>\n",
    "</div>"
   ]
  },
  {
   "cell_type": "markdown",
   "id": "6e75152f-26f7-47e6-88d9-b315221b4adb",
   "metadata": {},
   "source": [
    "**Takeaway:**\n",
    "1. Even if a model describes the trend of the data well inside of some time range, it may deviate far from the data outside of this range. Since our goal is to make predictions using the model, it is important that it describes the trend just as well outside of the range as inside. This is why the cosine model should be chosen over the Gaussian model.\n",
    "2. A model doesn't have to fit the data exactly, i.e. the model curve doesn't have to pass through all (or any) of the data points. In fact, the linear model above captures an even larger trend (the height of the peaks is going up), just not the finer ups and downs. The linear curve successfully captures the \"average value\" of each of the waves, and it works just as \"well\" for the first peak as it does for the second peak."
   ]
  },
  {
   "cell_type": "markdown",
   "id": "755970d5-db98-449b-860c-fb995bc2a2f1",
   "metadata": {},
   "source": [
    "Let us only focus on the linear and cosine models."
   ]
  },
  {
   "cell_type": "code",
   "execution_count": null,
   "id": "0283bc73-938a-4242-b01e-59b1fc8b31d8",
   "metadata": {},
   "outputs": [],
   "source": [
    "plot_linear_cosine()"
   ]
  },
  {
   "cell_type": "markdown",
   "id": "3c5fe292-8080-4d15-8eb2-4b91ba48707d",
   "metadata": {},
   "source": [
    "$$\n",
    "\\textbf{Linear:}\\quad y = 2.91x + 50736.47 \\quad \\textbf{Cosine:}\\quad y = -4471.764 \\cdot \\cos(0.02x - 4.35) + 53819.10\n",
    "$$"
   ]
  },
  {
   "cell_type": "markdown",
   "id": "41eb0292-788f-47a3-8bd9-dcc8cccf4596",
   "metadata": {},
   "source": [
    "**Question 1.4**: Extend each of the models above towards the right to give a prediction of the value at $x = 1200$, along with a very rough confidence interval for each prediction, i.e. 90% confident that the true data point at $x=1200$ will lie within this range of values. _Hint: Use the formulas of the models above. To estimate the confidence interval of your prediction, see how far along the y-axis the original data typically deviates from the model curve._"
   ]
  },
  {
   "cell_type": "markdown",
   "id": "5194c1ff-c54b-4593-b3bb-293fb9ca1fd2",
   "metadata": {},
   "source": [
    "<div style=\"text-align: center; margin-top: 10px;\">\n",
    "    <div style=\"width: 100%; height: 30px; border-top: 2px solid black; border-radius: 50px 50px 0 0; margin-top: 10px;\"></div>\n",
    "</div>"
   ]
  },
  {
   "cell_type": "code",
   "execution_count": null,
   "id": "86ba3523-909b-41c2-ab75-c65ee380ca2f",
   "metadata": {},
   "outputs": [],
   "source": [
    "# You can use this cell to run your calculations\n",
    "linear_at_1200 = ...\n",
    "cosine_at_1200 = ..."
   ]
  },
  {
   "cell_type": "markdown",
   "id": "cd0d5c4e-9b64-4449-af99-811506ed4345",
   "metadata": {},
   "source": [
    "_Edit this markdown cell and report your answer for each item below._\n",
    "\n",
    "- Prediction from the linear model: \n",
    "- 90% confidence interval: from ... to ...\n",
    "- Prediction from the cosine model: \n",
    "- 90% confidence interval:"
   ]
  },
  {
   "cell_type": "markdown",
   "id": "5db729bc-33be-496a-823f-f33d67a989f8",
   "metadata": {},
   "source": [
    "<div style=\"text-align: center; margin-top: 10px;\">\n",
    "    <div style=\"width: 100%; height: 30px; border-bottom: 2px solid black; border-radius: 0 0 50px 50px; margin-top: 10px;\"></div>\n",
    "</div>"
   ]
  },
  {
   "cell_type": "markdown",
   "id": "55c8b9d1-b908-4431-a1a9-9f9c12663cc0",
   "metadata": {},
   "source": [
    "**Question 1.5**: Which model gives a more _precise_ prediction, i.e. its confidence interval is narrower? Are the two models' predictions at $x=1200$ consistent with each other, i.e. do the two confidence intervals overlap with each other?"
   ]
  },
  {
   "cell_type": "markdown",
   "id": "1a390683-fcc9-4609-a008-0c0cc3caf05c",
   "metadata": {},
   "source": [
    "<div style=\"text-align: center; margin-top: 10px;\">\n",
    "    <div style=\"width: 100%; height: 30px; border-top: 2px solid black; border-radius: 50px 50px 0 0; margin-top: 10px;\"></div>\n",
    "</div>"
   ]
  },
  {
   "cell_type": "markdown",
   "id": "36a3026a-a1ce-44dd-9aef-fd17504fdf75",
   "metadata": {},
   "source": [
    "_Replace this with your answer._"
   ]
  },
  {
   "cell_type": "markdown",
   "id": "4775e9a7-b238-483c-b2ca-777948e18bae",
   "metadata": {},
   "source": [
    "<div style=\"text-align: center; margin-top: 10px;\">\n",
    "    <div style=\"width: 100%; height: 30px; border-bottom: 2px solid black; border-radius: 0 0 50px 50px; margin-top: 10px;\"></div>\n",
    "</div>"
   ]
  },
  {
   "cell_type": "markdown",
   "id": "b662c023-5475-4b9f-8c6b-fc050d5b9344",
   "metadata": {},
   "source": [
    "**Takeaway**: Sometimes, two models that seem drastically different can make similar predictions, if they each capture some overall trend of the data. If the confidence intervals of the models overlap, that means the predictions from both models are consistent with each other, and we may choose to use either one to make decisions. In our case, the linear model is easier to calculate than the cosine model since it has fewer parameters (two versus four), but its prediction is less precise since the confidence interval is wider. Even though the linear model fits the data less accurately than the cosine model, we can still make useful predictions using it."
   ]
  },
  {
   "cell_type": "markdown",
   "id": "65c7dfbf-c9cc-4148-9d4e-0d9219d61f13",
   "metadata": {},
   "source": [
    "___"
   ]
  },
  {
   "cell_type": "markdown",
   "id": "f4408c52-84a9-4394-9a97-b1ed9b8cea2b",
   "metadata": {},
   "source": [
    "## Part 2: The linear model"
   ]
  },
  {
   "cell_type": "markdown",
   "id": "60068dd8-ec6b-42e3-b4c5-61198d6d7ab4",
   "metadata": {},
   "source": [
    "Let's dive into the actual data! In Part 1, we only showed you a small part of the data. Here's a wider range of that same data, over a longer time period."
   ]
  },
  {
   "cell_type": "code",
   "execution_count": null,
   "id": "a24b377e-2776-400c-9c5e-ef0cc17606e3",
   "metadata": {},
   "outputs": [],
   "source": [
    "plt.figure(figsize=(10, 4)) \n",
    "plt.plot(xdata, ydata, '.')\n",
    "plt.xlabel('Time (units unknown)') \n",
    "plt.ylabel('Value')\n",
    "plt.show()"
   ]
  },
  {
   "cell_type": "markdown",
   "id": "e1b17def-9da8-4a67-88f9-9418bb6978de",
   "metadata": {},
   "source": [
    "Despite the ups and downs in the data, the waviness slowly rises over time. We will use a linear model to describe this overall rising pattern of this data and ignore the ups and downs for now. Recall from the prelab that even a very crude model can be very useful. The formula for the linear model is\n",
    "\n",
    "$$ y = \\mathrm{(slope)}\\,x + \\mathrm{(vertical\\ shift)}$$"
   ]
  },
  {
   "cell_type": "markdown",
   "id": "ae055d08-9c8c-4dc8-aca4-037a9a72790c",
   "metadata": {},
   "source": [
    "**Question**: Use the widget below to manually find that parameters that best fit the slowly rising pattern, and record the values you pick in the respective variable names. (_Hint:_ the blue line at the bottom of the graph will move as you change the parameters.)"
   ]
  },
  {
   "cell_type": "code",
   "execution_count": null,
   "id": "b0fe9e22",
   "metadata": {},
   "outputs": [],
   "source": [
    "linear_widget()"
   ]
  },
  {
   "cell_type": "markdown",
   "id": "3b169b91-9464-4e7a-b9a7-718301c60ec0",
   "metadata": {},
   "source": [
    "<div style=\"text-align: center; margin-top: 10px;\">\n",
    "    <div style=\"width: 100%; height: 30px; border-top: 2px solid black; border-radius: 50px 50px 0 0; margin-top: 10px;\"></div>\n",
    "</div>"
   ]
  },
  {
   "cell_type": "code",
   "execution_count": null,
   "id": "4aa897e8",
   "metadata": {},
   "outputs": [],
   "source": [
    "slope = ...\n",
    "vertical_shift = ... "
   ]
  },
  {
   "cell_type": "markdown",
   "id": "e583fcaf-21a8-4b9f-a38c-96a49b0b770c",
   "metadata": {},
   "source": [
    "<div style=\"text-align: center; margin-top: 10px;\">\n",
    "    <div style=\"width: 100%; height: 30px; border-bottom: 2px solid black; border-radius: 0 0 50px 50px; margin-top: 10px;\"></div>\n",
    "</div>"
   ]
  },
  {
   "cell_type": "markdown",
   "id": "3c80e335",
   "metadata": {},
   "source": [
    "Now that we have fitted a model to our data by eye, we can use existing statistical tools to do it more precisely and consistently. The `scipy` library comes with a curve fitting function."
   ]
  },
  {
   "cell_type": "code",
   "execution_count": null,
   "id": "133b6374-bc5d-4d78-9102-82fe90630e33",
   "metadata": {},
   "outputs": [],
   "source": [
    "# Just run this cell\n",
    "popt, _ = curve_fit(linear_model, xdata, ydata)\n",
    "m_fit, c_fit = popt\n",
    "\n",
    "plt.figure(figsize=(10, 4))\n",
    "plt.plot(xdata, ydata, '.')\n",
    "plt.plot(xdata, linear_model(xdata, m_fit, c_fit), color=\"black\", label=f\"Best fit: y = {m_fit:.2f}x + {c_fit:.0f}\")\n",
    "plt.xlabel('Time (units unknown)')\n",
    "plt.ylabel('Value')\n",
    "plt.legend()\n",
    "plt.show()"
   ]
  },
  {
   "cell_type": "markdown",
   "id": "16cb5ad9",
   "metadata": {},
   "source": [
    "**Question**: How do the best fit values obtained by `scipy` compare with the ones you obtained by eye? How accurate were you (in rough percentage)?"
   ]
  },
  {
   "cell_type": "markdown",
   "id": "b71a8442-e32f-45c7-9bca-a96484ac82d2",
   "metadata": {},
   "source": [
    "<div style=\"text-align: center; margin-top: 10px;\">\n",
    "    <div style=\"width: 100%; height: 30px; border-top: 2px solid black; border-radius: 50px 50px 0 0; margin-top: 10px;\"></div>\n",
    "</div>"
   ]
  },
  {
   "cell_type": "markdown",
   "id": "a4a29a95-1b14-4b0e-a417-2cf069554c6e",
   "metadata": {},
   "source": [
    "_Replace this with your answer._"
   ]
  },
  {
   "cell_type": "markdown",
   "id": "98c0057c-9ad6-4270-88f1-5912c461e611",
   "metadata": {},
   "source": [
    "<div style=\"text-align: center; margin-top: 10px;\">\n",
    "    <div style=\"width: 100%; height: 30px; border-bottom: 2px solid black; border-radius: 0 0 50px 50px; margin-top: 10px;\"></div>\n",
    "</div>"
   ]
  },
  {
   "cell_type": "markdown",
   "id": "c901c129-d69f-4277-a6fa-03d18bb68044",
   "metadata": {},
   "source": [
    "The purpose of capturing the overall trend of the data (a linearly rising trend in our case) is to make predictions about the future. Even though the true data points (scattered points) fluctuate around the model curve (solid line), they don't deviate drastically from it. If some future data points dramatically deviate from the model curve, much more than normal, then we can say that something curious is going on. Let's make this more precise.\n",
    "\n",
    "By adjusting the slider below, you are setting the amount of (vertical) deviation from the model curve you consider \"normal\". This shows up in the plot as a grey band around the model curve. The legend tells you the percentage of our data points that are covered by this band."
   ]
  },
  {
   "cell_type": "code",
   "execution_count": null,
   "id": "9496a17e-f12d-4fe8-8592-b27e3e69d148",
   "metadata": {},
   "outputs": [],
   "source": [
    "plot_lin_band()"
   ]
  },
  {
   "cell_type": "markdown",
   "id": "3e4f8c63-e037-4292-bb44-800f6963a25f",
   "metadata": {},
   "source": [
    "**Question:** Using the interactive plot above, write down the deviation (the number next to the slider) from the model curve that covers $x$% of the existing data points, for each value of $x$ below. For example, when the slider is at 5550, 93% of the points are within our band."
   ]
  },
  {
   "cell_type": "markdown",
   "id": "893a8468-cfce-4cd5-b01d-41d74fa07c4a",
   "metadata": {},
   "source": [
    "<div style=\"text-align: center; margin-top: 10px;\">\n",
    "    <div style=\"width: 100%; height: 30px; border-top: 2px solid black; border-radius: 50px 50px 0 0; margin-top: 10px;\"></div>\n",
    "</div>"
   ]
  },
  {
   "cell_type": "markdown",
   "id": "90208bf0-3b53-4a4a-b9fd-d04b89cac251",
   "metadata": {},
   "source": [
    "- 68%:\n",
    "- 80%:\n",
    "- 95%:"
   ]
  },
  {
   "cell_type": "markdown",
   "id": "a7834de6-0472-41f4-a322-591837b149a1",
   "metadata": {},
   "source": [
    "<div style=\"text-align: center; margin-top: 10px;\">\n",
    "    <div style=\"width: 100%; height: 30px; border-bottom: 2px solid black; border-radius: 0 0 50px 50px; margin-top: 10px;\"></div>\n",
    "</div>"
   ]
  },
  {
   "cell_type": "markdown",
   "id": "4a6bec09-ed3d-4d2d-b8e5-5f968ba64223",
   "metadata": {},
   "source": [
    "Now suppose the data is about the total population of hares on some island, collected once every week. The horizontal time axis is in units of days. You are interested in knowing when something abnormal is happening to the hare population at some later time. You first find out how much the hare population normally fluctuates around the overall trend (linear model), so that it stays within the grey band 95% of the time. If, at a future date, the hare population lies outside of this range, then we can say that chance alone can only cause this large deviation 5% of the time. You may decide to make the announcement that something strange is happening to the hare ecology on this island!"
   ]
  },
  {
   "cell_type": "markdown",
   "id": "0bd49434-b68e-4103-a462-24487b8d69aa",
   "metadata": {},
   "source": [
    "**Takeaway:** If the value at a future time, say at $t = 2000$, falls outside the 95% band, then something abnormal may have happened, in this example to the hares. There is only a 5% chance that this far-from-model value can arise by chance alone in the absence of an abnormal event. This 5%, or equivalently 0.05, is called the $p$-value of the abnormal event."
   ]
  },
  {
   "cell_type": "markdown",
   "id": "34668829",
   "metadata": {},
   "source": [
    "**Question:** Set `deviation_at_95_percent` to the value you found in the question above."
   ]
  },
  {
   "cell_type": "markdown",
   "id": "d15d905b-8e92-48e2-9448-a4f3941708db",
   "metadata": {},
   "source": [
    "<div style=\"text-align: center; margin-top: 10px;\">\n",
    "    <div style=\"width: 100%; height: 30px; border-top: 2px solid black; border-radius: 50px 50px 0 0; margin-top: 10px;\"></div>\n",
    "</div>"
   ]
  },
  {
   "cell_type": "code",
   "execution_count": null,
   "id": "420c8c96",
   "metadata": {},
   "outputs": [],
   "source": [
    "deviation_at_95_percent = ..."
   ]
  },
  {
   "cell_type": "markdown",
   "id": "a20c05ed-372e-457a-afe3-2a46106519af",
   "metadata": {},
   "source": [
    "<div style=\"text-align: center; margin-top: 10px;\">\n",
    "    <div style=\"width: 100%; height: 30px; border-bottom: 2px solid black; border-radius: 0 0 50px 50px; margin-top: 10px;\"></div>\n",
    "</div>"
   ]
  },
  {
   "cell_type": "markdown",
   "id": "226661c0-54de-4a8f-a5fc-0e9752706799",
   "metadata": {},
   "source": [
    "Some time has passed after you have obtained your model, and you have collected a couple more points of data. Let's see how these new data points compare to your \"normal range\" of values. For clarity, the new data points are the values to right of the vertical dotted line.. "
   ]
  },
  {
   "cell_type": "code",
   "execution_count": null,
   "id": "4d2a30f9-e966-406f-933f-c2daa3afd4c7",
   "metadata": {},
   "outputs": [],
   "source": [
    "plot_lin_all(deviation_at_95_percent)"
   ]
  },
  {
   "cell_type": "markdown",
   "id": "cfc78b02-9af0-4c0c-89be-57783865a58b",
   "metadata": {},
   "source": [
    "**Question:** From the plot above, at what time value does our new data start to deviate significantly from the model? This is when you should alarm the wildlife biologists about the hare population. "
   ]
  },
  {
   "cell_type": "markdown",
   "id": "e7e1ed84-c525-49b9-ab9c-0c14596a9b82",
   "metadata": {},
   "source": [
    "<div style=\"text-align: center; margin-top: 10px;\">\n",
    "    <div style=\"width: 100%; height: 30px; border-top: 2px solid black; border-radius: 50px 50px 0 0; margin-top: 10px;\"></div>\n",
    "</div>"
   ]
  },
  {
   "cell_type": "code",
   "execution_count": null,
   "id": "886ccea1",
   "metadata": {},
   "outputs": [],
   "source": [
    "# Replace the ... with the time value you identified\n",
    "time_value = ..."
   ]
  },
  {
   "cell_type": "markdown",
   "id": "7da128be-401b-4950-bac8-2934c64d1c1a",
   "metadata": {},
   "source": [
    "<div style=\"text-align: center; margin-top: 10px;\">\n",
    "    <div style=\"width: 100%; height: 30px; border-bottom: 2px solid black; border-radius: 0 0 50px 50px; margin-top: 10px;\"></div>\n",
    "</div>"
   ]
  },
  {
   "cell_type": "markdown",
   "id": "5d3c30ff-a05b-493b-96b0-ffab27b7a3c1",
   "metadata": {},
   "source": [
    "**The reveal: This data is not about hare population! In fact, it is the total number of deaths in the United States in any given week. The x-axis is the number of days since the beginning of data collection, and the y-axis is the number of deaths in the week prior to that day.**"
   ]
  },
  {
   "cell_type": "markdown",
   "id": "b404e950-dd56-4d27-90ea-1e22107f8a56",
   "metadata": {},
   "source": [
    "**Question:** As a statistician at the CDC, your job has been to monitor this data. You've found this date where the weekly death count has surpassed your threshold (outside the band), what would you report to your superior? Include the statement of fact and your credence level. "
   ]
  },
  {
   "cell_type": "markdown",
   "id": "d4cdbb60",
   "metadata": {},
   "source": [
    "<div style=\"text-align: center; margin-top: 10px;\">\n",
    "    <div style=\"width: 100%; height: 30px; border-top: 2px solid black; border-radius: 50px 50px 0 0; margin-top: 10px;\"></div>\n",
    "</div>"
   ]
  },
  {
   "cell_type": "markdown",
   "id": "3cb4c531",
   "metadata": {},
   "source": [
    "_Replace this with your answer._ "
   ]
  },
  {
   "cell_type": "markdown",
   "id": "bdcd8768",
   "metadata": {},
   "source": [
    "<div style=\"text-align: center; margin-top: 10px;\">\n",
    "    <div style=\"width: 100%; height: 30px; border-bottom: 2px solid black; border-radius: 0 0 50px 50px; margin-top: 10px;\"></div>\n",
    "</div>"
   ]
  },
  {
   "cell_type": "markdown",
   "id": "11973ffa",
   "metadata": {},
   "source": [
    "**Takeaway:** We chose a model (linear) that captured the overall trend of our data and found the parameters of the model that fits our data the best. Then we found the range of values (weekly death count) within which our existing data falls 95% of the time. Assuming the existing data describes what happens usually (that there have not been unusual events during this time), then if any future data point exceeds this range of values, we can call this new data point a \"signal\" of something unusual (that the data is deviating from the usual trend so far). This new data point only has a 5% chance of falling outside the expected range *if nothing unusual is happening*, so it gives us some confidence that something unusual is indeed occurring."
   ]
  },
  {
   "cell_type": "markdown",
   "id": "a75f4532",
   "metadata": {},
   "source": [
    "___"
   ]
  },
  {
   "cell_type": "markdown",
   "id": "e74ac259-a45c-47d4-a6ea-81ada1467bb5",
   "metadata": {},
   "source": [
    "## Part 3: Refining the model"
   ]
  },
  {
   "cell_type": "markdown",
   "id": "39eb6380-a18b-457d-9c3e-0ead62991f0f",
   "metadata": {},
   "source": [
    "Recall the lesson on *Probabilistic Thinking*, where Prof. Perlmutter shared his story about the importance of error bars. Yet we haven't been drawing any error bars on our data! Error bars are a way of quantifying the amount of statistical uncertainty in our data. Generally speaking, there are usually two sources of **statistical uncertainty**:\n",
    "1. the natural random fluctuation in the value being measured, and\n",
    "2. the uncertainty introduced by imperfections in the measurement instrument (i.e. measurement error).\n",
    "\n",
    "In the case of weekly deaths in the US, these two sources of statistical uncertainty manifest as follows:\n",
    "1. naturally the number of people who pass away for any reason may be higher or lower randomly; and\n",
    "2. the clerical records on each death are not collected accurately, possibly due to manual error or a delay in processing.\n",
    "Even though the CDC did not release the precise uncertainty from each of the two sources, we can do our best to estimate them."
   ]
  },
  {
   "cell_type": "markdown",
   "id": "28ce9252",
   "metadata": {},
   "source": [
    "To estimate the range of natural random fluctuation, assume that there are about 53,000 deaths each week in the US (comparable to our data), compared to a total population of 350 million. This amounts to around 1 in 6600 people dying every week. Equivalently, each person in the US has a 1 in 6600 chance of dying within one week (don't dwell on this thought too much). As a macabre exercise, if we let each person in America roll a 6600-sided die (pun unintended) once a week, how many people would land on \"1\" each week? That number can't be exactly 53,000 every time.\n",
    "\n",
    "We've simulated the results below. Click the following button many times to see the actual number of people whose die landed on a \"1\" each week. (For the statisticians among you, we are sampling from a binomial distribution with *n* = 350,000,000 and *p* = 53,000 / 350,000,000.)"
   ]
  },
  {
   "cell_type": "code",
   "execution_count": null,
   "id": "f16d552b",
   "metadata": {},
   "outputs": [],
   "source": [
    "plotMockWeeklyDeathsWithButton() # You need to click the button to start seeing an output"
   ]
  },
  {
   "cell_type": "markdown",
   "id": "98e67328",
   "metadata": {},
   "source": [
    "**Question:** Do this 10 times. Write down the randomly simulated numbers and estimate the value of *x* such that 68% of the simulated numbers fall within 53,000 ± *x*."
   ]
  },
  {
   "cell_type": "markdown",
   "id": "7c1139be",
   "metadata": {},
   "source": [
    "<div style=\"text-align: center; margin-top: 10px;\">\n",
    "    <div style=\"width: 100%; height: 30px; border-top: 2px solid black; border-radius: 50px 50px 0 0; margin-top: 10px;\"></div>\n",
    "</div>"
   ]
  },
  {
   "cell_type": "code",
   "execution_count": null,
   "id": "61f8f406",
   "metadata": {},
   "outputs": [],
   "source": [
    "results_10_trials = [..., ..., ...]\n",
    "ci = ..."
   ]
  },
  {
   "cell_type": "markdown",
   "id": "e70d41ad",
   "metadata": {},
   "source": [
    "_Replace this with your answer._ "
   ]
  },
  {
   "cell_type": "markdown",
   "id": "4b7be5c1",
   "metadata": {},
   "source": [
    "<div style=\"text-align: center; margin-top: 10px;\">\n",
    "    <div style=\"width: 100%; height: 30px; border-bottom: 2px solid black; border-radius: 0 0 50px 50px; margin-top: 10px;\"></div>\n",
    "</div>"
   ]
  },
  {
   "cell_type": "markdown",
   "id": "b75f679f",
   "metadata": {},
   "source": [
    "**Takeaway:** The value you typed above is the instrinsic statistical uncertainty in the actual weekly death count. In other words, the true number of deaths per week fluctuates by about this amount by random chance alone."
   ]
  },
  {
   "cell_type": "markdown",
   "id": "c0c2fd9e-f8a2-4de8-af9e-adf763dee9f5",
   "metadata": {},
   "source": [
    "You should have found above that the typical fluctuation in death counts is very roughly ±250 from the mean. Run the following box to record this."
   ]
  },
  {
   "cell_type": "code",
   "execution_count": null,
   "id": "27bda0f1",
   "metadata": {},
   "outputs": [],
   "source": [
    "intrinsic_fluctuation = 250"
   ]
  },
  {
   "cell_type": "markdown",
   "id": "8334040e",
   "metadata": {},
   "source": [
    "The second source of uncertainty is from the measurement of the true value. The measurement uncertainty means that a true value exists but what we measure may be slightly higher or lower due to imperfections in the measurement instrument. In our case, the measurement instrument is the manual collection of death records from hospitals and funeral homes across the country."
   ]
  },
  {
   "cell_type": "markdown",
   "id": "2a1a1299",
   "metadata": {},
   "source": [
    "**Question:** Why might the manual recording of deaths be inaccurate? Why might it be higher or lower than the true value in any given week?"
   ]
  },
  {
   "cell_type": "markdown",
   "id": "5411fea0",
   "metadata": {},
   "source": [
    "<div style=\"text-align: center; margin-top: 10px;\">\n",
    "    <div style=\"width: 100%; height: 30px; border-top: 2px solid black; border-radius: 50px 50px 0 0; margin-top: 10px;\"></div>\n",
    "</div>"
   ]
  },
  {
   "cell_type": "markdown",
   "id": "590c441c",
   "metadata": {},
   "source": [
    "_Replace this with your answer._ "
   ]
  },
  {
   "cell_type": "markdown",
   "id": "76637de3",
   "metadata": {},
   "source": [
    "<div style=\"text-align: center; margin-top: 10px;\">\n",
    "    <div style=\"width: 100%; height: 30px; border-bottom: 2px solid black; border-radius: 0 0 50px 50px; margin-top: 10px;\"></div>\n",
    "</div>"
   ]
  },
  {
   "cell_type": "markdown",
   "id": "1f8dc327",
   "metadata": {},
   "source": [
    "Unfortunately the CDC did not provide us with an estimate of a clerical error, so we are left to estimate it ourselves. By your intuition, how often do you think the deaths are miscounted? More often than 1 in 10? Less often than 1 in a million? Or somewhere in between?"
   ]
  },
  {
   "cell_type": "markdown",
   "id": "c2a3c002-038f-4166-84c7-2b5e0ee6691f",
   "metadata": {},
   "source": [
    "<div style=\"text-align: center; margin-top: 10px;\">\n",
    "    <div style=\"width: 100%; height: 30px; border-top: 2px solid black; border-radius: 50px 50px 0 0; margin-top: 10px;\"></div>\n",
    "</div>"
   ]
  },
  {
   "cell_type": "markdown",
   "id": "b2a7eb13-4853-4a6a-8453-8cb8e3a83f2a",
   "metadata": {},
   "source": [
    "I estimate the measurement error in the weekly death count to be 1 in (_Replace this with you answer_)"
   ]
  },
  {
   "cell_type": "markdown",
   "id": "e5809557-5478-4134-8e9e-2fc01d284ca6",
   "metadata": {},
   "source": [
    "<div style=\"text-align: center; margin-top: 10px;\">\n",
    "    <div style=\"width: 100%; height: 30px; border-bottom: 2px solid black; border-radius: 0 0 50px 50px; margin-top: 10px;\"></div>\n",
    "</div>"
   ]
  },
  {
   "cell_type": "markdown",
   "id": "c491a20a-551c-478f-9afa-5d26d96caec9",
   "metadata": {},
   "source": [
    "For the sake of a consistent story, let's assume the measurement error to be around 1 in 200. This amounts to a weekly error of 53,000 / 200 ≈ 250. Run the following box to record this."
   ]
  },
  {
   "cell_type": "code",
   "execution_count": null,
   "id": "ba2d9777",
   "metadata": {},
   "outputs": [],
   "source": [
    "measurement_error = 250"
   ]
  },
  {
   "cell_type": "markdown",
   "id": "be108189",
   "metadata": {},
   "source": [
    "The total statistical uncertainty is then roughly the sum of the intrinsic fluctuation and the measurement error:"
   ]
  },
  {
   "cell_type": "code",
   "execution_count": null,
   "id": "8c816300",
   "metadata": {},
   "outputs": [],
   "source": [
    "total_error = intrinsic_fluctuation + measurement_error"
   ]
  },
  {
   "cell_type": "markdown",
   "id": "92225ec1",
   "metadata": {},
   "source": [
    "We can now use error bars to indicate the statistical uncertainty in each week's death count. Recall that it does not mean that the true value *must* be within the error bar. Rather, it just means that the true value lies within the error bar 68% of the time (up to a guess in measurement error). (Different percentages may be used in different fields, e.g. 95% in psychology.)\n",
    "\n",
    "Since each week's true death count has a 68% chance of falling inside the error bar, we should expect that our model curve passes through 68% of the error bars *if the model accurately describes the true death counts*. If it passes through less than 68% of the error bars, it would indicate that there is still some underlying pattern in our data that is not yet captured in our model. On the other hand, if the model curve passes through more than 68% of the points, then it is now capturing the smaller fluctuations that are the result of random fluctuation or imperfect measurement, rather than the overall trend. That's also not what we want! (It can be unintuitive that passing through more points, aka overfitting, is not a good thing!) \n",
    "\n",
    "Therefore, we should aim for the model curve to pass through about 68% of the error bars for a well balanced model."
   ]
  },
  {
   "cell_type": "markdown",
   "id": "57563ce1",
   "metadata": {},
   "source": [
    "Let's see how our very crude model (which clearly didn't capture all the patterns) performs."
   ]
  },
  {
   "cell_type": "code",
   "execution_count": null,
   "id": "4e0db07e",
   "metadata": {},
   "outputs": [],
   "source": [
    "#Just run this cell\n",
    "plt.figure(figsize=(10, 6))\n",
    "plt.errorbar(xdata, ydata, yerr=total_error, fmt='.', ecolor='black', capsize=5)\n",
    "plt.plot(xdata, linear_model(xdata, m_fit, c_fit), '-', label='fit', color = \"black\")\n",
    "plt.xlabel('Time (days)')\n",
    "plt.ylabel('Weekly deaths')\n",
    "plt.grid(True)\n",
    "plt.show()"
   ]
  },
  {
   "cell_type": "markdown",
   "id": "08df6435",
   "metadata": {},
   "source": [
    "You can already see by eye that the model curve passes through very few of the error bars. The following code calculates how many error bars it actually passes through."
   ]
  },
  {
   "cell_type": "code",
   "execution_count": null,
   "id": "c69d584a",
   "metadata": {},
   "outputs": [],
   "source": [
    "# Just run this cell. \n",
    "yerr = total_error\n",
    "\n",
    "lin_mod = linear_model(xdata, m_fit, c_fit)\n",
    "error_bar_passes = ((lin_mod >= (ydata - yerr)) & (lin_mod <= (ydata + yerr))).sum()\n",
    "total_points = len(xdata)\n",
    "percentage_passes = (error_bar_passes / total_points) * 100\n",
    "\n",
    "print(f\"The linear model passes through {error_bar_passes} error bars out of {total_points} points.\")\n",
    "print(f\"Percentage: {percentage_passes:.2f}%\")"
   ]
  },
  {
   "cell_type": "markdown",
   "id": "ca94699d",
   "metadata": {},
   "source": [
    "**Question:** Based off the percent of error bars, do you think we our model sufficiently captured the patterns in the data? Explain your reasonsing."
   ]
  },
  {
   "cell_type": "markdown",
   "id": "beca1d39",
   "metadata": {},
   "source": [
    "<div style=\"text-align: center; margin-top: 10px;\">\n",
    "    <div style=\"width: 100%; height: 30px; border-top: 2px solid black; border-radius: 50px 50px 0 0; margin-top: 10px;\"></div>\n",
    "</div>"
   ]
  },
  {
   "cell_type": "markdown",
   "id": "ce6a6ba1",
   "metadata": {},
   "source": [
    "_Replace this with your answer._"
   ]
  },
  {
   "cell_type": "markdown",
   "id": "8bcf57c6",
   "metadata": {},
   "source": [
    "<div style=\"text-align: center; margin-top: 10px;\">\n",
    "    <div style=\"width: 100%; height: 30px; border-bottom: 2px solid black; border-radius: 0 0 50px 50px; margin-top: 10px;\"></div>\n",
    "</div>"
   ]
  },
  {
   "cell_type": "markdown",
   "id": "0445293b",
   "metadata": {},
   "source": [
    "**Takeaway**: Since our model passes through much less than 68% of the error bars, there is room to refine our model to capture more of the patterns in the data."
   ]
  },
  {
   "cell_type": "markdown",
   "id": "5b1f4681",
   "metadata": {},
   "source": [
    "So far, we have used a very crude model—a straight line—to describe the overall trend of weekly deaths in the US over about 2000 days (~3.5 years). The trend seems to be a slight rise over time. We also saw that just after day 1900, something quite dramatic happened, where the weekly death count rose far beyond the usual rising trend. The linear model, albeit very crude, served its purpose well in quantitatively showing this dramatic event.\n",
    "\n",
    "However, you can clearly see by eye that the underlying data contains more patterns than just a slight rising trend. It waves up and down periodically, something that is not captured by a linear model. How can we do better?\n",
    "\n",
    "Let's keep the linear model $Bx + C$ for the rising trend, and also add a cosine curve on top of it. There are several ways to parametrise the cosine function, and our choice will hopefully make sense once you go through Part 5 of this module. You can think of this refined model as a cosine wave with a tilt. The formula is:\n",
    "$$y = A \\cos\\left(\\frac{2\\pi}{T}(x-x_0)\\right) + Bx + C.$$\n",
    "Recall the lesson on *Orders of Understanding*. The linear model can be thought of as a first-order description, and the tilted cosine model as a second-order description.\n",
    "\n",
    "Just as you did for the linear model, use the widget below to adjust each of the five parameters in the tilted cosine model to find the best-fit values."
   ]
  },
  {
   "cell_type": "code",
   "execution_count": null,
   "id": "ca3a8248",
   "metadata": {},
   "outputs": [],
   "source": [
    "cosine_linear_widget()"
   ]
  },
  {
   "cell_type": "code",
   "execution_count": null,
   "id": "8457f146",
   "metadata": {},
   "outputs": [],
   "source": [
    "a = ...\n",
    "t = ...\n",
    "x_0 = ...\n",
    "c = ...\n",
    "b = ...\n",
    "guesses = [a, t, x_0, c, b] # You will use this as an argument for plot_tilted_band"
   ]
  },
  {
   "cell_type": "markdown",
   "id": "eaafc557-1a6d-4b6d-a0c7-dbd217c85420",
   "metadata": {},
   "source": [
    "Now that you have some intuition for these parameters, we'll use `scipy` to find the actual best-fit model. We'll also plot the error bars on each of the data points (statistical uncertainty due to intrinsic fluctuation and measurement error) so we can see how well the tilted cosine model captures the patterns in our data."
   ]
  },
  {
   "cell_type": "code",
   "execution_count": null,
   "id": "f1efc233",
   "metadata": {},
   "outputs": [],
   "source": [
    "#round each of these variables to 2 decimal places\n",
    "print(\"Best fit parameters (from SciPy): \")\n",
    "print(f\"A: {round(A_fit, 2)}; our guess: {a}\")\n",
    "print(f\"T: {round(T_fit, 2)}; our guess: {t}\")\n",
    "print(f\"x_0: {round(x0_fit, 2)}; our guess: {x_0}\")\n",
    "print(f\"C: {round(C_fit, 2)}; our guess: {c}\")\n",
    "print(f\"B: {round(B_fit, 2)}; our guess: {b}\")"
   ]
  },
  {
   "cell_type": "code",
   "execution_count": null,
   "id": "e71bac46",
   "metadata": {},
   "outputs": [],
   "source": [
    "#Just run this cell\n",
    "plt.figure(figsize=(10, 6))\n",
    "plt.errorbar(xdata, ydata, yerr=total_error, fmt='.', ecolor='black', capsize=5, label = \"Data\")\n",
    "plt.plot(xdata, fit_data_with_tilt, '-', label='Best fit', color = \"red\")\n",
    "plt.xlabel('Time (days)')\n",
    "plt.ylabel('Weekly deaths')\n",
    "plt.legend()\n",
    "plt.ylim(4e4,7e4)\n",
    "plt.grid(True)\n",
    "plt.show()\n",
    "\n",
    "yerr = total_error\n",
    "\n",
    "error_bar_passes = ((fit_data_with_tilt >= (ydata - yerr)) & (fit_data_with_tilt <= (ydata + yerr))).sum()\n",
    "total_points = len(xdata)\n",
    "percentage_passes = (error_bar_passes / total_points) * 100\n",
    "\n",
    "print(f\"The tilted cosine model passes through {error_bar_passes} error bars out of {total_points} points.\")\n",
    "print(f\"Percentage: {percentage_passes:.2f}%\")"
   ]
  },
  {
   "cell_type": "markdown",
   "id": "bf31881e",
   "metadata": {},
   "source": [
    "**Question**: What percentage of error bars is the tilted cosine model now passing through? How does it compare with the linear model above? Can we refine our model any further?"
   ]
  },
  {
   "cell_type": "markdown",
   "id": "a7a51f07",
   "metadata": {},
   "source": [
    "<div style=\"text-align: center; margin-top: 10px;\">\n",
    "    <div style=\"width: 100%; height: 30px; border-top: 2px solid black; border-radius: 50px 50px 0 0; margin-top: 10px;\"></div>\n",
    "</div>"
   ]
  },
  {
   "cell_type": "markdown",
   "id": "1e2e02ad",
   "metadata": {},
   "source": [
    "Replace this with your answer."
   ]
  },
  {
   "cell_type": "markdown",
   "id": "114eb1f9",
   "metadata": {},
   "source": [
    "<div style=\"text-align: center; margin-top: 10px;\">\n",
    "    <div style=\"width: 100%; height: 30px; border-bottom: 2px solid black; border-radius: 0 0 50px 50px; margin-top: 10px;\"></div>\n",
    "</div>"
   ]
  },
  {
   "cell_type": "markdown",
   "id": "89b1d660",
   "metadata": {},
   "source": [
    "**Takeaway:** The tilted cosine model more accurately models weekly deaths than the simple linear model. We could still do better because we haven't yet passed through 68% of the error bars."
   ]
  },
  {
   "cell_type": "code",
   "execution_count": null,
   "id": "5b08d5ac",
   "metadata": {},
   "outputs": [],
   "source": [
    "plot_tilted_band()"
   ]
  },
  {
   "cell_type": "markdown",
   "id": "c3c6a230",
   "metadata": {},
   "source": [
    "**Question:** How far to we have to deviate from our model to capture 95% of the points? How does this compare to the linear model? "
   ]
  },
  {
   "cell_type": "markdown",
   "id": "02daf2ca",
   "metadata": {},
   "source": [
    "<div style=\"text-align: center; margin-top: 10px;\">\n",
    "    <div style=\"width: 100%; height: 30px; border-top: 2px solid black; border-radius: 50px 50px 0 0; margin-top: 10px;\"></div>\n",
    "</div>"
   ]
  },
  {
   "cell_type": "markdown",
   "id": "a2e5cdce",
   "metadata": {},
   "source": [
    "_Replace this with your answer._ "
   ]
  },
  {
   "cell_type": "markdown",
   "id": "66cf4488",
   "metadata": {},
   "source": [
    "<div style=\"text-align: center; margin-top: 10px;\">\n",
    "    <div style=\"width: 100%; height: 30px; border-bottom: 2px solid black; border-radius: 0 0 50px 50px; margin-top: 10px;\"></div>\n",
    "</div>"
   ]
  },
  {
   "cell_type": "markdown",
   "id": "24c681a6",
   "metadata": {},
   "source": [
    "**Question:** Set `deviation_at_95_percent_titled_cosine` to the value in the question above."
   ]
  },
  {
   "cell_type": "markdown",
   "id": "fce739b8-0060-40e2-96db-361907d153a5",
   "metadata": {},
   "source": [
    "<div style=\"text-align: center; margin-top: 10px;\">\n",
    "    <div style=\"width: 100%; height: 30px; border-top: 2px solid black; border-radius: 50px 50px 0 0; margin-top: 10px;\"></div>\n",
    "</div>"
   ]
  },
  {
   "cell_type": "code",
   "execution_count": null,
   "id": "c59323fb",
   "metadata": {},
   "outputs": [],
   "source": [
    "deviation_at_95_percent_titled_cosine = ..."
   ]
  },
  {
   "cell_type": "markdown",
   "id": "cff5f8de-b8f4-49b2-83cf-a4b3894a2d1e",
   "metadata": {},
   "source": [
    "<div style=\"text-align: center; margin-top: 10px;\">\n",
    "    <div style=\"width: 100%; height: 30px; border-bottom: 2px solid black; border-radius: 0 0 50px 50px; margin-top: 10px;\"></div>\n",
    "</div>"
   ]
  },
  {
   "cell_type": "markdown",
   "id": "47611b9a",
   "metadata": {},
   "source": [
    "As with the linear model, we can now use the tilted cosine model to make predictions and identify out-of-the-ordinary events in upcoming data!"
   ]
  },
  {
   "cell_type": "code",
   "execution_count": null,
   "id": "c43954d4",
   "metadata": {},
   "outputs": [],
   "source": [
    "plot_cos_lin_all(deviation_at_95_percent_titled_cosine)"
   ]
  },
  {
   "cell_type": "markdown",
   "id": "f8c029df",
   "metadata": {},
   "source": [
    "**Question:** Replace `time_value_tilted_cosine` with time value at which the new data starts to deviate significantly from the tilted cosine model (beyond the 95% confidence band)."
   ]
  },
  {
   "cell_type": "markdown",
   "id": "09123a05-7cdc-4973-a5b2-9280fe87c811",
   "metadata": {},
   "source": [
    "<div style=\"text-align: center; margin-top: 10px;\">\n",
    "    <div style=\"width: 100%; height: 30px; border-top: 2px solid black; border-radius: 50px 50px 0 0; margin-top: 10px;\"></div>\n",
    "</div>"
   ]
  },
  {
   "cell_type": "code",
   "execution_count": null,
   "id": "fce560d9",
   "metadata": {},
   "outputs": [],
   "source": [
    "# Replace the ... with the time value you identified\n",
    "time_value_tilted_cosine = ..."
   ]
  },
  {
   "cell_type": "markdown",
   "id": "b9b7b8f2-dc99-4a5a-a8fc-11a25114be77",
   "metadata": {},
   "source": [
    "<div style=\"text-align: center; margin-top: 10px;\">\n",
    "    <div style=\"width: 100%; height: 30px; border-bottom: 2px solid black; border-radius: 0 0 50px 50px; margin-top: 10px;\"></div>\n",
    "</div>"
   ]
  },
  {
   "cell_type": "markdown",
   "id": "cb57d9b7",
   "metadata": {},
   "source": [
    "Let's compare this with the linear model."
   ]
  },
  {
   "cell_type": "code",
   "execution_count": null,
   "id": "ea6ec201",
   "metadata": {
    "scrolled": true
   },
   "outputs": [],
   "source": [
    "#Just run this cell\n",
    "print(\"Using the linear model, you sounded the alarm \" + str(time_value) + \" days from the start of data collection.\")\n",
    "print(\"Using the tilted cosine model, you sounded the alarm \" + str(time_value_tilted_cosine) + \" days from the start of data collection.\")"
   ]
  },
  {
   "cell_type": "markdown",
   "id": "d32b852b",
   "metadata": {},
   "source": [
    "**Question:** You sounded the alarm in the same week using either of the two models. Does that mean they are just as good as each other? What's a (hypothetical) situation in which the tilted cosine model would produce a signal (a data point outside of the 95% band) but the linear model would not? Compare the shapes of the shaded bands in both models."
   ]
  },
  {
   "cell_type": "markdown",
   "id": "dccd4b3f",
   "metadata": {},
   "source": [
    "<div style=\"text-align: center; margin-top: 10px;\">\n",
    "    <div style=\"width: 100%; height: 30px; border-top: 2px solid black; border-radius: 50px 50px 0 0; margin-top: 10px;\"></div>\n",
    "</div>"
   ]
  },
  {
   "cell_type": "markdown",
   "id": "7080039b",
   "metadata": {},
   "source": [
    "_Replace this with your answer._ "
   ]
  },
  {
   "cell_type": "markdown",
   "id": "1dae032c",
   "metadata": {},
   "source": [
    "<div style=\"text-align: center; margin-top: 10px;\">\n",
    "    <div style=\"width: 100%; height: 30px; border-bottom: 2px solid black; border-radius: 0 0 50px 50px; margin-top: 10px;\"></div>\n",
    "</div>"
   ]
  },
  {
   "cell_type": "markdown",
   "id": "10edce89",
   "metadata": {},
   "source": [
    "**The reveal: day 0 of our data refers to the total number of deaths during the week ending on `2015-01-10`.**\n",
    "\n",
    "Let's finally find out what happened 1904 days from the start of data collection!"
   ]
  },
  {
   "cell_type": "code",
   "execution_count": null,
   "id": "796352af",
   "metadata": {},
   "outputs": [],
   "source": [
    "#Just run this cell\n",
    "start_date = datetime(2015, 1, 10)\n",
    "days_to_add = 1904\n",
    "new_date = start_date + timedelta(days=days_to_add)\n",
    "print(new_date.date())"
   ]
  },
  {
   "cell_type": "markdown",
   "id": "edbf27f0",
   "metadata": {},
   "source": [
    "The signal shows that there is a dramatic increase in the number of deaths in the US during the week ending on this date. What might be the reason? You might already know. But to be sure, let's find out using multiple lines of evidence."
   ]
  },
  {
   "cell_type": "markdown",
   "id": "96c20c18",
   "metadata": {},
   "source": [
    "**Question:** Go to [The New York Times archives](https://www.nytimes.com/search/) (or any other national or global news source) and look at headlines on March 28, 2020. What do you think is the primary cause of the high death count in the week we sounded the alarm?"
   ]
  },
  {
   "cell_type": "markdown",
   "id": "a8c24b62",
   "metadata": {},
   "source": [
    "<div style=\"text-align: center; margin-top: 10px;\">\n",
    "    <div style=\"width: 100%; height: 30px; border-top: 2px solid black; border-radius: 50px 50px 0 0; margin-top: 10px;\"></div>\n",
    "</div>"
   ]
  },
  {
   "cell_type": "markdown",
   "id": "03d384bf",
   "metadata": {},
   "source": [
    "_Replace this with your answer._"
   ]
  },
  {
   "cell_type": "markdown",
   "id": "7d8f5c94",
   "metadata": {},
   "source": [
    "<div style=\"text-align: center; margin-top: 10px;\">\n",
    "    <div style=\"width: 100%; height: 30px; border-bottom: 2px solid black; border-radius: 0 0 50px 50px; margin-top: 10px;\"></div>\n",
    "</div>"
   ]
  },
  {
   "cell_type": "markdown",
   "id": "40d4dc9b",
   "metadata": {},
   "source": [
    "**Question:** Now compare to headlines on March 21, 2020, one week before. What are some qualitative differences in the stories being reported on? Does it agree with our data that the death count jumped suddenly within the week of March 21-March 28?"
   ]
  },
  {
   "cell_type": "markdown",
   "id": "ede0e8bc",
   "metadata": {},
   "source": [
    "<div style=\"text-align: center; margin-top: 10px;\">\n",
    "    <div style=\"width: 100%; height: 30px; border-top: 2px solid black; border-radius: 50px 50px 0 0; margin-top: 10px;\"></div>\n",
    "</div>"
   ]
  },
  {
   "cell_type": "markdown",
   "id": "eb88f5d2",
   "metadata": {},
   "source": [
    "_Replace this with your answer._ "
   ]
  },
  {
   "cell_type": "markdown",
   "id": "9ea4c86a",
   "metadata": {},
   "source": [
    "<div style=\"text-align: center; margin-top: 10px;\">\n",
    "    <div style=\"width: 100%; height: 30px; border-bottom: 2px solid black; border-radius: 0 0 50px 50px; margin-top: 10px;\"></div>\n",
    "</div>"
   ]
  },
  {
   "cell_type": "markdown",
   "id": "6e0be0b0",
   "metadata": {},
   "source": [
    "**Question:** Take a look at [this data](https://covidtracking.com/data/national/deaths) from The COVID Tracking Project, and observe the daily numbers of confirmed COVID deaths in the days before and after March 21, 2020. Were there any COVID deaths before the week of March 21-28? Why didn't we sound the alarm (i.e. detect a signal) before March 28?\n",
    "\n",
    "*Hint: Consider the error bars in our data.*"
   ]
  },
  {
   "cell_type": "markdown",
   "id": "93ada8ed",
   "metadata": {},
   "source": [
    "<div style=\"text-align: center; margin-top: 10px;\">\n",
    "    <div style=\"width: 100%; height: 30px; border-top: 2px solid black; border-radius: 50px 50px 0 0; margin-top: 10px;\"></div>\n",
    "</div>"
   ]
  },
  {
   "cell_type": "markdown",
   "id": "243388c5",
   "metadata": {},
   "source": [
    "_Replace this with your answer._ "
   ]
  },
  {
   "cell_type": "markdown",
   "id": "bd4dfe4c",
   "metadata": {},
   "source": [
    "<div style=\"text-align: center; margin-top: 10px;\">\n",
    "    <div style=\"width: 100%; height: 30px; border-bottom: 2px solid black; border-radius: 0 0 50px 50px; margin-top: 10px;\"></div>\n",
    "</div>"
   ]
  },
  {
   "cell_type": "markdown",
   "id": "770d7d3a",
   "metadata": {},
   "source": [
    "## Part 4: Estimate the total number of excess deaths"
   ]
  },
  {
   "cell_type": "markdown",
   "id": "f1e48041",
   "metadata": {},
   "source": [
    "Earlier we came up with a test to identify a signal (i.e. when something is out of the ordinary). In the context of weekly deaths, this is when the number of deaths is a lot more or a lot less than what we would have expected from past trends. **The CDC defines excess death \"as the difference between the observed numbers of deaths in specific time periods and expected numbers of deaths in the same time periods.\"** Our data and modelling shows that there is a significant number of (positive) excess deaths starting from the week of March 21-28, 2020.\n",
    "\n",
    "During the COVID pandemic, a death was recorded as \"COVID-related\" if it was declared in a hospital on a patient that tested positive for COVID. However, COVID-related deaths recorded in this way may not reflect the true number of deaths directly or indirectly due to the disease."
   ]
  },
  {
   "cell_type": "markdown",
   "id": "5123a2e7",
   "metadata": {},
   "source": [
    "**Question:** List a few reasons why the true number of deaths directly or indirectly due to COVID might be higher or lower than the recorded COVID-related deaths."
   ]
  },
  {
   "cell_type": "markdown",
   "id": "07ff9e80",
   "metadata": {},
   "source": [
    "<div style=\"text-align: center; margin-top: 10px;\">\n",
    "    <div style=\"width: 100%; height: 30px; border-top: 2px solid black; border-radius: 50px 50px 0 0; margin-top: 10px;\"></div>\n",
    "</div>"
   ]
  },
  {
   "cell_type": "markdown",
   "id": "ba8b09b3",
   "metadata": {},
   "source": [
    "_Replace this with your answer._ "
   ]
  },
  {
   "cell_type": "markdown",
   "id": "dd4757d6",
   "metadata": {},
   "source": [
    "<div style=\"text-align: center; margin-top: 10px;\">\n",
    "    <div style=\"width: 100%; height: 30px; border-bottom: 2px solid black; border-radius: 0 0 50px 50px; margin-top: 10px;\"></div>\n",
    "</div>"
   ]
  },
  {
   "cell_type": "markdown",
   "id": "3257082f",
   "metadata": {},
   "source": [
    "**Question:** How can the excess death number (data point minus the model value) be complementary to the recorded COVID-related deaths? Why is it useful?"
   ]
  },
  {
   "cell_type": "markdown",
   "id": "453e47ea",
   "metadata": {},
   "source": [
    "<div style=\"text-align: center; margin-top: 10px;\">\n",
    "    <div style=\"width: 100%; height: 30px; border-top: 2px solid black; border-radius: 50px 50px 0 0; margin-top: 10px;\"></div>\n",
    "</div>"
   ]
  },
  {
   "cell_type": "markdown",
   "id": "3daa39c4",
   "metadata": {},
   "source": [
    "_Replace this with your answer._ "
   ]
  },
  {
   "cell_type": "markdown",
   "id": "e92df519",
   "metadata": {},
   "source": [
    "<div style=\"text-align: center; margin-top: 10px;\">\n",
    "    <div style=\"width: 100%; height: 30px; border-bottom: 2px solid black; border-radius: 0 0 50px 50px; margin-top: 10px;\"></div>\n",
    "</div>"
   ]
  },
  {
   "cell_type": "markdown",
   "id": "de06ef62",
   "metadata": {},
   "source": [
    "As soon as you sounded the alarm, all hell broke loose, and the number of weekly deaths since then has remained abnormal. Fastforward to three years after our first signal. Let's plot the data over this entire time period below, along with the tilted cosine model we defined earlier. The last data point refers to the week ending on September 16, 2023."
   ]
  },
  {
   "cell_type": "code",
   "execution_count": null,
   "id": "32c1c8a6",
   "metadata": {},
   "outputs": [],
   "source": [
    "# Just run this cell. \n",
    "plotAllData()"
   ]
  },
  {
   "cell_type": "markdown",
   "id": "4068c72e-56b4-4af4-bdd4-92771939c002",
   "metadata": {},
   "source": [
    "As a CDC statistician, you are tasked with finding the total number of excess deaths since March 21, 2020, i.e. since the week ending in March 28, 2020. You first find the **actual total number of deaths** by summing up all data points since March 28, 2020."
   ]
  },
  {
   "cell_type": "code",
   "execution_count": null,
   "id": "923a61c4-db10-4a97-b220-4b7d98e0d84a",
   "metadata": {},
   "outputs": [],
   "source": [
    "march_28_2020_day = pd.to_datetime('2020-03-28')\n",
    "march_28_2020_index = excessdeaths[excessdeaths['Week Ending Date'] == march_28_2020_day].index[0]\n",
    "actual_deaths = sum(all_ydata[march_28_2020_index:])\n",
    "print(int(actual_deaths))"
   ]
  },
  {
   "cell_type": "markdown",
   "id": "ce665fee-14af-47fb-bfa2-480c6aba5509",
   "metadata": {},
   "source": [
    "You then find the **total number of predicted deaths** by summing up the weekly death counts as predicted by your model, in this case the tilted cosine model."
   ]
  },
  {
   "cell_type": "code",
   "execution_count": null,
   "id": "42930045-659e-4e62-90ef-3169ef75909b",
   "metadata": {},
   "outputs": [],
   "source": [
    "model_ydata = tilted_cosine(all_xdata, A_fit, T_fit, x0_fit, B_fit, C_fit)\n",
    "model_deaths = sum(model_ydata[march_28_2020_index:])\n",
    "print(int(model_deaths))"
   ]
  },
  {
   "cell_type": "markdown",
   "id": "9eb61a0b",
   "metadata": {},
   "source": [
    "**Question**: Using these numbers, calculate the total number of excess deaths between the week ending in March 28, 2020 and the week ending in September 16, 2023."
   ]
  },
  {
   "cell_type": "markdown",
   "id": "2048c498-cb3d-4641-a10e-b0adfaaf4a9c",
   "metadata": {},
   "source": [
    "<div style=\"text-align: center; margin-top: 10px;\">\n",
    "    <div style=\"width: 100%; height: 30px; border-top: 2px solid black; border-radius: 50px 50px 0 0; margin-top: 10px;\"></div>\n",
    "</div>"
   ]
  },
  {
   "cell_type": "markdown",
   "id": "59833cc7-85e1-4a95-a316-9a33501d485d",
   "metadata": {},
   "source": [
    "_Replace this with your answer._ "
   ]
  },
  {
   "cell_type": "markdown",
   "id": "5758b03d-09bd-4120-8bb7-4f6d4b3bb022",
   "metadata": {},
   "source": [
    "<div style=\"text-align: center; margin-top: 10px;\">\n",
    "    <div style=\"width: 100%; height: 30px; border-bottom: 2px solid black; border-radius: 0 0 50px 50px; margin-top: 10px;\"></div>\n",
    "</div>"
   ]
  },
  {
   "cell_type": "markdown",
   "id": "194af392",
   "metadata": {},
   "source": [
    "**Question**: The CDC used a more sophisticated model (an even higher order refinement of our model). To find their estimate, visit this [CDC page](https://www.cdc.gov/nchs/nvss/vsrr/covid19/excess_deaths.htm), navigate down to the dashboard, select \"Number of Excess Deaths,\" and click the \"Update Dashboard\" button. There will an overall number for the US displayed.\n",
    "\n",
    "Note that their analysis begins on February 1, 2020, which differs slightly from our start date. However, in the context of orders of magnitude, an extra couple months before the pandemic peak has minimal impact on overall trends. In your answer below, state what number of excess deaths they estimated, how it compares to the value you obtained? "
   ]
  },
  {
   "cell_type": "markdown",
   "id": "23c74488",
   "metadata": {},
   "source": [
    "<div style=\"text-align: center; margin-top: 10px;\">\n",
    "    <div style=\"width: 100%; height: 30px; border-top: 2px solid black; border-radius: 50px 50px 0 0; margin-top: 10px;\"></div>\n",
    "</div>"
   ]
  },
  {
   "cell_type": "markdown",
   "id": "769021d6",
   "metadata": {},
   "source": [
    "_Replace this with your answer._ "
   ]
  },
  {
   "cell_type": "markdown",
   "id": "ed095316",
   "metadata": {},
   "source": [
    "<div style=\"text-align: center; margin-top: 10px;\">\n",
    "    <div style=\"width: 100%; height: 30px; border-bottom: 2px solid black; border-radius: 0 0 50px 50px; margin-top: 10px;\"></div>\n",
    "</div>"
   ]
  },
  {
   "cell_type": "markdown",
   "id": "676347a8",
   "metadata": {},
   "source": [
    "**Question**: Since the CDC used a different model than we did, the excess death numbers are not the same (but very close). We could have also calculated the number of excess deaths with our crude linear model and gotten yet another number. Is there a true number of excess deaths?"
   ]
  },
  {
   "cell_type": "markdown",
   "id": "884765f4",
   "metadata": {},
   "source": [
    "<div style=\"text-align: center; margin-top: 10px;\">\n",
    "    <div style=\"width: 100%; height: 30px; border-top: 2px solid black; border-radius: 50px 50px 0 0; margin-top: 10px;\"></div>\n",
    "</div>"
   ]
  },
  {
   "cell_type": "markdown",
   "id": "ebc2b7c8",
   "metadata": {},
   "source": [
    "_Replace this with your answer._ "
   ]
  },
  {
   "cell_type": "markdown",
   "id": "30db67fd",
   "metadata": {},
   "source": [
    "<div style=\"text-align: center; margin-top: 10px;\">\n",
    "    <div style=\"width: 100%; height: 30px; border-bottom: 2px solid black; border-radius: 0 0 50px 50px; margin-top: 10px;\"></div>\n",
    "</div>"
   ]
  },
  {
   "cell_type": "markdown",
   "id": "d84c4ab0",
   "metadata": {},
   "source": [
    "**[Optional Philosophical Question]**: If the number of excess deaths depends on our choice of model, is any estimate of excess deaths just as good as any other estimate? *Hint: Remember Isaac Asimov's [letter on the shape of the Earth](https://sensibility.berkeley.edu/images/c/cb/The_Relativity_of_Wrong_-_Asimov.pdf)?*"
   ]
  },
  {
   "cell_type": "markdown",
   "id": "fa290ee9",
   "metadata": {},
   "source": [
    "<div style=\"text-align: center; margin-top: 10px;\">\n",
    "    <div style=\"width: 100%; height: 30px; border-top: 2px solid black; border-radius: 50px 50px 0 0; margin-top: 10px;\"></div>\n",
    "</div>"
   ]
  },
  {
   "cell_type": "markdown",
   "id": "863b0c89",
   "metadata": {},
   "source": [
    "_Replace this with your answer._ "
   ]
  },
  {
   "cell_type": "markdown",
   "id": "014e1e38",
   "metadata": {},
   "source": [
    "<div style=\"text-align: center; margin-top: 10px;\">\n",
    "    <div style=\"width: 100%; height: 30px; border-bottom: 2px solid black; border-radius: 0 0 50px 50px; margin-top: 10px;\"></div>\n",
    "</div>"
   ]
  },
  {
   "cell_type": "markdown",
   "id": "f6aca2f6",
   "metadata": {},
   "source": [
    "With hindsight, it seems quite obvious that COVID caused the weekly deaths to be heightened for at least two years. However, as good scientists, we must consider possible confounds and alternative explanations. Since it's impossible to conduct an RCT by introducing the virus to some populations and not in others, we must rely on *Hill's Criteria* to show compelling evidence that COVID-19 caused excess deaths.\n",
    "\n",
    "**Question:** For each of Hill's criteria, what evidence, if observed, would support that criterion?"
   ]
  },
  {
   "cell_type": "markdown",
   "id": "bf4f004b",
   "metadata": {},
   "source": [
    "- **Prior Plausability:** _Replace this text with your answer_\n",
    "- **Temporality/Temporal Sequence:** _Replace this text with your answer_\n",
    "- **Specificity:** _Replace this text with your answer_\n",
    "- **Dose-response Curve:** _Replace this text with your answer_\n",
    "- **Consistency Across Contexts:** _Replace this text with your answer_"
   ]
  },
  {
   "cell_type": "markdown",
   "id": "cdc2c102",
   "metadata": {},
   "source": [
    "**Question**: In the language of singular and general causation, what is the difference between (1) a doctor recording a patient as dying of COVID and (2) you using Hill's Criteria to infer that these excess deaths are due to COVID?"
   ]
  },
  {
   "cell_type": "markdown",
   "id": "bc5af444",
   "metadata": {},
   "source": [
    "<div style=\"text-align: center; margin-top: 10px;\">\n",
    "    <div style=\"width: 100%; height: 30px; border-top: 2px solid black; border-radius: 50px 50px 0 0; margin-top: 10px;\"></div>\n",
    "</div>"
   ]
  },
  {
   "cell_type": "markdown",
   "id": "f650c162",
   "metadata": {},
   "source": [
    "_Replace this with your answer._ "
   ]
  },
  {
   "cell_type": "markdown",
   "id": "008ed7e6",
   "metadata": {},
   "source": [
    "<div style=\"text-align: center; margin-top: 10px;\">\n",
    "    <div style=\"width: 100%; height: 30px; border-bottom: 2px solid black; border-radius: 0 0 50px 50px; margin-top: 10px;\"></div>\n",
    "</div>"
   ]
  },
  {
   "cell_type": "markdown",
   "id": "e82a8c82",
   "metadata": {},
   "source": [
    "**Question**: Name a few alternative causal pathways **other than contracting COVID** that would increase the number of excess deaths during the COVID pandemic. Name some that decrease the number. *Hint: Think of a few government policies that might have affected the behavior of people.*"
   ]
  },
  {
   "cell_type": "markdown",
   "id": "1f3c5ae9",
   "metadata": {},
   "source": [
    "<div style=\"text-align: center; margin-top: 10px;\">\n",
    "    <div style=\"width: 100%; height: 30px; border-top: 2px solid black; border-radius: 50px 50px 0 0; margin-top: 10px;\"></div>\n",
    "</div>"
   ]
  },
  {
   "cell_type": "markdown",
   "id": "f4cdc3b4",
   "metadata": {},
   "source": [
    "_Replace this with your answer._ "
   ]
  },
  {
   "cell_type": "markdown",
   "id": "55608acd",
   "metadata": {},
   "source": [
    "<div style=\"text-align: center; margin-top: 10px;\">\n",
    "    <div style=\"width: 100%; height: 30px; border-bottom: 2px solid black; border-radius: 0 0 50px 50px; margin-top: 10px;\"></div>\n",
    "</div>"
   ]
  },
  {
   "cell_type": "markdown",
   "id": "e728f224",
   "metadata": {},
   "source": [
    "**Question**: In addition to direct deaths caused by COVID, the pandemic caused the government to implement certain policies that either added to or took away from the number of excess deaths. Rank your answers from the greatest effect to the lowest effect. "
   ]
  },
  {
   "cell_type": "markdown",
   "id": "33018152",
   "metadata": {},
   "source": [
    "1. *[Example]* Someone should have gotten a check up and had to delay so their serious illness was not detected in time. \n",
    "2. Replace this with your answer\n",
    "3. Replace this with your answer\n",
    "4. Replace this with your answer\n",
    "5. Replace this with your answer\n"
   ]
  },
  {
   "cell_type": "markdown",
   "id": "f36fe9cc",
   "metadata": {},
   "source": [
    "## Part 5: Interpreting Model Parameters"
   ]
  },
  {
   "cell_type": "markdown",
   "id": "0c20d249",
   "metadata": {},
   "source": [
    "When building models, choosing a mathematical function that fits the data is only one step in truly understanding a phenomenon.\n",
    "There are infinitely many functions that can fit our data, and the tilted cosine function is just one of them. Why did we choose the tilted cosine but not another function? Let's look at the formula again:\n",
    "$$y = A \\cos\\left(\\frac{2\\pi}{T}(x - x_0)\\right) + Bx + C.$$\n",
    "Plugging in the parameter values that fit our data the best:\n",
    "$$y = 4297.25 \\cos \\left( \\frac{2\\pi}{365.37} (x - 23.23) \\right) + 1.91x + 51911.34.$$\n",
    "It may seem overwhelming at first, but it turns out that we can gain some intuitive understanding of each of the parameters!\n",
    "\n",
    "Let's visualise the meanings of the parameters of the tilted cosine model:\n",
    "<div style=\"text-align: center;\"><img src=\"tiltedcosine.png\" width=\"700\" height=\"700\"></div>"
   ]
  },
  {
   "cell_type": "markdown",
   "id": "f7f86193",
   "metadata": {},
   "source": [
    "### 1. Period (T)\n",
    "\n",
    "The period measures the time it takes for a periodic motion to complete one full cycle (i.e. the difference between two peaks)."
   ]
  },
  {
   "cell_type": "markdown",
   "id": "5bdb771b",
   "metadata": {},
   "source": [
    "**Question**: What is the period in our tilted cosine model? In what units? Is this a number you would expect? Explain why. "
   ]
  },
  {
   "cell_type": "markdown",
   "id": "36278640",
   "metadata": {},
   "source": [
    "<div style=\"text-align: center; margin-top: 10px;\">\n",
    "    <div style=\"width: 100%; height: 30px; border-top: 2px solid black; border-radius: 50px 50px 0 0; margin-top: 10px;\"></div>\n",
    "</div>"
   ]
  },
  {
   "cell_type": "markdown",
   "id": "a3d57d64",
   "metadata": {},
   "source": [
    "_Replace this with your answer._ "
   ]
  },
  {
   "cell_type": "markdown",
   "id": "3d009812",
   "metadata": {},
   "source": [
    "<div style=\"text-align: center; margin-top: 10px;\">\n",
    "    <div style=\"width: 100%; height: 30px; border-bottom: 2px solid black; border-radius: 0 0 50px 50px; margin-top: 10px;\"></div>\n",
    "</div>"
   ]
  },
  {
   "cell_type": "markdown",
   "id": "6bd60b12",
   "metadata": {},
   "source": [
    "### 2. Phase Shift ($x_0$)\n",
    "The phase shift controls where in a year the peak occurs. Let's zoom into just the beginning portion of our data."
   ]
  },
  {
   "cell_type": "code",
   "execution_count": null,
   "id": "5f91ed95",
   "metadata": {
    "scrolled": true
   },
   "outputs": [],
   "source": [
    "#Just run this cell.\n",
    "plotMonths()"
   ]
  },
  {
   "cell_type": "markdown",
   "id": "7ab4f430",
   "metadata": {},
   "source": [
    "**Question**: Since day 0 corresponds to January 10, the peak of the tilted cosine curve occurs $x_0$ days after January 10. On what day of the year does the peak death count occur? Why do you think more people die during this time of year (feel free to look this up)?"
   ]
  },
  {
   "cell_type": "markdown",
   "id": "6d424527",
   "metadata": {},
   "source": [
    "<div style=\"text-align: center; margin-top: 10px;\">\n",
    "    <div style=\"width: 100%; height: 30px; border-top: 2px solid black; border-radius: 50px 50px 0 0; margin-top: 10px;\"></div>\n",
    "</div>"
   ]
  },
  {
   "cell_type": "markdown",
   "id": "68856a85",
   "metadata": {},
   "source": [
    "_Replace this with your answer._"
   ]
  },
  {
   "cell_type": "markdown",
   "id": "4b2ae60f",
   "metadata": {},
   "source": [
    "<div style=\"text-align: center; margin-top: 10px;\">\n",
    "    <div style=\"width: 100%; height: 30px; border-bottom: 2px solid black; border-radius: 0 0 50px 50px; margin-top: 10px;\"></div>\n",
    "</div>"
   ]
  },
  {
   "cell_type": "markdown",
   "id": "c1227db5",
   "metadata": {},
   "source": [
    "### 3. Amplitude (A)"
   ]
  },
  {
   "cell_type": "markdown",
   "id": "4cc2f8a3",
   "metadata": {},
   "source": [
    "The amplitude is half the vertical distance between its highest and lowest points on the cosine wave."
   ]
  },
  {
   "cell_type": "markdown",
   "id": "9895c1e9",
   "metadata": {},
   "source": [
    "**Question**: What is the physical meaning of the amplitude in the context of weekly deaths?"
   ]
  },
  {
   "cell_type": "markdown",
   "id": "dfe67b6e",
   "metadata": {},
   "source": [
    "<div style=\"text-align: center; margin-top: 10px;\">\n",
    "    <div style=\"width: 100%; height: 30px; border-top: 2px solid black; border-radius: 50px 50px 0 0; margin-top: 10px;\"></div>\n",
    "</div>"
   ]
  },
  {
   "cell_type": "markdown",
   "id": "bfd1b1e6",
   "metadata": {},
   "source": [
    "_Replace this with your answer._"
   ]
  },
  {
   "cell_type": "markdown",
   "id": "110981e2",
   "metadata": {},
   "source": [
    "<div style=\"text-align: center; margin-top: 10px;\">\n",
    "    <div style=\"width: 100%; height: 30px; border-bottom: 2px solid black; border-radius: 0 0 50px 50px; margin-top: 10px;\"></div>\n",
    "</div>"
   ]
  },
  {
   "cell_type": "markdown",
   "id": "e91c31c8",
   "metadata": {},
   "source": [
    "### 4. Vertical Shift (C) "
   ]
  },
  {
   "cell_type": "markdown",
   "id": "ac5d2990",
   "metadata": {},
   "source": [
    "**Question**: What does the vertical shift mean in the context of weekly deaths?"
   ]
  },
  {
   "cell_type": "markdown",
   "id": "4e3716ed",
   "metadata": {},
   "source": [
    "<div style=\"text-align: center; margin-top: 10px;\">\n",
    "    <div style=\"width: 100%; height: 30px; border-top: 2px solid black; border-radius: 50px 50px 0 0; margin-top: 10px;\"></div>\n",
    "</div>"
   ]
  },
  {
   "cell_type": "markdown",
   "id": "dc0453d3",
   "metadata": {},
   "source": [
    "_Replace this with your answer._"
   ]
  },
  {
   "cell_type": "markdown",
   "id": "9a51289b",
   "metadata": {},
   "source": [
    "<div style=\"text-align: center; margin-top: 10px;\">\n",
    "    <div style=\"width: 100%; height: 30px; border-bottom: 2px solid black; border-radius: 0 0 50px 50px; margin-top: 10px;\"></div>\n",
    "</div>"
   ]
  },
  {
   "cell_type": "markdown",
   "id": "f32a773a",
   "metadata": {},
   "source": [
    "### 5. Slope (B) "
   ]
  },
  {
   "cell_type": "markdown",
   "id": "2434e2c7",
   "metadata": {},
   "source": [
    "**Question**: Why is our cosine model tilted? In other words, while it keeps its overall wavy shape in a given year, why does this shape shift _upward_ every year?"
   ]
  },
  {
   "cell_type": "markdown",
   "id": "e7ad49c9",
   "metadata": {},
   "source": [
    "<div style=\"text-align: center; margin-top: 10px;\">\n",
    "    <div style=\"width: 100%; height: 30px; border-top: 2px solid black; border-radius: 50px 50px 0 0; margin-top: 10px;\"></div>\n",
    "</div>"
   ]
  },
  {
   "cell_type": "markdown",
   "id": "4f709e03",
   "metadata": {},
   "source": [
    "_Replace this with your answer._ "
   ]
  },
  {
   "cell_type": "markdown",
   "id": "e48f522e",
   "metadata": {},
   "source": [
    "<div style=\"text-align: center; margin-top: 10px;\">\n",
    "    <div style=\"width: 100%; height: 30px; border-bottom: 2px solid black; border-radius: 0 0 50px 50px; margin-top: 10px;\"></div>\n",
    "</div>"
   ]
  },
  {
   "cell_type": "markdown",
   "id": "0b62416d",
   "metadata": {},
   "source": [
    "**Question**: Our model estimates that the weekly death count increases by 1.9 per day. This is the slope $B$. Say the weekly death count is about 53,000. What is the percentage increase of the weekly death count per day? Estimate how much the weekly death count would increase year on year. \n",
    "\n",
    "(Hint: Multiply percentage increase per day by the number of days in a year.)\n"
   ]
  },
  {
   "cell_type": "code",
   "execution_count": null,
   "id": "eb5853b1",
   "metadata": {},
   "outputs": [],
   "source": [
    "model_pop_growth = (1.9/53000 * 365) * 100\n",
    "print(f\"Based on the parameters in our model, the weekly death count increases by {round(model_pop_growth, 2)}% year on year.\")"
   ]
  },
  {
   "cell_type": "markdown",
   "id": "d2426e44",
   "metadata": {},
   "source": [
    "**Question**: Why do you think the weekly death count increases over time, even in the absence of COVID?"
   ]
  },
  {
   "cell_type": "markdown",
   "id": "6c0dda09",
   "metadata": {},
   "source": [
    "<div style=\"text-align: center; margin-top: 10px;\">\n",
    "    <div style=\"width: 100%; height: 30px; border-top: 2px solid black; border-radius: 50px 50px 0 0; margin-top: 10px;\"></div>\n",
    "</div>"
   ]
  },
  {
   "cell_type": "markdown",
   "id": "2f7d989e",
   "metadata": {},
   "source": [
    "_Replace this with your answer._"
   ]
  },
  {
   "cell_type": "markdown",
   "id": "02910d3e",
   "metadata": {},
   "source": [
    "<div style=\"text-align: center; margin-top: 10px;\">\n",
    "    <div style=\"width: 100%; height: 30px; border-bottom: 2px solid black; border-radius: 0 0 50px 50px; margin-top: 10px;\"></div>\n",
    "</div>"
   ]
  },
  {
   "cell_type": "markdown",
   "id": "16c6a734",
   "metadata": {},
   "source": [
    "**Question**: Look up the population growth rate of the United States (you can use [this source](https://datacommons.org/tools/timeline#&place=country/USA&statsVar=GrowthRate_Count_Person)). How does our yearly growth rate of death counts compare to the yearly growth rate of the US population? Is this what you would expect? Why?"
   ]
  },
  {
   "cell_type": "markdown",
   "id": "f0ad2179",
   "metadata": {},
   "source": [
    "<div style=\"text-align: center; margin-top: 10px;\">\n",
    "    <div style=\"width: 100%; height: 30px; border-top: 2px solid black; border-radius: 50px 50px 0 0; margin-top: 10px;\"></div>\n",
    "</div>"
   ]
  },
  {
   "cell_type": "markdown",
   "id": "b1d45035",
   "metadata": {},
   "source": [
    "_Replace this with your answer._"
   ]
  },
  {
   "cell_type": "markdown",
   "id": "776b4ee3",
   "metadata": {},
   "source": [
    "<div style=\"text-align: center; margin-top: 10px;\">\n",
    "    <div style=\"width: 100%; height: 30px; border-bottom: 2px solid black; border-radius: 0 0 50px 50px; margin-top: 10px;\"></div>\n",
    "</div>"
   ]
  },
  {
   "cell_type": "markdown",
   "id": "0599377e",
   "metadata": {},
   "source": [
    "**Optional Question:** If the two figures differ, are you able to explain this difference by considering the population growth rate of different age groups in the US? (You can use [this source](https://www.census.gov/library/stories/2023/05/2020-census-united-states-older-population-grew.html).)"
   ]
  },
  {
   "cell_type": "markdown",
   "id": "b6471eb1",
   "metadata": {},
   "source": [
    "**Hint**: Elderly population growth (3.3%) is higher than overall US population growth."
   ]
  },
  {
   "cell_type": "markdown",
   "id": "e9a9aae9",
   "metadata": {},
   "source": [
    "<div style=\"text-align: center; margin-top: 10px;\">\n",
    "    <div style=\"width: 100%; height: 30px; border-top: 2px solid black; border-radius: 50px 50px 0 0; margin-top: 10px;\"></div>\n",
    "</div>"
   ]
  },
  {
   "cell_type": "markdown",
   "id": "3f6911f9",
   "metadata": {},
   "source": [
    "_Replace this with your answer._"
   ]
  },
  {
   "cell_type": "markdown",
   "id": "7aaa3f63",
   "metadata": {},
   "source": [
    "<div style=\"text-align: center; margin-top: 10px;\">\n",
    "    <div style=\"width: 100%; height: 30px; border-bottom: 2px solid black; border-radius: 0 0 50px 50px; margin-top: 10px;\"></div>\n",
    "</div>"
   ]
  },
  {
   "cell_type": "markdown",
   "id": "05751106",
   "metadata": {},
   "source": [
    "### Beyond our model"
   ]
  },
  {
   "cell_type": "markdown",
   "id": "37d49260",
   "metadata": {},
   "source": [
    "Choosing a model whose parameters can be interpreted as something physical in the real world means that we can exploit additional intution to assess the qualitative features of the model.\n",
    "\n",
    "Modern machine learning models are extremely powerful. Their main advantage is that they require little to no human intervention (as seen in unsupervised learning) while achieving high predictive performance. However, a significant drawback is that these models, such as neural network models, contain a vast number of parameters—ranging from thousands to even trillions in the case of large language models. Therefore, the interpretability of any single parameter becomes intractable.\n",
    "\n",
    "Simple models such as the ones we have been investigating in this module still have great utility even if large machine learning models have better predictive power.\n",
    "\n",
    "**Question:** What problems might arise if we used a neural network model (say using 1000 parameters instead of the five above) on our data?"
   ]
  },
  {
   "cell_type": "markdown",
   "id": "575b6fbf",
   "metadata": {},
   "source": [
    "<div style=\"text-align: center; margin-top: 10px;\">\n",
    "    <div style=\"width: 100%; height: 30px; border-top: 2px solid black; border-radius: 50px 50px 0 0; margin-top: 10px;\"></div>\n",
    "</div>"
   ]
  },
  {
   "cell_type": "markdown",
   "id": "fa6919a9",
   "metadata": {},
   "source": [
    "_Replace this with your answer._"
   ]
  },
  {
   "cell_type": "markdown",
   "id": "781f590d",
   "metadata": {},
   "source": [
    "<div style=\"text-align: center; margin-top: 10px;\">\n",
    "    <div style=\"width: 100%; height: 30px; border-bottom: 2px solid black; border-radius: 0 0 50px 50px; margin-top: 10px;\"></div>\n",
    "</div>"
   ]
  },
  {
   "cell_type": "markdown",
   "id": "e995dd7c",
   "metadata": {},
   "source": [
    "## Part 6: Blind Analysis"
   ]
  },
  {
   "cell_type": "markdown",
   "id": "71d8bcce-c5d8-4322-8567-f9f90f882a5c",
   "metadata": {},
   "source": [
    "In parts 1 and 2, we intentionally withheld the information from you that the data referred to weekly deaths in the US. If we had told you this as well as the exact dates on the *x*-axis, then you would've been expecting a significant jump in death counts around March 2020. As a good scientist, you should not be making various choices in your data analysis in order to fit a certain expected result, but it can be very tempting to do so. In fact, we hid this information from you to make sure you don't unconsciously do so. This is one of the many techniques in **blind analysis**—hiding or obfuscating certain aspects of the data, so that the statistical analysis can be performed on its own merits, without appealing to expectedness of the results.\n",
    "\n",
    "**Question:** What choices did we make during our data analysis that could've had an impact on whether we would've sounded the alarm on March 28, 2020?"
   ]
  },
  {
   "cell_type": "markdown",
   "id": "8c4169ad-6b19-4112-be47-0a706ea8fb3b",
   "metadata": {},
   "source": [
    "<div style=\"text-align: center; margin-top: 10px;\">\n",
    "    <div style=\"width: 100%; height: 30px; border-top: 2px solid black; border-radius: 50px 50px 0 0; margin-top: 10px;\"></div>\n",
    "</div>"
   ]
  },
  {
   "cell_type": "markdown",
   "id": "e7c58280-e874-4262-bc78-ecdc0f3e208b",
   "metadata": {},
   "source": [
    "_Replace this with your answer._"
   ]
  },
  {
   "cell_type": "markdown",
   "id": "7a007712-15af-46a7-988c-ddfd0b96adf9",
   "metadata": {},
   "source": [
    "<div style=\"text-align: center; margin-top: 10px;\">\n",
    "    <div style=\"width: 100%; height: 30px; border-bottom: 2px solid black; border-radius: 0 0 50px 50px; margin-top: 10px;\"></div>\n",
    "</div>"
   ]
  },
  {
   "cell_type": "markdown",
   "id": "3d0d7fa6-0980-4205-a83b-7951b44ec26e",
   "metadata": {},
   "source": [
    "**Question:** How did it feel to analyse a data set without knowing what it represents?"
   ]
  },
  {
   "cell_type": "markdown",
   "id": "712e33a5-b121-4e24-8f30-d05631ca53d8",
   "metadata": {},
   "source": [
    "<div style=\"text-align: center; margin-top: 10px;\">\n",
    "    <div style=\"width: 100%; height: 30px; border-top: 2px solid black; border-radius: 50px 50px 0 0; margin-top: 10px;\"></div>\n",
    "</div>"
   ]
  },
  {
   "cell_type": "markdown",
   "id": "b5f5dd22-6890-4ac3-b42f-6b159a9a6dad",
   "metadata": {},
   "source": [
    "_Replace this with your answer._"
   ]
  },
  {
   "cell_type": "markdown",
   "id": "5fad6e47-cc17-4307-89c7-dadeddf55401",
   "metadata": {},
   "source": [
    "<div style=\"text-align: center; margin-top: 10px;\">\n",
    "    <div style=\"width: 100%; height: 30px; border-bottom: 2px solid black; border-radius: 0 0 50px 50px; margin-top: 10px;\"></div>\n",
    "</div>"
   ]
  },
  {
   "cell_type": "markdown",
   "id": "5df4b842-aa2c-4dec-b04f-b9d09bf64083",
   "metadata": {},
   "source": [
    "# Post-lab"
   ]
  },
  {
   "cell_type": "markdown",
   "id": "be43b895",
   "metadata": {},
   "source": [
    "Name four things that you learned through this module."
   ]
  },
  {
   "cell_type": "markdown",
   "id": "004030a0",
   "metadata": {},
   "source": [
    "<div style=\"text-align: center; margin-top: 10px;\">\n",
    "    <div style=\"width: 100%; height: 30px; border-top: 2px solid black; border-radius: 50px 50px 0 0; margin-top: 10px;\"></div>\n",
    "</div>"
   ]
  },
  {
   "cell_type": "markdown",
   "id": "d31135c3",
   "metadata": {},
   "source": [
    "1. Replace this with your answer\n",
    "2. Replace this with your answer\n",
    "3. Replace this with your answer\n",
    "4. Replace this with your answer"
   ]
  },
  {
   "cell_type": "markdown",
   "id": "89cd56ac",
   "metadata": {},
   "source": [
    "<div style=\"text-align: center; margin-top: 10px;\">\n",
    "    <div style=\"width: 100%; height: 30px; border-bottom: 2px solid black; border-radius: 0 0 50px 50px; margin-top: 10px;\"></div>\n",
    "</div>"
   ]
  },
  {
   "cell_type": "markdown",
   "id": "70ef4059",
   "metadata": {},
   "source": [
    "_Developed by Arfa Momin, Winston Yin, and Aditya Ranganathan._"
   ]
  },
  {
   "cell_type": "code",
   "execution_count": null,
   "id": "dcd19383-0113-4e10-ad75-f1ffff7f3426",
   "metadata": {},
   "outputs": [],
   "source": []
  }
 ],
 "metadata": {
  "kernelspec": {
   "display_name": "Python 3 (ipykernel)",
   "language": "python",
   "name": "python3"
  },
  "language_info": {
   "codemirror_mode": {
    "name": "ipython",
    "version": 3
   },
   "file_extension": ".py",
   "mimetype": "text/x-python",
   "name": "python",
   "nbconvert_exporter": "python",
   "pygments_lexer": "ipython3",
   "version": "3.13.2"
  }
 },
 "nbformat": 4,
 "nbformat_minor": 5
}
