{
 "cells": [
  {
   "cell_type": "code",
   "execution_count": 13,
   "id": "d6a0d9a4",
   "metadata": {},
   "outputs": [],
   "source": [
    "import numpy as np\n",
    "import pandas as pd\n",
    "import matplotlib.pyplot as plt\n",
    "from sklearn.linear_model import LinearRegression\n",
    "from sklearn.linear_model import LogisticRegression\n",
    "from scipy.stats import logistic\n",
    "from scipy import stats"
   ]
  },
  {
   "cell_type": "markdown",
   "id": "76ce01d1",
   "metadata": {},
   "source": [
    "# Investigating Sports Team Success and Housing Prices"
   ]
  },
  {
   "cell_type": "markdown",
   "id": "5d1c8b33",
   "metadata": {},
   "source": [
    "## Introduction:\n",
    "\n",
    "In this assignment, you will analyze a dataset to evaluate whether investing in sports teams could potentially boost the economy of US cities through increasing housing prices. As a data scientist hired by a policymaker, your task is to provide evidence supporting or refuting the claims made by sports teams regarding their economic benefits. "
   ]
  },
  {
   "cell_type": "code",
   "execution_count": 3,
   "id": "43c1357c",
   "metadata": {},
   "outputs": [
    {
     "name": "stdout",
     "output_type": "stream",
     "text": [
      "              city state  pricesept2021  successteams  violentcrime2019  \\\n",
      "0         Chandler    AZ           1450             0             0.593   \n",
      "1          Gilbert    AZ           1660             0             0.245   \n",
      "2         Glendale    AZ           1130             0             0.863   \n",
      "3             Mesa    AZ           1160             0             1.953   \n",
      "4          Phoenix    AZ           1260             1            11.803   \n",
      "..             ...   ...            ...           ...               ...   \n",
      "93        Richmond    VA           1090             0             1.068   \n",
      "94  Virginia Beach    VA           1290             0             0.581   \n",
      "95         Seattle    WA           1690             1             4.471   \n",
      "96         Spokane    WA           1000             0             1.520   \n",
      "97         Madison    WI           1250             0             0.940   \n",
      "\n",
      "    numberbars  aqi2020         gdp    popul2019  nteams  \n",
      "0           79      119  237.470001   259.881012       0  \n",
      "1           29      119  237.470001   253.619003       0  \n",
      "2           80      119   11.037726   253.951004       0  \n",
      "3           16      119  237.470001   518.159973       0  \n",
      "4          425      119  237.473007  1688.722046       3  \n",
      "..         ...      ...         ...          ...     ...  \n",
      "93         146       38   78.702003   230.720993       0  \n",
      "94         197       34   89.523003   449.037994       0  \n",
      "95         743       43  382.630005   763.705994       2  \n",
      "96         177       41   26.872999   220.432007       0  \n",
      "97         207       40   46.327000   261.269989       0  \n",
      "\n",
      "[98 rows x 10 columns]\n"
     ]
    }
   ],
   "source": [
    "# Let's read in the data.\n",
    "file_path = '/Users/mirandashen/Desktop/Villas-Boas_2023pset3.dta'\n",
    "df = pd.read_stata(file_path)\n",
    "print(df)"
   ]
  },
  {
   "cell_type": "markdown",
   "id": "250f6758",
   "metadata": {},
   "source": [
    "This dataset contains characteristics for 98 US cities from 2019 to 2021. You will investigate the following variables:\n",
    "\n",
    "| Variable      | Definition                                           | Source             |\n",
    "|---------------|------------------------------------------------------|--------------------|\n",
    "| city          | City name                                            |                    |\n",
    "| state         | State name                                           |                    |\n",
    "| pricesept2021 | One bedroom housing price, in USD                   | www.Zumper.com     |\n",
    "| successteams  | Dummy variable =1 if at least one NBA, NFL, or MLB team in a city had a winning record last season (2020 season), =0 otherwise | Google search |\n",
    "| violentcrime2019 | Violent crimes (in thousands)                      | FBI                |\n",
    "| numberbars    | Number of bars, count                               | www.yellowpages.com|\n",
    "| aqi2020       | Annual 2020 air quality index (AQI)                 | EPA                |\n",
    "| gdp           | Gross domestic product (billion $)                  | BEA                |\n",
    "| popuul2019    | 2019 population (in thousands of people)            | FBI                |\n",
    "| nteams        | Number of major professional sports teams           | Google search      |\n"
   ]
  },
  {
   "cell_type": "markdown",
   "id": "e4d5948c",
   "metadata": {},
   "source": [
    "Run the following cell to group the dataset by the success of sports teams in each city and plot histograms of one-bedroom housing prices for cities with successful and unsuccessful sports teams. The x-axis represents housing prices in USD, and the y-axis represents frequency."
   ]
  },
  {
   "cell_type": "code",
   "execution_count": 4,
   "id": "edba56ea",
   "metadata": {},
   "outputs": [
    {
     "data": {
      "image/png": "[encoded data removed]",
      "text/plain": [
       "<Figure size 432x288 with 1 Axes>"
      ]
     },
     "metadata": {
      "needs_background": "light"
     },
     "output_type": "display_data"
    }
   ],
   "source": [
    "grouped_data = df.groupby('successteams')\n",
    "grouped_data['pricesept2021'].hist(alpha=0.5, bins=10)\n",
    "plt.xlabel('One Bedroom Housing Price (USD)')\n",
    "plt.ylabel('Frequency')\n",
    "plt.legend(['Unsccessful Sports Teams', 'Successful Sports Teams'])\n",
    "plt.title('Distribution of Housing Prices by Sports Team Success')\n",
    "plt.show()"
   ]
  },
  {
   "cell_type": "markdown",
   "id": "a2385659",
   "metadata": {},
   "source": [
    "## Question 1:"
   ]
  },
  {
   "cell_type": "markdown",
   "id": "8d44ee2c",
   "metadata": {},
   "source": [
    "What do you notice about the housing prices for cities with a successful sports team versus cities without a successful sports team?"
   ]
  },
  {
   "cell_type": "markdown",
   "id": "ca96fda8",
   "metadata": {},
   "source": [
    "##### Type answer here."
   ]
  },
  {
   "cell_type": "markdown",
   "id": "a99954e5",
   "metadata": {},
   "source": [
    "Interesting! Let's dig a big deeper and calculate the means and 95% confidence intervals for the medians of each group."
   ]
  },
  {
   "cell_type": "code",
   "execution_count": 5,
   "id": "1de9b114",
   "metadata": {},
   "outputs": [
    {
     "name": "stdout",
     "output_type": "stream",
     "text": [
      "successteams\n",
      "0    1170.422535\n",
      "1    1507.407407\n",
      "Name: pricesept2021, dtype: float64\n"
     ]
    }
   ],
   "source": [
    "# Group the dataset by 'successteams'\n",
    "grouped_data = df.groupby('successteams')\n",
    "\n",
    "# Calculate the mean of 'pricesept2021' for each group\n",
    "mean_prices = grouped_data['pricesept2021'].mean()\n",
    "print(mean_prices)"
   ]
  },
  {
   "cell_type": "code",
   "execution_count": 6,
   "id": "c05c5907",
   "metadata": {},
   "outputs": [
    {
     "name": "stdout",
     "output_type": "stream",
     "text": [
      "95% Confidence Interval for Group 0 (No Successful Sports Teams): [ 980. 1210.]\n",
      "95% Confidence Interval for Group 1 (Successful Sports Teams): [1190. 1610.]\n"
     ]
    }
   ],
   "source": [
    "# Function to perform bootstrapping for median calculation\n",
    "def bootstrap_median(data):\n",
    "    resamples = data.sample(n=len(data), replace=True)\n",
    "    return np.percentile(resamples['pricesept2021'], 50)\n",
    "\n",
    "# Number of repetitions for bootstrapping\n",
    "num_repetitions = 1000\n",
    "\n",
    "# Bootstrap medians for each group\n",
    "no_success = []\n",
    "success = []\n",
    "\n",
    "# Perform bootstrapping for each group\n",
    "for i in range(num_repetitions):\n",
    "    no_success.append(bootstrap_median(grouped_data.get_group(0)))\n",
    "    success.append(bootstrap_median(grouped_data.get_group(1)))\n",
    "\n",
    "# Convert bootstrap medians lists to numpy arrays for further analysis\n",
    "no_success = np.array(no_success)\n",
    "success = np.array(success)\n",
    "\n",
    "# Calculate confidence intervals for each group\n",
    "no_success_ci = np.percentile(no_success, [2.5, 97.5])\n",
    "success_ci = np.percentile(success, [2.5, 97.5])\n",
    "\n",
    "# Print confidence intervals\n",
    "print(\"95% Confidence Interval for Group 0 (No Successful Sports Teams):\", no_success_ci)\n",
    "print(\"95% Confidence Interval for Group 1 (Successful Sports Teams):\", success_ci)"
   ]
  },
  {
   "cell_type": "markdown",
   "id": "37a01f9f",
   "metadata": {},
   "source": [
    "We can see the mean housing price for a city with no winning sports teams is $1,170.42 and for a city with at least one winning sports team is $1,507.40. Similarly, we have our two 95% confidence intervals for the medians: [$980, $1,210] for a city with no winning sports teams and [$1,190, $1,610] for a city with at least one winning sports team.\n",
    "\n",
    "This provides some more insights in how pricing specifically differs. To really get a solidified answer, the policymaker has asked you to carry out a hypothesis test."
   ]
  },
  {
   "cell_type": "markdown",
   "id": "cd1fb6cb",
   "metadata": {},
   "source": [
    "## Question 2:"
   ]
  },
  {
   "cell_type": "markdown",
   "id": "aba1abbe",
   "metadata": {},
   "source": [
    "What is the null and alternative hypothesis?"
   ]
  },
  {
   "cell_type": "markdown",
   "id": "ca4e35d5",
   "metadata": {},
   "source": [
    "##### Type answer here."
   ]
  },
  {
   "cell_type": "markdown",
   "id": "9d6b8984",
   "metadata": {},
   "source": [
    "Run the code below to perform a permutation test and obtain the p-value for the observed difference in mean housing prices. "
   ]
  },
  {
   "cell_type": "code",
   "execution_count": 7,
   "id": "27192f55",
   "metadata": {},
   "outputs": [
    {
     "name": "stdout",
     "output_type": "stream",
     "text": [
      "P-Value (1% level): 0.002\n"
     ]
    }
   ],
   "source": [
    "# Get the data for each group\n",
    "data_group0 = grouped_data.get_group(0)['pricesept2021']\n",
    "data_group1 = grouped_data.get_group(1)['pricesept2021']\n",
    "\n",
    "# Calculate the observed difference in mean housing prices between the two groups\n",
    "observed_diff_mean = mean_prices[1] - mean_prices[0]\n",
    "\n",
    "# Concatenate the data from both groups\n",
    "concatenated_data = np.concatenate([data_group0, data_group1])\n",
    "\n",
    "# Initialize an empty array to store permutation test results\n",
    "perm_diff_means = np.empty(1000)\n",
    "\n",
    "# Perform permutation test\n",
    "for i in range(1000):\n",
    "    np.random.shuffle(concatenated_data)  # Shuffle the concatenated data\n",
    "    perm_group0 = concatenated_data[:len(data_group0)]  # Create permutation group 0\n",
    "    perm_group1 = concatenated_data[len(data_group0):]  # Create permutation group 1\n",
    "    perm_diff_means[i] = perm_group1.mean() - perm_group0.mean()  # Calculate difference in means\n",
    "\n",
    "# Calculate p-value for the observed difference in mean housing prices\n",
    "p_value_01 = np.sum(np.abs(perm_diff_means) >= np.abs(observed_diff_mean)) / len(perm_diff_means)\n",
    "\n",
    "# Print the results for the 1% level\n",
    "print(\"P-Value (1% level):\", p_value_01)"
   ]
  },
  {
   "cell_type": "markdown",
   "id": "f099466c",
   "metadata": {},
   "source": [
    "Wow! That's a small p-value. Excited by the significant findings, the policymaker wastes no time in drafting key proposals aimed at leveraging the success of sports teams to drive economic growth:\n",
    "\n",
    "#### Policy 1: Sports Infrastructure Investment\n",
    "Invest in modern sports facilities to attract events and boost local businesses.\n",
    "\n",
    "#### Policy 2: Sports Education and Training Programs\n",
    "Expand sports programs in schools to develop talent and promote active lifestyles.\n",
    "\n",
    "#### Policy 3: Sports Tourism Promotion\n",
    "Market the city as a premier sports tourism destination to attract visitors.\n",
    "\n",
    "#### Policy 4: Community Engagement and Outreach\n",
    "Organize grassroots sports leagues and cultural events to build community spirit."
   ]
  },
  {
   "cell_type": "markdown",
   "id": "ee26c1b9",
   "metadata": {},
   "source": [
    "## Question 3:"
   ]
  },
  {
   "cell_type": "markdown",
   "id": "4d76392d",
   "metadata": {},
   "source": [
    "Which of the four policies would you recommend the policymaker push forward? Feel free to run some exploratory data analyses on the dataset to support your answer."
   ]
  },
  {
   "cell_type": "code",
   "execution_count": 8,
   "id": "a7d3affb",
   "metadata": {},
   "outputs": [],
   "source": [
    "# CODE HERE"
   ]
  },
  {
   "cell_type": "markdown",
   "id": "28a2604c",
   "metadata": {},
   "source": [
    "##### Type answer here."
   ]
  },
  {
   "cell_type": "markdown",
   "id": "a44c40e8",
   "metadata": {},
   "source": [
    "The policymaker presents the proposed policy to the mayor, expecting approval, but the mayor is skeptical. \"Is the most important thing we should be focusing on...sports?\" the mayor questions.\n",
    "\n",
    "Let's run some more analyses to see if we're missing something important."
   ]
  },
  {
   "cell_type": "markdown",
   "id": "f3726376",
   "metadata": {},
   "source": [
    "## Orders of Understanding:"
   ]
  },
  {
   "cell_type": "markdown",
   "id": "03ed92d6",
   "metadata": {},
   "source": [
    "The following code reverses our equation. Run the cell below to use logistic regression to determine the effect of housing prices on whether or not a city will have at least one winning sports team."
   ]
  },
  {
   "cell_type": "code",
   "execution_count": 14,
   "id": "bc6d9549",
   "metadata": {},
   "outputs": [
    {
     "name": "stdout",
     "output_type": "stream",
     "text": [
      "Coefficients: [0.00165181]\n",
      "Intercept: [-3.14054606]\n",
      "P-Value for Coefficient: [0.97968155]\n"
     ]
    }
   ],
   "source": [
    "# Reshape data for sklearn\n",
    "X = np.array(df['pricesept2021']).reshape(-1, 1)\n",
    "y = np.array(df['successteams'])\n",
    "\n",
    "# Initialize logistic regression model\n",
    "log_reg = LogisticRegression()\n",
    "\n",
    "# Fit the model\n",
    "log_reg.fit(X, y)\n",
    "\n",
    "# Extract coefficients\n",
    "coefficients = log_reg.coef_[0]\n",
    "intercept = log_reg.intercept_\n",
    "\n",
    "# Print the results\n",
    "print(\"Coefficients:\", coefficients)\n",
    "print(\"Intercept:\", intercept)\n",
    "\n",
    "# Get the standard errors for the coefficients\n",
    "se_coefficient = np.sqrt(np.diag(log_reg.coef_))\n",
    "\n",
    "# Compute z-value for the coefficient\n",
    "z_value = coefficients / se_coefficient\n",
    "\n",
    "# Compute p-value for the coefficient\n",
    "p_value = 2 * (1 - logistic.cdf(np.abs(z_value)))\n",
    "\n",
    "# Print the p-value\n",
    "print(\"P-Value for Coefficient:\", p_value)"
   ]
  },
  {
   "cell_type": "markdown",
   "id": "3f9f6140",
   "metadata": {},
   "source": [
    "## Question 3:"
   ]
  },
  {
   "cell_type": "markdown",
   "id": "6cfac4e0",
   "metadata": {},
   "source": [
    "Interpret the results of this logistic regression model."
   ]
  },
  {
   "cell_type": "markdown",
   "id": "a63a1d31",
   "metadata": {},
   "source": [
    "##### Type answer here."
   ]
  },
  {
   "cell_type": "markdown",
   "id": "fb22d154",
   "metadata": {},
   "source": [
    "## Investigating Additional Variables:"
   ]
  },
  {
   "cell_type": "markdown",
   "id": "cde8e162",
   "metadata": {},
   "source": [
    "As mentioned previously, this dataset has several variables that represent different features of each US city. The policymaker starts wondering if there is a different variable from sports team success that also has an impact on housing prices. \n",
    "\n",
    "Let's navigate two new variables: aqi2020 (annual 2020 air quality index) and violentcrime2019 (violent crime in thousands).\n",
    "\n",
    "Run the code below to run a linear regression model on the impact of aqi2020 and violentcrime2019 on housing prices."
   ]
  },
  {
   "cell_type": "code",
   "execution_count": 15,
   "id": "037b19f4",
   "metadata": {},
   "outputs": [
    {
     "name": "stdout",
     "output_type": "stream",
     "text": [
      "P-Value for 'aqi2020': 0.026659487774263413\n",
      "P-Value for 'violentcrime2019': 0.0003500758355690081\n"
     ]
    }
   ],
   "source": [
    "def calculate_p_value(df, independent_var, dependent_var):\n",
    "    # Prepare the data\n",
    "    X = df[independent_var].values.reshape(-1, 1)  # Reshape to 2D array\n",
    "    y = df[dependent_var]\n",
    "    \n",
    "    # Fit the Linear Regression model\n",
    "    model = LinearRegression().fit(X, y)\n",
    "    # Calculate the residuals\n",
    "    residuals = y - model.predict(X)\n",
    "    # Calculate the standard error of the residuals\n",
    "    std_error_residuals = np.std(residuals, ddof=1)  # ddof=1 for sample standard deviation\n",
    "    # Calculate the standard error of the coefficient\n",
    "    std_error_coef = std_error_residuals / np.sqrt(np.sum((X - np.mean(X))**2))\n",
    "    # Calculate the t-statistic\n",
    "    t_statistic = model.coef_[0] / std_error_coef\n",
    "    # Calculate the degrees of freedom\n",
    "    dof = len(df) - 2  # Number of observations - number of parameters (intercept and independent variable)\n",
    "    # Calculate the p-value\n",
    "    p_value = 2 * (1 - stats.t.cdf(np.abs(t_statistic), dof))  # Two-tailed p-value\n",
    "    \n",
    "    return p_value\n",
    "\n",
    "# Calculate p-value for 'aqi2020'\n",
    "p_value_aqi = calculate_p_value(df, 'aqi2020', 'pricesept2021')\n",
    "print(\"P-Value for 'aqi2020':\", p_value_aqi)\n",
    "\n",
    "# Calculate p-value for 'violentcrime2019'\n",
    "p_value_crime = calculate_p_value(df, 'violentcrime2019', 'pricesept2021')\n",
    "print(\"P-Value for 'violentcrime2019':\", p_value_crime)"
   ]
  },
  {
   "cell_type": "markdown",
   "id": "42bb56a5",
   "metadata": {},
   "source": [
    "## Question 4"
   ]
  },
  {
   "cell_type": "markdown",
   "id": "e4375d70",
   "metadata": {},
   "source": [
    "Interpret  the results of this linear regression model."
   ]
  },
  {
   "cell_type": "markdown",
   "id": "5e4694e3",
   "metadata": {},
   "source": [
    "##### Type answer here."
   ]
  },
  {
   "cell_type": "markdown",
   "id": "c877059a",
   "metadata": {},
   "source": [
    "## Reflection"
   ]
  },
  {
   "cell_type": "markdown",
   "id": "e1d68f7f",
   "metadata": {},
   "source": [
    "How orders of understanding in our analysis of housing prices and successful sports teams impact the decisions made by our policy makers?\n",
    "\n",
    "Can you recall a situation where you or others narrowed our focus to the point of missing out on key data in an analysis? How did this affect our decision-making process?\n",
    "\n",
    "Why is it important for our real estate company to be cautious of expressing high levels of confidence in our findings about the impact of sports team success on housing prices?\n",
    "\n",
    "Explain how recognizing multiple causes of varying importance, such as housing prices, air quality, and crime rates, contributes to our understanding of the relationship between sports team success and housing prices.\n",
    "\n",
    "Discuss the ethical considerations involved in deciding which factors to include or exclude when modeling the relationship between housing prices and sports team success. How can our values inform these decisions?\n"
   ]
  },
  {
   "cell_type": "code",
   "execution_count": null,
   "id": "5bddbb95",
   "metadata": {},
   "outputs": [],
   "source": []
  }
 ],
 "metadata": {
  "kernelspec": {
   "display_name": "Python 3",
   "language": "python",
   "name": "python3"
  },
  "language_info": {
   "codemirror_mode": {
    "name": "ipython",
    "version": 3
   },
   "file_extension": ".py",
   "mimetype": "text/x-python",
   "name": "python",
   "nbconvert_exporter": "python",
   "pygments_lexer": "ipython3",
   "version": "3.8.8"
  }
 },
 "nbformat": 4,
 "nbformat_minor": 5
}
