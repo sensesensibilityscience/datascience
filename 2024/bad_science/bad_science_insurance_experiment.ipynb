{
 "cells": [
  {
   "cell_type": "markdown",
   "id": "b88ed763-d0bc-420d-a729-591fe8f10a94",
   "metadata": {},
   "source": [
    "\n",
    "# Science of Honesty\n",
    "Credit: @Data Colada, Shu Et Al. 2012\n",
    "\n"
   ]
  },
  {
   "attachments": {},
   "cell_type": "markdown",
   "id": "071faf91-4774-4d90-8a8d-15f4802bbd6d",
   "metadata": {},
   "source": [
    "Companies and governments often rely on systems of trust which are often susceptible to misuse. Take for example tax reporting. The IRS has identified a significant tax gap of between $ \\$400 $ and $ \\$700 $ billion, with roughly 80% attributed to underreported income on tax forms.\n",
    "\n",
    "<img src=\"https://raw.githubusercontent.com/sensesensibilityscience/datascience/master/2024/bad_science/data/taxgap.png\" \n",
    "        alt=\"1040 form\" \n",
    "        width=\"500\" \n",
    "        style=\"display: block; margin: 0 auto\" />\n",
    "\n",
    "Current solutions rely on signing a honestly pledge at the **bottom** of the form.\n",
    "\n",
    "\n",
    "<blockquote>\n",
    "    \"Under penalties of perjury, I declare that I have examined this return and accompanying schedules and statements, and to the best of my knowledge and belief, they are true, correct, and complete.\"\n",
    "</blockquote>\n",
    "\n",
    "<img src=\"https://raw.githubusercontent.com/sensesensibilityscience/datascience/master/2024/bad_science/data/1040.png\" \n",
    "        alt=\"tax gap table\" \n",
    "        width=\"500\" \n",
    "        style=\"display: block; margin: 0 auto\" />\n",
    "<center>\n",
    "    <i>\n",
    "    Example of the IRS form 1040 with the “honesty pledge” at the bottom.\n",
    "    </i>\n",
    "</center>\n",
    "\n",
    "\n",
    "Your peers have come up with a clever idea which may be able to address this far reaching problem––**what if instead of asking people to sign the standard honesty pledge at the bottom, we asked them to sign it at the top?**\n",
    "\n",
    "After all, having individuals sign an honesty pledge at the top of a document may prompt early self-reflection and align their behaviors with societal honesty norms before starting the task––potentially increasing accurate reporting. In contrast, a pledge at the bottom may be less effective, as it comes after actions have already been taken––reducing its impact on behavior.\n",
    "\n",
    "## Self-Reported Mileage for Auto Insurance\n",
    "\n",
    "Another place where honestly matters is when drivers report their current odometer mileage when applying or renewing their auto insurance plans. The odometer records the distance travelled by a vehicle throughout its lifetime. As higher mileage cars have higher insurance rates, drivers have an incentive to be dishonest and underreport how much they have driven in the past year(s).\n",
    "\n",
    "Given this information we seek to construct a field experiment. Partnering with an auto insurance firm we seek to test our hypothesis that **signing a honesty pledge at the top of the insurance application/renewal document increases honesty when self-reporting odometer mileage**. \n",
    "\n",
    "<hr/>"
   ]
  },
  {
   "cell_type": "markdown",
   "id": "70fd3e3c-cfe6-4a64-bf4c-76908691d7b2",
   "metadata": {},
   "source": [
    "**Question 1** How would you expect an honest response to differ from a dishonest response (with respect to the number of miles driven over some time period)? Would one value be higher than the other, if so which one?"
   ]
  },
  {
   "cell_type": "markdown",
   "id": "35d15247-6ef1-4585-8e1d-811b1a46d5fd",
   "metadata": {},
   "source": [
    "*Replace This Text*"
   ]
  },
  {
   "cell_type": "markdown",
   "id": "09652140-2028-4ece-8983-6f10bdda7616",
   "metadata": {},
   "source": [
    "**Question 2**\n",
    "Recall randomized controlled trials (RCTs) from the lesson: *Correlation and Causation*. How would you design an experiment to be carried out by the insurance firm to test our hypothesis? Describe every aspect of this RCT."
   ]
  },
  {
   "cell_type": "markdown",
   "id": "df177bc4-7c26-4e3a-a8b5-642a6242801c",
   "metadata": {},
   "source": [
    "*Replace This Text*"
   ]
  },
  {
   "cell_type": "markdown",
   "id": "79b34724-9b2f-490e-b394-cc85ad37f699",
   "metadata": {},
   "source": [
    "One of your peers has conducted an experiment and collected the data as follows: \n",
    "\n",
    "Your peer said that they were able to run an experiement with $N = 13,488$ drivers who were renewing their insurance. At this point, all drivers are existing clients of the firm, who have previously submitted a form with the standard bottom signature where they reported their cars' current milage (**Odom Reading $x$ (Previous)**).\n",
    "\n",
    "They said that they randomly assigned each driver to one of two policy renewal forms: \n",
    "\n",
    "1) featuring the standard placement of the statement \"I promise that the information I am providing is true\" at bottom of the document **(OMR Version: Sign Bottom)**.\n",
    "2) featuring the same statement relocated to the top of the document **(OMR Version: Sign Top)**.\n",
    "\n",
    "In the forms, they were asked to self-report their updated **odometer mileage** of their car(s) after some time period has past from the previous period. This is recorded as **Odom Reading $x$ (Update)**.\n",
    " \n",
    "Remember, **our hypothesis was that those who signed at the top were less inclined to lie than those who signed at the bottom.**\n",
    "\n",
    "After some time, the firm and your peer returned with the following data set:"
   ]
  },
  {
   "cell_type": "code",
   "execution_count": 55,
   "id": "2fe2c2b5",
   "metadata": {},
   "outputs": [
    {
     "data": {
      "text/html": [
       "<div>\n",
       "<style scoped>\n",
       "    .dataframe tbody tr th:only-of-type {\n",
       "        vertical-align: middle;\n",
       "    }\n",
       "\n",
       "    .dataframe tbody tr th {\n",
       "        vertical-align: top;\n",
       "    }\n",
       "\n",
       "    .dataframe thead th {\n",
       "        text-align: right;\n",
       "    }\n",
       "</style>\n",
       "<table border=\"1\" class=\"dataframe\">\n",
       "  <thead>\n",
       "    <tr style=\"text-align: right;\">\n",
       "      <th></th>\n",
       "      <th>OMR Version</th>\n",
       "      <th>Odom Reading 1 (Previous)</th>\n",
       "      <th>Odom Reading 1 (Update)</th>\n",
       "      <th>Odom Reading 2 (Previous)</th>\n",
       "      <th>Odom Reading 2 (Update)</th>\n",
       "      <th>Odom Reading 3 (Previous)</th>\n",
       "      <th>Odom Reading 3 (Update)</th>\n",
       "      <th>Odom Reading 4 (Previous)</th>\n",
       "      <th>Odom Reading 4 (Update)</th>\n",
       "    </tr>\n",
       "  </thead>\n",
       "  <tbody>\n",
       "    <tr>\n",
       "      <th>0</th>\n",
       "      <td>Sign Top</td>\n",
       "      <td>896</td>\n",
       "      <td>39198</td>\n",
       "      <td>NaN</td>\n",
       "      <td>NaN</td>\n",
       "      <td>NaN</td>\n",
       "      <td>NaN</td>\n",
       "      <td>NaN</td>\n",
       "      <td>NaN</td>\n",
       "    </tr>\n",
       "    <tr>\n",
       "      <th>1</th>\n",
       "      <td>Sign Bottom</td>\n",
       "      <td>21396</td>\n",
       "      <td>63511</td>\n",
       "      <td>32659.0</td>\n",
       "      <td>47605.0</td>\n",
       "      <td>NaN</td>\n",
       "      <td>NaN</td>\n",
       "      <td>NaN</td>\n",
       "      <td>NaN</td>\n",
       "    </tr>\n",
       "    <tr>\n",
       "      <th>2</th>\n",
       "      <td>Sign Bottom</td>\n",
       "      <td>21340</td>\n",
       "      <td>37460</td>\n",
       "      <td>44998.0</td>\n",
       "      <td>59002.0</td>\n",
       "      <td>NaN</td>\n",
       "      <td>NaN</td>\n",
       "      <td>NaN</td>\n",
       "      <td>NaN</td>\n",
       "    </tr>\n",
       "    <tr>\n",
       "      <th>3</th>\n",
       "      <td>Sign Bottom</td>\n",
       "      <td>23912</td>\n",
       "      <td>59136</td>\n",
       "      <td>NaN</td>\n",
       "      <td>NaN</td>\n",
       "      <td>NaN</td>\n",
       "      <td>NaN</td>\n",
       "      <td>NaN</td>\n",
       "      <td>NaN</td>\n",
       "    </tr>\n",
       "    <tr>\n",
       "      <th>4</th>\n",
       "      <td>Sign Bottom</td>\n",
       "      <td>16862</td>\n",
       "      <td>59292</td>\n",
       "      <td>NaN</td>\n",
       "      <td>NaN</td>\n",
       "      <td>NaN</td>\n",
       "      <td>NaN</td>\n",
       "      <td>NaN</td>\n",
       "      <td>NaN</td>\n",
       "    </tr>\n",
       "    <tr>\n",
       "      <th>...</th>\n",
       "      <td>...</td>\n",
       "      <td>...</td>\n",
       "      <td>...</td>\n",
       "      <td>...</td>\n",
       "      <td>...</td>\n",
       "      <td>...</td>\n",
       "      <td>...</td>\n",
       "      <td>...</td>\n",
       "      <td>...</td>\n",
       "    </tr>\n",
       "    <tr>\n",
       "      <th>13483</th>\n",
       "      <td>Sign Top</td>\n",
       "      <td>20970</td>\n",
       "      <td>61552</td>\n",
       "      <td>42391.0</td>\n",
       "      <td>46815.0</td>\n",
       "      <td>NaN</td>\n",
       "      <td>NaN</td>\n",
       "      <td>NaN</td>\n",
       "      <td>NaN</td>\n",
       "    </tr>\n",
       "    <tr>\n",
       "      <th>13484</th>\n",
       "      <td>Sign Top</td>\n",
       "      <td>22606</td>\n",
       "      <td>56382</td>\n",
       "      <td>NaN</td>\n",
       "      <td>NaN</td>\n",
       "      <td>NaN</td>\n",
       "      <td>NaN</td>\n",
       "      <td>467.0</td>\n",
       "      <td>27441.0</td>\n",
       "    </tr>\n",
       "    <tr>\n",
       "      <th>13485</th>\n",
       "      <td>Sign Bottom</td>\n",
       "      <td>30700</td>\n",
       "      <td>32916</td>\n",
       "      <td>89680.0</td>\n",
       "      <td>139570.0</td>\n",
       "      <td>NaN</td>\n",
       "      <td>NaN</td>\n",
       "      <td>NaN</td>\n",
       "      <td>NaN</td>\n",
       "    </tr>\n",
       "    <tr>\n",
       "      <th>13486</th>\n",
       "      <td>Sign Top</td>\n",
       "      <td>29884</td>\n",
       "      <td>35459</td>\n",
       "      <td>NaN</td>\n",
       "      <td>NaN</td>\n",
       "      <td>NaN</td>\n",
       "      <td>NaN</td>\n",
       "      <td>NaN</td>\n",
       "      <td>NaN</td>\n",
       "    </tr>\n",
       "    <tr>\n",
       "      <th>13487</th>\n",
       "      <td>Sign Top</td>\n",
       "      <td>22930</td>\n",
       "      <td>37888</td>\n",
       "      <td>NaN</td>\n",
       "      <td>NaN</td>\n",
       "      <td>NaN</td>\n",
       "      <td>NaN</td>\n",
       "      <td>NaN</td>\n",
       "      <td>NaN</td>\n",
       "    </tr>\n",
       "  </tbody>\n",
       "</table>\n",
       "<p>13488 rows × 9 columns</p>\n",
       "</div>"
      ],
      "text/plain": [
       "       OMR Version  Odom Reading 1 (Previous)  Odom Reading 1 (Update)  \\\n",
       "0         Sign Top                        896                    39198   \n",
       "1      Sign Bottom                      21396                    63511   \n",
       "2      Sign Bottom                      21340                    37460   \n",
       "3      Sign Bottom                      23912                    59136   \n",
       "4      Sign Bottom                      16862                    59292   \n",
       "...            ...                        ...                      ...   \n",
       "13483     Sign Top                      20970                    61552   \n",
       "13484     Sign Top                      22606                    56382   \n",
       "13485  Sign Bottom                      30700                    32916   \n",
       "13486     Sign Top                      29884                    35459   \n",
       "13487     Sign Top                      22930                    37888   \n",
       "\n",
       "       Odom Reading 2 (Previous)  Odom Reading 2 (Update)  \\\n",
       "0                            NaN                      NaN   \n",
       "1                        32659.0                  47605.0   \n",
       "2                        44998.0                  59002.0   \n",
       "3                            NaN                      NaN   \n",
       "4                            NaN                      NaN   \n",
       "...                          ...                      ...   \n",
       "13483                    42391.0                  46815.0   \n",
       "13484                        NaN                      NaN   \n",
       "13485                    89680.0                 139570.0   \n",
       "13486                        NaN                      NaN   \n",
       "13487                        NaN                      NaN   \n",
       "\n",
       "       Odom Reading 3 (Previous)  Odom Reading 3 (Update)  \\\n",
       "0                            NaN                      NaN   \n",
       "1                            NaN                      NaN   \n",
       "2                            NaN                      NaN   \n",
       "3                            NaN                      NaN   \n",
       "4                            NaN                      NaN   \n",
       "...                          ...                      ...   \n",
       "13483                        NaN                      NaN   \n",
       "13484                        NaN                      NaN   \n",
       "13485                        NaN                      NaN   \n",
       "13486                        NaN                      NaN   \n",
       "13487                        NaN                      NaN   \n",
       "\n",
       "       Odom Reading 4 (Previous)  Odom Reading 4 (Update)  \n",
       "0                            NaN                      NaN  \n",
       "1                            NaN                      NaN  \n",
       "2                            NaN                      NaN  \n",
       "3                            NaN                      NaN  \n",
       "4                            NaN                      NaN  \n",
       "...                          ...                      ...  \n",
       "13483                        NaN                      NaN  \n",
       "13484                      467.0                  27441.0  \n",
       "13485                        NaN                      NaN  \n",
       "13486                        NaN                      NaN  \n",
       "13487                        NaN                      NaN  \n",
       "\n",
       "[13488 rows x 9 columns]"
      ]
     },
     "execution_count": 55,
     "metadata": {},
     "output_type": "execute_result"
    }
   ],
   "source": [
    "import pandas as pd\n",
    "import matplotlib.pyplot as plt\n",
    "import numpy as np\n",
    "import scipy.stats as stats\n",
    "\n",
    "df = pd.read_csv('data/drivingdata.csv')\n",
    "df = df.drop(columns=['Policy # (masked)'])\n",
    "df"
   ]
  },
  {
   "cell_type": "markdown",
   "id": "6d7e0d61-6875-4d77-8635-a1953ba43258",
   "metadata": {},
   "source": [
    "In the above data set, each row represents a sign form response by a policy holder. \n",
    "* **\"OMR Version\"** denotes which type of a policy renewal form they were randomly assigned to: either **\"Sign Top\"** or **\"Sign Bottom\"**.\n",
    "* **Odom Reading $x$ (Previous)** refers to the mileage that had been previously reported (all signed at the bottom) for vehicle $x$, this data was provided by the insurance firm. **Odom Reading $x$ (Update)** is our dependent variable, which is the new self-reported mileage after the sign top or sign bottom form was administered during the renewal (on average approx. 2 years after \"Previous\"). "
   ]
  },
  {
   "cell_type": "markdown",
   "id": "fd81609b",
   "metadata": {},
   "source": [
    "**Task 0** often times data does not come in perfectly, in this case we would like some way to \"average\" the mileage driven per policy holder if they have multiple cars, further, for those who do not have all 4 possible cars they have some NaN (not a number) values. Please create the following new columns using Pandas:\n",
    "#what is a NaN, why does it happen? what does it mean here\n",
    "\n",
    "* Odom Reading All Avg (Previous): the mean of all the cars' Odom Readings at (Previous), skip all NaN values.\n",
    "* Odom Reading All Avg (Update): the mean of all the cars' Odom Readings at (Update), skip all NaN values.\n",
    "* Dif All: Simply the difference between the previous two columns we just created, this will represent the miles driven."
   ]
  },
  {
   "cell_type": "code",
   "execution_count": 51,
   "id": "ea20ac3b",
   "metadata": {},
   "outputs": [
    {
     "data": {
      "text/html": [
       "<div>\n",
       "<style scoped>\n",
       "    .dataframe tbody tr th:only-of-type {\n",
       "        vertical-align: middle;\n",
       "    }\n",
       "\n",
       "    .dataframe tbody tr th {\n",
       "        vertical-align: top;\n",
       "    }\n",
       "\n",
       "    .dataframe thead th {\n",
       "        text-align: right;\n",
       "    }\n",
       "</style>\n",
       "<table border=\"1\" class=\"dataframe\">\n",
       "  <thead>\n",
       "    <tr style=\"text-align: right;\">\n",
       "      <th></th>\n",
       "      <th>OMR Version</th>\n",
       "      <th>Odom Reading 1 (Previous)</th>\n",
       "      <th>Odom Reading 1 (Update)</th>\n",
       "      <th>Odom Reading 2 (Previous)</th>\n",
       "      <th>Odom Reading 2 (Update)</th>\n",
       "      <th>Odom Reading 3 (Previous)</th>\n",
       "      <th>Odom Reading 3 (Update)</th>\n",
       "      <th>Odom Reading 4 (Previous)</th>\n",
       "      <th>Odom Reading 4 (Update)</th>\n",
       "      <th>Odom Reading All Avg (Previous)</th>\n",
       "      <th>Odom Reading All Avg (Update)</th>\n",
       "      <th>Diff All</th>\n",
       "      <th>Miles Driven</th>\n",
       "    </tr>\n",
       "  </thead>\n",
       "  <tbody>\n",
       "    <tr>\n",
       "      <th>0</th>\n",
       "      <td>Sign Top</td>\n",
       "      <td>896</td>\n",
       "      <td>39198</td>\n",
       "      <td>NaN</td>\n",
       "      <td>NaN</td>\n",
       "      <td>NaN</td>\n",
       "      <td>NaN</td>\n",
       "      <td>NaN</td>\n",
       "      <td>NaN</td>\n",
       "      <td>Ellipsis</td>\n",
       "      <td>Ellipsis</td>\n",
       "      <td>Ellipsis</td>\n",
       "      <td>38302</td>\n",
       "    </tr>\n",
       "    <tr>\n",
       "      <th>1</th>\n",
       "      <td>Sign Bottom</td>\n",
       "      <td>21396</td>\n",
       "      <td>63511</td>\n",
       "      <td>32659.0</td>\n",
       "      <td>47605.0</td>\n",
       "      <td>NaN</td>\n",
       "      <td>NaN</td>\n",
       "      <td>NaN</td>\n",
       "      <td>NaN</td>\n",
       "      <td>Ellipsis</td>\n",
       "      <td>Ellipsis</td>\n",
       "      <td>Ellipsis</td>\n",
       "      <td>42115</td>\n",
       "    </tr>\n",
       "    <tr>\n",
       "      <th>2</th>\n",
       "      <td>Sign Bottom</td>\n",
       "      <td>21340</td>\n",
       "      <td>37460</td>\n",
       "      <td>44998.0</td>\n",
       "      <td>59002.0</td>\n",
       "      <td>NaN</td>\n",
       "      <td>NaN</td>\n",
       "      <td>NaN</td>\n",
       "      <td>NaN</td>\n",
       "      <td>Ellipsis</td>\n",
       "      <td>Ellipsis</td>\n",
       "      <td>Ellipsis</td>\n",
       "      <td>16120</td>\n",
       "    </tr>\n",
       "    <tr>\n",
       "      <th>3</th>\n",
       "      <td>Sign Bottom</td>\n",
       "      <td>23912</td>\n",
       "      <td>59136</td>\n",
       "      <td>NaN</td>\n",
       "      <td>NaN</td>\n",
       "      <td>NaN</td>\n",
       "      <td>NaN</td>\n",
       "      <td>NaN</td>\n",
       "      <td>NaN</td>\n",
       "      <td>Ellipsis</td>\n",
       "      <td>Ellipsis</td>\n",
       "      <td>Ellipsis</td>\n",
       "      <td>35224</td>\n",
       "    </tr>\n",
       "    <tr>\n",
       "      <th>4</th>\n",
       "      <td>Sign Bottom</td>\n",
       "      <td>16862</td>\n",
       "      <td>59292</td>\n",
       "      <td>NaN</td>\n",
       "      <td>NaN</td>\n",
       "      <td>NaN</td>\n",
       "      <td>NaN</td>\n",
       "      <td>NaN</td>\n",
       "      <td>NaN</td>\n",
       "      <td>Ellipsis</td>\n",
       "      <td>Ellipsis</td>\n",
       "      <td>Ellipsis</td>\n",
       "      <td>42430</td>\n",
       "    </tr>\n",
       "  </tbody>\n",
       "</table>\n",
       "</div>"
      ],
      "text/plain": [
       "   OMR Version  Odom Reading 1 (Previous)  Odom Reading 1 (Update)  \\\n",
       "0     Sign Top                        896                    39198   \n",
       "1  Sign Bottom                      21396                    63511   \n",
       "2  Sign Bottom                      21340                    37460   \n",
       "3  Sign Bottom                      23912                    59136   \n",
       "4  Sign Bottom                      16862                    59292   \n",
       "\n",
       "   Odom Reading 2 (Previous)  Odom Reading 2 (Update)  \\\n",
       "0                        NaN                      NaN   \n",
       "1                    32659.0                  47605.0   \n",
       "2                    44998.0                  59002.0   \n",
       "3                        NaN                      NaN   \n",
       "4                        NaN                      NaN   \n",
       "\n",
       "   Odom Reading 3 (Previous)  Odom Reading 3 (Update)  \\\n",
       "0                        NaN                      NaN   \n",
       "1                        NaN                      NaN   \n",
       "2                        NaN                      NaN   \n",
       "3                        NaN                      NaN   \n",
       "4                        NaN                      NaN   \n",
       "\n",
       "   Odom Reading 4 (Previous)  Odom Reading 4 (Update)  \\\n",
       "0                        NaN                      NaN   \n",
       "1                        NaN                      NaN   \n",
       "2                        NaN                      NaN   \n",
       "3                        NaN                      NaN   \n",
       "4                        NaN                      NaN   \n",
       "\n",
       "  Odom Reading All Avg (Previous) Odom Reading All Avg (Update)  Diff All  \\\n",
       "0                        Ellipsis                      Ellipsis  Ellipsis   \n",
       "1                        Ellipsis                      Ellipsis  Ellipsis   \n",
       "2                        Ellipsis                      Ellipsis  Ellipsis   \n",
       "3                        Ellipsis                      Ellipsis  Ellipsis   \n",
       "4                        Ellipsis                      Ellipsis  Ellipsis   \n",
       "\n",
       "   Miles Driven  \n",
       "0         38302  \n",
       "1         42115  \n",
       "2         16120  \n",
       "3         35224  \n",
       "4         42430  "
      ]
     },
     "execution_count": 51,
     "metadata": {},
     "output_type": "execute_result"
    }
   ],
   "source": [
    "#complete the \"...\" \n",
    "df['Odom Reading All Avg (Previous)'] = df[...].mean(axis=..., skipna=...)\n",
    "\n",
    "df['Odom Reading All Avg (Update)'] = df[].mean(axis=..., skipna=...)\n",
    "\n",
    "df['Diff All'] = ... - ...\n",
    "\n",
    "df.head()"
   ]
  },
  {
   "cell_type": "code",
   "execution_count": null,
   "id": "f177969c",
   "metadata": {},
   "outputs": [],
   "source": [
    "<img src=\"https://i.sstatic.net/DL0iQ.jpg\" \n",
    "        alt=\"1040 form\" \n",
    "        width=\"500\" \n",
    "        style=\"display: block; margin: 0 auto\" />"
   ]
  },
  {
   "cell_type": "code",
   "execution_count": 65,
   "id": "23a57d3d",
   "metadata": {},
   "outputs": [
    {
     "data": {
      "text/html": [
       "<div>\n",
       "<style scoped>\n",
       "    .dataframe tbody tr th:only-of-type {\n",
       "        vertical-align: middle;\n",
       "    }\n",
       "\n",
       "    .dataframe tbody tr th {\n",
       "        vertical-align: top;\n",
       "    }\n",
       "\n",
       "    .dataframe thead th {\n",
       "        text-align: right;\n",
       "    }\n",
       "</style>\n",
       "<table border=\"1\" class=\"dataframe\">\n",
       "  <thead>\n",
       "    <tr style=\"text-align: right;\">\n",
       "      <th></th>\n",
       "      <th>OMR Version</th>\n",
       "      <th>Odom Reading 1 (Previous)</th>\n",
       "      <th>Odom Reading 1 (Update)</th>\n",
       "      <th>Odom Reading 2 (Previous)</th>\n",
       "      <th>Odom Reading 2 (Update)</th>\n",
       "      <th>Odom Reading 3 (Previous)</th>\n",
       "      <th>Odom Reading 3 (Update)</th>\n",
       "      <th>Odom Reading 4 (Previous)</th>\n",
       "      <th>Odom Reading 4 (Update)</th>\n",
       "      <th>Odom Reading All Avg (Previous)</th>\n",
       "      <th>Odom Reading All Avg (Update)</th>\n",
       "      <th>Diff All</th>\n",
       "    </tr>\n",
       "  </thead>\n",
       "  <tbody>\n",
       "    <tr>\n",
       "      <th>0</th>\n",
       "      <td>Sign Top</td>\n",
       "      <td>896</td>\n",
       "      <td>39198</td>\n",
       "      <td>NaN</td>\n",
       "      <td>NaN</td>\n",
       "      <td>NaN</td>\n",
       "      <td>NaN</td>\n",
       "      <td>NaN</td>\n",
       "      <td>NaN</td>\n",
       "      <td>896.0</td>\n",
       "      <td>39198.0</td>\n",
       "      <td>38302.0</td>\n",
       "    </tr>\n",
       "    <tr>\n",
       "      <th>1</th>\n",
       "      <td>Sign Bottom</td>\n",
       "      <td>21396</td>\n",
       "      <td>63511</td>\n",
       "      <td>32659.0</td>\n",
       "      <td>47605.0</td>\n",
       "      <td>NaN</td>\n",
       "      <td>NaN</td>\n",
       "      <td>NaN</td>\n",
       "      <td>NaN</td>\n",
       "      <td>27027.5</td>\n",
       "      <td>55558.0</td>\n",
       "      <td>28530.5</td>\n",
       "    </tr>\n",
       "    <tr>\n",
       "      <th>2</th>\n",
       "      <td>Sign Bottom</td>\n",
       "      <td>21340</td>\n",
       "      <td>37460</td>\n",
       "      <td>44998.0</td>\n",
       "      <td>59002.0</td>\n",
       "      <td>NaN</td>\n",
       "      <td>NaN</td>\n",
       "      <td>NaN</td>\n",
       "      <td>NaN</td>\n",
       "      <td>33169.0</td>\n",
       "      <td>48231.0</td>\n",
       "      <td>15062.0</td>\n",
       "    </tr>\n",
       "    <tr>\n",
       "      <th>3</th>\n",
       "      <td>Sign Bottom</td>\n",
       "      <td>23912</td>\n",
       "      <td>59136</td>\n",
       "      <td>NaN</td>\n",
       "      <td>NaN</td>\n",
       "      <td>NaN</td>\n",
       "      <td>NaN</td>\n",
       "      <td>NaN</td>\n",
       "      <td>NaN</td>\n",
       "      <td>23912.0</td>\n",
       "      <td>59136.0</td>\n",
       "      <td>35224.0</td>\n",
       "    </tr>\n",
       "    <tr>\n",
       "      <th>4</th>\n",
       "      <td>Sign Bottom</td>\n",
       "      <td>16862</td>\n",
       "      <td>59292</td>\n",
       "      <td>NaN</td>\n",
       "      <td>NaN</td>\n",
       "      <td>NaN</td>\n",
       "      <td>NaN</td>\n",
       "      <td>NaN</td>\n",
       "      <td>NaN</td>\n",
       "      <td>16862.0</td>\n",
       "      <td>59292.0</td>\n",
       "      <td>42430.0</td>\n",
       "    </tr>\n",
       "  </tbody>\n",
       "</table>\n",
       "</div>"
      ],
      "text/plain": [
       "   OMR Version  Odom Reading 1 (Previous)  Odom Reading 1 (Update)  \\\n",
       "0     Sign Top                        896                    39198   \n",
       "1  Sign Bottom                      21396                    63511   \n",
       "2  Sign Bottom                      21340                    37460   \n",
       "3  Sign Bottom                      23912                    59136   \n",
       "4  Sign Bottom                      16862                    59292   \n",
       "\n",
       "   Odom Reading 2 (Previous)  Odom Reading 2 (Update)  \\\n",
       "0                        NaN                      NaN   \n",
       "1                    32659.0                  47605.0   \n",
       "2                    44998.0                  59002.0   \n",
       "3                        NaN                      NaN   \n",
       "4                        NaN                      NaN   \n",
       "\n",
       "   Odom Reading 3 (Previous)  Odom Reading 3 (Update)  \\\n",
       "0                        NaN                      NaN   \n",
       "1                        NaN                      NaN   \n",
       "2                        NaN                      NaN   \n",
       "3                        NaN                      NaN   \n",
       "4                        NaN                      NaN   \n",
       "\n",
       "   Odom Reading 4 (Previous)  Odom Reading 4 (Update)  \\\n",
       "0                        NaN                      NaN   \n",
       "1                        NaN                      NaN   \n",
       "2                        NaN                      NaN   \n",
       "3                        NaN                      NaN   \n",
       "4                        NaN                      NaN   \n",
       "\n",
       "   Odom Reading All Avg (Previous)  Odom Reading All Avg (Update)  Diff All  \n",
       "0                            896.0                        39198.0   38302.0  \n",
       "1                          27027.5                        55558.0   28530.5  \n",
       "2                          33169.0                        48231.0   15062.0  \n",
       "3                          23912.0                        59136.0   35224.0  \n",
       "4                          16862.0                        59292.0   42430.0  "
      ]
     },
     "execution_count": 65,
     "metadata": {},
     "output_type": "execute_result"
    }
   ],
   "source": [
    "#SOLN\n",
    "\n",
    "df['Odom Reading All Avg (Previous)'] = df[['Odom Reading 1 (Previous)', 'Odom Reading 2 (Previous)', \n",
    "                                            'Odom Reading 3 (Previous)', 'Odom Reading 4 (Previous)']].mean(axis=1, skipna=True)\n",
    "\n",
    "df['Odom Reading All Avg (Update)'] = df[['Odom Reading 1 (Update)', 'Odom Reading 2 (Update)', \n",
    "                                          'Odom Reading 3 (Update)', 'Odom Reading 4 (Update)']].mean(axis=1, skipna=True)\n",
    "\n",
    "df['Diff All'] = df['Odom Reading All Avg (Update)'] - df['Odom Reading All Avg (Previous)']\n",
    "\n",
    "df.head()"
   ]
  },
  {
   "cell_type": "code",
   "execution_count": 2,
   "id": "490e4baa-c1a8-4c0d-a384-84a39e78eaf2",
   "metadata": {},
   "outputs": [
    {
     "name": "stdout",
     "output_type": "stream",
     "text": [
      "Requirement already satisfied: xlrd in /Users/jingyuanchen/opt/anaconda3/lib/python3.9/site-packages (2.0.1)\n",
      "Note: you may need to restart the kernel to use updated packages.\n"
     ]
    },
    {
     "data": {
      "text/html": [
       "<div>\n",
       "<style scoped>\n",
       "    .dataframe tbody tr th:only-of-type {\n",
       "        vertical-align: middle;\n",
       "    }\n",
       "\n",
       "    .dataframe tbody tr th {\n",
       "        vertical-align: top;\n",
       "    }\n",
       "\n",
       "    .dataframe thead th {\n",
       "        text-align: right;\n",
       "    }\n",
       "</style>\n",
       "<table border=\"1\" class=\"dataframe\">\n",
       "  <thead>\n",
       "    <tr style=\"text-align: right;\">\n",
       "      <th></th>\n",
       "      <th>OMR Version</th>\n",
       "      <th>Odom Reading 1 (Previous)</th>\n",
       "      <th>Odom Reading 1 (Update)</th>\n",
       "      <th>Odom Reading 2 (Previous)</th>\n",
       "      <th>Odom Reading 2 (Update)</th>\n",
       "      <th>Odom Reading 3 (Previous)</th>\n",
       "      <th>Odom Reading 3 (Update)</th>\n",
       "      <th>Odom Reading 4 (Previous)</th>\n",
       "      <th>Odom Reading 4 (Update)</th>\n",
       "      <th>Odom Reading All (Previous)</th>\n",
       "      <th>Odom Reading All (Update)</th>\n",
       "      <th>Diff All</th>\n",
       "      <th>#Cars in Policy</th>\n",
       "    </tr>\n",
       "  </thead>\n",
       "  <tbody>\n",
       "    <tr>\n",
       "      <th>0</th>\n",
       "      <td>Sign Top</td>\n",
       "      <td>896</td>\n",
       "      <td>39198</td>\n",
       "      <td>NaN</td>\n",
       "      <td>NaN</td>\n",
       "      <td>NaN</td>\n",
       "      <td>NaN</td>\n",
       "      <td>NaN</td>\n",
       "      <td>NaN</td>\n",
       "      <td>896.0</td>\n",
       "      <td>39198.0</td>\n",
       "      <td>38302.0</td>\n",
       "      <td>1</td>\n",
       "    </tr>\n",
       "    <tr>\n",
       "      <th>1</th>\n",
       "      <td>Sign Bottom</td>\n",
       "      <td>21396</td>\n",
       "      <td>63511</td>\n",
       "      <td>32659.0</td>\n",
       "      <td>47605.0</td>\n",
       "      <td>NaN</td>\n",
       "      <td>NaN</td>\n",
       "      <td>NaN</td>\n",
       "      <td>NaN</td>\n",
       "      <td>27027.5</td>\n",
       "      <td>55558.0</td>\n",
       "      <td>28530.5</td>\n",
       "      <td>2</td>\n",
       "    </tr>\n",
       "    <tr>\n",
       "      <th>2</th>\n",
       "      <td>Sign Bottom</td>\n",
       "      <td>21340</td>\n",
       "      <td>37460</td>\n",
       "      <td>44998.0</td>\n",
       "      <td>59002.0</td>\n",
       "      <td>NaN</td>\n",
       "      <td>NaN</td>\n",
       "      <td>NaN</td>\n",
       "      <td>NaN</td>\n",
       "      <td>33169.0</td>\n",
       "      <td>48231.0</td>\n",
       "      <td>15062.0</td>\n",
       "      <td>2</td>\n",
       "    </tr>\n",
       "    <tr>\n",
       "      <th>3</th>\n",
       "      <td>Sign Bottom</td>\n",
       "      <td>23912</td>\n",
       "      <td>59136</td>\n",
       "      <td>NaN</td>\n",
       "      <td>NaN</td>\n",
       "      <td>NaN</td>\n",
       "      <td>NaN</td>\n",
       "      <td>NaN</td>\n",
       "      <td>NaN</td>\n",
       "      <td>23912.0</td>\n",
       "      <td>59136.0</td>\n",
       "      <td>35224.0</td>\n",
       "      <td>1</td>\n",
       "    </tr>\n",
       "    <tr>\n",
       "      <th>4</th>\n",
       "      <td>Sign Bottom</td>\n",
       "      <td>16862</td>\n",
       "      <td>59292</td>\n",
       "      <td>NaN</td>\n",
       "      <td>NaN</td>\n",
       "      <td>NaN</td>\n",
       "      <td>NaN</td>\n",
       "      <td>NaN</td>\n",
       "      <td>NaN</td>\n",
       "      <td>16862.0</td>\n",
       "      <td>59292.0</td>\n",
       "      <td>42430.0</td>\n",
       "      <td>1</td>\n",
       "    </tr>\n",
       "    <tr>\n",
       "      <th>...</th>\n",
       "      <td>...</td>\n",
       "      <td>...</td>\n",
       "      <td>...</td>\n",
       "      <td>...</td>\n",
       "      <td>...</td>\n",
       "      <td>...</td>\n",
       "      <td>...</td>\n",
       "      <td>...</td>\n",
       "      <td>...</td>\n",
       "      <td>...</td>\n",
       "      <td>...</td>\n",
       "      <td>...</td>\n",
       "      <td>...</td>\n",
       "    </tr>\n",
       "    <tr>\n",
       "      <th>13483</th>\n",
       "      <td>Sign Top</td>\n",
       "      <td>20970</td>\n",
       "      <td>61552</td>\n",
       "      <td>42391.0</td>\n",
       "      <td>46815.0</td>\n",
       "      <td>NaN</td>\n",
       "      <td>NaN</td>\n",
       "      <td>NaN</td>\n",
       "      <td>NaN</td>\n",
       "      <td>31680.5</td>\n",
       "      <td>54183.5</td>\n",
       "      <td>22503.0</td>\n",
       "      <td>2</td>\n",
       "    </tr>\n",
       "    <tr>\n",
       "      <th>13484</th>\n",
       "      <td>Sign Top</td>\n",
       "      <td>22606</td>\n",
       "      <td>56382</td>\n",
       "      <td>NaN</td>\n",
       "      <td>NaN</td>\n",
       "      <td>NaN</td>\n",
       "      <td>NaN</td>\n",
       "      <td>467.0</td>\n",
       "      <td>27441.0</td>\n",
       "      <td>11536.5</td>\n",
       "      <td>41911.5</td>\n",
       "      <td>30375.0</td>\n",
       "      <td>2</td>\n",
       "    </tr>\n",
       "    <tr>\n",
       "      <th>13485</th>\n",
       "      <td>Sign Bottom</td>\n",
       "      <td>30700</td>\n",
       "      <td>32916</td>\n",
       "      <td>89680.0</td>\n",
       "      <td>139570.0</td>\n",
       "      <td>NaN</td>\n",
       "      <td>NaN</td>\n",
       "      <td>NaN</td>\n",
       "      <td>NaN</td>\n",
       "      <td>60190.0</td>\n",
       "      <td>86243.0</td>\n",
       "      <td>26053.0</td>\n",
       "      <td>2</td>\n",
       "    </tr>\n",
       "    <tr>\n",
       "      <th>13486</th>\n",
       "      <td>Sign Top</td>\n",
       "      <td>29884</td>\n",
       "      <td>35459</td>\n",
       "      <td>NaN</td>\n",
       "      <td>NaN</td>\n",
       "      <td>NaN</td>\n",
       "      <td>NaN</td>\n",
       "      <td>NaN</td>\n",
       "      <td>NaN</td>\n",
       "      <td>29884.0</td>\n",
       "      <td>35459.0</td>\n",
       "      <td>5575.0</td>\n",
       "      <td>1</td>\n",
       "    </tr>\n",
       "    <tr>\n",
       "      <th>13487</th>\n",
       "      <td>Sign Top</td>\n",
       "      <td>22930</td>\n",
       "      <td>37888</td>\n",
       "      <td>NaN</td>\n",
       "      <td>NaN</td>\n",
       "      <td>NaN</td>\n",
       "      <td>NaN</td>\n",
       "      <td>NaN</td>\n",
       "      <td>NaN</td>\n",
       "      <td>22930.0</td>\n",
       "      <td>37888.0</td>\n",
       "      <td>14958.0</td>\n",
       "      <td>1</td>\n",
       "    </tr>\n",
       "  </tbody>\n",
       "</table>\n",
       "<p>13488 rows × 13 columns</p>\n",
       "</div>"
      ],
      "text/plain": [
       "       OMR Version  Odom Reading 1 (Previous)  Odom Reading 1 (Update)  \\\n",
       "0         Sign Top                        896                    39198   \n",
       "1      Sign Bottom                      21396                    63511   \n",
       "2      Sign Bottom                      21340                    37460   \n",
       "3      Sign Bottom                      23912                    59136   \n",
       "4      Sign Bottom                      16862                    59292   \n",
       "...            ...                        ...                      ...   \n",
       "13483     Sign Top                      20970                    61552   \n",
       "13484     Sign Top                      22606                    56382   \n",
       "13485  Sign Bottom                      30700                    32916   \n",
       "13486     Sign Top                      29884                    35459   \n",
       "13487     Sign Top                      22930                    37888   \n",
       "\n",
       "       Odom Reading 2 (Previous)  Odom Reading 2 (Update)  \\\n",
       "0                            NaN                      NaN   \n",
       "1                        32659.0                  47605.0   \n",
       "2                        44998.0                  59002.0   \n",
       "3                            NaN                      NaN   \n",
       "4                            NaN                      NaN   \n",
       "...                          ...                      ...   \n",
       "13483                    42391.0                  46815.0   \n",
       "13484                        NaN                      NaN   \n",
       "13485                    89680.0                 139570.0   \n",
       "13486                        NaN                      NaN   \n",
       "13487                        NaN                      NaN   \n",
       "\n",
       "       Odom Reading 3 (Previous)  Odom Reading 3 (Update)  \\\n",
       "0                            NaN                      NaN   \n",
       "1                            NaN                      NaN   \n",
       "2                            NaN                      NaN   \n",
       "3                            NaN                      NaN   \n",
       "4                            NaN                      NaN   \n",
       "...                          ...                      ...   \n",
       "13483                        NaN                      NaN   \n",
       "13484                        NaN                      NaN   \n",
       "13485                        NaN                      NaN   \n",
       "13486                        NaN                      NaN   \n",
       "13487                        NaN                      NaN   \n",
       "\n",
       "       Odom Reading 4 (Previous)  Odom Reading 4 (Update)  \\\n",
       "0                            NaN                      NaN   \n",
       "1                            NaN                      NaN   \n",
       "2                            NaN                      NaN   \n",
       "3                            NaN                      NaN   \n",
       "4                            NaN                      NaN   \n",
       "...                          ...                      ...   \n",
       "13483                        NaN                      NaN   \n",
       "13484                      467.0                  27441.0   \n",
       "13485                        NaN                      NaN   \n",
       "13486                        NaN                      NaN   \n",
       "13487                        NaN                      NaN   \n",
       "\n",
       "       Odom Reading All (Previous)  Odom Reading All (Update)  Diff All  \\\n",
       "0                            896.0                    39198.0   38302.0   \n",
       "1                          27027.5                    55558.0   28530.5   \n",
       "2                          33169.0                    48231.0   15062.0   \n",
       "3                          23912.0                    59136.0   35224.0   \n",
       "4                          16862.0                    59292.0   42430.0   \n",
       "...                            ...                        ...       ...   \n",
       "13483                      31680.5                    54183.5   22503.0   \n",
       "13484                      11536.5                    41911.5   30375.0   \n",
       "13485                      60190.0                    86243.0   26053.0   \n",
       "13486                      29884.0                    35459.0    5575.0   \n",
       "13487                      22930.0                    37888.0   14958.0   \n",
       "\n",
       "       #Cars in Policy  \n",
       "0                    1  \n",
       "1                    2  \n",
       "2                    2  \n",
       "3                    1  \n",
       "4                    1  \n",
       "...                ...  \n",
       "13483                2  \n",
       "13484                2  \n",
       "13485                2  \n",
       "13486                1  \n",
       "13487                1  \n",
       "\n",
       "[13488 rows x 13 columns]"
      ]
     },
     "execution_count": 2,
     "metadata": {},
     "output_type": "execute_result"
    }
   ],
   "source": [
    "%pip install xlrd\n",
    "import pandas as pd\n",
    "import matplotlib.pyplot as plt\n",
    "import numpy as np\n",
    "import scipy.stats as stats\n",
    "\n",
    "df = pd.read_excel('data/DrivingdataAll.xls')\n",
    "df = df.drop(columns=['Policy # (masked)', 'Count1', 'Count2', 'Count3', 'Count4'])\n",
    "df = df.iloc[:, :13]\n",
    "df"
   ]
  },
  {
   "cell_type": "markdown",
   "id": "b4a3f9ad-9406-4723-99c1-45cfcb4da8b9",
   "metadata": {},
   "source": [
    "**Question 3** What pattern of data would we expect if our hypothesis was false? Likewise, what would we expect if it was true?"
   ]
  },
  {
   "cell_type": "markdown",
   "id": "9389fcf0-71e2-44da-8a59-2339247c3299",
   "metadata": {},
   "source": [
    "*Replace This Text*"
   ]
  },
  {
   "cell_type": "markdown",
   "id": "e4ccfee3",
   "metadata": {},
   "source": [
    "**Question 4**\n",
    "Does this experiment satisfy each of the criteria for an RCT?"
   ]
  },
  {
   "cell_type": "markdown",
   "id": "8f4b10fb",
   "metadata": {},
   "source": [
    "*Replace This Text*"
   ]
  },
  {
   "cell_type": "markdown",
   "id": "d4a2b9a1-5999-4726-a672-6665dcca2828",
   "metadata": {},
   "source": [
    "Here we have plotted the self-reported miles driven between \"Previous\" and \"Update\", seperated by OMR version (Sign Top vs Sign Bottom). "
   ]
  },
  {
   "cell_type": "code",
   "execution_count": 93,
   "id": "19a11fbe-6ee0-47fe-b697-484ebf566e95",
   "metadata": {},
   "outputs": [
    {
     "data": {
      "image/png": "[encoded data removed]",
      "text/plain": [
       "<Figure size 864x576 with 1 Axes>"
      ]
     },
     "metadata": {
      "needs_background": "light"
     },
     "output_type": "display_data"
    }
   ],
   "source": [
    "import matplotlib.pyplot as plt\n",
    "\n",
    "plt.figure(figsize=(12, 8))\n",
    "\n",
    "for version in df[\"OMR Version\"].unique():\n",
    "    plt.hist(df[df[\"OMR Version\"] == version][\"Diff All\"], \n",
    "             bins=80, label=f'OMR Version {version}', histtype=\"step\")\n",
    "\n",
    "\n",
    "plt.xlabel(\"Difference between previous and updated odom reading\")\n",
    "plt.ylabel(\"Count\")\n",
    "plt.legend(title=\"OMR Version\")\n",
    "plt.show()\n",
    "\n"
   ]
  },
  {
   "cell_type": "markdown",
   "id": "0355b711-014f-4ebe-bf4c-51f6186d8c8e",
   "metadata": {},
   "source": [
    "**Question 5** Based on this plot, did changing the placement of the signature change the self-reported odometer readings?"
   ]
  },
  {
   "cell_type": "markdown",
   "id": "56ea5047-8591-428c-b1cf-0377c5f254d8",
   "metadata": {},
   "source": [
    "*Replace This Text*"
   ]
  },
  {
   "cell_type": "markdown",
   "id": "944b0e32-8f2a-4aac-8c43-0e47b32dafea",
   "metadata": {},
   "source": [
    "**Task 1**\n",
    "\n",
    "* Previous part: intuitive but vague, hard to take into effect concepts of spread visually\n",
    "* Visually we can see the two distributions have different means, let's visualize this more percisely by plotting their means and errors bars.\n",
    "* What are error bars for? Describes how much our bar can fluctautate by chance, here we're looking at how the mean could fluctuate between samples.\n",
    "\n",
    "$$\\text{ Error Bar on Mean } = \\frac{\\text{Sample Standard Deviation}}{\\sqrt{\\text{Sample Size}}}$$\n"
   ]
  },
  {
   "cell_type": "markdown",
   "id": "e734098f-0daf-47bc-9674-878a4667be1b",
   "metadata": {},
   "source": [
    "  \n",
    "<details open>\n",
    "\n",
    "<summary><i>[Optional] Standard Error of the Mean </i></summary>\n",
    "\n",
    "\n",
    "\n",
    "We use standard error here instead of what you may already know as standard deviation as we wish to better understand how accurate our sample mean is to the true population mean. Where the standard deviation tells us how much spread there is between individual points in a single sample or population, the standard error tells us how much the sample mean is likely to vary if we took many samples from the same population (we can almost think of it as taking the standard deviation of the sampling distribution). \n",
    "\n",
    "$$ SE = \\frac{S}{\\sqrt{n}}$$\n",
    "\n",
    "Here $S$ represents the standard deivation and $n$ the sample size. \n",
    "\n",
    "Imagine you’re a bakery baking multiple batches of cookies and wish to know how much the average cookie weighs. For each batch you can weigh each cookie and obtain the mean and standard deviation of the batch. We can consider the standard error as our confidence of the average weight calculated from one batch. If we make more batches $n$ increases, and each batch has a similar average weight, then our standard error will be small. Thus more confident that the average weight from a single batch is close to the true average for all batches. And vice versa. \n",
    "\n",
    "* SD: Measure of the spread of individual observations in one group\n",
    "* SE: Comparing averages, and measure of confidence in your estimates’ accuracy.\n",
    "\n",
    "</details>"
   ]
  },
  {
   "cell_type": "code",
   "execution_count": 31,
   "id": "6dbfcc23-120f-4332-9c23-a1d1add5b0e0",
   "metadata": {},
   "outputs": [
    {
     "ename": "TypeError",
     "evalue": "'ellipsis' object is not subscriptable",
     "output_type": "error",
     "traceback": [
      "\u001b[0;31m---------------------------------------------------------------------------\u001b[0m",
      "\u001b[0;31mTypeError\u001b[0m                                 Traceback (most recent call last)",
      "Cell \u001b[0;32mIn[31], line 13\u001b[0m\n\u001b[1;32m     10\u001b[0m mean_top \u001b[38;5;241m=\u001b[39m \u001b[38;5;241m.\u001b[39m\u001b[38;5;241m.\u001b[39m\u001b[38;5;241m.\u001b[39m\n\u001b[1;32m     12\u001b[0m \u001b[38;5;66;03m# break down partwise, remove SE jargon\u001b[39;00m\n\u001b[0;32m---> 13\u001b[0m se_top \u001b[38;5;241m=\u001b[39m \u001b[43mdf_top\u001b[49m\u001b[43m[\u001b[49m\u001b[38;5;124;43m'\u001b[39;49m\u001b[38;5;124;43mDifference\u001b[39;49m\u001b[38;5;124;43m'\u001b[39;49m\u001b[43m]\u001b[49m\u001b[38;5;241m.\u001b[39mstd() \u001b[38;5;241m/\u001b[39m np\u001b[38;5;241m.\u001b[39msqrt(\u001b[38;5;28mlen\u001b[39m(df_top))\n\u001b[1;32m     15\u001b[0m mean_bottom \u001b[38;5;241m=\u001b[39m df_bottom[\u001b[38;5;124m'\u001b[39m\u001b[38;5;124mDifference\u001b[39m\u001b[38;5;124m'\u001b[39m]\u001b[38;5;241m.\u001b[39mmean()\n\u001b[1;32m     16\u001b[0m se_bottom \u001b[38;5;241m=\u001b[39m df_bottom[\u001b[38;5;124m'\u001b[39m\u001b[38;5;124mDifference\u001b[39m\u001b[38;5;124m'\u001b[39m]\u001b[38;5;241m.\u001b[39mstd() \u001b[38;5;241m/\u001b[39m np\u001b[38;5;241m.\u001b[39msqrt(\u001b[38;5;28mlen\u001b[39m(df_bottom))\n",
      "\u001b[0;31mTypeError\u001b[0m: 'ellipsis' object is not subscriptable"
     ]
    }
   ],
   "source": [
    "# First lets calculate the difference for Odom reading 1, that is creating a \"Difference\" dataframe that is equal to the difference between the Update and Previous dataframes for Odom Reading 1.\n",
    "\n",
    "df['Difference'] = ...\n",
    "\n",
    "# Now let's split the data into two dataframes based on the \"OMR Version\" our experimental variable.\n",
    "df_top = ...\n",
    "df_bottom = ...\n",
    "\n",
    "# Now use .mean() and .std() to calculate the mean and standard error (recall the formula above) for both Sign Top and Sign Bottom dataframes.\n",
    "mean_top = ...\n",
    "\n",
    "# break down partwise, remove SE jargon\n",
    "se_top = df_top['Difference'].std() / np.sqrt(len(df_top))\n",
    "\n",
    "mean_bottom = df_bottom['Difference'].mean()\n",
    "se_bottom = df_bottom['Difference'].std() / np.sqrt(len(df_bottom))\n",
    "\n",
    "# Use plt to plot a bar chart with standard error bars. Remember to label your axis and give it a title.\n",
    "plt.figure(figsize=(8, 6))\n",
    "plt.bar(['Sign Top', 'Sign Bottom'], [mean_top, mean_bottom], yerr=[se_top, se_bottom], capsize=5, color=['blue', 'orange'])\n",
    "plt.ylabel('Mean Difference in Odometer Reading')\n",
    "plt.title('Mean Difference in Odometer Reading by OMR Version')\n",
    "plt.show()"
   ]
  },
  {
   "cell_type": "code",
   "execution_count": 80,
   "id": "83731966-63aa-462e-a170-e93599fb71ac",
   "metadata": {},
   "outputs": [
    {
     "data": {
      "image/png": "[encoded data removed]",
      "text/plain": [
       "<Figure size 576x432 with 1 Axes>"
      ]
     },
     "metadata": {
      "needs_background": "light"
     },
     "output_type": "display_data"
    }
   ],
   "source": [
    "#####SOLN\n",
    "\n",
    "# First lets calculate the difference for Odom reading 1, that is creating a \"Difference\" dataframe that is equal to the difference between the Update and Previous dataframes for Odom Reading 1.\n",
    "\n",
    "df['Difference'] = df['Odom Reading 1 (Update)'] - df['Odom Reading 1 (Previous)']\n",
    "\n",
    "# Now let's split the data into two dataframes based on the \"OMR Version\" our experimental variable.\n",
    "df_top = df[df['OMR Version'] == 'Sign Top']\n",
    "df_bottom = df[df['OMR Version'] == 'Sign Bottom']\n",
    "\n",
    "# Now use .mean() and .std() to calculate the mean and standard error (recall the formula above) for both Sign Top and Sign Bottom dataframes.\n",
    "mean_top = df_top['Difference'].mean()\n",
    "se_top = df_top['Difference'].std() / np.sqrt(len(df_top))\n",
    "\n",
    "mean_bottom = df_bottom['Difference'].mean()\n",
    "se_bottom = df_bottom['Difference'].std() / np.sqrt(len(df_bottom))\n",
    "\n",
    "# Use plt to plot a bar chart with standard error bars. Remember to label your axis and give it a title.\n",
    "plt.figure(figsize=(8, 6))\n",
    "plt.bar(['Sign Top', 'Sign Bottom'], [mean_top, mean_bottom], yerr=[se_top, se_bottom], capsize=5, color=['tab:blue', 'tab:orange'])\n",
    "plt.ylabel('Mean in Self-Reported Miles Driven (Over Time Period)')\n",
    "plt.title('Mean Difference in Odometer Reading by OMR Version')\n",
    "plt.show()"
   ]
  },
  {
   "cell_type": "markdown",
   "id": "04883001-aa90-43f2-8ccc-457e1658fbfd",
   "metadata": {},
   "source": [
    "**Question 6** Interpret the height of each bar and their respective error bars. Based on this plot, did changing the placement of the signature change the self-reported odometer readings?"
   ]
  },
  {
   "cell_type": "markdown",
   "id": "3796504d-acce-46fd-b729-38fef60f432f",
   "metadata": {},
   "source": [
    "*Replace This Text*"
   ]
  },
  {
   "cell_type": "markdown",
   "id": "5c3252e9-90d7-48e6-aee9-1aea0c6cab73",
   "metadata": {},
   "source": [
    "**Question 7**\n",
    "* Recall Hypothesis\n",
    "* Based on plot what does it say about our hyp?\n",
    "* Confidence?\n",
    "* How should companies and policy makers interpret and act on these results?"
   ]
  },
  {
   "cell_type": "markdown",
   "id": "4d35bf7d-ef77-4077-b6e0-956dfa7e5142",
   "metadata": {},
   "source": [
    "*Replace This Text*"
   ]
  },
  {
   "cell_type": "markdown",
   "id": "db0b2c09",
   "metadata": {},
   "source": [
    "**Recall: Publishing & Peer Review (10.2):**\n",
    "New results are evaluated by other experts in the same field to determine whether they are valid. This only reduces confirmation bias insofar as reviewers don't share the same biases."
   ]
  },
  {
   "cell_type": "markdown",
   "id": "e7d00c0a-2ee8-4fd7-a76c-652b0d780b79",
   "metadata": {},
   "source": [
    "**Question 8**\n",
    "Now: take the role of a [peer-reviewer](https://www.pnas.org/reviewer). Please reflect and evaluate the research design, collection, analysis and outcome of our findings above. Are there any inconsistencies that immediately stand out?"
   ]
  },
  {
   "cell_type": "markdown",
   "id": "38d050e7-2ff3-46e9-993c-87d9b2c8e873",
   "metadata": {},
   "source": [
    "*Replace This Text*"
   ]
  },
  {
   "cell_type": "markdown",
   "id": "ce74f475-b3bf-433b-adf8-7855ac98b58f",
   "metadata": {},
   "source": [
    "Sometimes, faults in studies aren't in their design but rather in the interpretation or underlying data of the experiment. In this lab we'll learn about pathological science and fraudulent and tools we can use to detect them and why certain researchers may be incentivized or pushed to output fraudulent or pathological science papers."
   ]
  },
  {
   "cell_type": "markdown",
   "id": "525c2f33",
   "metadata": {},
   "source": [
    "# TEXT BREAK HERE?\n"
   ]
  },
  {
   "cell_type": "markdown",
   "id": "1bbdfdd4-ac4a-4e5c-b492-9dcba5f9875c",
   "metadata": {},
   "source": [
    "# Investigation #1: Random Assignment\n",
    "Recall from earlier you evaluated the effectiveness of this experiment as a peer-reviewer. In fact, the experimental design is a classical example of a Randomized Control Trial (RCT).\n",
    "\n",
    "One of the important properties of RCTs is random assignment into intervention or control groups. Randomly assigning intervention treatments ensures each participant has an equal chance of receiving any either the control or intervention, minimizing bias. This creates comparable groups, allowing differences in outcomes to be attributed to the intervention. Without randomization, pre-existing differences could skew results, reducing internal validity. \n",
    "\n",
    "**Question 9**\n",
    "Please answer the following short answers:\n",
    "\n",
    "1) Why randomly assign? What would happen if we had men in our control group and women in the intervention group?\n",
    "2) If interventions were randomly assigned, would we expect the distributions of odometer readings of the two groups –– prior to any intervention –– to be similar or different? \n",
    "3) Suppose we see a difference in the distributions of odometer readings before the intervention, what does that say about the randomized assignment step of our experiment?\n"
   ]
  },
  {
   "cell_type": "markdown",
   "id": "efd67e98-8721-43cd-a4e2-e1e6253f5fca",
   "metadata": {},
   "source": [
    "*Replace This Text*\n",
    "1) ...\n",
    "2) ...\n",
    "3) ..."
   ]
  },
  {
   "cell_type": "markdown",
   "id": "3ef55dcd",
   "metadata": {},
   "source": [
    "Let's plot the distributions of each of our groups!"
   ]
  },
  {
   "cell_type": "code",
   "execution_count": 101,
   "id": "5bf4278a",
   "metadata": {},
   "outputs": [
    {
     "data": {
      "image/png": "[encoded data removed]",
      "text/plain": [
       "<Figure size 864x576 with 1 Axes>"
      ]
     },
     "metadata": {
      "needs_background": "light"
     },
     "output_type": "display_data"
    }
   ],
   "source": [
    "plt.figure(figsize=(12, 8))\n",
    "\n",
    "bin_edges = np.linspace(0, 0.3e6, 50)\n",
    "\n",
    "for version in df[\"OMR Version\"].unique():\n",
    "    plt.hist(df[df[\"OMR Version\"] == version][\"Odom Reading All Avg (Previous)\"], \n",
    "             bins=bin_edges, histtype=\"step\", density=False, label=f'OMR Version {version}')\n",
    "\n",
    "plt.xlabel(\"Pre-Intervention Odom Readings by Group\")\n",
    "plt.ylabel(\"Count\")\n",
    "plt.xlim(0, 0.3e6)\n",
    "plt.legend(title=\"OMR Version\")\n",
    "plt.show()"
   ]
  },
  {
   "cell_type": "markdown",
   "id": "3de89fe0-27c6-476e-91a2-577dd638f373",
   "metadata": {},
   "source": [
    "**Question 10** Point out the qualitative differences you see between the sign top and sign bottom distributions. Anything unexpected? What does that say about the effectiveness of randomized assignment in this experiment? "
   ]
  },
  {
   "cell_type": "markdown",
   "id": "ad8ba2c7-2d01-4f11-af76-dd10fac6237d",
   "metadata": {},
   "source": [
    "*Replace This Text*"
   ]
  },
  {
   "cell_type": "markdown",
   "id": "0c7ff81d-a45e-4195-8202-b719065998e9",
   "metadata": {},
   "source": [
    "**Takeaway** If the two pre-intervention distributions seem significantly different, it suggests that there could be a systematic difference between the control and intervention groups. Thus suggesting the randomized assignment step may have been done incorrectly. Due to this pre-intervention systematic difference, any post-intervention difference between the two groups cannot be purely attributed to the intervention itself (which should be the only difference between the two groups).\n",
    "\n",
    "**Task 2** Let's investigate this further. Like in the previous task, let's plot out the mean Odometer readings by OMR version and their respective error bars."
   ]
  },
  {
   "cell_type": "code",
   "execution_count": 35,
   "id": "5ac48ba3-0a08-4dba-b5f7-55af996ce356",
   "metadata": {},
   "outputs": [],
   "source": [
    "# Use the Pandas groupby method to find the means of the two groups, use the error bar calculations from Task 1.\n",
    "\n",
    "mean_by_version = ...\n",
    "\n",
    "df_top = ...\n",
    "df_bottom = ...\n",
    "\n",
    "mean_top = ...\n",
    "mean_bottom = ...\n",
    "\n",
    "std_top = ...\n",
    "sqrt_n_top = ...\n",
    "error_bar_top = ... #recall our formula for error bars introduced in Task 1.\n",
    "\n",
    "std_bottom = ...\n",
    "sqrt_n_bottom = ...\n",
    "error_bar_bottom = ... #recall our formula for error bars introduced in  Task 1.\n",
    "\n",
    "\n",
    "#Use plotly to plot the barcharts with error bars. Label the axis and give it a title.\n",
    "...\n",
    "...\n",
    "...\n",
    "...\n",
    "plt.show()"
   ]
  },
  {
   "cell_type": "code",
   "execution_count": 110,
   "id": "4ea02254-2e59-44f0-ba24-24e3bd0df7d6",
   "metadata": {},
   "outputs": [
    {
     "data": {
      "image/png": "[encoded data removed]",
      "text/plain": [
       "<Figure size 576x432 with 1 Axes>"
      ]
     },
     "metadata": {
      "needs_background": "light"
     },
     "output_type": "display_data"
    }
   ],
   "source": [
    "###SOLN:\n",
    "mean_by_version = df.groupby('OMR Version')['Odom Reading All Avg (Previous)'].mean()\n",
    "\n",
    "df_top = df[df['OMR Version'] == 'Sign Top']\n",
    "df_bottom = df[df['OMR Version'] == 'Sign Bottom']\n",
    "\n",
    "mean_top = df_top['Odom Reading All Avg (Previous)'].mean()\n",
    "mean_bottom = df_bottom['Odom Reading All Avg (Previous)'].mean()\n",
    "\n",
    "std_top = df_top['Odom Reading All Avg (Previous)'].std()\n",
    "sqrt_n_top = np.sqrt(len(df_top))\n",
    "error_bar_top = std_top / sqrt_n_top\n",
    "\n",
    "std_bottom = df_bottom['Odom Reading All Avg (Previous)'].std()\n",
    "sqrt_n_bottom = np.sqrt(len(df_bottom))\n",
    "error_bar_bottom = std_bottom / sqrt_n_bottom\n",
    "\n",
    "\n",
    "plt.figure(figsize=(8, 6))\n",
    "plt.bar(['Sign Top', 'Sign Bottom'], [mean_top, mean_bottom], yerr=[error_bar_top, error_bar_bottom], capsize=5, color=['tab:blue', 'tab:orange'])\n",
    "plt.ylabel('Mean Odometer Reading Avg (Previous)')\n",
    "plt.title('Mean Odometer Reading by OMR Version (Pre-Intervention)')\n",
    "plt.show()"
   ]
  },
  {
   "cell_type": "markdown",
   "id": "da6c98fb-bd93-4266-82c2-543f7d58f6eb",
   "metadata": {},
   "source": [
    "**Question 9** Do your findings suggest the experiment implemented random assignment? Discuss whether and how the observed differences in baseline (pre intervention) odometer readings could impact the validity of the experiment's conclusions about the intervention effect (recall, what are we testing in our hypothesis test previous?)."
   ]
  },
  {
   "cell_type": "markdown",
   "id": "5a21a219-7053-427c-ba1d-6b9f92a17078",
   "metadata": {},
   "source": [
    "*Replace This Text*"
   ]
  },
  {
   "cell_type": "markdown",
   "id": "88886b71-1d52-41d8-8bcd-59855493f8d3",
   "metadata": {},
   "source": [
    "# Investigation #2: Distribution of Miles Driven\n",
    "\n",
    "**Consider the following distributions which we have generated arbitrarily from random distributions.**"
   ]
  },
  {
   "cell_type": "code",
   "execution_count": 106,
   "id": "cafe6184",
   "metadata": {},
   "outputs": [
    {
     "data": {
      "image/png": "[encoded data removed]",
      "text/plain": [
       "<Figure size 864x576 with 4 Axes>"
      ]
     },
     "metadata": {
      "needs_background": "light"
     },
     "output_type": "display_data"
    }
   ],
   "source": [
    "np.random.seed(1)\n",
    "data_uniform = np.random.uniform(-2, 2, 10000)\n",
    "data_normal = np.random.normal(0, 1, 10000)\n",
    "data_left_skewed = stats.beta(2, 5).rvs(100000) * 4 - 1 \n",
    "data_right_skewed = stats.beta(5, 2).rvs(100000) * 4 - 1\n",
    "\n",
    "fig, ax = plt.subplots(2, 2, figsize=(12, 8))\n",
    "\n",
    "# Uniform\n",
    "ax[0, 0].hist(data_uniform, bins=30, color='skyblue')\n",
    "ax[0, 0].set_title('Uniform Distribution')\n",
    "\n",
    "# Normal\n",
    "ax[0, 1].hist(data_normal, bins=30, color='salmon')\n",
    "ax[0, 1].set_title('Normal Distribution')\n",
    "\n",
    "# Right-Skewed\n",
    "ax[1, 0].hist(data_left_skewed, bins=30, color='lightgreen')\n",
    "ax[1, 0].set_title('Right-Skewed Distribution')\n",
    "\n",
    "# Left-Skewed\n",
    "ax[1, 1].hist(data_right_skewed, bins=30, color='purple')\n",
    "ax[1, 1].set_title('Left-Skewed Distribution')\n",
    "\n",
    "plt.tight_layout()\n",
    "plt.show()\n",
    "\n",
    "#get rid of axis markers"
   ]
  },
  {
   "cell_type": "markdown",
   "id": "e11ecbf6",
   "metadata": {},
   "source": [
    "Suppose these distributions represented the miles driven over a time period (similar to our experiment).\n",
    "\n",
    "**Question 10** What would each distribution's real life interpretation be? (For example, people drive $x$ to $y$ miles, but they typically drive $z$ miles, which is the low end of that range.) \n",
    "* Which distribution(s) do you believe would best reflect what we expect in the real world of the miles driven over a period of time (in this case 2 years)?\n",
    "* Is there a distribution that seems implausible? Why?"
   ]
  },
  {
   "cell_type": "markdown",
   "id": "0cb5a510-9739-43f6-b302-5b551a26633f",
   "metadata": {},
   "source": [
    "*Replace this text*"
   ]
  },
  {
   "cell_type": "markdown",
   "id": "7c9de086-af56-40a4-a17c-8ef72de9e3c9",
   "metadata": {},
   "source": [
    "Now let's see what our own experimental data shows:"
   ]
  },
  {
   "cell_type": "code",
   "execution_count": 39,
   "id": "785eb72a-3199-44a3-905f-cb88680c7674",
   "metadata": {},
   "outputs": [
    {
     "data": {
      "image/png": "[encoded data removed]",
      "text/plain": [
       "<Figure size 720x432 with 1 Axes>"
      ]
     },
     "metadata": {
      "needs_background": "light"
     },
     "output_type": "display_data"
    }
   ],
   "source": [
    "df['Miles Driven'] = df['Odom Reading 1 (Update)'] - df['Odom Reading 1 (Previous)']\n",
    "df = df.dropna(subset=['Miles Driven'])\n",
    "df['Miles Driven'] = df['Miles Driven'].clip(lower=0, upper=999999999)\n",
    "plt.figure(figsize=(10, 6))\n",
    "plt.hist(df['Miles Driven'], bins=20, color='tab:blue', edgecolor='black')\n",
    "plt.title('Histogram of Miles Driven')\n",
    "plt.xlabel('Miles Driven')\n",
    "plt.ylabel('Count')\n",
    "plt.grid(axis='y', alpha=0.75)\n",
    "plt.show()"
   ]
  },
  {
   "cell_type": "markdown",
   "id": "816418b9-6227-4f84-a5a6-118431c3007a",
   "metadata": {},
   "source": [
    "**Question 11** \n",
    "* Which distribution from the previous question does this follow most closely? Discuss what the identified distribution implies about the experiment participants' driving habits.\n",
    "\n",
    "* Consider the following study by the UK's Ministry of Transport on the annual miles driven of UK vehicles (Figure 3) -- is our graph consistent with those [distributions](https://web.archive.org/web/20190724071433/https:/assets.publishing.service.gov.uk/government/uploads/system/uploads/attachment_data/file/206882/experimental-statistics-mot-data.pdf)\n",
    "\n",
    "* Should there be just as many people driving 0 to 1,000 miles as there are people driving 49,000 to 50,000 miles? Does this raise any suspicions about the experiment's data? (Hint: also consider the number of people driving at or above 50,000 miles?)\n"
   ]
  },
  {
   "cell_type": "markdown",
   "id": "f2204355-6727-48cb-aa5d-02f9b57bb28f",
   "metadata": {},
   "source": [
    "*Replace This Text*"
   ]
  },
  {
   "cell_type": "markdown",
   "id": "8119fd13",
   "metadata": {},
   "source": [
    "**Question 12** Think back to response in the previous section. Given your findings in this section, what would you as a peer-reviewer conclude about the paper's results? What feedback would you provide to the experiment's authors?"
   ]
  },
  {
   "cell_type": "markdown",
   "id": "0afb7eb1",
   "metadata": {},
   "source": [
    "*Replace This Text*"
   ]
  },
  {
   "cell_type": "markdown",
   "id": "009d9c08-0974-40e8-9db1-a6b195852e61",
   "metadata": {},
   "source": [
    "**Question 13** \n",
    "In this lab, we recieved experiement data from our friend at the insurance agent and it reaffirmed our hypothesis. It can be tempting to not dig further into the data.\n",
    "\n",
    "How might confirmation bias have affected the interpretation of our experimental data, especially when initial results seemed to support our hypothesis? If you were on the research team, what could you have done to ensure our data collection and experiment were preformed properly?"
   ]
  },
  {
   "cell_type": "markdown",
   "id": "1c3d0c20-0aad-44ef-a58f-13309f594b25",
   "metadata": {},
   "source": [
    "*Replace This Text*"
   ]
  },
  {
   "cell_type": "markdown",
   "id": "3ae818e1-c162-46a1-a742-53e870a6409b",
   "metadata": {},
   "source": [
    "**Question 14** Can \"good science\" give us faulty results? How could that happen? As an institution how can the scientific community guard against and uncover this kind of \"bad science\"? Why is it important to run multiple trials and conduct replication studies?\n",
    "\n",
    "**^ Introduce the list of \"bad\" science, ask where this one should fall under?**"
   ]
  },
  {
   "cell_type": "markdown",
   "id": "3ad145c6",
   "metadata": {},
   "source": [
    "# Who is to blame? + Hanlon's Razor\n",
    "\n",
    "While we may be quick to point fingers at academic misconduct in the context of such evidence but it is important to always consider Hanlon's Razor: \"Never attribute to malice that which is adequately explained by stupidity.\"\n",
    "\n",
    "Further, read this table from [Edwards et. al.](https://www.liebertpub.com/doi/pdf/10.1089/ees.2016.0223), this paper argues that \"incentives for academic scientists have become increasingly perverse in terms of competition for research funding, development of quantitative metrics to measure performance, and a changing business model for higher education itself.\"\n",
    "\n",
    "<img src=\"https://lh3.googleusercontent.com/pw/AP1GczP9iPllfvvvQvc3mXwy_tOadxeUtmroIQkLMYlk2N4haqvuc6aUALwD2G71Vf5RCR7THKl3rLwBxyzKlY4VtO0erwj48VycwbkVe2DmN4-Nc_YNTV6T=w2400\" \n",
    "        alt=\"tax gap table\" \n",
    "        width=\"500\" \n",
    "        style=\"display: block; margin: 0 auto\" />\n",
    "\n",
    "**Question 10** Given these findings, what do you believe can be improved about the current state of academic publishing? How do you think we can improve it?"
   ]
  },
  {
   "cell_type": "code",
   "execution_count": 109,
   "id": "baba8c18",
   "metadata": {},
   "outputs": [
    {
     "data": {
      "image/png": "[encoded data removed]",
      "text/plain": [
       "<Figure size 720x432 with 1 Axes>"
      ]
     },
     "metadata": {
      "needs_background": "light"
     },
     "output_type": "display_data"
    }
   ],
   "source": [
    "##WIP\n",
    "\n",
    "\n",
    "inds = np.arange(0,13488)\n",
    "colReadingOne = df['Odom Reading 1 (Previous)'].to_numpy()\n",
    "colReadingOneNew = df['Odom Reading 1 (Update)'].to_numpy()\n",
    "np.random.shuffle(inds)\n",
    "diffShuffle = colReadingOneNew[inds] - colReadingOne[inds] \n",
    "diffPreShuffle = colReadingOneNew - colReadingOne\n",
    "diffarr = (diffPreShuffle + diffShuffle) / 2\n",
    "\n",
    "plt.figure(figsize=(10, 6))\n",
    "plt.hist(diffarr, bins=20, color='tab:blue', edgecolor='black')\n",
    "plt.title('Histogram of Miles Driven')\n",
    "plt.xlabel('Miles Driven')\n",
    "plt.ylabel('Count')\n",
    "plt.grid(axis='y', alpha=0.75)\n",
    "plt.show()"
   ]
  }
 ],
 "metadata": {
  "kernelspec": {
   "display_name": "Python 3 (ipykernel)",
   "language": "python",
   "name": "python3"
  },
  "language_info": {
   "codemirror_mode": {
    "name": "ipython",
    "version": 3
   },
   "file_extension": ".py",
   "mimetype": "text/x-python",
   "name": "python",
   "nbconvert_exporter": "python",
   "pygments_lexer": "ipython3",
   "version": "3.9.12"
  },
  "vscode": {
   "interpreter": {
    "hash": "4dbb7e57341e5407654686349200712733e22bdd205a518b2f54ead6a7867df8"
   }
  }
 },
 "nbformat": 4,
 "nbformat_minor": 5
}
