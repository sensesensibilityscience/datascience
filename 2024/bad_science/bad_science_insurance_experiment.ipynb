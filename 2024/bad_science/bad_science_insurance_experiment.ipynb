{
 "cells": [
  {
   "cell_type": "code",
   "execution_count": 1,
   "id": "db87b0f0-fd02-4770-9e0b-97ee582b6e2c",
   "metadata": {
    "ExecuteTime": {
     "end_time": "2024-06-19T05:00:33.283895Z",
     "start_time": "2024-06-19T05:00:28.496916Z"
    }
   },
   "outputs": [],
   "source": [
    "##loading dependencies\n",
    "!pip install xlrd matplotlib pandas numpy scipy > /dev/null 2>&1"
   ]
  },
  {
   "cell_type": "markdown",
   "id": "b88ed763-d0bc-420d-a729-591fe8f10a94",
   "metadata": {},
   "source": [
    "\n",
    "# Signing at the beginning makes ethics salient and decreases dishonest self-reports in comparison to signing at the end\n",
    "\n",
    "Credit: @Data Colada, Shu Et Al. 2012\n",
    "\n"
   ]
  },
  {
   "attachments": {},
   "cell_type": "markdown",
   "id": "071faf91-4774-4d90-8a8d-15f4802bbd6d",
   "metadata": {},
   "source": [
    "In many areas of life, companies and governments rely on systems of trust which are often susceptible to misuse. Take for example tax reporting. The IRS has identified a significant tax gap of between $ \\$400 $ and $ \\$700 $ billion, with roughly 80% attributed to underreported income on tax forms.\n",
    "\n",
    "<img src=\"https://raw.githubusercontent.com/sensesensibilityscience/datascience/master/2024/bad_science/data/1040.png\" \n",
    "        alt=\"tax gap table\" \n",
    "        width=\"500\" \n",
    "        style=\"display: block; margin: 0 auto\" />\n",
    "\n",
    "\n",
    "Your peers have come up with a clever idea which may be able to address this far reaching problem – **what if instead of the standard honesty pledge at the bottom of a form we included it at the top?**\n",
    "\n",
    "<img src=\"https://raw.githubusercontent.com/sensesensibilityscience/datascience/master/2024/bad_science/data/taxgap.png\" \n",
    "        alt=\"1040 form\" \n",
    "        width=\"500\" \n",
    "        style=\"display: block; margin: 0 auto\" />\n",
    "<center>\n",
    "    <i>\n",
    "    Example of the IRS form 1040 with the “honesty pledge” at the bottom.\n",
    "        </i>\n",
    "</center>\n",
    "\n",
    "\n",
    "After all, having individuals sign an honesty pledge at the top of a document can prompt early self-reflection and align their behaviors with societal honesty norms before starting the task – potentially increasing accurate reporting. In contrast, a pledge at the bottom may be less effective, as it comes after actions have already been taken, reducing its impact on behavior.\n",
    "\n",
    "Given this information we seek to construct a field experiment to test our hypothesis. Partnering with an insurance firm we seek to test our hypothesis that signing a honesty pledge at the top of some self reported document increases honesty in self reporting odometer mileage for car insurance.\n"
   ]
  },
  {
   "cell_type": "markdown",
   "id": "09652140-2028-4ece-8983-6f10bdda7616",
   "metadata": {},
   "source": [
    "**Question 1**\n",
    "How would you design such an experiment to test our claim? Give a brief descriptive outline."
   ]
  },
  {
   "cell_type": "markdown",
   "id": "df177bc4-7c26-4e3a-a8b5-642a6242801c",
   "metadata": {},
   "source": [
    "*Replace This Text*"
   ]
  },
  {
   "cell_type": "markdown",
   "id": "79b34724-9b2f-490e-b394-cc85ad37f699",
   "metadata": {},
   "source": [
    "One of your peers has conducted the experiment and collected the data as follows: \n",
    "\n",
    "In the study, $N = 13,488$ drivers who were renewing their insurance were randomly sent one of two policy review forms randomly: \n",
    "1) featuring the standard placement of the statement \"I promise that the information I am providing is true\" at the document's **bottom**\n",
    "2) featuring the same statement relocated to the **top**.\n",
    "\n",
    "In the forms, they were asked to report the **odometer mileage** of their cars covered by the insurer, based on the reasoning that individuals are inherently motivated to lie on these forms -- as reporting lower mileage implies lower insurance premiums. Remember, **our claim was that those who signed at the top were less inclined to lie than those who signed at the bottom.**\n",
    "\n",
    "The study utilized a datafile from an insurance company containing policy identifiers, experimental conditions, and two sets of odometer readings per car, without the dates of the initial readings – this may create some noise in the data. Odom Reading $x$ (Previous) refers to the mileage that had been previously reported for the $x$ vehicle provided by the insurance firm and Odom reading $x$ (Update) is our dependent variable which is the new self-reported mileage after the sign top or sign bottom form was administered during the renewal (on average approx. 2 years after \"Previous\"). "
   ]
  },
  {
   "cell_type": "code",
   "execution_count": 16,
   "id": "1c49242e-0da8-4657-b1df-5e195707552c",
   "metadata": {
    "ExecuteTime": {
     "end_time": "2024-06-19T05:00:50.621810Z",
     "start_time": "2024-06-19T05:00:37.333515Z"
    }
   },
   "outputs": [
    {
     "data": {
      "text/html": [
       "<div>\n",
       "<style scoped>\n",
       "    .dataframe tbody tr th:only-of-type {\n",
       "        vertical-align: middle;\n",
       "    }\n",
       "\n",
       "    .dataframe tbody tr th {\n",
       "        vertical-align: top;\n",
       "    }\n",
       "\n",
       "    .dataframe thead th {\n",
       "        text-align: right;\n",
       "    }\n",
       "</style>\n",
       "<table border=\"1\" class=\"dataframe\">\n",
       "  <thead>\n",
       "    <tr style=\"text-align: right;\">\n",
       "      <th></th>\n",
       "      <th>OMR Version</th>\n",
       "      <th>Policy # (masked)</th>\n",
       "      <th>Odom Reading 1 (Previous)</th>\n",
       "      <th>Odom Reading 1 (Update)</th>\n",
       "      <th>Odom Reading 2 (Previous)</th>\n",
       "      <th>Odom Reading 2 (Update)</th>\n",
       "      <th>Odom Reading 3 (Previous)</th>\n",
       "      <th>Odom Reading 3 (Update)</th>\n",
       "      <th>Odom Reading 4 (Previous)</th>\n",
       "      <th>Odom Reading 4 (Update)</th>\n",
       "      <th>Odom Reading All (Previous)</th>\n",
       "      <th>Odom Reading All (Update)</th>\n",
       "      <th>Diff All</th>\n",
       "    </tr>\n",
       "  </thead>\n",
       "  <tbody>\n",
       "    <tr>\n",
       "      <th>0</th>\n",
       "      <td>Sign Top</td>\n",
       "      <td>1</td>\n",
       "      <td>896</td>\n",
       "      <td>39198</td>\n",
       "      <td>NaN</td>\n",
       "      <td>NaN</td>\n",
       "      <td>NaN</td>\n",
       "      <td>NaN</td>\n",
       "      <td>NaN</td>\n",
       "      <td>NaN</td>\n",
       "      <td>896.0</td>\n",
       "      <td>39198.0</td>\n",
       "      <td>38302.0</td>\n",
       "    </tr>\n",
       "    <tr>\n",
       "      <th>1</th>\n",
       "      <td>Sign Bottom</td>\n",
       "      <td>2</td>\n",
       "      <td>21396</td>\n",
       "      <td>63511</td>\n",
       "      <td>32659.0</td>\n",
       "      <td>47605.0</td>\n",
       "      <td>NaN</td>\n",
       "      <td>NaN</td>\n",
       "      <td>NaN</td>\n",
       "      <td>NaN</td>\n",
       "      <td>27027.5</td>\n",
       "      <td>55558.0</td>\n",
       "      <td>28530.5</td>\n",
       "    </tr>\n",
       "    <tr>\n",
       "      <th>2</th>\n",
       "      <td>Sign Bottom</td>\n",
       "      <td>3</td>\n",
       "      <td>21340</td>\n",
       "      <td>37460</td>\n",
       "      <td>44998.0</td>\n",
       "      <td>59002.0</td>\n",
       "      <td>NaN</td>\n",
       "      <td>NaN</td>\n",
       "      <td>NaN</td>\n",
       "      <td>NaN</td>\n",
       "      <td>33169.0</td>\n",
       "      <td>48231.0</td>\n",
       "      <td>15062.0</td>\n",
       "    </tr>\n",
       "    <tr>\n",
       "      <th>3</th>\n",
       "      <td>Sign Bottom</td>\n",
       "      <td>4</td>\n",
       "      <td>23912</td>\n",
       "      <td>59136</td>\n",
       "      <td>NaN</td>\n",
       "      <td>NaN</td>\n",
       "      <td>NaN</td>\n",
       "      <td>NaN</td>\n",
       "      <td>NaN</td>\n",
       "      <td>NaN</td>\n",
       "      <td>23912.0</td>\n",
       "      <td>59136.0</td>\n",
       "      <td>35224.0</td>\n",
       "    </tr>\n",
       "    <tr>\n",
       "      <th>4</th>\n",
       "      <td>Sign Bottom</td>\n",
       "      <td>5</td>\n",
       "      <td>16862</td>\n",
       "      <td>59292</td>\n",
       "      <td>NaN</td>\n",
       "      <td>NaN</td>\n",
       "      <td>NaN</td>\n",
       "      <td>NaN</td>\n",
       "      <td>NaN</td>\n",
       "      <td>NaN</td>\n",
       "      <td>16862.0</td>\n",
       "      <td>59292.0</td>\n",
       "      <td>42430.0</td>\n",
       "    </tr>\n",
       "    <tr>\n",
       "      <th>...</th>\n",
       "      <td>...</td>\n",
       "      <td>...</td>\n",
       "      <td>...</td>\n",
       "      <td>...</td>\n",
       "      <td>...</td>\n",
       "      <td>...</td>\n",
       "      <td>...</td>\n",
       "      <td>...</td>\n",
       "      <td>...</td>\n",
       "      <td>...</td>\n",
       "      <td>...</td>\n",
       "      <td>...</td>\n",
       "      <td>...</td>\n",
       "    </tr>\n",
       "    <tr>\n",
       "      <th>13483</th>\n",
       "      <td>Sign Top</td>\n",
       "      <td>13484</td>\n",
       "      <td>20970</td>\n",
       "      <td>61552</td>\n",
       "      <td>42391.0</td>\n",
       "      <td>46815.0</td>\n",
       "      <td>NaN</td>\n",
       "      <td>NaN</td>\n",
       "      <td>NaN</td>\n",
       "      <td>NaN</td>\n",
       "      <td>31680.5</td>\n",
       "      <td>54183.5</td>\n",
       "      <td>22503.0</td>\n",
       "    </tr>\n",
       "    <tr>\n",
       "      <th>13484</th>\n",
       "      <td>Sign Top</td>\n",
       "      <td>13485</td>\n",
       "      <td>22606</td>\n",
       "      <td>56382</td>\n",
       "      <td>NaN</td>\n",
       "      <td>NaN</td>\n",
       "      <td>NaN</td>\n",
       "      <td>NaN</td>\n",
       "      <td>467.0</td>\n",
       "      <td>27441.0</td>\n",
       "      <td>11536.5</td>\n",
       "      <td>41911.5</td>\n",
       "      <td>30375.0</td>\n",
       "    </tr>\n",
       "    <tr>\n",
       "      <th>13485</th>\n",
       "      <td>Sign Bottom</td>\n",
       "      <td>13486</td>\n",
       "      <td>30700</td>\n",
       "      <td>32916</td>\n",
       "      <td>89680.0</td>\n",
       "      <td>139570.0</td>\n",
       "      <td>NaN</td>\n",
       "      <td>NaN</td>\n",
       "      <td>NaN</td>\n",
       "      <td>NaN</td>\n",
       "      <td>60190.0</td>\n",
       "      <td>86243.0</td>\n",
       "      <td>26053.0</td>\n",
       "    </tr>\n",
       "    <tr>\n",
       "      <th>13486</th>\n",
       "      <td>Sign Top</td>\n",
       "      <td>13487</td>\n",
       "      <td>29884</td>\n",
       "      <td>35459</td>\n",
       "      <td>NaN</td>\n",
       "      <td>NaN</td>\n",
       "      <td>NaN</td>\n",
       "      <td>NaN</td>\n",
       "      <td>NaN</td>\n",
       "      <td>NaN</td>\n",
       "      <td>29884.0</td>\n",
       "      <td>35459.0</td>\n",
       "      <td>5575.0</td>\n",
       "    </tr>\n",
       "    <tr>\n",
       "      <th>13487</th>\n",
       "      <td>Sign Top</td>\n",
       "      <td>13488</td>\n",
       "      <td>22930</td>\n",
       "      <td>37888</td>\n",
       "      <td>NaN</td>\n",
       "      <td>NaN</td>\n",
       "      <td>NaN</td>\n",
       "      <td>NaN</td>\n",
       "      <td>NaN</td>\n",
       "      <td>NaN</td>\n",
       "      <td>22930.0</td>\n",
       "      <td>37888.0</td>\n",
       "      <td>14958.0</td>\n",
       "    </tr>\n",
       "  </tbody>\n",
       "</table>\n",
       "<p>13488 rows × 13 columns</p>\n",
       "</div>"
      ],
      "text/plain": [
       "       OMR Version  Policy # (masked)  Odom Reading 1 (Previous)  \\\n",
       "0         Sign Top                  1                        896   \n",
       "1      Sign Bottom                  2                      21396   \n",
       "2      Sign Bottom                  3                      21340   \n",
       "3      Sign Bottom                  4                      23912   \n",
       "4      Sign Bottom                  5                      16862   \n",
       "...            ...                ...                        ...   \n",
       "13483     Sign Top              13484                      20970   \n",
       "13484     Sign Top              13485                      22606   \n",
       "13485  Sign Bottom              13486                      30700   \n",
       "13486     Sign Top              13487                      29884   \n",
       "13487     Sign Top              13488                      22930   \n",
       "\n",
       "       Odom Reading 1 (Update)  Odom Reading 2 (Previous)  \\\n",
       "0                        39198                        NaN   \n",
       "1                        63511                    32659.0   \n",
       "2                        37460                    44998.0   \n",
       "3                        59136                        NaN   \n",
       "4                        59292                        NaN   \n",
       "...                        ...                        ...   \n",
       "13483                    61552                    42391.0   \n",
       "13484                    56382                        NaN   \n",
       "13485                    32916                    89680.0   \n",
       "13486                    35459                        NaN   \n",
       "13487                    37888                        NaN   \n",
       "\n",
       "       Odom Reading 2 (Update)  Odom Reading 3 (Previous)  \\\n",
       "0                          NaN                        NaN   \n",
       "1                      47605.0                        NaN   \n",
       "2                      59002.0                        NaN   \n",
       "3                          NaN                        NaN   \n",
       "4                          NaN                        NaN   \n",
       "...                        ...                        ...   \n",
       "13483                  46815.0                        NaN   \n",
       "13484                      NaN                        NaN   \n",
       "13485                 139570.0                        NaN   \n",
       "13486                      NaN                        NaN   \n",
       "13487                      NaN                        NaN   \n",
       "\n",
       "       Odom Reading 3 (Update)  Odom Reading 4 (Previous)  \\\n",
       "0                          NaN                        NaN   \n",
       "1                          NaN                        NaN   \n",
       "2                          NaN                        NaN   \n",
       "3                          NaN                        NaN   \n",
       "4                          NaN                        NaN   \n",
       "...                        ...                        ...   \n",
       "13483                      NaN                        NaN   \n",
       "13484                      NaN                      467.0   \n",
       "13485                      NaN                        NaN   \n",
       "13486                      NaN                        NaN   \n",
       "13487                      NaN                        NaN   \n",
       "\n",
       "       Odom Reading 4 (Update)  Odom Reading All (Previous)  \\\n",
       "0                          NaN                        896.0   \n",
       "1                          NaN                      27027.5   \n",
       "2                          NaN                      33169.0   \n",
       "3                          NaN                      23912.0   \n",
       "4                          NaN                      16862.0   \n",
       "...                        ...                          ...   \n",
       "13483                      NaN                      31680.5   \n",
       "13484                  27441.0                      11536.5   \n",
       "13485                      NaN                      60190.0   \n",
       "13486                      NaN                      29884.0   \n",
       "13487                      NaN                      22930.0   \n",
       "\n",
       "       Odom Reading All (Update)  Diff All  \n",
       "0                        39198.0   38302.0  \n",
       "1                        55558.0   28530.5  \n",
       "2                        48231.0   15062.0  \n",
       "3                        59136.0   35224.0  \n",
       "4                        59292.0   42430.0  \n",
       "...                          ...       ...  \n",
       "13483                    54183.5   22503.0  \n",
       "13484                    41911.5   30375.0  \n",
       "13485                    86243.0   26053.0  \n",
       "13486                    35459.0    5575.0  \n",
       "13487                    37888.0   14958.0  \n",
       "\n",
       "[13488 rows x 13 columns]"
      ]
     },
     "execution_count": 16,
     "metadata": {},
     "output_type": "execute_result"
    }
   ],
   "source": [
    "import pandas as pd\n",
    "import matplotlib.pyplot as plt\n",
    "import numpy as np\n",
    "import scipy.stats as stats\n",
    "\n",
    "df = pd.read_excel('data/DrivingdataAll.xls')\n",
    "df = df.iloc[:, :13]\n",
    "df"
   ]
  },
  {
   "cell_type": "markdown",
   "id": "bc78f8af-e020-44ab-9192-138b398fd587",
   "metadata": {},
   "source": [
    "**Question 2**\n",
    "Given our claim how should we construct our [null](https://inferentialthinking.com/chapters/11/3/Decisions_and_Uncertainty.html?highlight=null+hypothesis#step-1-the-hypotheses) and [alternative](https://inferentialthinking.com/chapters/11/3/Decisions_and_Uncertainty.html?highlight=null+hypothesis#step-1-the-hypotheses) hypothesis? Consider what a higher average miles driven between one group and another would imply."
   ]
  },
  {
   "cell_type": "markdown",
   "id": "9389fcf0-71e2-44da-8a59-2339247c3299",
   "metadata": {},
   "source": [
    "*Replace This Text*"
   ]
  },
  {
   "cell_type": "markdown",
   "id": "e4ccfee3",
   "metadata": {},
   "source": [
    "**Question 3**\n",
    "Is this a randomized controlled trial? Why or why not?"
   ]
  },
  {
   "cell_type": "markdown",
   "id": "8f4b10fb",
   "metadata": {},
   "source": [
    "*Replace This Text*"
   ]
  },
  {
   "cell_type": "markdown",
   "id": "944b0e32-8f2a-4aac-8c43-0e47b32dafea",
   "metadata": {},
   "source": [
    "**Task 1**\n",
    "Let's just consider the first car, remember we wish to test to see if there is a difference between our two groups sign top and sign bottom. First find the mean and standard deviation in the difference for \"Odom Reading 1 (Update)\" and \"Odom Reading 1 (Previous)\" between the two groups. Then test your hypothesis using a T-Test. You might find more information about performing T-Tests here.\n",
    "\n",
    "https://docs.scipy.org/doc/scipy/reference/generated/scipy.stats.ttest_ind.html"
   ]
  },
  {
   "cell_type": "code",
   "execution_count": 47,
   "id": "4561122e-8be0-46fe-8356-f175db967813",
   "metadata": {
    "ExecuteTime": {
     "end_time": "2024-06-19T05:01:25.115605Z",
     "start_time": "2024-06-19T05:01:24.980115Z"
    }
   },
   "outputs": [
    {
     "name": "stdout",
     "output_type": "stream",
     "text": [
      "Top Signers Mean: 26204.828253223917, SD: 14226.320846470433\n",
      "Bottom Signers Mean: 23622.54606842737, SD: 14505.809749260583\n",
      "T-Statistic: 10.435\n",
      "P-Value: 2.0000000000000003e-25\n"
     ]
    }
   ],
   "source": [
    "df['Difference'] = df['Odom Reading 1 (Update)'] - df['Odom Reading 1 (Previous)']\n",
    "\n",
    "df_top = df[df['OMR Version'] == 'Sign Top']\n",
    "df_bottom = df[df['OMR Version'] == 'Sign Bottom']\n",
    "\n",
    "mean_top = df_top['Difference'].mean()\n",
    "sd_top = df_top['Difference'].std()\n",
    "\n",
    "mean_bottom = df_bottom['Difference'].mean()\n",
    "sd_bottom = df_bottom['Difference'].std()\n",
    "\n",
    "print(f\"Top Signers Mean: {mean_top}, SD: {sd_top}\")\n",
    "print(f\"Bottom Signers Mean: {mean_bottom}, SD: {sd_bottom}\")\n",
    "\n",
    "from scipy.stats import ttest_ind\n",
    "\n",
    "t_statistic, p_value = ttest_ind(df_top['Difference'], df_bottom['Difference'], equal_var=False)\n",
    "\n",
    "print(f\"T-Statistic: {round(t_statistic, 3)}\")\n",
    "print(f\"P-Value: {round(p_value, 25)}\")\n"
   ]
  },
  {
   "cell_type": "markdown",
   "id": "5c3252e9-90d7-48e6-aee9-1aea0c6cab73",
   "metadata": {},
   "source": [
    "**Question 3** Based on your results should we reject our null hypothesis? What does this tell us about signing at the top vs the bottom and how certain are you of our effect size? How should companies and agencies interpret these results and act upon it?"
   ]
  },
  {
   "cell_type": "markdown",
   "id": "4d35bf7d-ef77-4077-b6e0-956dfa7e5142",
   "metadata": {},
   "source": [
    "*Replace This Text*"
   ]
  },
  {
   "cell_type": "markdown",
   "id": "db0b2c09",
   "metadata": {},
   "source": [
    "**Recall: Publishing & Peer Review (10.2):**\n",
    "New results are evaluated by other experts in the same field to determine whether they are valid. This only reduces confirmation bias insofar as reviewers don't share the same biases."
   ]
  },
  {
   "cell_type": "markdown",
   "id": "e7d00c0a-2ee8-4fd7-a76c-652b0d780b79",
   "metadata": {},
   "source": [
    "**Question 4**\n",
    "Now: take the role of a [peer-reviewer](https://www.pnas.org/reviewer). Please reflect and evaluate the research design, collection, analysis and outcome of our findings above. Are there any inconsistencies that immediately stand out?"
   ]
  },
  {
   "cell_type": "markdown",
   "id": "38d050e7-2ff3-46e9-993c-87d9b2c8e873",
   "metadata": {},
   "source": [
    "*Replace This Text*"
   ]
  },
  {
   "cell_type": "markdown",
   "id": "ce74f475-b3bf-433b-adf8-7855ac98b58f",
   "metadata": {},
   "source": [
    "Sometimes, faults in studies aren't in their design but rather in the interpretation or underlying data of the experiment. In this lab we'll learn about pathological science and fraudulent and tools we can use to detect them and why certain researchers may be incentivized or pushed to output fraudulent or pathological science papers."
   ]
  },
  {
   "cell_type": "markdown",
   "id": "1bbdfdd4-ac4a-4e5c-b492-9dcba5f9875c",
   "metadata": {},
   "source": [
    "# Investigation #1: Random Assignment?\n",
    "Why is it important for treatments to be randomly assigned? Recall when we evaluated our mean and standard devation of differences of each group, let's exaime it closer here. \n",
    "Randomly assigning treatments (think what is our treatment here?) in experiments ensures that each participant has an equal chance of receiving any treatment, minimizing selection bias. This randomness helps create groups that are similar in all respects except for the treatment, allowing any differences in outcomes to be attributed to the treatment itself. Without randomization, pre-existing differences between groups could influence the results, making it hard to tell if changes are due to the treatment or other factors. In statistical speak, we are trying to maintain \"internal validity\".\n",
    "\n",
    "**Question 5**\n",
    "If treatments were randomly assigned, would we expect the baseline means (prior to any treatment) to be similar across the groups (in this case \"Previous column\" between sign top and bottom)? In an experiment comparing a treatment (sign top) to a non-treatment (sign bottom), should the groups have similar attributes before administering the treatment?"
   ]
  },
  {
   "cell_type": "markdown",
   "id": "efd67e98-8721-43cd-a4e2-e1e6253f5fca",
   "metadata": {},
   "source": [
    "*Replace This Text*"
   ]
  },
  {
   "cell_type": "markdown",
   "id": "a9757493-59b5-43d8-9742-dd49e92e5d25",
   "metadata": {},
   "source": [
    "**Task 2** Calculate the mean and SD for our previous columns for each of our groups (sign top and sign bottom)"
   ]
  },
  {
   "cell_type": "code",
   "execution_count": 36,
   "id": "0375062c-599f-49fa-a6d5-8eda2ffc4fcc",
   "metadata": {},
   "outputs": [
    {
     "name": "stdout",
     "output_type": "stream",
     "text": [
      "OMR Version\n",
      "Sign Bottom    75034.497687\n",
      "Sign Top       59692.705940\n",
      "Name: Odom Reading All (Previous), dtype: float64\n"
     ]
    }
   ],
   "source": [
    "##Your code here.\n",
    "\n",
    "##Soln:\n",
    "mean_by_version = df.groupby('OMR Version')['Odom Reading All (Previous)'].mean()\n",
    "print(mean_by_version)\n",
    "\n",
    "# Split the data into two groups: Sign Top and Sign Bottom\n",
    "df_top = df[df['OMR Version'] == 'Sign Top']\n",
    "df_bottom = df[df['OMR Version'] == 'Sign Bottom']\n",
    "\n"
   ]
  },
  {
   "cell_type": "markdown",
   "id": "3ef55dcd",
   "metadata": {},
   "source": [
    "Let's plot the distributions of each of our groups!"
   ]
  },
  {
   "cell_type": "code",
   "execution_count": 29,
   "id": "5bf4278a",
   "metadata": {},
   "outputs": [
    {
     "data": {
      "image/png": "[encoded data removed]",
      "text/plain": [
       "<Figure size 864x576 with 1 Axes>"
      ]
     },
     "metadata": {
      "needs_background": "light"
     },
     "output_type": "display_data"
    }
   ],
   "source": [
    "import seaborn as sns\n",
    "\n",
    "plt.figure(figsize=(12, 8))\n",
    "sns.histplot(data=df, x=\"Odom Reading All (Previous)\", hue=\"OMR Version\", stat=\"density\")\n",
    "plt.xlabel(\"Difference between previous and updated odom reading\")\n",
    "plt.xlabel(\"Pre-Treatment Odom Readings by Group\")\n",
    "plt.show()"
   ]
  },
  {
   "cell_type": "markdown",
   "id": "da6c98fb-bd93-4266-82c2-543f7d58f6eb",
   "metadata": {},
   "source": [
    "**Question 6** Do these figures match your expectations? Does it suggest the experiment used random assignment effectively? Discuss whether and how the observed differences in baseline (pre treatment) odometer readings could impact the validity of the experiment's conclusions about the treatment effect (recall, what are we testing in our hypothesis test previous?).\n"
   ]
  },
  {
   "cell_type": "markdown",
   "id": "5a21a219-7053-427c-ba1d-6b9f92a17078",
   "metadata": {},
   "source": [
    "*Replace This Text*"
   ]
  },
  {
   "cell_type": "markdown",
   "id": "88886b71-1d52-41d8-8bcd-59855493f8d3",
   "metadata": {},
   "source": [
    "# Investigation #2: Distribution of Miles Driven\n",
    "**Question 7** How would you expect the distribution of miles driven between a year to be? Assign distribution type to either the string A, B, C, or D. </br></br>\n",
    "*Hint: Recall our discussion about the distribution of heights a weeks lessons ago. Did we see an equal amount of people in each height categories? Are we more likely to extreme heights or average ones? How does this relate to what we're asking here?*</br></br>\n",
    "A. Uniform</br>\n",
    "B. Normal</br>\n",
    "C. Left Skewed</br>\n",
    "D. Right Skewed</br>\n",
    "\n",
    "What would the interpretation be for each of the distributions? Why does the one you selected best reflect what we expect to happen in real life?"
   ]
  },
  {
   "cell_type": "code",
   "execution_count": 39,
   "id": "cafe6184",
   "metadata": {},
   "outputs": [
    {
     "data": {
      "image/png": "[encoded data removed]",
      "text/plain": [
       "<Figure size 864x576 with 4 Axes>"
      ]
     },
     "metadata": {
      "needs_background": "light"
     },
     "output_type": "display_data"
    }
   ],
   "source": [
    "np.random.seed(0)\n",
    "data_uniform = np.random.uniform(-2, 2, 10000)\n",
    "data_normal = np.random.normal(0, 1, 10000)\n",
    "data_left_skewed = stats.beta(2, 5).rvs(10000) * 4 - 1 \n",
    "data_right_skewed = stats.beta(5, 2).rvs(10000) * 4 - 1\n",
    "\n",
    "fig, ax = plt.subplots(2, 2, figsize=(12, 8))\n",
    "\n",
    "#UNIF\n",
    "ax[0, 0].hist(data_uniform, bins=30, color='skyblue', alpha=0.7)\n",
    "ax[0, 0].set_title('Uniform Distribution')\n",
    "\n",
    "#NORM\n",
    "ax[0, 1].hist(data_normal, bins=30, color='salmon', alpha=0.7)\n",
    "ax[0, 1].set_title('Normal Distribution')\n",
    "\n",
    "#LSKEW\n",
    "ax[1, 0].hist(data_right_skewed, bins=30, color='gold', alpha=0.7)\n",
    "ax[1, 0].set_title('Left-Skewed Distribution')\n",
    "\n",
    "#RSKEW\n",
    "ax[1, 1].hist(data_left_skewed, bins=30, color='lightgreen', alpha=0.7)\n",
    "ax[1, 1].set_title('Right-Skewed Distribution')\n",
    "\n",
    "\n",
    "plt.tight_layout()\n",
    "plt.show()"
   ]
  },
  {
   "cell_type": "code",
   "execution_count": 21,
   "id": "a4822d1c",
   "metadata": {},
   "outputs": [],
   "source": [
    "distribution_type = '...' #replace ... with A, B, C or D."
   ]
  },
  {
   "cell_type": "markdown",
   "id": "e11ecbf6",
   "metadata": {},
   "source": [
    "What would each distribution's real life interpretation be? Why does the one you selected best reflect what we expect in the real world in the difference in miles driven over a period of time (in this case 2 years)? Are there any distribution that seem implausible?\n",
    "\n",
    "*Replace this text*"
   ]
  },
  {
   "cell_type": "markdown",
   "id": "7c9de086-af56-40a4-a17c-8ef72de9e3c9",
   "metadata": {},
   "source": [
    "Now let's investigate what our paper's data shows:"
   ]
  },
  {
   "cell_type": "code",
   "execution_count": 22,
   "id": "785eb72a-3199-44a3-905f-cb88680c7674",
   "metadata": {},
   "outputs": [
    {
     "data": {
      "image/png": "[encoded data removed]",
      "text/plain": [
       "<Figure size 720x432 with 1 Axes>"
      ]
     },
     "metadata": {
      "needs_background": "light"
     },
     "output_type": "display_data"
    }
   ],
   "source": [
    "df['Miles Driven'] = df['Odom Reading 1 (Update)'] - df['Odom Reading 1 (Previous)']\n",
    "df = df.dropna(subset=['Miles Driven'])\n",
    "df['Miles Driven'] = df['Miles Driven'].clip(lower=0, upper=999999999)\n",
    "plt.figure(figsize=(10, 6))\n",
    "plt.hist(df['Miles Driven'], bins=20, color='blue', edgecolor='black')\n",
    "plt.title('Histogram of Miles Driven')\n",
    "plt.xlabel('Miles Driven')\n",
    "plt.ylabel('Frequency')\n",
    "plt.grid(axis='y', alpha=0.75)\n",
    "plt.show()"
   ]
  },
  {
   "cell_type": "code",
   "execution_count": 43,
   "id": "25e2cf38-763c-49dd-9d8b-3d8ef94fc57c",
   "metadata": {},
   "outputs": [
    {
     "data": {
      "image/png": "[encoded data removed]",
      "text/plain": [
       "<Figure size 720x432 with 1 Axes>"
      ]
     },
     "metadata": {
      "needs_background": "light"
     },
     "output_type": "display_data"
    }
   ],
   "source": [
    "df['Miles Driven'] = df['Odom Reading 1 (Update)'] - df['Odom Reading 1 (Previous)']\n",
    "\n",
    "df_top = df[df['OMR Version'] == 'Sign Top'].copy()\n",
    "df_bottom = df[df['OMR Version'] == 'Sign Bottom'].copy()\n",
    "\n",
    "plt.figure(figsize=(10, 6))\n",
    "plt.hist(df_top['Miles Driven'], bins=20, color='blue', edgecolor='black', alpha=0.5, label='Sign Top')\n",
    "plt.hist(df_bottom['Miles Driven'], bins=20, color='green', edgecolor='black', alpha=0.5, label='Sign Bottom')\n",
    "plt.title('Histogram of Miles Driven - Sign Top and Sign Bottom')\n",
    "plt.xlabel('Miles Driven')\n",
    "plt.ylabel('Frequency')\n",
    "plt.legend()\n",
    "plt.grid(axis='y', alpha=0.75)\n",
    "plt.show()"
   ]
  },
  {
   "cell_type": "markdown",
   "id": "816418b9-6227-4f84-a5a6-118431c3007a",
   "metadata": {},
   "source": [
    "**Question 8** Which distribution does this follow most closely. Search online for distributions of distance driven over similar time periods (1-2 years) -- is our graph consistent with those distributions? Discuss what the identified distribution implies about the experiment participants' driving habits."
   ]
  },
  {
   "cell_type": "markdown",
   "id": "f2204355-6727-48cb-aa5d-02f9b57bb28f",
   "metadata": {},
   "source": [
    "*Replace This Text*"
   ]
  },
  {
   "cell_type": "markdown",
   "id": "8119fd13",
   "metadata": {},
   "source": [
    "**Question 9** Think back to response to question 4. Given your findings would, what would you as a peer-reviewer conclude about the paper's findings? What feedback would you provide to the experiment's authors?"
   ]
  },
  {
   "cell_type": "markdown",
   "id": "0afb7eb1",
   "metadata": {},
   "source": [
    "*Replace This Text*"
   ]
  },
  {
   "cell_type": "markdown",
   "id": "3ad145c6",
   "metadata": {},
   "source": [
    "# Who is to blame? + Hanlon's Razor\n",
    "\n",
    "While we may be quick to point fingers at academic misconduct in the context of such evidence but it is important to always consider Hanlon's Razor: \"Never attribute to malice that which is adequately explained by stupidity.\"\n",
    "\n",
    "Further, read this table from [Edwards et. al.](https://www.liebertpub.com/doi/pdf/10.1089/ees.2016.0223), this paper argues that \"incentives for academic scientists have become increasingly perverse in terms of competition for research funding, development of quantitative metrics to measure performance, and a changing business model for higher education itself.\"\n",
    "\n",
    "<img src=\"https://lh3.googleusercontent.com/pw/AP1GczP9iPllfvvvQvc3mXwy_tOadxeUtmroIQkLMYlk2N4haqvuc6aUALwD2G71Vf5RCR7THKl3rLwBxyzKlY4VtO0erwj48VycwbkVe2DmN4-Nc_YNTV6T=w2400\" \n",
    "        alt=\"tax gap table\" \n",
    "        width=\"500\" \n",
    "        style=\"display: block; margin: 0 auto\" />\n",
    "\n",
    "**Question 10** Given these findings, what do you believe can be improved about the current state of academic publishing? How do you think we can improve it?"
   ]
  },
  {
   "cell_type": "markdown",
   "id": "ca2d177f",
   "metadata": {},
   "source": [
    "*Replace This Text*"
   ]
  }
 ],
 "metadata": {
  "kernelspec": {
   "display_name": "Python 3.9.12 ('base')",
   "language": "python",
   "name": "python3"
  },
  "language_info": {
   "codemirror_mode": {
    "name": "ipython",
    "version": 3
   },
   "file_extension": ".py",
   "mimetype": "text/x-python",
   "name": "python",
   "nbconvert_exporter": "python",
   "pygments_lexer": "ipython3",
   "version": "3.9.12"
  },
  "vscode": {
   "interpreter": {
    "hash": "4dbb7e57341e5407654686349200712733e22bdd205a518b2f54ead6a7867df8"
   }
  }
 },
 "nbformat": 4,
 "nbformat_minor": 5
}
