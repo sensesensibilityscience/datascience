{
 "cells": [
  {
   "cell_type": "markdown",
   "id": "b88ed763-d0bc-420d-a729-591fe8f10a94",
   "metadata": {},
   "source": [
    "\n",
    "# Science of Honesty\n",
    "Credit: @Data Colada, Shu Et Al. 2012\n",
    "\n"
   ]
  },
  {
   "attachments": {},
   "cell_type": "markdown",
   "id": "071faf91-4774-4d90-8a8d-15f4802bbd6d",
   "metadata": {},
   "source": [
    "Companies and governments often rely on systems of trust which are often susceptible to misuse. Take for example tax reporting, where people are asked to honestly declare their sources and amounts of income. The [Internal Revenue Service (IRS) has identified a significant tax gap of $ \\$400 $ to $ \\$700 $ billion, with roughly 80% attributable to underreported income on tax forms](https://crsreports.congress.gov/product/pdf/IF/IF11887).\n",
    "\n",
    "Current solutions to increase honesty on tax forms rely on signing an honesty pledge at the **bottom** of the form.\n",
    "\n",
    "<blockquote>\n",
    " \"Under penalties of perjury, I declare that I have examined this return and accompanying schedules and statements, and to the best of my knowledge and belief, they are true, correct, and complete.\"\n",
    "</blockquote>\n",
    "\n",
    "<img src=\"https://raw.githubusercontent.com/sensesensibilityscience/datascience/master/2024/bad_science/data/1040.png\" \n",
    "        alt=\"tax gap table\" \n",
    "        width=\"500\" \n",
    "        style=\"display: block; margin: 0 auto\" />\n",
    "<center>\n",
    " <i>\n",
    " Example of the IRS Form 1040 with the “honesty pledge” at the bottom.\n",
    " </i>\n",
    "</center>\n",
    "\n",
    "Your friend has come up with a clever idea which may address this far-reaching problem––**what if instead of asking people to sign the standard honesty pledge at the bottom, we asked them to sign it at the top?**\n",
    "\n",
    "After all, having individuals sign an honesty pledge at the top of a document may prompt early self-reflection and align their behaviours with societal honesty norms before starting the task––potentially increasing accurate reporting. In contrast, a pledge at the bottom may be less effective, as it comes after actions have already been taken––reducing its impact on behaviour."
   ]
  },
  {
   "cell_type": "markdown",
   "id": "a4d96217",
   "metadata": {},
   "source": [
    "## Self-Reported Mileage for Auto Insurance\n",
    "\n",
    "Another place where honesty makes a difference is when drivers apply for a renewal of their auto insurance policy. The driver has previously submitted an insurance application form (e.g. one year ago), where they self-declared their car's odometer reading at the time. An odometer records the distance travelled by a vehicle throughout its lifetime. When the driver applies to renew the insurance policy, they once again have to self-declare the current odometer reading. The difference between the two odometer readings is the number of miles driven over this time period (e.g. the past year). Since insurance companies tend to charge more for cars that are driven more (presumably because they are more prone to breaking down), there is an incentive for drivers to lie about their current odometer readings by under-reporting the number of miles driven.\n",
    "\n",
    "Would the placement of an honesty pledge on the insurance renewal form make a difference? Partnering with an auto insurance company, your friend conducts an experiment to test the hypothesis that **signing an honesty pledge at the top of the insurance renewal form increases honesty when self-reporting odometer readings**."
   ]
  },
  {
   "cell_type": "markdown",
   "id": "70fd3e3c-cfe6-4a64-bf4c-76908691d7b2",
   "metadata": {},
   "source": [
    "**Question 1** How would you expect an honest response to differ from a dishonest response (with respect to the number of miles driven over some time period)? Would one value be higher than the other, if so which one?"
   ]
  },
  {
   "cell_type": "markdown",
   "id": "0f83787b",
   "metadata": {},
   "source": [
    "<div style=\"text-align: center; margin-top: 10px;\">\n",
    "    <div style=\"width: 100%; height: 30px; border-top: 2px solid black; border-radius: 50px 50px 0 0; margin-top: 10px;\"></div>\n",
    "</div>"
   ]
  },
  {
   "cell_type": "markdown",
   "id": "35d15247-6ef1-4585-8e1d-811b1a46d5fd",
   "metadata": {},
   "source": [
    "*Replace This Text*"
   ]
  },
  {
   "cell_type": "markdown",
   "id": "29a7b560-b4fc-4c84-bd27-76aa12caed22",
   "metadata": {},
   "source": [
    "<div style=\"text-align: center; margin-top: 10px;\">\n",
    "    <div style=\"width: 100%; height: 30px; border-bottom: 2px solid black; border-radius: 0 0 50px 50px; margin-top: 10px;\"></div>\n",
    "</div>\n"
   ]
  },
  {
   "cell_type": "markdown",
   "id": "09652140-2028-4ece-8983-6f10bdda7616",
   "metadata": {},
   "source": [
    "**Question 2**\n",
    "Recall randomized controlled trials (RCTs) from the lesson: *Correlation and Causation*. How would you design an experiment that the insurance firm can carry out to test our hypothesis? Describe every aspect of this RCT."
   ]
  },
  {
   "cell_type": "markdown",
   "id": "45381a5e",
   "metadata": {},
   "source": [
    "<div style=\"text-align: center; margin-top: 10px;\">\n",
    "    <div style=\"width: 100%; height: 30px; border-top: 2px solid black; border-radius: 50px 50px 0 0; margin-top: 10px;\"></div>\n",
    "</div>"
   ]
  },
  {
   "cell_type": "markdown",
   "id": "df177bc4-7c26-4e3a-a8b5-642a6242801c",
   "metadata": {},
   "source": [
    "*Replace This Text*"
   ]
  },
  {
   "cell_type": "markdown",
   "id": "29a7b560-b4fc-4c84-bd27-76aa12caed22",
   "metadata": {},
   "source": [
    "<div style=\"text-align: center; margin-top: 10px;\">\n",
    "    <div style=\"width: 100%; height: 30px; border-bottom: 2px solid black; border-radius: 0 0 50px 50px; margin-top: 10px;\"></div>\n",
    "</div>\n"
   ]
  },
  {
   "cell_type": "markdown",
   "id": "79b34724-9b2f-490e-b394-cc85ad37f699",
   "metadata": {},
   "source": [
    "Your friend reported collecting the data as follows:\n",
    "\n",
    "They were able to run an experiment with $N = 13,488$ drivers who were renewing their insurance. At this point, all drivers are existing clients of the firm who have previously (about 2 years ago) submitted a form where they reported their cars' odometer reading (**Odom Reading $x$ (Previous)**). That form had an honesty pledge on the bottom.\n",
    "\n",
    "They then randomly assigned each driver to one of two policy renewal forms:\n",
    "\n",
    "1) featuring the standard placement of the statement \"I promise that the information I am providing is true\" at the bottom of the document (**OMR Version: Sign Bottom**).\n",
    "2) featuring the same statement located at the top of the document (**OMR Version: Sign Top**).\n",
    "\n",
    "In the renewal forms, they were asked to self-report the current **odometer reading** of their car(s) (**Odom Reading $x$ (Update)**).\n",
    " \n",
    "Remember, **we hypothesized that those who signed at the top were less inclined to lie than those who signed at the bottom.**\n",
    "\n",
    "After some time, the firm and your peer returned with the following data set:"
   ]
  },
  {
   "cell_type": "code",
   "execution_count": null,
   "id": "2fe2c2b5",
   "metadata": {},
   "outputs": [
    {
     "data": {
      "text/html": [
       "<div>\n",
       "<style scoped>\n",
       "    .dataframe tbody tr th:only-of-type {\n",
       "        vertical-align: middle;\n",
       "    }\n",
       "\n",
       "    .dataframe tbody tr th {\n",
       "        vertical-align: top;\n",
       "    }\n",
       "\n",
       "    .dataframe thead th {\n",
       "        text-align: right;\n",
       "    }\n",
       "</style>\n",
       "<table border=\"1\" class=\"dataframe\">\n",
       "  <thead>\n",
       "    <tr style=\"text-align: right;\">\n",
       "      <th></th>\n",
       "      <th>OMR Version</th>\n",
       "      <th>Odom Reading 1 (Previous)</th>\n",
       "      <th>Odom Reading 1 (Update)</th>\n",
       "      <th>Odom Reading 2 (Previous)</th>\n",
       "      <th>Odom Reading 2 (Update)</th>\n",
       "      <th>Odom Reading 3 (Previous)</th>\n",
       "      <th>Odom Reading 3 (Update)</th>\n",
       "      <th>Odom Reading 4 (Previous)</th>\n",
       "      <th>Odom Reading 4 (Update)</th>\n",
       "    </tr>\n",
       "  </thead>\n",
       "  <tbody>\n",
       "    <tr>\n",
       "      <th>0</th>\n",
       "      <td>Sign Top</td>\n",
       "      <td>896</td>\n",
       "      <td>39198</td>\n",
       "      <td>NaN</td>\n",
       "      <td>NaN</td>\n",
       "      <td>NaN</td>\n",
       "      <td>NaN</td>\n",
       "      <td>NaN</td>\n",
       "      <td>NaN</td>\n",
       "    </tr>\n",
       "    <tr>\n",
       "      <th>1</th>\n",
       "      <td>Sign Bottom</td>\n",
       "      <td>21396</td>\n",
       "      <td>63511</td>\n",
       "      <td>32659.0</td>\n",
       "      <td>47605.0</td>\n",
       "      <td>NaN</td>\n",
       "      <td>NaN</td>\n",
       "      <td>NaN</td>\n",
       "      <td>NaN</td>\n",
       "    </tr>\n",
       "    <tr>\n",
       "      <th>2</th>\n",
       "      <td>Sign Bottom</td>\n",
       "      <td>21340</td>\n",
       "      <td>37460</td>\n",
       "      <td>44998.0</td>\n",
       "      <td>59002.0</td>\n",
       "      <td>NaN</td>\n",
       "      <td>NaN</td>\n",
       "      <td>NaN</td>\n",
       "      <td>NaN</td>\n",
       "    </tr>\n",
       "    <tr>\n",
       "      <th>3</th>\n",
       "      <td>Sign Bottom</td>\n",
       "      <td>23912</td>\n",
       "      <td>59136</td>\n",
       "      <td>NaN</td>\n",
       "      <td>NaN</td>\n",
       "      <td>NaN</td>\n",
       "      <td>NaN</td>\n",
       "      <td>NaN</td>\n",
       "      <td>NaN</td>\n",
       "    </tr>\n",
       "    <tr>\n",
       "      <th>4</th>\n",
       "      <td>Sign Bottom</td>\n",
       "      <td>16862</td>\n",
       "      <td>59292</td>\n",
       "      <td>NaN</td>\n",
       "      <td>NaN</td>\n",
       "      <td>NaN</td>\n",
       "      <td>NaN</td>\n",
       "      <td>NaN</td>\n",
       "      <td>NaN</td>\n",
       "    </tr>\n",
       "    <tr>\n",
       "      <th>...</th>\n",
       "      <td>...</td>\n",
       "      <td>...</td>\n",
       "      <td>...</td>\n",
       "      <td>...</td>\n",
       "      <td>...</td>\n",
       "      <td>...</td>\n",
       "      <td>...</td>\n",
       "      <td>...</td>\n",
       "      <td>...</td>\n",
       "    </tr>\n",
       "    <tr>\n",
       "      <th>13483</th>\n",
       "      <td>Sign Top</td>\n",
       "      <td>20970</td>\n",
       "      <td>61552</td>\n",
       "      <td>42391.0</td>\n",
       "      <td>46815.0</td>\n",
       "      <td>NaN</td>\n",
       "      <td>NaN</td>\n",
       "      <td>NaN</td>\n",
       "      <td>NaN</td>\n",
       "    </tr>\n",
       "    <tr>\n",
       "      <th>13484</th>\n",
       "      <td>Sign Top</td>\n",
       "      <td>22606</td>\n",
       "      <td>56382</td>\n",
       "      <td>NaN</td>\n",
       "      <td>NaN</td>\n",
       "      <td>NaN</td>\n",
       "      <td>NaN</td>\n",
       "      <td>467.0</td>\n",
       "      <td>27441.0</td>\n",
       "    </tr>\n",
       "    <tr>\n",
       "      <th>13485</th>\n",
       "      <td>Sign Bottom</td>\n",
       "      <td>30700</td>\n",
       "      <td>32916</td>\n",
       "      <td>89680.0</td>\n",
       "      <td>139570.0</td>\n",
       "      <td>NaN</td>\n",
       "      <td>NaN</td>\n",
       "      <td>NaN</td>\n",
       "      <td>NaN</td>\n",
       "    </tr>\n",
       "    <tr>\n",
       "      <th>13486</th>\n",
       "      <td>Sign Top</td>\n",
       "      <td>29884</td>\n",
       "      <td>35459</td>\n",
       "      <td>NaN</td>\n",
       "      <td>NaN</td>\n",
       "      <td>NaN</td>\n",
       "      <td>NaN</td>\n",
       "      <td>NaN</td>\n",
       "      <td>NaN</td>\n",
       "    </tr>\n",
       "    <tr>\n",
       "      <th>13487</th>\n",
       "      <td>Sign Top</td>\n",
       "      <td>22930</td>\n",
       "      <td>37888</td>\n",
       "      <td>NaN</td>\n",
       "      <td>NaN</td>\n",
       "      <td>NaN</td>\n",
       "      <td>NaN</td>\n",
       "      <td>NaN</td>\n",
       "      <td>NaN</td>\n",
       "    </tr>\n",
       "  </tbody>\n",
       "</table>\n",
       "<p>13488 rows × 9 columns</p>\n",
       "</div>"
      ],
      "text/plain": [
       "       OMR Version  Odom Reading 1 (Previous)  Odom Reading 1 (Update)  \\\n",
       "0         Sign Top                        896                    39198   \n",
       "1      Sign Bottom                      21396                    63511   \n",
       "2      Sign Bottom                      21340                    37460   \n",
       "3      Sign Bottom                      23912                    59136   \n",
       "4      Sign Bottom                      16862                    59292   \n",
       "...            ...                        ...                      ...   \n",
       "13483     Sign Top                      20970                    61552   \n",
       "13484     Sign Top                      22606                    56382   \n",
       "13485  Sign Bottom                      30700                    32916   \n",
       "13486     Sign Top                      29884                    35459   \n",
       "13487     Sign Top                      22930                    37888   \n",
       "\n",
       "       Odom Reading 2 (Previous)  Odom Reading 2 (Update)  \\\n",
       "0                            NaN                      NaN   \n",
       "1                        32659.0                  47605.0   \n",
       "2                        44998.0                  59002.0   \n",
       "3                            NaN                      NaN   \n",
       "4                            NaN                      NaN   \n",
       "...                          ...                      ...   \n",
       "13483                    42391.0                  46815.0   \n",
       "13484                        NaN                      NaN   \n",
       "13485                    89680.0                 139570.0   \n",
       "13486                        NaN                      NaN   \n",
       "13487                        NaN                      NaN   \n",
       "\n",
       "       Odom Reading 3 (Previous)  Odom Reading 3 (Update)  \\\n",
       "0                            NaN                      NaN   \n",
       "1                            NaN                      NaN   \n",
       "2                            NaN                      NaN   \n",
       "3                            NaN                      NaN   \n",
       "4                            NaN                      NaN   \n",
       "...                          ...                      ...   \n",
       "13483                        NaN                      NaN   \n",
       "13484                        NaN                      NaN   \n",
       "13485                        NaN                      NaN   \n",
       "13486                        NaN                      NaN   \n",
       "13487                        NaN                      NaN   \n",
       "\n",
       "       Odom Reading 4 (Previous)  Odom Reading 4 (Update)  \n",
       "0                            NaN                      NaN  \n",
       "1                            NaN                      NaN  \n",
       "2                            NaN                      NaN  \n",
       "3                            NaN                      NaN  \n",
       "4                            NaN                      NaN  \n",
       "...                          ...                      ...  \n",
       "13483                        NaN                      NaN  \n",
       "13484                      467.0                  27441.0  \n",
       "13485                        NaN                      NaN  \n",
       "13486                        NaN                      NaN  \n",
       "13487                        NaN                      NaN  \n",
       "\n",
       "[13488 rows x 9 columns]"
      ]
     },
     "execution_count": 1,
     "metadata": {},
     "output_type": "execute_result"
    }
   ],
   "source": [
    "import pandas as pd\n",
    "import matplotlib.pyplot as plt\n",
    "import numpy as np\n",
    "import scipy.stats as stats\n",
    "\n",
    "df = pd.read_csv('data/drivingdata.csv')\n",
    "df = df.drop(columns=['Policy # (masked)'])\n",
    "df"
   ]
  },
  {
   "cell_type": "markdown",
   "id": "6d7e0d61-6875-4d77-8635-a1953ba43258",
   "metadata": {},
   "source": [
    "In the above data set, each row represents a signed form submitted by a policyholder.\n",
    "* **OMR Version** denotes which type of policy renewal form they were randomly assigned to either **Sign Top** or **Sign Bottom**. This is our independent variable.\n",
    "* **Odom Reading $x$ (Previous)** refers to the odometer reading on the policyholder's $x$-th car, reported about two years ago (all signed at the bottom).\n",
    "* **Odom Reading $x$ (Update)** is the current self-reported odometer reading on the policyholder's $x$-th car (either signed at the top or at the bottom). This is our dependent variable."
   ]
  },
  {
   "cell_type": "markdown",
   "id": "fd81609b",
   "metadata": {},
   "source": [
    "**Task 0** Since some policyholders have more than one car, we should first obtain the average miles driven per policyholder across all their cars. Using the `pandas` package, create new columns on the dataframe `df` for the following quantities:\n",
    "* Odom Reading All Avg (Previous): the mean of all the cars' \"Odom Readings at (Previous)\", skip all `NaN` values.\n",
    "* Odom Reading All Avg (Update): the mean of all the cars' \"Odom Readings at (Update)\", skip all `NaN` values.\n",
    "* Diff All: average miles driven by each policyholder, equal to the difference of the previous two columns.\n",
    "\n",
    "<details open>\n",
    "\n",
    "<summary><i>Click here for hint(s)</i></summary>\n",
    "\n",
    "- <i>Hint 1: Create a new column named \"New Column\" using `df['New Column'] = ...`.</i> \n",
    "- <i>Hint 2: Select multiple columns by name using `df[['Column 1', 'Column 3', 'Column 6']]`.</i>\n",
    "- <i>Hint 3: Skip `NaN` values by setting `skipna=True`.</i>\n",
    "\n",
    "</details>\n"
   ]
  },
  {
   "cell_type": "markdown",
   "id": "f177969c",
   "metadata": {},
   "source": [
    "<img src=\"https://i.sstatic.net/DL0iQ.jpg\" \n",
    "        alt=\"1040 form\" \n",
    "        width=\"500\" \n",
    "        style=\"display: block; margin: 0 auto\" />"
   ]
  },
  {
   "cell_type": "code",
   "execution_count": null,
   "id": "ea20ac3b",
   "metadata": {},
   "outputs": [],
   "source": [
    "#complete the \"...\" \n",
    "df['Odom Reading All Avg (Previous)'] = df[...].mean(axis=..., skipna=...)\n",
    "df['Odom Reading All Avg (Update)'] = df[...].mean(axis=..., skipna=...)\n",
    "df['Diff All'] = ... - ...\n",
    "df.head()"
   ]
  },
  {
   "cell_type": "code",
   "execution_count": 4,
   "id": "23a57d3d",
   "metadata": {},
   "outputs": [
    {
     "data": {
      "text/html": [
       "<div>\n",
       "<style scoped>\n",
       "    .dataframe tbody tr th:only-of-type {\n",
       "        vertical-align: middle;\n",
       "    }\n",
       "\n",
       "    .dataframe tbody tr th {\n",
       "        vertical-align: top;\n",
       "    }\n",
       "\n",
       "    .dataframe thead th {\n",
       "        text-align: right;\n",
       "    }\n",
       "</style>\n",
       "<table border=\"1\" class=\"dataframe\">\n",
       "  <thead>\n",
       "    <tr style=\"text-align: right;\">\n",
       "      <th></th>\n",
       "      <th>OMR Version</th>\n",
       "      <th>Odom Reading 1 (Previous)</th>\n",
       "      <th>Odom Reading 1 (Update)</th>\n",
       "      <th>Odom Reading 2 (Previous)</th>\n",
       "      <th>Odom Reading 2 (Update)</th>\n",
       "      <th>Odom Reading 3 (Previous)</th>\n",
       "      <th>Odom Reading 3 (Update)</th>\n",
       "      <th>Odom Reading 4 (Previous)</th>\n",
       "      <th>Odom Reading 4 (Update)</th>\n",
       "      <th>Odom Reading All Avg (Previous)</th>\n",
       "      <th>Odom Reading All Avg (Update)</th>\n",
       "      <th>Diff All</th>\n",
       "    </tr>\n",
       "  </thead>\n",
       "  <tbody>\n",
       "    <tr>\n",
       "      <th>0</th>\n",
       "      <td>Sign Top</td>\n",
       "      <td>896</td>\n",
       "      <td>39198</td>\n",
       "      <td>NaN</td>\n",
       "      <td>NaN</td>\n",
       "      <td>NaN</td>\n",
       "      <td>NaN</td>\n",
       "      <td>NaN</td>\n",
       "      <td>NaN</td>\n",
       "      <td>896.0</td>\n",
       "      <td>39198.0</td>\n",
       "      <td>38302.0</td>\n",
       "    </tr>\n",
       "    <tr>\n",
       "      <th>1</th>\n",
       "      <td>Sign Bottom</td>\n",
       "      <td>21396</td>\n",
       "      <td>63511</td>\n",
       "      <td>32659.0</td>\n",
       "      <td>47605.0</td>\n",
       "      <td>NaN</td>\n",
       "      <td>NaN</td>\n",
       "      <td>NaN</td>\n",
       "      <td>NaN</td>\n",
       "      <td>27027.5</td>\n",
       "      <td>55558.0</td>\n",
       "      <td>28530.5</td>\n",
       "    </tr>\n",
       "    <tr>\n",
       "      <th>2</th>\n",
       "      <td>Sign Bottom</td>\n",
       "      <td>21340</td>\n",
       "      <td>37460</td>\n",
       "      <td>44998.0</td>\n",
       "      <td>59002.0</td>\n",
       "      <td>NaN</td>\n",
       "      <td>NaN</td>\n",
       "      <td>NaN</td>\n",
       "      <td>NaN</td>\n",
       "      <td>33169.0</td>\n",
       "      <td>48231.0</td>\n",
       "      <td>15062.0</td>\n",
       "    </tr>\n",
       "    <tr>\n",
       "      <th>3</th>\n",
       "      <td>Sign Bottom</td>\n",
       "      <td>23912</td>\n",
       "      <td>59136</td>\n",
       "      <td>NaN</td>\n",
       "      <td>NaN</td>\n",
       "      <td>NaN</td>\n",
       "      <td>NaN</td>\n",
       "      <td>NaN</td>\n",
       "      <td>NaN</td>\n",
       "      <td>23912.0</td>\n",
       "      <td>59136.0</td>\n",
       "      <td>35224.0</td>\n",
       "    </tr>\n",
       "    <tr>\n",
       "      <th>4</th>\n",
       "      <td>Sign Bottom</td>\n",
       "      <td>16862</td>\n",
       "      <td>59292</td>\n",
       "      <td>NaN</td>\n",
       "      <td>NaN</td>\n",
       "      <td>NaN</td>\n",
       "      <td>NaN</td>\n",
       "      <td>NaN</td>\n",
       "      <td>NaN</td>\n",
       "      <td>16862.0</td>\n",
       "      <td>59292.0</td>\n",
       "      <td>42430.0</td>\n",
       "    </tr>\n",
       "  </tbody>\n",
       "</table>\n",
       "</div>"
      ],
      "text/plain": [
       "   OMR Version  Odom Reading 1 (Previous)  Odom Reading 1 (Update)  \\\n",
       "0     Sign Top                        896                    39198   \n",
       "1  Sign Bottom                      21396                    63511   \n",
       "2  Sign Bottom                      21340                    37460   \n",
       "3  Sign Bottom                      23912                    59136   \n",
       "4  Sign Bottom                      16862                    59292   \n",
       "\n",
       "   Odom Reading 2 (Previous)  Odom Reading 2 (Update)  \\\n",
       "0                        NaN                      NaN   \n",
       "1                    32659.0                  47605.0   \n",
       "2                    44998.0                  59002.0   \n",
       "3                        NaN                      NaN   \n",
       "4                        NaN                      NaN   \n",
       "\n",
       "   Odom Reading 3 (Previous)  Odom Reading 3 (Update)  \\\n",
       "0                        NaN                      NaN   \n",
       "1                        NaN                      NaN   \n",
       "2                        NaN                      NaN   \n",
       "3                        NaN                      NaN   \n",
       "4                        NaN                      NaN   \n",
       "\n",
       "   Odom Reading 4 (Previous)  Odom Reading 4 (Update)  \\\n",
       "0                        NaN                      NaN   \n",
       "1                        NaN                      NaN   \n",
       "2                        NaN                      NaN   \n",
       "3                        NaN                      NaN   \n",
       "4                        NaN                      NaN   \n",
       "\n",
       "   Odom Reading All Avg (Previous)  Odom Reading All Avg (Update)  Diff All  \n",
       "0                            896.0                        39198.0   38302.0  \n",
       "1                          27027.5                        55558.0   28530.5  \n",
       "2                          33169.0                        48231.0   15062.0  \n",
       "3                          23912.0                        59136.0   35224.0  \n",
       "4                          16862.0                        59292.0   42430.0  "
      ]
     },
     "execution_count": 4,
     "metadata": {},
     "output_type": "execute_result"
    }
   ],
   "source": [
    "#SOLN\n",
    "\n",
    "df['Odom Reading All Avg (Previous)'] = df[['Odom Reading 1 (Previous)', 'Odom Reading 2 (Previous)', \n",
    "                                            'Odom Reading 3 (Previous)', 'Odom Reading 4 (Previous)']].mean(axis=1, skipna=True)\n",
    "\n",
    "df['Odom Reading All Avg (Update)'] = df[['Odom Reading 1 (Update)', 'Odom Reading 2 (Update)', \n",
    "                                          'Odom Reading 3 (Update)', 'Odom Reading 4 (Update)']].mean(axis=1, skipna=True)\n",
    "\n",
    "df['Diff All'] = df['Odom Reading All Avg (Update)'] - df['Odom Reading All Avg (Previous)']\n",
    "\n",
    "df.head()"
   ]
  },
  {
   "cell_type": "markdown",
   "id": "b4a3f9ad-9406-4723-99c1-45cfcb4da8b9",
   "metadata": {},
   "source": [
    "**Question 3** What pattern of data would we expect if our hypothesis was false (null hypothesis)? Likewise, what would we expect if it was true?"
   ]
  },
  {
   "cell_type": "markdown",
   "id": "45381a5e",
   "metadata": {},
   "source": [
    "<div style=\"text-align: center; margin-top: 10px;\">\n",
    "    <div style=\"width: 100%; height: 30px; border-top: 2px solid black; border-radius: 50px 50px 0 0; margin-top: 10px;\"></div>\n",
    "</div>"
   ]
  },
  {
   "cell_type": "markdown",
   "id": "9389fcf0-71e2-44da-8a59-2339247c3299",
   "metadata": {},
   "source": [
    "*Replace This Text*"
   ]
  },
  {
   "cell_type": "markdown",
   "id": "29a7b560-b4fc-4c84-bd27-76aa12caed22",
   "metadata": {},
   "source": [
    "<div style=\"text-align: center; margin-top: 10px;\">\n",
    "    <div style=\"width: 100%; height: 30px; border-bottom: 2px solid black; border-radius: 0 0 50px 50px; margin-top: 10px;\"></div>\n",
    "</div>\n"
   ]
  },
  {
   "cell_type": "markdown",
   "id": "e4ccfee3",
   "metadata": {},
   "source": [
    "**Question 4**\n",
    "Does this experiment satisfy each of the criteria for an RCT? Briefly explain."
   ]
  },
  {
   "cell_type": "markdown",
   "id": "45381a5e",
   "metadata": {},
   "source": [
    "<div style=\"text-align: center; margin-top: 10px;\">\n",
    "    <div style=\"width: 100%; height: 30px; border-top: 2px solid black; border-radius: 50px 50px 0 0; margin-top: 10px;\"></div>\n",
    "</div>"
   ]
  },
  {
   "cell_type": "markdown",
   "id": "8f4b10fb",
   "metadata": {},
   "source": [
    "*Replace This Text*"
   ]
  },
  {
   "cell_type": "markdown",
   "id": "29a7b560-b4fc-4c84-bd27-76aa12caed22",
   "metadata": {},
   "source": [
    "<div style=\"text-align: center; margin-top: 10px;\">\n",
    "    <div style=\"width: 100%; height: 30px; border-bottom: 2px solid black; border-radius: 0 0 50px 50px; margin-top: 10px;\"></div>\n",
    "</div>\n"
   ]
  },
  {
   "cell_type": "markdown",
   "id": "d4a2b9a1-5999-4726-a672-6665dcca2828",
   "metadata": {},
   "source": [
    "Let's look at the experimental result! Here we have plotted the self-reported miles driven between \"Previous\" and \"Update\". Those who signed at the top are plotted in blue, and those who signed at the bottom are plotted in orange."
   ]
  },
  {
   "cell_type": "code",
   "execution_count": null,
   "id": "19a11fbe-6ee0-47fe-b697-484ebf566e95",
   "metadata": {},
   "outputs": [
    {
     "data": {
      "image/png": "[encoded data removed]",
      "text/plain": [
       "<Figure size 700x400 with 1 Axes>"
      ]
     },
     "metadata": {},
     "output_type": "display_data"
    }
   ],
   "source": [
    "# just run this box\n",
    "import matplotlib.pyplot as plt\n",
    "\n",
    "plt.figure(figsize=(7, 4))\n",
    "\n",
    "for version in df[\"OMR Version\"].unique():\n",
    "    plt.hist(df[df[\"OMR Version\"] == version][\"Diff All\"], \n",
    "             bins=80, label=version, histtype=\"step\")\n",
    "\n",
    "\n",
    "plt.xlabel(\"Miles Driven (Odom Update - Odom Previous)\")\n",
    "plt.ylabel(\"Count\")\n",
    "plt.legend(title=\"OMR Version\")\n",
    "plt.show()"
   ]
  },
  {
   "cell_type": "markdown",
   "id": "0355b711-014f-4ebe-bf4c-51f6186d8c8e",
   "metadata": {},
   "source": [
    "**Question 5** Based on this plot, did changing the placement of the signed pledge have an effect on the self-reported miles driven? If so, did it increase or decrease the self-reported miles driven?"
   ]
  },
  {
   "cell_type": "markdown",
   "id": "45381a5e",
   "metadata": {},
   "source": [
    "<div style=\"text-align: center; margin-top: 10px;\">\n",
    "    <div style=\"width: 100%; height: 30px; border-top: 2px solid black; border-radius: 50px 50px 0 0; margin-top: 10px;\"></div>\n",
    "</div>"
   ]
  },
  {
   "cell_type": "markdown",
   "id": "56ea5047-8591-428c-b1cf-0377c5f254d8",
   "metadata": {},
   "source": [
    "*Replace This Text*"
   ]
  },
  {
   "cell_type": "markdown",
   "id": "29a7b560-b4fc-4c84-bd27-76aa12caed22",
   "metadata": {},
   "source": [
    "<div style=\"text-align: center; margin-top: 10px;\">\n",
    "    <div style=\"width: 100%; height: 30px; border-bottom: 2px solid black; border-radius: 0 0 50px 50px; margin-top: 10px;\"></div>\n",
    "</div>\n"
   ]
  },
  {
   "cell_type": "markdown",
   "id": "944b0e32-8f2a-4aac-8c43-0e47b32dafea",
   "metadata": {},
   "source": [
    "**Task 1**\n",
    "It may be pretty obvious from the graph that the distributions of miles driven differ depending on the placement of the honesty pledge. Nevertheless, as careful statisticians, we should give a quantitative report of this finding.\n",
    "\n",
    "First, compute the mean of each distribution. That is, what is the mean (self-reported) miles driven by someone who signed the honesty pledge on the bottom? On the top?\n",
    "\n",
    "\n",
    "<!-- To help us figure this out, we'll add \"error bars\" to our means. These bars show us how much \"wiggle room\" we should expect in our averages if we were to repeat our experiment with different samples. If the error bars from the two groups don't overlap, we can be more confident that the groups are truly different beyond what is expected of random chance – here we're looking at how the mean could fluctuate between samples. \n",
    "\n",
    "$$\\text{ Error Bar on Mean } = \\frac{\\text{Sample Standard Deviation}}{\\sqrt{\\text{Sample Size}}}$$ -->\n"
   ]
  },
  {
   "cell_type": "markdown",
   "id": "3ba248a6",
   "metadata": {},
   "source": [
    "**Task 1.1** Using the `Diff All` column we computed above, let's split up the data into two data frames `df_top` and `df_top` based on the \"OMR Version\", our experimental variable."
   ]
  },
  {
   "cell_type": "code",
   "execution_count": null,
   "id": "f03a8e35",
   "metadata": {},
   "outputs": [],
   "source": [
    "df_top = ...\n",
    "df_bottom = ..."
   ]
  },
  {
   "cell_type": "code",
   "execution_count": null,
   "id": "72d024bf",
   "metadata": {},
   "outputs": [],
   "source": [
    "# Let's check if we have done the split correctly.\n",
    "print(df_top.head())"
   ]
  },
  {
   "cell_type": "code",
   "execution_count": null,
   "id": "c03f8751",
   "metadata": {},
   "outputs": [],
   "source": [
    "print(df_bottom.head())"
   ]
  },
  {
   "cell_type": "markdown",
   "id": "a14a4340",
   "metadata": {},
   "source": [
    "**Task 1.2** Now use `.mean()` and `.std()` to compute the means and standard deviation.\n"
   ]
  },
  {
   "cell_type": "code",
   "execution_count": null,
   "id": "6dbfcc23-120f-4332-9c23-a1d1add5b0e0",
   "metadata": {},
   "outputs": [],
   "source": [
    "mean_top = ...\n",
    "mean_bottom = ...\n",
    "\n",
    "std_top = ...\n",
    "std_bottom = ...\n",
    "\n",
    "print(f\"Sign Top Mean: {mean_top}\")\n",
    "print(f\"Sign Bottom Mean: {mean_bottom}\")\n",
    "print(f\"Sign Top Std.: {std_top:.2f}\")\n",
    "print(f\"Sign Bottom Std.: {std_bottom:.2f}\")"
   ]
  },
  {
   "cell_type": "markdown",
   "id": "eb50a6d5",
   "metadata": {},
   "source": [
    "**Task 1.3** Now, compute the standard error using our formula. This will form our error bars on our plot.\n",
    " $$ SE = \\frac{S}{\\sqrt{n}}$$\n"
   ]
  },
  {
   "cell_type": "code",
   "execution_count": null,
   "id": "abbdadae",
   "metadata": {},
   "outputs": [],
   "source": [
    "se_top = ... / np.sqrt(len(df_top))\n",
    "se_bottom = ... / np.sqrt(len(df_bottom))\n",
    "\n",
    "plt.figure(figsize=(8, 6))\n",
    "plt.bar(['Sign Top', 'Sign Bottom'], [mean_top, mean_bottom], yerr=[se_top, se_bottom], capsize=5, color=['blue', 'orange'])\n",
    "plt.ylabel('...') # Provide an appropriate Y-Axis label.\n",
    "plt.title('...') # Provide an appropriate title.\n",
    "plt.show()"
   ]
  },
  {
   "cell_type": "markdown",
   "id": "e734098f-0daf-47bc-9674-878a4667be1b",
   "metadata": {},
   "source": [
    "We use standard error here instead of what you may already know as standard deviation as we wish to better understand how accurate our sample mean is to the true population mean. Where the standard deviation tells us how much spread there is between individual points in a single sample or population, the standard error tells us how much the sample mean is likely to vary if we took many samples from the same population (we can almost think of it as taking the standard deviation of the sampling distribution). \n",
    "\n",
    "$$ SE = \\frac{S}{\\sqrt{n}}$$\n",
    "\n",
    "Here $S$ represents the standard deviation and $n$ the sample size. \n",
    "\n",
    "Imagine you’re a bakery baking multiple batches of cookies and wish to know how much the average cookie weighs. For each batch, you can weigh each cookie and obtain the mean and standard deviation of the batch. We can consider the standard error as our confidence of the average weight calculated from one batch. If we make more batches $n$ increases, and each batch has a similar average weight, then our standard error will be small. Thus more confident that the average weight from a single batch is close to the true average for all batches. And vice versa. \n",
    "\n",
    "* SD: Measure of the spread of individual observations in one group\n",
    "* SE: Comparing averages, and measure of confidence in your estimates’ accuracy.\n",
    "\n"
   ]
  },
  {
   "cell_type": "code",
   "execution_count": null,
   "id": "83731966-63aa-462e-a170-e93599fb71ac",
   "metadata": {},
   "outputs": [
    {
     "data": {
      "image/png": "[encoded data removed]",
      "text/plain": [
       "<Figure size 800x600 with 1 Axes>"
      ]
     },
     "metadata": {},
     "output_type": "display_data"
    }
   ],
   "source": [
    "#####SOLN\n",
    "\n",
    "# Let's split the data into two dataframes based on the \"OMR Version\" our experimental variable.\n",
    "df_top = df[df['OMR Version'] == 'Sign Top']\n",
    "df_bottom = df[df['OMR Version'] == 'Sign Bottom']\n",
    "\n",
    "# Now use .mean() and .std() to calculate the mean and standard error (recall the formula above) for both Sign Top and Sign Bottom dataframes.\n",
    "mean_top = df_top['Diff All'].mean()\n",
    "se_top = df_top['Diff All'].std() / np.sqrt(len(df_top))\n",
    "\n",
    "mean_bottom = df_bottom['Diff All'].mean()\n",
    "se_bottom = df_bottom['Diff All'].std() / np.sqrt(len(df_bottom))\n",
    "\n",
    "# Use plt to plot a bar chart with standard error bars. Remember to label your axis and give it a title.\n",
    "plt.figure(figsize=(8, 6))\n",
    "plt.bar(['Sign Top', 'Sign Bottom'], [mean_top, mean_bottom], yerr=[se_top, se_bottom], capsize=5, color=['tab:blue', 'tab:orange'])\n",
    "plt.ylabel('Average Miles Driven')\n",
    "plt.title('Average Miles Driven by OMR Version')\n",
    "plt.show()"
   ]
  },
  {
   "cell_type": "markdown",
   "id": "04883001-aa90-43f2-8ccc-457e1658fbfd",
   "metadata": {},
   "source": [
    "**Question 6** Interpret the height of each bar and their respective error bars. Based on this plot, did changing the placement of the signature have an effect on the self-reported miles driven? Is this effect statistically significant?"
   ]
  },
  {
   "cell_type": "markdown",
   "id": "45381a5e",
   "metadata": {},
   "source": [
    "<div style=\"text-align: center; margin-top: 10px;\">\n",
    "    <div style=\"width: 100%; height: 30px; border-top: 2px solid black; border-radius: 50px 50px 0 0; margin-top: 10px;\"></div>\n",
    "</div>"
   ]
  },
  {
   "cell_type": "markdown",
   "id": "3796504d-acce-46fd-b729-38fef60f432f",
   "metadata": {},
   "source": [
    "*Replace This Text*"
   ]
  },
  {
   "cell_type": "markdown",
   "id": "29a7b560-b4fc-4c84-bd27-76aa12caed22",
   "metadata": {},
   "source": [
    "<div style=\"text-align: center; margin-top: 10px;\">\n",
    "    <div style=\"width: 100%; height: 30px; border-bottom: 2px solid black; border-radius: 0 0 50px 50px; margin-top: 10px;\"></div>\n",
    "</div>\n"
   ]
  },
  {
   "cell_type": "markdown",
   "id": "5c3252e9-90d7-48e6-aee9-1aea0c6cab73",
   "metadata": {},
   "source": [
    "In statistics, there is something called the 68-95-99 rule. Applied to our situation, the rule says that if there were _no_ difference between signing the pledge at the top or the bottom, then the mean miles driven between the two groups would differ by less than the SE 68% of the time; less than twice the SE 95% of the time; and less than three times the SE 99% of the time.\n",
    "\n",
    "**Question 7** Looking at the bar chart or the values you computed for the means and SE, at what level of confidence would you say that the experimental result supports our hypothesis?"
   ]
  },
  {
   "cell_type": "markdown",
   "id": "45381a5e",
   "metadata": {},
   "source": [
    "<div style=\"text-align: center; margin-top: 10px;\">\n",
    "    <div style=\"width: 100%; height: 30px; border-top: 2px solid black; border-radius: 50px 50px 0 0; margin-top: 10px;\"></div>\n",
    "</div>"
   ]
  },
  {
   "cell_type": "markdown",
   "id": "4d35bf7d-ef77-4077-b6e0-956dfa7e5142",
   "metadata": {},
   "source": [
    "*Replace This Text*"
   ]
  },
  {
   "cell_type": "markdown",
   "id": "29a7b560-b4fc-4c84-bd27-76aa12caed22",
   "metadata": {},
   "source": [
    "<div style=\"text-align: center; margin-top: 10px;\">\n",
    "    <div style=\"width: 100%; height: 30px; border-bottom: 2px solid black; border-radius: 0 0 50px 50px; margin-top: 10px;\"></div>\n",
    "</div>\n"
   ]
  },
  {
   "cell_type": "markdown",
   "id": "4120d0aa",
   "metadata": {},
   "source": [
    "**Question 8**  What is the effect size, i.e. how much does the placement of the honesty pledge change the self-reported miles driven? How should the insurance company interpret and act on this result?"
   ]
  },
  {
   "cell_type": "markdown",
   "id": "45381a5e",
   "metadata": {},
   "source": [
    "<div style=\"text-align: center; margin-top: 10px;\">\n",
    "    <div style=\"width: 100%; height: 30px; border-top: 2px solid black; border-radius: 50px 50px 0 0; margin-top: 10px;\"></div>\n",
    "</div>"
   ]
  },
  {
   "cell_type": "markdown",
   "id": "4d35bf7d-ef77-4077-b6e0-956dfa7e5142",
   "metadata": {},
   "source": [
    "*Replace This Text*"
   ]
  },
  {
   "cell_type": "markdown",
   "id": "29a7b560-b4fc-4c84-bd27-76aa12caed22",
   "metadata": {},
   "source": [
    "<div style=\"text-align: center; margin-top: 10px;\">\n",
    "    <div style=\"width: 100%; height: 30px; border-bottom: 2px solid black; border-radius: 0 0 50px 50px; margin-top: 10px;\"></div>\n",
    "</div>\n"
   ]
  },
  {
   "cell_type": "markdown",
   "id": "e7d00c0a-2ee8-4fd7-a76c-652b0d780b79",
   "metadata": {},
   "source": [
    "**Question 9**\n",
    "Peer review is an essential part of the scientific process. An expert from outside the research group evaluates the methodology of the experiment and analysis, reducing the effect of confirmation bias. Now take the role of a [peer reviewer](https://www.pnas.org/reviewer). Please reflect and evaluate the research design, collection, analysis and outcome of your friend's findings above. Is the experiment effective? Does the result match your personal experience? (If you do not drive, please explain this effect to someone who does drive and ask them this question.) Can you think of alternative explanations for the effect observed here? Write down any other concerns you may have about this experiment or the analysis."
   ]
  },
  {
   "cell_type": "markdown",
   "id": "45381a5e",
   "metadata": {},
   "source": [
    "<div style=\"text-align: center; margin-top: 10px;\">\n",
    "    <div style=\"width: 100%; height: 30px; border-top: 2px solid black; border-radius: 50px 50px 0 0; margin-top: 10px;\"></div>\n",
    "</div>"
   ]
  },
  {
   "cell_type": "markdown",
   "id": "38d050e7-2ff3-46e9-993c-87d9b2c8e873",
   "metadata": {},
   "source": [
    "*Replace This Text*"
   ]
  },
  {
   "cell_type": "markdown",
   "id": "29a7b560-b4fc-4c84-bd27-76aa12caed22",
   "metadata": {},
   "source": [
    "<div style=\"text-align: center; margin-top: 10px;\">\n",
    "    <div style=\"width: 100%; height: 30px; border-bottom: 2px solid black; border-radius: 0 0 50px 50px; margin-top: 10px;\"></div>\n",
    "</div>\n"
   ]
  }
 ],
 "metadata": {
  "kernelspec": {
   "display_name": "Python 3.9.20 ('clean_env')",
   "language": "python",
   "name": "python3"
  },
  "language_info": {
   "codemirror_mode": {
    "name": "ipython",
    "version": 3
   },
   "file_extension": ".py",
   "mimetype": "text/x-python",
   "name": "python",
   "nbconvert_exporter": "python",
   "pygments_lexer": "ipython3",
   "version": "3.9.20"
  },
  "vscode": {
   "interpreter": {
    "hash": "465f021c37cd7d0aa42055939df284a7706258c1b4424305428205cfd4e03ca4"
   }
  }
 },
 "nbformat": 4,
 "nbformat_minor": 5
}
