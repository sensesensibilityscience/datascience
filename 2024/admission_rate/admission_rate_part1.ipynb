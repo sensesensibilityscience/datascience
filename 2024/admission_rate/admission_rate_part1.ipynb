{
  "nbformat": 4,
  "nbformat_minor": 0,
  "metadata": {
    "colab": {
      "provenance": [],
      "include_colab_link": true
    },
    "kernelspec": {
      "name": "python3",
      "display_name": "Python 3"
    },
    "language_info": {
      "name": "python"
    }
  },
  "cells": [
    {
      "cell_type": "markdown",
      "metadata": {
        "id": "view-in-github",
        "colab_type": "text"
      },
      "source": [
        "<a href=\"https://colab.research.google.com/github/michellesuminpark/datascience/blob/master/2024/admission_rate/admission_rate_part1.ipynb\" target=\"_parent\"><img src=\"https://colab.research.google.com/assets/colab-badge.svg\" alt=\"Open In Colab\"/></a>"
      ]
    },
    {
      "cell_type": "markdown",
      "source": [
        "# **[LS22] UC Berkeley Admission Rate**"
      ],
      "metadata": {
        "id": "naFAkdOL7PXO"
      }
    },
    {
      "cell_type": "code",
      "execution_count": null,
      "metadata": {
        "id": "d5r5TaunzrFo"
      },
      "outputs": [],
      "source": [
        "import numpy as np\n",
        "import pandas as pd\n",
        "import matplotlib.pyplot as plt"
      ]
    },
    {
      "cell_type": "markdown",
      "source": [
        "<br/>\n",
        "\n",
        "<hr style=\"border: 1px solid #fdb515;\" />"
      ],
      "metadata": {
        "id": "r9dIdDaj-Y0K"
      }
    },
    {
      "cell_type": "markdown",
      "source": [
        "# INSTRUCTOR ONLY: SPLIT 1 (1.2, 2.1, 2.2, 3.1, 3.2)"
      ],
      "metadata": {
        "id": "lJf33AMIq1v7"
      }
    },
    {
      "cell_type": "markdown",
      "source": [
        "## Part 1: Observation and Instrumentation"
      ],
      "metadata": {
        "id": "zNLCI7CZOnkB"
      }
    },
    {
      "cell_type": "markdown",
      "source": [
        "A university's admission is related to the different aspects of the society, and often becomes a good reflection on societal's values and dynamic. For this part of the assignment, we will be working with a segment of **UC Berkeley's 1973 graduate admission data** to further explore how gender (recorded binary: Female and Male during 1973) plays a role in admission."
      ],
      "metadata": {
        "id": "MGDqpkk_1KTw"
      }
    },
    {
      "cell_type": "markdown",
      "source": [
        "First, let's run the data! Fill in the code to read *```berkeley.csv```* below to call the data."
      ],
      "metadata": {
        "id": "YSAXX8QL2xlT"
      }
    },
    {
      "cell_type": "code",
      "source": [
        "# Sync Google Drive to get CSV file\n",
        "from google.colab import drive\n",
        "drive.mount('/content/drive')"
      ],
      "metadata": {
        "id": "_VawtGjD3Owl",
        "colab": {
          "base_uri": "https://localhost:8080/"
        },
        "outputId": "eda4615e-a12e-4267-e352-a84ecd7d502e"
      },
      "execution_count": null,
      "outputs": [
        {
          "output_type": "stream",
          "name": "stdout",
          "text": [
            "Drive already mounted at /content/drive; to attempt to forcibly remount, call drive.mount(\"/content/drive\", force_remount=True).\n"
          ]
        }
      ]
    },
    {
      "cell_type": "code",
      "source": [
        "# Load UC Berkeley 1973 Graduate Admission Rate Dataset\n",
        "berkeley = ...\n",
        "berkeley.head(15)"
      ],
      "metadata": {
        "id": "Vnswi18I7i8W",
        "colab": {
          "base_uri": "https://localhost:8080/",
          "height": 176
        },
        "outputId": "2d148baa-b534-4a75-dc72-8a57c61726d4"
      },
      "execution_count": null,
      "outputs": [
        {
          "output_type": "error",
          "ename": "AttributeError",
          "evalue": "'ellipsis' object has no attribute 'head'",
          "traceback": [
            "\u001b[0;31m---------------------------------------------------------------------------\u001b[0m",
            "\u001b[0;31mAttributeError\u001b[0m                            Traceback (most recent call last)",
            "\u001b[0;32m<ipython-input-9-d912cf902627>\u001b[0m in \u001b[0;36m<cell line: 3>\u001b[0;34m()\u001b[0m\n\u001b[1;32m      1\u001b[0m \u001b[0;31m# Load UC Berkeley 1973 Graduate Admission Rate Dataset\u001b[0m\u001b[0;34m\u001b[0m\u001b[0;34m\u001b[0m\u001b[0m\n\u001b[1;32m      2\u001b[0m \u001b[0mberkeley\u001b[0m \u001b[0;34m=\u001b[0m \u001b[0;34m...\u001b[0m\u001b[0;34m\u001b[0m\u001b[0;34m\u001b[0m\u001b[0m\n\u001b[0;32m----> 3\u001b[0;31m \u001b[0mberkeley\u001b[0m\u001b[0;34m.\u001b[0m\u001b[0mhead\u001b[0m\u001b[0;34m(\u001b[0m\u001b[0;36m15\u001b[0m\u001b[0;34m)\u001b[0m\u001b[0;34m\u001b[0m\u001b[0;34m\u001b[0m\u001b[0m\n\u001b[0m",
            "\u001b[0;31mAttributeError\u001b[0m: 'ellipsis' object has no attribute 'head'"
          ]
        }
      ]
    },
    {
      "cell_type": "code",
      "source": [
        "# Instructor_only/ Solution\n",
        "\n",
        "berkeley = pd.read_csv('/content/drive/MyDrive/SSS/berkeley.csv')\n",
        "berkeley.head(15)"
      ],
      "metadata": {
        "id": "HOhh5H9V3bAA",
        "colab": {
          "base_uri": "https://localhost:8080/",
          "height": 519
        },
        "outputId": "2aacdcff-0d9d-4fcd-dba8-2145737f40ca"
      },
      "execution_count": null,
      "outputs": [
        {
          "output_type": "execute_result",
          "data": {
            "text/plain": [
              "    Year  Major Gender Admission\n",
              "0   1973      C      F  Rejected\n",
              "1   1973      B      M  Accepted\n",
              "2   1973  Other      F  Accepted\n",
              "3   1973  Other      M  Accepted\n",
              "4   1973  Other      M  Rejected\n",
              "5   1973  Other      M  Rejected\n",
              "6   1973      F      F  Accepted\n",
              "7   1973  Other      M  Accepted\n",
              "8   1973  Other      M  Rejected\n",
              "9   1973      A      M  Accepted\n",
              "10  1973  Other      F  Rejected\n",
              "11  1973      B      M  Accepted\n",
              "12  1973      C      M  Rejected\n",
              "13  1973      A      M  Rejected\n",
              "14  1973  Other      M  Rejected"
            ],
            "text/html": [
              "\n",
              "  <div id=\"df-022f32c5-54ff-4f24-a542-8c0ffbbe50a7\" class=\"colab-df-container\">\n",
              "    <div>\n",
              "<style scoped>\n",
              "    .dataframe tbody tr th:only-of-type {\n",
              "        vertical-align: middle;\n",
              "    }\n",
              "\n",
              "    .dataframe tbody tr th {\n",
              "        vertical-align: top;\n",
              "    }\n",
              "\n",
              "    .dataframe thead th {\n",
              "        text-align: right;\n",
              "    }\n",
              "</style>\n",
              "<table border=\"1\" class=\"dataframe\">\n",
              "  <thead>\n",
              "    <tr style=\"text-align: right;\">\n",
              "      <th></th>\n",
              "      <th>Year</th>\n",
              "      <th>Major</th>\n",
              "      <th>Gender</th>\n",
              "      <th>Admission</th>\n",
              "    </tr>\n",
              "  </thead>\n",
              "  <tbody>\n",
              "    <tr>\n",
              "      <th>0</th>\n",
              "      <td>1973</td>\n",
              "      <td>C</td>\n",
              "      <td>F</td>\n",
              "      <td>Rejected</td>\n",
              "    </tr>\n",
              "    <tr>\n",
              "      <th>1</th>\n",
              "      <td>1973</td>\n",
              "      <td>B</td>\n",
              "      <td>M</td>\n",
              "      <td>Accepted</td>\n",
              "    </tr>\n",
              "    <tr>\n",
              "      <th>2</th>\n",
              "      <td>1973</td>\n",
              "      <td>Other</td>\n",
              "      <td>F</td>\n",
              "      <td>Accepted</td>\n",
              "    </tr>\n",
              "    <tr>\n",
              "      <th>3</th>\n",
              "      <td>1973</td>\n",
              "      <td>Other</td>\n",
              "      <td>M</td>\n",
              "      <td>Accepted</td>\n",
              "    </tr>\n",
              "    <tr>\n",
              "      <th>4</th>\n",
              "      <td>1973</td>\n",
              "      <td>Other</td>\n",
              "      <td>M</td>\n",
              "      <td>Rejected</td>\n",
              "    </tr>\n",
              "    <tr>\n",
              "      <th>5</th>\n",
              "      <td>1973</td>\n",
              "      <td>Other</td>\n",
              "      <td>M</td>\n",
              "      <td>Rejected</td>\n",
              "    </tr>\n",
              "    <tr>\n",
              "      <th>6</th>\n",
              "      <td>1973</td>\n",
              "      <td>F</td>\n",
              "      <td>F</td>\n",
              "      <td>Accepted</td>\n",
              "    </tr>\n",
              "    <tr>\n",
              "      <th>7</th>\n",
              "      <td>1973</td>\n",
              "      <td>Other</td>\n",
              "      <td>M</td>\n",
              "      <td>Accepted</td>\n",
              "    </tr>\n",
              "    <tr>\n",
              "      <th>8</th>\n",
              "      <td>1973</td>\n",
              "      <td>Other</td>\n",
              "      <td>M</td>\n",
              "      <td>Rejected</td>\n",
              "    </tr>\n",
              "    <tr>\n",
              "      <th>9</th>\n",
              "      <td>1973</td>\n",
              "      <td>A</td>\n",
              "      <td>M</td>\n",
              "      <td>Accepted</td>\n",
              "    </tr>\n",
              "    <tr>\n",
              "      <th>10</th>\n",
              "      <td>1973</td>\n",
              "      <td>Other</td>\n",
              "      <td>F</td>\n",
              "      <td>Rejected</td>\n",
              "    </tr>\n",
              "    <tr>\n",
              "      <th>11</th>\n",
              "      <td>1973</td>\n",
              "      <td>B</td>\n",
              "      <td>M</td>\n",
              "      <td>Accepted</td>\n",
              "    </tr>\n",
              "    <tr>\n",
              "      <th>12</th>\n",
              "      <td>1973</td>\n",
              "      <td>C</td>\n",
              "      <td>M</td>\n",
              "      <td>Rejected</td>\n",
              "    </tr>\n",
              "    <tr>\n",
              "      <th>13</th>\n",
              "      <td>1973</td>\n",
              "      <td>A</td>\n",
              "      <td>M</td>\n",
              "      <td>Rejected</td>\n",
              "    </tr>\n",
              "    <tr>\n",
              "      <th>14</th>\n",
              "      <td>1973</td>\n",
              "      <td>Other</td>\n",
              "      <td>M</td>\n",
              "      <td>Rejected</td>\n",
              "    </tr>\n",
              "  </tbody>\n",
              "</table>\n",
              "</div>\n",
              "    <div class=\"colab-df-buttons\">\n",
              "\n",
              "  <div class=\"colab-df-container\">\n",
              "    <button class=\"colab-df-convert\" onclick=\"convertToInteractive('df-022f32c5-54ff-4f24-a542-8c0ffbbe50a7')\"\n",
              "            title=\"Convert this dataframe to an interactive table.\"\n",
              "            style=\"display:none;\">\n",
              "\n",
              "  <svg xmlns=\"http://www.w3.org/2000/svg\" height=\"24px\" viewBox=\"0 -960 960 960\">\n",
              "    <path d=\"M120-120v-720h720v720H120Zm60-500h600v-160H180v160Zm220 220h160v-160H400v160Zm0 220h160v-160H400v160ZM180-400h160v-160H180v160Zm440 0h160v-160H620v160ZM180-180h160v-160H180v160Zm440 0h160v-160H620v160Z\"/>\n",
              "  </svg>\n",
              "    </button>\n",
              "\n",
              "  <style>\n",
              "    .colab-df-container {\n",
              "      display:flex;\n",
              "      gap: 12px;\n",
              "    }\n",
              "\n",
              "    .colab-df-convert {\n",
              "      background-color: #E8F0FE;\n",
              "      border: none;\n",
              "      border-radius: 50%;\n",
              "      cursor: pointer;\n",
              "      display: none;\n",
              "      fill: #1967D2;\n",
              "      height: 32px;\n",
              "      padding: 0 0 0 0;\n",
              "      width: 32px;\n",
              "    }\n",
              "\n",
              "    .colab-df-convert:hover {\n",
              "      background-color: #E2EBFA;\n",
              "      box-shadow: 0px 1px 2px rgba(60, 64, 67, 0.3), 0px 1px 3px 1px rgba(60, 64, 67, 0.15);\n",
              "      fill: #174EA6;\n",
              "    }\n",
              "\n",
              "    .colab-df-buttons div {\n",
              "      margin-bottom: 4px;\n",
              "    }\n",
              "\n",
              "    [theme=dark] .colab-df-convert {\n",
              "      background-color: #3B4455;\n",
              "      fill: #D2E3FC;\n",
              "    }\n",
              "\n",
              "    [theme=dark] .colab-df-convert:hover {\n",
              "      background-color: #434B5C;\n",
              "      box-shadow: 0px 1px 3px 1px rgba(0, 0, 0, 0.15);\n",
              "      filter: drop-shadow(0px 1px 2px rgba(0, 0, 0, 0.3));\n",
              "      fill: #FFFFFF;\n",
              "    }\n",
              "  </style>\n",
              "\n",
              "    <script>\n",
              "      const buttonEl =\n",
              "        document.querySelector('#df-022f32c5-54ff-4f24-a542-8c0ffbbe50a7 button.colab-df-convert');\n",
              "      buttonEl.style.display =\n",
              "        google.colab.kernel.accessAllowed ? 'block' : 'none';\n",
              "\n",
              "      async function convertToInteractive(key) {\n",
              "        const element = document.querySelector('#df-022f32c5-54ff-4f24-a542-8c0ffbbe50a7');\n",
              "        const dataTable =\n",
              "          await google.colab.kernel.invokeFunction('convertToInteractive',\n",
              "                                                    [key], {});\n",
              "        if (!dataTable) return;\n",
              "\n",
              "        const docLinkHtml = 'Like what you see? Visit the ' +\n",
              "          '<a target=\"_blank\" href=https://colab.research.google.com/notebooks/data_table.ipynb>data table notebook</a>'\n",
              "          + ' to learn more about interactive tables.';\n",
              "        element.innerHTML = '';\n",
              "        dataTable['output_type'] = 'display_data';\n",
              "        await google.colab.output.renderOutput(dataTable, element);\n",
              "        const docLink = document.createElement('div');\n",
              "        docLink.innerHTML = docLinkHtml;\n",
              "        element.appendChild(docLink);\n",
              "      }\n",
              "    </script>\n",
              "  </div>\n",
              "\n",
              "\n",
              "<div id=\"df-ca8d057e-9bc6-411f-acb4-0339b4073761\">\n",
              "  <button class=\"colab-df-quickchart\" onclick=\"quickchart('df-ca8d057e-9bc6-411f-acb4-0339b4073761')\"\n",
              "            title=\"Suggest charts\"\n",
              "            style=\"display:none;\">\n",
              "\n",
              "<svg xmlns=\"http://www.w3.org/2000/svg\" height=\"24px\"viewBox=\"0 0 24 24\"\n",
              "     width=\"24px\">\n",
              "    <g>\n",
              "        <path d=\"M19 3H5c-1.1 0-2 .9-2 2v14c0 1.1.9 2 2 2h14c1.1 0 2-.9 2-2V5c0-1.1-.9-2-2-2zM9 17H7v-7h2v7zm4 0h-2V7h2v10zm4 0h-2v-4h2v4z\"/>\n",
              "    </g>\n",
              "</svg>\n",
              "  </button>\n",
              "\n",
              "<style>\n",
              "  .colab-df-quickchart {\n",
              "      --bg-color: #E8F0FE;\n",
              "      --fill-color: #1967D2;\n",
              "      --hover-bg-color: #E2EBFA;\n",
              "      --hover-fill-color: #174EA6;\n",
              "      --disabled-fill-color: #AAA;\n",
              "      --disabled-bg-color: #DDD;\n",
              "  }\n",
              "\n",
              "  [theme=dark] .colab-df-quickchart {\n",
              "      --bg-color: #3B4455;\n",
              "      --fill-color: #D2E3FC;\n",
              "      --hover-bg-color: #434B5C;\n",
              "      --hover-fill-color: #FFFFFF;\n",
              "      --disabled-bg-color: #3B4455;\n",
              "      --disabled-fill-color: #666;\n",
              "  }\n",
              "\n",
              "  .colab-df-quickchart {\n",
              "    background-color: var(--bg-color);\n",
              "    border: none;\n",
              "    border-radius: 50%;\n",
              "    cursor: pointer;\n",
              "    display: none;\n",
              "    fill: var(--fill-color);\n",
              "    height: 32px;\n",
              "    padding: 0;\n",
              "    width: 32px;\n",
              "  }\n",
              "\n",
              "  .colab-df-quickchart:hover {\n",
              "    background-color: var(--hover-bg-color);\n",
              "    box-shadow: 0 1px 2px rgba(60, 64, 67, 0.3), 0 1px 3px 1px rgba(60, 64, 67, 0.15);\n",
              "    fill: var(--button-hover-fill-color);\n",
              "  }\n",
              "\n",
              "  .colab-df-quickchart-complete:disabled,\n",
              "  .colab-df-quickchart-complete:disabled:hover {\n",
              "    background-color: var(--disabled-bg-color);\n",
              "    fill: var(--disabled-fill-color);\n",
              "    box-shadow: none;\n",
              "  }\n",
              "\n",
              "  .colab-df-spinner {\n",
              "    border: 2px solid var(--fill-color);\n",
              "    border-color: transparent;\n",
              "    border-bottom-color: var(--fill-color);\n",
              "    animation:\n",
              "      spin 1s steps(1) infinite;\n",
              "  }\n",
              "\n",
              "  @keyframes spin {\n",
              "    0% {\n",
              "      border-color: transparent;\n",
              "      border-bottom-color: var(--fill-color);\n",
              "      border-left-color: var(--fill-color);\n",
              "    }\n",
              "    20% {\n",
              "      border-color: transparent;\n",
              "      border-left-color: var(--fill-color);\n",
              "      border-top-color: var(--fill-color);\n",
              "    }\n",
              "    30% {\n",
              "      border-color: transparent;\n",
              "      border-left-color: var(--fill-color);\n",
              "      border-top-color: var(--fill-color);\n",
              "      border-right-color: var(--fill-color);\n",
              "    }\n",
              "    40% {\n",
              "      border-color: transparent;\n",
              "      border-right-color: var(--fill-color);\n",
              "      border-top-color: var(--fill-color);\n",
              "    }\n",
              "    60% {\n",
              "      border-color: transparent;\n",
              "      border-right-color: var(--fill-color);\n",
              "    }\n",
              "    80% {\n",
              "      border-color: transparent;\n",
              "      border-right-color: var(--fill-color);\n",
              "      border-bottom-color: var(--fill-color);\n",
              "    }\n",
              "    90% {\n",
              "      border-color: transparent;\n",
              "      border-bottom-color: var(--fill-color);\n",
              "    }\n",
              "  }\n",
              "</style>\n",
              "\n",
              "  <script>\n",
              "    async function quickchart(key) {\n",
              "      const quickchartButtonEl =\n",
              "        document.querySelector('#' + key + ' button');\n",
              "      quickchartButtonEl.disabled = true;  // To prevent multiple clicks.\n",
              "      quickchartButtonEl.classList.add('colab-df-spinner');\n",
              "      try {\n",
              "        const charts = await google.colab.kernel.invokeFunction(\n",
              "            'suggestCharts', [key], {});\n",
              "      } catch (error) {\n",
              "        console.error('Error during call to suggestCharts:', error);\n",
              "      }\n",
              "      quickchartButtonEl.classList.remove('colab-df-spinner');\n",
              "      quickchartButtonEl.classList.add('colab-df-quickchart-complete');\n",
              "    }\n",
              "    (() => {\n",
              "      let quickchartButtonEl =\n",
              "        document.querySelector('#df-ca8d057e-9bc6-411f-acb4-0339b4073761 button');\n",
              "      quickchartButtonEl.style.display =\n",
              "        google.colab.kernel.accessAllowed ? 'block' : 'none';\n",
              "    })();\n",
              "  </script>\n",
              "</div>\n",
              "    </div>\n",
              "  </div>\n"
            ],
            "application/vnd.google.colaboratory.intrinsic+json": {
              "type": "dataframe",
              "variable_name": "berkeley",
              "summary": "{\n  \"name\": \"berkeley\",\n  \"rows\": 12763,\n  \"fields\": [\n    {\n      \"column\": \"Year\",\n      \"properties\": {\n        \"dtype\": \"number\",\n        \"std\": 0,\n        \"min\": 1973,\n        \"max\": 1973,\n        \"num_unique_values\": 1,\n        \"samples\": [\n          1973\n        ],\n        \"semantic_type\": \"\",\n        \"description\": \"\"\n      }\n    },\n    {\n      \"column\": \"Major\",\n      \"properties\": {\n        \"dtype\": \"category\",\n        \"num_unique_values\": 7,\n        \"samples\": [\n          \"C\"\n        ],\n        \"semantic_type\": \"\",\n        \"description\": \"\"\n      }\n    },\n    {\n      \"column\": \"Gender\",\n      \"properties\": {\n        \"dtype\": \"category\",\n        \"num_unique_values\": 2,\n        \"samples\": [\n          \"M\"\n        ],\n        \"semantic_type\": \"\",\n        \"description\": \"\"\n      }\n    },\n    {\n      \"column\": \"Admission\",\n      \"properties\": {\n        \"dtype\": \"category\",\n        \"num_unique_values\": 2,\n        \"samples\": [\n          \"Accepted\"\n        ],\n        \"semantic_type\": \"\",\n        \"description\": \"\"\n      }\n    }\n  ]\n}"
            }
          },
          "metadata": {},
          "execution_count": 17
        }
      ]
    },
    {
      "cell_type": "markdown",
      "source": [
        "<!-- BEGIN QUESTION -->\n",
        "**Question 1.1 (short answer):** Just at first glance, what can you observe from the data? What assumptions can you make based on this data and your prior knowledge of the background on admission or your classroom experience at UC Berkeley?\n",
        "\n",
        "***If you do not have any prior knowledge, explain your assumptions.*"
      ],
      "metadata": {
        "id": "Q_mv8xpDOul4"
      }
    },
    {
      "cell_type": "markdown",
      "source": [
        "_Your Answer Here_"
      ],
      "metadata": {
        "id": "i0oqhiE20lJH"
      }
    },
    {
      "cell_type": "code",
      "source": [
        "# Instructor_Only / Solution\n",
        "# Student's answer may vary. Example response below.\n",
        "\n",
        "# At first glance, there seem to be more male admitted to the UC Berkeley graduate programs. I assume that male are more likely to be admitted, as I observe male as a majority in the classrooms."
      ],
      "metadata": {
        "id": "i4Z2mDPV0p9E"
      },
      "execution_count": null,
      "outputs": []
    },
    {
      "cell_type": "markdown",
      "source": [
        "<!-- END QUESTION -->"
      ],
      "metadata": {
        "id": "9pAbvE2y98bS"
      }
    },
    {
      "cell_type": "markdown",
      "source": [
        "<!-- BEGIN QUESTION -->\n",
        "**Question 1.2 (short answer):** Do you believe in your senses regarding this topic? Why or why not? Provide a credence level (i.e. \"I am 70% confident that..\") for your assumptions above."
      ],
      "metadata": {
        "id": "bUZKf7D4AW26"
      }
    },
    {
      "cell_type": "markdown",
      "source": [
        "_Your Answer Here_"
      ],
      "metadata": {
        "id": "qbSuW8ipCao3"
      }
    },
    {
      "cell_type": "code",
      "source": [
        "# Learning goal:\n",
        "# 3.2) Calibration of Credence Levels\n",
        "## Appreciate that one can improve on the calibration of their credence levels, and one should strive to reach an accurate calibration."
      ],
      "metadata": {
        "id": "orLwdSln_St-"
      },
      "execution_count": null,
      "outputs": []
    },
    {
      "cell_type": "code",
      "source": [
        "# Instructor_Only / Solution\n",
        "# Student's answer may vary. Example response below.\n",
        "\n",
        "# I am 45% confident about my claim above. don't particularly believe in my senses because I might be exposed to only certain environment (DS class) and therefore have a skewed view of gender ratio in class/ admission."
      ],
      "metadata": {
        "id": "KwWq9sYv-kfe"
      },
      "execution_count": null,
      "outputs": []
    },
    {
      "cell_type": "markdown",
      "source": [
        "<!-- End QUESTION -->"
      ],
      "metadata": {
        "id": "OpHCtk5OCjd2"
      }
    },
    {
      "cell_type": "markdown",
      "source": [
        "Our senses can be limiting or not possible in some aspect. Now, let's utilize ```pandas```, ```numpy```, and ```matplotlib```\n",
        "\n",
        "\n",
        " instruments to explore this dataset!"
      ],
      "metadata": {
        "id": "QavTevaj_hJg"
      }
    },
    {
      "cell_type": "markdown",
      "source": [
        "## Takeaway\n",
        "In this lab, we aim to prepare students for utilizing data science and decision making skillsets with the UC Berkeley 1973 Graduate Admission\n",
        "Rate dataset. The objectives of this lab are as follows:\n",
        "\n",
        "\n",
        "- **Senses and Instrumentation**:\n",
        "  - Learn how science uses senses and instruments for observation.\n",
        "  - Trust instruments for precise observations where direct senses can't reach.\n",
        "  - Understand instrument validation and the extension of objective reality through their use.\n",
        "\n",
        "- **Probabilistic Reasoning**:\n",
        "  - Understand the importance of confidence in judgments and decision-making under uncertainty.\n",
        "  - Recognize inherent uncertainties in claims and the value of scientific expressions of uncertainty.\n",
        "\n",
        "- **Confirmation Bias**:\n",
        "  - Be aware of the tendency to favor existing beliefs, even against evidence.\n",
        "  - Learn about selective exposure and biased assimilation, and how to mitigate confirmation bias by seeking counter-evidence.\n",
        "\n",
        "- **When Is Science Suspect**:\n",
        "  - Acknowledge the misuse of science in reinforcing power structures.\n",
        "  - Be cautious of science in studies involving human groups and aware of social dynamics affecting scientific assessments."
      ],
      "metadata": {
        "id": "Yhk-Ws727IN_"
      }
    },
    {
      "cell_type": "code",
      "source": [],
      "metadata": {
        "id": "P37NKrIvG0kM"
      },
      "execution_count": null,
      "outputs": []
    },
    {
      "cell_type": "code",
      "source": [],
      "metadata": {
        "id": "M6wWfOr8G68M"
      },
      "execution_count": null,
      "outputs": []
    }
  ]
}