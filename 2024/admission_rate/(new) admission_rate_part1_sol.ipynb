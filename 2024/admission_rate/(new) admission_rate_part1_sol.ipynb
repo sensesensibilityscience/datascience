{
 "cells": [
  {
   "cell_type": "code",
   "execution_count": 1,
   "metadata": {},
   "outputs": [],
   "source": [
    "import numpy as np\n",
    "import pandas as pd\n",
    "import matplotlib.pyplot as plt\n",
    "import seaborn as sns"
   ]
  },
  {
   "cell_type": "markdown",
   "metadata": {},
   "source": [
    "<br/>\n",
    "\n",
    "<hr style=\"border: 1px solid #fdb515;\" />"
   ]
  },
  {
   "cell_type": "markdown",
   "metadata": {},
   "source": [
    "# INSTRUCTOR VERSION\n",
    "\n",
    "# Part 1: ..."
   ]
  },
  {
   "cell_type": "markdown",
   "metadata": {},
   "source": [
    "A university's admission is related to the different aspects of the society, and often becomes a reflection on societal's values and dynamic. For this part of the assignment, we will be working with **UC Berkeley's 1973 graduate admission** dataset to further explore how gender (recorded binary during 1973: Female and Male) plays a role in admission.\n",
    "\n",
    "Suppose you are an investigator from the State of California examining admissions in the UC system schools. Before diving into the dataset, consider your direct observations around campus or in classroom to understand the shared reality."
   ]
  },
  {
   "cell_type": "markdown",
   "metadata": {},
   "source": [
    "<br/>\n",
    "\n",
    "<hr style=\"border: 1px solid #fdb515;\" />"
   ]
  },
  {
   "cell_type": "markdown",
   "metadata": {},
   "source": [
    "## *Analysis Portion*"
   ]
  },
  {
   "cell_type": "markdown",
   "metadata": {},
   "source": [
    "<!-- BEGIN QUESTION -->\n",
    "**Question 1:**\n",
    "Based on your own experiences/observations on campus, can you suggest any trends in admission rates across different gender identities? How reliable are these observations in reflecting actual admission rates, and what are the potential limitations of using sensory information to gauge this? Answer will vary.\n",
    "\n",
    "- Note: When discussing gender, please be considerate of the diversity in gender identities. Your insights should reflect personal observations and are subjective."
   ]
  },
  {
   "cell_type": "markdown",
   "metadata": {},
   "source": [
    "*Your Answer Here*"
   ]
  },
  {
   "cell_type": "code",
   "execution_count": 4,
   "metadata": {},
   "outputs": [],
   "source": [
    "# Instructor Solution: \n",
    "\n",
    "# Answer may vary. \n",
    "# Students may talk about limited perspective, biased sample size, and changing trends."
   ]
  },
  {
   "cell_type": "markdown",
   "metadata": {},
   "source": [
    "<!--- END QUESTION -->\n",
    "\n",
    "\n",
    "<!-- BEGIN QUESTION -->\n",
    "**Question 2:** In what ways can we understand reality beyond our sense? What is a potential harm or biases in data collection? Identify at least two potential systemic uncertainties that might impact the fairness of the admissions process. Discuss how these systemic uncertainties could originate and propose methods that could be used to mitigate these biases in future admissions cycles.\n",
    "* Note 1: Make sure the two potential systemic uncertainties you address is not similar but comes from different dimensions/ perspectives. \n",
    "* Note 2: In few weeks we will talk more about systemic uncertainties and biases!"
   ]
  },
  {
   "cell_type": "markdown",
   "metadata": {},
   "source": [
    "*Your Answer Here*"
   ]
  },
  {
   "cell_type": "code",
   "execution_count": 5,
   "metadata": {},
   "outputs": [],
   "source": [
    "# Instructor Solution: \n",
    "\n",
    "# Answer may vary. \n",
    "# For \"what ways can we understand reality\", they can say something along the lines of...\n",
    "    # Data Collection and Analysis, Statistical Analysis, Qualitative Research\n",
    "# For \"Two potential systemic uncertainties\":\n",
    "    # Selection Bias, Measurement Bias\n",
    "    # Strucrtural inequality, Implicit bias"
   ]
  },
  {
   "cell_type": "markdown",
   "metadata": {},
   "source": [
    "<!-- End QUESTION -->\n",
    "\n",
    "Now, let's load our dataset `berkeley.csv` below."
   ]
  },
  {
   "cell_type": "code",
   "execution_count": 2,
   "metadata": {},
   "outputs": [
    {
     "data": {
      "text/html": [
       "<div>\n",
       "<style scoped>\n",
       "    .dataframe tbody tr th:only-of-type {\n",
       "        vertical-align: middle;\n",
       "    }\n",
       "\n",
       "    .dataframe tbody tr th {\n",
       "        vertical-align: top;\n",
       "    }\n",
       "\n",
       "    .dataframe thead th {\n",
       "        text-align: right;\n",
       "    }\n",
       "</style>\n",
       "<table border=\"1\" class=\"dataframe\">\n",
       "  <thead>\n",
       "    <tr style=\"text-align: right;\">\n",
       "      <th></th>\n",
       "      <th>Year</th>\n",
       "      <th>Major</th>\n",
       "      <th>Gender</th>\n",
       "      <th>Admission</th>\n",
       "    </tr>\n",
       "  </thead>\n",
       "  <tbody>\n",
       "    <tr>\n",
       "      <th>0</th>\n",
       "      <td>1973</td>\n",
       "      <td>C</td>\n",
       "      <td>F</td>\n",
       "      <td>Rejected</td>\n",
       "    </tr>\n",
       "    <tr>\n",
       "      <th>1</th>\n",
       "      <td>1973</td>\n",
       "      <td>B</td>\n",
       "      <td>M</td>\n",
       "      <td>Accepted</td>\n",
       "    </tr>\n",
       "    <tr>\n",
       "      <th>2</th>\n",
       "      <td>1973</td>\n",
       "      <td>Other</td>\n",
       "      <td>F</td>\n",
       "      <td>Accepted</td>\n",
       "    </tr>\n",
       "    <tr>\n",
       "      <th>3</th>\n",
       "      <td>1973</td>\n",
       "      <td>Other</td>\n",
       "      <td>M</td>\n",
       "      <td>Accepted</td>\n",
       "    </tr>\n",
       "    <tr>\n",
       "      <th>4</th>\n",
       "      <td>1973</td>\n",
       "      <td>Other</td>\n",
       "      <td>M</td>\n",
       "      <td>Rejected</td>\n",
       "    </tr>\n",
       "    <tr>\n",
       "      <th>5</th>\n",
       "      <td>1973</td>\n",
       "      <td>Other</td>\n",
       "      <td>M</td>\n",
       "      <td>Rejected</td>\n",
       "    </tr>\n",
       "    <tr>\n",
       "      <th>6</th>\n",
       "      <td>1973</td>\n",
       "      <td>F</td>\n",
       "      <td>F</td>\n",
       "      <td>Accepted</td>\n",
       "    </tr>\n",
       "    <tr>\n",
       "      <th>7</th>\n",
       "      <td>1973</td>\n",
       "      <td>Other</td>\n",
       "      <td>M</td>\n",
       "      <td>Accepted</td>\n",
       "    </tr>\n",
       "    <tr>\n",
       "      <th>8</th>\n",
       "      <td>1973</td>\n",
       "      <td>Other</td>\n",
       "      <td>M</td>\n",
       "      <td>Rejected</td>\n",
       "    </tr>\n",
       "    <tr>\n",
       "      <th>9</th>\n",
       "      <td>1973</td>\n",
       "      <td>A</td>\n",
       "      <td>M</td>\n",
       "      <td>Accepted</td>\n",
       "    </tr>\n",
       "  </tbody>\n",
       "</table>\n",
       "</div>"
      ],
      "text/plain": [
       "   Year  Major Gender Admission\n",
       "0  1973      C      F  Rejected\n",
       "1  1973      B      M  Accepted\n",
       "2  1973  Other      F  Accepted\n",
       "3  1973  Other      M  Accepted\n",
       "4  1973  Other      M  Rejected\n",
       "5  1973  Other      M  Rejected\n",
       "6  1973      F      F  Accepted\n",
       "7  1973  Other      M  Accepted\n",
       "8  1973  Other      M  Rejected\n",
       "9  1973      A      M  Accepted"
      ]
     },
     "execution_count": 2,
     "metadata": {},
     "output_type": "execute_result"
    }
   ],
   "source": [
    "berkeley = pd.read_csv(\"berkeley.csv\")\n",
    "berkeley.head(10)"
   ]
  },
  {
   "cell_type": "code",
   "execution_count": 7,
   "metadata": {},
   "outputs": [],
   "source": [
    "# Instructor Note / TODO: \n",
    "# Make sure the csv is in the same file path as this notebook. \n",
    "# If not, we will have tell them the path to the csv."
   ]
  },
  {
   "cell_type": "markdown",
   "metadata": {},
   "source": [
    "<!-- END QUESTION -->\n",
    "\n",
    "\n",
    "<!-- START QUESTION -->\n",
    "**Question 3**: Create a new table `admission_rate_per_gender`by grouping the original dataset by gender. Your table should include aggregated data frame with three columns, `Gender`, `total_applications`, and `accepted_applicatns`, to calculate the acceptance rate in the next question.\n",
    "\n",
    "<details open>\n",
    "\n",
    "<summary><i>Click here for hint(s)</i></summary>\n",
    "\n",
    "- <i>Hint 1: There should be only two rows for the table.</i> \n",
    "- <i>Hint 2: In Data C8, we learned the method `group`. Pandas have similar method called `groupby`. You can find the documentation for this method [here](https://pandas.pydata.org/pandas-docs/stable/reference/api/pandas.DataFrame.groupby.html).</i>\n",
    "- <i>Hint 3: If you `.groupby` a column, that becomes the index. Consider using `reset_index()` for resetting the index.</i>\n",
    "- <i>Hint 4: Panda's `.agg` ([documentation](https://pandas.pydata.org/docs/reference/api/pandas.DataFrame.agg.html)) and `lambda` can be helpful for this question.</i>\n",
    "\n",
    "</details>\n"
   ]
  },
  {
   "cell_type": "code",
   "execution_count": null,
   "metadata": {},
   "outputs": [],
   "source": [
    "admission_per_gender = ...\n",
    "\n",
    "admission_per_gender.head()"
   ]
  },
  {
   "cell_type": "code",
   "execution_count": 3,
   "metadata": {},
   "outputs": [
    {
     "data": {
      "text/html": [
       "<div>\n",
       "<style scoped>\n",
       "    .dataframe tbody tr th:only-of-type {\n",
       "        vertical-align: middle;\n",
       "    }\n",
       "\n",
       "    .dataframe tbody tr th {\n",
       "        vertical-align: top;\n",
       "    }\n",
       "\n",
       "    .dataframe thead th {\n",
       "        text-align: right;\n",
       "    }\n",
       "</style>\n",
       "<table border=\"1\" class=\"dataframe\">\n",
       "  <thead>\n",
       "    <tr style=\"text-align: right;\">\n",
       "      <th></th>\n",
       "      <th>Gender</th>\n",
       "      <th>total_applications</th>\n",
       "      <th>accepted_applications</th>\n",
       "    </tr>\n",
       "  </thead>\n",
       "  <tbody>\n",
       "    <tr>\n",
       "      <th>0</th>\n",
       "      <td>F</td>\n",
       "      <td>4321</td>\n",
       "      <td>1494</td>\n",
       "    </tr>\n",
       "    <tr>\n",
       "      <th>1</th>\n",
       "      <td>M</td>\n",
       "      <td>8442</td>\n",
       "      <td>3738</td>\n",
       "    </tr>\n",
       "  </tbody>\n",
       "</table>\n",
       "</div>"
      ],
      "text/plain": [
       "  Gender  total_applications  accepted_applications\n",
       "0      F                4321                   1494\n",
       "1      M                8442                   3738"
      ]
     },
     "execution_count": 3,
     "metadata": {},
     "output_type": "execute_result"
    }
   ],
   "source": [
    "# Instructor Solution:\n",
    "\n",
    "admission_per_gender = berkeley.groupby('Gender').agg(\n",
    "    total_applications=('Admission', 'size'), # Calculate the total number of applications per gender\n",
    "    accepted_applications=('Admission', lambda x: (x == 'Accepted').sum()) # Calculate the number of accepted applications per gender\n",
    "    ).reset_index() # Reset the index to make Gender a regular column\n",
    "\n",
    "admission_per_gender.head()"
   ]
  },
  {
   "cell_type": "markdown",
   "metadata": {},
   "source": [
    "<!-- END QUESTION -->\n",
    "\n",
    "\n",
    "<!-- START QUESTION -->\n",
    "**Question 4**: Using the table you created in **Question 3** that includes the total and accepted applications for each gender, calculate the acceptance rate for each gender and create a new table called `acceptance_rate_tbl` with two column `Gender` and `Acceptance_Rate`. For clarification, the acceptance rate should be count of accepted divided by total count of application.\n",
    "\n",
    "<details open>\n",
    "\n",
    "<summary><i>Click here for hint(s)</i></summary>\n",
    "\n",
    "- *Hint 1: Use the `.assign` method ([documentation](https://pandas.pydata.org/docs/reference/api/pandas.DataFrame.assign.html)) to create the new column for the admission rate.*\n",
    "\n",
    "    Here's an example how to use the `.assign` method\n",
    "    ```js\n",
    "    new_dataframe = old_dataframe.assign( New_Column_Name = lambda x: x['Column1'] / x['Column2'])\n",
    "\n",
    "</details>\n"
   ]
  },
  {
   "cell_type": "code",
   "execution_count": null,
   "metadata": {},
   "outputs": [],
   "source": [
    "acceptance_rate_tbl = ... \n",
    "\n",
    "acceptance_rate_tbl.head()"
   ]
  },
  {
   "cell_type": "code",
   "execution_count": 5,
   "metadata": {},
   "outputs": [
    {
     "data": {
      "text/html": [
       "<div>\n",
       "<style scoped>\n",
       "    .dataframe tbody tr th:only-of-type {\n",
       "        vertical-align: middle;\n",
       "    }\n",
       "\n",
       "    .dataframe tbody tr th {\n",
       "        vertical-align: top;\n",
       "    }\n",
       "\n",
       "    .dataframe thead th {\n",
       "        text-align: right;\n",
       "    }\n",
       "</style>\n",
       "<table border=\"1\" class=\"dataframe\">\n",
       "  <thead>\n",
       "    <tr style=\"text-align: right;\">\n",
       "      <th></th>\n",
       "      <th>Gender</th>\n",
       "      <th>Admission_Rate</th>\n",
       "    </tr>\n",
       "  </thead>\n",
       "  <tbody>\n",
       "    <tr>\n",
       "      <th>0</th>\n",
       "      <td>F</td>\n",
       "      <td>0.345753</td>\n",
       "    </tr>\n",
       "    <tr>\n",
       "      <th>1</th>\n",
       "      <td>M</td>\n",
       "      <td>0.442786</td>\n",
       "    </tr>\n",
       "  </tbody>\n",
       "</table>\n",
       "</div>"
      ],
      "text/plain": [
       "  Gender  Admission_Rate\n",
       "0      F        0.345753\n",
       "1      M        0.442786"
      ]
     },
     "execution_count": 5,
     "metadata": {},
     "output_type": "execute_result"
    }
   ],
   "source": [
    "# Instructor Solution:\n",
    "admission_rate_tbl = admission_per_gender.assign( \n",
    "    Admission_Rate=lambda x: x['accepted_applications'] / x['total_applications'] # Calculate admission rate by dividing the number of accepted applications by the total number of applications\n",
    ")[['Gender', 'Admission_Rate']]  # Selecting only the required columns\n",
    "\n",
    "admission_rate_tbl.head()"
   ]
  },
  {
   "cell_type": "markdown",
   "metadata": {},
   "source": [
    "**Question 5**: We want to plot the table we just constructed, but will first need to calculate the error bars. We will do so by calculating their variance based on a Bernoulli's distribution. The variance of a Bernoulli's distribution is: </i> $$ Var(X)=p(1−p) $$ \n",
    "\n",
    "<details open>\n",
    "\n",
    "<summary><i>Click here for hint(s)</i></summary>\n",
    "\n",
    "- *The probability `p` should be represented by the admission rate*\n",
    "- *Calculate the error bar for each gender*\n",
    "\n",
    "</details>"
   ]
  },
  {
   "cell_type": "code",
   "execution_count": null,
   "metadata": {},
   "outputs": [],
   "source": [
    "rate_f = ...\n",
    "variance_f = ...\n",
    "\n",
    "rate_m = ...\n",
    "variance_m = ...\n",
    "\n",
    "error_bars = [variance_f, variance_m]\n",
    "error_bars"
   ]
  },
  {
   "cell_type": "code",
   "execution_count": 8,
   "metadata": {},
   "outputs": [
    {
     "data": {
      "text/plain": [
       "[0.22620795487514592, 0.2467265661741046]"
      ]
     },
     "execution_count": 8,
     "metadata": {},
     "output_type": "execute_result"
    }
   ],
   "source": [
    "# Instructor Solution:\n",
    "\n",
    "rate_f = admission_rate_tbl.loc[0, 'Admission_Rate']\n",
    "variance_f = rate_f * (1 - rate_f)\n",
    "\n",
    "rate_m = admission_rate_tbl.loc[1, 'Admission_Rate']\n",
    "variance_m = rate_m * (1 - rate_m)\n",
    "\n",
    "variances = [variance_f, variance_m]\n",
    "variances"
   ]
  },
  {
   "cell_type": "markdown",
   "metadata": {},
   "source": [
    "**Question 6**: Let's append the variances we just calculated to the `admission_rate_tbl`. Title the new column `Admission_Variance`."
   ]
  },
  {
   "cell_type": "code",
   "execution_count": null,
   "metadata": {},
   "outputs": [],
   "source": [
    "admission_rate_tbl['Admission_Variance'] = ...\n",
    "\n",
    "admission_rate_tbl.head()"
   ]
  },
  {
   "cell_type": "code",
   "execution_count": 9,
   "metadata": {},
   "outputs": [
    {
     "data": {
      "text/html": [
       "<div>\n",
       "<style scoped>\n",
       "    .dataframe tbody tr th:only-of-type {\n",
       "        vertical-align: middle;\n",
       "    }\n",
       "\n",
       "    .dataframe tbody tr th {\n",
       "        vertical-align: top;\n",
       "    }\n",
       "\n",
       "    .dataframe thead th {\n",
       "        text-align: right;\n",
       "    }\n",
       "</style>\n",
       "<table border=\"1\" class=\"dataframe\">\n",
       "  <thead>\n",
       "    <tr style=\"text-align: right;\">\n",
       "      <th></th>\n",
       "      <th>Gender</th>\n",
       "      <th>Admission_Rate</th>\n",
       "      <th>Admission_Variance</th>\n",
       "    </tr>\n",
       "  </thead>\n",
       "  <tbody>\n",
       "    <tr>\n",
       "      <th>0</th>\n",
       "      <td>F</td>\n",
       "      <td>0.345753</td>\n",
       "      <td>0.226208</td>\n",
       "    </tr>\n",
       "    <tr>\n",
       "      <th>1</th>\n",
       "      <td>M</td>\n",
       "      <td>0.442786</td>\n",
       "      <td>0.246727</td>\n",
       "    </tr>\n",
       "  </tbody>\n",
       "</table>\n",
       "</div>"
      ],
      "text/plain": [
       "  Gender  Admission_Rate  Admission_Variance\n",
       "0      F        0.345753            0.226208\n",
       "1      M        0.442786            0.246727"
      ]
     },
     "execution_count": 9,
     "metadata": {},
     "output_type": "execute_result"
    }
   ],
   "source": [
    "admission_rate_tbl['Admission_Variance'] = variances\n",
    "\n",
    "admission_rate_tbl.head()"
   ]
  },
  {
   "cell_type": "markdown",
   "metadata": {},
   "source": [
    "<!-- END QUESTION -->\n",
    "\n",
    "\n",
    "<!-- START QUESTION -->\n",
    "**Question 7**: Using the updated `admission_rate_tbl` constructed in **Question 6**, create a bar graph showing each gender's admission rate. Documentation to plot bar graph in seaborn is linked [here](https://seaborn.pydata.org/generated/seaborn.barplot.html).\n",
    "* For this question, you can use any Python visualization method, including `seaborn` or `matplotlib` imported above. \n",
    "* Don't forget about the error bars!"
   ]
  },
  {
   "cell_type": "code",
   "execution_count": null,
   "metadata": {},
   "outputs": [],
   "source": [
    "..."
   ]
  },
  {
   "cell_type": "code",
   "execution_count": 10,
   "metadata": {},
   "outputs": [
    {
     "data": {
      "text/plain": [
       "<Axes: xlabel='Gender', ylabel='Admission_Rate'>"
      ]
     },
     "execution_count": 10,
     "metadata": {},
     "output_type": "execute_result"
    },
    {
     "data": {
      "image/png": "[encoded data removed]",
      "text/plain": [
       "<Figure size 640x480 with 1 Axes>"
      ]
     },
     "metadata": {},
     "output_type": "display_data"
    }
   ],
   "source": [
    "# Instructor Solution:\n",
    "\n",
    "sns.barplot(data=admission_rate_tbl, x = \"Gender\", y = \"Admission_Rate\", yerr = admission_rate_tbl[\"Admission_Variance\"]) # bar plot visualization"
   ]
  },
  {
   "cell_type": "markdown",
   "metadata": {},
   "source": [
    "<!-- END QUESTION -->\n",
    "\n",
    "\n",
    "<!-- START QUESTION -->\n",
    "**Question 8**: Analyze the graph displayed above. Based on the data presented try to discuss:\n",
    "1. Any observable trends or differences in admission rates between male and female applicants at UC Berkeley during 1973.\n",
    "2. How the biases identified in **Question 2** might influence your interpretation of these trends or differences. What might these trends imply about UC Berkeley's admissions process in that year?\n",
    "3. How might someone interpret the error bars we calculated and plotted? What do they indicate about the admissions rates by gender?\n",
    "\n",
    "*Note: Your interpretation should focus on connecting the visual data from the graph to possible conclusions about UC Berkeley's admission practices. Answer may vary.*"
   ]
  },
  {
   "cell_type": "markdown",
   "metadata": {},
   "source": [
    "*Your Answer Here*"
   ]
  },
  {
   "cell_type": "code",
   "execution_count": 20,
   "metadata": {},
   "outputs": [],
   "source": [
    "# Instructor Solution:\n",
    "\n",
    "# Students' answers may vary.\n",
    "# We have guided the students to believe the false narrative that male is more likely to be accepted.\n",
    "# Error bars may give away that there is no significant difference here..."
   ]
  },
  {
   "cell_type": "code",
   "execution_count": 12,
   "metadata": {},
   "outputs": [
    {
     "data": {
      "text/html": [
       "<div>\n",
       "<style scoped>\n",
       "    .dataframe tbody tr th:only-of-type {\n",
       "        vertical-align: middle;\n",
       "    }\n",
       "\n",
       "    .dataframe tbody tr th {\n",
       "        vertical-align: top;\n",
       "    }\n",
       "\n",
       "    .dataframe thead th {\n",
       "        text-align: right;\n",
       "    }\n",
       "</style>\n",
       "<table border=\"1\" class=\"dataframe\">\n",
       "  <thead>\n",
       "    <tr style=\"text-align: right;\">\n",
       "      <th></th>\n",
       "      <th>Gender</th>\n",
       "      <th>total_applications</th>\n",
       "      <th>accepted_applications</th>\n",
       "    </tr>\n",
       "  </thead>\n",
       "  <tbody>\n",
       "    <tr>\n",
       "      <th>0</th>\n",
       "      <td>F</td>\n",
       "      <td>4321</td>\n",
       "      <td>1494</td>\n",
       "    </tr>\n",
       "    <tr>\n",
       "      <th>1</th>\n",
       "      <td>M</td>\n",
       "      <td>8442</td>\n",
       "      <td>3738</td>\n",
       "    </tr>\n",
       "  </tbody>\n",
       "</table>\n",
       "</div>"
      ],
      "text/plain": [
       "  Gender  total_applications  accepted_applications\n",
       "0      F                4321                   1494\n",
       "1      M                8442                   3738"
      ]
     },
     "execution_count": 12,
     "metadata": {},
     "output_type": "execute_result"
    }
   ],
   "source": [
    "admission_per_gender.head()"
   ]
  },
  {
   "cell_type": "markdown",
   "metadata": {},
   "source": [
    "**Question 9**: `admission_per_gender` has been loaded above for your convenience. Let's add a column with applications that were rejected, per gender. Title the new column `rejected_applications`"
   ]
  },
  {
   "cell_type": "code",
   "execution_count": null,
   "metadata": {},
   "outputs": [],
   "source": [
    "...\n",
    "\n",
    "admission_per_gender.head()"
   ]
  },
  {
   "cell_type": "code",
   "execution_count": 14,
   "metadata": {},
   "outputs": [
    {
     "data": {
      "text/html": [
       "<div>\n",
       "<style scoped>\n",
       "    .dataframe tbody tr th:only-of-type {\n",
       "        vertical-align: middle;\n",
       "    }\n",
       "\n",
       "    .dataframe tbody tr th {\n",
       "        vertical-align: top;\n",
       "    }\n",
       "\n",
       "    .dataframe thead th {\n",
       "        text-align: right;\n",
       "    }\n",
       "</style>\n",
       "<table border=\"1\" class=\"dataframe\">\n",
       "  <thead>\n",
       "    <tr style=\"text-align: right;\">\n",
       "      <th></th>\n",
       "      <th>Gender</th>\n",
       "      <th>total_applications</th>\n",
       "      <th>accepted_applications</th>\n",
       "      <th>rejected_applications</th>\n",
       "    </tr>\n",
       "  </thead>\n",
       "  <tbody>\n",
       "    <tr>\n",
       "      <th>0</th>\n",
       "      <td>F</td>\n",
       "      <td>4321</td>\n",
       "      <td>1494</td>\n",
       "      <td>2827</td>\n",
       "    </tr>\n",
       "    <tr>\n",
       "      <th>1</th>\n",
       "      <td>M</td>\n",
       "      <td>8442</td>\n",
       "      <td>3738</td>\n",
       "      <td>4704</td>\n",
       "    </tr>\n",
       "  </tbody>\n",
       "</table>\n",
       "</div>"
      ],
      "text/plain": [
       "  Gender  total_applications  accepted_applications  rejected_applications\n",
       "0      F                4321                   1494                   2827\n",
       "1      M                8442                   3738                   4704"
      ]
     },
     "execution_count": 14,
     "metadata": {},
     "output_type": "execute_result"
    }
   ],
   "source": [
    "# Instructor Solution:\n",
    "\n",
    "rejected_f = admission_per_gender.loc[0, 'total_applications'] - admission_per_gender.loc[0, 'accepted_applications']\n",
    "rejected_m = admission_per_gender.loc[1, 'total_applications'] - admission_per_gender.loc[1, 'accepted_applications']\n",
    "\n",
    "admission_per_gender['rejected_applications'] = [rejected_f, rejected_m]\n",
    "admission_per_gender.head()"
   ]
  },
  {
   "cell_type": "markdown",
   "metadata": {},
   "source": [
    "**Question 10**: ..."
   ]
  },
  {
   "cell_type": "code",
   "execution_count": null,
   "metadata": {},
   "outputs": [],
   "source": []
  },
  {
   "cell_type": "markdown",
   "metadata": {},
   "source": [
    "**Question 11**: ..."
   ]
  },
  {
   "cell_type": "code",
   "execution_count": null,
   "metadata": {},
   "outputs": [],
   "source": []
  },
  {
   "cell_type": "markdown",
   "metadata": {},
   "source": [
    "<br/>\n",
    "\n",
    "<hr style=\"border: 1px solid #fdb515;\" />"
   ]
  },
  {
   "cell_type": "markdown",
   "metadata": {},
   "source": [
    "## *Discussion Portion*"
   ]
  },
  {
   "cell_type": "markdown",
   "metadata": {},
   "source": []
  },
  {
   "cell_type": "markdown",
   "metadata": {},
   "source": []
  },
  {
   "cell_type": "code",
   "execution_count": null,
   "metadata": {},
   "outputs": [],
   "source": []
  },
  {
   "cell_type": "markdown",
   "metadata": {},
   "source": []
  },
  {
   "cell_type": "markdown",
   "metadata": {},
   "source": []
  },
  {
   "cell_type": "code",
   "execution_count": null,
   "metadata": {},
   "outputs": [],
   "source": []
  },
  {
   "cell_type": "markdown",
   "metadata": {},
   "source": []
  },
  {
   "cell_type": "markdown",
   "metadata": {},
   "source": []
  },
  {
   "cell_type": "code",
   "execution_count": null,
   "metadata": {},
   "outputs": [],
   "source": []
  },
  {
   "cell_type": "markdown",
   "metadata": {},
   "source": []
  },
  {
   "cell_type": "markdown",
   "metadata": {},
   "source": []
  },
  {
   "cell_type": "code",
   "execution_count": null,
   "metadata": {},
   "outputs": [],
   "source": []
  },
  {
   "cell_type": "markdown",
   "metadata": {},
   "source": [
    "End of the assignment! 😄 Great job! We will come back to this story in Part 2 later during the semester. "
   ]
  }
 ],
 "metadata": {
  "kernelspec": {
   "display_name": "base",
   "language": "python",
   "name": "python3"
  },
  "language_info": {
   "codemirror_mode": {
    "name": "ipython",
    "version": 3
   },
   "file_extension": ".py",
   "mimetype": "text/x-python",
   "name": "python",
   "nbconvert_exporter": "python",
   "pygments_lexer": "ipython3",
   "version": "3.10.9"
  }
 },
 "nbformat": 4,
 "nbformat_minor": 2
}
