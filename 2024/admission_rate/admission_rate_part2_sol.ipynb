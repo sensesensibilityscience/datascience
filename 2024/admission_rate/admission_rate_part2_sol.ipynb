{
 "cells": [
  {
   "cell_type": "code",
   "execution_count": 1,
   "metadata": {},
   "outputs": [],
   "source": [
    "# This line imports pandas, numpy, matplotlib.pyplot, seaborn, and custom function relevant to part 2\n",
    "%matplotlib widget\n",
    "from admission_rate import *"
   ]
  },
  {
   "cell_type": "markdown",
   "metadata": {},
   "source": [
    "<br/>\n",
    "\n",
    "<hr style=\"border: 1px solid #fdb515;\" />"
   ]
  },
  {
   "cell_type": "markdown",
   "metadata": {},
   "source": [
    "# INSTRUCTOR VERSION"
   ]
  },
  {
   "cell_type": "markdown",
   "metadata": {},
   "source": [
    "# Part 2: Gender bias in admission within each major at UC Berkeley in 1973"
   ]
  },
  {
   "cell_type": "markdown",
   "metadata": {},
   "source": [
    "## **Question 0: Recap**"
   ]
  },
  {
   "cell_type": "markdown",
   "metadata": {},
   "source": [
    "In Part 1 of this module, we looked at the admission data of UC Berkeley in 1973 and found that 44% of male applicants were admitted while only 35% of female applicants were admitted. This difference is statistically significant, so it is highly unlikely to result from random chance.\n",
    "\n",
    "In Part 2, we will now dive more deeply into the same admission data by separating applicants by major. Our goal is to find out where this university-wide gender bias in admission comes from. If we can find out which major is most gender biased in its admission process, we can perhaps give the university a more targeted policy recommendation.\n",
    "\n",
    "As a reminder to Part 1, this is the plot we produced: \n",
    "\n",
    "![admission_per_gender_plot](admission_per_gender_plot.png)"
   ]
  },
  {
   "cell_type": "markdown",
   "metadata": {},
   "source": [
    "**Question 0)** State the conclusion you reached from Part 1, based on the above plot."
   ]
  },
  {
   "cell_type": "markdown",
   "metadata": {},
   "source": [
    "*Your Answer Here*"
   ]
  },
  {
   "cell_type": "markdown",
   "metadata": {},
   "source": [
    "**Instructor Solution:**\n",
    "\n",
    "- Q0: The two bars differ in height far more than the sizes of their error bars. This means that the difference in acceptance rates of the two genders is statistically significance. That is, it cannot have arisen from chance alone, without any gender bias in the admission process. Without gender bias, we would expect the two bars to be of comparable heights, with a difference smaller than the size of the error bars."
   ]
  },
  {
   "cell_type": "markdown",
   "metadata": {},
   "source": [
    "<br/>\n",
    "\n",
    "<hr style=\"border: 1px solid #fdb515;\" />"
   ]
  },
  {
   "cell_type": "markdown",
   "metadata": {},
   "source": [
    "## **Question 1: Comprehensive Analysis**"
   ]
  },
  {
   "cell_type": "markdown",
   "metadata": {},
   "source": [
    "**Question 1.1:** Like last lab, load the *```berkeley.csv```* dataset below."
   ]
  },
  {
   "cell_type": "code",
   "execution_count": 2,
   "metadata": {},
   "outputs": [
    {
     "data": {
      "text/plain": [
       "Ellipsis"
      ]
     },
     "execution_count": 2,
     "metadata": {},
     "output_type": "execute_result"
    }
   ],
   "source": [
    "berkeley = ... # refer back to Part 1 if you're having trouble loading the DataFrame\n",
    "\n",
    "berkeley"
   ]
  },
  {
   "cell_type": "code",
   "execution_count": 3,
   "metadata": {},
   "outputs": [
    {
     "data": {
      "text/html": [
       "<div>\n",
       "<style scoped>\n",
       "    .dataframe tbody tr th:only-of-type {\n",
       "        vertical-align: middle;\n",
       "    }\n",
       "\n",
       "    .dataframe tbody tr th {\n",
       "        vertical-align: top;\n",
       "    }\n",
       "\n",
       "    .dataframe thead th {\n",
       "        text-align: right;\n",
       "    }\n",
       "</style>\n",
       "<table border=\"1\" class=\"dataframe\">\n",
       "  <thead>\n",
       "    <tr style=\"text-align: right;\">\n",
       "      <th></th>\n",
       "      <th>Year</th>\n",
       "      <th>Major</th>\n",
       "      <th>Gender</th>\n",
       "      <th>Admission</th>\n",
       "    </tr>\n",
       "  </thead>\n",
       "  <tbody>\n",
       "    <tr>\n",
       "      <th>0</th>\n",
       "      <td>1973</td>\n",
       "      <td>C</td>\n",
       "      <td>F</td>\n",
       "      <td>Rejected</td>\n",
       "    </tr>\n",
       "    <tr>\n",
       "      <th>1</th>\n",
       "      <td>1973</td>\n",
       "      <td>B</td>\n",
       "      <td>M</td>\n",
       "      <td>Accepted</td>\n",
       "    </tr>\n",
       "    <tr>\n",
       "      <th>2</th>\n",
       "      <td>1973</td>\n",
       "      <td>Other</td>\n",
       "      <td>F</td>\n",
       "      <td>Accepted</td>\n",
       "    </tr>\n",
       "    <tr>\n",
       "      <th>3</th>\n",
       "      <td>1973</td>\n",
       "      <td>Other</td>\n",
       "      <td>M</td>\n",
       "      <td>Accepted</td>\n",
       "    </tr>\n",
       "    <tr>\n",
       "      <th>4</th>\n",
       "      <td>1973</td>\n",
       "      <td>Other</td>\n",
       "      <td>M</td>\n",
       "      <td>Rejected</td>\n",
       "    </tr>\n",
       "    <tr>\n",
       "      <th>...</th>\n",
       "      <td>...</td>\n",
       "      <td>...</td>\n",
       "      <td>...</td>\n",
       "      <td>...</td>\n",
       "    </tr>\n",
       "    <tr>\n",
       "      <th>12758</th>\n",
       "      <td>1973</td>\n",
       "      <td>Other</td>\n",
       "      <td>M</td>\n",
       "      <td>Accepted</td>\n",
       "    </tr>\n",
       "    <tr>\n",
       "      <th>12759</th>\n",
       "      <td>1973</td>\n",
       "      <td>D</td>\n",
       "      <td>M</td>\n",
       "      <td>Accepted</td>\n",
       "    </tr>\n",
       "    <tr>\n",
       "      <th>12760</th>\n",
       "      <td>1973</td>\n",
       "      <td>Other</td>\n",
       "      <td>F</td>\n",
       "      <td>Rejected</td>\n",
       "    </tr>\n",
       "    <tr>\n",
       "      <th>12761</th>\n",
       "      <td>1973</td>\n",
       "      <td>Other</td>\n",
       "      <td>M</td>\n",
       "      <td>Rejected</td>\n",
       "    </tr>\n",
       "    <tr>\n",
       "      <th>12762</th>\n",
       "      <td>1973</td>\n",
       "      <td>Other</td>\n",
       "      <td>M</td>\n",
       "      <td>Accepted</td>\n",
       "    </tr>\n",
       "  </tbody>\n",
       "</table>\n",
       "<p>12763 rows × 4 columns</p>\n",
       "</div>"
      ],
      "text/plain": [
       "       Year  Major Gender Admission\n",
       "0      1973      C      F  Rejected\n",
       "1      1973      B      M  Accepted\n",
       "2      1973  Other      F  Accepted\n",
       "3      1973  Other      M  Accepted\n",
       "4      1973  Other      M  Rejected\n",
       "...     ...    ...    ...       ...\n",
       "12758  1973  Other      M  Accepted\n",
       "12759  1973      D      M  Accepted\n",
       "12760  1973  Other      F  Rejected\n",
       "12761  1973  Other      M  Rejected\n",
       "12762  1973  Other      M  Accepted\n",
       "\n",
       "[12763 rows x 4 columns]"
      ]
     },
     "execution_count": 3,
     "metadata": {},
     "output_type": "execute_result"
    }
   ],
   "source": [
    "# Instructor Solution:\n",
    "\n",
    "berkeley = pd.read_csv('berkeley.csv')\n",
    "\n",
    "berkeley"
   ]
  },
  {
   "cell_type": "code",
   "execution_count": 4,
   "metadata": {},
   "outputs": [
    {
     "data": {
      "text/html": [
       "<div>\n",
       "<style scoped>\n",
       "    .dataframe tbody tr th:only-of-type {\n",
       "        vertical-align: middle;\n",
       "    }\n",
       "\n",
       "    .dataframe tbody tr th {\n",
       "        vertical-align: top;\n",
       "    }\n",
       "\n",
       "    .dataframe thead th {\n",
       "        text-align: right;\n",
       "    }\n",
       "</style>\n",
       "<table border=\"1\" class=\"dataframe\">\n",
       "  <thead>\n",
       "    <tr style=\"text-align: right;\">\n",
       "      <th></th>\n",
       "      <th>Major</th>\n",
       "      <th>Gender</th>\n",
       "      <th>Accepted</th>\n",
       "      <th>Rejected</th>\n",
       "    </tr>\n",
       "  </thead>\n",
       "  <tbody>\n",
       "    <tr>\n",
       "      <th>0</th>\n",
       "      <td>A</td>\n",
       "      <td>F</td>\n",
       "      <td>89</td>\n",
       "      <td>19</td>\n",
       "    </tr>\n",
       "    <tr>\n",
       "      <th>1</th>\n",
       "      <td>A</td>\n",
       "      <td>M</td>\n",
       "      <td>825</td>\n",
       "      <td>313</td>\n",
       "    </tr>\n",
       "    <tr>\n",
       "      <th>2</th>\n",
       "      <td>B</td>\n",
       "      <td>F</td>\n",
       "      <td>17</td>\n",
       "      <td>8</td>\n",
       "    </tr>\n",
       "    <tr>\n",
       "      <th>3</th>\n",
       "      <td>B</td>\n",
       "      <td>M</td>\n",
       "      <td>353</td>\n",
       "      <td>207</td>\n",
       "    </tr>\n",
       "    <tr>\n",
       "      <th>4</th>\n",
       "      <td>C</td>\n",
       "      <td>F</td>\n",
       "      <td>201</td>\n",
       "      <td>392</td>\n",
       "    </tr>\n",
       "    <tr>\n",
       "      <th>5</th>\n",
       "      <td>C</td>\n",
       "      <td>M</td>\n",
       "      <td>120</td>\n",
       "      <td>205</td>\n",
       "    </tr>\n",
       "    <tr>\n",
       "      <th>6</th>\n",
       "      <td>D</td>\n",
       "      <td>F</td>\n",
       "      <td>131</td>\n",
       "      <td>244</td>\n",
       "    </tr>\n",
       "    <tr>\n",
       "      <th>7</th>\n",
       "      <td>D</td>\n",
       "      <td>M</td>\n",
       "      <td>138</td>\n",
       "      <td>279</td>\n",
       "    </tr>\n",
       "    <tr>\n",
       "      <th>8</th>\n",
       "      <td>E</td>\n",
       "      <td>F</td>\n",
       "      <td>94</td>\n",
       "      <td>299</td>\n",
       "    </tr>\n",
       "    <tr>\n",
       "      <th>9</th>\n",
       "      <td>E</td>\n",
       "      <td>M</td>\n",
       "      <td>53</td>\n",
       "      <td>138</td>\n",
       "    </tr>\n",
       "    <tr>\n",
       "      <th>10</th>\n",
       "      <td>F</td>\n",
       "      <td>F</td>\n",
       "      <td>25</td>\n",
       "      <td>316</td>\n",
       "    </tr>\n",
       "    <tr>\n",
       "      <th>11</th>\n",
       "      <td>F</td>\n",
       "      <td>M</td>\n",
       "      <td>22</td>\n",
       "      <td>351</td>\n",
       "    </tr>\n",
       "    <tr>\n",
       "      <th>12</th>\n",
       "      <td>Other</td>\n",
       "      <td>F</td>\n",
       "      <td>937</td>\n",
       "      <td>1549</td>\n",
       "    </tr>\n",
       "    <tr>\n",
       "      <th>13</th>\n",
       "      <td>Other</td>\n",
       "      <td>M</td>\n",
       "      <td>2227</td>\n",
       "      <td>3211</td>\n",
       "    </tr>\n",
       "  </tbody>\n",
       "</table>\n",
       "</div>"
      ],
      "text/plain": [
       "    Major Gender  Accepted  Rejected\n",
       "0       A      F        89        19\n",
       "1       A      M       825       313\n",
       "2       B      F        17         8\n",
       "3       B      M       353       207\n",
       "4       C      F       201       392\n",
       "5       C      M       120       205\n",
       "6       D      F       131       244\n",
       "7       D      M       138       279\n",
       "8       E      F        94       299\n",
       "9       E      M        53       138\n",
       "10      F      F        25       316\n",
       "11      F      M        22       351\n",
       "12  Other      F       937      1549\n",
       "13  Other      M      2227      3211"
      ]
     },
     "execution_count": 4,
     "metadata": {},
     "output_type": "execute_result"
    }
   ],
   "source": [
    "# just run this code block\n",
    "\n",
    "def accepted_count(x):\n",
    "    return (x == \"Accepted\").sum()\n",
    "\n",
    "def rejected_count(x):\n",
    "    return (x == \"Rejected\").sum()\n",
    "\n",
    "grouped_data = berkeley.groupby(['Major', 'Gender'])\n",
    "\n",
    "acceptance_counts = grouped_data['Admission'].apply(accepted_count).rename('Accepted')\n",
    "rejection_counts = grouped_data['Admission'].apply(rejected_count).rename('Rejected')\n",
    "\n",
    "admissions_by_all = pd.concat([acceptance_counts, rejection_counts], axis=1)\n",
    "admissions_by_all.reset_index(inplace=True)\n",
    "\n",
    "admissions_by_all"
   ]
  },
  {
   "cell_type": "markdown",
   "metadata": {},
   "source": [
    "**Question 1.2:** Using the `admissions_by_all` DataFrame provided above, calculate the total applicants and acceptance rate for each combination of major and gender. For clarity, your DataFrame should have the following columns: Major, Gender, Accepted, Rejected, Counts, and Acceptance Rate.\n",
    "\n",
    "<details open>\n",
    "\n",
    "<summary><i>Click here for hint(s)</i></summary>\n",
    "\n",
    "- <i>Your resulting DataFrame should resemble the table below:</i> <br> <br>\n",
    "![admissions_by_all_output](admissions_by_all_output.png)\n",
    "\n",
    "</details>"
   ]
  },
  {
   "cell_type": "code",
   "execution_count": 5,
   "metadata": {},
   "outputs": [
    {
     "data": {
      "text/html": [
       "<div>\n",
       "<style scoped>\n",
       "    .dataframe tbody tr th:only-of-type {\n",
       "        vertical-align: middle;\n",
       "    }\n",
       "\n",
       "    .dataframe tbody tr th {\n",
       "        vertical-align: top;\n",
       "    }\n",
       "\n",
       "    .dataframe thead th {\n",
       "        text-align: right;\n",
       "    }\n",
       "</style>\n",
       "<table border=\"1\" class=\"dataframe\">\n",
       "  <thead>\n",
       "    <tr style=\"text-align: right;\">\n",
       "      <th></th>\n",
       "      <th>Major</th>\n",
       "      <th>Gender</th>\n",
       "      <th>Accepted</th>\n",
       "      <th>Rejected</th>\n",
       "      <th>Counts</th>\n",
       "      <th>Acceptance Rate</th>\n",
       "    </tr>\n",
       "  </thead>\n",
       "  <tbody>\n",
       "    <tr>\n",
       "      <th>0</th>\n",
       "      <td>A</td>\n",
       "      <td>F</td>\n",
       "      <td>89</td>\n",
       "      <td>19</td>\n",
       "      <td>Ellipsis</td>\n",
       "      <td>Ellipsis</td>\n",
       "    </tr>\n",
       "    <tr>\n",
       "      <th>1</th>\n",
       "      <td>A</td>\n",
       "      <td>M</td>\n",
       "      <td>825</td>\n",
       "      <td>313</td>\n",
       "      <td>Ellipsis</td>\n",
       "      <td>Ellipsis</td>\n",
       "    </tr>\n",
       "    <tr>\n",
       "      <th>2</th>\n",
       "      <td>B</td>\n",
       "      <td>F</td>\n",
       "      <td>17</td>\n",
       "      <td>8</td>\n",
       "      <td>Ellipsis</td>\n",
       "      <td>Ellipsis</td>\n",
       "    </tr>\n",
       "    <tr>\n",
       "      <th>3</th>\n",
       "      <td>B</td>\n",
       "      <td>M</td>\n",
       "      <td>353</td>\n",
       "      <td>207</td>\n",
       "      <td>Ellipsis</td>\n",
       "      <td>Ellipsis</td>\n",
       "    </tr>\n",
       "    <tr>\n",
       "      <th>4</th>\n",
       "      <td>C</td>\n",
       "      <td>F</td>\n",
       "      <td>201</td>\n",
       "      <td>392</td>\n",
       "      <td>Ellipsis</td>\n",
       "      <td>Ellipsis</td>\n",
       "    </tr>\n",
       "    <tr>\n",
       "      <th>5</th>\n",
       "      <td>C</td>\n",
       "      <td>M</td>\n",
       "      <td>120</td>\n",
       "      <td>205</td>\n",
       "      <td>Ellipsis</td>\n",
       "      <td>Ellipsis</td>\n",
       "    </tr>\n",
       "    <tr>\n",
       "      <th>6</th>\n",
       "      <td>D</td>\n",
       "      <td>F</td>\n",
       "      <td>131</td>\n",
       "      <td>244</td>\n",
       "      <td>Ellipsis</td>\n",
       "      <td>Ellipsis</td>\n",
       "    </tr>\n",
       "    <tr>\n",
       "      <th>7</th>\n",
       "      <td>D</td>\n",
       "      <td>M</td>\n",
       "      <td>138</td>\n",
       "      <td>279</td>\n",
       "      <td>Ellipsis</td>\n",
       "      <td>Ellipsis</td>\n",
       "    </tr>\n",
       "    <tr>\n",
       "      <th>8</th>\n",
       "      <td>E</td>\n",
       "      <td>F</td>\n",
       "      <td>94</td>\n",
       "      <td>299</td>\n",
       "      <td>Ellipsis</td>\n",
       "      <td>Ellipsis</td>\n",
       "    </tr>\n",
       "    <tr>\n",
       "      <th>9</th>\n",
       "      <td>E</td>\n",
       "      <td>M</td>\n",
       "      <td>53</td>\n",
       "      <td>138</td>\n",
       "      <td>Ellipsis</td>\n",
       "      <td>Ellipsis</td>\n",
       "    </tr>\n",
       "    <tr>\n",
       "      <th>10</th>\n",
       "      <td>F</td>\n",
       "      <td>F</td>\n",
       "      <td>25</td>\n",
       "      <td>316</td>\n",
       "      <td>Ellipsis</td>\n",
       "      <td>Ellipsis</td>\n",
       "    </tr>\n",
       "    <tr>\n",
       "      <th>11</th>\n",
       "      <td>F</td>\n",
       "      <td>M</td>\n",
       "      <td>22</td>\n",
       "      <td>351</td>\n",
       "      <td>Ellipsis</td>\n",
       "      <td>Ellipsis</td>\n",
       "    </tr>\n",
       "    <tr>\n",
       "      <th>12</th>\n",
       "      <td>Other</td>\n",
       "      <td>F</td>\n",
       "      <td>937</td>\n",
       "      <td>1549</td>\n",
       "      <td>Ellipsis</td>\n",
       "      <td>Ellipsis</td>\n",
       "    </tr>\n",
       "    <tr>\n",
       "      <th>13</th>\n",
       "      <td>Other</td>\n",
       "      <td>M</td>\n",
       "      <td>2227</td>\n",
       "      <td>3211</td>\n",
       "      <td>Ellipsis</td>\n",
       "      <td>Ellipsis</td>\n",
       "    </tr>\n",
       "  </tbody>\n",
       "</table>\n",
       "</div>"
      ],
      "text/plain": [
       "    Major Gender  Accepted  Rejected    Counts Acceptance Rate\n",
       "0       A      F        89        19  Ellipsis        Ellipsis\n",
       "1       A      M       825       313  Ellipsis        Ellipsis\n",
       "2       B      F        17         8  Ellipsis        Ellipsis\n",
       "3       B      M       353       207  Ellipsis        Ellipsis\n",
       "4       C      F       201       392  Ellipsis        Ellipsis\n",
       "5       C      M       120       205  Ellipsis        Ellipsis\n",
       "6       D      F       131       244  Ellipsis        Ellipsis\n",
       "7       D      M       138       279  Ellipsis        Ellipsis\n",
       "8       E      F        94       299  Ellipsis        Ellipsis\n",
       "9       E      M        53       138  Ellipsis        Ellipsis\n",
       "10      F      F        25       316  Ellipsis        Ellipsis\n",
       "11      F      M        22       351  Ellipsis        Ellipsis\n",
       "12  Other      F       937      1549  Ellipsis        Ellipsis\n",
       "13  Other      M      2227      3211  Ellipsis        Ellipsis"
      ]
     },
     "execution_count": 5,
     "metadata": {},
     "output_type": "execute_result"
    }
   ],
   "source": [
    "admissions_by_all['Counts'] = ...\n",
    "admissions_by_all['Acceptance Rate'] = ...\n",
    "\n",
    "admissions_by_all"
   ]
  },
  {
   "cell_type": "code",
   "execution_count": 6,
   "metadata": {},
   "outputs": [
    {
     "data": {
      "text/html": [
       "<div>\n",
       "<style scoped>\n",
       "    .dataframe tbody tr th:only-of-type {\n",
       "        vertical-align: middle;\n",
       "    }\n",
       "\n",
       "    .dataframe tbody tr th {\n",
       "        vertical-align: top;\n",
       "    }\n",
       "\n",
       "    .dataframe thead th {\n",
       "        text-align: right;\n",
       "    }\n",
       "</style>\n",
       "<table border=\"1\" class=\"dataframe\">\n",
       "  <thead>\n",
       "    <tr style=\"text-align: right;\">\n",
       "      <th></th>\n",
       "      <th>Major</th>\n",
       "      <th>Gender</th>\n",
       "      <th>Accepted</th>\n",
       "      <th>Rejected</th>\n",
       "      <th>Counts</th>\n",
       "      <th>Acceptance Rate</th>\n",
       "    </tr>\n",
       "  </thead>\n",
       "  <tbody>\n",
       "    <tr>\n",
       "      <th>0</th>\n",
       "      <td>A</td>\n",
       "      <td>F</td>\n",
       "      <td>89</td>\n",
       "      <td>19</td>\n",
       "      <td>108</td>\n",
       "      <td>0.824074</td>\n",
       "    </tr>\n",
       "    <tr>\n",
       "      <th>1</th>\n",
       "      <td>A</td>\n",
       "      <td>M</td>\n",
       "      <td>825</td>\n",
       "      <td>313</td>\n",
       "      <td>1138</td>\n",
       "      <td>0.724956</td>\n",
       "    </tr>\n",
       "    <tr>\n",
       "      <th>2</th>\n",
       "      <td>B</td>\n",
       "      <td>F</td>\n",
       "      <td>17</td>\n",
       "      <td>8</td>\n",
       "      <td>25</td>\n",
       "      <td>0.680000</td>\n",
       "    </tr>\n",
       "    <tr>\n",
       "      <th>3</th>\n",
       "      <td>B</td>\n",
       "      <td>M</td>\n",
       "      <td>353</td>\n",
       "      <td>207</td>\n",
       "      <td>560</td>\n",
       "      <td>0.630357</td>\n",
       "    </tr>\n",
       "    <tr>\n",
       "      <th>4</th>\n",
       "      <td>C</td>\n",
       "      <td>F</td>\n",
       "      <td>201</td>\n",
       "      <td>392</td>\n",
       "      <td>593</td>\n",
       "      <td>0.338954</td>\n",
       "    </tr>\n",
       "    <tr>\n",
       "      <th>5</th>\n",
       "      <td>C</td>\n",
       "      <td>M</td>\n",
       "      <td>120</td>\n",
       "      <td>205</td>\n",
       "      <td>325</td>\n",
       "      <td>0.369231</td>\n",
       "    </tr>\n",
       "    <tr>\n",
       "      <th>6</th>\n",
       "      <td>D</td>\n",
       "      <td>F</td>\n",
       "      <td>131</td>\n",
       "      <td>244</td>\n",
       "      <td>375</td>\n",
       "      <td>0.349333</td>\n",
       "    </tr>\n",
       "    <tr>\n",
       "      <th>7</th>\n",
       "      <td>D</td>\n",
       "      <td>M</td>\n",
       "      <td>138</td>\n",
       "      <td>279</td>\n",
       "      <td>417</td>\n",
       "      <td>0.330935</td>\n",
       "    </tr>\n",
       "    <tr>\n",
       "      <th>8</th>\n",
       "      <td>E</td>\n",
       "      <td>F</td>\n",
       "      <td>94</td>\n",
       "      <td>299</td>\n",
       "      <td>393</td>\n",
       "      <td>0.239186</td>\n",
       "    </tr>\n",
       "    <tr>\n",
       "      <th>9</th>\n",
       "      <td>E</td>\n",
       "      <td>M</td>\n",
       "      <td>53</td>\n",
       "      <td>138</td>\n",
       "      <td>191</td>\n",
       "      <td>0.277487</td>\n",
       "    </tr>\n",
       "    <tr>\n",
       "      <th>10</th>\n",
       "      <td>F</td>\n",
       "      <td>F</td>\n",
       "      <td>25</td>\n",
       "      <td>316</td>\n",
       "      <td>341</td>\n",
       "      <td>0.073314</td>\n",
       "    </tr>\n",
       "    <tr>\n",
       "      <th>11</th>\n",
       "      <td>F</td>\n",
       "      <td>M</td>\n",
       "      <td>22</td>\n",
       "      <td>351</td>\n",
       "      <td>373</td>\n",
       "      <td>0.058981</td>\n",
       "    </tr>\n",
       "    <tr>\n",
       "      <th>12</th>\n",
       "      <td>Other</td>\n",
       "      <td>F</td>\n",
       "      <td>937</td>\n",
       "      <td>1549</td>\n",
       "      <td>2486</td>\n",
       "      <td>0.376911</td>\n",
       "    </tr>\n",
       "    <tr>\n",
       "      <th>13</th>\n",
       "      <td>Other</td>\n",
       "      <td>M</td>\n",
       "      <td>2227</td>\n",
       "      <td>3211</td>\n",
       "      <td>5438</td>\n",
       "      <td>0.409526</td>\n",
       "    </tr>\n",
       "  </tbody>\n",
       "</table>\n",
       "</div>"
      ],
      "text/plain": [
       "    Major Gender  Accepted  Rejected  Counts  Acceptance Rate\n",
       "0       A      F        89        19     108         0.824074\n",
       "1       A      M       825       313    1138         0.724956\n",
       "2       B      F        17         8      25         0.680000\n",
       "3       B      M       353       207     560         0.630357\n",
       "4       C      F       201       392     593         0.338954\n",
       "5       C      M       120       205     325         0.369231\n",
       "6       D      F       131       244     375         0.349333\n",
       "7       D      M       138       279     417         0.330935\n",
       "8       E      F        94       299     393         0.239186\n",
       "9       E      M        53       138     191         0.277487\n",
       "10      F      F        25       316     341         0.073314\n",
       "11      F      M        22       351     373         0.058981\n",
       "12  Other      F       937      1549    2486         0.376911\n",
       "13  Other      M      2227      3211    5438         0.409526"
      ]
     },
     "execution_count": 6,
     "metadata": {},
     "output_type": "execute_result"
    }
   ],
   "source": [
    "# Instructor Solution:\n",
    "\n",
    "admissions_by_all['Counts'] = admissions_by_all['Accepted'] + admissions_by_all['Rejected']\n",
    "admissions_by_all['Acceptance Rate'] = admissions_by_all['Accepted'] / admissions_by_all['Counts']\n",
    "\n",
    "admissions_by_all"
   ]
  },
  {
   "cell_type": "markdown",
   "metadata": {},
   "source": [
    "Take a look at the acceptance rates for male and female applicants to the same major, say, major B. Notice that they are quite similar to each other. Certainly the gender difference is less pronounced than the 44% vs. 35% for male and female applicants across all majors. How do we know what extent of gender difference in acceptance rates per major can be expected from random chance alone? (Remember we asked this question in part 1 of this module, but for the whole university.) Use the following interactive bar chart, similar to the one you played with in part 1, to answer this question."
   ]
  },
  {
   "cell_type": "markdown",
   "metadata": {},
   "source": [
    "**Question** The following bar chart shows what the acceptance rates for female and male applicants would be if we randomly admitted students out of the applicant pool, without regards to their gender. You may drag the sliders (or key in the numbers) to roughly approximate the numbers of applicants and acceptance rate for any particular major, and then click on the button to simulate random admission. Click it many times to see the effect of random chance. For major B, what is the rough range of acceptance rates for female/male applicants should we expect from random chance? Do this also for major D."
   ]
  },
  {
   "cell_type": "markdown",
   "metadata": {},
   "source": [
    "*Your Answer Here.*"
   ]
  },
  {
   "cell_type": "code",
   "execution_count": 7,
   "metadata": {},
   "outputs": [
    {
     "data": {
      "application/vnd.jupyter.widget-view+json": {
       "model_id": "f3889db88cdb4da98c2cd9fd05ff57e3",
       "version_major": 2,
       "version_minor": 0
      },
      "text/plain": [
       "IntSlider(value=100, continuous_update=False, description='Female applicants', layout=Layout(width='500px'), m…"
      ]
     },
     "metadata": {},
     "output_type": "display_data"
    },
    {
     "data": {
      "application/vnd.jupyter.widget-view+json": {
       "model_id": "85287da4918840fa8ce9912af7deb86c",
       "version_major": 2,
       "version_minor": 0
      },
      "text/plain": [
       "IntSlider(value=100, continuous_update=False, description='Male applicants', layout=Layout(width='500px'), max…"
      ]
     },
     "metadata": {},
     "output_type": "display_data"
    },
    {
     "data": {
      "application/vnd.jupyter.widget-view+json": {
       "model_id": "5c7b0bd60f4f477b88a45957469ed13b",
       "version_major": 2,
       "version_minor": 0
      },
      "text/plain": [
       "FloatSlider(value=0.5, continuous_update=False, description='Major acceptance rate', layout=Layout(width='500p…"
      ]
     },
     "metadata": {},
     "output_type": "display_data"
    },
    {
     "data": {
      "application/vnd.jupyter.widget-view+json": {
       "model_id": "c711464e146a4880a4cc780c272e67b1",
       "version_major": 2,
       "version_minor": 0
      },
      "text/plain": [
       "Button(description='Randomly admit students!', layout=Layout(width='200px'), style=ButtonStyle(), tooltip='Ran…"
      ]
     },
     "metadata": {},
     "output_type": "display_data"
    },
    {
     "data": {
      "application/vnd.jupyter.widget-view+json": {
       "model_id": "d50465eb669044f18dd231575ff67bac",
       "version_major": 2,
       "version_minor": 0
      },
      "text/plain": [
       "Output()"
      ]
     },
     "metadata": {},
     "output_type": "display_data"
    },
    {
     "data": {
      "application/vnd.jupyter.widget-view+json": {
       "model_id": "f0a001dbf0dd44208d185885152162fc",
       "version_major": 2,
       "version_minor": 0
      },
      "image/png": "[encoded data removed]",
      "text/html": [
       "\n",
       "            <div style=\"display: inline-block;\">\n",
       "                <div class=\"jupyter-widgets widget-label\" style=\"text-align: center;\">\n",
       "                    Figure\n",
       "                </div>\n",
       "                <img src='data:image/png;base64,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' width=400.0/>\n",
       "            </div>\n",
       "        "
      ],
      "text/plain": [
       "Canvas(toolbar=Toolbar(toolitems=[('Home', 'Reset original view', 'home', 'home'), ('Back', 'Back to previous …"
      ]
     },
     "metadata": {},
     "output_type": "display_data"
    }
   ],
   "source": [
    "plotMockAdmissionPerMajorWithButton()"
   ]
  },
  {
   "cell_type": "markdown",
   "metadata": {},
   "source": [
    "Notice again that the female/male acceptance rates may differ simply due to random chance, sometimes by a lot! This random fluctuation depends on the number of applicants for each gender and the overall acceptance rate for each major. Just like in part 1, we can quantify this fluctuation by calculating the standard deviation (roughly 68% confidence interval), which we will then plot as error bars on a per-major-and-gender bar chart.\n",
    "\n",
    "The following is the same formula we used in part 1 for the standard deviation in the acceptance rate for each major and gender due to chance. Again, you do not need to know the derivation behind it.\n",
    "\n",
    "$$\\operatorname{StDev}(p_{\\mathrm{app},A,F}) = \\sqrt{\\frac{N_{\\mathrm{adm}}}{N_{\\mathrm{app}}^2} \\frac{1-p_{\\mathrm{app},A,F}}{p_{\\mathrm{app},A,F}}}.$$\n",
    "\n",
    "Here, $N_{\\mathrm{adm}}$ is the total number of admitted students who applied to major A, $N_{\\mathrm{app}}$ is the total number of applicants who applied to major A, and $p_{\\mathrm{app},A,F}$ is the proportion of female applicants who applied to major A. The standard deviation for the acceptance rate for male applicants who applied to major A is given by the same formula, just with $p_{\\mathrm{app},A,M}$ instead of $p_{\\mathrm{app},A,F}$.\n",
    "\n",
    "**Question 1.3:** Your task is to implement this formula for every major-gender combination. To ensure you're on the right track, you should get admission errors of 0.007475 for major A, gender M; and 0.155621 for major B, gender F."
   ]
  },
  {
   "cell_type": "code",
   "execution_count": null,
   "metadata": {},
   "outputs": [],
   "source": [
    "majors = ... # get all of the unique majors (there should be 6 + \"Other\")\n",
    "admission_error = [] # empty list to be populated in the for loop below\n",
    "\n",
    "for major in majors:\n",
    "    major_df = ... # this should be a DataFrame including only the current major of the for loop\n",
    "    N_app = ... # given the major, total number of students who applied (hint: sum over the 'Counts' column of major_df)\n",
    "    N_adm = ... # given the major, total number of students who were accepted/admitted (hint: sum over the 'Accepted' column of major_df)\n",
    "    p_app_F = ... # given the major, proportion of students who applied who were female (hint: \n",
    "    p_app_M = ... # given the major, proportion of students who applied who were male\n",
    "    err_F = ... # standard deviation in the acceptance rate for females who applied to some major, implementing the formula above\n",
    "    err_M = ... # standard deviation in the acceptance rate for males who applied to some major, implementing the formula above\n",
    "    admission_error.append(err_F)\n",
    "    admission_error.append(err_M)\n",
    "\n",
    "admissions_by_all[\"Admission Error\"] = admission_error\n",
    "\n",
    "admissions_by_all"
   ]
  },
  {
   "cell_type": "code",
   "execution_count": 12,
   "metadata": {},
   "outputs": [
    {
     "data": {
      "text/html": [
       "<div>\n",
       "<style scoped>\n",
       "    .dataframe tbody tr th:only-of-type {\n",
       "        vertical-align: middle;\n",
       "    }\n",
       "\n",
       "    .dataframe tbody tr th {\n",
       "        vertical-align: top;\n",
       "    }\n",
       "\n",
       "    .dataframe thead th {\n",
       "        text-align: right;\n",
       "    }\n",
       "</style>\n",
       "<table border=\"1\" class=\"dataframe\">\n",
       "  <thead>\n",
       "    <tr style=\"text-align: right;\">\n",
       "      <th></th>\n",
       "      <th>Major</th>\n",
       "      <th>Gender</th>\n",
       "      <th>Accepted</th>\n",
       "      <th>Rejected</th>\n",
       "      <th>Counts</th>\n",
       "      <th>Acceptance Rate</th>\n",
       "      <th>Admission Error</th>\n",
       "    </tr>\n",
       "  </thead>\n",
       "  <tbody>\n",
       "    <tr>\n",
       "      <th>0</th>\n",
       "      <td>A</td>\n",
       "      <td>F</td>\n",
       "      <td>89</td>\n",
       "      <td>19</td>\n",
       "      <td>108</td>\n",
       "      <td>0.824074</td>\n",
       "      <td>0.078762</td>\n",
       "    </tr>\n",
       "    <tr>\n",
       "      <th>1</th>\n",
       "      <td>A</td>\n",
       "      <td>M</td>\n",
       "      <td>825</td>\n",
       "      <td>313</td>\n",
       "      <td>1138</td>\n",
       "      <td>0.724956</td>\n",
       "      <td>0.007475</td>\n",
       "    </tr>\n",
       "    <tr>\n",
       "      <th>2</th>\n",
       "      <td>B</td>\n",
       "      <td>F</td>\n",
       "      <td>17</td>\n",
       "      <td>8</td>\n",
       "      <td>25</td>\n",
       "      <td>0.680000</td>\n",
       "      <td>0.155621</td>\n",
       "    </tr>\n",
       "    <tr>\n",
       "      <th>3</th>\n",
       "      <td>B</td>\n",
       "      <td>M</td>\n",
       "      <td>353</td>\n",
       "      <td>207</td>\n",
       "      <td>560</td>\n",
       "      <td>0.630357</td>\n",
       "      <td>0.006947</td>\n",
       "    </tr>\n",
       "    <tr>\n",
       "      <th>4</th>\n",
       "      <td>C</td>\n",
       "      <td>F</td>\n",
       "      <td>201</td>\n",
       "      <td>392</td>\n",
       "      <td>593</td>\n",
       "      <td>0.338954</td>\n",
       "      <td>0.014449</td>\n",
       "    </tr>\n",
       "    <tr>\n",
       "      <th>5</th>\n",
       "      <td>C</td>\n",
       "      <td>M</td>\n",
       "      <td>120</td>\n",
       "      <td>205</td>\n",
       "      <td>325</td>\n",
       "      <td>0.369231</td>\n",
       "      <td>0.026363</td>\n",
       "    </tr>\n",
       "    <tr>\n",
       "      <th>6</th>\n",
       "      <td>D</td>\n",
       "      <td>F</td>\n",
       "      <td>131</td>\n",
       "      <td>244</td>\n",
       "      <td>375</td>\n",
       "      <td>0.349333</td>\n",
       "      <td>0.021838</td>\n",
       "    </tr>\n",
       "    <tr>\n",
       "      <th>7</th>\n",
       "      <td>D</td>\n",
       "      <td>M</td>\n",
       "      <td>138</td>\n",
       "      <td>279</td>\n",
       "      <td>417</td>\n",
       "      <td>0.330935</td>\n",
       "      <td>0.019638</td>\n",
       "    </tr>\n",
       "    <tr>\n",
       "      <th>8</th>\n",
       "      <td>E</td>\n",
       "      <td>F</td>\n",
       "      <td>94</td>\n",
       "      <td>299</td>\n",
       "      <td>393</td>\n",
       "      <td>0.239186</td>\n",
       "      <td>0.014473</td>\n",
       "    </tr>\n",
       "    <tr>\n",
       "      <th>9</th>\n",
       "      <td>E</td>\n",
       "      <td>M</td>\n",
       "      <td>53</td>\n",
       "      <td>138</td>\n",
       "      <td>191</td>\n",
       "      <td>0.277487</td>\n",
       "      <td>0.029780</td>\n",
       "    </tr>\n",
       "    <tr>\n",
       "      <th>10</th>\n",
       "      <td>F</td>\n",
       "      <td>F</td>\n",
       "      <td>25</td>\n",
       "      <td>316</td>\n",
       "      <td>341</td>\n",
       "      <td>0.073314</td>\n",
       "      <td>0.010042</td>\n",
       "    </tr>\n",
       "    <tr>\n",
       "      <th>11</th>\n",
       "      <td>F</td>\n",
       "      <td>M</td>\n",
       "      <td>22</td>\n",
       "      <td>351</td>\n",
       "      <td>373</td>\n",
       "      <td>0.058981</td>\n",
       "      <td>0.009181</td>\n",
       "    </tr>\n",
       "    <tr>\n",
       "      <th>12</th>\n",
       "      <td>Other</td>\n",
       "      <td>F</td>\n",
       "      <td>937</td>\n",
       "      <td>1549</td>\n",
       "      <td>2486</td>\n",
       "      <td>0.376911</td>\n",
       "      <td>0.010499</td>\n",
       "    </tr>\n",
       "    <tr>\n",
       "      <th>13</th>\n",
       "      <td>Other</td>\n",
       "      <td>M</td>\n",
       "      <td>2227</td>\n",
       "      <td>3211</td>\n",
       "      <td>5438</td>\n",
       "      <td>0.409526</td>\n",
       "      <td>0.004800</td>\n",
       "    </tr>\n",
       "  </tbody>\n",
       "</table>\n",
       "</div>"
      ],
      "text/plain": [
       "    Major Gender  Accepted  Rejected  Counts  Acceptance Rate  Admission Error\n",
       "0       A      F        89        19     108         0.824074         0.078762\n",
       "1       A      M       825       313    1138         0.724956         0.007475\n",
       "2       B      F        17         8      25         0.680000         0.155621\n",
       "3       B      M       353       207     560         0.630357         0.006947\n",
       "4       C      F       201       392     593         0.338954         0.014449\n",
       "5       C      M       120       205     325         0.369231         0.026363\n",
       "6       D      F       131       244     375         0.349333         0.021838\n",
       "7       D      M       138       279     417         0.330935         0.019638\n",
       "8       E      F        94       299     393         0.239186         0.014473\n",
       "9       E      M        53       138     191         0.277487         0.029780\n",
       "10      F      F        25       316     341         0.073314         0.010042\n",
       "11      F      M        22       351     373         0.058981         0.009181\n",
       "12  Other      F       937      1549    2486         0.376911         0.010499\n",
       "13  Other      M      2227      3211    5438         0.409526         0.004800"
      ]
     },
     "execution_count": 12,
     "metadata": {},
     "output_type": "execute_result"
    }
   ],
   "source": [
    "# Instructor Solution:\n",
    "\n",
    "majors = admissions_by_all['Major'].unique()\n",
    "admission_error = []\n",
    "\n",
    "for major in majors:\n",
    "    major_df = admissions_by_all[admissions_by_all['Major'] == major]\n",
    "    N_app = major_df['Counts'].sum()\n",
    "    N_adm = major_df['Accepted'].sum()\n",
    "    p_app_F = major_df[major_df['Gender'] == 'F'].reset_index()['Counts'][0] / N_app\n",
    "    p_app_M = major_df[major_df['Gender'] == 'M'].reset_index()['Counts'][0] / N_app\n",
    "    err_F = np.sqrt((1 - p_app_F) / p_app_F * (N_adm / N_app**2))\n",
    "    err_M = np.sqrt((1 - p_app_M) / p_app_M * (N_adm / N_app**2))\n",
    "    admission_error.append(err_F)\n",
    "    admission_error.append(err_M)\n",
    "\n",
    "admissions_by_all[\"Admission Error\"] = admission_error\n",
    "\n",
    "admissions_by_all"
   ]
  },
  {
   "cell_type": "markdown",
   "metadata": {},
   "source": [
    "**Question 1.4:** Construct a `bar` plot that visualizes the admission rates by gender within each major. We recommend using the function `hued_barplot_with_error`, which was imported from `admission_rate.py`.\n",
    "\n",
    "`hued_barplot_with_error` takes in six arguments: `df`, `x`, `y`, `hue`, `error`, and `title`.\n",
    "\n",
    "<details open>\n",
    "\n",
    "<summary><i>Click here for hint(s)</i></summary>\n",
    "\n",
    "- <i>`df` should be type `pd.Dataframe`. `x`, `y`, `hue`, `error`, and `title` should be type `str`.\n",
    "- <i>Each `x` variable should be a different major plotting the acceptance rates for the two genders.</i>\n",
    "- <i>Use the `hue` parameter as a way to differentiate between the two genders.</i>\n",
    "- <i>Use the `Admission Error` column that was previously calculated for the `error` parameter.</i>\n",
    "\n",
    "</details>"
   ]
  },
  {
   "cell_type": "code",
   "execution_count": null,
   "metadata": {},
   "outputs": [],
   "source": [
    "..."
   ]
  },
  {
   "cell_type": "code",
   "execution_count": 14,
   "metadata": {},
   "outputs": [
    {
     "data": {
      "application/vnd.jupyter.widget-view+json": {
       "model_id": "9b8dabb6a1a9450bb9dc58e4f7a9f875",
       "version_major": 2,
       "version_minor": 0
      },
      "image/png": "[encoded data removed]",
      "text/html": [
       "\n",
       "            <div style=\"display: inline-block;\">\n",
       "                <div class=\"jupyter-widgets widget-label\" style=\"text-align: center;\">\n",
       "                    Figure\n",
       "                </div>\n",
       "                <img src='data:image/png;base64,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' width=1200.0/>\n",
       "            </div>\n",
       "        "
      ],
      "text/plain": [
       "Canvas(toolbar=Toolbar(toolitems=[('Home', 'Reset original view', 'home', 'home'), ('Back', 'Back to previous …"
      ]
     },
     "metadata": {},
     "output_type": "display_data"
    }
   ],
   "source": [
    "# Instructor Solution:\n",
    "\n",
    "hued_barplot_with_error(admissions_by_all, 'Major', 'Acceptance Rate', 'Gender', 'Admission Error', 'Acceptance Rates by Major and Gender with Error Bars')"
   ]
  },
  {
   "cell_type": "markdown",
   "metadata": {},
   "source": [
    "**Question:** For majors B and D, compare the sizes of the error bars with the rough numbers you gave in Question XXX above. Do the sizes match what you observed by eye by clicking the button many times?\n",
    "\n",
    "**Question 1.5:** In the bar plot above, for each major, do the acceptance rates for male and female applicants differ significantly? That is, do they differ much more than their individual error bars?\n",
    "\n",
    "**Question 1.6:** How many majors have a gender discrepancy in acceptance rates greater than the error bars? If each error bar represents a 68% confidence interval, how many of the 7 majors do we expect to have a gender discrepancy greater than the error bars just by random chance?\n",
    "\n",
    "**Question 1.7:** Based on the answers to the previous two questions, is there any statistically significant gender bias in the per-major admission process across the university? That is, do the gender differences in per-major acceptance rates exceed what could be accounted for by random chance alone?"
   ]
  },
  {
   "cell_type": "markdown",
   "metadata": {},
   "source": [
    "*Your Answer Here*"
   ]
  },
  {
   "cell_type": "markdown",
   "metadata": {},
   "source": [
    "**Instructor Solution:**\n",
    "\n",
    "- Q1.5: <u>TODO</u>\n",
    "- Q1.6: <u>TODO</u>\n",
    "- Q1.7: <u>TODO</u>"
   ]
  },
  {
   "cell_type": "markdown",
   "metadata": {},
   "source": [
    "Remember that in Part 1, we concluded that the university's admission process was significantly gender biased, yet we just now concluded that the per-major admission process did not show any significant gender bias. What's going on here? Let's now plot the data in a different way to figure it out!\n",
    "\n",
    "**Question 1.8:** Construct a `bar` plot comparing the total number of applicants between two genders for each major. For clearer results, first construct a DataFrame `df_without_other`, which is  the `admissions_by_all` DataFrame without the \"Other\" major. For each bar in the `bar` plot, stack the totals of accepted and rejected applicants. We recommend using the function `stacked_barplot_with_hue`, which was imported from `admission_rate.py`.\n",
    "\n",
    "`stacked_barplot_with_hue` takes in six arguments: `df`, `x`, `y1`, `y2`, `hue`, and `title`.\n",
    "\n",
    "<details open>\n",
    "\n",
    "<summary><i>Click here for hint(s)</i></summary>\n",
    "\n",
    "- <i>`df` should be type `pd.Dataframe`. `x`, `y1`, `y2`, `hue`, and `title` should be type `str`.\n",
    "- <i>Each `x` variable should be a different major plotting the stacked accepted and rejected totals for the two genders.</i>\n",
    "- <i>`y1` and `y2` should be the \"Accepted\" and \"Rejected\" columns.</i>\n",
    "- <i>Use the `hue` parameter as a way to differentiate between the two genders.</i>\n",
    "\n",
    "</details>"
   ]
  },
  {
   "cell_type": "code",
   "execution_count": 9,
   "metadata": {},
   "outputs": [],
   "source": [
    "df_without_other = ... # this should be a DataFrame that excludes the \"Other\" major\n",
    "..."
   ]
  },
  {
   "cell_type": "code",
   "execution_count": 16,
   "metadata": {},
   "outputs": [
    {
     "data": {
      "application/vnd.jupyter.widget-view+json": {
       "model_id": "6458804f4de34c7f9c0ac371f915fa1b",
       "version_major": 2,
       "version_minor": 0
      },
      "image/png": "[encoded data removed]",
      "text/html": [
       "\n",
       "            <div style=\"display: inline-block;\">\n",
       "                <div class=\"jupyter-widgets widget-label\" style=\"text-align: center;\">\n",
       "                    Figure\n",
       "                </div>\n",
       "                <img src='data:image/png;base64,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' width=1400.0/>\n",
       "            </div>\n",
       "        "
      ],
      "text/plain": [
       "Canvas(toolbar=Toolbar(toolitems=[('Home', 'Reset original view', 'home', 'home'), ('Back', 'Back to previous …"
      ]
     },
     "metadata": {},
     "output_type": "display_data"
    }
   ],
   "source": [
    "# Instructor Solution:\n",
    "\n",
    "df_without_other = admissions_by_all[admissions_by_all[\"Major\"] != \"Other\"]\n",
    "stacked_barplot_with_hue(df_without_other, \"Major\", \"Accepted\", \"Rejected\", \"Gender\", \"Admissions for each Department at UC Berkeley\")"
   ]
  },
  {
   "cell_type": "markdown",
   "metadata": {},
   "source": [
    "**Question 1.9:** Which two majors are most popular amongst male/female applicants? Are some of these majors \"easier\" to get in than others?\n",
    "\n",
    "**Question 1.10:** Based on this, what would you say is the primary source of university-wide gender bias in the admission process?\n",
    "\n",
    "**Question 1.11:** Recall your policy recommendation based on your conclusions in Part 1. Would you now adjust that policy recommendation in light of the new findings?"
   ]
  },
  {
   "cell_type": "markdown",
   "metadata": {},
   "source": [
    "*Your Answer Here*"
   ]
  },
  {
   "cell_type": "markdown",
   "metadata": {},
   "source": [
    "**Instructor Solution:**\n",
    "\n",
    "- Q1.9: <u>TODO</u>\n",
    "- Q1.10: <u>TODO</u>\n",
    "- Q1.11: <u>TODO</u>"
   ]
  },
  {
   "cell_type": "markdown",
   "metadata": {},
   "source": [
    "<br/>\n",
    "\n",
    "<hr style=\"border: 1px solid #fdb515;\" />"
   ]
  },
  {
   "cell_type": "markdown",
   "metadata": {},
   "source": [
    "## **Question 2: Closing Thoughts**"
   ]
  },
  {
   "cell_type": "markdown",
   "metadata": {},
   "source": [
    "What we just observed is a classic example of [Simpson's Paradox](https://en.wikipedia.org/wiki/Simpson%27s_paradox), a statistical phenomenon where a trend that appears in different groups of data disappears or reverses when these groups are combined. In our case, the groups are the different majors. This paradox is part of a broader set of considerations that need to be made when performing data analysis, as it can drastically change the interpretation of the data and subsequent policy recommendation.\n",
    "\n",
    "In the following questions, we'll delve further into how phenomena like Simpson's Paradox may pose as an invisible obstacle to comprehensive analysis."
   ]
  },
  {
   "cell_type": "markdown",
   "metadata": {},
   "source": [
    "**Question 2.1:** In Part 1, when we looked at all UC Berkeley applicants, we found significant gender bias in the admission process. Suppose a policy was recommended and implemented as a result to equalise the university-wide acceptance rates between male and female. In what ways would such a policy improve fairness between genders? In what ways would it worsen fairness between genders?"
   ]
  },
  {
   "cell_type": "markdown",
   "metadata": {},
   "source": [
    "*Your Answer Here*"
   ]
  },
  {
   "cell_type": "markdown",
   "metadata": {},
   "source": [
    "**Instructor Solution:**\n",
    "\n",
    "- Q2.1: <u>TODO</u>"
   ]
  },
  {
   "cell_type": "markdown",
   "metadata": {},
   "source": [
    "**Question 2.2:** In Part 2, when we looked at applicants to individual majors, we did not find gender bias in the admission process. Suppose nothing was changed about UC Berkeley's admission process as a result. What positive and negative consequences would you anticipate from this inaction?"
   ]
  },
  {
   "cell_type": "markdown",
   "metadata": {},
   "source": [
    "*Your Answer Here*"
   ]
  },
  {
   "cell_type": "markdown",
   "metadata": {},
   "source": [
    "**Instructor Solution:**\n",
    "\n",
    "- Q2.2: <u>TODO</u>"
   ]
  },
  {
   "cell_type": "markdown",
   "metadata": {},
   "source": [
    "**Question 2.3:** Of the two methods of analysis (i.e. looking at individual majors or not), which one do you think is \"more correct\"?"
   ]
  },
  {
   "cell_type": "markdown",
   "metadata": {},
   "source": [
    "*Your Answer Here*"
   ]
  },
  {
   "cell_type": "markdown",
   "metadata": {},
   "source": [
    "**Instructor Solution:**\n",
    "\n",
    "- Q2.3: <u>TODO</u>"
   ]
  },
  {
   "cell_type": "markdown",
   "metadata": {},
   "source": [
    "There is actually no correct answer to the question above. There are countless ways in which we could've \"chopped up\" the data into groups. For example, we could've grouped the applicants, not by major, but by the first letter of their surname. Should we make policy recommendations if we found a bias against male applicants with D names?\n",
    "\n",
    "At the end, Simpson's Paradox tells us that the choice of data grouping involves a values judgment—we may deem separation by majors as more important than separation by first letter of their surname. To make a decision, we must consider the impact of this choice, as in questions 3.1 and 3.2. As diligent data analysts, we must be aware of this often implicit values decision when we dive into a dataset.\n",
    "\n",
    "**Question 2.4 (Self-reflection):** When you reached the end of Part 1, was the conclusion of gender bias what you expected of UC Berkeley in 1973? How did that make you feel? Did this feeling motivate you to dive deeper into the dataset, or to quickly announce it to the world?"
   ]
  },
  {
   "cell_type": "markdown",
   "metadata": {},
   "source": [
    "*Your Answer Here*"
   ]
  },
  {
   "cell_type": "markdown",
   "metadata": {},
   "source": [
    "**Instructor Solution:**\n",
    "\n",
    "- Q2.4: <u>TODO</u>"
   ]
  },
  {
   "cell_type": "markdown",
   "metadata": {},
   "source": [
    "<br/>\n",
    "\n",
    "<hr style=\"border: 1px solid #fdb515;\" />"
   ]
  },
  {
   "cell_type": "markdown",
   "metadata": {},
   "source": [
    "This is the end of the notebook! Great work!\n",
    "\n",
    "          /\\\\_/\\\\      \n",
    "         / o o  \\\\     \n",
    "        (   \"    ))    \n",
    "         \\\\~(*)~//     \n",
    "          \\\\~~~//      "
   ]
  }
 ],
 "metadata": {
  "kernelspec": {
   "display_name": "Python 3 (ipykernel)",
   "language": "python",
   "name": "python3"
  },
  "language_info": {
   "codemirror_mode": {
    "name": "ipython",
    "version": 3
   },
   "file_extension": ".py",
   "mimetype": "text/x-python",
   "name": "python",
   "nbconvert_exporter": "python",
   "pygments_lexer": "ipython3",
   "version": "3.9.13"
  }
 },
 "nbformat": 4,
 "nbformat_minor": 4
}
