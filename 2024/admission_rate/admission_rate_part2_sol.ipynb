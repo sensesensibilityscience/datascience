{
 "cells": [
  {
   "cell_type": "code",
   "execution_count": 1,
   "metadata": {},
   "outputs": [],
   "source": [
    "# This line imports pandas, numpy, matplotlib.pyplot, seaborn, and custom function relevant to part 2\n",
    "from admission_rate import *"
   ]
  },
  {
   "cell_type": "markdown",
   "metadata": {},
   "source": [
    "<br/>\n",
    "\n",
    "<hr style=\"border: 1px solid #fdb515;\" />"
   ]
  },
  {
   "cell_type": "markdown",
   "metadata": {},
   "source": [
    "# INSTRUCTOR VERSION"
   ]
  },
  {
   "cell_type": "markdown",
   "metadata": {},
   "source": [
    "# Part 2: Gender bias in admission within each major at UC Berkeley in 1973"
   ]
  },
  {
   "cell_type": "markdown",
   "metadata": {},
   "source": [
    "## **Question 0: Recap**"
   ]
  },
  {
   "cell_type": "markdown",
   "metadata": {},
   "source": [
    "In Part 1 of this module, we looked at the admission data of UC Berkeley in 1973 and found that 44% of male applicants were admitted while only 35% of female applicants were admitted. This difference is statistically significant, so it is highly unlikely to result from random chance.\n",
    "\n",
    "In Part 2, we will now dive more deeply into the same admission data by separating applicants by major. Our goal is to find out where this university-wide gender bias in admission comes from. If we can find out which major is most gender biased in its admission process, we can perhaps give the university a more targeted policy recommendation.\n",
    "\n",
    "As a reminder to Part 1, this is the plot we produced: \n",
    "\n",
    "![admission_per_gender_plot](admission_per_gender_plot.png)"
   ]
  },
  {
   "cell_type": "markdown",
   "metadata": {},
   "source": [
    "**Question 0)** State the conclusion you reached from Part 1, based on the above plot."
   ]
  },
  {
   "cell_type": "markdown",
   "metadata": {},
   "source": [
    "*Your Answer Here*"
   ]
  },
  {
   "cell_type": "markdown",
   "metadata": {},
   "source": [
    "**Instructor Solution:**\n",
    "\n",
    "- Q0: The two bars differ in height far more than the sizes of their error bars. This means that the difference in acceptance rates of the two genders is statistically significance. That is, it cannot have arisen from chance alone, without any gender bias in the admission process. Without gender bias, we would expect the two bars to be of comparable heights, with a difference smaller than the size of the error bars."
   ]
  },
  {
   "cell_type": "markdown",
   "metadata": {},
   "source": [
    "<br/>\n",
    "\n",
    "<hr style=\"border: 1px solid #fdb515;\" />"
   ]
  },
  {
   "cell_type": "markdown",
   "metadata": {},
   "source": [
    "## **Question 1: Comprehensive Analysis**"
   ]
  },
  {
   "cell_type": "markdown",
   "metadata": {},
   "source": [
    "**Question 1.1:** Like last lab, load the *```berkeley.csv```* dataset below."
   ]
  },
  {
   "cell_type": "code",
   "execution_count": null,
   "metadata": {},
   "outputs": [],
   "source": [
    "berkeley = ... # refer back to Part 1 if you're having trouble loading the DataFrame\n",
    "\n",
    "berkeley"
   ]
  },
  {
   "cell_type": "code",
   "execution_count": 2,
   "metadata": {},
   "outputs": [
    {
     "data": {
      "text/html": [
       "<div>\n",
       "<style scoped>\n",
       "    .dataframe tbody tr th:only-of-type {\n",
       "        vertical-align: middle;\n",
       "    }\n",
       "\n",
       "    .dataframe tbody tr th {\n",
       "        vertical-align: top;\n",
       "    }\n",
       "\n",
       "    .dataframe thead th {\n",
       "        text-align: right;\n",
       "    }\n",
       "</style>\n",
       "<table border=\"1\" class=\"dataframe\">\n",
       "  <thead>\n",
       "    <tr style=\"text-align: right;\">\n",
       "      <th></th>\n",
       "      <th>Year</th>\n",
       "      <th>Major</th>\n",
       "      <th>Gender</th>\n",
       "      <th>Admission</th>\n",
       "    </tr>\n",
       "  </thead>\n",
       "  <tbody>\n",
       "    <tr>\n",
       "      <th>0</th>\n",
       "      <td>1973</td>\n",
       "      <td>C</td>\n",
       "      <td>F</td>\n",
       "      <td>Rejected</td>\n",
       "    </tr>\n",
       "    <tr>\n",
       "      <th>1</th>\n",
       "      <td>1973</td>\n",
       "      <td>B</td>\n",
       "      <td>M</td>\n",
       "      <td>Accepted</td>\n",
       "    </tr>\n",
       "    <tr>\n",
       "      <th>2</th>\n",
       "      <td>1973</td>\n",
       "      <td>Other</td>\n",
       "      <td>F</td>\n",
       "      <td>Accepted</td>\n",
       "    </tr>\n",
       "    <tr>\n",
       "      <th>3</th>\n",
       "      <td>1973</td>\n",
       "      <td>Other</td>\n",
       "      <td>M</td>\n",
       "      <td>Accepted</td>\n",
       "    </tr>\n",
       "    <tr>\n",
       "      <th>4</th>\n",
       "      <td>1973</td>\n",
       "      <td>Other</td>\n",
       "      <td>M</td>\n",
       "      <td>Rejected</td>\n",
       "    </tr>\n",
       "    <tr>\n",
       "      <th>...</th>\n",
       "      <td>...</td>\n",
       "      <td>...</td>\n",
       "      <td>...</td>\n",
       "      <td>...</td>\n",
       "    </tr>\n",
       "    <tr>\n",
       "      <th>12758</th>\n",
       "      <td>1973</td>\n",
       "      <td>Other</td>\n",
       "      <td>M</td>\n",
       "      <td>Accepted</td>\n",
       "    </tr>\n",
       "    <tr>\n",
       "      <th>12759</th>\n",
       "      <td>1973</td>\n",
       "      <td>D</td>\n",
       "      <td>M</td>\n",
       "      <td>Accepted</td>\n",
       "    </tr>\n",
       "    <tr>\n",
       "      <th>12760</th>\n",
       "      <td>1973</td>\n",
       "      <td>Other</td>\n",
       "      <td>F</td>\n",
       "      <td>Rejected</td>\n",
       "    </tr>\n",
       "    <tr>\n",
       "      <th>12761</th>\n",
       "      <td>1973</td>\n",
       "      <td>Other</td>\n",
       "      <td>M</td>\n",
       "      <td>Rejected</td>\n",
       "    </tr>\n",
       "    <tr>\n",
       "      <th>12762</th>\n",
       "      <td>1973</td>\n",
       "      <td>Other</td>\n",
       "      <td>M</td>\n",
       "      <td>Accepted</td>\n",
       "    </tr>\n",
       "  </tbody>\n",
       "</table>\n",
       "<p>12763 rows × 4 columns</p>\n",
       "</div>"
      ],
      "text/plain": [
       "       Year  Major Gender Admission\n",
       "0      1973      C      F  Rejected\n",
       "1      1973      B      M  Accepted\n",
       "2      1973  Other      F  Accepted\n",
       "3      1973  Other      M  Accepted\n",
       "4      1973  Other      M  Rejected\n",
       "...     ...    ...    ...       ...\n",
       "12758  1973  Other      M  Accepted\n",
       "12759  1973      D      M  Accepted\n",
       "12760  1973  Other      F  Rejected\n",
       "12761  1973  Other      M  Rejected\n",
       "12762  1973  Other      M  Accepted\n",
       "\n",
       "[12763 rows x 4 columns]"
      ]
     },
     "execution_count": 2,
     "metadata": {},
     "output_type": "execute_result"
    }
   ],
   "source": [
    "# Instructor Solution:\n",
    "\n",
    "berkeley = pd.read_csv('berkeley.csv')\n",
    "\n",
    "berkeley"
   ]
  },
  {
   "cell_type": "code",
   "execution_count": 3,
   "metadata": {},
   "outputs": [
    {
     "data": {
      "text/html": [
       "<div>\n",
       "<style scoped>\n",
       "    .dataframe tbody tr th:only-of-type {\n",
       "        vertical-align: middle;\n",
       "    }\n",
       "\n",
       "    .dataframe tbody tr th {\n",
       "        vertical-align: top;\n",
       "    }\n",
       "\n",
       "    .dataframe thead th {\n",
       "        text-align: right;\n",
       "    }\n",
       "</style>\n",
       "<table border=\"1\" class=\"dataframe\">\n",
       "  <thead>\n",
       "    <tr style=\"text-align: right;\">\n",
       "      <th></th>\n",
       "      <th>Major</th>\n",
       "      <th>Gender</th>\n",
       "      <th>Accepted</th>\n",
       "      <th>Rejected</th>\n",
       "    </tr>\n",
       "  </thead>\n",
       "  <tbody>\n",
       "    <tr>\n",
       "      <th>0</th>\n",
       "      <td>A</td>\n",
       "      <td>F</td>\n",
       "      <td>89</td>\n",
       "      <td>19</td>\n",
       "    </tr>\n",
       "    <tr>\n",
       "      <th>1</th>\n",
       "      <td>A</td>\n",
       "      <td>M</td>\n",
       "      <td>825</td>\n",
       "      <td>313</td>\n",
       "    </tr>\n",
       "    <tr>\n",
       "      <th>2</th>\n",
       "      <td>B</td>\n",
       "      <td>F</td>\n",
       "      <td>17</td>\n",
       "      <td>8</td>\n",
       "    </tr>\n",
       "    <tr>\n",
       "      <th>3</th>\n",
       "      <td>B</td>\n",
       "      <td>M</td>\n",
       "      <td>353</td>\n",
       "      <td>207</td>\n",
       "    </tr>\n",
       "    <tr>\n",
       "      <th>4</th>\n",
       "      <td>C</td>\n",
       "      <td>F</td>\n",
       "      <td>201</td>\n",
       "      <td>392</td>\n",
       "    </tr>\n",
       "    <tr>\n",
       "      <th>5</th>\n",
       "      <td>C</td>\n",
       "      <td>M</td>\n",
       "      <td>120</td>\n",
       "      <td>205</td>\n",
       "    </tr>\n",
       "    <tr>\n",
       "      <th>6</th>\n",
       "      <td>D</td>\n",
       "      <td>F</td>\n",
       "      <td>131</td>\n",
       "      <td>244</td>\n",
       "    </tr>\n",
       "    <tr>\n",
       "      <th>7</th>\n",
       "      <td>D</td>\n",
       "      <td>M</td>\n",
       "      <td>138</td>\n",
       "      <td>279</td>\n",
       "    </tr>\n",
       "    <tr>\n",
       "      <th>8</th>\n",
       "      <td>E</td>\n",
       "      <td>F</td>\n",
       "      <td>94</td>\n",
       "      <td>299</td>\n",
       "    </tr>\n",
       "    <tr>\n",
       "      <th>9</th>\n",
       "      <td>E</td>\n",
       "      <td>M</td>\n",
       "      <td>53</td>\n",
       "      <td>138</td>\n",
       "    </tr>\n",
       "    <tr>\n",
       "      <th>10</th>\n",
       "      <td>F</td>\n",
       "      <td>F</td>\n",
       "      <td>25</td>\n",
       "      <td>316</td>\n",
       "    </tr>\n",
       "    <tr>\n",
       "      <th>11</th>\n",
       "      <td>F</td>\n",
       "      <td>M</td>\n",
       "      <td>22</td>\n",
       "      <td>351</td>\n",
       "    </tr>\n",
       "    <tr>\n",
       "      <th>12</th>\n",
       "      <td>Other</td>\n",
       "      <td>F</td>\n",
       "      <td>937</td>\n",
       "      <td>1549</td>\n",
       "    </tr>\n",
       "    <tr>\n",
       "      <th>13</th>\n",
       "      <td>Other</td>\n",
       "      <td>M</td>\n",
       "      <td>2227</td>\n",
       "      <td>3211</td>\n",
       "    </tr>\n",
       "  </tbody>\n",
       "</table>\n",
       "</div>"
      ],
      "text/plain": [
       "    Major Gender  Accepted  Rejected\n",
       "0       A      F        89        19\n",
       "1       A      M       825       313\n",
       "2       B      F        17         8\n",
       "3       B      M       353       207\n",
       "4       C      F       201       392\n",
       "5       C      M       120       205\n",
       "6       D      F       131       244\n",
       "7       D      M       138       279\n",
       "8       E      F        94       299\n",
       "9       E      M        53       138\n",
       "10      F      F        25       316\n",
       "11      F      M        22       351\n",
       "12  Other      F       937      1549\n",
       "13  Other      M      2227      3211"
      ]
     },
     "execution_count": 3,
     "metadata": {},
     "output_type": "execute_result"
    }
   ],
   "source": [
    "# just run this code block\n",
    "\n",
    "def accepted_count(x):\n",
    "    return (x == \"Accepted\").sum()\n",
    "\n",
    "def rejected_count(x):\n",
    "    return (x == \"Rejected\").sum()\n",
    "\n",
    "grouped_data = berkeley.groupby(['Major', 'Gender'])\n",
    "\n",
    "acceptance_counts = grouped_data['Admission'].apply(accepted_count).rename('Accepted')\n",
    "rejection_counts = grouped_data['Admission'].apply(rejected_count).rename('Rejected')\n",
    "\n",
    "admissions_by_all = pd.concat([acceptance_counts, rejection_counts], axis=1)\n",
    "admissions_by_all.reset_index(inplace=True)\n",
    "\n",
    "admissions_by_all"
   ]
  },
  {
   "cell_type": "markdown",
   "metadata": {},
   "source": [
    "**Question 1.2:** Using the `admissions_by_all` DataFrame provided above, calculate the total applicants and acceptance rate for each combination of major and gender. For clarity, your DataFrame should have the following columns: Major, Gender, Accepted, Rejected, Counts, and Acceptance Rate.\n",
    "\n",
    "<details open>\n",
    "\n",
    "<summary><i>Click here for hint(s)</i></summary>\n",
    "\n",
    "- <i>Your resulting DataFrame should resemble the table below:</i> <br> <br>\n",
    "![admissions_by_all_output](admissions_by_all_output.png)\n",
    "\n",
    "</details>"
   ]
  },
  {
   "cell_type": "code",
   "execution_count": null,
   "metadata": {},
   "outputs": [],
   "source": [
    "admissions_by_all['Counts'] = ...\n",
    "admissions_by_all['Acceptance Rate'] = ...\n",
    "\n",
    "admissions_by_all"
   ]
  },
  {
   "cell_type": "code",
   "execution_count": 4,
   "metadata": {},
   "outputs": [
    {
     "data": {
      "text/html": [
       "<div>\n",
       "<style scoped>\n",
       "    .dataframe tbody tr th:only-of-type {\n",
       "        vertical-align: middle;\n",
       "    }\n",
       "\n",
       "    .dataframe tbody tr th {\n",
       "        vertical-align: top;\n",
       "    }\n",
       "\n",
       "    .dataframe thead th {\n",
       "        text-align: right;\n",
       "    }\n",
       "</style>\n",
       "<table border=\"1\" class=\"dataframe\">\n",
       "  <thead>\n",
       "    <tr style=\"text-align: right;\">\n",
       "      <th></th>\n",
       "      <th>Major</th>\n",
       "      <th>Gender</th>\n",
       "      <th>Accepted</th>\n",
       "      <th>Rejected</th>\n",
       "      <th>Counts</th>\n",
       "      <th>Acceptance Rate</th>\n",
       "    </tr>\n",
       "  </thead>\n",
       "  <tbody>\n",
       "    <tr>\n",
       "      <th>0</th>\n",
       "      <td>A</td>\n",
       "      <td>F</td>\n",
       "      <td>89</td>\n",
       "      <td>19</td>\n",
       "      <td>108</td>\n",
       "      <td>0.824074</td>\n",
       "    </tr>\n",
       "    <tr>\n",
       "      <th>1</th>\n",
       "      <td>A</td>\n",
       "      <td>M</td>\n",
       "      <td>825</td>\n",
       "      <td>313</td>\n",
       "      <td>1138</td>\n",
       "      <td>0.724956</td>\n",
       "    </tr>\n",
       "    <tr>\n",
       "      <th>2</th>\n",
       "      <td>B</td>\n",
       "      <td>F</td>\n",
       "      <td>17</td>\n",
       "      <td>8</td>\n",
       "      <td>25</td>\n",
       "      <td>0.680000</td>\n",
       "    </tr>\n",
       "    <tr>\n",
       "      <th>3</th>\n",
       "      <td>B</td>\n",
       "      <td>M</td>\n",
       "      <td>353</td>\n",
       "      <td>207</td>\n",
       "      <td>560</td>\n",
       "      <td>0.630357</td>\n",
       "    </tr>\n",
       "    <tr>\n",
       "      <th>4</th>\n",
       "      <td>C</td>\n",
       "      <td>F</td>\n",
       "      <td>201</td>\n",
       "      <td>392</td>\n",
       "      <td>593</td>\n",
       "      <td>0.338954</td>\n",
       "    </tr>\n",
       "    <tr>\n",
       "      <th>5</th>\n",
       "      <td>C</td>\n",
       "      <td>M</td>\n",
       "      <td>120</td>\n",
       "      <td>205</td>\n",
       "      <td>325</td>\n",
       "      <td>0.369231</td>\n",
       "    </tr>\n",
       "    <tr>\n",
       "      <th>6</th>\n",
       "      <td>D</td>\n",
       "      <td>F</td>\n",
       "      <td>131</td>\n",
       "      <td>244</td>\n",
       "      <td>375</td>\n",
       "      <td>0.349333</td>\n",
       "    </tr>\n",
       "    <tr>\n",
       "      <th>7</th>\n",
       "      <td>D</td>\n",
       "      <td>M</td>\n",
       "      <td>138</td>\n",
       "      <td>279</td>\n",
       "      <td>417</td>\n",
       "      <td>0.330935</td>\n",
       "    </tr>\n",
       "    <tr>\n",
       "      <th>8</th>\n",
       "      <td>E</td>\n",
       "      <td>F</td>\n",
       "      <td>94</td>\n",
       "      <td>299</td>\n",
       "      <td>393</td>\n",
       "      <td>0.239186</td>\n",
       "    </tr>\n",
       "    <tr>\n",
       "      <th>9</th>\n",
       "      <td>E</td>\n",
       "      <td>M</td>\n",
       "      <td>53</td>\n",
       "      <td>138</td>\n",
       "      <td>191</td>\n",
       "      <td>0.277487</td>\n",
       "    </tr>\n",
       "    <tr>\n",
       "      <th>10</th>\n",
       "      <td>F</td>\n",
       "      <td>F</td>\n",
       "      <td>25</td>\n",
       "      <td>316</td>\n",
       "      <td>341</td>\n",
       "      <td>0.073314</td>\n",
       "    </tr>\n",
       "    <tr>\n",
       "      <th>11</th>\n",
       "      <td>F</td>\n",
       "      <td>M</td>\n",
       "      <td>22</td>\n",
       "      <td>351</td>\n",
       "      <td>373</td>\n",
       "      <td>0.058981</td>\n",
       "    </tr>\n",
       "    <tr>\n",
       "      <th>12</th>\n",
       "      <td>Other</td>\n",
       "      <td>F</td>\n",
       "      <td>937</td>\n",
       "      <td>1549</td>\n",
       "      <td>2486</td>\n",
       "      <td>0.376911</td>\n",
       "    </tr>\n",
       "    <tr>\n",
       "      <th>13</th>\n",
       "      <td>Other</td>\n",
       "      <td>M</td>\n",
       "      <td>2227</td>\n",
       "      <td>3211</td>\n",
       "      <td>5438</td>\n",
       "      <td>0.409526</td>\n",
       "    </tr>\n",
       "  </tbody>\n",
       "</table>\n",
       "</div>"
      ],
      "text/plain": [
       "    Major Gender  Accepted  Rejected  Counts  Acceptance Rate\n",
       "0       A      F        89        19     108         0.824074\n",
       "1       A      M       825       313    1138         0.724956\n",
       "2       B      F        17         8      25         0.680000\n",
       "3       B      M       353       207     560         0.630357\n",
       "4       C      F       201       392     593         0.338954\n",
       "5       C      M       120       205     325         0.369231\n",
       "6       D      F       131       244     375         0.349333\n",
       "7       D      M       138       279     417         0.330935\n",
       "8       E      F        94       299     393         0.239186\n",
       "9       E      M        53       138     191         0.277487\n",
       "10      F      F        25       316     341         0.073314\n",
       "11      F      M        22       351     373         0.058981\n",
       "12  Other      F       937      1549    2486         0.376911\n",
       "13  Other      M      2227      3211    5438         0.409526"
      ]
     },
     "execution_count": 4,
     "metadata": {},
     "output_type": "execute_result"
    }
   ],
   "source": [
    "# Instructor Solution:\n",
    "\n",
    "admissions_by_all['Counts'] = admissions_by_all['Accepted'] + admissions_by_all['Rejected']\n",
    "admissions_by_all['Acceptance Rate'] = admissions_by_all['Accepted'] / admissions_by_all['Counts']\n",
    "\n",
    "admissions_by_all"
   ]
  },
  {
   "cell_type": "markdown",
   "metadata": {},
   "source": [
    "**Question 1.3:** Before we can build a `bar` plot that visualizes the acceptance rates by major and gender, we must first calculate the admission errors for each major-gender pair. \n",
    "\n",
    "For example, the variance in the acceptance rate for female applicants who applied to major A, assuming applicants are admitted by random without any major or gender consideration, is given by\n",
    "\n",
    "$$\\operatorname{Var}(p_{\\mathrm{app},A,F}) = \\frac{N_{\\mathrm{adm}}}{N_{\\mathrm{app}}^2} \\frac{1-p_{\\mathrm{app},A,F}}{p_{\\mathrm{app},A,F}}.$$\n",
    "\n",
    "Here, $N_{\\mathrm{adm}}$ is the total number of admitted students who applied to major A, $N_{\\mathrm{app}}$ is the total number of applicants who applied to major A, and $p_{\\mathrm{app},A,F}$ is the proportion of female applicants who applied to major A. The variance for the acceptance rate for male applicants who applied to major A is given by the same formula, just with $p_{\\mathrm{app},A,M}$ instead of $p_{\\mathrm{app},A,F}$.\n",
    "\n",
    "Your task is to generalize this formula to any major-gender pair. To ensure you're on the right track, you should get admission errors of 0.007475 for major A, gender M and 0.155621 for major B, gender F."
   ]
  },
  {
   "cell_type": "code",
   "execution_count": null,
   "metadata": {},
   "outputs": [],
   "source": [
    "majors = ... # get all of the unique majors (there should be 6 + \"Other\")\n",
    "admission_error = []\n",
    "\n",
    "for major in majors:\n",
    "    major_df = ... # this should be a DataFrame including only the current major of the for loop\n",
    "    N_app = ... # given the major, total number of students who applied\n",
    "    N_adm = ... # given the major, total number of students who were accepted/admitted\n",
    "    p_female_app = ... # given the major, proportion of students who applied who were female\n",
    "    p_male_app = ... # given the major, proportion of students who applied who were male\n",
    "    var_f = ... # variance in the acceptance rate for females who applied to some major, implementing the formula above\n",
    "    var_m = ... # variance in the acceptance rate for females who applied to some major, implementing the formula above\n",
    "    admission_error.append(np.sqrt(var_f))\n",
    "    admission_error.append(np.sqrt(var_m))\n",
    "\n",
    "admissions_by_all[\"Admission Error\"] = admission_error\n",
    "\n",
    "admissions_by_all"
   ]
  },
  {
   "cell_type": "code",
   "execution_count": 5,
   "metadata": {},
   "outputs": [
    {
     "data": {
      "text/html": [
       "<div>\n",
       "<style scoped>\n",
       "    .dataframe tbody tr th:only-of-type {\n",
       "        vertical-align: middle;\n",
       "    }\n",
       "\n",
       "    .dataframe tbody tr th {\n",
       "        vertical-align: top;\n",
       "    }\n",
       "\n",
       "    .dataframe thead th {\n",
       "        text-align: right;\n",
       "    }\n",
       "</style>\n",
       "<table border=\"1\" class=\"dataframe\">\n",
       "  <thead>\n",
       "    <tr style=\"text-align: right;\">\n",
       "      <th></th>\n",
       "      <th>Major</th>\n",
       "      <th>Gender</th>\n",
       "      <th>Accepted</th>\n",
       "      <th>Rejected</th>\n",
       "      <th>Counts</th>\n",
       "      <th>Acceptance Rate</th>\n",
       "      <th>Admission Error</th>\n",
       "    </tr>\n",
       "  </thead>\n",
       "  <tbody>\n",
       "    <tr>\n",
       "      <th>0</th>\n",
       "      <td>A</td>\n",
       "      <td>F</td>\n",
       "      <td>89</td>\n",
       "      <td>19</td>\n",
       "      <td>108</td>\n",
       "      <td>0.824074</td>\n",
       "      <td>0.078762</td>\n",
       "    </tr>\n",
       "    <tr>\n",
       "      <th>1</th>\n",
       "      <td>A</td>\n",
       "      <td>M</td>\n",
       "      <td>825</td>\n",
       "      <td>313</td>\n",
       "      <td>1138</td>\n",
       "      <td>0.724956</td>\n",
       "      <td>0.007475</td>\n",
       "    </tr>\n",
       "    <tr>\n",
       "      <th>2</th>\n",
       "      <td>B</td>\n",
       "      <td>F</td>\n",
       "      <td>17</td>\n",
       "      <td>8</td>\n",
       "      <td>25</td>\n",
       "      <td>0.680000</td>\n",
       "      <td>0.155621</td>\n",
       "    </tr>\n",
       "    <tr>\n",
       "      <th>3</th>\n",
       "      <td>B</td>\n",
       "      <td>M</td>\n",
       "      <td>353</td>\n",
       "      <td>207</td>\n",
       "      <td>560</td>\n",
       "      <td>0.630357</td>\n",
       "      <td>0.006947</td>\n",
       "    </tr>\n",
       "    <tr>\n",
       "      <th>4</th>\n",
       "      <td>C</td>\n",
       "      <td>F</td>\n",
       "      <td>201</td>\n",
       "      <td>392</td>\n",
       "      <td>593</td>\n",
       "      <td>0.338954</td>\n",
       "      <td>0.014449</td>\n",
       "    </tr>\n",
       "    <tr>\n",
       "      <th>5</th>\n",
       "      <td>C</td>\n",
       "      <td>M</td>\n",
       "      <td>120</td>\n",
       "      <td>205</td>\n",
       "      <td>325</td>\n",
       "      <td>0.369231</td>\n",
       "      <td>0.026363</td>\n",
       "    </tr>\n",
       "    <tr>\n",
       "      <th>6</th>\n",
       "      <td>D</td>\n",
       "      <td>F</td>\n",
       "      <td>131</td>\n",
       "      <td>244</td>\n",
       "      <td>375</td>\n",
       "      <td>0.349333</td>\n",
       "      <td>0.021838</td>\n",
       "    </tr>\n",
       "    <tr>\n",
       "      <th>7</th>\n",
       "      <td>D</td>\n",
       "      <td>M</td>\n",
       "      <td>138</td>\n",
       "      <td>279</td>\n",
       "      <td>417</td>\n",
       "      <td>0.330935</td>\n",
       "      <td>0.019638</td>\n",
       "    </tr>\n",
       "    <tr>\n",
       "      <th>8</th>\n",
       "      <td>E</td>\n",
       "      <td>F</td>\n",
       "      <td>94</td>\n",
       "      <td>299</td>\n",
       "      <td>393</td>\n",
       "      <td>0.239186</td>\n",
       "      <td>0.014473</td>\n",
       "    </tr>\n",
       "    <tr>\n",
       "      <th>9</th>\n",
       "      <td>E</td>\n",
       "      <td>M</td>\n",
       "      <td>53</td>\n",
       "      <td>138</td>\n",
       "      <td>191</td>\n",
       "      <td>0.277487</td>\n",
       "      <td>0.029780</td>\n",
       "    </tr>\n",
       "    <tr>\n",
       "      <th>10</th>\n",
       "      <td>F</td>\n",
       "      <td>F</td>\n",
       "      <td>25</td>\n",
       "      <td>316</td>\n",
       "      <td>341</td>\n",
       "      <td>0.073314</td>\n",
       "      <td>0.010042</td>\n",
       "    </tr>\n",
       "    <tr>\n",
       "      <th>11</th>\n",
       "      <td>F</td>\n",
       "      <td>M</td>\n",
       "      <td>22</td>\n",
       "      <td>351</td>\n",
       "      <td>373</td>\n",
       "      <td>0.058981</td>\n",
       "      <td>0.009181</td>\n",
       "    </tr>\n",
       "    <tr>\n",
       "      <th>12</th>\n",
       "      <td>Other</td>\n",
       "      <td>F</td>\n",
       "      <td>937</td>\n",
       "      <td>1549</td>\n",
       "      <td>2486</td>\n",
       "      <td>0.376911</td>\n",
       "      <td>0.010499</td>\n",
       "    </tr>\n",
       "    <tr>\n",
       "      <th>13</th>\n",
       "      <td>Other</td>\n",
       "      <td>M</td>\n",
       "      <td>2227</td>\n",
       "      <td>3211</td>\n",
       "      <td>5438</td>\n",
       "      <td>0.409526</td>\n",
       "      <td>0.004800</td>\n",
       "    </tr>\n",
       "  </tbody>\n",
       "</table>\n",
       "</div>"
      ],
      "text/plain": [
       "    Major Gender  Accepted  Rejected  Counts  Acceptance Rate  Admission Error\n",
       "0       A      F        89        19     108         0.824074         0.078762\n",
       "1       A      M       825       313    1138         0.724956         0.007475\n",
       "2       B      F        17         8      25         0.680000         0.155621\n",
       "3       B      M       353       207     560         0.630357         0.006947\n",
       "4       C      F       201       392     593         0.338954         0.014449\n",
       "5       C      M       120       205     325         0.369231         0.026363\n",
       "6       D      F       131       244     375         0.349333         0.021838\n",
       "7       D      M       138       279     417         0.330935         0.019638\n",
       "8       E      F        94       299     393         0.239186         0.014473\n",
       "9       E      M        53       138     191         0.277487         0.029780\n",
       "10      F      F        25       316     341         0.073314         0.010042\n",
       "11      F      M        22       351     373         0.058981         0.009181\n",
       "12  Other      F       937      1549    2486         0.376911         0.010499\n",
       "13  Other      M      2227      3211    5438         0.409526         0.004800"
      ]
     },
     "execution_count": 5,
     "metadata": {},
     "output_type": "execute_result"
    }
   ],
   "source": [
    "# Instructor Solution:\n",
    "\n",
    "majors = admissions_by_all['Major'].unique()\n",
    "admission_error = []\n",
    "\n",
    "for major in majors:\n",
    "    major_df = admissions_by_all[admissions_by_all['Major'] == major]\n",
    "    N_app = major_df['Counts'].sum()\n",
    "    N_adm = major_df['Accepted'].sum()\n",
    "    p_female_app = major_df[major_df['Gender'] == 'F'].reset_index()['Counts'][0] / N_app\n",
    "    p_male_app = major_df[major_df['Gender'] == 'M'].reset_index()['Counts'][0] / N_app\n",
    "    var_f = (1 - p_female_app) / p_female_app * (N_adm / N_app**2)\n",
    "    var_m = (1 - p_male_app) / p_male_app * (N_adm / N_app**2)\n",
    "    admission_error.append(np.sqrt(var_f))\n",
    "    admission_error.append(np.sqrt(var_m))\n",
    "\n",
    "admissions_by_all[\"Admission Error\"] = admission_error\n",
    "\n",
    "admissions_by_all"
   ]
  },
  {
   "cell_type": "markdown",
   "metadata": {},
   "source": [
    "**Question 1.4:** Construct a `bar` plot that visualizes the admission rates by gender within each major. We recommend using the function `hued_barplot_with_error`, which was imported from `admission_rate.py`.\n",
    "\n",
    "`hued_barplot_with_error` takes in six arguments: `df`, `x`, `y`, `hue`, `error`, and `title`.\n",
    "\n",
    "<details open>\n",
    "\n",
    "<summary><i>Click here for hint(s)</i></summary>\n",
    "\n",
    "- <i>`df` should be type `pd.Dataframe`. `x`, `y`, `hue`, `error`, and `title` should be type `str`.\n",
    "- <i>Each `x` variable should be a different major plotting the acceptance rates for the two genders.</i>\n",
    "- <i>Use the `hue` parameter as a way to differentiate between the two genders.</i>\n",
    "- <i>Use the `Admission Error` column that was previously calculated for the `error` parameter.</i>\n",
    "\n",
    "</details>"
   ]
  },
  {
   "cell_type": "code",
   "execution_count": null,
   "metadata": {},
   "outputs": [],
   "source": [
    "..."
   ]
  },
  {
   "cell_type": "code",
   "execution_count": 6,
   "metadata": {},
   "outputs": [
    {
     "data": {
      "image/png": "[encoded data removed]",
      "text/plain": [
       "<Figure size 1200x600 with 1 Axes>"
      ]
     },
     "metadata": {},
     "output_type": "display_data"
    }
   ],
   "source": [
    "# Instructor Solution:\n",
    "\n",
    "hued_barplot_with_error(admissions_by_all, 'Major', 'Acceptance Rate', 'Gender', 'Admission Error', 'Acceptance Rates by Major and Gender with Error Bars')\n",
    "\n",
    "plt.show()"
   ]
  },
  {
   "cell_type": "markdown",
   "metadata": {},
   "source": [
    "**Question 1.5:** In the bar plot above, for each major, do the acceptance rates for male and female applicants differ significantly? That is, do they differ much more than their individual error bars?\n",
    "\n",
    "**Question 1.6:** How many majors have a gender discrepancy in acceptance rates greater than the error bars? If each error bar represents a 68% confidence interval, how many of the 7 majors do we expect to have a gender discrepancy greater than the error bars just by random chance?\n",
    "\n",
    "**Question 1.7:** Based on the answers to the previous two questions, is there any statistically significant gender bias in the per-major admission process across the university?"
   ]
  },
  {
   "cell_type": "markdown",
   "metadata": {},
   "source": [
    "*Your Answer Here*"
   ]
  },
  {
   "cell_type": "markdown",
   "metadata": {},
   "source": [
    "**Instructor Solution:**\n",
    "\n",
    "- Q1.5: <u>TODO</u>\n",
    "- Q1.6: <u>TODO</u>\n",
    "- Q1.7: <u>TODO</u>"
   ]
  },
  {
   "cell_type": "markdown",
   "metadata": {},
   "source": [
    "Remember that in Part 1, we concluded that the university's admission process was significantly gender biased, yet we just now concluded that the per-major admission process did not show any significant gender bias. What's going on here? Let's now plot the data in a different way to figure it out!\n",
    "\n",
    "**Question 1.8:** Construct a `bar` plot comparing the total number of applicants between two genders for each major. For clearer results, first construct a DataFrame `df_without_other`, which is  the `admissions_by_all` DataFrame without the \"Other\" major. For each bar in the `bar` plot, stack the totals of accepted and rejected applicants. We recommend using the function `stacked_barplot_with_hue`, which was imported from `admission_rate.py`.\n",
    "\n",
    "`stacked_barplot_with_hue` takes in six arguments: `df`, `x`, `y1`, `y2`, `hue`, and `title`.\n",
    "\n",
    "<details open>\n",
    "\n",
    "<summary><i>Click here for hint(s)</i></summary>\n",
    "\n",
    "- <i>`df` should be type `pd.Dataframe`. `x`, `y1`, `y2`, `hue`, and `title` should be type `str`.\n",
    "- <i>Each `x` variable should be a different major plotting the stacked accepted and rejected totals for the two genders.</i>\n",
    "- <i>`y1` and `y2` should be the \"Accepted\" and \"Rejected\" columns.</i>\n",
    "- <i>Use the `hue` parameter as a way to differentiate between the two genders.</i>\n",
    "\n",
    "</details>"
   ]
  },
  {
   "cell_type": "code",
   "execution_count": 9,
   "metadata": {},
   "outputs": [],
   "source": [
    "df_without_other = ... # this should be a DataFrame that excludes the \"Other\" major\n",
    "...\n",
    "\n",
    "plt.show()"
   ]
  },
  {
   "cell_type": "code",
   "execution_count": 8,
   "metadata": {},
   "outputs": [
    {
     "data": {
      "image/png": "[encoded data removed]",
      "text/plain": [
       "<Figure size 1400x800 with 1 Axes>"
      ]
     },
     "metadata": {},
     "output_type": "display_data"
    }
   ],
   "source": [
    "# Instructor Solution:\n",
    "\n",
    "df_without_other = admissions_by_all[admissions_by_all[\"Major\"] != \"Other\"]\n",
    "stacked_barplot_with_hue(df_without_other, \"Major\", \"Accepted\", \"Rejected\", \"Gender\", \"Admissions for each Department at UC Berkeley\")\n",
    "\n",
    "plt.show()"
   ]
  },
  {
   "cell_type": "markdown",
   "metadata": {},
   "source": [
    "**Question 1.9:** Which two majors are most popular amongst male/female applicants? Are some of these majors \"easier\" to get in than others?\n",
    "\n",
    "**Question 1.10:** Based on this, what would you say is the primary source of university-wide gender bias in the admission process?\n",
    "\n",
    "**Question 1.11:** Recall your policy recommendation based on your conclusions in Part 1. Would you now adjust that policy recommendation in light of the new findings?"
   ]
  },
  {
   "cell_type": "markdown",
   "metadata": {},
   "source": [
    "*Your Answer Here*"
   ]
  },
  {
   "cell_type": "markdown",
   "metadata": {},
   "source": [
    "**Instructor Solution:**\n",
    "\n",
    "- Q1.9: <u>TODO</u>\n",
    "- Q1.10: <u>TODO</u>\n",
    "- Q1.11: <u>TODO</u>"
   ]
  },
  {
   "cell_type": "markdown",
   "metadata": {},
   "source": [
    "<br/>\n",
    "\n",
    "<hr style=\"border: 1px solid #fdb515;\" />"
   ]
  },
  {
   "cell_type": "markdown",
   "metadata": {},
   "source": [
    "## **Question 2: Closing Thoughts**"
   ]
  },
  {
   "cell_type": "markdown",
   "metadata": {},
   "source": [
    "What we just observed is a classic example of [Simpson's Paradox](https://en.wikipedia.org/wiki/Simpson%27s_paradox), a statistical phenomenon where a trend that appears in different groups of data disappears or reverses when these groups are combined. In our case, the groups are the different majors. This paradox is part of a broader set of considerations that need to be made when performing data analysis, as it can drastically change the interpretation of the data and subsequent policy recommendation.\n",
    "\n",
    "In the following questions, we'll delve further into how phenomena like Simpson's Paradox may pose as an invisible obstacle to comprehensive analysis."
   ]
  },
  {
   "cell_type": "markdown",
   "metadata": {},
   "source": [
    "**Question 2.1:** In Part 1, when we looked at all UC Berkeley applicants, we found gender bias in the admission process. Suppose a policy was recommended and implemented to equalise the university-wide acceptance rates between male and female. What positive consequences would you anticipate from this policy? What negative consequences would you anticipate from this policy?"
   ]
  },
  {
   "cell_type": "markdown",
   "metadata": {},
   "source": [
    "*Your Answer Here*"
   ]
  },
  {
   "cell_type": "markdown",
   "metadata": {},
   "source": [
    "**Instructor Solution:**\n",
    "\n",
    "- Q2.1: <u>TODO</u>"
   ]
  },
  {
   "cell_type": "markdown",
   "metadata": {},
   "source": [
    "**Question 2.2:** In Part 2, when we looked at applicants to individual majors, we did not find gender bias in the admission process. Suppose nothing was changed about UC Berkeley's admission process as a result. What positive and negative consequences would you anticipate from this inaction?"
   ]
  },
  {
   "cell_type": "markdown",
   "metadata": {},
   "source": [
    "*Your Answer Here*"
   ]
  },
  {
   "cell_type": "markdown",
   "metadata": {},
   "source": [
    "**Instructor Solution:**\n",
    "\n",
    "- Q2.2: <u>TODO</u>"
   ]
  },
  {
   "cell_type": "markdown",
   "metadata": {},
   "source": [
    "**Question 2.3:** Of the two methods of analysis (i.e. looking at individual majors or not), which one do you think is \"more correct\"?"
   ]
  },
  {
   "cell_type": "markdown",
   "metadata": {},
   "source": [
    "*Your Answer Here*"
   ]
  },
  {
   "cell_type": "markdown",
   "metadata": {},
   "source": [
    "**Instructor Solution:**\n",
    "\n",
    "- Q2.3: <u>TODO</u>"
   ]
  },
  {
   "cell_type": "markdown",
   "metadata": {},
   "source": [
    "There is actually no correct answer to the question above. There are countless ways in which we could've \"chopped up\" the data into groups. For example, we could've grouped the applicants, not by major, but by the first letter of their surname. Should we make policy recommendations if we found a bias against male applicants with D names?\n",
    "\n",
    "At the end, Simpson's Paradox tells us that the choice of data grouping involves a values judgment—we may deem separation by majors as more important than separation by first letter of their surname. To make a decision, we must consider the impact of this choice, as in questions 3.1 and 3.2. As diligent data analysts, we must be aware of this often implicit values decision when we dive into a dataset.\n",
    "\n",
    "**Question 2.4 (Self-reflection):** When you reached the end of Part 1, was the conclusion of gender bias what you expected of UC Berkeley in 1973? How did that make you feel? Did this feeling motivate you to dive deeper into the dataset, or to quickly announce it to the world?"
   ]
  },
  {
   "cell_type": "markdown",
   "metadata": {},
   "source": [
    "*Your Answer Here*"
   ]
  },
  {
   "cell_type": "markdown",
   "metadata": {},
   "source": [
    "**Instructor Solution:**\n",
    "\n",
    "- Q2.4: <u>TODO</u>"
   ]
  },
  {
   "cell_type": "markdown",
   "metadata": {},
   "source": [
    "<br/>\n",
    "\n",
    "<hr style=\"border: 1px solid #fdb515;\" />"
   ]
  },
  {
   "cell_type": "markdown",
   "metadata": {},
   "source": [
    "This is the end of the notebook! Great work!\n",
    "\n",
    "          /\\\\_/\\\\      \n",
    "         / o o  \\\\     \n",
    "        (   \"    ))    \n",
    "         \\\\~(*)~//     \n",
    "          \\\\~~~//      "
   ]
  }
 ],
 "metadata": {
  "kernelspec": {
   "display_name": "base",
   "language": "python",
   "name": "python3"
  },
  "language_info": {
   "codemirror_mode": {
    "name": "ipython",
    "version": 3
   },
   "file_extension": ".py",
   "mimetype": "text/x-python",
   "name": "python",
   "nbconvert_exporter": "python",
   "pygments_lexer": "ipython3",
   "version": "3.10.9"
  }
 },
 "nbformat": 4,
 "nbformat_minor": 2
}
