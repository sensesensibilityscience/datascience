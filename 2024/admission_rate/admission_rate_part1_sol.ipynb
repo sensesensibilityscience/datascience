{
 "cells": [
  {
   "cell_type": "code",
   "execution_count": 1,
   "metadata": {},
   "outputs": [],
   "source": [
    "# This line imports pandas, numpy, matplotlib.pyplot, and seaborn\n",
    "from admission_rate import *"
   ]
  },
  {
   "cell_type": "markdown",
   "metadata": {},
   "source": [
    "<br/>\n",
    "\n",
    "<hr style=\"border: 1px solid #fdb515;\" />"
   ]
  },
  {
   "cell_type": "markdown",
   "metadata": {},
   "source": [
    "# INSTRUCTOR VERSION"
   ]
  },
  {
   "cell_type": "markdown",
   "metadata": {},
   "source": [
    "# Part 1: University-wide gender bias in 1973"
   ]
  },
  {
   "cell_type": "markdown",
   "metadata": {},
   "source": [
    "## Background"
   ]
  },
  {
   "cell_type": "markdown",
   "metadata": {},
   "source": [
    "In 1973, UC Berkeley was at risk of being sued for gender discrimination in their graduate admissions process. University records showed that they admitted 44% of their male applicants but only 35% of their female applicants. This ostensible case of bias against women turned out to be somewhat more nuanced. You will take the role of a statistician tasked to study **UC Berkeley's graduate admissions data in 1973**."
   ]
  },
  {
   "cell_type": "markdown",
   "metadata": {},
   "source": [
    "<br/>\n",
    "\n",
    "<hr style=\"border: 1px solid #fdb515;\" />"
   ]
  },
  {
   "cell_type": "markdown",
   "metadata": {},
   "source": [
    "## Personal experience"
   ]
  },
  {
   "cell_type": "markdown",
   "metadata": {},
   "source": [
    "<!-- BEGIN QUESTION -->\n",
    "In *Senses and Instrumentation*, we discussed how keeping careful numerical records could be considered a form of instrument which extends our natural human senses. Statisticians can study published data to draw their conclusions, but as students of the university, we can typically only rely on personal experience and observations to form our impression of the university.\n",
    "\n",
    "**Question 1:** Suppose it were 1973, and you were asked by a reporter to give your impression of whether the university's admission process may be biased in favour of one gender. Which pieces of information available from your personal observations would you use to make a quick assessment of gender bias? (E.g. the number of male vs. female students in a typical introductory biology class) Answers may vary.\n",
    "\n",
    "**Question 2:** What are the potential limitations of this kind of \"sensory\" information in making an accurate assessment? (Consider statistical and systematic uncertainties.) Answers may vary.\n",
    "\n",
    "*Note: When discussing gender, please be considerate of the diversity in gender identities. Your insights should reflect personal observations and are subjective.*"
   ]
  },
  {
   "cell_type": "markdown",
   "metadata": {},
   "source": [
    "*Your Answer Here*"
   ]
  },
  {
   "cell_type": "markdown",
   "metadata": {},
   "source": [
    "**Instructor Solution:**\n",
    "\n",
    "- Q1. Gender ratio in a typical class I attend. Gender ratio in public areas on campus. Gender ratio within my major cohort.\n",
    "\n",
    "- Q2. Statistical uncertainty: Gender ratio may happen to be skewed one way or another in a class, especially a small one. Systematic uncertainty: If a major is male-dominated, it may simply be that the applicant pool is male-dominated, rather than that the admission process is biased."
   ]
  },
  {
   "cell_type": "markdown",
   "metadata": {},
   "source": [
    "## The data"
   ]
  },
  {
   "cell_type": "markdown",
   "metadata": {},
   "source": [
    "<!-- End QUESTION -->\n",
    "\n",
    "Now, let's load our dataset `berkeley.csv` below and show a few rows."
   ]
  },
  {
   "cell_type": "code",
   "execution_count": 6,
   "metadata": {},
   "outputs": [
    {
     "data": {
      "text/html": [
       "<div>\n",
       "<style scoped>\n",
       "    .dataframe tbody tr th:only-of-type {\n",
       "        vertical-align: middle;\n",
       "    }\n",
       "\n",
       "    .dataframe tbody tr th {\n",
       "        vertical-align: top;\n",
       "    }\n",
       "\n",
       "    .dataframe thead th {\n",
       "        text-align: right;\n",
       "    }\n",
       "</style>\n",
       "<table border=\"1\" class=\"dataframe\">\n",
       "  <thead>\n",
       "    <tr style=\"text-align: right;\">\n",
       "      <th></th>\n",
       "      <th>Year</th>\n",
       "      <th>Major</th>\n",
       "      <th>Gender</th>\n",
       "      <th>Admission</th>\n",
       "    </tr>\n",
       "  </thead>\n",
       "  <tbody>\n",
       "    <tr>\n",
       "      <th>0</th>\n",
       "      <td>1973</td>\n",
       "      <td>C</td>\n",
       "      <td>F</td>\n",
       "      <td>Rejected</td>\n",
       "    </tr>\n",
       "    <tr>\n",
       "      <th>1</th>\n",
       "      <td>1973</td>\n",
       "      <td>B</td>\n",
       "      <td>M</td>\n",
       "      <td>Accepted</td>\n",
       "    </tr>\n",
       "    <tr>\n",
       "      <th>2</th>\n",
       "      <td>1973</td>\n",
       "      <td>Other</td>\n",
       "      <td>F</td>\n",
       "      <td>Accepted</td>\n",
       "    </tr>\n",
       "    <tr>\n",
       "      <th>3</th>\n",
       "      <td>1973</td>\n",
       "      <td>Other</td>\n",
       "      <td>M</td>\n",
       "      <td>Accepted</td>\n",
       "    </tr>\n",
       "    <tr>\n",
       "      <th>4</th>\n",
       "      <td>1973</td>\n",
       "      <td>Other</td>\n",
       "      <td>M</td>\n",
       "      <td>Rejected</td>\n",
       "    </tr>\n",
       "    <tr>\n",
       "      <th>...</th>\n",
       "      <td>...</td>\n",
       "      <td>...</td>\n",
       "      <td>...</td>\n",
       "      <td>...</td>\n",
       "    </tr>\n",
       "    <tr>\n",
       "      <th>12758</th>\n",
       "      <td>1973</td>\n",
       "      <td>Other</td>\n",
       "      <td>M</td>\n",
       "      <td>Accepted</td>\n",
       "    </tr>\n",
       "    <tr>\n",
       "      <th>12759</th>\n",
       "      <td>1973</td>\n",
       "      <td>D</td>\n",
       "      <td>M</td>\n",
       "      <td>Accepted</td>\n",
       "    </tr>\n",
       "    <tr>\n",
       "      <th>12760</th>\n",
       "      <td>1973</td>\n",
       "      <td>Other</td>\n",
       "      <td>F</td>\n",
       "      <td>Rejected</td>\n",
       "    </tr>\n",
       "    <tr>\n",
       "      <th>12761</th>\n",
       "      <td>1973</td>\n",
       "      <td>Other</td>\n",
       "      <td>M</td>\n",
       "      <td>Rejected</td>\n",
       "    </tr>\n",
       "    <tr>\n",
       "      <th>12762</th>\n",
       "      <td>1973</td>\n",
       "      <td>Other</td>\n",
       "      <td>M</td>\n",
       "      <td>Accepted</td>\n",
       "    </tr>\n",
       "  </tbody>\n",
       "</table>\n",
       "<p>12763 rows × 4 columns</p>\n",
       "</div>"
      ],
      "text/plain": [
       "       Year  Major Gender Admission\n",
       "0      1973      C      F  Rejected\n",
       "1      1973      B      M  Accepted\n",
       "2      1973  Other      F  Accepted\n",
       "3      1973  Other      M  Accepted\n",
       "4      1973  Other      M  Rejected\n",
       "...     ...    ...    ...       ...\n",
       "12758  1973  Other      M  Accepted\n",
       "12759  1973      D      M  Accepted\n",
       "12760  1973  Other      F  Rejected\n",
       "12761  1973  Other      M  Rejected\n",
       "12762  1973  Other      M  Accepted\n",
       "\n",
       "[12763 rows x 4 columns]"
      ]
     },
     "execution_count": 6,
     "metadata": {},
     "output_type": "execute_result"
    }
   ],
   "source": [
    "berkeley = pd.read_csv(\"berkeley.csv\") # we load the prepared csv file containing the data into a pandas dataframe\n",
    "\n",
    "berkeley # print a few rows from the dataframe"
   ]
  },
  {
   "cell_type": "markdown",
   "metadata": {},
   "source": [
    "Each row represents a single applicant to UC Berkeley in 1973. The different columns are self-explanatory. We use single letters instead of the full names of the majors."
   ]
  },
  {
   "cell_type": "markdown",
   "metadata": {},
   "source": [
    "<!-- END QUESTION -->\n",
    "\n",
    "\n",
    "<!-- START QUESTION -->\n",
    "**Question 3:** Create a new dataframe `admission_rate_per_gender` by grouping the original dataset by gender. Your dataframe should have three columns: `Gender`, `app` (for number of applicants of each gender), and `adm` (for number of admitted students of each gender), to calculate the acceptance rate in the next question.\n",
    "\n",
    "<details open>\n",
    "\n",
    "<summary><i>Click here for hint(s)</i></summary>\n",
    "\n",
    "- <i>Hint 1: There should be only two rows for the table, one for gender F and one for gender M.</i> \n",
    "- <i>Hint 2: To count the number of rows in a dataframe satisfying a certain condition, write `np.sum(...condition...)`. For example, to count all rejected students in `berkeley`, write `np.sum(berkeley.Admission == 'Rejected')`.</i>\n",
    "- <i>Hint 3: If you need two conditions to simultaneously hold, use the `&` operator for \"and\" and `|` operator for \"or\".</i>\n",
    "- <i>Hint 4: Create a new dataframe using `pd.DataFrame.from_dict({'Column_A': [entryA1, entryA2], 'Column_B': [entryB1, entryB2], ...})`.</i>\n",
    "\n",
    "</details>\n"
   ]
  },
  {
   "cell_type": "code",
   "execution_count": null,
   "metadata": {},
   "outputs": [],
   "source": [
    "N_app_F = ... # number of female applicants\n",
    "N_app_M = ... # number of male applicants\n",
    "N_adm_F = ... # number of accepted female applicants\n",
    "N_adm_M = ... # number of accepted male applicants\n",
    "\n",
    "admission_per_gender = pd.DataFrame.from_dict({'Gender': ..., 'app': ..., 'adm': ...})\n",
    "\n",
    "admission_per_gender"
   ]
  },
  {
   "cell_type": "code",
   "execution_count": 7,
   "metadata": {},
   "outputs": [
    {
     "data": {
      "text/html": [
       "<div>\n",
       "<style scoped>\n",
       "    .dataframe tbody tr th:only-of-type {\n",
       "        vertical-align: middle;\n",
       "    }\n",
       "\n",
       "    .dataframe tbody tr th {\n",
       "        vertical-align: top;\n",
       "    }\n",
       "\n",
       "    .dataframe thead th {\n",
       "        text-align: right;\n",
       "    }\n",
       "</style>\n",
       "<table border=\"1\" class=\"dataframe\">\n",
       "  <thead>\n",
       "    <tr style=\"text-align: right;\">\n",
       "      <th></th>\n",
       "      <th>Gender</th>\n",
       "      <th>app</th>\n",
       "      <th>adm</th>\n",
       "    </tr>\n",
       "  </thead>\n",
       "  <tbody>\n",
       "    <tr>\n",
       "      <th>0</th>\n",
       "      <td>F</td>\n",
       "      <td>4321</td>\n",
       "      <td>1494</td>\n",
       "    </tr>\n",
       "    <tr>\n",
       "      <th>1</th>\n",
       "      <td>M</td>\n",
       "      <td>8442</td>\n",
       "      <td>3738</td>\n",
       "    </tr>\n",
       "  </tbody>\n",
       "</table>\n",
       "</div>"
      ],
      "text/plain": [
       "  Gender   app   adm\n",
       "0      F  4321  1494\n",
       "1      M  8442  3738"
      ]
     },
     "execution_count": 7,
     "metadata": {},
     "output_type": "execute_result"
    }
   ],
   "source": [
    "# Instructor Solution:\n",
    "\n",
    "N_app_F = np.sum(berkeley.Gender == 'F')\n",
    "N_app_M = np.sum(berkeley.Gender == 'M')\n",
    "N_adm_F = np.sum((berkeley.Gender == 'F') & (berkeley.Admission == 'Accepted'))\n",
    "N_adm_M = np.sum((berkeley.Gender == 'M') & (berkeley.Admission == 'Accepted'))\n",
    "\n",
    "admission_per_gender = pd.DataFrame.from_dict({'Gender': ['F', 'M'], 'app': [N_app_F, N_app_M], 'adm': [N_adm_F, N_adm_M]})\n",
    "\n",
    "admission_per_gender"
   ]
  },
  {
   "cell_type": "markdown",
   "metadata": {},
   "source": [
    "<!-- END QUESTION -->\n",
    "\n",
    "\n",
    "<!-- START QUESTION -->\n",
    "**Question 4:**\n",
    "Calculate the acceptance rate for each gender and save the values as a new column called `p_adm` (for percentage of applicants admitted of each gender) in `admission_per_gender`. The acceptance rate should be the number of accepted applicants divided by number of applicants, for each gender.\n",
    "\n",
    "<details open>\n",
    "\n",
    "<summary><i>Click here for hint(s)</i></summary>\n",
    "\n",
    "- *Hint 1: Add a new column to a dataframe simply by, for example, `dataframe['new_column'] = dataframe['old_column1'] + dataframe['old_column2']`*\n",
    "\n",
    "</details>\n"
   ]
  },
  {
   "cell_type": "code",
   "execution_count": null,
   "metadata": {},
   "outputs": [],
   "source": [
    "admission_per_gender['p_adm'] = ...\n",
    "\n",
    "admission_per_gender"
   ]
  },
  {
   "cell_type": "code",
   "execution_count": 8,
   "metadata": {},
   "outputs": [
    {
     "data": {
      "text/html": [
       "<div>\n",
       "<style scoped>\n",
       "    .dataframe tbody tr th:only-of-type {\n",
       "        vertical-align: middle;\n",
       "    }\n",
       "\n",
       "    .dataframe tbody tr th {\n",
       "        vertical-align: top;\n",
       "    }\n",
       "\n",
       "    .dataframe thead th {\n",
       "        text-align: right;\n",
       "    }\n",
       "</style>\n",
       "<table border=\"1\" class=\"dataframe\">\n",
       "  <thead>\n",
       "    <tr style=\"text-align: right;\">\n",
       "      <th></th>\n",
       "      <th>Gender</th>\n",
       "      <th>app</th>\n",
       "      <th>adm</th>\n",
       "      <th>p_adm</th>\n",
       "    </tr>\n",
       "  </thead>\n",
       "  <tbody>\n",
       "    <tr>\n",
       "      <th>0</th>\n",
       "      <td>F</td>\n",
       "      <td>4321</td>\n",
       "      <td>1494</td>\n",
       "      <td>0.345753</td>\n",
       "    </tr>\n",
       "    <tr>\n",
       "      <th>1</th>\n",
       "      <td>M</td>\n",
       "      <td>8442</td>\n",
       "      <td>3738</td>\n",
       "      <td>0.442786</td>\n",
       "    </tr>\n",
       "  </tbody>\n",
       "</table>\n",
       "</div>"
      ],
      "text/plain": [
       "  Gender   app   adm     p_adm\n",
       "0      F  4321  1494  0.345753\n",
       "1      M  8442  3738  0.442786"
      ]
     },
     "execution_count": 8,
     "metadata": {},
     "output_type": "execute_result"
    }
   ],
   "source": [
    "# Instructor Solution:\n",
    "\n",
    "admission_per_gender['p_adm'] = admission_per_gender.adm / admission_per_gender.app\n",
    "\n",
    "admission_per_gender"
   ]
  },
  {
   "cell_type": "markdown",
   "metadata": {},
   "source": [
    "At this point you should have reproduced the number we quoted in the beginning of the module: 44% acceptance rate for male, 35% acceptance rate for female. From *Calibration of Credence Levels*, you've learnt how important it is to attach error bars (i.e. confidence intervals) when you claim numerical figures. Let's estimate the error bars for the acceptance rates now."
   ]
  },
  {
   "cell_type": "markdown",
   "metadata": {},
   "source": [
    "## Error bars"
   ]
  },
  {
   "cell_type": "markdown",
   "metadata": {},
   "source": [
    "Just because the acceptance rates for males and females differ does not immediately mean there is a gender bias in the admission process. For example, even a fair coin tossed 100 times may result in slightly more heads than tails, just by random chance. Similarly, even if the admitted students are selected from the applicant pool by random, without regards to their gender, the final acceptance rates may still differ slightly between male and female.\n",
    "\n",
    "Thankfully, statistics has a way of quantifying how much we should expect the difference in acceptance rates between gender to be from chance alone. The square of this expected fluctuation is called the **variance**. If we know the variance, then the error bar (the range of expected fluctuation) is just the square root of the variance. *(Don't panic. You're not tested on this. It's just for your information.)*\n",
    "\n",
    "The variance in the acceptance rate for female applicants, assuming applicants are admitted by random without any gender consideration, is given by\n",
    "$$\\operatorname{Var}(p_{\\mathrm{app},F}) = \\frac{N_{\\mathrm{adm}}}{N_{\\mathrm{app}}^2} \\frac{1-p_{\\mathrm{app},F}}{p_{\\mathrm{app},F}}.$$\n",
    "Here, $N_{\\mathrm{adm}}$ is the total number of admitted students, $N_{\\mathrm{app}}$ is the total number of applicants, and $p_{\\mathrm{app},F}$ is the proportion of female applicants. The variance for the acceptance rate for male applicants is given by the same formula, just with $p_{\\mathrm{app},M}$ instead of $p_{\\mathrm{app},F}$. All you have to do is to use this formula to calculate the error bars.\n",
    "\n",
    "If you are curious, here is a derivation of this formula:\n",
    "<details open>\n",
    "\n",
    "<summary><i>SPOILERS</i></summary>\n",
    "\n",
    "This derivation will make sense if you have seen binomial distributions before.\n",
    "\n",
    "Let us assume an unbiased admission process to be one that accepts applicants by random, without regards to their gender. This can be thought of as tossing a weighted coin whose heads-to-tails ratio is the same as the gender ratio in our applicant pool. This is also like drawing balls by random out of a bag filled with different numbers of black and white balls, with replacement. (Rigorously, the drawing is *without* replacement, but then our formulas will include the hypergeometric function, so let's simplify things for now.)\n",
    "\n",
    "We model the acceptance of each student as a random variable following the [binomial distribution](https://en.wikipedia.org/wiki/Binomial_distribution) whose probability of accepting a female applicant is $p_{\\mathrm{app},F}$. If $N_{\\mathrm{adm}}$ students are admitted, then the expected number of admitted female students is $N_{\\mathrm{adm}}\\,p_{\\mathrm{app},F}$, and the variance in the number of admitted female students is\n",
    "$$\\operatorname{Var}(N_{\\mathrm{adm},F}) = N_{\\mathrm{adm}}\\, p_{\\mathrm{app},F}\\,(1 - p_{\\mathrm{app},F}).$$\n",
    "The variance in the acceptance rate for female students is\n",
    "$$\\operatorname{Var}\\left(\\frac{N_{\\mathrm{adm},F}}{N_{\\mathrm{app},F}}\\right) = \\frac{\\operatorname{Var}(N_{\\mathrm{adm},F})}{N_{\\mathrm{app},F}^2} = \\frac{N_{\\mathrm{adm}}\\, p_{\\mathrm{app},F}\\,(1 - p_{\\mathrm{app},F})}{N_{\\mathrm{app},F}^2} = \\frac{N_{\\mathrm{adm}}\\, p_{\\mathrm{app},F}\\,(1 - p_{\\mathrm{app},F})}{N_{\\mathrm{app}}^2\\, p_{\\mathrm{app},F}^2} = \\frac{N_{\\mathrm{adm}}}{N_{\\mathrm{app}}^2} \\frac{1-p_{\\mathrm{app},F}}{p_{\\mathrm{app},F}}.$$\n",
    "\n",
    "</details>\n",
    "\n",
    "**Question 5:**\n",
    "Add a new column to `admission_per_gender` called `var_p_adm` that stores the variance in the acceptance rate for each gender, by implementing the formula above."
   ]
  },
  {
   "cell_type": "code",
   "execution_count": null,
   "metadata": {},
   "outputs": [],
   "source": [
    "N_app = ... # total number of applicants\n",
    "N_adm = ... # total number of admitted students\n",
    "\n",
    "admission_per_gender['p_app'] = ... # proportion of applicants who are M/F, as a new column\n",
    "admission_per_gender['var_p_adm'] = ... # variance in the acceptance rate, implementing the formula above\n",
    "\n",
    "admission_per_gender"
   ]
  },
  {
   "cell_type": "code",
   "execution_count": 9,
   "metadata": {},
   "outputs": [
    {
     "data": {
      "text/html": [
       "<div>\n",
       "<style scoped>\n",
       "    .dataframe tbody tr th:only-of-type {\n",
       "        vertical-align: middle;\n",
       "    }\n",
       "\n",
       "    .dataframe tbody tr th {\n",
       "        vertical-align: top;\n",
       "    }\n",
       "\n",
       "    .dataframe thead th {\n",
       "        text-align: right;\n",
       "    }\n",
       "</style>\n",
       "<table border=\"1\" class=\"dataframe\">\n",
       "  <thead>\n",
       "    <tr style=\"text-align: right;\">\n",
       "      <th></th>\n",
       "      <th>Gender</th>\n",
       "      <th>app</th>\n",
       "      <th>adm</th>\n",
       "      <th>p_adm</th>\n",
       "      <th>p_app</th>\n",
       "      <th>var_p_adm</th>\n",
       "    </tr>\n",
       "  </thead>\n",
       "  <tbody>\n",
       "    <tr>\n",
       "      <th>0</th>\n",
       "      <td>F</td>\n",
       "      <td>4321</td>\n",
       "      <td>1494</td>\n",
       "      <td>0.345753</td>\n",
       "      <td>0.338557</td>\n",
       "      <td>0.000063</td>\n",
       "    </tr>\n",
       "    <tr>\n",
       "      <th>1</th>\n",
       "      <td>M</td>\n",
       "      <td>8442</td>\n",
       "      <td>3738</td>\n",
       "      <td>0.442786</td>\n",
       "      <td>0.661443</td>\n",
       "      <td>0.000016</td>\n",
       "    </tr>\n",
       "  </tbody>\n",
       "</table>\n",
       "</div>"
      ],
      "text/plain": [
       "  Gender   app   adm     p_adm     p_app  var_p_adm\n",
       "0      F  4321  1494  0.345753  0.338557   0.000063\n",
       "1      M  8442  3738  0.442786  0.661443   0.000016"
      ]
     },
     "execution_count": 9,
     "metadata": {},
     "output_type": "execute_result"
    }
   ],
   "source": [
    "# Instructor Solution:\n",
    "\n",
    "N_app = admission_per_gender.app.sum()\n",
    "N_adm = admission_per_gender.adm.sum()\n",
    "\n",
    "admission_per_gender['p_app'] = admission_per_gender.app / N_app\n",
    "admission_per_gender['var_p_adm'] = N_adm / N_app**2 * (1-admission_per_gender.p_app) / admission_per_gender.p_app\n",
    "\n",
    "admission_per_gender"
   ]
  },
  {
   "cell_type": "markdown",
   "metadata": {},
   "source": [
    "**Question 6:** Let's calculate the error bars from the variances (by simply taking the square root) and append the numbers to `admission_per_gender` as new column `err_p_adm`."
   ]
  },
  {
   "cell_type": "code",
   "execution_count": null,
   "metadata": {},
   "outputs": [],
   "source": [
    "admission_per_gender['err_p_adm'] = ... # error bar in the acceptance rate = square root of the variance\n",
    "\n",
    "admission_per_gender"
   ]
  },
  {
   "cell_type": "code",
   "execution_count": 10,
   "metadata": {},
   "outputs": [
    {
     "data": {
      "text/html": [
       "<div>\n",
       "<style scoped>\n",
       "    .dataframe tbody tr th:only-of-type {\n",
       "        vertical-align: middle;\n",
       "    }\n",
       "\n",
       "    .dataframe tbody tr th {\n",
       "        vertical-align: top;\n",
       "    }\n",
       "\n",
       "    .dataframe thead th {\n",
       "        text-align: right;\n",
       "    }\n",
       "</style>\n",
       "<table border=\"1\" class=\"dataframe\">\n",
       "  <thead>\n",
       "    <tr style=\"text-align: right;\">\n",
       "      <th></th>\n",
       "      <th>Gender</th>\n",
       "      <th>app</th>\n",
       "      <th>adm</th>\n",
       "      <th>p_adm</th>\n",
       "      <th>p_app</th>\n",
       "      <th>var_p_adm</th>\n",
       "      <th>err_p_adm</th>\n",
       "    </tr>\n",
       "  </thead>\n",
       "  <tbody>\n",
       "    <tr>\n",
       "      <th>0</th>\n",
       "      <td>F</td>\n",
       "      <td>4321</td>\n",
       "      <td>1494</td>\n",
       "      <td>0.345753</td>\n",
       "      <td>0.338557</td>\n",
       "      <td>0.000063</td>\n",
       "      <td>0.007922</td>\n",
       "    </tr>\n",
       "    <tr>\n",
       "      <th>1</th>\n",
       "      <td>M</td>\n",
       "      <td>8442</td>\n",
       "      <td>3738</td>\n",
       "      <td>0.442786</td>\n",
       "      <td>0.661443</td>\n",
       "      <td>0.000016</td>\n",
       "      <td>0.004055</td>\n",
       "    </tr>\n",
       "  </tbody>\n",
       "</table>\n",
       "</div>"
      ],
      "text/plain": [
       "  Gender   app   adm     p_adm     p_app  var_p_adm  err_p_adm\n",
       "0      F  4321  1494  0.345753  0.338557   0.000063   0.007922\n",
       "1      M  8442  3738  0.442786  0.661443   0.000016   0.004055"
      ]
     },
     "execution_count": 10,
     "metadata": {},
     "output_type": "execute_result"
    }
   ],
   "source": [
    "# Instructor Solution:\n",
    "\n",
    "admission_per_gender['err_p_adm'] = np.sqrt(admission_per_gender['var_p_adm'])\n",
    "\n",
    "admission_per_gender"
   ]
  },
  {
   "cell_type": "markdown",
   "metadata": {},
   "source": [
    "You should obtain here that the typical fluctuation in acceptance rate is ±0.79% for female and ±0.41% for male. These will serve as our error bars."
   ]
  },
  {
   "cell_type": "markdown",
   "metadata": {},
   "source": [
    "<!-- END QUESTION -->\n",
    "\n",
    "\n",
    "<!-- START QUESTION -->\n",
    "**Question 7:** Using the updated `admission_per_gender` constructed in **Question 6**, create a `bar` plot showing each gender's admission rate together with its error bar. Documentation to plot a bar graph in `matplotlib` is linked [here](https://matplotlib.org/stable/api/_as_gen/matplotlib.pyplot.bar.html).\n",
    "* For this question, you can use any Python visualization method, including `seaborn` or `matplotlib` imported above. \n",
    "* Don't forget about the error bars! `bar`'s `yerr` parameter may be useful here!\n",
    "* Set `capsize` parameter equal to 5."
   ]
  },
  {
   "cell_type": "code",
   "execution_count": null,
   "metadata": {},
   "outputs": [],
   "source": [
    "plt.bar(___, ___, yerr=___, capsize=5) # fill in the appropriate arguments\n",
    "\n",
    "plt.show()"
   ]
  },
  {
   "cell_type": "code",
   "execution_count": 14,
   "metadata": {},
   "outputs": [
    {
     "data": {
      "image/png": "[encoded data removed]",
      "text/plain": [
       "<Figure size 640x480 with 1 Axes>"
      ]
     },
     "metadata": {},
     "output_type": "display_data"
    }
   ],
   "source": [
    "# Instructor Solution:\n",
    "\n",
    "plt.bar(admission_per_gender.Gender, admission_per_gender.p_adm, yerr=admission_per_gender.err_p_adm, capsize=5)\n",
    "\n",
    "plt.show()"
   ]
  },
  {
   "cell_type": "markdown",
   "metadata": {},
   "source": [
    "<!-- END QUESTION -->\n",
    "\n",
    "\n",
    "<!-- START QUESTION -->\n",
    "**Question 8:**\n",
    "We went through the hassle of estimating the error in the acceptance rate by gender and plotted it as an error bar. Why is this important? (Hint: The error we estimated shows how much the acceptance rate could fluctuate if students are accepted by being drawn out of the \"bag\" of applicants by random, without us looking into the bag to see their gender.)\n",
    "\n",
    "**Question 9:** Do the two bars (for F and M) differ in height more than the sizes of their error bars? What does this mean? Is this what we would expect from an admission process devoid of gender bias? Could this difference have arisen by random chance?\n",
    "\n",
    "*Note: Your interpretation should focus on connecting the visual data from the graph to possible conclusions about UC Berkeley's admission practices. Answer may vary.*"
   ]
  },
  {
   "cell_type": "markdown",
   "metadata": {},
   "source": [
    "*Your Answer Here*"
   ]
  },
  {
   "cell_type": "markdown",
   "metadata": {},
   "source": [
    "**Instructor Solution:**\n",
    "\n",
    "- Q8: Without gender bias in the admission process, the acceptance rates for the two genders should be comparable. They don't have to be exactly equal, because even a totally random selection without regards to gender may result in a slight favour towards one gender just by chance. The error bars show how big this slight favour could be, so we may compare it to the actual difference between the acceptance rates to assess statistical significance.\n",
    "\n",
    "- Q9: The two bars differ in height far more than the sizes of their error bars. This means that the difference in acceptance rates of the two genders is statistically significance. That is, it cannot have arisen from chance alone, without any gender bias in the admission process. Without gender bias, we would expect the two bars to be of comparable heights, with a difference smaller than the size of the error bars."
   ]
  },
  {
   "cell_type": "markdown",
   "metadata": {},
   "source": [
    "<br/>\n",
    "\n",
    "<hr style=\"border: 1px solid #fdb515;\" />"
   ]
  },
  {
   "cell_type": "markdown",
   "metadata": {},
   "source": [
    "## *Discussion Portion*"
   ]
  },
  {
   "cell_type": "markdown",
   "metadata": {},
   "source": [
    "**Question 10:** Based on the findings you made in this notebook, what claims and notes would you make in a report about UC Berkeley's admission process in 1973? Attach a credence level to any claims of fact. Think (very hard) of any alternative explanations (other than intentional gender bias) that may lead to the same pattern of data that you have obtained.\n",
    "\n",
    "**Question 11:** Would you recommend any changes to the way UC Berkeley (in 1973) conducts their admission process?"
   ]
  },
  {
   "cell_type": "markdown",
   "metadata": {},
   "source": [
    "*Your Answer Here*"
   ]
  },
  {
   "cell_type": "markdown",
   "metadata": {},
   "source": [
    "**Instructor Solution:**\n",
    "\n",
    "- Q10: I would report that there exists a significant gender bias in the admission process of UC Berkeley in 1973 in favour of male applicants (99%). This bias may be due to intentional sexism on the part of the admissions office, but can also be due to an inherent gender difference in which majors the applicants apply to or in the quality of applicants.\n",
    "\n",
    "- Q11: (One possible answer) I would recommend that UC Berkeley implement a gender quota to ensure that that the acceptance rates are similar between male and female applicants. The quote may not be 50/50, but should reflect the gender ratio of the applicants. (Another possible answer) I would recommend that UC Berkeley remove the sex/gender label on all applicants, including their names, so that decisions may be made without regards to this visible piece of information."
   ]
  },
  {
   "cell_type": "markdown",
   "metadata": {},
   "source": [
    "<br/>\n",
    "\n",
    "<hr style=\"border: 1px solid #fdb515;\" />"
   ]
  },
  {
   "cell_type": "markdown",
   "metadata": {},
   "source": [
    "End of the assignment! 😄 Great job! In about 7 weeks, we will revisit this data for a more detailed analysis, and we will reach a very different conclusion! Stay tuned for Part 2!"
   ]
  }
 ],
 "metadata": {
  "kernelspec": {
   "display_name": "base",
   "language": "python",
   "name": "python3"
  },
  "language_info": {
   "codemirror_mode": {
    "name": "ipython",
    "version": 3
   },
   "file_extension": ".py",
   "mimetype": "text/x-python",
   "name": "python",
   "nbconvert_exporter": "python",
   "pygments_lexer": "ipython3",
   "version": "3.10.9"
  }
 },
 "nbformat": 4,
 "nbformat_minor": 2
}
