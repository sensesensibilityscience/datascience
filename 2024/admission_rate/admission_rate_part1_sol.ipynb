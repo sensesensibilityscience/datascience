{
 "cells": [
  {
   "cell_type": "code",
   "execution_count": 1,
   "metadata": {},
   "outputs": [],
   "source": [
    "# This line imports pandas, numpy, matplotlib.pyplot, and seaborn\n",
    "%matplotlib widget\n",
    "from admission_rate import *"
   ]
  },
  {
   "cell_type": "markdown",
   "metadata": {},
   "source": [
    "<br/>\n",
    "\n",
    "<hr style=\"border: 1px solid #fdb515;\" />"
   ]
  },
  {
   "cell_type": "markdown",
   "metadata": {},
   "source": [
    "# INSTRUCTOR VERSION"
   ]
  },
  {
   "cell_type": "markdown",
   "metadata": {},
   "source": [
    "# Part 1: University-wide gender bias in 1973"
   ]
  },
  {
   "cell_type": "markdown",
   "metadata": {},
   "source": [
    "## Background"
   ]
  },
  {
   "cell_type": "markdown",
   "metadata": {},
   "source": [
    "In 1973, UC Berkeley was at risk of being sued for gender discrimination in their graduate admissions process. University records showed that they admitted 44% of their male applicants but only 35% of their female applicants. This ostensible case of bias against women turned out to be somewhat more nuanced. You will take the role of a statistician tasked to study **UC Berkeley's graduate admissions data in 1973**."
   ]
  },
  {
   "cell_type": "markdown",
   "metadata": {},
   "source": [
    "<br/>\n",
    "\n",
    "<hr style=\"border: 1px solid #fdb515;\" />"
   ]
  },
  {
   "cell_type": "markdown",
   "metadata": {},
   "source": [
    "## Personal experience"
   ]
  },
  {
   "cell_type": "markdown",
   "metadata": {},
   "source": [
    "<!-- BEGIN QUESTION -->\n",
    "Statisticians can study published data to draw their conclusions, but as students of the university, we can typically only rely on personal experience and observations to form our impression of the university.\n",
    "\n",
    "**Question 1:** Suppose it were 1973, and you were asked by a reporter to give your impression of whether the university's admission process may be biased in favour of one gender. Which pieces of information available from your personal observations would you use to make a quick assessment of gender bias (e.g. the number of male vs. female students in a typical introductory biology class)? Answers may vary.\n",
    "\n",
    "**Question 2:** What are the potential limitations of this kind of \"sensory\" information in making an accurate assessment? (Consider statistical and systematic uncertainties.) Answers may vary."
   ]
  },
  {
   "cell_type": "markdown",
   "metadata": {},
   "source": [
    "*Your Answer Here*"
   ]
  },
  {
   "cell_type": "markdown",
   "metadata": {},
   "source": [
    "**Instructor Solution:**\n",
    "\n",
    "- Q1. Gender ratio in a typical class I attend. Gender ratio in public areas on campus. Gender ratio within my major cohort.\n",
    "\n",
    "- Q2. Statistical uncertainty: Gender ratio may happen to be skewed one way or another in a class, especially a small one. Systematic uncertainty: If a major is male-dominated, it may simply be that the applicant pool is male-dominated, rather than that the admission process is biased."
   ]
  },
  {
   "cell_type": "markdown",
   "metadata": {},
   "source": [
    "## The data"
   ]
  },
  {
   "cell_type": "markdown",
   "metadata": {},
   "source": [
    "<!-- End QUESTION -->\n",
    "\n",
    "Now, you will take on the role of a statistician! Let's load Berkeley's admission data `berkeley.csv` below and show a few rows."
   ]
  },
  {
   "cell_type": "code",
   "execution_count": 71,
   "metadata": {},
   "outputs": [
    {
     "data": {
      "text/html": [
       "<div>\n",
       "<style scoped>\n",
       "    .dataframe tbody tr th:only-of-type {\n",
       "        vertical-align: middle;\n",
       "    }\n",
       "\n",
       "    .dataframe tbody tr th {\n",
       "        vertical-align: top;\n",
       "    }\n",
       "\n",
       "    .dataframe thead th {\n",
       "        text-align: right;\n",
       "    }\n",
       "</style>\n",
       "<table border=\"1\" class=\"dataframe\">\n",
       "  <thead>\n",
       "    <tr style=\"text-align: right;\">\n",
       "      <th></th>\n",
       "      <th>Year</th>\n",
       "      <th>Major</th>\n",
       "      <th>Gender</th>\n",
       "      <th>Admission</th>\n",
       "    </tr>\n",
       "  </thead>\n",
       "  <tbody>\n",
       "    <tr>\n",
       "      <th>0</th>\n",
       "      <td>1973</td>\n",
       "      <td>C</td>\n",
       "      <td>F</td>\n",
       "      <td>Rejected</td>\n",
       "    </tr>\n",
       "    <tr>\n",
       "      <th>1</th>\n",
       "      <td>1973</td>\n",
       "      <td>B</td>\n",
       "      <td>M</td>\n",
       "      <td>Accepted</td>\n",
       "    </tr>\n",
       "    <tr>\n",
       "      <th>2</th>\n",
       "      <td>1973</td>\n",
       "      <td>Other</td>\n",
       "      <td>F</td>\n",
       "      <td>Accepted</td>\n",
       "    </tr>\n",
       "    <tr>\n",
       "      <th>3</th>\n",
       "      <td>1973</td>\n",
       "      <td>Other</td>\n",
       "      <td>M</td>\n",
       "      <td>Accepted</td>\n",
       "    </tr>\n",
       "    <tr>\n",
       "      <th>4</th>\n",
       "      <td>1973</td>\n",
       "      <td>Other</td>\n",
       "      <td>M</td>\n",
       "      <td>Rejected</td>\n",
       "    </tr>\n",
       "    <tr>\n",
       "      <th>...</th>\n",
       "      <td>...</td>\n",
       "      <td>...</td>\n",
       "      <td>...</td>\n",
       "      <td>...</td>\n",
       "    </tr>\n",
       "    <tr>\n",
       "      <th>12758</th>\n",
       "      <td>1973</td>\n",
       "      <td>Other</td>\n",
       "      <td>M</td>\n",
       "      <td>Accepted</td>\n",
       "    </tr>\n",
       "    <tr>\n",
       "      <th>12759</th>\n",
       "      <td>1973</td>\n",
       "      <td>D</td>\n",
       "      <td>M</td>\n",
       "      <td>Accepted</td>\n",
       "    </tr>\n",
       "    <tr>\n",
       "      <th>12760</th>\n",
       "      <td>1973</td>\n",
       "      <td>Other</td>\n",
       "      <td>F</td>\n",
       "      <td>Rejected</td>\n",
       "    </tr>\n",
       "    <tr>\n",
       "      <th>12761</th>\n",
       "      <td>1973</td>\n",
       "      <td>Other</td>\n",
       "      <td>M</td>\n",
       "      <td>Rejected</td>\n",
       "    </tr>\n",
       "    <tr>\n",
       "      <th>12762</th>\n",
       "      <td>1973</td>\n",
       "      <td>Other</td>\n",
       "      <td>M</td>\n",
       "      <td>Accepted</td>\n",
       "    </tr>\n",
       "  </tbody>\n",
       "</table>\n",
       "<p>12763 rows × 4 columns</p>\n",
       "</div>"
      ],
      "text/plain": [
       "       Year  Major Gender Admission\n",
       "0      1973      C      F  Rejected\n",
       "1      1973      B      M  Accepted\n",
       "2      1973  Other      F  Accepted\n",
       "3      1973  Other      M  Accepted\n",
       "4      1973  Other      M  Rejected\n",
       "...     ...    ...    ...       ...\n",
       "12758  1973  Other      M  Accepted\n",
       "12759  1973      D      M  Accepted\n",
       "12760  1973  Other      F  Rejected\n",
       "12761  1973  Other      M  Rejected\n",
       "12762  1973  Other      M  Accepted\n",
       "\n",
       "[12763 rows x 4 columns]"
      ]
     },
     "execution_count": 71,
     "metadata": {},
     "output_type": "execute_result"
    }
   ],
   "source": [
    "berkeley = pd.read_csv(\"berkeley.csv\") # we load the prepared csv file containing the data into a pandas dataframe\n",
    "\n",
    "berkeley # print a few rows from the dataframe"
   ]
  },
  {
   "cell_type": "markdown",
   "metadata": {},
   "source": [
    "Each row represents a single applicant to UC Berkeley in 1973. The different columns are self-explanatory. We use single letters instead of the full names of the majors."
   ]
  },
  {
   "cell_type": "markdown",
   "metadata": {},
   "source": [
    "<!-- END QUESTION -->\n",
    "\n",
    "\n",
    "<!-- START QUESTION -->\n",
    "**Question 3:** Create a new dataframe `admission_rate_per_gender` by grouping the original dataset by gender. Your dataframe should have three columns: `Gender`, `app` (for number of applicants of each gender), and `adm` (for number of admitted students of each gender), to calculate the acceptance rate in the next question.\n",
    "\n",
    "<details open>\n",
    "\n",
    "<summary><i>Click here for hint(s)</i></summary>\n",
    "\n",
    "- <i>Hint 1: There should be only two rows for the table, one for gender F and one for gender M.</i> \n",
    "- <i>Hint 2: To count the number of rows in a dataframe satisfying a certain condition, write `np.sum(...condition...)`. For example, to count all rejected students in `berkeley`, write `np.sum(berkeley.Admission == 'Rejected')`.</i>\n",
    "- <i>Hint 3: If you need two conditions to simultaneously hold, use the `&` operator for \"and\" and `|` operator for \"or\".</i>\n",
    "- <i>Hint 4: Create a new dataframe using `pd.DataFrame.from_dict({'Column_A': [entryA1, entryA2], 'Column_B': [entryB1, entryB2], ...})`.</i>\n",
    "\n",
    "</details>\n"
   ]
  },
  {
   "cell_type": "code",
   "execution_count": null,
   "metadata": {},
   "outputs": [],
   "source": [
    "N_app_F = ... # number of female applicants\n",
    "N_app_M = ... # number of male applicants\n",
    "N_adm_F = ... # number of accepted female applicants\n",
    "N_adm_M = ... # number of accepted male applicants\n",
    "\n",
    "admission_per_gender = pd.DataFrame.from_dict({'Gender': ..., 'app': ..., 'adm': ...})\n",
    "\n",
    "admission_per_gender"
   ]
  },
  {
   "cell_type": "code",
   "execution_count": 72,
   "metadata": {},
   "outputs": [
    {
     "data": {
      "text/html": [
       "<div>\n",
       "<style scoped>\n",
       "    .dataframe tbody tr th:only-of-type {\n",
       "        vertical-align: middle;\n",
       "    }\n",
       "\n",
       "    .dataframe tbody tr th {\n",
       "        vertical-align: top;\n",
       "    }\n",
       "\n",
       "    .dataframe thead th {\n",
       "        text-align: right;\n",
       "    }\n",
       "</style>\n",
       "<table border=\"1\" class=\"dataframe\">\n",
       "  <thead>\n",
       "    <tr style=\"text-align: right;\">\n",
       "      <th></th>\n",
       "      <th>Gender</th>\n",
       "      <th>app</th>\n",
       "      <th>adm</th>\n",
       "    </tr>\n",
       "  </thead>\n",
       "  <tbody>\n",
       "    <tr>\n",
       "      <th>0</th>\n",
       "      <td>F</td>\n",
       "      <td>4321</td>\n",
       "      <td>1494</td>\n",
       "    </tr>\n",
       "    <tr>\n",
       "      <th>1</th>\n",
       "      <td>M</td>\n",
       "      <td>8442</td>\n",
       "      <td>3738</td>\n",
       "    </tr>\n",
       "  </tbody>\n",
       "</table>\n",
       "</div>"
      ],
      "text/plain": [
       "  Gender   app   adm\n",
       "0      F  4321  1494\n",
       "1      M  8442  3738"
      ]
     },
     "execution_count": 72,
     "metadata": {},
     "output_type": "execute_result"
    }
   ],
   "source": [
    "# Instructor Solution:\n",
    "\n",
    "N_app_F = np.sum(berkeley.Gender == 'F')\n",
    "N_app_M = np.sum(berkeley.Gender == 'M')\n",
    "N_adm_F = np.sum((berkeley.Gender == 'F') & (berkeley.Admission == 'Accepted'))\n",
    "N_adm_M = np.sum((berkeley.Gender == 'M') & (berkeley.Admission == 'Accepted'))\n",
    "\n",
    "admission_per_gender = pd.DataFrame.from_dict({'Gender': ['F', 'M'], 'app': [N_app_F, N_app_M], 'adm': [N_adm_F, N_adm_M]})\n",
    "\n",
    "admission_per_gender"
   ]
  },
  {
   "cell_type": "markdown",
   "metadata": {},
   "source": [
    "<!-- END QUESTION -->\n",
    "\n",
    "\n",
    "<!-- START QUESTION -->\n",
    "**Question 4:**\n",
    "Calculate the acceptance rate for each gender and save the values as a new column called `p_adm` (for percentage of applicants admitted of each gender) in `admission_per_gender`. The acceptance rate should be the number of accepted applicants divided by number of applicants, for each gender.\n",
    "\n",
    "<details open>\n",
    "\n",
    "<summary><i>Click here for hint(s)</i></summary>\n",
    "\n",
    "- *Hint 1: Add a new column to a dataframe simply by, for example, `dataframe['new_column'] = dataframe['old_column1'] + dataframe['old_column2']`*\n",
    "\n",
    "</details>\n"
   ]
  },
  {
   "cell_type": "code",
   "execution_count": null,
   "metadata": {},
   "outputs": [],
   "source": [
    "admission_per_gender['p_adm'] = ...\n",
    "\n",
    "admission_per_gender"
   ]
  },
  {
   "cell_type": "code",
   "execution_count": 73,
   "metadata": {},
   "outputs": [
    {
     "data": {
      "text/html": [
       "<div>\n",
       "<style scoped>\n",
       "    .dataframe tbody tr th:only-of-type {\n",
       "        vertical-align: middle;\n",
       "    }\n",
       "\n",
       "    .dataframe tbody tr th {\n",
       "        vertical-align: top;\n",
       "    }\n",
       "\n",
       "    .dataframe thead th {\n",
       "        text-align: right;\n",
       "    }\n",
       "</style>\n",
       "<table border=\"1\" class=\"dataframe\">\n",
       "  <thead>\n",
       "    <tr style=\"text-align: right;\">\n",
       "      <th></th>\n",
       "      <th>Gender</th>\n",
       "      <th>app</th>\n",
       "      <th>adm</th>\n",
       "      <th>p_adm</th>\n",
       "    </tr>\n",
       "  </thead>\n",
       "  <tbody>\n",
       "    <tr>\n",
       "      <th>0</th>\n",
       "      <td>F</td>\n",
       "      <td>4321</td>\n",
       "      <td>1494</td>\n",
       "      <td>0.345753</td>\n",
       "    </tr>\n",
       "    <tr>\n",
       "      <th>1</th>\n",
       "      <td>M</td>\n",
       "      <td>8442</td>\n",
       "      <td>3738</td>\n",
       "      <td>0.442786</td>\n",
       "    </tr>\n",
       "  </tbody>\n",
       "</table>\n",
       "</div>"
      ],
      "text/plain": [
       "  Gender   app   adm     p_adm\n",
       "0      F  4321  1494  0.345753\n",
       "1      M  8442  3738  0.442786"
      ]
     },
     "execution_count": 73,
     "metadata": {},
     "output_type": "execute_result"
    }
   ],
   "source": [
    "# Instructor Solution:\n",
    "\n",
    "admission_per_gender['p_adm'] = admission_per_gender.adm / admission_per_gender.app\n",
    "\n",
    "admission_per_gender"
   ]
  },
  {
   "cell_type": "markdown",
   "metadata": {},
   "source": [
    "At this point you should have reproduced the number we quoted in the beginning of the module: 44% acceptance rate for male, 35% acceptance rate for female. From *Calibration of Credence Levels*, you've learnt how important it is to attach error bars (i.e. confidence intervals) when you claim numerical figures. Let's estimate the error bars for the acceptance rates now."
   ]
  },
  {
   "cell_type": "markdown",
   "metadata": {},
   "source": [
    "## Error bars"
   ]
  },
  {
   "cell_type": "markdown",
   "metadata": {},
   "source": [
    "Most news articles that reported on these figures immediately described the admission rates between male (44%) and female (35%) applicants as significantly different from each other. However, as critical thinkers, we should first ask ourselves if this difference could have arisen from chance alone.\n",
    "\n",
    "Suppose UC Berkeley's admissions committee randomly admitted students from the applicant pool without looking at their applications. Surely, there would be no gender bias! Out of a pool of 4321 female and 8442 male applicants, let us randomly pick out 5232 students to admit. What is the acceptance rate among female applicants and among male applicants? Click the button below many times to see the result of each random draw."
   ]
  },
  {
   "cell_type": "code",
   "execution_count": 2,
   "metadata": {},
   "outputs": [
    {
     "data": {
      "application/vnd.jupyter.widget-view+json": {
       "model_id": "f1ae83d1b742416b8ecbd7d14371ef0d",
       "version_major": 2,
       "version_minor": 0
      },
      "text/plain": [
       "Button(description='Randomly admit students!', layout=Layout(width='200px'), style=ButtonStyle(), tooltip='Ran…"
      ]
     },
     "metadata": {},
     "output_type": "display_data"
    },
    {
     "data": {
      "application/vnd.jupyter.widget-view+json": {
       "model_id": "59a6e344b7e341e5b7fa09733e12561c",
       "version_major": 2,
       "version_minor": 0
      },
      "text/plain": [
       "Output()"
      ]
     },
     "metadata": {},
     "output_type": "display_data"
    },
    {
     "data": {
      "application/vnd.jupyter.widget-view+json": {
       "model_id": "c2d9b6116c474fb39798ddbcd7f4438c",
       "version_major": 2,
       "version_minor": 0
      },
      "image/png": "[encoded data removed]",
      "text/html": [
       "\n",
       "            <div style=\"display: inline-block;\">\n",
       "                <div class=\"jupyter-widgets widget-label\" style=\"text-align: center;\">\n",
       "                    Figure\n",
       "                </div>\n",
       "                <img src='data:image/png;base64,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' width=400.0/>\n",
       "            </div>\n",
       "        "
      ],
      "text/plain": [
       "Canvas(toolbar=Toolbar(toolitems=[('Home', 'Reset original view', 'home', 'home'), ('Back', 'Back to previous …"
      ]
     },
     "metadata": {},
     "output_type": "display_data"
    }
   ],
   "source": [
    "plotMockAdmissionWithButton()"
   ]
  },
  {
   "cell_type": "markdown",
   "metadata": {},
   "source": [
    "**Question:** After many clicks, how big is the typical difference between male and female acceptance rates? What's the largest difference you were able to get, and after how many tries? Do you find it likely that a 44%/35% acceptance rate for male/female could have arisen by random chance, rather than a gender-based effect?"
   ]
  },
  {
   "cell_type": "markdown",
   "metadata": {},
   "source": [
    "*Your Answer Here*"
   ]
  },
  {
   "cell_type": "markdown",
   "metadata": {},
   "source": [
    "We would like to visualize this expected amount of fluctuation due to random chance as an error bar (or confidence interval) on the bar chart. This means that we need to quantify this number rather than observe it by eye. Thankfully, statistics has given us such a calculational tool, called the *standard deviation*, which roughly represents the range within which the randomly drawn value lies 68% of the time. In our case, every time we randomly pick 5232 students out of 4321 female and 8442 male applicants, the female or male acceptance rate fluctuates, but it stays within ±(standard deviation) roughly 68% of the time.\n",
    "\n",
    "For this course, you do not need to know where the following formula comes from, but we want you to be able to implement the code that calculates it.\n",
    "\n",
    "The standard deviation of the acceptance rate for female applicants, assuming applications are admitted by random without any gender consideration, is given by\n",
    "$$\\operatorname{StDev}(p_{\\mathrm{app},F}) = \\sqrt{\\frac{N_{\\mathrm{adm}}}{N_{\\mathrm{app}}^2} \\frac{1-p_{\\mathrm{app},F}}{p_{\\mathrm{app},F}}}.$$\n",
    "Here, $N_{\\mathrm{adm}}$ is the total number of admitted students, $N_{\\mathrm{app}}$ is the total number of applicants, and $p_{\\mathrm{app},F}$ is the proportion of female applicants. The standard deviation for the acceptance rate for male applicants is given by the same formula, just with $p_{\\mathrm{app},M}$ instead of $p_{\\mathrm{app},F}$. All you have to do is to use this formula to calculate the error bars.\n",
    "\n",
    "If you are curious, here is a derivation of this formula:\n",
    "<details open>\n",
    "\n",
    "<summary><i>SPOILERS</i></summary>\n",
    "\n",
    "This derivation will make sense if you have seen binomial distributions before.\n",
    "\n",
    "Let us assume an unbiased admission process to be one that accepts applicants by random, without regards to their gender. This can be thought of as tossing a weighted coin whose heads-to-tails ratio is the same as the gender ratio in our applicant pool. This is also like drawing balls by random out of a bag filled with different numbers of black and white balls, with replacement. (Rigorously, the drawing is *without* replacement, but then our formulas will include the hypergeometric function, so let's simplify things for now.)\n",
    "\n",
    "We model the acceptance of each student as a random variable following the [binomial distribution](https://en.wikipedia.org/wiki/Binomial_distribution) whose probability of accepting a female applicant is $p_{\\mathrm{app},F}$. If $N_{\\mathrm{adm}}$ students are admitted, then the expected number of admitted female students is $N_{\\mathrm{adm}}\\,p_{\\mathrm{app},F}$, and the variance in the number of admitted female students is\n",
    "$$\\operatorname{Var}(N_{\\mathrm{adm},F}) = N_{\\mathrm{adm}}\\, p_{\\mathrm{app},F}\\,(1 - p_{\\mathrm{app},F}).$$\n",
    "The variance in the acceptance rate for female students is\n",
    "$$\\operatorname{Var}\\left(\\frac{N_{\\mathrm{adm},F}}{N_{\\mathrm{app},F}}\\right) = \\frac{\\operatorname{Var}(N_{\\mathrm{adm},F})}{N_{\\mathrm{app},F}^2} = \\frac{N_{\\mathrm{adm}}\\, p_{\\mathrm{app},F}\\,(1 - p_{\\mathrm{app},F})}{N_{\\mathrm{app},F}^2} = \\frac{N_{\\mathrm{adm}}\\, p_{\\mathrm{app},F}\\,(1 - p_{\\mathrm{app},F})}{N_{\\mathrm{app}}^2\\, p_{\\mathrm{app},F}^2} = \\frac{N_{\\mathrm{adm}}}{N_{\\mathrm{app}}^2} \\frac{1-p_{\\mathrm{app},F}}{p_{\\mathrm{app},F}}.$$\n",
    "The standard deviation is then the square root of this variance.\n",
    "\n",
    "</details>"
   ]
  },
  {
   "cell_type": "markdown",
   "metadata": {},
   "source": [
    "**Question 5:**\n",
    "Add a new column to `admission_per_gender` called `err_p_adm` that stores the standard deviation of the acceptance rate for each gender, by implementing the formula above."
   ]
  },
  {
   "cell_type": "code",
   "execution_count": null,
   "metadata": {},
   "outputs": [],
   "source": [
    "N_app = ... # total number of applicants\n",
    "N_adm = ... # total number of admitted students\n",
    "\n",
    "admission_per_gender['p_app'] = ... # proportion of applicants who are M/F, as a new column\n",
    "admission_per_gender['err_p_adm'] = ... # standard deviation in the acceptance rate, implementing the formula above\n",
    "\n",
    "admission_per_gender"
   ]
  },
  {
   "cell_type": "code",
   "execution_count": 74,
   "metadata": {},
   "outputs": [
    {
     "data": {
      "text/html": [
       "<div>\n",
       "<style scoped>\n",
       "    .dataframe tbody tr th:only-of-type {\n",
       "        vertical-align: middle;\n",
       "    }\n",
       "\n",
       "    .dataframe tbody tr th {\n",
       "        vertical-align: top;\n",
       "    }\n",
       "\n",
       "    .dataframe thead th {\n",
       "        text-align: right;\n",
       "    }\n",
       "</style>\n",
       "<table border=\"1\" class=\"dataframe\">\n",
       "  <thead>\n",
       "    <tr style=\"text-align: right;\">\n",
       "      <th></th>\n",
       "      <th>Gender</th>\n",
       "      <th>app</th>\n",
       "      <th>adm</th>\n",
       "      <th>p_adm</th>\n",
       "      <th>p_app</th>\n",
       "      <th>err_p_adm</th>\n",
       "    </tr>\n",
       "  </thead>\n",
       "  <tbody>\n",
       "    <tr>\n",
       "      <th>0</th>\n",
       "      <td>F</td>\n",
       "      <td>4321</td>\n",
       "      <td>1494</td>\n",
       "      <td>0.345753</td>\n",
       "      <td>0.338557</td>\n",
       "      <td>0.007922</td>\n",
       "    </tr>\n",
       "    <tr>\n",
       "      <th>1</th>\n",
       "      <td>M</td>\n",
       "      <td>8442</td>\n",
       "      <td>3738</td>\n",
       "      <td>0.442786</td>\n",
       "      <td>0.661443</td>\n",
       "      <td>0.004055</td>\n",
       "    </tr>\n",
       "  </tbody>\n",
       "</table>\n",
       "</div>"
      ],
      "text/plain": [
       "  Gender   app   adm     p_adm     p_app  err_p_adm\n",
       "0      F  4321  1494  0.345753  0.338557   0.007922\n",
       "1      M  8442  3738  0.442786  0.661443   0.004055"
      ]
     },
     "execution_count": 74,
     "metadata": {},
     "output_type": "execute_result"
    }
   ],
   "source": [
    "# Instructor Solution:\n",
    "\n",
    "N_app = admission_per_gender.app.sum()\n",
    "N_adm = admission_per_gender.adm.sum()\n",
    "\n",
    "admission_per_gender['p_app'] = admission_per_gender.app / N_app\n",
    "admission_per_gender['err_p_adm'] = np.sqrt(N_adm / N_app**2 * (1-admission_per_gender.p_app) / admission_per_gender.p_app)\n",
    "\n",
    "admission_per_gender"
   ]
  },
  {
   "cell_type": "markdown",
   "metadata": {},
   "source": [
    "You should obtain here that the typical fluctuation in acceptance rate is ±0.79% for female and ±0.41% for male. These will serve as our error bars."
   ]
  },
  {
   "cell_type": "markdown",
   "metadata": {},
   "source": [
    "<!-- END QUESTION -->\n",
    "\n",
    "\n",
    "<!-- START QUESTION -->\n",
    "**Question 7:** Using the updated `admission_per_gender` constructed in **Question 6**, create a `bar` plot showing each gender's admission rate together with its error bar. Documentation to plot a bar graph in `matplotlib` is linked [here](https://matplotlib.org/stable/api/_as_gen/matplotlib.pyplot.bar.html).\n",
    "* For this question, you can use any Python visualization method, including `seaborn` or `matplotlib` imported above. \n",
    "* Don't forget about the error bars! `bar`'s `yerr` parameter may be useful here!\n",
    "* Set `capsize` parameter equal to 5."
   ]
  },
  {
   "cell_type": "code",
   "execution_count": null,
   "metadata": {},
   "outputs": [],
   "source": [
    "plt.bar(___, ___, yerr=___, capsize=5) # fill in the appropriate arguments\n",
    "plt.ylabel('Acceptance rate within gender')\n",
    "plt.show()"
   ]
  },
  {
   "cell_type": "code",
   "execution_count": 14,
   "metadata": {},
   "outputs": [
    {
     "data": {
      "image/png": "[encoded data removed]",
      "text/plain": [
       "<Figure size 640x480 with 1 Axes>"
      ]
     },
     "metadata": {},
     "output_type": "display_data"
    }
   ],
   "source": [
    "# Instructor Solution:\n",
    "\n",
    "plt.bar(admission_per_gender.Gender, admission_per_gender.p_adm, yerr=admission_per_gender.err_p_adm, capsize=5)\n",
    "plt.ylabel('Acceptance rate within gender')\n",
    "plt.show()"
   ]
  },
  {
   "cell_type": "markdown",
   "metadata": {},
   "source": [
    "<!-- END QUESTION -->\n",
    "\n",
    "\n",
    "<!-- START QUESTION -->\n",
    "**Question 8:**\n",
    "We went through the hassle of estimating the error in the acceptance rate by gender and plotted it as an error bar. Why is this important? (Hint: The error we estimated shows how much the acceptance rate could fluctuate if students are accepted by being drawn out of the \"bag\" of applicants by random, without us looking into the bag to see their gender.)\n",
    "\n",
    "**Question 9:** Do the two bars (for F and M) differ in height more than the sizes of their error bars? What does this mean? Is this what we would expect from an admission process devoid of gender bias? Could this difference have arisen by random chance?\n",
    "\n",
    "*Note: Your interpretation should focus on connecting the visual data from the graph to possible conclusions about UC Berkeley's admission practices. Answer may vary.*"
   ]
  },
  {
   "cell_type": "markdown",
   "metadata": {},
   "source": [
    "*Your Answer Here*"
   ]
  },
  {
   "cell_type": "markdown",
   "metadata": {},
   "source": [
    "**Instructor Solution:**\n",
    "\n",
    "- Q8: Without gender bias in the admission process, the acceptance rates for the two genders should be comparable. They don't have to be exactly equal, because even a totally random selection without regards to gender may result in a slight favour towards one gender just by chance. The error bars show how big this slight favour could be, so we may compare it to the actual difference between the acceptance rates to assess statistical significance.\n",
    "\n",
    "- Q9: The two bars differ in height far more than the sizes of their error bars. This means that the difference in acceptance rates of the two genders is statistically significance. That is, it cannot have arisen from chance alone, without any gender bias in the admission process. Without gender bias, we would expect the two bars to be of comparable heights, with a difference smaller than the size of the error bars."
   ]
  },
  {
   "cell_type": "markdown",
   "metadata": {},
   "source": [
    "<br/>\n",
    "\n",
    "<hr style=\"border: 1px solid #fdb515;\" />"
   ]
  },
  {
   "cell_type": "markdown",
   "metadata": {},
   "source": [
    "## *Discussion Portion*"
   ]
  },
  {
   "cell_type": "markdown",
   "metadata": {},
   "source": [
    "**Question 10:** Based on the findings you made in this notebook, what claims and notes would you make in a report about UC Berkeley's admission process in 1973? Attach a credence level to any claims of fact. Think (very hard) of any alternative explanations (other than intentional gender bias) that may lead to the same pattern of data that you have obtained.\n",
    "\n",
    "**Question 11:** Would you recommend any changes to the way UC Berkeley (in 1973) conducts their admission process?"
   ]
  },
  {
   "cell_type": "markdown",
   "metadata": {},
   "source": [
    "*Your Answer Here*"
   ]
  },
  {
   "cell_type": "markdown",
   "metadata": {},
   "source": [
    "**Instructor Solution:**\n",
    "\n",
    "- Q10: I would report that there exists a significant gender bias in the admission process of UC Berkeley in 1973 in favour of male applicants (99%). This bias may be due to intentional sexism on the part of the admissions office, but can also be due to an inherent gender difference in which majors the applicants apply to or in the quality of applicants.\n",
    "\n",
    "- Q11: (One possible answer) I would recommend that UC Berkeley implement a gender quota to ensure that that the acceptance rates are similar between male and female applicants. The quote may not be 50/50, but should reflect the gender ratio of the applicants. (Another possible answer) I would recommend that UC Berkeley remove the sex/gender label on all applicants, including their names, so that decisions may be made without regards to this visible piece of information."
   ]
  },
  {
   "cell_type": "markdown",
   "metadata": {},
   "source": [
    "<br/>\n",
    "\n",
    "<hr style=\"border: 1px solid #fdb515;\" />"
   ]
  },
  {
   "cell_type": "markdown",
   "metadata": {},
   "source": [
    "End of the assignment! 😄 Great job! In about 7 weeks, we will revisit this data for a more detailed analysis, and we will reach a very different conclusion! Stay tuned for Part 2!"
   ]
  }
 ],
 "metadata": {
  "kernelspec": {
   "display_name": "Python 3 (ipykernel)",
   "language": "python",
   "name": "python3"
  },
  "language_info": {
   "codemirror_mode": {
    "name": "ipython",
    "version": 3
   },
   "file_extension": ".py",
   "mimetype": "text/x-python",
   "name": "python",
   "nbconvert_exporter": "python",
   "pygments_lexer": "ipython3",
   "version": "3.9.6"
  }
 },
 "nbformat": 4,
 "nbformat_minor": 4
}
