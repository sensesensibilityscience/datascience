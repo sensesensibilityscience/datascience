{
 "cells": [
  {
   "cell_type": "code",
   "execution_count": 1,
   "metadata": {},
   "outputs": [],
   "source": [
    "# This line imports pandas, numpy, matplotlib.pyplot, and seaborn\n",
    "%matplotlib widget\n",
    "from admission_rate import *"
   ]
  },
  {
   "cell_type": "markdown",
   "metadata": {},
   "source": [
    "<br/>\n",
    "\n",
    "<hr style=\"border: 1px solid #fdb515;\" />"
   ]
  },
  {
   "cell_type": "markdown",
   "metadata": {},
   "source": [
    "# INSTRUCTOR VERSION"
   ]
  },
  {
   "cell_type": "markdown",
   "metadata": {},
   "source": [
    "# Part 1: University-wide gender bias in 1973"
   ]
  },
  {
   "cell_type": "markdown",
   "metadata": {},
   "source": [
    "## Background"
   ]
  },
  {
   "cell_type": "markdown",
   "metadata": {},
   "source": [
    "In 1973, UC Berkeley was at risk of being sued for gender discrimination in their graduate admissions process. University records showed that they admitted 44% of their male applicants but only 35% of their female applicants. This ostensible case of bias against women turned out to be somewhat more nuanced. You will take the role of a statistician tasked to study **UC Berkeley's graduate admissions data in 1973**."
   ]
  },
  {
   "cell_type": "markdown",
   "metadata": {},
   "source": [
    "<br/>\n",
    "\n",
    "<hr style=\"border: 1px solid #fdb515;\" />"
   ]
  },
  {
   "cell_type": "markdown",
   "metadata": {},
   "source": [
    "## Personal experience"
   ]
  },
  {
   "cell_type": "markdown",
   "metadata": {},
   "source": [
    "<!-- BEGIN QUESTION -->\n",
    "Statisticians can study published data to draw their conclusions, but as students of the university, we can typically only rely on personal experience and observations to form our impression of the university.\n",
    "\n",
    "**Question 1:** Suppose it were 1973, and you were asked by a reporter to give your impression of whether the university's admission process may be biased in favour of one gender. Which pieces of information available from your personal observations would you use to make a quick assessment of gender bias (e.g. the number of male vs. female students in a typical introductory biology class)? Answers may vary.\n",
    "\n",
    "**Question 2:** What are the potential limitations of this kind of \"sensory\" information in making an accurate assessment? (Consider statistical and systematic uncertainties.) Answers may vary."
   ]
  },
  {
   "cell_type": "markdown",
   "metadata": {},
   "source": [
    "*Your Answer Here*"
   ]
  },
  {
   "cell_type": "markdown",
   "metadata": {},
   "source": [
    "**Instructor Solution:**\n",
    "\n",
    "- Q1. Gender ratio in a typical class I attend. Gender ratio in public areas on campus. Gender ratio within my major cohort.\n",
    "\n",
    "- Q2. Statistical uncertainty: Gender ratio may happen to be skewed one way or another in a class, especially a small one. Systematic uncertainty: If a major is male-dominated, it may simply be that the applicant pool is male-dominated, rather than that the admission process is biased."
   ]
  },
  {
   "cell_type": "markdown",
   "metadata": {},
   "source": [
    "## The data"
   ]
  },
  {
   "cell_type": "markdown",
   "metadata": {},
   "source": [
    "<!-- End QUESTION -->\n",
    "\n",
    "Now, you will take on the role of a statistician! Let's load Berkeley's admission data `berkeley.csv` below and show a few rows."
   ]
  },
  {
   "cell_type": "code",
   "execution_count": 2,
   "metadata": {},
   "outputs": [
    {
     "data": {
      "text/html": [
       "<div>\n",
       "<style scoped>\n",
       "    .dataframe tbody tr th:only-of-type {\n",
       "        vertical-align: middle;\n",
       "    }\n",
       "\n",
       "    .dataframe tbody tr th {\n",
       "        vertical-align: top;\n",
       "    }\n",
       "\n",
       "    .dataframe thead th {\n",
       "        text-align: right;\n",
       "    }\n",
       "</style>\n",
       "<table border=\"1\" class=\"dataframe\">\n",
       "  <thead>\n",
       "    <tr style=\"text-align: right;\">\n",
       "      <th></th>\n",
       "      <th>Year</th>\n",
       "      <th>Major</th>\n",
       "      <th>Gender</th>\n",
       "      <th>Admission</th>\n",
       "    </tr>\n",
       "  </thead>\n",
       "  <tbody>\n",
       "    <tr>\n",
       "      <th>0</th>\n",
       "      <td>1973</td>\n",
       "      <td>C</td>\n",
       "      <td>F</td>\n",
       "      <td>Rejected</td>\n",
       "    </tr>\n",
       "    <tr>\n",
       "      <th>1</th>\n",
       "      <td>1973</td>\n",
       "      <td>B</td>\n",
       "      <td>M</td>\n",
       "      <td>Accepted</td>\n",
       "    </tr>\n",
       "    <tr>\n",
       "      <th>2</th>\n",
       "      <td>1973</td>\n",
       "      <td>Other</td>\n",
       "      <td>F</td>\n",
       "      <td>Accepted</td>\n",
       "    </tr>\n",
       "    <tr>\n",
       "      <th>3</th>\n",
       "      <td>1973</td>\n",
       "      <td>Other</td>\n",
       "      <td>M</td>\n",
       "      <td>Accepted</td>\n",
       "    </tr>\n",
       "    <tr>\n",
       "      <th>4</th>\n",
       "      <td>1973</td>\n",
       "      <td>Other</td>\n",
       "      <td>M</td>\n",
       "      <td>Rejected</td>\n",
       "    </tr>\n",
       "    <tr>\n",
       "      <th>...</th>\n",
       "      <td>...</td>\n",
       "      <td>...</td>\n",
       "      <td>...</td>\n",
       "      <td>...</td>\n",
       "    </tr>\n",
       "    <tr>\n",
       "      <th>12758</th>\n",
       "      <td>1973</td>\n",
       "      <td>Other</td>\n",
       "      <td>M</td>\n",
       "      <td>Accepted</td>\n",
       "    </tr>\n",
       "    <tr>\n",
       "      <th>12759</th>\n",
       "      <td>1973</td>\n",
       "      <td>D</td>\n",
       "      <td>M</td>\n",
       "      <td>Accepted</td>\n",
       "    </tr>\n",
       "    <tr>\n",
       "      <th>12760</th>\n",
       "      <td>1973</td>\n",
       "      <td>Other</td>\n",
       "      <td>F</td>\n",
       "      <td>Rejected</td>\n",
       "    </tr>\n",
       "    <tr>\n",
       "      <th>12761</th>\n",
       "      <td>1973</td>\n",
       "      <td>Other</td>\n",
       "      <td>M</td>\n",
       "      <td>Rejected</td>\n",
       "    </tr>\n",
       "    <tr>\n",
       "      <th>12762</th>\n",
       "      <td>1973</td>\n",
       "      <td>Other</td>\n",
       "      <td>M</td>\n",
       "      <td>Accepted</td>\n",
       "    </tr>\n",
       "  </tbody>\n",
       "</table>\n",
       "<p>12763 rows × 4 columns</p>\n",
       "</div>"
      ],
      "text/plain": [
       "       Year  Major Gender Admission\n",
       "0      1973      C      F  Rejected\n",
       "1      1973      B      M  Accepted\n",
       "2      1973  Other      F  Accepted\n",
       "3      1973  Other      M  Accepted\n",
       "4      1973  Other      M  Rejected\n",
       "...     ...    ...    ...       ...\n",
       "12758  1973  Other      M  Accepted\n",
       "12759  1973      D      M  Accepted\n",
       "12760  1973  Other      F  Rejected\n",
       "12761  1973  Other      M  Rejected\n",
       "12762  1973  Other      M  Accepted\n",
       "\n",
       "[12763 rows x 4 columns]"
      ]
     },
     "execution_count": 2,
     "metadata": {},
     "output_type": "execute_result"
    }
   ],
   "source": [
    "berkeley = pd.read_csv(\"berkeley.csv\") # we load the prepared csv file containing the data into a pandas dataframe\n",
    "\n",
    "berkeley # print a few rows from the dataframe"
   ]
  },
  {
   "cell_type": "markdown",
   "metadata": {},
   "source": [
    "Each row represents a single applicant to UC Berkeley in 1973. The different columns are self-explanatory. We use single letters instead of the full names of the majors."
   ]
  },
  {
   "cell_type": "markdown",
   "metadata": {},
   "source": [
    "<!-- END QUESTION -->\n",
    "\n",
    "\n",
    "<!-- START QUESTION -->\n",
    "**Question 3:** Create a new dataframe `admission_rate_per_gender` by grouping the original dataset by gender. Your dataframe should have three columns: `Gender`, `app` (for number of applicants of each gender), and `adm` (for number of admitted students of each gender), to calculate the acceptance rate in the next question.\n",
    "\n",
    "<details open>\n",
    "\n",
    "<summary><i>Click here for hint(s)</i></summary>\n",
    "\n",
    "- <i>Hint 1: There should be only two rows for the table, one for gender F and one for gender M.</i> \n",
    "- <i>Hint 2: To count the number of rows in a dataframe satisfying a certain condition, write `np.sum(...condition...)`. For example, to count all rejected students in `berkeley`, write `np.sum(berkeley.Admission == 'Rejected')`.</i>\n",
    "- <i>Hint 3: If you need two conditions to simultaneously hold, use the `&` operator for \"and\" and `|` operator for \"or\".</i>\n",
    "- <i>Hint 4: Create a new dataframe using `pd.DataFrame.from_dict({'Column_A': [entryA1, entryA2], 'Column_B': [entryB1, entryB2], ...})`.</i>\n",
    "\n",
    "</details>\n"
   ]
  },
  {
   "cell_type": "code",
   "execution_count": 3,
   "metadata": {},
   "outputs": [
    {
     "ename": "ValueError",
     "evalue": "If using all scalar values, you must pass an index",
     "output_type": "error",
     "traceback": [
      "\u001b[0;31m---------------------------------------------------------------------------\u001b[0m",
      "\u001b[0;31mValueError\u001b[0m                                Traceback (most recent call last)",
      "\u001b[0;32m/var/folders/8r/6kh0z6zs5nb91hw_9279p5d80000gn/T/ipykernel_17073/2504399061.py\u001b[0m in \u001b[0;36m<module>\u001b[0;34m\u001b[0m\n\u001b[1;32m      4\u001b[0m \u001b[0mN_adm_M\u001b[0m \u001b[0;34m=\u001b[0m \u001b[0;34m...\u001b[0m \u001b[0;31m# number of accepted male applicants\u001b[0m\u001b[0;34m\u001b[0m\u001b[0;34m\u001b[0m\u001b[0m\n\u001b[1;32m      5\u001b[0m \u001b[0;34m\u001b[0m\u001b[0m\n\u001b[0;32m----> 6\u001b[0;31m \u001b[0madmission_per_gender\u001b[0m \u001b[0;34m=\u001b[0m \u001b[0mpd\u001b[0m\u001b[0;34m.\u001b[0m\u001b[0mDataFrame\u001b[0m\u001b[0;34m.\u001b[0m\u001b[0mfrom_dict\u001b[0m\u001b[0;34m(\u001b[0m\u001b[0;34m{\u001b[0m\u001b[0;34m'Gender'\u001b[0m\u001b[0;34m:\u001b[0m \u001b[0;34m...\u001b[0m\u001b[0;34m,\u001b[0m \u001b[0;34m'app'\u001b[0m\u001b[0;34m:\u001b[0m \u001b[0;34m...\u001b[0m\u001b[0;34m,\u001b[0m \u001b[0;34m'adm'\u001b[0m\u001b[0;34m:\u001b[0m \u001b[0;34m...\u001b[0m\u001b[0;34m}\u001b[0m\u001b[0;34m)\u001b[0m\u001b[0;34m\u001b[0m\u001b[0;34m\u001b[0m\u001b[0m\n\u001b[0m\u001b[1;32m      7\u001b[0m \u001b[0;34m\u001b[0m\u001b[0m\n\u001b[1;32m      8\u001b[0m \u001b[0madmission_per_gender\u001b[0m\u001b[0;34m\u001b[0m\u001b[0;34m\u001b[0m\u001b[0m\n",
      "\u001b[0;32m~/opt/anaconda3/lib/python3.9/site-packages/pandas/core/frame.py\u001b[0m in \u001b[0;36mfrom_dict\u001b[0;34m(cls, data, orient, dtype, columns)\u001b[0m\n\u001b[1;32m   1675\u001b[0m \u001b[0;34m\u001b[0m\u001b[0m\n\u001b[1;32m   1676\u001b[0m         \u001b[0;32mif\u001b[0m \u001b[0morient\u001b[0m \u001b[0;34m!=\u001b[0m \u001b[0;34m\"tight\"\u001b[0m\u001b[0;34m:\u001b[0m\u001b[0;34m\u001b[0m\u001b[0;34m\u001b[0m\u001b[0m\n\u001b[0;32m-> 1677\u001b[0;31m             \u001b[0;32mreturn\u001b[0m \u001b[0mcls\u001b[0m\u001b[0;34m(\u001b[0m\u001b[0mdata\u001b[0m\u001b[0;34m,\u001b[0m \u001b[0mindex\u001b[0m\u001b[0;34m=\u001b[0m\u001b[0mindex\u001b[0m\u001b[0;34m,\u001b[0m \u001b[0mcolumns\u001b[0m\u001b[0;34m=\u001b[0m\u001b[0mcolumns\u001b[0m\u001b[0;34m,\u001b[0m \u001b[0mdtype\u001b[0m\u001b[0;34m=\u001b[0m\u001b[0mdtype\u001b[0m\u001b[0;34m)\u001b[0m\u001b[0;34m\u001b[0m\u001b[0;34m\u001b[0m\u001b[0m\n\u001b[0m\u001b[1;32m   1678\u001b[0m         \u001b[0;32melse\u001b[0m\u001b[0;34m:\u001b[0m\u001b[0;34m\u001b[0m\u001b[0;34m\u001b[0m\u001b[0m\n\u001b[1;32m   1679\u001b[0m             \u001b[0mrealdata\u001b[0m \u001b[0;34m=\u001b[0m \u001b[0mdata\u001b[0m\u001b[0;34m[\u001b[0m\u001b[0;34m\"data\"\u001b[0m\u001b[0;34m]\u001b[0m\u001b[0;34m\u001b[0m\u001b[0;34m\u001b[0m\u001b[0m\n",
      "\u001b[0;32m~/opt/anaconda3/lib/python3.9/site-packages/pandas/core/frame.py\u001b[0m in \u001b[0;36m__init__\u001b[0;34m(self, data, index, columns, dtype, copy)\u001b[0m\n\u001b[1;32m    634\u001b[0m         \u001b[0;32melif\u001b[0m \u001b[0misinstance\u001b[0m\u001b[0;34m(\u001b[0m\u001b[0mdata\u001b[0m\u001b[0;34m,\u001b[0m \u001b[0mdict\u001b[0m\u001b[0;34m)\u001b[0m\u001b[0;34m:\u001b[0m\u001b[0;34m\u001b[0m\u001b[0;34m\u001b[0m\u001b[0m\n\u001b[1;32m    635\u001b[0m             \u001b[0;31m# GH#38939 de facto copy defaults to False only in non-dict cases\u001b[0m\u001b[0;34m\u001b[0m\u001b[0;34m\u001b[0m\u001b[0m\n\u001b[0;32m--> 636\u001b[0;31m             \u001b[0mmgr\u001b[0m \u001b[0;34m=\u001b[0m \u001b[0mdict_to_mgr\u001b[0m\u001b[0;34m(\u001b[0m\u001b[0mdata\u001b[0m\u001b[0;34m,\u001b[0m \u001b[0mindex\u001b[0m\u001b[0;34m,\u001b[0m \u001b[0mcolumns\u001b[0m\u001b[0;34m,\u001b[0m \u001b[0mdtype\u001b[0m\u001b[0;34m=\u001b[0m\u001b[0mdtype\u001b[0m\u001b[0;34m,\u001b[0m \u001b[0mcopy\u001b[0m\u001b[0;34m=\u001b[0m\u001b[0mcopy\u001b[0m\u001b[0;34m,\u001b[0m \u001b[0mtyp\u001b[0m\u001b[0;34m=\u001b[0m\u001b[0mmanager\u001b[0m\u001b[0;34m)\u001b[0m\u001b[0;34m\u001b[0m\u001b[0;34m\u001b[0m\u001b[0m\n\u001b[0m\u001b[1;32m    637\u001b[0m         \u001b[0;32melif\u001b[0m \u001b[0misinstance\u001b[0m\u001b[0;34m(\u001b[0m\u001b[0mdata\u001b[0m\u001b[0;34m,\u001b[0m \u001b[0mma\u001b[0m\u001b[0;34m.\u001b[0m\u001b[0mMaskedArray\u001b[0m\u001b[0;34m)\u001b[0m\u001b[0;34m:\u001b[0m\u001b[0;34m\u001b[0m\u001b[0;34m\u001b[0m\u001b[0m\n\u001b[1;32m    638\u001b[0m             \u001b[0;32mimport\u001b[0m \u001b[0mnumpy\u001b[0m\u001b[0;34m.\u001b[0m\u001b[0mma\u001b[0m\u001b[0;34m.\u001b[0m\u001b[0mmrecords\u001b[0m \u001b[0;32mas\u001b[0m \u001b[0mmrecords\u001b[0m\u001b[0;34m\u001b[0m\u001b[0;34m\u001b[0m\u001b[0m\n",
      "\u001b[0;32m~/opt/anaconda3/lib/python3.9/site-packages/pandas/core/internals/construction.py\u001b[0m in \u001b[0;36mdict_to_mgr\u001b[0;34m(data, index, columns, dtype, typ, copy)\u001b[0m\n\u001b[1;32m    500\u001b[0m         \u001b[0;31m# TODO: can we get rid of the dt64tz special case above?\u001b[0m\u001b[0;34m\u001b[0m\u001b[0;34m\u001b[0m\u001b[0m\n\u001b[1;32m    501\u001b[0m \u001b[0;34m\u001b[0m\u001b[0m\n\u001b[0;32m--> 502\u001b[0;31m     \u001b[0;32mreturn\u001b[0m \u001b[0marrays_to_mgr\u001b[0m\u001b[0;34m(\u001b[0m\u001b[0marrays\u001b[0m\u001b[0;34m,\u001b[0m \u001b[0mcolumns\u001b[0m\u001b[0;34m,\u001b[0m \u001b[0mindex\u001b[0m\u001b[0;34m,\u001b[0m \u001b[0mdtype\u001b[0m\u001b[0;34m=\u001b[0m\u001b[0mdtype\u001b[0m\u001b[0;34m,\u001b[0m \u001b[0mtyp\u001b[0m\u001b[0;34m=\u001b[0m\u001b[0mtyp\u001b[0m\u001b[0;34m,\u001b[0m \u001b[0mconsolidate\u001b[0m\u001b[0;34m=\u001b[0m\u001b[0mcopy\u001b[0m\u001b[0;34m)\u001b[0m\u001b[0;34m\u001b[0m\u001b[0;34m\u001b[0m\u001b[0m\n\u001b[0m\u001b[1;32m    503\u001b[0m \u001b[0;34m\u001b[0m\u001b[0m\n\u001b[1;32m    504\u001b[0m \u001b[0;34m\u001b[0m\u001b[0m\n",
      "\u001b[0;32m~/opt/anaconda3/lib/python3.9/site-packages/pandas/core/internals/construction.py\u001b[0m in \u001b[0;36marrays_to_mgr\u001b[0;34m(arrays, columns, index, dtype, verify_integrity, typ, consolidate)\u001b[0m\n\u001b[1;32m    118\u001b[0m         \u001b[0;31m# figure out the index, if necessary\u001b[0m\u001b[0;34m\u001b[0m\u001b[0;34m\u001b[0m\u001b[0m\n\u001b[1;32m    119\u001b[0m         \u001b[0;32mif\u001b[0m \u001b[0mindex\u001b[0m \u001b[0;32mis\u001b[0m \u001b[0;32mNone\u001b[0m\u001b[0;34m:\u001b[0m\u001b[0;34m\u001b[0m\u001b[0;34m\u001b[0m\u001b[0m\n\u001b[0;32m--> 120\u001b[0;31m             \u001b[0mindex\u001b[0m \u001b[0;34m=\u001b[0m \u001b[0m_extract_index\u001b[0m\u001b[0;34m(\u001b[0m\u001b[0marrays\u001b[0m\u001b[0;34m)\u001b[0m\u001b[0;34m\u001b[0m\u001b[0;34m\u001b[0m\u001b[0m\n\u001b[0m\u001b[1;32m    121\u001b[0m         \u001b[0;32melse\u001b[0m\u001b[0;34m:\u001b[0m\u001b[0;34m\u001b[0m\u001b[0;34m\u001b[0m\u001b[0m\n\u001b[1;32m    122\u001b[0m             \u001b[0mindex\u001b[0m \u001b[0;34m=\u001b[0m \u001b[0mensure_index\u001b[0m\u001b[0;34m(\u001b[0m\u001b[0mindex\u001b[0m\u001b[0;34m)\u001b[0m\u001b[0;34m\u001b[0m\u001b[0;34m\u001b[0m\u001b[0m\n",
      "\u001b[0;32m~/opt/anaconda3/lib/python3.9/site-packages/pandas/core/internals/construction.py\u001b[0m in \u001b[0;36m_extract_index\u001b[0;34m(data)\u001b[0m\n\u001b[1;32m    662\u001b[0m \u001b[0;34m\u001b[0m\u001b[0m\n\u001b[1;32m    663\u001b[0m         \u001b[0;32mif\u001b[0m \u001b[0;32mnot\u001b[0m \u001b[0mindexes\u001b[0m \u001b[0;32mand\u001b[0m \u001b[0;32mnot\u001b[0m \u001b[0mraw_lengths\u001b[0m\u001b[0;34m:\u001b[0m\u001b[0;34m\u001b[0m\u001b[0;34m\u001b[0m\u001b[0m\n\u001b[0;32m--> 664\u001b[0;31m             \u001b[0;32mraise\u001b[0m \u001b[0mValueError\u001b[0m\u001b[0;34m(\u001b[0m\u001b[0;34m\"If using all scalar values, you must pass an index\"\u001b[0m\u001b[0;34m)\u001b[0m\u001b[0;34m\u001b[0m\u001b[0;34m\u001b[0m\u001b[0m\n\u001b[0m\u001b[1;32m    665\u001b[0m \u001b[0;34m\u001b[0m\u001b[0m\n\u001b[1;32m    666\u001b[0m         \u001b[0;32melif\u001b[0m \u001b[0mhave_series\u001b[0m\u001b[0;34m:\u001b[0m\u001b[0;34m\u001b[0m\u001b[0;34m\u001b[0m\u001b[0m\n",
      "\u001b[0;31mValueError\u001b[0m: If using all scalar values, you must pass an index"
     ]
    }
   ],
   "source": [
    "N_app_F = ... # number of female applicants\n",
    "N_app_M = ... # number of male applicants\n",
    "N_adm_F = ... # number of accepted female applicants\n",
    "N_adm_M = ... # number of accepted male applicants\n",
    "\n",
    "admission_per_gender = pd.DataFrame.from_dict({'Gender': ..., 'app': ..., 'adm': ...})\n",
    "\n",
    "admission_per_gender"
   ]
  },
  {
   "cell_type": "code",
   "execution_count": 5,
   "metadata": {},
   "outputs": [
    {
     "data": {
      "text/html": [
       "<div>\n",
       "<style scoped>\n",
       "    .dataframe tbody tr th:only-of-type {\n",
       "        vertical-align: middle;\n",
       "    }\n",
       "\n",
       "    .dataframe tbody tr th {\n",
       "        vertical-align: top;\n",
       "    }\n",
       "\n",
       "    .dataframe thead th {\n",
       "        text-align: right;\n",
       "    }\n",
       "</style>\n",
       "<table border=\"1\" class=\"dataframe\">\n",
       "  <thead>\n",
       "    <tr style=\"text-align: right;\">\n",
       "      <th></th>\n",
       "      <th>Gender</th>\n",
       "      <th>app</th>\n",
       "      <th>adm</th>\n",
       "    </tr>\n",
       "  </thead>\n",
       "  <tbody>\n",
       "    <tr>\n",
       "      <th>0</th>\n",
       "      <td>F</td>\n",
       "      <td>4321</td>\n",
       "      <td>1494</td>\n",
       "    </tr>\n",
       "    <tr>\n",
       "      <th>1</th>\n",
       "      <td>M</td>\n",
       "      <td>8442</td>\n",
       "      <td>3738</td>\n",
       "    </tr>\n",
       "  </tbody>\n",
       "</table>\n",
       "</div>"
      ],
      "text/plain": [
       "  Gender   app   adm\n",
       "0      F  4321  1494\n",
       "1      M  8442  3738"
      ]
     },
     "execution_count": 5,
     "metadata": {},
     "output_type": "execute_result"
    }
   ],
   "source": [
    "# Instructor Solution:\n",
    "\n",
    "N_app_F = np.sum(berkeley.Gender == 'F')\n",
    "N_app_M = np.sum(berkeley.Gender == 'M')\n",
    "N_adm_F = np.sum((berkeley.Gender == 'F') & (berkeley.Admission == 'Accepted'))\n",
    "N_adm_M = np.sum((berkeley.Gender == 'M') & (berkeley.Admission == 'Accepted'))\n",
    "\n",
    "admission_per_gender = pd.DataFrame.from_dict({'Gender': ['F', 'M'], 'app': [N_app_F, N_app_M], 'adm': [N_adm_F, N_adm_M]})\n",
    "\n",
    "admission_per_gender"
   ]
  },
  {
   "cell_type": "markdown",
   "metadata": {},
   "source": [
    "<!-- END QUESTION -->\n",
    "\n",
    "\n",
    "<!-- START QUESTION -->\n",
    "**Question 4:**\n",
    "Calculate the acceptance rate for each gender and save the values as a new column called `p_adm` (for percentage of applicants admitted of each gender) in `admission_per_gender`. The acceptance rate should be the number of accepted applicants divided by number of applicants, for each gender.\n",
    "\n",
    "<details open>\n",
    "\n",
    "<summary><i>Click here for hint(s)</i></summary>\n",
    "\n",
    "- *Hint 1: Add a new column to a dataframe simply by, for example, `dataframe['new_column'] = dataframe['old_column1'] + dataframe['old_column2']`*\n",
    "\n",
    "</details>\n"
   ]
  },
  {
   "cell_type": "code",
   "execution_count": 6,
   "metadata": {},
   "outputs": [
    {
     "data": {
      "text/html": [
       "<div>\n",
       "<style scoped>\n",
       "    .dataframe tbody tr th:only-of-type {\n",
       "        vertical-align: middle;\n",
       "    }\n",
       "\n",
       "    .dataframe tbody tr th {\n",
       "        vertical-align: top;\n",
       "    }\n",
       "\n",
       "    .dataframe thead th {\n",
       "        text-align: right;\n",
       "    }\n",
       "</style>\n",
       "<table border=\"1\" class=\"dataframe\">\n",
       "  <thead>\n",
       "    <tr style=\"text-align: right;\">\n",
       "      <th></th>\n",
       "      <th>Gender</th>\n",
       "      <th>app</th>\n",
       "      <th>adm</th>\n",
       "      <th>p_adm</th>\n",
       "    </tr>\n",
       "  </thead>\n",
       "  <tbody>\n",
       "    <tr>\n",
       "      <th>0</th>\n",
       "      <td>F</td>\n",
       "      <td>4321</td>\n",
       "      <td>1494</td>\n",
       "      <td>Ellipsis</td>\n",
       "    </tr>\n",
       "    <tr>\n",
       "      <th>1</th>\n",
       "      <td>M</td>\n",
       "      <td>8442</td>\n",
       "      <td>3738</td>\n",
       "      <td>Ellipsis</td>\n",
       "    </tr>\n",
       "  </tbody>\n",
       "</table>\n",
       "</div>"
      ],
      "text/plain": [
       "  Gender   app   adm     p_adm\n",
       "0      F  4321  1494  Ellipsis\n",
       "1      M  8442  3738  Ellipsis"
      ]
     },
     "execution_count": 6,
     "metadata": {},
     "output_type": "execute_result"
    }
   ],
   "source": [
    "admission_per_gender['p_adm'] = ...\n",
    "\n",
    "admission_per_gender"
   ]
  },
  {
   "cell_type": "code",
   "execution_count": 7,
   "metadata": {},
   "outputs": [
    {
     "data": {
      "text/html": [
       "<div>\n",
       "<style scoped>\n",
       "    .dataframe tbody tr th:only-of-type {\n",
       "        vertical-align: middle;\n",
       "    }\n",
       "\n",
       "    .dataframe tbody tr th {\n",
       "        vertical-align: top;\n",
       "    }\n",
       "\n",
       "    .dataframe thead th {\n",
       "        text-align: right;\n",
       "    }\n",
       "</style>\n",
       "<table border=\"1\" class=\"dataframe\">\n",
       "  <thead>\n",
       "    <tr style=\"text-align: right;\">\n",
       "      <th></th>\n",
       "      <th>Gender</th>\n",
       "      <th>app</th>\n",
       "      <th>adm</th>\n",
       "      <th>p_adm</th>\n",
       "    </tr>\n",
       "  </thead>\n",
       "  <tbody>\n",
       "    <tr>\n",
       "      <th>0</th>\n",
       "      <td>F</td>\n",
       "      <td>4321</td>\n",
       "      <td>1494</td>\n",
       "      <td>0.345753</td>\n",
       "    </tr>\n",
       "    <tr>\n",
       "      <th>1</th>\n",
       "      <td>M</td>\n",
       "      <td>8442</td>\n",
       "      <td>3738</td>\n",
       "      <td>0.442786</td>\n",
       "    </tr>\n",
       "  </tbody>\n",
       "</table>\n",
       "</div>"
      ],
      "text/plain": [
       "  Gender   app   adm     p_adm\n",
       "0      F  4321  1494  0.345753\n",
       "1      M  8442  3738  0.442786"
      ]
     },
     "execution_count": 7,
     "metadata": {},
     "output_type": "execute_result"
    }
   ],
   "source": [
    "# Instructor Solution:\n",
    "\n",
    "admission_per_gender['p_adm'] = admission_per_gender.adm / admission_per_gender.app\n",
    "\n",
    "admission_per_gender"
   ]
  },
  {
   "cell_type": "markdown",
   "metadata": {},
   "source": [
    "At this point you should have reproduced the number we quoted in the beginning of the module: 44% acceptance rate for male, 35% acceptance rate for female. From *Calibration of Credence Levels*, you've learnt how important it is to attach error bars (i.e. confidence intervals) when you claim numerical figures. Let's estimate the error bars for the acceptance rates now."
   ]
  },
  {
   "cell_type": "markdown",
   "metadata": {},
   "source": [
    "## Error bars"
   ]
  },
  {
   "cell_type": "markdown",
   "metadata": {},
   "source": [
    "Most news articles that reported on these figures immediately described the admission rates between male (44%) and female (35%) applicants as significantly different from each other. However, as critical thinkers, we should first ask ourselves if this difference could have arisen from chance alone.\n",
    "\n",
    "Suppose UC Berkeley's admissions committee randomly admitted students from the applicant pool without looking at their applications. Surely, there would be no gender bias! Out of a pool of 4321 female and 8442 male applicants, let us randomly pick out 5232 students to admit. What is the acceptance rate among female applicants and among male applicants? Click the button below many times to see the result of each random draw."
   ]
  },
  {
   "cell_type": "code",
   "execution_count": 12,
   "metadata": {},
   "outputs": [
    {
     "data": {
      "application/vnd.jupyter.widget-view+json": {
       "model_id": "2105a1b876c5489fb09184d1a8cb4ee9",
       "version_major": 2,
       "version_minor": 0
      },
      "text/plain": [
       "Button(description='Randomly admit students!', layout=Layout(width='200px'), style=ButtonStyle(), tooltip='Ran…"
      ]
     },
     "metadata": {},
     "output_type": "display_data"
    },
    {
     "data": {
      "application/vnd.jupyter.widget-view+json": {
       "model_id": "5f8cb07398e94b2c9100ba708415cd94",
       "version_major": 2,
       "version_minor": 0
      },
      "text/plain": [
       "Output()"
      ]
     },
     "metadata": {},
     "output_type": "display_data"
    },
    {
     "data": {
      "application/vnd.jupyter.widget-view+json": {
       "model_id": "c6d0438d2a534c649b6709991597c376",
       "version_major": 2,
       "version_minor": 0
      },
      "image/png": "[encoded data removed]",
      "text/html": [
       "\n",
       "            <div style=\"display: inline-block;\">\n",
       "                <div class=\"jupyter-widgets widget-label\" style=\"text-align: center;\">\n",
       "                    Figure\n",
       "                </div>\n",
       "                <img src='data:image/png;base64,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' width=400.0/>\n",
       "            </div>\n",
       "        "
      ],
      "text/plain": [
       "Canvas(toolbar=Toolbar(toolitems=[('Home', 'Reset original view', 'home', 'home'), ('Back', 'Back to previous …"
      ]
     },
     "metadata": {},
     "output_type": "display_data"
    }
   ],
   "source": [
    "plotMockAdmissionWithButton()"
   ]
  },
  {
   "cell_type": "markdown",
   "metadata": {},
   "source": [
    "**Question:** After many clicks, how big is the typical difference between male and female acceptance rates? What's the largest difference you were able to get, and after how many tries? Do you find it likely that a 44%/35% acceptance rate for male/female could have arisen by random chance, rather than a gender-based effect?"
   ]
  },
  {
   "cell_type": "markdown",
   "metadata": {},
   "source": [
    "*Your Answer Here*"
   ]
  },
  {
   "cell_type": "markdown",
   "metadata": {},
   "source": [
    "We would like to visualize this expected amount of fluctuation due to random chance as an error bar (or confidence interval) on the bar chart. This means that we need to quantify this number rather than observe it by eye. Thankfully, statistics has given us such a calculational tool, called the *standard deviation*, which roughly represents the range within which the randomly drawn value lies 68% of the time. In our case, every time we randomly pick 5232 students out of 4321 female and 8442 male applicants, the female or male acceptance rate fluctuates, but it stays within ±(standard deviation) roughly 68% of the time.\n",
    "\n",
    "For this course, you do not need to know where the following formula comes from, but we want you to be able to implement the code that calculates it.\n",
    "\n",
    "The standard deviation of the acceptance rate for female applicants, assuming applications are admitted by random without any gender consideration, is given by\n",
    "$$\\operatorname{StDev}(p_{\\mathrm{app},F}) = \\sqrt{\\frac{N_{\\mathrm{adm}}}{N_{\\mathrm{app}}^2} \\frac{1-p_{\\mathrm{app},F}}{p_{\\mathrm{app},F}}}.$$\n",
    "Here, $N_{\\mathrm{adm}}$ is the total number of admitted students, $N_{\\mathrm{app}}$ is the total number of applicants, and $p_{\\mathrm{app},F}$ is the proportion of female applicants. The standard deviation for the acceptance rate for male applicants is given by the same formula, just with $p_{\\mathrm{app},M}$ instead of $p_{\\mathrm{app},F}$. All you have to do is to use this formula to calculate the error bars.\n",
    "\n",
    "If you are curious, here is a derivation of this formula:\n",
    "<details open>\n",
    "\n",
    "<summary><i>SPOILERS</i></summary>\n",
    "\n",
    "This derivation will make sense if you have seen binomial distributions before.\n",
    "\n",
    "Let us assume an unbiased admission process to be one that accepts applicants by random, without regards to their gender. This can be thought of as tossing a weighted coin whose heads-to-tails ratio is the same as the gender ratio in our applicant pool. This is also like drawing balls by random out of a bag filled with different numbers of black and white balls, with replacement. (Rigorously, the drawing is *without* replacement, but then our formulas will include the hypergeometric function, so let's simplify things for now.)\n",
    "\n",
    "We model the acceptance of each student as a random variable following the [binomial distribution](https://en.wikipedia.org/wiki/Binomial_distribution) whose probability of accepting a female applicant is $p_{\\mathrm{app},F}$. If $N_{\\mathrm{adm}}$ students are admitted, then the expected number of admitted female students is $N_{\\mathrm{adm}}\\,p_{\\mathrm{app},F}$, and the variance in the number of admitted female students is\n",
    "$$\\operatorname{Var}(N_{\\mathrm{adm},F}) = N_{\\mathrm{adm}}\\, p_{\\mathrm{app},F}\\,(1 - p_{\\mathrm{app},F}).$$\n",
    "The variance in the acceptance rate for female students is\n",
    "$$\\operatorname{Var}\\left(\\frac{N_{\\mathrm{adm},F}}{N_{\\mathrm{app},F}}\\right) = \\frac{\\operatorname{Var}(N_{\\mathrm{adm},F})}{N_{\\mathrm{app},F}^2} = \\frac{N_{\\mathrm{adm}}\\, p_{\\mathrm{app},F}\\,(1 - p_{\\mathrm{app},F})}{N_{\\mathrm{app},F}^2} = \\frac{N_{\\mathrm{adm}}\\, p_{\\mathrm{app},F}\\,(1 - p_{\\mathrm{app},F})}{N_{\\mathrm{app}}^2\\, p_{\\mathrm{app},F}^2} = \\frac{N_{\\mathrm{adm}}}{N_{\\mathrm{app}}^2} \\frac{1-p_{\\mathrm{app},F}}{p_{\\mathrm{app},F}}.$$\n",
    "The standard deviation is then the square root of this variance.\n",
    "\n",
    "</details>"
   ]
  },
  {
   "cell_type": "markdown",
   "metadata": {},
   "source": [
    "**Question 5:**\n",
    "Add a new column to `admission_per_gender` called `err_p_adm` that stores the standard deviation of the acceptance rate for each gender, by implementing the formula above."
   ]
  },
  {
   "cell_type": "code",
   "execution_count": null,
   "metadata": {},
   "outputs": [],
   "source": [
    "N_app = ... # total number of applicants\n",
    "N_adm = ... # total number of admitted students\n",
    "\n",
    "admission_per_gender['p_app'] = ... # proportion of applicants who are M/F, as a new column\n",
    "admission_per_gender['err_p_adm'] = ... # standard deviation in the acceptance rate, implementing the formula above\n",
    "\n",
    "admission_per_gender"
   ]
  },
  {
   "cell_type": "code",
   "execution_count": 74,
   "metadata": {},
   "outputs": [
    {
     "data": {
      "text/html": [
       "<div>\n",
       "<style scoped>\n",
       "    .dataframe tbody tr th:only-of-type {\n",
       "        vertical-align: middle;\n",
       "    }\n",
       "\n",
       "    .dataframe tbody tr th {\n",
       "        vertical-align: top;\n",
       "    }\n",
       "\n",
       "    .dataframe thead th {\n",
       "        text-align: right;\n",
       "    }\n",
       "</style>\n",
       "<table border=\"1\" class=\"dataframe\">\n",
       "  <thead>\n",
       "    <tr style=\"text-align: right;\">\n",
       "      <th></th>\n",
       "      <th>Gender</th>\n",
       "      <th>app</th>\n",
       "      <th>adm</th>\n",
       "      <th>p_adm</th>\n",
       "      <th>p_app</th>\n",
       "      <th>err_p_adm</th>\n",
       "    </tr>\n",
       "  </thead>\n",
       "  <tbody>\n",
       "    <tr>\n",
       "      <th>0</th>\n",
       "      <td>F</td>\n",
       "      <td>4321</td>\n",
       "      <td>1494</td>\n",
       "      <td>0.345753</td>\n",
       "      <td>0.338557</td>\n",
       "      <td>0.007922</td>\n",
       "    </tr>\n",
       "    <tr>\n",
       "      <th>1</th>\n",
       "      <td>M</td>\n",
       "      <td>8442</td>\n",
       "      <td>3738</td>\n",
       "      <td>0.442786</td>\n",
       "      <td>0.661443</td>\n",
       "      <td>0.004055</td>\n",
       "    </tr>\n",
       "  </tbody>\n",
       "</table>\n",
       "</div>"
      ],
      "text/plain": [
       "  Gender   app   adm     p_adm     p_app  err_p_adm\n",
       "0      F  4321  1494  0.345753  0.338557   0.007922\n",
       "1      M  8442  3738  0.442786  0.661443   0.004055"
      ]
     },
     "execution_count": 74,
     "metadata": {},
     "output_type": "execute_result"
    }
   ],
   "source": [
    "# Instructor Solution:\n",
    "\n",
    "N_app = admission_per_gender.app.sum()\n",
    "N_adm = admission_per_gender.adm.sum()\n",
    "\n",
    "admission_per_gender['p_app'] = admission_per_gender.app / N_app\n",
    "admission_per_gender['err_p_adm'] = np.sqrt(N_adm / N_app**2 * (1-admission_per_gender.p_app) / admission_per_gender.p_app)\n",
    "\n",
    "admission_per_gender"
   ]
  },
  {
   "cell_type": "markdown",
   "metadata": {},
   "source": [
    "You should obtain here that the typical fluctuation in acceptance rate is ±0.79% for female and ±0.41% for male. These will serve as our error bars."
   ]
  },
  {
   "cell_type": "markdown",
   "metadata": {},
   "source": [
    "<!-- END QUESTION -->\n",
    "\n",
    "\n",
    "<!-- START QUESTION -->\n",
    "**Question 7:** Using the updated `admission_per_gender` constructed in **Question 6**, create a `bar` plot showing each gender's admission rate together with its error bar. Documentation to plot a bar graph in `matplotlib` is linked [here](https://matplotlib.org/stable/api/_as_gen/matplotlib.pyplot.bar.html).\n",
    "* For this question, you can use any Python visualization method, including `seaborn` or `matplotlib` imported above. \n",
    "* Don't forget about the error bars! `bar`'s `yerr` parameter may be useful here!\n",
    "* Set `capsize` parameter equal to 5."
   ]
  },
  {
   "cell_type": "code",
   "execution_count": null,
   "metadata": {},
   "outputs": [],
   "source": [
    "plt.bar(___, ___, yerr=___, capsize=5) # fill in the appropriate arguments\n",
    "plt.ylabel('Acceptance rate within gender')"
   ]
  },
  {
   "cell_type": "code",
   "execution_count": 14,
   "metadata": {},
   "outputs": [
    {
     "data": {
      "image/png": "[encoded data removed]",
      "text/plain": [
       "<Figure size 640x480 with 1 Axes>"
      ]
     },
     "metadata": {},
     "output_type": "display_data"
    }
   ],
   "source": [
    "# Instructor Solution:\n",
    "\n",
    "plt.bar(admission_per_gender.Gender, admission_per_gender.p_adm, yerr=admission_per_gender.err_p_adm, capsize=5)\n",
    "plt.ylabel('Acceptance rate within gender')"
   ]
  },
  {
   "cell_type": "markdown",
   "metadata": {},
   "source": [
    "<!-- END QUESTION -->\n",
    "\n",
    "\n",
    "<!-- START QUESTION -->\n",
    "**Question 8:**\n",
    "We went through the hassle of estimating the error in the acceptance rate by gender and plotted it as an error bar. Why is this important? (Hint: The error we estimated shows how much the acceptance rate could fluctuate if students are accepted by being drawn out of the \"bag\" of applicants by random, without us looking into the bag to see their gender.)\n",
    "\n",
    "**Question 9:** Do the two bars (for F and M) differ in height more than the sizes of their error bars? What does this mean? Is this what we would expect from an admission process devoid of gender bias? Could this difference have arisen by random chance?\n",
    "\n",
    "*Note: Your interpretation should focus on connecting the visual data from the graph to possible conclusions about UC Berkeley's admission practices. Answer may vary.*"
   ]
  },
  {
   "cell_type": "markdown",
   "metadata": {},
   "source": [
    "*Your Answer Here*"
   ]
  },
  {
   "cell_type": "markdown",
   "metadata": {},
   "source": [
    "**Instructor Solution:**\n",
    "\n",
    "- Q8: Without gender bias in the admission process, the acceptance rates for the two genders should be comparable. They don't have to be exactly equal, because even a totally random selection without regards to gender may result in a slight favour towards one gender just by chance. The error bars show how big this slight favour could be, so we may compare it to the actual difference between the acceptance rates to assess statistical significance.\n",
    "\n",
    "- Q9: The two bars differ in height far more than the sizes of their error bars. This means that the difference in acceptance rates of the two genders is statistically significance. That is, it cannot have arisen from chance alone, without any gender bias in the admission process. Without gender bias, we would expect the two bars to be of comparable heights, with a difference smaller than the size of the error bars."
   ]
  },
  {
   "cell_type": "markdown",
   "metadata": {},
   "source": [
    "<br/>\n",
    "\n",
    "<hr style=\"border: 1px solid #fdb515;\" />"
   ]
  },
  {
   "cell_type": "markdown",
   "metadata": {},
   "source": [
    "## *Discussion Portion*"
   ]
  },
  {
   "cell_type": "markdown",
   "metadata": {},
   "source": [
    "**Question 10:** Based on the findings you made in this notebook, what claims and notes would you make in a report about UC Berkeley's admission process in 1973? Attach a credence level to any claims of fact. Think (very hard) of any alternative explanations (other than intentional gender bias) that may lead to the same pattern of data that you have obtained.\n",
    "\n",
    "**Question 11:** Would you recommend any changes to the way UC Berkeley (in 1973) conducts their admission process?"
   ]
  },
  {
   "cell_type": "markdown",
   "metadata": {},
   "source": [
    "*Your Answer Here*"
   ]
  },
  {
   "cell_type": "markdown",
   "metadata": {},
   "source": [
    "**Instructor Solution:**\n",
    "\n",
    "- Q10: I would report that there exists a significant gender bias in the admission process of UC Berkeley in 1973 in favour of male applicants (99%). This bias may be due to intentional sexism on the part of the admissions office, but can also be due to an inherent gender difference in which majors the applicants apply to or in the quality of applicants.\n",
    "\n",
    "- Q11: (One possible answer) I would recommend that UC Berkeley implement a gender quota to ensure that that the acceptance rates are similar between male and female applicants. The quote may not be 50/50, but should reflect the gender ratio of the applicants. (Another possible answer) I would recommend that UC Berkeley remove the sex/gender label on all applicants, including their names, so that decisions may be made without regards to this visible piece of information."
   ]
  },
  {
   "cell_type": "markdown",
   "metadata": {},
   "source": [
    "<br/>\n",
    "\n",
    "<hr style=\"border: 1px solid #fdb515;\" />"
   ]
  },
  {
   "cell_type": "markdown",
   "metadata": {},
   "source": [
    "End of the assignment! 😄 Great job! In about 7 weeks, we will revisit this data for a more detailed analysis, and we will reach a very different conclusion! Stay tuned for Part 2!"
   ]
  }
 ],
 "metadata": {
  "kernelspec": {
   "display_name": "Python 3 (ipykernel)",
   "language": "python",
   "name": "python3"
  },
  "language_info": {
   "codemirror_mode": {
    "name": "ipython",
    "version": 3
   },
   "file_extension": ".py",
   "mimetype": "text/x-python",
   "name": "python",
   "nbconvert_exporter": "python",
   "pygments_lexer": "ipython3",
   "version": "3.9.13"
  }
 },
 "nbformat": 4,
 "nbformat_minor": 4
}
