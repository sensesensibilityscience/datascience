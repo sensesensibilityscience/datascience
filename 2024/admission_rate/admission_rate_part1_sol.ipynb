{
 "cells": [
  {
   "cell_type": "code",
   "execution_count": 1,
   "metadata": {},
   "outputs": [],
   "source": [
    "# This line imports pandas, numpy, matplotlib.pyplot, and seaborn\n",
    "%matplotlib widget\n",
    "from admission_rate import *"
   ]
  },
  {
   "cell_type": "markdown",
   "metadata": {},
   "source": [
    "<br/>\n",
    "\n",
    "<hr style=\"border: 1px solid #fdb515;\" />"
   ]
  },
  {
   "cell_type": "markdown",
   "metadata": {},
   "source": [
    "# INSTRUCTOR VERSION"
   ]
  },
  {
   "cell_type": "markdown",
   "metadata": {},
   "source": [
    "# Part 1: University-wide gender bias in 1973"
   ]
  },
  {
   "cell_type": "markdown",
   "metadata": {},
   "source": [
    "## Background"
   ]
  },
  {
   "cell_type": "markdown",
   "metadata": {},
   "source": [
    "In 1973, UC Berkeley was at risk of being sued for gender discrimination in their graduate admissions process. University records showed that they admitted 44% of their male applicants but only 35% of their female applicants. This ostensible case of bias against women turned out to be somewhat more nuanced. You will take the role of a statistician tasked to study **UC Berkeley's graduate admissions data in 1973**."
   ]
  },
  {
   "cell_type": "markdown",
   "metadata": {},
   "source": [
    "<br/>\n",
    "\n",
    "<hr style=\"border: 1px solid #fdb515;\" />"
   ]
  },
  {
   "cell_type": "markdown",
   "metadata": {},
   "source": [
    "## Personal experience"
   ]
  },
  {
   "cell_type": "markdown",
   "metadata": {},
   "source": [
    "<!-- BEGIN QUESTION -->\n",
    "Statisticians can study published data to draw their conclusions, but as students of the university, we can typically only rely on personal experience and observations to form our impression of the university.\n",
    "\n",
    "**Question 1:** Suppose it were 1973, and you were asked by a reporter to give your impression of whether the university's admission process may be biased in favour of one gender. Which pieces of information available from your personal observations would you use to make a quick assessment of gender bias (e.g. the number of male vs. female students in a typical introductory biology class)? Answers may vary.\n",
    "\n",
    "**Question 2:** What are the potential limitations of this kind of \"sensory\" information in making an accurate assessment? (Consider statistical and systematic uncertainties.) Answers may vary."
   ]
  },
  {
   "cell_type": "markdown",
   "metadata": {},
   "source": [
    "*Your Answer Here*"
   ]
  },
  {
   "cell_type": "markdown",
   "metadata": {},
   "source": [
    "**Instructor Solution:**\n",
    "\n",
    "- Q1. Gender ratio in a typical class I attend. Gender ratio in public areas on campus. Gender ratio within my major cohort.\n",
    "\n",
    "- Q2. Statistical uncertainty: Gender ratio may happen to be skewed one way or another in a class, especially a small one. Systematic uncertainty: If a major is male-dominated, it may simply be that the applicant pool is male-dominated, rather than that the admission process is biased."
   ]
  },
  {
   "cell_type": "markdown",
   "metadata": {},
   "source": [
    "## The data"
   ]
  },
  {
   "cell_type": "markdown",
   "metadata": {},
   "source": [
    "<!-- End QUESTION -->\n",
    "\n",
    "Now, you will take on the role of a statistician! Let's load Berkeley's admission data `berkeley.csv` below and show a few rows."
   ]
  },
  {
   "cell_type": "code",
   "execution_count": 2,
   "metadata": {},
   "outputs": [
    {
     "data": {
      "text/html": [
       "<div>\n",
       "<style scoped>\n",
       "    .dataframe tbody tr th:only-of-type {\n",
       "        vertical-align: middle;\n",
       "    }\n",
       "\n",
       "    .dataframe tbody tr th {\n",
       "        vertical-align: top;\n",
       "    }\n",
       "\n",
       "    .dataframe thead th {\n",
       "        text-align: right;\n",
       "    }\n",
       "</style>\n",
       "<table border=\"1\" class=\"dataframe\">\n",
       "  <thead>\n",
       "    <tr style=\"text-align: right;\">\n",
       "      <th></th>\n",
       "      <th>Year</th>\n",
       "      <th>Major</th>\n",
       "      <th>Gender</th>\n",
       "      <th>Admission</th>\n",
       "    </tr>\n",
       "  </thead>\n",
       "  <tbody>\n",
       "    <tr>\n",
       "      <th>0</th>\n",
       "      <td>1973</td>\n",
       "      <td>C</td>\n",
       "      <td>F</td>\n",
       "      <td>Rejected</td>\n",
       "    </tr>\n",
       "    <tr>\n",
       "      <th>1</th>\n",
       "      <td>1973</td>\n",
       "      <td>B</td>\n",
       "      <td>M</td>\n",
       "      <td>Accepted</td>\n",
       "    </tr>\n",
       "    <tr>\n",
       "      <th>2</th>\n",
       "      <td>1973</td>\n",
       "      <td>Other</td>\n",
       "      <td>F</td>\n",
       "      <td>Accepted</td>\n",
       "    </tr>\n",
       "    <tr>\n",
       "      <th>3</th>\n",
       "      <td>1973</td>\n",
       "      <td>Other</td>\n",
       "      <td>M</td>\n",
       "      <td>Accepted</td>\n",
       "    </tr>\n",
       "    <tr>\n",
       "      <th>4</th>\n",
       "      <td>1973</td>\n",
       "      <td>Other</td>\n",
       "      <td>M</td>\n",
       "      <td>Rejected</td>\n",
       "    </tr>\n",
       "    <tr>\n",
       "      <th>...</th>\n",
       "      <td>...</td>\n",
       "      <td>...</td>\n",
       "      <td>...</td>\n",
       "      <td>...</td>\n",
       "    </tr>\n",
       "    <tr>\n",
       "      <th>12758</th>\n",
       "      <td>1973</td>\n",
       "      <td>Other</td>\n",
       "      <td>M</td>\n",
       "      <td>Accepted</td>\n",
       "    </tr>\n",
       "    <tr>\n",
       "      <th>12759</th>\n",
       "      <td>1973</td>\n",
       "      <td>D</td>\n",
       "      <td>M</td>\n",
       "      <td>Accepted</td>\n",
       "    </tr>\n",
       "    <tr>\n",
       "      <th>12760</th>\n",
       "      <td>1973</td>\n",
       "      <td>Other</td>\n",
       "      <td>F</td>\n",
       "      <td>Rejected</td>\n",
       "    </tr>\n",
       "    <tr>\n",
       "      <th>12761</th>\n",
       "      <td>1973</td>\n",
       "      <td>Other</td>\n",
       "      <td>M</td>\n",
       "      <td>Rejected</td>\n",
       "    </tr>\n",
       "    <tr>\n",
       "      <th>12762</th>\n",
       "      <td>1973</td>\n",
       "      <td>Other</td>\n",
       "      <td>M</td>\n",
       "      <td>Accepted</td>\n",
       "    </tr>\n",
       "  </tbody>\n",
       "</table>\n",
       "<p>12763 rows × 4 columns</p>\n",
       "</div>"
      ],
      "text/plain": [
       "       Year  Major Gender Admission\n",
       "0      1973      C      F  Rejected\n",
       "1      1973      B      M  Accepted\n",
       "2      1973  Other      F  Accepted\n",
       "3      1973  Other      M  Accepted\n",
       "4      1973  Other      M  Rejected\n",
       "...     ...    ...    ...       ...\n",
       "12758  1973  Other      M  Accepted\n",
       "12759  1973      D      M  Accepted\n",
       "12760  1973  Other      F  Rejected\n",
       "12761  1973  Other      M  Rejected\n",
       "12762  1973  Other      M  Accepted\n",
       "\n",
       "[12763 rows x 4 columns]"
      ]
     },
     "execution_count": 2,
     "metadata": {},
     "output_type": "execute_result"
    }
   ],
   "source": [
    "berkeley = pd.read_csv(\"berkeley.csv\") # we load the prepared csv file containing the data into a pandas dataframe\n",
    "\n",
    "berkeley # print a few rows from the dataframe"
   ]
  },
  {
   "cell_type": "markdown",
   "metadata": {},
   "source": [
    "Each row represents a single applicant to UC Berkeley in 1973. The different columns are self-explanatory. We use single letters instead of the full names of the majors."
   ]
  },
  {
   "cell_type": "markdown",
   "metadata": {},
   "source": [
    "<!-- END QUESTION -->\n",
    "\n",
    "\n",
    "<!-- START QUESTION -->\n",
    "**Question 3:** Create a new dataframe `admission_rate_per_gender` by grouping the original dataset by gender. Your dataframe should have three columns: `Gender`, `app` (for number of applicants of each gender), and `adm` (for number of admitted students of each gender), to calculate the acceptance rate in the next question.\n",
    "\n",
    "<details open>\n",
    "\n",
    "<summary><i>Click here for hint(s)</i></summary>\n",
    "\n",
    "- <i>Hint 1: There should be only two rows for the table, one for gender F and one for gender M.</i> \n",
    "- <i>Hint 2: To count the number of rows in a dataframe satisfying a certain condition, write `np.sum(...condition...)`. For example, to count all rejected students in `berkeley`, write `np.sum(berkeley.Admission == 'Rejected')`.</i>\n",
    "- <i>Hint 3: If you need two conditions to simultaneously hold, use the `&` operator for \"and\" and `|` operator for \"or\".</i>\n",
    "- <i>Hint 4: Create a new dataframe using `pd.DataFrame.from_dict({'Column_A': [entryA1, entryA2], 'Column_B': [entryB1, entryB2], ...})`.</i>\n",
    "\n",
    "</details>\n"
   ]
  },
  {
   "cell_type": "code",
   "execution_count": null,
   "metadata": {},
   "outputs": [],
   "source": [
    "N_app_F = ... # number of female applicants\n",
    "N_app_M = ... # number of male applicants\n",
    "N_adm_F = ... # number of accepted female applicants\n",
    "N_adm_M = ... # number of accepted male applicants\n",
    "\n",
    "admission_per_gender = pd.DataFrame.from_dict({'Gender': ..., 'app': ..., 'adm': ...})\n",
    "\n",
    "admission_per_gender"
   ]
  },
  {
   "cell_type": "code",
   "execution_count": 3,
   "metadata": {},
   "outputs": [
    {
     "data": {
      "text/html": [
       "<div>\n",
       "<style scoped>\n",
       "    .dataframe tbody tr th:only-of-type {\n",
       "        vertical-align: middle;\n",
       "    }\n",
       "\n",
       "    .dataframe tbody tr th {\n",
       "        vertical-align: top;\n",
       "    }\n",
       "\n",
       "    .dataframe thead th {\n",
       "        text-align: right;\n",
       "    }\n",
       "</style>\n",
       "<table border=\"1\" class=\"dataframe\">\n",
       "  <thead>\n",
       "    <tr style=\"text-align: right;\">\n",
       "      <th></th>\n",
       "      <th>Gender</th>\n",
       "      <th>app</th>\n",
       "      <th>adm</th>\n",
       "    </tr>\n",
       "  </thead>\n",
       "  <tbody>\n",
       "    <tr>\n",
       "      <th>0</th>\n",
       "      <td>F</td>\n",
       "      <td>4321</td>\n",
       "      <td>1494</td>\n",
       "    </tr>\n",
       "    <tr>\n",
       "      <th>1</th>\n",
       "      <td>M</td>\n",
       "      <td>8442</td>\n",
       "      <td>3738</td>\n",
       "    </tr>\n",
       "  </tbody>\n",
       "</table>\n",
       "</div>"
      ],
      "text/plain": [
       "  Gender   app   adm\n",
       "0      F  4321  1494\n",
       "1      M  8442  3738"
      ]
     },
     "execution_count": 3,
     "metadata": {},
     "output_type": "execute_result"
    }
   ],
   "source": [
    "# Instructor Solution:\n",
    "\n",
    "N_app_F = np.sum(berkeley.Gender == 'F')\n",
    "N_app_M = np.sum(berkeley.Gender == 'M')\n",
    "N_adm_F = np.sum((berkeley.Gender == 'F') & (berkeley.Admission == 'Accepted'))\n",
    "N_adm_M = np.sum((berkeley.Gender == 'M') & (berkeley.Admission == 'Accepted'))\n",
    "\n",
    "admission_per_gender = pd.DataFrame.from_dict({'Gender': ['F', 'M'], 'app': [N_app_F, N_app_M], 'adm': [N_adm_F, N_adm_M]})\n",
    "\n",
    "admission_per_gender"
   ]
  },
  {
   "cell_type": "markdown",
   "metadata": {},
   "source": [
    "<!-- END QUESTION -->\n",
    "\n",
    "\n",
    "<!-- START QUESTION -->\n",
    "**Question 4:**\n",
    "Calculate the acceptance rate for each gender and save the values as a new column called `p_adm` (for percentage of applicants admitted of each gender) in `admission_per_gender`. The acceptance rate should be the number of accepted applicants divided by number of applicants, for each gender.\n",
    "\n",
    "<details open>\n",
    "\n",
    "<summary><i>Click here for hint(s)</i></summary>\n",
    "\n",
    "- *Hint 1: Add a new column to a dataframe simply by, for example, `dataframe['new_column'] = dataframe['old_column1'] + dataframe['old_column2']`*\n",
    "\n",
    "</details>\n"
   ]
  },
  {
   "cell_type": "code",
   "execution_count": null,
   "metadata": {},
   "outputs": [],
   "source": [
    "admission_per_gender['p_adm'] = ...\n",
    "\n",
    "admission_per_gender"
   ]
  },
  {
   "cell_type": "code",
   "execution_count": 4,
   "metadata": {},
   "outputs": [
    {
     "data": {
      "text/html": [
       "<div>\n",
       "<style scoped>\n",
       "    .dataframe tbody tr th:only-of-type {\n",
       "        vertical-align: middle;\n",
       "    }\n",
       "\n",
       "    .dataframe tbody tr th {\n",
       "        vertical-align: top;\n",
       "    }\n",
       "\n",
       "    .dataframe thead th {\n",
       "        text-align: right;\n",
       "    }\n",
       "</style>\n",
       "<table border=\"1\" class=\"dataframe\">\n",
       "  <thead>\n",
       "    <tr style=\"text-align: right;\">\n",
       "      <th></th>\n",
       "      <th>Gender</th>\n",
       "      <th>app</th>\n",
       "      <th>adm</th>\n",
       "      <th>p_adm</th>\n",
       "    </tr>\n",
       "  </thead>\n",
       "  <tbody>\n",
       "    <tr>\n",
       "      <th>0</th>\n",
       "      <td>F</td>\n",
       "      <td>4321</td>\n",
       "      <td>1494</td>\n",
       "      <td>0.345753</td>\n",
       "    </tr>\n",
       "    <tr>\n",
       "      <th>1</th>\n",
       "      <td>M</td>\n",
       "      <td>8442</td>\n",
       "      <td>3738</td>\n",
       "      <td>0.442786</td>\n",
       "    </tr>\n",
       "  </tbody>\n",
       "</table>\n",
       "</div>"
      ],
      "text/plain": [
       "  Gender   app   adm     p_adm\n",
       "0      F  4321  1494  0.345753\n",
       "1      M  8442  3738  0.442786"
      ]
     },
     "execution_count": 4,
     "metadata": {},
     "output_type": "execute_result"
    }
   ],
   "source": [
    "# Instructor Solution:\n",
    "\n",
    "admission_per_gender['p_adm'] = admission_per_gender.adm / admission_per_gender.app\n",
    "\n",
    "admission_per_gender"
   ]
  },
  {
   "cell_type": "markdown",
   "metadata": {},
   "source": [
    "At this point you should have reproduced the number we quoted in the beginning of the module: 44% acceptance rate for male, 35% acceptance rate for female. From *Calibration of Credence Levels*, you've learnt how important it is to attach error bars (i.e. confidence intervals) when you claim numerical figures. Let's estimate the error bars for the acceptance rates now."
   ]
  },
  {
   "cell_type": "markdown",
   "metadata": {},
   "source": [
    "## Error bars"
   ]
  },
  {
   "cell_type": "markdown",
   "metadata": {},
   "source": [
    "Most news articles that reported on these figures immediately described the admission rates between male (44%) and female (35%) applicants as significantly different from each other. However, as critical thinkers, we should first ask ourselves if this difference could have arisen from chance alone.\n",
    "\n",
    "Suppose UC Berkeley's admissions committee randomly admitted students from the applicant pool without looking at their applications. Surely, there would be no gender bias! Out of a pool of 4321 female and 8442 male applicants, let us randomly pick out 5232 students to admit. What is the acceptance rate among female applicants and among male applicants? Click the button below many times to see the result of each random draw."
   ]
  },
  {
   "cell_type": "code",
   "execution_count": 2,
   "metadata": {},
   "outputs": [
    {
     "data": {
      "application/vnd.jupyter.widget-view+json": {
       "model_id": "16a4fe11c2014d2782ab6469197e78e3",
       "version_major": 2,
       "version_minor": 0
      },
      "text/plain": [
       "Button(description='Randomly admit students!', layout=Layout(width='200px'), style=ButtonStyle(), tooltip='Ran…"
      ]
     },
     "metadata": {},
     "output_type": "display_data"
    },
    {
     "data": {
      "application/vnd.jupyter.widget-view+json": {
       "model_id": "7f31acf0af7246749aa9e70e79eb4648",
       "version_major": 2,
       "version_minor": 0
      },
      "text/plain": [
       "Output()"
      ]
     },
     "metadata": {},
     "output_type": "display_data"
    },
    {
     "data": {
      "application/vnd.jupyter.widget-view+json": {
       "model_id": "a8c4ef2bda15490c95ff367437e744c5",
       "version_major": 2,
       "version_minor": 0
      },
      "image/png": "[encoded data removed]",
      "text/html": [
       "\n",
       "            <div style=\"display: inline-block;\">\n",
       "                <div class=\"jupyter-widgets widget-label\" style=\"text-align: center;\">\n",
       "                    Figure\n",
       "                </div>\n",
       "                <img src='data:image/png;base64,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' width=400.0/>\n",
       "            </div>\n",
       "        "
      ],
      "text/plain": [
       "Canvas(toolbar=Toolbar(toolitems=[('Home', 'Reset original view', 'home', 'home'), ('Back', 'Back to previous …"
      ]
     },
     "metadata": {},
     "output_type": "display_data"
    }
   ],
   "source": [
    "plotMockAdmissionWithButton()"
   ]
  },
  {
   "cell_type": "markdown",
   "metadata": {},
   "source": [
    "**Question:** After many clicks, how big is the typical difference between male and female acceptance rates? What's the largest difference you were able to get, and after how many tries? Do you find it likely that a 44%/35% acceptance rate for male/female could have arisen by random chance, rather than a gender-based effect?"
   ]
  },
  {
   "cell_type": "markdown",
   "metadata": {},
   "source": [
    "*Your Answer Here*"
   ]
  },
  {
   "cell_type": "markdown",
   "metadata": {},
   "source": [
    "We would like to visualize this expected amount of fluctuation due to random chance as an error bar (or confidence interval) on the bar chart. This means that we need to quantify this number rather than observe it by eye. Thankfully, statistics has given us such a calculational tool, called the *standard deviation*, which roughly represents the range within which the randomly drawn value lies 68% of the time. In our case, every time we randomly pick 5232 students out of 4321 female and 8442 male applicants, the female or male acceptance rate fluctuates, but it stays within ±(standard deviation) roughly 68% of the time.\n",
    "\n",
    "For this course, you do not need to know where the following formula comes from, but we want you to be able to implement the code that calculates it.\n",
    "\n",
    "The standard deviation of the acceptance rate for female applicants, assuming applications are admitted by random without any gender consideration, is given by\n",
    "$$\\operatorname{StDev}(p_{\\mathrm{app},F}) = \\sqrt{\\frac{N_{\\mathrm{adm}}}{N_{\\mathrm{app}}^2} \\frac{1-p_{\\mathrm{app},F}}{p_{\\mathrm{app},F}}}.$$\n",
    "Here, $N_{\\mathrm{adm}}$ is the total number of admitted students, $N_{\\mathrm{app}}$ is the total number of applicants, and $p_{\\mathrm{app},F}$ is the proportion of female applicants. The standard deviation for the acceptance rate for male applicants is given by the same formula, just with $p_{\\mathrm{app},M}$ instead of $p_{\\mathrm{app},F}$. All you have to do is to use this formula to calculate the error bars.\n",
    "\n",
    "If you are curious, here is a derivation of this formula:\n",
    "<details open>\n",
    "\n",
    "<summary><i>SPOILERS</i></summary>\n",
    "\n",
    "This derivation will make sense if you have seen binomial distributions before.\n",
    "\n",
    "Let us assume an unbiased admission process to be one that accepts applicants by random, without regards to their gender. This can be thought of as tossing a weighted coin whose heads-to-tails ratio is the same as the gender ratio in our applicant pool. This is also like drawing balls by random out of a bag filled with different numbers of black and white balls, with replacement. (Rigorously, the drawing is *without* replacement, but then our formulas will include the hypergeometric function, so let's simplify things for now.)\n",
    "\n",
    "We model the acceptance of each student as a random variable following the [binomial distribution](https://en.wikipedia.org/wiki/Binomial_distribution) whose probability of accepting a female applicant is $p_{\\mathrm{app},F}$. If $N_{\\mathrm{adm}}$ students are admitted, then the expected number of admitted female students is $N_{\\mathrm{adm}}\\,p_{\\mathrm{app},F}$, and the variance in the number of admitted female students is\n",
    "$$\\operatorname{Var}(N_{\\mathrm{adm},F}) = N_{\\mathrm{adm}}\\, p_{\\mathrm{app},F}\\,(1 - p_{\\mathrm{app},F}).$$\n",
    "The variance in the acceptance rate for female students is\n",
    "$$\\operatorname{Var}\\left(\\frac{N_{\\mathrm{adm},F}}{N_{\\mathrm{app},F}}\\right) = \\frac{\\operatorname{Var}(N_{\\mathrm{adm},F})}{N_{\\mathrm{app},F}^2} = \\frac{N_{\\mathrm{adm}}\\, p_{\\mathrm{app},F}\\,(1 - p_{\\mathrm{app},F})}{N_{\\mathrm{app},F}^2} = \\frac{N_{\\mathrm{adm}}\\, p_{\\mathrm{app},F}\\,(1 - p_{\\mathrm{app},F})}{N_{\\mathrm{app}}^2\\, p_{\\mathrm{app},F}^2} = \\frac{N_{\\mathrm{adm}}}{N_{\\mathrm{app}}^2} \\frac{1-p_{\\mathrm{app},F}}{p_{\\mathrm{app},F}}.$$\n",
    "The standard deviation is then the square root of this variance.\n",
    "\n",
    "</details>"
   ]
  },
  {
   "cell_type": "markdown",
   "metadata": {},
   "source": [
    "**Question 5:**\n",
    "Add a new column to `admission_per_gender` called `err_p_adm` that stores the standard deviation of the acceptance rate for each gender, by implementing the formula above."
   ]
  },
  {
   "cell_type": "code",
   "execution_count": null,
   "metadata": {},
   "outputs": [],
   "source": [
    "N_app = ... # total number of applicants\n",
    "N_adm = ... # total number of admitted students\n",
    "\n",
    "admission_per_gender['p_app'] = ... # proportion of applicants who are M/F, as a new column\n",
    "admission_per_gender['err_p_adm'] = ... # standard deviation in the acceptance rate, implementing the formula above\n",
    "\n",
    "admission_per_gender"
   ]
  },
  {
   "cell_type": "code",
   "execution_count": 74,
   "metadata": {},
   "outputs": [
    {
     "data": {
      "text/html": [
       "<div>\n",
       "<style scoped>\n",
       "    .dataframe tbody tr th:only-of-type {\n",
       "        vertical-align: middle;\n",
       "    }\n",
       "\n",
       "    .dataframe tbody tr th {\n",
       "        vertical-align: top;\n",
       "    }\n",
       "\n",
       "    .dataframe thead th {\n",
       "        text-align: right;\n",
       "    }\n",
       "</style>\n",
       "<table border=\"1\" class=\"dataframe\">\n",
       "  <thead>\n",
       "    <tr style=\"text-align: right;\">\n",
       "      <th></th>\n",
       "      <th>Gender</th>\n",
       "      <th>app</th>\n",
       "      <th>adm</th>\n",
       "      <th>p_adm</th>\n",
       "      <th>p_app</th>\n",
       "      <th>err_p_adm</th>\n",
       "    </tr>\n",
       "  </thead>\n",
       "  <tbody>\n",
       "    <tr>\n",
       "      <th>0</th>\n",
       "      <td>F</td>\n",
       "      <td>4321</td>\n",
       "      <td>1494</td>\n",
       "      <td>0.345753</td>\n",
       "      <td>0.338557</td>\n",
       "      <td>0.007922</td>\n",
       "    </tr>\n",
       "    <tr>\n",
       "      <th>1</th>\n",
       "      <td>M</td>\n",
       "      <td>8442</td>\n",
       "      <td>3738</td>\n",
       "      <td>0.442786</td>\n",
       "      <td>0.661443</td>\n",
       "      <td>0.004055</td>\n",
       "    </tr>\n",
       "  </tbody>\n",
       "</table>\n",
       "</div>"
      ],
      "text/plain": [
       "  Gender   app   adm     p_adm     p_app  err_p_adm\n",
       "0      F  4321  1494  0.345753  0.338557   0.007922\n",
       "1      M  8442  3738  0.442786  0.661443   0.004055"
      ]
     },
     "execution_count": 74,
     "metadata": {},
     "output_type": "execute_result"
    }
   ],
   "source": [
    "# Instructor Solution:\n",
    "\n",
    "N_app = admission_per_gender.app.sum()\n",
    "N_adm = admission_per_gender.adm.sum()\n",
    "\n",
    "admission_per_gender['p_app'] = admission_per_gender.app / N_app\n",
    "admission_per_gender['err_p_adm'] = np.sqrt(N_adm / N_app**2 * (1-admission_per_gender.p_app) / admission_per_gender.p_app)\n",
    "\n",
    "admission_per_gender"
   ]
  },
  {
   "cell_type": "markdown",
   "metadata": {},
   "source": [
    "You should obtain here that the typical fluctuation in acceptance rate is ±0.79% for female and ±0.41% for male. These will serve as our error bars."
   ]
  },
  {
   "cell_type": "markdown",
   "metadata": {},
   "source": [
    "<!-- END QUESTION -->\n",
    "\n",
    "\n",
    "<!-- START QUESTION -->\n",
    "**Question 7:** Using the updated `admission_per_gender` constructed in **Question 6**, create a `bar` plot showing each gender's admission rate together with its error bar. Documentation to plot a bar graph in `matplotlib` is linked [here](https://matplotlib.org/stable/api/_as_gen/matplotlib.pyplot.bar.html).\n",
    "* For this question, you can use any Python visualization method, including `seaborn` or `matplotlib` imported above. \n",
    "* Don't forget about the error bars! `bar`'s `yerr` parameter may be useful here!\n",
    "* Set `capsize` parameter equal to 5."
   ]
  },
  {
   "cell_type": "code",
   "execution_count": null,
   "metadata": {},
   "outputs": [],
   "source": [
    "plt.bar(___, ___, yerr=___, capsize=5) # fill in the appropriate arguments\n",
    "plt.ylabel('Acceptance rate within gender')"
   ]
  },
  {
   "cell_type": "code",
   "execution_count": 14,
   "metadata": {},
   "outputs": [
    {
     "data": {
      "image/png": "[encoded data removed]",
      "text/plain": [
       "<Figure size 640x480 with 1 Axes>"
      ]
     },
     "metadata": {},
     "output_type": "display_data"
    }
   ],
   "source": [
    "# Instructor Solution:\n",
    "\n",
    "plt.bar(admission_per_gender.Gender, admission_per_gender.p_adm, yerr=admission_per_gender.err_p_adm, capsize=5)\n",
    "plt.ylabel('Acceptance rate within gender')"
   ]
  },
  {
   "cell_type": "markdown",
   "metadata": {},
   "source": [
    "<!-- END QUESTION -->\n",
    "\n",
    "\n",
    "<!-- START QUESTION -->\n",
    "**Question 8:**\n",
    "We went through the hassle of estimating the error in the acceptance rate by gender and plotted it as an error bar. Why is this important? (Hint: The error we estimated shows how much the acceptance rate could fluctuate if students are accepted by being drawn out of the \"bag\" of applicants by random, without us looking into the bag to see their gender.)\n",
    "\n",
    "**Question 9:** Do the two bars (for F and M) differ in height more than the sizes of their error bars? What does this mean? Is this what we would expect from an admission process devoid of gender bias? Could this difference have arisen by random chance?\n",
    "\n",
    "*Note: Your interpretation should focus on connecting the visual data from the graph to possible conclusions about UC Berkeley's admission practices. Answer may vary.*"
   ]
  },
  {
   "cell_type": "markdown",
   "metadata": {},
   "source": [
    "*Your Answer Here*"
   ]
  },
  {
   "cell_type": "markdown",
   "metadata": {},
   "source": [
    "**Instructor Solution:**\n",
    "\n",
    "- Q8: Without gender bias in the admission process, the acceptance rates for the two genders should be comparable. They don't have to be exactly equal, because even a totally random selection without regards to gender may result in a slight favour towards one gender just by chance. The error bars show how big this slight favour could be, so we may compare it to the actual difference between the acceptance rates to assess statistical significance.\n",
    "\n",
    "- Q9: The two bars differ in height far more than the sizes of their error bars. This means that the difference in acceptance rates of the two genders is statistically significance. That is, it cannot have arisen from chance alone, without any gender bias in the admission process. Without gender bias, we would expect the two bars to be of comparable heights, with a difference smaller than the size of the error bars."
   ]
  },
  {
   "cell_type": "markdown",
   "metadata": {},
   "source": [
    "<br/>\n",
    "\n",
    "<hr style=\"border: 1px solid #fdb515;\" />"
   ]
  },
  {
   "cell_type": "markdown",
   "metadata": {},
   "source": [
    "## *Discussion Portion*"
   ]
  },
  {
   "cell_type": "markdown",
   "metadata": {},
   "source": [
    "**Question 10:** Based on the findings you made in this notebook, what claims and notes would you make in a report about UC Berkeley's admission process in 1973? Attach a credence level to any claims of fact. Think (very hard) of any alternative explanations (other than intentional gender bias) that may lead to the same pattern of data that you have obtained.\n",
    "\n",
    "**Question 11:** Would you recommend any changes to the way UC Berkeley (in 1973) conducts their admission process?"
   ]
  },
  {
   "cell_type": "markdown",
   "metadata": {},
   "source": [
    "*Your Answer Here*"
   ]
  },
  {
   "cell_type": "markdown",
   "metadata": {},
   "source": [
    "**Instructor Solution:**\n",
    "\n",
    "- Q10: I would report that there exists a significant gender bias in the admission process of UC Berkeley in 1973 in favour of male applicants (99%). This bias may be due to intentional sexism on the part of the admissions office, but can also be due to an inherent gender difference in which majors the applicants apply to or in the quality of applicants.\n",
    "\n",
    "- Q11: (One possible answer) I would recommend that UC Berkeley implement a gender quota to ensure that that the acceptance rates are similar between male and female applicants. The quote may not be 50/50, but should reflect the gender ratio of the applicants. (Another possible answer) I would recommend that UC Berkeley remove the sex/gender label on all applicants, including their names, so that decisions may be made without regards to this visible piece of information."
   ]
  },
  {
   "cell_type": "markdown",
   "metadata": {},
   "source": [
    "<br/>\n",
    "\n",
    "<hr style=\"border: 1px solid #fdb515;\" />"
   ]
  },
  {
   "cell_type": "markdown",
   "metadata": {},
   "source": [
    "End of the assignment! 😄 Great job! In about 7 weeks, we will revisit this data for a more detailed analysis, and we will reach a very different conclusion! Stay tuned for Part 2!"
   ]
  }
 ],
 "metadata": {
  "kernelspec": {
   "display_name": "Python 3 (ipykernel)",
   "language": "python",
   "name": "python3"
  },
  "language_info": {
   "codemirror_mode": {
    "name": "ipython",
    "version": 3
   },
   "file_extension": ".py",
   "mimetype": "text/x-python",
   "name": "python",
   "nbconvert_exporter": "python",
   "pygments_lexer": "ipython3",
   "version": "3.9.6"
  }
 },
 "nbformat": 4,
 "nbformat_minor": 4
}
