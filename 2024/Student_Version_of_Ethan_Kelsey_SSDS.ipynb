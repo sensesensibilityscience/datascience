{
  "nbformat": 4,
  "nbformat_minor": 0,
  "metadata": {
    "colab": {
      "provenance": []
    },
    "kernelspec": {
      "name": "python3",
      "display_name": "Python 3"
    },
    "language_info": {
      "name": "python"
    },
    "widgets": {
      "application/vnd.jupyter.widget-state+json": {
        "e5ae2af4e51e479489272c555432acf2": {
          "model_module": "@jupyter-widgets/controls",
          "model_name": "VBoxModel",
          "model_module_version": "1.5.0",
          "state": {
            "_dom_classes": [
              "widget-interact"
            ],
            "_model_module": "@jupyter-widgets/controls",
            "_model_module_version": "1.5.0",
            "_model_name": "VBoxModel",
            "_view_count": null,
            "_view_module": "@jupyter-widgets/controls",
            "_view_module_version": "1.5.0",
            "_view_name": "VBoxView",
            "box_style": "",
            "children": [
              "IPY_MODEL_bbb616b85cf7467b99b3700b52ec174e",
              "IPY_MODEL_042504470d5748deb446821027705f8e"
            ],
            "layout": "IPY_MODEL_8764f53741e441a7abe00cd1309c46d8"
          }
        },
        "bbb616b85cf7467b99b3700b52ec174e": {
          "model_module": "@jupyter-widgets/controls",
          "model_name": "IntSliderModel",
          "model_module_version": "1.5.0",
          "state": {
            "_dom_classes": [],
            "_model_module": "@jupyter-widgets/controls",
            "_model_module_version": "1.5.0",
            "_model_name": "IntSliderModel",
            "_view_count": null,
            "_view_module": "@jupyter-widgets/controls",
            "_view_module_version": "1.5.0",
            "_view_name": "IntSliderView",
            "continuous_update": true,
            "description": "threshold",
            "description_tooltip": null,
            "disabled": false,
            "layout": "IPY_MODEL_6b0126c1d7d04e39b1b78473402477ea",
            "max": 12,
            "min": -4,
            "orientation": "horizontal",
            "readout": true,
            "readout_format": "d",
            "step": 1,
            "style": "IPY_MODEL_9c3f5e60d8a140c79e1b2e281a7e8f84",
            "value": 4
          }
        },
        "042504470d5748deb446821027705f8e": {
          "model_module": "@jupyter-widgets/output",
          "model_name": "OutputModel",
          "model_module_version": "1.0.0",
          "state": {
            "_dom_classes": [],
            "_model_module": "@jupyter-widgets/output",
            "_model_module_version": "1.0.0",
            "_model_name": "OutputModel",
            "_view_count": null,
            "_view_module": "@jupyter-widgets/output",
            "_view_module_version": "1.0.0",
            "_view_name": "OutputView",
            "layout": "IPY_MODEL_3d121e65fb7a4b928b45d6465c97c779",
            "msg_id": "",
            "outputs": [
              {
                "output_type": "stream",
                "name": "stdout",
                "text": [
                  "Accuracy:  0.6016142196426952\n",
                  "False Positive Rate:  0.3040718237054503\n",
                  "False Negative Rate:  0.09431395665185453\n"
                ]
              },
              {
                "output_type": "display_data",
                "data": {
                  "text/plain": "[0.6016142196426952, 0.3040718237054503, 0.09431395665185453]"
                },
                "metadata": {}
              }
            ]
          }
        },
        "8764f53741e441a7abe00cd1309c46d8": {
          "model_module": "@jupyter-widgets/base",
          "model_name": "LayoutModel",
          "model_module_version": "1.2.0",
          "state": {
            "_model_module": "@jupyter-widgets/base",
            "_model_module_version": "1.2.0",
            "_model_name": "LayoutModel",
            "_view_count": null,
            "_view_module": "@jupyter-widgets/base",
            "_view_module_version": "1.2.0",
            "_view_name": "LayoutView",
            "align_content": null,
            "align_items": null,
            "align_self": null,
            "border": null,
            "bottom": null,
            "display": null,
            "flex": null,
            "flex_flow": null,
            "grid_area": null,
            "grid_auto_columns": null,
            "grid_auto_flow": null,
            "grid_auto_rows": null,
            "grid_column": null,
            "grid_gap": null,
            "grid_row": null,
            "grid_template_areas": null,
            "grid_template_columns": null,
            "grid_template_rows": null,
            "height": null,
            "justify_content": null,
            "justify_items": null,
            "left": null,
            "margin": null,
            "max_height": null,
            "max_width": null,
            "min_height": null,
            "min_width": null,
            "object_fit": null,
            "object_position": null,
            "order": null,
            "overflow": null,
            "overflow_x": null,
            "overflow_y": null,
            "padding": null,
            "right": null,
            "top": null,
            "visibility": null,
            "width": null
          }
        },
        "6b0126c1d7d04e39b1b78473402477ea": {
          "model_module": "@jupyter-widgets/base",
          "model_name": "LayoutModel",
          "model_module_version": "1.2.0",
          "state": {
            "_model_module": "@jupyter-widgets/base",
            "_model_module_version": "1.2.0",
            "_model_name": "LayoutModel",
            "_view_count": null,
            "_view_module": "@jupyter-widgets/base",
            "_view_module_version": "1.2.0",
            "_view_name": "LayoutView",
            "align_content": null,
            "align_items": null,
            "align_self": null,
            "border": null,
            "bottom": null,
            "display": null,
            "flex": null,
            "flex_flow": null,
            "grid_area": null,
            "grid_auto_columns": null,
            "grid_auto_flow": null,
            "grid_auto_rows": null,
            "grid_column": null,
            "grid_gap": null,
            "grid_row": null,
            "grid_template_areas": null,
            "grid_template_columns": null,
            "grid_template_rows": null,
            "height": null,
            "justify_content": null,
            "justify_items": null,
            "left": null,
            "margin": null,
            "max_height": null,
            "max_width": null,
            "min_height": null,
            "min_width": null,
            "object_fit": null,
            "object_position": null,
            "order": null,
            "overflow": null,
            "overflow_x": null,
            "overflow_y": null,
            "padding": null,
            "right": null,
            "top": null,
            "visibility": null,
            "width": null
          }
        },
        "9c3f5e60d8a140c79e1b2e281a7e8f84": {
          "model_module": "@jupyter-widgets/controls",
          "model_name": "SliderStyleModel",
          "model_module_version": "1.5.0",
          "state": {
            "_model_module": "@jupyter-widgets/controls",
            "_model_module_version": "1.5.0",
            "_model_name": "SliderStyleModel",
            "_view_count": null,
            "_view_module": "@jupyter-widgets/base",
            "_view_module_version": "1.2.0",
            "_view_name": "StyleView",
            "description_width": "",
            "handle_color": null
          }
        },
        "3d121e65fb7a4b928b45d6465c97c779": {
          "model_module": "@jupyter-widgets/base",
          "model_name": "LayoutModel",
          "model_module_version": "1.2.0",
          "state": {
            "_model_module": "@jupyter-widgets/base",
            "_model_module_version": "1.2.0",
            "_model_name": "LayoutModel",
            "_view_count": null,
            "_view_module": "@jupyter-widgets/base",
            "_view_module_version": "1.2.0",
            "_view_name": "LayoutView",
            "align_content": null,
            "align_items": null,
            "align_self": null,
            "border": null,
            "bottom": null,
            "display": null,
            "flex": null,
            "flex_flow": null,
            "grid_area": null,
            "grid_auto_columns": null,
            "grid_auto_flow": null,
            "grid_auto_rows": null,
            "grid_column": null,
            "grid_gap": null,
            "grid_row": null,
            "grid_template_areas": null,
            "grid_template_columns": null,
            "grid_template_rows": null,
            "height": null,
            "justify_content": null,
            "justify_items": null,
            "left": null,
            "margin": null,
            "max_height": null,
            "max_width": null,
            "min_height": null,
            "min_width": null,
            "object_fit": null,
            "object_position": null,
            "order": null,
            "overflow": null,
            "overflow_x": null,
            "overflow_y": null,
            "padding": null,
            "right": null,
            "top": null,
            "visibility": null,
            "width": null
          }
        }
      }
    }
  },
  "cells": [
    {
      "cell_type": "code",
      "execution_count": null,
      "metadata": {
        "id": "bKa_yNWPDWVc",
        "colab": {
          "base_uri": "https://localhost:8080/"
        },
        "outputId": "7544c3bf-7a51-4654-87e0-b2dad6f1b6b3"
      },
      "outputs": [
        {
          "output_type": "stream",
          "name": "stdout",
          "text": [
            "Cloning into 'compas-analysis'...\n",
            "remote: Enumerating objects: 31, done.\u001b[K\n",
            "remote: Total 31 (delta 0), reused 0 (delta 0), pack-reused 31\u001b[K\n",
            "Receiving objects: 100% (31/31), 15.24 MiB | 11.40 MiB/s, done.\n",
            "Resolving deltas: 100% (14/14), done.\n",
            "Updating files: 100% (12/12), done.\n"
          ]
        }
      ],
      "source": [
        "#hide this cell when in use\n",
        "import pandas as pd\n",
        "import numpy as np\n",
        "import seaborn as sns\n",
        "import matplotlib.pyplot as plt\n",
        "!git clone https://github.com/propublica/compas-analysis/\n",
        "from datetime import datetime\n",
        "from sklearn.model_selection import train_test_split"
      ]
    },
    {
      "cell_type": "markdown",
      "source": [
        "Import necessary datasets"
      ],
      "metadata": {
        "id": "QKHv1xB5D9w7"
      }
    },
    {
      "cell_type": "code",
      "source": [
        "two_years_v = pd.read_csv('./compas-analysis/compas-scores-two-years-violent.csv')\n",
        "two_years = pd.read_csv('./compas-analysis/compas-scores-two-years.csv')\n",
        "compas = pd.read_csv('./compas-analysis/compas-scores.csv')\n",
        "\n",
        "#convert date of birth column to age, which is not relevant for including in a separate question\n",
        "dated = pd.to_datetime(compas['dob'], format=\"%Y-%m-%d\")\n",
        "year = pd.DatetimeIndex(compas['dob']).year\n",
        "compas['age'] = 2024 - year\n",
        "\n",
        "#N/A columns removed without a question for that\n",
        "compas = compas[compas.decile_score != -1]\n",
        "compas_simple = compas[['id', 'name', 'sex', 'age', 'priors_count', 'decile_score', 'score_text']].set_index('id')\n",
        "compas_full = compas[compas.is_recid != -1][['id', 'name', 'sex', 'age', 'priors_count', 'race', 'decile_score', 'score_text', 'is_recid']].set_index('id')\n",
        "compas_total = compas[compas.is_recid != -1][['id', 'name', 'sex', 'age', 'priors_count', 'race', 'decile_score', 'score_text', 'is_recid', 'race']].set_index('id')"
      ],
      "metadata": {
        "id": "isk3UP2IDuvm"
      },
      "execution_count": null,
      "outputs": []
    },
    {
      "cell_type": "markdown",
      "source": [
        "# Introduction\n",
        "\n",
        "##### Northpointe, a **for-profit company**, has created a model that generates '**risk scores**' for criminals, representing the **likelihood of reoffending**, based on several factors. You have decided to analyze their data for accuracy. Below is a table which contains defendent information. The 'decile_score' column is a number between 1-9 that represents the algorithm's output, and the 'score_text' column corresponds to a low, medium, or high score. Both the 'decile_score' and 'score_text' columns are predicted by the algorithm.\n",
        "\n",
        "#[TO DO] Raw scores coming soon! (Join via the database and possibly normalize)"
      ],
      "metadata": {
        "id": "4yJoHHilHxor"
      }
    },
    {
      "cell_type": "code",
      "source": [
        "compas_simple.head(5)"
      ],
      "metadata": {
        "id": "OIWCC565fWqL",
        "colab": {
          "base_uri": "https://localhost:8080/",
          "height": 237
        },
        "outputId": "27816db4-aad5-49a7-a11a-d11f56666e7c"
      },
      "execution_count": null,
      "outputs": [
        {
          "output_type": "execute_result",
          "data": {
            "text/plain": [
              "                name   sex  age  priors_count  decile_score score_text\n",
              "id                                                                    \n",
              "1   miguel hernandez  Male   77             0             1        Low\n",
              "2       michael ryan  Male   39             0             5     Medium\n",
              "3        kevon dixon  Male   42             0             3        Low\n",
              "4           ed philo  Male   33             4             4        Low\n",
              "5        marcu brown  Male   31             1             8       High"
            ],
            "text/html": [
              "\n",
              "  <div id=\"df-8712160f-2d6b-418a-83dc-fee05a1951c6\" class=\"colab-df-container\">\n",
              "    <div>\n",
              "<style scoped>\n",
              "    .dataframe tbody tr th:only-of-type {\n",
              "        vertical-align: middle;\n",
              "    }\n",
              "\n",
              "    .dataframe tbody tr th {\n",
              "        vertical-align: top;\n",
              "    }\n",
              "\n",
              "    .dataframe thead th {\n",
              "        text-align: right;\n",
              "    }\n",
              "</style>\n",
              "<table border=\"1\" class=\"dataframe\">\n",
              "  <thead>\n",
              "    <tr style=\"text-align: right;\">\n",
              "      <th></th>\n",
              "      <th>name</th>\n",
              "      <th>sex</th>\n",
              "      <th>age</th>\n",
              "      <th>priors_count</th>\n",
              "      <th>decile_score</th>\n",
              "      <th>score_text</th>\n",
              "    </tr>\n",
              "    <tr>\n",
              "      <th>id</th>\n",
              "      <th></th>\n",
              "      <th></th>\n",
              "      <th></th>\n",
              "      <th></th>\n",
              "      <th></th>\n",
              "      <th></th>\n",
              "    </tr>\n",
              "  </thead>\n",
              "  <tbody>\n",
              "    <tr>\n",
              "      <th>1</th>\n",
              "      <td>miguel hernandez</td>\n",
              "      <td>Male</td>\n",
              "      <td>77</td>\n",
              "      <td>0</td>\n",
              "      <td>1</td>\n",
              "      <td>Low</td>\n",
              "    </tr>\n",
              "    <tr>\n",
              "      <th>2</th>\n",
              "      <td>michael ryan</td>\n",
              "      <td>Male</td>\n",
              "      <td>39</td>\n",
              "      <td>0</td>\n",
              "      <td>5</td>\n",
              "      <td>Medium</td>\n",
              "    </tr>\n",
              "    <tr>\n",
              "      <th>3</th>\n",
              "      <td>kevon dixon</td>\n",
              "      <td>Male</td>\n",
              "      <td>42</td>\n",
              "      <td>0</td>\n",
              "      <td>3</td>\n",
              "      <td>Low</td>\n",
              "    </tr>\n",
              "    <tr>\n",
              "      <th>4</th>\n",
              "      <td>ed philo</td>\n",
              "      <td>Male</td>\n",
              "      <td>33</td>\n",
              "      <td>4</td>\n",
              "      <td>4</td>\n",
              "      <td>Low</td>\n",
              "    </tr>\n",
              "    <tr>\n",
              "      <th>5</th>\n",
              "      <td>marcu brown</td>\n",
              "      <td>Male</td>\n",
              "      <td>31</td>\n",
              "      <td>1</td>\n",
              "      <td>8</td>\n",
              "      <td>High</td>\n",
              "    </tr>\n",
              "  </tbody>\n",
              "</table>\n",
              "</div>\n",
              "    <div class=\"colab-df-buttons\">\n",
              "\n",
              "  <div class=\"colab-df-container\">\n",
              "    <button class=\"colab-df-convert\" onclick=\"convertToInteractive('df-8712160f-2d6b-418a-83dc-fee05a1951c6')\"\n",
              "            title=\"Convert this dataframe to an interactive table.\"\n",
              "            style=\"display:none;\">\n",
              "\n",
              "  <svg xmlns=\"http://www.w3.org/2000/svg\" height=\"24px\" viewBox=\"0 -960 960 960\">\n",
              "    <path d=\"M120-120v-720h720v720H120Zm60-500h600v-160H180v160Zm220 220h160v-160H400v160Zm0 220h160v-160H400v160ZM180-400h160v-160H180v160Zm440 0h160v-160H620v160ZM180-180h160v-160H180v160Zm440 0h160v-160H620v160Z\"/>\n",
              "  </svg>\n",
              "    </button>\n",
              "\n",
              "  <style>\n",
              "    .colab-df-container {\n",
              "      display:flex;\n",
              "      gap: 12px;\n",
              "    }\n",
              "\n",
              "    .colab-df-convert {\n",
              "      background-color: #E8F0FE;\n",
              "      border: none;\n",
              "      border-radius: 50%;\n",
              "      cursor: pointer;\n",
              "      display: none;\n",
              "      fill: #1967D2;\n",
              "      height: 32px;\n",
              "      padding: 0 0 0 0;\n",
              "      width: 32px;\n",
              "    }\n",
              "\n",
              "    .colab-df-convert:hover {\n",
              "      background-color: #E2EBFA;\n",
              "      box-shadow: 0px 1px 2px rgba(60, 64, 67, 0.3), 0px 1px 3px 1px rgba(60, 64, 67, 0.15);\n",
              "      fill: #174EA6;\n",
              "    }\n",
              "\n",
              "    .colab-df-buttons div {\n",
              "      margin-bottom: 4px;\n",
              "    }\n",
              "\n",
              "    [theme=dark] .colab-df-convert {\n",
              "      background-color: #3B4455;\n",
              "      fill: #D2E3FC;\n",
              "    }\n",
              "\n",
              "    [theme=dark] .colab-df-convert:hover {\n",
              "      background-color: #434B5C;\n",
              "      box-shadow: 0px 1px 3px 1px rgba(0, 0, 0, 0.15);\n",
              "      filter: drop-shadow(0px 1px 2px rgba(0, 0, 0, 0.3));\n",
              "      fill: #FFFFFF;\n",
              "    }\n",
              "  </style>\n",
              "\n",
              "    <script>\n",
              "      const buttonEl =\n",
              "        document.querySelector('#df-8712160f-2d6b-418a-83dc-fee05a1951c6 button.colab-df-convert');\n",
              "      buttonEl.style.display =\n",
              "        google.colab.kernel.accessAllowed ? 'block' : 'none';\n",
              "\n",
              "      async function convertToInteractive(key) {\n",
              "        const element = document.querySelector('#df-8712160f-2d6b-418a-83dc-fee05a1951c6');\n",
              "        const dataTable =\n",
              "          await google.colab.kernel.invokeFunction('convertToInteractive',\n",
              "                                                    [key], {});\n",
              "        if (!dataTable) return;\n",
              "\n",
              "        const docLinkHtml = 'Like what you see? Visit the ' +\n",
              "          '<a target=\"_blank\" href=https://colab.research.google.com/notebooks/data_table.ipynb>data table notebook</a>'\n",
              "          + ' to learn more about interactive tables.';\n",
              "        element.innerHTML = '';\n",
              "        dataTable['output_type'] = 'display_data';\n",
              "        await google.colab.output.renderOutput(dataTable, element);\n",
              "        const docLink = document.createElement('div');\n",
              "        docLink.innerHTML = docLinkHtml;\n",
              "        element.appendChild(docLink);\n",
              "      }\n",
              "    </script>\n",
              "  </div>\n",
              "\n",
              "\n",
              "<div id=\"df-e59a0ba3-cf76-425e-b8e6-d0fb85fd6ed1\">\n",
              "  <button class=\"colab-df-quickchart\" onclick=\"quickchart('df-e59a0ba3-cf76-425e-b8e6-d0fb85fd6ed1')\"\n",
              "            title=\"Suggest charts\"\n",
              "            style=\"display:none;\">\n",
              "\n",
              "<svg xmlns=\"http://www.w3.org/2000/svg\" height=\"24px\"viewBox=\"0 0 24 24\"\n",
              "     width=\"24px\">\n",
              "    <g>\n",
              "        <path d=\"M19 3H5c-1.1 0-2 .9-2 2v14c0 1.1.9 2 2 2h14c1.1 0 2-.9 2-2V5c0-1.1-.9-2-2-2zM9 17H7v-7h2v7zm4 0h-2V7h2v10zm4 0h-2v-4h2v4z\"/>\n",
              "    </g>\n",
              "</svg>\n",
              "  </button>\n",
              "\n",
              "<style>\n",
              "  .colab-df-quickchart {\n",
              "      --bg-color: #E8F0FE;\n",
              "      --fill-color: #1967D2;\n",
              "      --hover-bg-color: #E2EBFA;\n",
              "      --hover-fill-color: #174EA6;\n",
              "      --disabled-fill-color: #AAA;\n",
              "      --disabled-bg-color: #DDD;\n",
              "  }\n",
              "\n",
              "  [theme=dark] .colab-df-quickchart {\n",
              "      --bg-color: #3B4455;\n",
              "      --fill-color: #D2E3FC;\n",
              "      --hover-bg-color: #434B5C;\n",
              "      --hover-fill-color: #FFFFFF;\n",
              "      --disabled-bg-color: #3B4455;\n",
              "      --disabled-fill-color: #666;\n",
              "  }\n",
              "\n",
              "  .colab-df-quickchart {\n",
              "    background-color: var(--bg-color);\n",
              "    border: none;\n",
              "    border-radius: 50%;\n",
              "    cursor: pointer;\n",
              "    display: none;\n",
              "    fill: var(--fill-color);\n",
              "    height: 32px;\n",
              "    padding: 0;\n",
              "    width: 32px;\n",
              "  }\n",
              "\n",
              "  .colab-df-quickchart:hover {\n",
              "    background-color: var(--hover-bg-color);\n",
              "    box-shadow: 0 1px 2px rgba(60, 64, 67, 0.3), 0 1px 3px 1px rgba(60, 64, 67, 0.15);\n",
              "    fill: var(--button-hover-fill-color);\n",
              "  }\n",
              "\n",
              "  .colab-df-quickchart-complete:disabled,\n",
              "  .colab-df-quickchart-complete:disabled:hover {\n",
              "    background-color: var(--disabled-bg-color);\n",
              "    fill: var(--disabled-fill-color);\n",
              "    box-shadow: none;\n",
              "  }\n",
              "\n",
              "  .colab-df-spinner {\n",
              "    border: 2px solid var(--fill-color);\n",
              "    border-color: transparent;\n",
              "    border-bottom-color: var(--fill-color);\n",
              "    animation:\n",
              "      spin 1s steps(1) infinite;\n",
              "  }\n",
              "\n",
              "  @keyframes spin {\n",
              "    0% {\n",
              "      border-color: transparent;\n",
              "      border-bottom-color: var(--fill-color);\n",
              "      border-left-color: var(--fill-color);\n",
              "    }\n",
              "    20% {\n",
              "      border-color: transparent;\n",
              "      border-left-color: var(--fill-color);\n",
              "      border-top-color: var(--fill-color);\n",
              "    }\n",
              "    30% {\n",
              "      border-color: transparent;\n",
              "      border-left-color: var(--fill-color);\n",
              "      border-top-color: var(--fill-color);\n",
              "      border-right-color: var(--fill-color);\n",
              "    }\n",
              "    40% {\n",
              "      border-color: transparent;\n",
              "      border-right-color: var(--fill-color);\n",
              "      border-top-color: var(--fill-color);\n",
              "    }\n",
              "    60% {\n",
              "      border-color: transparent;\n",
              "      border-right-color: var(--fill-color);\n",
              "    }\n",
              "    80% {\n",
              "      border-color: transparent;\n",
              "      border-right-color: var(--fill-color);\n",
              "      border-bottom-color: var(--fill-color);\n",
              "    }\n",
              "    90% {\n",
              "      border-color: transparent;\n",
              "      border-bottom-color: var(--fill-color);\n",
              "    }\n",
              "  }\n",
              "</style>\n",
              "\n",
              "  <script>\n",
              "    async function quickchart(key) {\n",
              "      const quickchartButtonEl =\n",
              "        document.querySelector('#' + key + ' button');\n",
              "      quickchartButtonEl.disabled = true;  // To prevent multiple clicks.\n",
              "      quickchartButtonEl.classList.add('colab-df-spinner');\n",
              "      try {\n",
              "        const charts = await google.colab.kernel.invokeFunction(\n",
              "            'suggestCharts', [key], {});\n",
              "      } catch (error) {\n",
              "        console.error('Error during call to suggestCharts:', error);\n",
              "      }\n",
              "      quickchartButtonEl.classList.remove('colab-df-spinner');\n",
              "      quickchartButtonEl.classList.add('colab-df-quickchart-complete');\n",
              "    }\n",
              "    (() => {\n",
              "      let quickchartButtonEl =\n",
              "        document.querySelector('#df-e59a0ba3-cf76-425e-b8e6-d0fb85fd6ed1 button');\n",
              "      quickchartButtonEl.style.display =\n",
              "        google.colab.kernel.accessAllowed ? 'block' : 'none';\n",
              "    })();\n",
              "  </script>\n",
              "</div>\n",
              "    </div>\n",
              "  </div>\n"
            ],
            "application/vnd.google.colaboratory.intrinsic+json": {
              "type": "dataframe",
              "variable_name": "compas_simple",
              "summary": "{\n  \"name\": \"compas_simple\",\n  \"rows\": 11742,\n  \"fields\": [\n    {\n      \"column\": \"id\",\n      \"properties\": {\n        \"dtype\": \"number\",\n        \"std\": 3393,\n        \"min\": 1,\n        \"max\": 11757,\n        \"num_unique_values\": 11742,\n        \"samples\": [\n          1660,\n          9776,\n          11716\n        ],\n        \"semantic_type\": \"\",\n        \"description\": \"\"\n      }\n    },\n    {\n      \"column\": \"name\",\n      \"properties\": {\n        \"dtype\": \"string\",\n        \"num_unique_values\": 11569,\n        \"samples\": [\n          \"qushondra fields\",\n          \"genesie homes\",\n          \"patrick niesterczuk\"\n        ],\n        \"semantic_type\": \"\",\n        \"description\": \"\"\n      }\n    },\n    {\n      \"column\": \"sex\",\n      \"properties\": {\n        \"dtype\": \"category\",\n        \"num_unique_values\": 2,\n        \"samples\": [\n          \"Female\",\n          \"Male\"\n        ],\n        \"semantic_type\": \"\",\n        \"description\": \"\"\n      }\n    },\n    {\n      \"column\": \"age\",\n      \"properties\": {\n        \"dtype\": \"int32\",\n        \"num_unique_values\": 68,\n        \"samples\": [\n          67,\n          45\n        ],\n        \"semantic_type\": \"\",\n        \"description\": \"\"\n      }\n    },\n    {\n      \"column\": \"priors_count\",\n      \"properties\": {\n        \"dtype\": \"number\",\n        \"std\": 4,\n        \"min\": 0,\n        \"max\": 43,\n        \"num_unique_values\": 39,\n        \"samples\": [\n          26,\n          35\n        ],\n        \"semantic_type\": \"\",\n        \"description\": \"\"\n      }\n    },\n    {\n      \"column\": \"decile_score\",\n      \"properties\": {\n        \"dtype\": \"number\",\n        \"std\": 2,\n        \"min\": 1,\n        \"max\": 10,\n        \"num_unique_values\": 10,\n        \"samples\": [\n          2,\n          5\n        ],\n        \"semantic_type\": \"\",\n        \"description\": \"\"\n      }\n    },\n    {\n      \"column\": \"score_text\",\n      \"properties\": {\n        \"dtype\": \"category\",\n        \"num_unique_values\": 3,\n        \"samples\": [\n          \"Low\",\n          \"Medium\"\n        ],\n        \"semantic_type\": \"\",\n        \"description\": \"\"\n      }\n    }\n  ]\n}"
            }
          },
          "metadata": {},
          "execution_count": 3
        }
      ]
    },
    {
      "cell_type": "markdown",
      "source": [
        "## Question 1: Understanding the Data\n",
        "##Todo: Reconsider placement of the written questions again and give length suggestions with each question"
      ],
      "metadata": {
        "id": "JBbn0yzm0mq5"
      }
    },
    {
      "cell_type": "markdown",
      "source": [
        "**Question 1.1** What columns would be useful to predict whether a defendant would reoffend? What would you expect higher values to correspond to? What would we not want to include as variables when we predict? This question is open-ended and responses will vary."
      ],
      "metadata": {
        "id": "DijWOUupZ2Ft"
      }
    },
    {
      "cell_type": "markdown",
      "source": [
        "_ANSWER HERE_"
      ],
      "metadata": {
        "id": "IpivFtqKdbSt"
      }
    },
    {
      "cell_type": "markdown",
      "source": [
        "**Question 1.2**  Who would this algorithm be used by, and what for? Please include second-order and higher-order uses, and expand your answer past what was introduced at the beginning."
      ],
      "metadata": {
        "id": "UU35DyGPdYH0"
      }
    },
    {
      "cell_type": "markdown",
      "source": [
        "_ANSWER HERE_"
      ],
      "metadata": {
        "id": "ru8ulnBTde_i"
      }
    },
    {
      "cell_type": "markdown",
      "source": [
        "**Question 1.3 (code)** - We're interested in seeing whether certain factors are correlated with decile scores. We've split our original data into a training and test set. Using your answers from above, choose a trait from the data that interests you, and perform some exploratory data analysis using the *table* dataframe inside the EDA function to answer the next question. Some visualizations you may find helpful are bar charts, histograms, or scatterplots.\n",
        "\n",
        "The code is ungraded, but the visualizations are.\n",
        "\n",
        "Hints: Measure correlations between two columns of your choice and repeat, making sure to keep all of your results."
      ],
      "metadata": {
        "id": "TLYdRkvNwERZ"
      }
    },
    {
      "cell_type": "code",
      "source": [
        "train, test = train_test_split(compas_simple, test_size=0.2)\n",
        "def EDA(table):\n",
        "  ...#CODE HERE\n",
        "EDA(train)"
      ],
      "metadata": {
        "id": "oy92nJ-yl67h"
      },
      "execution_count": null,
      "outputs": []
    },
    {
      "cell_type": "markdown",
      "source": [
        "**Question 1.4** Do you see any patterns in the data? If so, please form a hypothesis of why this pattern may exist, and include how confident you are for both parts.\n"
      ],
      "metadata": {
        "id": "adDRHupJfM6x"
      }
    },
    {
      "cell_type": "markdown",
      "source": [
        "_ANSWER HERE_"
      ],
      "metadata": {
        "id": "qbVoovaafVPS"
      }
    },
    {
      "cell_type": "markdown",
      "source": [
        "**Question 1.5** We've loaded the test data below: the function will perform exactly same analysis you did on the training data to this dataset. Do you see the same patterns? If not, can you think of reasons why?"
      ],
      "metadata": {
        "id": "abv461YWmjMQ"
      }
    },
    {
      "cell_type": "code",
      "source": [
        "EDA(test)\n",
        "#Do not add code in this cell."
      ],
      "metadata": {
        "id": "MlcqV0OUt4qf"
      },
      "execution_count": null,
      "outputs": []
    },
    {
      "cell_type": "markdown",
      "source": [
        "_ANSWER HERE_"
      ],
      "metadata": {
        "id": "bQrOupDVmxWf"
      }
    },
    {
      "cell_type": "markdown",
      "source": [
        "# Question 2: Impacts\n",
        "\n",
        "##### What does an accurate model mean?\n",
        "##### Todo: Following this example, condense themes and place into each question."
      ],
      "metadata": {
        "id": "C4CpB7Xw6cu8"
      }
    },
    {
      "cell_type": "markdown",
      "source": [
        "Suppose we now have access to whether the defendant actually reoffended - this data is stored in our is_recid column, which is a 1 if they recidivized, and a 0 if they did not."
      ],
      "metadata": {
        "id": "Ypoc_yPEf2sz"
      }
    },
    {
      "cell_type": "code",
      "source": [
        "compas_full.head(5) #with recid column - labelled 1 if they did reoffend, and 0 otherwise"
      ],
      "metadata": {
        "id": "ky48n5t5ca_k",
        "colab": {
          "base_uri": "https://localhost:8080/",
          "height": 237
        },
        "outputId": "a84f5b3c-a494-4486-f29d-f48f695342a5"
      },
      "execution_count": null,
      "outputs": [
        {
          "output_type": "execute_result",
          "data": {
            "text/plain": [
              "                  name   sex  age  priors_count              race  \\\n",
              "id                                                                  \n",
              "1     miguel hernandez  Male   77             0             Other   \n",
              "3          kevon dixon  Male   42             0  African-American   \n",
              "4             ed philo  Male   33             4  African-American   \n",
              "5          marcu brown  Male   31             1  African-American   \n",
              "6   bouthy pierrelouis  Male   51             2             Other   \n",
              "\n",
              "    decile_score score_text  is_recid  \n",
              "id                                     \n",
              "1              1        Low         0  \n",
              "3              3        Low         1  \n",
              "4              4        Low         1  \n",
              "5              8       High         0  \n",
              "6              1        Low         0  "
            ],
            "text/html": [
              "\n",
              "  <div id=\"df-f9c74c46-ef33-4c00-af0e-efafd54ef07a\" class=\"colab-df-container\">\n",
              "    <div>\n",
              "<style scoped>\n",
              "    .dataframe tbody tr th:only-of-type {\n",
              "        vertical-align: middle;\n",
              "    }\n",
              "\n",
              "    .dataframe tbody tr th {\n",
              "        vertical-align: top;\n",
              "    }\n",
              "\n",
              "    .dataframe thead th {\n",
              "        text-align: right;\n",
              "    }\n",
              "</style>\n",
              "<table border=\"1\" class=\"dataframe\">\n",
              "  <thead>\n",
              "    <tr style=\"text-align: right;\">\n",
              "      <th></th>\n",
              "      <th>name</th>\n",
              "      <th>sex</th>\n",
              "      <th>age</th>\n",
              "      <th>priors_count</th>\n",
              "      <th>race</th>\n",
              "      <th>decile_score</th>\n",
              "      <th>score_text</th>\n",
              "      <th>is_recid</th>\n",
              "    </tr>\n",
              "    <tr>\n",
              "      <th>id</th>\n",
              "      <th></th>\n",
              "      <th></th>\n",
              "      <th></th>\n",
              "      <th></th>\n",
              "      <th></th>\n",
              "      <th></th>\n",
              "      <th></th>\n",
              "      <th></th>\n",
              "    </tr>\n",
              "  </thead>\n",
              "  <tbody>\n",
              "    <tr>\n",
              "      <th>1</th>\n",
              "      <td>miguel hernandez</td>\n",
              "      <td>Male</td>\n",
              "      <td>77</td>\n",
              "      <td>0</td>\n",
              "      <td>Other</td>\n",
              "      <td>1</td>\n",
              "      <td>Low</td>\n",
              "      <td>0</td>\n",
              "    </tr>\n",
              "    <tr>\n",
              "      <th>3</th>\n",
              "      <td>kevon dixon</td>\n",
              "      <td>Male</td>\n",
              "      <td>42</td>\n",
              "      <td>0</td>\n",
              "      <td>African-American</td>\n",
              "      <td>3</td>\n",
              "      <td>Low</td>\n",
              "      <td>1</td>\n",
              "    </tr>\n",
              "    <tr>\n",
              "      <th>4</th>\n",
              "      <td>ed philo</td>\n",
              "      <td>Male</td>\n",
              "      <td>33</td>\n",
              "      <td>4</td>\n",
              "      <td>African-American</td>\n",
              "      <td>4</td>\n",
              "      <td>Low</td>\n",
              "      <td>1</td>\n",
              "    </tr>\n",
              "    <tr>\n",
              "      <th>5</th>\n",
              "      <td>marcu brown</td>\n",
              "      <td>Male</td>\n",
              "      <td>31</td>\n",
              "      <td>1</td>\n",
              "      <td>African-American</td>\n",
              "      <td>8</td>\n",
              "      <td>High</td>\n",
              "      <td>0</td>\n",
              "    </tr>\n",
              "    <tr>\n",
              "      <th>6</th>\n",
              "      <td>bouthy pierrelouis</td>\n",
              "      <td>Male</td>\n",
              "      <td>51</td>\n",
              "      <td>2</td>\n",
              "      <td>Other</td>\n",
              "      <td>1</td>\n",
              "      <td>Low</td>\n",
              "      <td>0</td>\n",
              "    </tr>\n",
              "  </tbody>\n",
              "</table>\n",
              "</div>\n",
              "    <div class=\"colab-df-buttons\">\n",
              "\n",
              "  <div class=\"colab-df-container\">\n",
              "    <button class=\"colab-df-convert\" onclick=\"convertToInteractive('df-f9c74c46-ef33-4c00-af0e-efafd54ef07a')\"\n",
              "            title=\"Convert this dataframe to an interactive table.\"\n",
              "            style=\"display:none;\">\n",
              "\n",
              "  <svg xmlns=\"http://www.w3.org/2000/svg\" height=\"24px\" viewBox=\"0 -960 960 960\">\n",
              "    <path d=\"M120-120v-720h720v720H120Zm60-500h600v-160H180v160Zm220 220h160v-160H400v160Zm0 220h160v-160H400v160ZM180-400h160v-160H180v160Zm440 0h160v-160H620v160ZM180-180h160v-160H180v160Zm440 0h160v-160H620v160Z\"/>\n",
              "  </svg>\n",
              "    </button>\n",
              "\n",
              "  <style>\n",
              "    .colab-df-container {\n",
              "      display:flex;\n",
              "      gap: 12px;\n",
              "    }\n",
              "\n",
              "    .colab-df-convert {\n",
              "      background-color: #E8F0FE;\n",
              "      border: none;\n",
              "      border-radius: 50%;\n",
              "      cursor: pointer;\n",
              "      display: none;\n",
              "      fill: #1967D2;\n",
              "      height: 32px;\n",
              "      padding: 0 0 0 0;\n",
              "      width: 32px;\n",
              "    }\n",
              "\n",
              "    .colab-df-convert:hover {\n",
              "      background-color: #E2EBFA;\n",
              "      box-shadow: 0px 1px 2px rgba(60, 64, 67, 0.3), 0px 1px 3px 1px rgba(60, 64, 67, 0.15);\n",
              "      fill: #174EA6;\n",
              "    }\n",
              "\n",
              "    .colab-df-buttons div {\n",
              "      margin-bottom: 4px;\n",
              "    }\n",
              "\n",
              "    [theme=dark] .colab-df-convert {\n",
              "      background-color: #3B4455;\n",
              "      fill: #D2E3FC;\n",
              "    }\n",
              "\n",
              "    [theme=dark] .colab-df-convert:hover {\n",
              "      background-color: #434B5C;\n",
              "      box-shadow: 0px 1px 3px 1px rgba(0, 0, 0, 0.15);\n",
              "      filter: drop-shadow(0px 1px 2px rgba(0, 0, 0, 0.3));\n",
              "      fill: #FFFFFF;\n",
              "    }\n",
              "  </style>\n",
              "\n",
              "    <script>\n",
              "      const buttonEl =\n",
              "        document.querySelector('#df-f9c74c46-ef33-4c00-af0e-efafd54ef07a button.colab-df-convert');\n",
              "      buttonEl.style.display =\n",
              "        google.colab.kernel.accessAllowed ? 'block' : 'none';\n",
              "\n",
              "      async function convertToInteractive(key) {\n",
              "        const element = document.querySelector('#df-f9c74c46-ef33-4c00-af0e-efafd54ef07a');\n",
              "        const dataTable =\n",
              "          await google.colab.kernel.invokeFunction('convertToInteractive',\n",
              "                                                    [key], {});\n",
              "        if (!dataTable) return;\n",
              "\n",
              "        const docLinkHtml = 'Like what you see? Visit the ' +\n",
              "          '<a target=\"_blank\" href=https://colab.research.google.com/notebooks/data_table.ipynb>data table notebook</a>'\n",
              "          + ' to learn more about interactive tables.';\n",
              "        element.innerHTML = '';\n",
              "        dataTable['output_type'] = 'display_data';\n",
              "        await google.colab.output.renderOutput(dataTable, element);\n",
              "        const docLink = document.createElement('div');\n",
              "        docLink.innerHTML = docLinkHtml;\n",
              "        element.appendChild(docLink);\n",
              "      }\n",
              "    </script>\n",
              "  </div>\n",
              "\n",
              "\n",
              "<div id=\"df-57a48b86-ac2c-4649-a02b-e8035823c4fe\">\n",
              "  <button class=\"colab-df-quickchart\" onclick=\"quickchart('df-57a48b86-ac2c-4649-a02b-e8035823c4fe')\"\n",
              "            title=\"Suggest charts\"\n",
              "            style=\"display:none;\">\n",
              "\n",
              "<svg xmlns=\"http://www.w3.org/2000/svg\" height=\"24px\"viewBox=\"0 0 24 24\"\n",
              "     width=\"24px\">\n",
              "    <g>\n",
              "        <path d=\"M19 3H5c-1.1 0-2 .9-2 2v14c0 1.1.9 2 2 2h14c1.1 0 2-.9 2-2V5c0-1.1-.9-2-2-2zM9 17H7v-7h2v7zm4 0h-2V7h2v10zm4 0h-2v-4h2v4z\"/>\n",
              "    </g>\n",
              "</svg>\n",
              "  </button>\n",
              "\n",
              "<style>\n",
              "  .colab-df-quickchart {\n",
              "      --bg-color: #E8F0FE;\n",
              "      --fill-color: #1967D2;\n",
              "      --hover-bg-color: #E2EBFA;\n",
              "      --hover-fill-color: #174EA6;\n",
              "      --disabled-fill-color: #AAA;\n",
              "      --disabled-bg-color: #DDD;\n",
              "  }\n",
              "\n",
              "  [theme=dark] .colab-df-quickchart {\n",
              "      --bg-color: #3B4455;\n",
              "      --fill-color: #D2E3FC;\n",
              "      --hover-bg-color: #434B5C;\n",
              "      --hover-fill-color: #FFFFFF;\n",
              "      --disabled-bg-color: #3B4455;\n",
              "      --disabled-fill-color: #666;\n",
              "  }\n",
              "\n",
              "  .colab-df-quickchart {\n",
              "    background-color: var(--bg-color);\n",
              "    border: none;\n",
              "    border-radius: 50%;\n",
              "    cursor: pointer;\n",
              "    display: none;\n",
              "    fill: var(--fill-color);\n",
              "    height: 32px;\n",
              "    padding: 0;\n",
              "    width: 32px;\n",
              "  }\n",
              "\n",
              "  .colab-df-quickchart:hover {\n",
              "    background-color: var(--hover-bg-color);\n",
              "    box-shadow: 0 1px 2px rgba(60, 64, 67, 0.3), 0 1px 3px 1px rgba(60, 64, 67, 0.15);\n",
              "    fill: var(--button-hover-fill-color);\n",
              "  }\n",
              "\n",
              "  .colab-df-quickchart-complete:disabled,\n",
              "  .colab-df-quickchart-complete:disabled:hover {\n",
              "    background-color: var(--disabled-bg-color);\n",
              "    fill: var(--disabled-fill-color);\n",
              "    box-shadow: none;\n",
              "  }\n",
              "\n",
              "  .colab-df-spinner {\n",
              "    border: 2px solid var(--fill-color);\n",
              "    border-color: transparent;\n",
              "    border-bottom-color: var(--fill-color);\n",
              "    animation:\n",
              "      spin 1s steps(1) infinite;\n",
              "  }\n",
              "\n",
              "  @keyframes spin {\n",
              "    0% {\n",
              "      border-color: transparent;\n",
              "      border-bottom-color: var(--fill-color);\n",
              "      border-left-color: var(--fill-color);\n",
              "    }\n",
              "    20% {\n",
              "      border-color: transparent;\n",
              "      border-left-color: var(--fill-color);\n",
              "      border-top-color: var(--fill-color);\n",
              "    }\n",
              "    30% {\n",
              "      border-color: transparent;\n",
              "      border-left-color: var(--fill-color);\n",
              "      border-top-color: var(--fill-color);\n",
              "      border-right-color: var(--fill-color);\n",
              "    }\n",
              "    40% {\n",
              "      border-color: transparent;\n",
              "      border-right-color: var(--fill-color);\n",
              "      border-top-color: var(--fill-color);\n",
              "    }\n",
              "    60% {\n",
              "      border-color: transparent;\n",
              "      border-right-color: var(--fill-color);\n",
              "    }\n",
              "    80% {\n",
              "      border-color: transparent;\n",
              "      border-right-color: var(--fill-color);\n",
              "      border-bottom-color: var(--fill-color);\n",
              "    }\n",
              "    90% {\n",
              "      border-color: transparent;\n",
              "      border-bottom-color: var(--fill-color);\n",
              "    }\n",
              "  }\n",
              "</style>\n",
              "\n",
              "  <script>\n",
              "    async function quickchart(key) {\n",
              "      const quickchartButtonEl =\n",
              "        document.querySelector('#' + key + ' button');\n",
              "      quickchartButtonEl.disabled = true;  // To prevent multiple clicks.\n",
              "      quickchartButtonEl.classList.add('colab-df-spinner');\n",
              "      try {\n",
              "        const charts = await google.colab.kernel.invokeFunction(\n",
              "            'suggestCharts', [key], {});\n",
              "      } catch (error) {\n",
              "        console.error('Error during call to suggestCharts:', error);\n",
              "      }\n",
              "      quickchartButtonEl.classList.remove('colab-df-spinner');\n",
              "      quickchartButtonEl.classList.add('colab-df-quickchart-complete');\n",
              "    }\n",
              "    (() => {\n",
              "      let quickchartButtonEl =\n",
              "        document.querySelector('#df-57a48b86-ac2c-4649-a02b-e8035823c4fe button');\n",
              "      quickchartButtonEl.style.display =\n",
              "        google.colab.kernel.accessAllowed ? 'block' : 'none';\n",
              "    })();\n",
              "  </script>\n",
              "</div>\n",
              "    </div>\n",
              "  </div>\n"
            ],
            "application/vnd.google.colaboratory.intrinsic+json": {
              "type": "dataframe",
              "variable_name": "compas_full",
              "summary": "{\n  \"name\": \"compas_full\",\n  \"rows\": 11027,\n  \"fields\": [\n    {\n      \"column\": \"id\",\n      \"properties\": {\n        \"dtype\": \"number\",\n        \"std\": 3395,\n        \"min\": 1,\n        \"max\": 11757,\n        \"num_unique_values\": 11027,\n        \"samples\": [\n          7820,\n          1689,\n          5773\n        ],\n        \"semantic_type\": \"\",\n        \"description\": \"\"\n      }\n    },\n    {\n      \"column\": \"name\",\n      \"properties\": {\n        \"dtype\": \"string\",\n        \"num_unique_values\": 10891,\n        \"samples\": [\n          \"yoshihiro merello\",\n          \"ricardo notise\",\n          \"torrence howard\"\n        ],\n        \"semantic_type\": \"\",\n        \"description\": \"\"\n      }\n    },\n    {\n      \"column\": \"sex\",\n      \"properties\": {\n        \"dtype\": \"category\",\n        \"num_unique_values\": 2,\n        \"samples\": [\n          \"Female\",\n          \"Male\"\n        ],\n        \"semantic_type\": \"\",\n        \"description\": \"\"\n      }\n    },\n    {\n      \"column\": \"age\",\n      \"properties\": {\n        \"dtype\": \"int32\",\n        \"num_unique_values\": 68,\n        \"samples\": [\n          67,\n          45\n        ],\n        \"semantic_type\": \"\",\n        \"description\": \"\"\n      }\n    },\n    {\n      \"column\": \"priors_count\",\n      \"properties\": {\n        \"dtype\": \"number\",\n        \"std\": 4,\n        \"min\": 0,\n        \"max\": 43,\n        \"num_unique_values\": 39,\n        \"samples\": [\n          26,\n          35\n        ],\n        \"semantic_type\": \"\",\n        \"description\": \"\"\n      }\n    },\n    {\n      \"column\": \"race\",\n      \"properties\": {\n        \"dtype\": \"category\",\n        \"num_unique_values\": 6,\n        \"samples\": [\n          \"Other\",\n          \"African-American\"\n        ],\n        \"semantic_type\": \"\",\n        \"description\": \"\"\n      }\n    },\n    {\n      \"column\": \"decile_score\",\n      \"properties\": {\n        \"dtype\": \"number\",\n        \"std\": 2,\n        \"min\": 1,\n        \"max\": 10,\n        \"num_unique_values\": 10,\n        \"samples\": [\n          2,\n          3\n        ],\n        \"semantic_type\": \"\",\n        \"description\": \"\"\n      }\n    },\n    {\n      \"column\": \"score_text\",\n      \"properties\": {\n        \"dtype\": \"category\",\n        \"num_unique_values\": 3,\n        \"samples\": [\n          \"Low\",\n          \"High\"\n        ],\n        \"semantic_type\": \"\",\n        \"description\": \"\"\n      }\n    },\n    {\n      \"column\": \"is_recid\",\n      \"properties\": {\n        \"dtype\": \"number\",\n        \"std\": 0,\n        \"min\": 0,\n        \"max\": 1,\n        \"num_unique_values\": 2,\n        \"samples\": [\n          1,\n          0\n        ],\n        \"semantic_type\": \"\",\n        \"description\": \"\"\n      }\n    }\n  ]\n}"
            }
          },
          "metadata": {},
          "execution_count": 6
        }
      ]
    },
    {
      "cell_type": "markdown",
      "source": [
        "**Question 2.1** Write code to calculate the accuracy, false_positive, and false_negative rates. (We can assume a score_text of Medium or High is a prediction that the defendant will reoffend, and a score_text of Low is a prediction the defendant will not reoffend). Remember that accuracy is defined as **correct predictions** as a proportion of **all predictions**. Feel free to take as many lines as needed.\n",
        "\n"
      ],
      "metadata": {
        "id": "YcXAc-IqiDzH"
      }
    },
    {
      "cell_type": "code",
      "source": [
        "#ADD CODE HERE\n",
        "...\n",
        "...\n",
        "\n",
        "false_positive = ...\n",
        "false_negative = ...\n",
        "accuracy = ..."
      ],
      "metadata": {
        "id": "6crW9e2Mk_fk"
      },
      "execution_count": null,
      "outputs": []
    },
    {
      "cell_type": "markdown",
      "source": [
        "**Question 2.2** It seems like the accuracy of our model is pretty high (by some standards)! However, it also has a high rate of false positives compared to false negatives. What are the potential implications of a false positive or a false negative? Feel free to reference previous answers or at the textbook."
      ],
      "metadata": {
        "id": "IGdxZitkueip"
      }
    },
    {
      "cell_type": "markdown",
      "source": [
        "_ANSWER HERE_"
      ],
      "metadata": {
        "id": "L3lRct_8voD-"
      }
    },
    {
      "cell_type": "markdown",
      "source": [
        "**Question 2.3** In this scenario, how would you balance false positives and false negatives? Which one is more harmful, and which one would the users of this algorithm be motivated to minimize? Consider adding upon the points you mentioned in Question 1.2."
      ],
      "metadata": {
        "id": "mQcjSV-xAOxD"
      }
    },
    {
      "cell_type": "markdown",
      "source": [
        "_ANSWER HERE_"
      ],
      "metadata": {
        "id": "e4szCNphAjEY"
      }
    },
    {
      "cell_type": "markdown",
      "source": [
        "##### Todo: Change phrasing to reference raw scores once implemented\n",
        "**Question 2.4** Suppose that we want to calculate the accuracy, false positive, and false negatives based off the raw/decile score, and not the score_text column.\n",
        "\n",
        "Below we have defined a function called _hidden_function_ that takes in two arguments: a table containing an is_recid column and a raw/decile score. It that calculates the accuracy, false positive rate, and raw/decile score based off a given raw/decile score threshold, which would represent a positive prediction in our algorithm. Explain any patterns you see as you increase or decrease the threshold."
      ],
      "metadata": {
        "id": "Uyt8UaNzPW1N"
      }
    },
    {
      "cell_type": "code",
      "source": [
        "#you can ignore the code here:\n",
        "%pip install -q ipywidgets\n",
        "from ipywidgets import interact, interactive, fixed, interact_manual\n",
        "import ipywidgets as widgets"
      ],
      "metadata": {
        "id": "HhcwpRjP2jj0",
        "colab": {
          "base_uri": "https://localhost:8080/"
        },
        "outputId": "e6321d81-6ae8-487a-8bc6-2cb0b4cc2703"
      },
      "execution_count": null,
      "outputs": [
        {
          "output_type": "stream",
          "name": "stdout",
          "text": [
            "\u001b[?25l     \u001b[90m━━━━━━━━━━━━━━━━━━━━━━━━━━━━━━━━━━━━━━━━\u001b[0m \u001b[32m0.0/1.6 MB\u001b[0m \u001b[31m?\u001b[0m eta \u001b[36m-:--:--\u001b[0m\r\u001b[2K     \u001b[91m━\u001b[0m\u001b[91m╸\u001b[0m\u001b[90m━━━━━━━━━━━━━━━━━━━━━━━━━━━━━━━━━━━━━━\u001b[0m \u001b[32m0.1/1.6 MB\u001b[0m \u001b[31m1.6 MB/s\u001b[0m eta \u001b[36m0:00:01\u001b[0m\r\u001b[2K     \u001b[91m━━━━━━━━━━━━━━━━━━━━━━━━━━━━━━━━━━━━━━━\u001b[0m\u001b[91m╸\u001b[0m \u001b[32m1.6/1.6 MB\u001b[0m \u001b[31m23.1 MB/s\u001b[0m eta \u001b[36m0:00:01\u001b[0m\r\u001b[2K     \u001b[90m━━━━━━━━━━━━━━━━━━━━━━━━━━━━━━━━━━━━━━━━\u001b[0m \u001b[32m1.6/1.6 MB\u001b[0m \u001b[31m18.2 MB/s\u001b[0m eta \u001b[36m0:00:00\u001b[0m\n",
            "\u001b[?25h"
          ]
        }
      ]
    },
    {
      "cell_type": "code",
      "source": [
        "#@title This cell defines a hidden function\n",
        "def hidden_function(tbl, threshold):\n",
        "  \"\"\"Takes in a table with an is_recid column and returns the accuracy, false positive rate, and false negative rate\"\"\"\n",
        "  true_positives = len(tbl[( (tbl.is_recid==1) &\n",
        "  (tbl.decile_score >= threshold) )])\n",
        "  true_negatives = len(tbl[(tbl.is_recid==0) & (tbl.decile_score < threshold) ])\n",
        "  false_positives = len(tbl[((tbl.is_recid==0) & (tbl.decile_score >= threshold) ) ])\n",
        "  false_negatives = len(tbl[(tbl.is_recid==1) & (tbl.decile_score < threshold) ])\n",
        "\n",
        "  accuracy = (true_positives + true_negatives) / len(tbl)\n",
        "  false_positive_rate = false_positives / len(tbl)\n",
        "  false_negative_rate = false_negatives / len(tbl)\n",
        "  print('Accuracy: ', accuracy)\n",
        "  print('False Positive Rate: ', false_positive_rate)\n",
        "  print('False Negative Rate: ', false_negative_rate)\n",
        "  return [accuracy, false_positive_rate, false_negative_rate]"
      ],
      "metadata": {
        "cellView": "form",
        "id": "-FtRrh7ATuVx"
      },
      "execution_count": null,
      "outputs": []
    },
    {
      "cell_type": "markdown",
      "source": [
        "#####Todo: Complete widget\n",
        "Remember that the threshold represents the minimum for a positive prediction by the algorithm - for example, if I set my threshold as 4, all defendants who received a raw/decile score of 4 would be predicted as likely to re-offend."
      ],
      "metadata": {
        "id": "_xAU9crTjykR"
      }
    },
    {
      "cell_type": "code",
      "source": [
        "thresh = 4\n",
        "\n",
        "\n",
        "#Run this cell to see how the statistics change!\n",
        "interact(hidden_function, tbl=fixed(compas_full), threshold=thresh)"
      ],
      "metadata": {
        "id": "LuGmXP1JPUmH",
        "colab": {
          "base_uri": "https://localhost:8080/",
          "height": 204,
          "referenced_widgets": [
            "e5ae2af4e51e479489272c555432acf2",
            "bbb616b85cf7467b99b3700b52ec174e",
            "042504470d5748deb446821027705f8e",
            "8764f53741e441a7abe00cd1309c46d8",
            "6b0126c1d7d04e39b1b78473402477ea",
            "9c3f5e60d8a140c79e1b2e281a7e8f84",
            "3d121e65fb7a4b928b45d6465c97c779"
          ]
        },
        "outputId": "0c9ef165-d820-4b4a-cef3-d5291689fa1d"
      },
      "execution_count": null,
      "outputs": [
        {
          "output_type": "display_data",
          "data": {
            "text/plain": [
              "interactive(children=(IntSlider(value=4, description='threshold', max=12, min=-4), Output()), _dom_classes=('w…"
            ],
            "application/vnd.jupyter.widget-view+json": {
              "version_major": 2,
              "version_minor": 0,
              "model_id": "e5ae2af4e51e479489272c555432acf2"
            }
          },
          "metadata": {}
        },
        {
          "output_type": "execute_result",
          "data": {
            "text/plain": [
              "<function __main__.hidden_function(tbl, threshold)>"
            ],
            "text/html": [
              "<div style=\"max-width:800px; border: 1px solid var(--colab-border-color);\"><style>\n",
              "      pre.function-repr-contents {\n",
              "        overflow-x: auto;\n",
              "        padding: 8px 12px;\n",
              "        max-height: 500px;\n",
              "      }\n",
              "\n",
              "      pre.function-repr-contents.function-repr-contents-collapsed {\n",
              "        cursor: pointer;\n",
              "        max-height: 100px;\n",
              "      }\n",
              "    </style>\n",
              "    <pre style=\"white-space: initial; background:\n",
              "         var(--colab-secondary-surface-color); padding: 8px 12px;\n",
              "         border-bottom: 1px solid var(--colab-border-color);\"><b>hidden_function</b><br/>def hidden_function(tbl, threshold)</pre><pre class=\"function-repr-contents function-repr-contents-collapsed\" style=\"\"><a class=\"filepath\" style=\"display:none\" href=\"#\">/content/&lt;ipython-input-9-4b6dd2824011&gt;</a>Takes in a table with an is_recid column and returns the accuracy, false positive rate, and false negative rate</pre></div>"
            ]
          },
          "metadata": {},
          "execution_count": 10
        }
      ]
    },
    {
      "cell_type": "markdown",
      "source": [
        "_ANSWER HERE_"
      ],
      "metadata": {
        "id": "ZAXX80OnzKdK"
      }
    },
    {
      "cell_type": "markdown",
      "source": [
        "##**End of Part 1**"
      ],
      "metadata": {
        "id": "bx2PaDN8tuah"
      }
    },
    {
      "cell_type": "markdown",
      "source": [
        "# PART 2 - Question 3: A Hidden Impact\n"
      ],
      "metadata": {
        "id": "8GFak-IlAg2I"
      }
    },
    {
      "cell_type": "markdown",
      "source": [
        "**Question 3.1** Calculate accuracy for black versus white defendants. The accuracy for white defendants is provided for you, and was calculated using a staff solution based on the definition of accuracy mentioned in 2.1. You can assume the threshold is a raw/decile score of 4. _hidden_function_ may be helpful for this problem. Hint: remember that our function takes in a table - how do we filter compas_full to only include the demographic of interest?"
      ],
      "metadata": {
        "id": "9pbLAXlIC1Xm"
      }
    },
    {
      "cell_type": "code",
      "source": [
        "compas_full"
      ],
      "metadata": {
        "id": "LSGRBpJseqXZ",
        "colab": {
          "base_uri": "https://localhost:8080/",
          "height": 455
        },
        "outputId": "e484a5ed-981d-4858-a647-3531a22ccebf"
      },
      "execution_count": null,
      "outputs": [
        {
          "output_type": "execute_result",
          "data": {
            "text/plain": [
              "                         name   sex  age  priors_count              race  \\\n",
              "id                                                                         \n",
              "1            miguel hernandez  Male   77             0             Other   \n",
              "3                 kevon dixon  Male   42             0  African-American   \n",
              "4                    ed philo  Male   33             4  African-American   \n",
              "5                 marcu brown  Male   31             1  African-American   \n",
              "6          bouthy pierrelouis  Male   51             2             Other   \n",
              "...                       ...   ...  ...           ...               ...   \n",
              "11753        patrick hamilton  Male   56             1             Other   \n",
              "11754       raymond hernandez  Male   31             3         Caucasian   \n",
              "11755  dieuseul pierre-gilles  Male   43             0             Other   \n",
              "11756        scott lomagistro  Male   38             2         Caucasian   \n",
              "11757                chin yan  Male   42             0             Asian   \n",
              "\n",
              "       decile_score score_text  is_recid  \n",
              "id                                        \n",
              "1                 1        Low         0  \n",
              "3                 3        Low         1  \n",
              "4                 4        Low         1  \n",
              "5                 8       High         0  \n",
              "6                 1        Low         0  \n",
              "...             ...        ...       ...  \n",
              "11753             3        Low         0  \n",
              "11754             7     Medium         1  \n",
              "11755             4        Low         0  \n",
              "11756             3        Low         0  \n",
              "11757             1        Low         0  \n",
              "\n",
              "[11027 rows x 8 columns]"
            ],
            "text/html": [
              "\n",
              "  <div id=\"df-d4602012-618a-4494-a74a-6e575842728e\" class=\"colab-df-container\">\n",
              "    <div>\n",
              "<style scoped>\n",
              "    .dataframe tbody tr th:only-of-type {\n",
              "        vertical-align: middle;\n",
              "    }\n",
              "\n",
              "    .dataframe tbody tr th {\n",
              "        vertical-align: top;\n",
              "    }\n",
              "\n",
              "    .dataframe thead th {\n",
              "        text-align: right;\n",
              "    }\n",
              "</style>\n",
              "<table border=\"1\" class=\"dataframe\">\n",
              "  <thead>\n",
              "    <tr style=\"text-align: right;\">\n",
              "      <th></th>\n",
              "      <th>name</th>\n",
              "      <th>sex</th>\n",
              "      <th>age</th>\n",
              "      <th>priors_count</th>\n",
              "      <th>race</th>\n",
              "      <th>decile_score</th>\n",
              "      <th>score_text</th>\n",
              "      <th>is_recid</th>\n",
              "    </tr>\n",
              "    <tr>\n",
              "      <th>id</th>\n",
              "      <th></th>\n",
              "      <th></th>\n",
              "      <th></th>\n",
              "      <th></th>\n",
              "      <th></th>\n",
              "      <th></th>\n",
              "      <th></th>\n",
              "      <th></th>\n",
              "    </tr>\n",
              "  </thead>\n",
              "  <tbody>\n",
              "    <tr>\n",
              "      <th>1</th>\n",
              "      <td>miguel hernandez</td>\n",
              "      <td>Male</td>\n",
              "      <td>77</td>\n",
              "      <td>0</td>\n",
              "      <td>Other</td>\n",
              "      <td>1</td>\n",
              "      <td>Low</td>\n",
              "      <td>0</td>\n",
              "    </tr>\n",
              "    <tr>\n",
              "      <th>3</th>\n",
              "      <td>kevon dixon</td>\n",
              "      <td>Male</td>\n",
              "      <td>42</td>\n",
              "      <td>0</td>\n",
              "      <td>African-American</td>\n",
              "      <td>3</td>\n",
              "      <td>Low</td>\n",
              "      <td>1</td>\n",
              "    </tr>\n",
              "    <tr>\n",
              "      <th>4</th>\n",
              "      <td>ed philo</td>\n",
              "      <td>Male</td>\n",
              "      <td>33</td>\n",
              "      <td>4</td>\n",
              "      <td>African-American</td>\n",
              "      <td>4</td>\n",
              "      <td>Low</td>\n",
              "      <td>1</td>\n",
              "    </tr>\n",
              "    <tr>\n",
              "      <th>5</th>\n",
              "      <td>marcu brown</td>\n",
              "      <td>Male</td>\n",
              "      <td>31</td>\n",
              "      <td>1</td>\n",
              "      <td>African-American</td>\n",
              "      <td>8</td>\n",
              "      <td>High</td>\n",
              "      <td>0</td>\n",
              "    </tr>\n",
              "    <tr>\n",
              "      <th>6</th>\n",
              "      <td>bouthy pierrelouis</td>\n",
              "      <td>Male</td>\n",
              "      <td>51</td>\n",
              "      <td>2</td>\n",
              "      <td>Other</td>\n",
              "      <td>1</td>\n",
              "      <td>Low</td>\n",
              "      <td>0</td>\n",
              "    </tr>\n",
              "    <tr>\n",
              "      <th>...</th>\n",
              "      <td>...</td>\n",
              "      <td>...</td>\n",
              "      <td>...</td>\n",
              "      <td>...</td>\n",
              "      <td>...</td>\n",
              "      <td>...</td>\n",
              "      <td>...</td>\n",
              "      <td>...</td>\n",
              "    </tr>\n",
              "    <tr>\n",
              "      <th>11753</th>\n",
              "      <td>patrick hamilton</td>\n",
              "      <td>Male</td>\n",
              "      <td>56</td>\n",
              "      <td>1</td>\n",
              "      <td>Other</td>\n",
              "      <td>3</td>\n",
              "      <td>Low</td>\n",
              "      <td>0</td>\n",
              "    </tr>\n",
              "    <tr>\n",
              "      <th>11754</th>\n",
              "      <td>raymond hernandez</td>\n",
              "      <td>Male</td>\n",
              "      <td>31</td>\n",
              "      <td>3</td>\n",
              "      <td>Caucasian</td>\n",
              "      <td>7</td>\n",
              "      <td>Medium</td>\n",
              "      <td>1</td>\n",
              "    </tr>\n",
              "    <tr>\n",
              "      <th>11755</th>\n",
              "      <td>dieuseul pierre-gilles</td>\n",
              "      <td>Male</td>\n",
              "      <td>43</td>\n",
              "      <td>0</td>\n",
              "      <td>Other</td>\n",
              "      <td>4</td>\n",
              "      <td>Low</td>\n",
              "      <td>0</td>\n",
              "    </tr>\n",
              "    <tr>\n",
              "      <th>11756</th>\n",
              "      <td>scott lomagistro</td>\n",
              "      <td>Male</td>\n",
              "      <td>38</td>\n",
              "      <td>2</td>\n",
              "      <td>Caucasian</td>\n",
              "      <td>3</td>\n",
              "      <td>Low</td>\n",
              "      <td>0</td>\n",
              "    </tr>\n",
              "    <tr>\n",
              "      <th>11757</th>\n",
              "      <td>chin yan</td>\n",
              "      <td>Male</td>\n",
              "      <td>42</td>\n",
              "      <td>0</td>\n",
              "      <td>Asian</td>\n",
              "      <td>1</td>\n",
              "      <td>Low</td>\n",
              "      <td>0</td>\n",
              "    </tr>\n",
              "  </tbody>\n",
              "</table>\n",
              "<p>11027 rows × 8 columns</p>\n",
              "</div>\n",
              "    <div class=\"colab-df-buttons\">\n",
              "\n",
              "  <div class=\"colab-df-container\">\n",
              "    <button class=\"colab-df-convert\" onclick=\"convertToInteractive('df-d4602012-618a-4494-a74a-6e575842728e')\"\n",
              "            title=\"Convert this dataframe to an interactive table.\"\n",
              "            style=\"display:none;\">\n",
              "\n",
              "  <svg xmlns=\"http://www.w3.org/2000/svg\" height=\"24px\" viewBox=\"0 -960 960 960\">\n",
              "    <path d=\"M120-120v-720h720v720H120Zm60-500h600v-160H180v160Zm220 220h160v-160H400v160Zm0 220h160v-160H400v160ZM180-400h160v-160H180v160Zm440 0h160v-160H620v160ZM180-180h160v-160H180v160Zm440 0h160v-160H620v160Z\"/>\n",
              "  </svg>\n",
              "    </button>\n",
              "\n",
              "  <style>\n",
              "    .colab-df-container {\n",
              "      display:flex;\n",
              "      gap: 12px;\n",
              "    }\n",
              "\n",
              "    .colab-df-convert {\n",
              "      background-color: #E8F0FE;\n",
              "      border: none;\n",
              "      border-radius: 50%;\n",
              "      cursor: pointer;\n",
              "      display: none;\n",
              "      fill: #1967D2;\n",
              "      height: 32px;\n",
              "      padding: 0 0 0 0;\n",
              "      width: 32px;\n",
              "    }\n",
              "\n",
              "    .colab-df-convert:hover {\n",
              "      background-color: #E2EBFA;\n",
              "      box-shadow: 0px 1px 2px rgba(60, 64, 67, 0.3), 0px 1px 3px 1px rgba(60, 64, 67, 0.15);\n",
              "      fill: #174EA6;\n",
              "    }\n",
              "\n",
              "    .colab-df-buttons div {\n",
              "      margin-bottom: 4px;\n",
              "    }\n",
              "\n",
              "    [theme=dark] .colab-df-convert {\n",
              "      background-color: #3B4455;\n",
              "      fill: #D2E3FC;\n",
              "    }\n",
              "\n",
              "    [theme=dark] .colab-df-convert:hover {\n",
              "      background-color: #434B5C;\n",
              "      box-shadow: 0px 1px 3px 1px rgba(0, 0, 0, 0.15);\n",
              "      filter: drop-shadow(0px 1px 2px rgba(0, 0, 0, 0.3));\n",
              "      fill: #FFFFFF;\n",
              "    }\n",
              "  </style>\n",
              "\n",
              "    <script>\n",
              "      const buttonEl =\n",
              "        document.querySelector('#df-d4602012-618a-4494-a74a-6e575842728e button.colab-df-convert');\n",
              "      buttonEl.style.display =\n",
              "        google.colab.kernel.accessAllowed ? 'block' : 'none';\n",
              "\n",
              "      async function convertToInteractive(key) {\n",
              "        const element = document.querySelector('#df-d4602012-618a-4494-a74a-6e575842728e');\n",
              "        const dataTable =\n",
              "          await google.colab.kernel.invokeFunction('convertToInteractive',\n",
              "                                                    [key], {});\n",
              "        if (!dataTable) return;\n",
              "\n",
              "        const docLinkHtml = 'Like what you see? Visit the ' +\n",
              "          '<a target=\"_blank\" href=https://colab.research.google.com/notebooks/data_table.ipynb>data table notebook</a>'\n",
              "          + ' to learn more about interactive tables.';\n",
              "        element.innerHTML = '';\n",
              "        dataTable['output_type'] = 'display_data';\n",
              "        await google.colab.output.renderOutput(dataTable, element);\n",
              "        const docLink = document.createElement('div');\n",
              "        docLink.innerHTML = docLinkHtml;\n",
              "        element.appendChild(docLink);\n",
              "      }\n",
              "    </script>\n",
              "  </div>\n",
              "\n",
              "\n",
              "<div id=\"df-00d51cbb-346f-466d-ac82-1faa6b06ca30\">\n",
              "  <button class=\"colab-df-quickchart\" onclick=\"quickchart('df-00d51cbb-346f-466d-ac82-1faa6b06ca30')\"\n",
              "            title=\"Suggest charts\"\n",
              "            style=\"display:none;\">\n",
              "\n",
              "<svg xmlns=\"http://www.w3.org/2000/svg\" height=\"24px\"viewBox=\"0 0 24 24\"\n",
              "     width=\"24px\">\n",
              "    <g>\n",
              "        <path d=\"M19 3H5c-1.1 0-2 .9-2 2v14c0 1.1.9 2 2 2h14c1.1 0 2-.9 2-2V5c0-1.1-.9-2-2-2zM9 17H7v-7h2v7zm4 0h-2V7h2v10zm4 0h-2v-4h2v4z\"/>\n",
              "    </g>\n",
              "</svg>\n",
              "  </button>\n",
              "\n",
              "<style>\n",
              "  .colab-df-quickchart {\n",
              "      --bg-color: #E8F0FE;\n",
              "      --fill-color: #1967D2;\n",
              "      --hover-bg-color: #E2EBFA;\n",
              "      --hover-fill-color: #174EA6;\n",
              "      --disabled-fill-color: #AAA;\n",
              "      --disabled-bg-color: #DDD;\n",
              "  }\n",
              "\n",
              "  [theme=dark] .colab-df-quickchart {\n",
              "      --bg-color: #3B4455;\n",
              "      --fill-color: #D2E3FC;\n",
              "      --hover-bg-color: #434B5C;\n",
              "      --hover-fill-color: #FFFFFF;\n",
              "      --disabled-bg-color: #3B4455;\n",
              "      --disabled-fill-color: #666;\n",
              "  }\n",
              "\n",
              "  .colab-df-quickchart {\n",
              "    background-color: var(--bg-color);\n",
              "    border: none;\n",
              "    border-radius: 50%;\n",
              "    cursor: pointer;\n",
              "    display: none;\n",
              "    fill: var(--fill-color);\n",
              "    height: 32px;\n",
              "    padding: 0;\n",
              "    width: 32px;\n",
              "  }\n",
              "\n",
              "  .colab-df-quickchart:hover {\n",
              "    background-color: var(--hover-bg-color);\n",
              "    box-shadow: 0 1px 2px rgba(60, 64, 67, 0.3), 0 1px 3px 1px rgba(60, 64, 67, 0.15);\n",
              "    fill: var(--button-hover-fill-color);\n",
              "  }\n",
              "\n",
              "  .colab-df-quickchart-complete:disabled,\n",
              "  .colab-df-quickchart-complete:disabled:hover {\n",
              "    background-color: var(--disabled-bg-color);\n",
              "    fill: var(--disabled-fill-color);\n",
              "    box-shadow: none;\n",
              "  }\n",
              "\n",
              "  .colab-df-spinner {\n",
              "    border: 2px solid var(--fill-color);\n",
              "    border-color: transparent;\n",
              "    border-bottom-color: var(--fill-color);\n",
              "    animation:\n",
              "      spin 1s steps(1) infinite;\n",
              "  }\n",
              "\n",
              "  @keyframes spin {\n",
              "    0% {\n",
              "      border-color: transparent;\n",
              "      border-bottom-color: var(--fill-color);\n",
              "      border-left-color: var(--fill-color);\n",
              "    }\n",
              "    20% {\n",
              "      border-color: transparent;\n",
              "      border-left-color: var(--fill-color);\n",
              "      border-top-color: var(--fill-color);\n",
              "    }\n",
              "    30% {\n",
              "      border-color: transparent;\n",
              "      border-left-color: var(--fill-color);\n",
              "      border-top-color: var(--fill-color);\n",
              "      border-right-color: var(--fill-color);\n",
              "    }\n",
              "    40% {\n",
              "      border-color: transparent;\n",
              "      border-right-color: var(--fill-color);\n",
              "      border-top-color: var(--fill-color);\n",
              "    }\n",
              "    60% {\n",
              "      border-color: transparent;\n",
              "      border-right-color: var(--fill-color);\n",
              "    }\n",
              "    80% {\n",
              "      border-color: transparent;\n",
              "      border-right-color: var(--fill-color);\n",
              "      border-bottom-color: var(--fill-color);\n",
              "    }\n",
              "    90% {\n",
              "      border-color: transparent;\n",
              "      border-bottom-color: var(--fill-color);\n",
              "    }\n",
              "  }\n",
              "</style>\n",
              "\n",
              "  <script>\n",
              "    async function quickchart(key) {\n",
              "      const quickchartButtonEl =\n",
              "        document.querySelector('#' + key + ' button');\n",
              "      quickchartButtonEl.disabled = true;  // To prevent multiple clicks.\n",
              "      quickchartButtonEl.classList.add('colab-df-spinner');\n",
              "      try {\n",
              "        const charts = await google.colab.kernel.invokeFunction(\n",
              "            'suggestCharts', [key], {});\n",
              "      } catch (error) {\n",
              "        console.error('Error during call to suggestCharts:', error);\n",
              "      }\n",
              "      quickchartButtonEl.classList.remove('colab-df-spinner');\n",
              "      quickchartButtonEl.classList.add('colab-df-quickchart-complete');\n",
              "    }\n",
              "    (() => {\n",
              "      let quickchartButtonEl =\n",
              "        document.querySelector('#df-00d51cbb-346f-466d-ac82-1faa6b06ca30 button');\n",
              "      quickchartButtonEl.style.display =\n",
              "        google.colab.kernel.accessAllowed ? 'block' : 'none';\n",
              "    })();\n",
              "  </script>\n",
              "</div>\n",
              "    </div>\n",
              "  </div>\n"
            ],
            "application/vnd.google.colaboratory.intrinsic+json": {
              "type": "dataframe",
              "variable_name": "compas_full",
              "summary": "{\n  \"name\": \"compas_full\",\n  \"rows\": 11027,\n  \"fields\": [\n    {\n      \"column\": \"id\",\n      \"properties\": {\n        \"dtype\": \"number\",\n        \"std\": 3395,\n        \"min\": 1,\n        \"max\": 11757,\n        \"num_unique_values\": 11027,\n        \"samples\": [\n          7820,\n          1689,\n          5773\n        ],\n        \"semantic_type\": \"\",\n        \"description\": \"\"\n      }\n    },\n    {\n      \"column\": \"name\",\n      \"properties\": {\n        \"dtype\": \"string\",\n        \"num_unique_values\": 10891,\n        \"samples\": [\n          \"yoshihiro merello\",\n          \"ricardo notise\",\n          \"torrence howard\"\n        ],\n        \"semantic_type\": \"\",\n        \"description\": \"\"\n      }\n    },\n    {\n      \"column\": \"sex\",\n      \"properties\": {\n        \"dtype\": \"category\",\n        \"num_unique_values\": 2,\n        \"samples\": [\n          \"Female\",\n          \"Male\"\n        ],\n        \"semantic_type\": \"\",\n        \"description\": \"\"\n      }\n    },\n    {\n      \"column\": \"age\",\n      \"properties\": {\n        \"dtype\": \"int32\",\n        \"num_unique_values\": 68,\n        \"samples\": [\n          67,\n          45\n        ],\n        \"semantic_type\": \"\",\n        \"description\": \"\"\n      }\n    },\n    {\n      \"column\": \"priors_count\",\n      \"properties\": {\n        \"dtype\": \"number\",\n        \"std\": 4,\n        \"min\": 0,\n        \"max\": 43,\n        \"num_unique_values\": 39,\n        \"samples\": [\n          26,\n          35\n        ],\n        \"semantic_type\": \"\",\n        \"description\": \"\"\n      }\n    },\n    {\n      \"column\": \"race\",\n      \"properties\": {\n        \"dtype\": \"category\",\n        \"num_unique_values\": 6,\n        \"samples\": [\n          \"Other\",\n          \"African-American\"\n        ],\n        \"semantic_type\": \"\",\n        \"description\": \"\"\n      }\n    },\n    {\n      \"column\": \"decile_score\",\n      \"properties\": {\n        \"dtype\": \"number\",\n        \"std\": 2,\n        \"min\": 1,\n        \"max\": 10,\n        \"num_unique_values\": 10,\n        \"samples\": [\n          2,\n          3\n        ],\n        \"semantic_type\": \"\",\n        \"description\": \"\"\n      }\n    },\n    {\n      \"column\": \"score_text\",\n      \"properties\": {\n        \"dtype\": \"category\",\n        \"num_unique_values\": 3,\n        \"samples\": [\n          \"Low\",\n          \"High\"\n        ],\n        \"semantic_type\": \"\",\n        \"description\": \"\"\n      }\n    },\n    {\n      \"column\": \"is_recid\",\n      \"properties\": {\n        \"dtype\": \"number\",\n        \"std\": 0,\n        \"min\": 0,\n        \"max\": 1,\n        \"num_unique_values\": 2,\n        \"samples\": [\n          1,\n          0\n        ],\n        \"semantic_type\": \"\",\n        \"description\": \"\"\n      }\n    }\n  ]\n}"
            }
          },
          "metadata": {},
          "execution_count": 11
        }
      ]
    },
    {
      "cell_type": "code",
      "source": [
        "#Fill in the ellipses here\n",
        "white_accuracy = 0.627\n",
        "white_false_positive_rate = 0.266\n",
        "white_false_negative_rate = 0.107\n",
        "\n",
        "compas_black = ...\n",
        "statistics_array = ..."
      ],
      "metadata": {
        "id": "fTj9lwNz12r3"
      },
      "execution_count": null,
      "outputs": []
    },
    {
      "cell_type": "markdown",
      "source": [
        "**Question 3.2** Can you think of reasons why these statistics differ?"
      ],
      "metadata": {
        "id": "fXqOulwMC2Sh"
      }
    },
    {
      "cell_type": "markdown",
      "source": [
        "_ANSWER HERE_"
      ],
      "metadata": {
        "id": "jdHoKX_FOHUL"
      }
    },
    {
      "cell_type": "markdown",
      "source": [
        "##### Todo: Scaffolding for EDA cells, normalize the plot so it looks better\n",
        "\n",
        "**Question 3.3** While often a convenient example, race is not the only metric that are a consequence of blindly predicting data. Let's take a look at how decile scores are predicted for the age and sex columns. We've given a rudimentary violin plot below - please note anything you notice about the spread of distribution of the plot. What does this say about how the algorithm views different sexes' likelihood to reoffend? Different ages? Feel free to perform analysis similar to question 1 to better understand how age and gender affect COMPAS."
      ],
      "metadata": {
        "id": "_3F4o5itZQeV"
      }
    },
    {
      "cell_type": "code",
      "source": [
        "compas_full = compas_full[compas_full['decile_score'] != -1]"
      ],
      "metadata": {
        "id": "tL2S16axnFxW"
      },
      "execution_count": null,
      "outputs": []
    },
    {
      "cell_type": "code",
      "source": [
        "import plotly.express as px\n",
        "\n",
        "fig = px.violin(compas_full, y=\"age\", x=\"decile_score\", color=\"sex\", box=True, title='Gender Differences in Age Distribution per Decile Score')\n",
        "fig.show()"
      ],
      "metadata": {
        "colab": {
          "base_uri": "https://localhost:8080/",
          "height": 542
        },
        "id": "cnE7sBY5ZO2i",
        "outputId": "41157ebd-2967-4452-8ca3-f88d2b319d8b"
      },
      "execution_count": null,
      "outputs": [
        {
          "output_type": "display_data",
          "data": {
            "text/html": [
              "<html>\n",
              "<head><meta charset=\"utf-8\" /></head>\n",
              "<body>\n",
              "    <div>            <script src=\"https://cdnjs.cloudflare.com/ajax/libs/mathjax/2.7.5/MathJax.js?config=TeX-AMS-MML_SVG\"></script><script type=\"text/javascript\">if (window.MathJax && window.MathJax.Hub && window.MathJax.Hub.Config) {window.MathJax.Hub.Config({SVG: {font: \"STIX-Web\"}});}</script>                <script type=\"text/javascript\">window.PlotlyConfig = {MathJaxConfig: 'local'};</script>\n",
              "        <script charset=\"utf-8\" src=\"https://cdn.plot.ly/plotly-2.24.1.min.js\"></script>                <div id=\"ee7ff574-3be8-43ad-92b6-d0a24aa22513\" class=\"plotly-graph-div\" style=\"height:525px; width:100%;\"></div>            <script type=\"text/javascript\">                                    window.PLOTLYENV=window.PLOTLYENV || {};                                    if (document.getElementById(\"ee7ff574-3be8-43ad-92b6-d0a24aa22513\")) {                    Plotly.newPlot(                        \"ee7ff574-3be8-43ad-92b6-d0a24aa22513\",                        [{\"alignmentgroup\":\"True\",\"box\":{\"visible\":true},\"hovertemplate\":\"sex=Male\\u003cbr\\u003edecile_score=%{x}\\u003cbr\\u003eage=%{y}\\u003cextra\\u003e\\u003c\\u002fextra\\u003e\",\"legendgroup\":\"Male\",\"marker\":{\"color\":\"#636efa\"},\"name\":\"Male\",\"offsetgroup\":\"Male\",\"orientation\":\"v\",\"scalegroup\":\"True\",\"showlegend\":true,\"x\":[1,3,4,8,1,1,6,4,10,3,4,6,3,4,3,1,10,5,3,6,9,2,4,3,1,3,6,3,7,10,9,8,1,3,1,10,3,5,3,8,2,9,2,1,2,6,7,9,7,1,10,8,1,3,4,2,2,3,6,9,6,5,4,5,8,7,1,5,3,7,1,10,2,6,4,10,9,1,6,1,1,4,4,4,6,6,6,2,1,3,8,7,1,2,2,1,10,9,5,6,1,10,5,9,7,6,5,7,7,8,6,5,8,7,3,1,1,4,2,2,6,4,5,9,6,1,9,9,7,8,4,9,5,3,5,2,2,9,4,8,1,7,8,10,9,1,9,8,9,10,4,6,3,1,2,1,5,2,8,9,2,7,4,2,3,10,2,2,10,3,1,8,6,5,8,9,1,10,7,1,4,1,4,7,2,1,2,1,10,5,1,2,3,3,1,4,6,1,9,6,1,2,1,1,10,2,8,5,1,5,8,2,1,1,4,1,10,9,4,9,8,3,3,2,10,3,1,4,1,5,1,10,6,2,5,1,1,4,7,1,9,5,6,2,1,2,4,1,1,3,10,1,4,9,9,6,1,1,4,4,1,9,5,2,4,2,4,8,2,9,8,1,8,5,3,8,2,7,2,9,2,1,6,8,3,8,6,2,4,1,4,10,4,2,8,8,8,7,7,6,5,6,7,10,10,4,8,1,7,6,1,1,1,4,1,4,1,2,7,4,9,8,1,4,5,4,5,4,1,3,3,3,2,4,3,2,8,5,5,8,1,8,1,3,2,3,1,1,3,5,10,2,10,8,10,5,1,6,3,9,4,9,1,8,2,5,9,6,1,3,1,4,1,5,1,5,3,3,6,2,1,8,9,9,1,1,2,9,6,3,1,10,8,1,1,3,6,10,4,7,2,5,5,4,10,5,1,3,4,3,8,7,7,6,8,8,1,2,9,5,8,1,1,2,3,7,8,4,1,3,4,8,5,2,9,7,9,2,9,5,7,1,1,4,8,2,4,2,5,8,9,3,10,7,5,9,7,1,1,2,1,3,8,1,2,1,6,8,3,3,1,6,2,3,3,1,3,5,5,6,1,7,6,10,7,7,1,4,5,1,4,8,1,2,6,1,10,1,1,1,1,1,4,5,10,3,5,2,1,6,1,3,1,8,1,2,1,8,8,6,5,5,4,3,2,1,9,10,1,1,3,1,6,9,7,1,1,6,1,5,2,6,10,4,1,10,2,1,4,6,1,1,1,6,1,4,5,3,1,9,9,7,9,2,7,5,3,9,1,4,1,4,8,5,7,3,5,3,6,10,5,1,2,1,1,7,3,1,5,8,5,9,4,1,3,1,7,5,1,2,1,7,8,2,5,5,4,4,2,9,4,1,3,2,4,1,3,5,1,3,3,10,7,10,7,10,7,10,6,1,1,1,9,1,6,3,5,2,5,6,3,7,6,3,5,1,7,3,1,6,8,5,3,4,1,4,8,4,3,1,7,6,1,7,4,1,1,6,1,6,4,6,10,7,1,1,2,7,8,3,2,2,1,7,3,4,1,8,7,5,2,10,10,1,7,6,1,1,7,1,4,8,4,1,9,5,1,1,5,1,2,3,8,3,10,1,1,6,6,10,2,2,9,7,9,5,5,1,4,9,9,6,1,2,3,5,2,10,1,3,4,2,4,8,1,7,2,2,8,4,7,1,10,9,7,9,6,2,4,1,1,5,2,1,1,5,4,9,5,7,1,5,2,7,9,9,5,3,9,10,1,4,6,1,9,1,7,5,8,5,2,8,1,2,2,10,8,5,7,4,6,1,1,3,6,1,8,2,1,6,1,4,8,6,5,1,1,2,1,8,1,1,5,2,1,1,8,10,2,2,9,1,2,1,3,10,7,8,3,4,1,4,4,6,4,1,9,8,2,3,9,7,2,2,1,5,10,2,3,5,5,1,9,5,5,7,3,7,4,9,7,2,8,7,6,6,4,9,3,4,2,2,2,6,3,1,2,1,3,2,1,2,4,9,4,4,6,7,1,1,9,3,5,2,9,1,1,5,3,4,7,2,8,1,6,2,3,7,10,1,3,7,6,3,2,4,6,7,4,5,8,10,3,1,4,6,2,3,8,3,1,3,8,8,10,7,8,4,7,2,1,4,9,3,4,4,9,5,1,2,1,7,2,1,3,7,8,9,4,4,1,8,2,2,5,9,4,1,9,1,4,3,3,7,8,4,7,2,1,9,8,4,1,7,8,2,1,1,6,2,9,1,8,4,10,3,6,3,1,2,6,5,10,7,6,2,4,5,1,7,10,1,1,1,6,1,3,2,1,5,2,4,2,2,3,10,2,5,7,3,7,2,1,2,4,5,2,1,7,4,1,1,9,10,9,3,1,3,1,10,2,3,9,7,1,2,1,7,2,7,6,6,3,1,3,1,5,9,7,10,4,5,4,8,2,7,3,4,10,5,5,10,7,1,1,3,8,9,7,10,1,6,3,3,5,6,1,8,3,1,7,5,5,1,4,1,10,2,1,4,1,1,9,7,3,3,2,2,4,3,6,3,2,7,4,1,10,1,2,4,3,8,1,2,2,5,4,3,3,2,3,6,1,7,1,2,4,7,1,5,1,6,6,7,4,6,3,5,10,7,10,6,5,3,9,10,1,1,1,2,7,4,2,1,3,8,5,3,3,2,1,2,6,3,8,1,1,1,1,4,1,2,6,1,10,1,1,2,1,10,3,1,1,2,2,5,3,6,3,10,3,2,2,1,4,1,3,7,8,10,3,1,5,3,10,1,1,6,1,3,4,1,1,6,4,1,1,4,1,7,8,3,1,5,4,2,2,1,2,10,9,2,8,6,5,9,6,2,7,2,1,1,2,2,1,6,8,1,10,1,5,10,5,3,8,9,6,5,5,2,3,9,2,2,10,6,4,6,9,1,1,6,1,9,2,4,1,10,1,4,4,6,4,5,3,5,3,6,1,1,4,9,5,6,10,1,2,3,2,2,9,10,2,3,3,4,8,8,9,5,10,4,8,9,2,3,7,5,1,4,4,5,4,4,1,2,2,2,2,6,1,3,1,4,1,7,1,10,3,4,3,8,2,4,6,2,6,9,1,2,6,6,10,7,4,4,4,8,10,6,8,2,6,2,1,2,1,9,1,3,1,8,5,10,9,10,9,1,4,3,3,5,4,4,3,8,2,10,7,1,5,2,4,1,4,3,10,2,1,6,4,5,8,3,1,9,3,6,10,1,3,9,5,1,4,2,7,1,2,3,1,1,3,9,2,1,2,1,5,7,3,6,2,1,1,2,1,10,10,8,1,10,5,2,2,1,5,2,1,1,1,5,4,4,4,1,1,1,2,5,1,9,7,10,1,2,5,1,1,6,5,5,8,7,2,4,3,2,2,2,10,8,7,1,3,7,2,7,3,6,2,4,10,2,3,4,1,2,5,10,7,1,7,2,9,4,9,7,1,5,2,4,9,6,2,4,2,3,8,9,1,10,7,5,2,3,9,8,10,2,1,6,1,9,5,4,1,6,2,1,2,4,1,1,7,7,5,9,2,1,9,9,1,5,9,3,2,6,1,3,8,7,3,4,1,8,1,4,9,2,10,10,2,9,9,10,2,1,8,4,8,6,7,5,1,6,3,2,1,3,4,8,7,7,2,3,5,3,8,4,1,2,9,1,5,4,2,2,3,2,5,2,6,2,9,1,7,3,3,7,6,7,3,5,7,1,4,5,2,4,1,4,2,1,1,6,4,9,4,8,1,7,1,7,9,6,2,8,10,7,10,1,1,2,1,3,1,3,3,3,10,6,2,8,10,2,4,1,9,1,7,4,1,3,10,1,3,4,9,2,1,1,2,3,7,8,7,6,9,1,8,1,7,2,2,2,1,5,5,5,6,7,2,3,7,8,9,2,10,9,4,1,1,4,6,9,1,1,5,7,5,2,9,10,1,1,1,3,3,1,3,1,3,1,1,7,3,1,1,2,7,6,4,2,9,2,1,6,1,4,8,7,1,8,2,4,3,5,1,8,5,8,1,7,7,10,6,9,4,3,7,1,1,2,2,2,7,5,10,9,3,1,1,1,1,1,2,1,1,2,9,6,6,5,3,8,8,1,5,1,6,1,5,4,2,9,7,8,6,1,2,6,8,6,7,1,8,6,3,7,1,1,1,5,1,5,6,5,7,5,9,1,2,7,2,1,2,5,6,7,5,1,3,7,10,9,10,3,3,8,7,3,2,3,6,2,1,9,2,6,2,7,6,1,1,10,1,3,2,6,8,9,4,4,8,6,1,3,2,1,3,7,8,9,4,1,1,8,9,6,9,2,8,7,5,4,4,1,7,3,7,4,1,9,3,2,6,3,1,10,4,2,7,6,8,9,3,7,2,3,1,4,1,5,9,9,3,9,7,8,2,2,2,2,6,1,9,6,1,8,4,2,3,9,1,3,6,2,2,1,2,7,1,7,3,1,1,3,1,7,4,2,8,5,3,1,8,9,2,1,5,4,5,3,8,3,2,1,1,1,1,1,1,9,8,3,4,9,4,7,7,2,4,7,6,1,5,2,6,3,5,2,4,1,10,9,6,2,3,9,9,3,4,6,4,7,1,2,10,4,8,1,7,3,1,7,1,7,1,5,7,5,9,5,1,2,7,5,1,7,4,8,1,2,5,1,8,5,7,6,3,5,1,4,9,2,4,1,4,4,10,10,4,7,2,2,1,8,7,5,1,1,4,7,7,10,3,3,1,10,3,3,3,9,10,1,7,1,8,3,7,3,1,4,1,2,6,1,4,7,5,3,1,10,7,1,8,8,1,5,8,3,9,6,9,8,8,1,2,6,2,4,4,2,7,1,7,9,1,9,2,9,4,4,3,3,5,8,8,7,1,6,4,5,1,8,2,4,7,9,7,9,1,1,1,3,6,5,3,4,2,3,10,9,4,7,4,10,7,1,7,1,3,5,2,3,10,2,2,8,3,1,4,5,1,1,1,3,3,1,1,10,4,3,4,2,5,4,1,7,5,1,4,2,5,10,3,1,2,1,5,3,5,9,8,4,1,9,3,1,6,8,1,1,1,3,8,2,9,4,9,6,2,4,8,6,2,4,1,1,1,7,1,5,1,2,9,5,9,5,4,1,10,3,10,4,6,4,5,1,1,3,7,2,10,4,1,9,1,5,2,4,2,3,7,5,2,1,10,7,2,1,1,1,1,1,4,1,2,1,8,5,10,7,10,6,10,1,5,1,2,1,3,2,4,9,8,3,8,10,6,4,8,4,1,4,7,9,2,1,1,2,6,5,3,5,4,8,8,6,7,3,10,8,7,5,3,6,1,4,9,3,7,2,1,4,9,2,6,1,7,3,6,5,2,1,10,1,8,1,5,1,5,2,8,10,7,5,4,6,1,9,3,4,1,9,8,10,6,1,2,7,1,6,1,6,2,1,7,1,1,2,4,9,7,9,5,9,8,6,10,5,1,1,10,1,10,9,9,7,4,3,6,1,3,1,2,3,1,1,2,5,6,2,2,7,2,10,10,9,6,1,2,10,6,4,2,1,9,5,1,8,4,6,4,2,4,1,3,5,2,7,2,2,3,1,5,3,1,1,4,1,6,4,4,8,1,1,10,1,4,3,10,1,1,8,6,1,7,6,1,3,7,8,4,3,1,2,1,4,1,9,7,6,9,1,3,1,1,9,3,1,1,7,6,4,2,2,5,8,9,5,1,1,1,6,8,1,5,7,10,10,3,1,4,1,8,1,6,3,2,4,5,6,3,2,5,2,3,5,10,10,1,6,3,5,10,1,1,6,1,8,7,8,1,2,3,6,1,8,3,2,1,3,3,8,1,2,1,6,1,3,5,1,7,6,10,2,2,3,3,5,8,2,2,1,7,2,6,1,2,7,2,10,6,1,1,4,6,10,1,8,4,9,8,1,8,9,3,7,1,1,3,1,3,10,9,1,2,1,1,10,1,2,2,2,5,2,1,6,2,2,4,10,7,6,3,1,8,1,8,7,1,3,9,1,7,7,9,10,7,3,1,8,1,1,3,1,2,3,1,2,8,5,10,5,1,1,3,1,4,4,9,1,5,1,2,8,6,5,1,1,3,2,3,6,6,5,8,9,6,7,1,8,2,10,8,7,1,7,7,6,7,1,6,3,1,2,7,6,4,6,1,7,3,6,8,6,4,4,2,4,9,1,1,3,6,7,6,5,5,5,2,1,9,1,6,5,2,4,7,9,5,1,1,3,9,2,2,2,3,9,1,1,2,4,4,8,1,1,1,7,2,1,6,1,2,7,5,1,9,9,7,1,8,1,1,1,10,1,2,2,9,1,5,8,4,1,6,4,6,2,8,7,10,10,6,1,2,2,1,5,9,9,2,5,1,9,5,7,1,3,2,5,3,5,10,1,9,3,1,7,4,1,3,4,4,4,7,3,6,5,2,7,1,1,1,2,8,4,2,5,4,1,10,4,6,1,6,5,2,9,6,6,1,8,2,2,6,3,4,1,3,10,2,1,4,9,7,8,5,7,5,3,1,3,1,1,2,1,10,5,2,4,10,4,1,7,2,6,5,3,1,1,1,4,7,3,5,1,5,7,3,1,8,4,8,1,1,8,5,6,2,3,6,4,3,3,1,5,5,9,1,1,3,2,7,4,2,5,10,4,6,10,3,1,1,9,2,1,5,1,9,7,4,1,3,2,1,4,2,1,5,1,8,1,8,2,10,3,7,3,2,7,1,3,7,5,1,6,7,6,10,5,2,4,2,5,2,5,3,1,7,1,1,9,5,5,2,2,1,10,8,2,6,6,7,9,8,8,7,1,2,2,1,3,3,2,1,4,8,2,3,5,8,6,4,7,1,6,3,8,6,5,9,3,8,1,1,5,2,2,4,4,4,4,1,1,2,1,5,6,8,1,1,5,3,5,8,9,3,10,3,1,4,4,8,10,9,3,1,9,6,9,8,3,6,1,6,2,6,6,1,2,1,2,4,1,7,8,6,3,5,8,8,6,2,1,9,10,5,5,1,4,3,2,3,1,9,4,10,2,1,10,7,3,4,4,3,9,7,1,6,5,1,3,3,10,5,1,10,6,1,2,10,6,8,1,8,2,9,4,6,4,3,10,9,7,1,4,1,1,3,5,1,1,6,5,1,1,9,4,1,8,8,10,4,5,1,9,2,7,3,2,1,8,1,3,5,6,9,7,6,1,10,6,5,9,7,2,10,5,8,4,1,8,2,1,9,4,1,8,3,4,5,9,4,3,1,3,1,2,1,1,10,2,4,2,9,1,3,8,9,1,10,8,5,8,3,8,7,4,9,6,4,9,6,7,3,5,1,3,8,10,6,8,7,1,8,9,4,1,2,10,2,7,8,3,3,2,6,7,9,1,1,10,2,7,5,1,1,1,5,4,1,9,1,5,2,3,5,8,4,1,1,6,7,9,3,9,9,3,6,1,2,1,4,5,2,4,9,1,2,1,7,8,10,1,1,10,3,4,2,1,2,4,3,9,1,9,9,2,3,1,7,7,10,1,2,9,6,3,4,3,1,9,9,7,1,1,4,4,1,2,1,1,1,1,9,1,10,2,8,8,1,9,7,2,7,1,3,8,2,6,2,4,9,3,3,4,7,5,8,1,2,9,6,10,1,7,1,1,8,4,7,7,1,3,1,4,5,5,1,1,3,2,1,8,6,1,4,9,4,2,8,5,3,1,5,8,2,3,10,5,1,6,1,5,4,1,2,5,3,1,1,8,4,2,1,4,10,9,6,1,4,7,3,6,2,9,10,1,3,7,1,2,10,2,9,8,5,3,1,1,4,1,10,1,9,1,7,9,9,2,6,2,2,1,3,8,6,1,9,1,10,8,3,4,2,1,10,8,10,3,1,7,6,1,5,3,8,9,8,1,8,2,2,6,1,8,2,6,4,5,4,4,8,8,3,6,1,3,3,2,2,10,2,1,10,6,3,2,1,8,4,1,1,3,6,4,10,9,2,3,3,9,2,1,2,6,3,8,1,1,5,5,7,4,2,5,5,7,4,4,5,9,1,7,3,7,1,4,2,3,1,1,7,2,6,2,2,3,1,9,2,5,3,5,10,7,1,5,2,1,1,1,6,6,6,4,8,1,9,2,7,3,7,8,6,4,2,5,1,5,1,7,2,8,1,2,10,7,3,1,8,10,8,3,3,6,1,4,5,10,1,3,8,7,1,2,3,4,8,6,3,2,3,8,8,8,6,8,2,3,2,1,3,2,4,6,10,1,2,5,3,8,2,2,10,8,10,1,8,2,3,7,9,9,2,4,9,8,2,8,3,8,1,1,2,3,1,1,3,3,7,7,1,8,8,2,10,2,4,8,10,1,3,9,8,8,8,4,4,4,4,2,9,8,4,2,4,2,5,8,1,6,2,4,2,7,1,9,9,7,3,8,3,2,1,5,6,9,5,3,6,4,4,1,1,2,8,1,2,1,8,2,9,3,9,1,8,2,5,10,9,7,9,4,4,1,4,1,2,3,1,1,5,10,8,4,8,8,7,9,5,2,4,3,4,7,4,1,10,7,5,2,4,6,7,10,6,2,2,1,10,5,7,7,2,1,4,4,10,10,1,2,6,7,9,4,9,3,5,9,2,5,10,1,1,3,7,4,7,7,9,7,9,2,8,3,10,9,4,2,8,1,5,7,1,9,9,5,7,1,6,1,4,4,5,3,8,1,10,8,10,10,1,7,1,9,7,7,3,9,8,10,5,2,1,7,2,1,2,1,8,1,1,4,4,2,8,2,7,2,8,4,1,4,3,4,7,6,4,1,7,9,2,6,3,3,2,5,2,1,1,3,7,3,8,7,10,8,1,4,2,7,1,1,10,9,4,2,2,9,1,2,6,9,4,1,3,2,7,7,1,3,5,3,1,10,7,8,3,10,2,4,1,6,9,10,1,4,8,4,5,3,9,7,8,3,2,4,5,1,4,4,4,10,4,6,6,3,5,4,4,2,2,5,1,2,1,3,9,3,1,1,1,4,1,1,1,3,3,7,2,2,1,6,1,1,5,1,7,6,10,5,2,9,1,7,3,2,4,1,2,1,9,1,1,2,3,2,1,6,4,8,8,1,1,4,1,8,8,9,4,2,7,2,2,8,1,7,5,10,5,3,1,6,6,4,4,9,4,1,2,7,4,5,8,1,10,4,10,5,1,5,8,10,4,4,9,9,10,6,10,2,3,3,9,10,3,1,9,2,4,4,5,9,2,1,7,1,2,5,2,2,2,7,9,6,1,5,2,2,8,3,6,8,10,4,9,1,3,1,4,5,4,3,1,5,2,4,10,1,1,9,1,1,1,4,1,1,1,4,6,9,2,1,9,3,2,6,9,8,1,3,8,1,8,7,10,6,9,3,8,5,8,4,3,1,1,1,1,6,4,4,10,10,1,9,6,7,8,7,10,9,5,9,7,7,1,8,2,3,1,7,5,4,10,1,6,1,5,5,1,5,5,1,7,3,6,5,5,2,8,1,1,1,9,4,3,6,1,10,8,1,1,9,2,1,7,1,1,1,3,5,1,1,6,6,4,5,2,5,8,9,6,5,10,2,2,4,6,7,8,8,6,1,6,3,4,9,9,5,8,3,1,3,5,8,8,4,3,1,7,1,5,1,4,1,2,1,1,4,2,2,1,9,8,2,4,3,1,1,7,4,6,4,3,5,7,6,3,8,1,3,3,7,2,2,1,3,1,6,3,6,3,4,4,1,6,2,8,1,3,2,1,9,2,5,7,7,4,1,10,3,1,2,5,1,1,1,5,7,4,1,4,6,8,7,3,3,6,9,8,2,7,7,5,7,4,1,8,1,7,5,5,7,5,9,1,4,8,2,4,2,1,1,4,4,1,4,6,6,10,5,2,2,5,6,6,4,3,9,9,7,2,1,1,1,5,5,2,2,9,6,1,2,4,8,1,4,3,9,2,5,2,3,1,7,2,2,1,8,1,4,2,2,2,1,5,7,8,8,3,9,2,4,6,6,1,2,3,9,9,4,7,3,2,3,1,1,3,1,2,8,2,3,4,6,2,3,1,5,10,7,1,10,1,2,1,1,7,9,2,1,6,1,9,7,5,1,3,2,3,2,4,3,1,2,1,6,1,1,10,8,2,4,2,1,6,8,2,3,2,6,8,6,4,5,10,1,7,1,2,1,7,10,2,8,9,2,3,4,3,1,2,2,1,9,3,4,5,8,6,7,1,4,1,10,2,9,1,4,3,8,3,3,5,8,7,9,1,8,1,9,2,2,6,5,7,3,8,1,3,2,5,2,8,5,4,7,2,5,2,4,1,5,1,1,1,10,10,9,9,5,10,1,2,7,2,6,5,3,1,6,1,6,8,1,6,5,1,1,1,1,7,1,3,1,4,4,8,1,10,4,9,6,7,6,5,2,2,5,3,7,1,4,10,8,4,6,2,5,1,9,9,7,1,4,9,4,6,3,7,5,9,3,1,1,8,2,5,2,8,7,4,9,2,1,3,2,1,1,8,6,10,1,1,4,1,8,2,2,3,1,4,3,1,5,5,2,2,1,1,2,1,1,2,1,5,9,1,7,1,3,9,4,2,7,1,1,8,6,1,8,9,3,1,3,6,10,5,10,8,7,4,5,5,9,1,1,6,6,1,8,2,5,7,5,4,3,9,1,4,7,4,5,5,6,3,6,6,9,10,6,6,1,7,2,8,3,4,5,2,9,5,5,5,1,1,4,7,3,10,3,8,1,1,5,8,6,3,7,8,8,9,7,10,5,9,6,10,6,1,7,7,6,7,6,2,1,8,7,3,1,8,1,6,2,1,1,1,3,4,1,1,3,1,6,4,2,10,4,6,8,1,2,9,6,1,8,2,6,1,2,1,5,9,5,5,5,8,1,4,6,5,5,2,8,10,6,6,9,1,8,8,2,1,7,4,9,4,5,1,4,5,5,8,2,2,2,1,2,5,2,7,1,2,8,7,2,10,2,9,3,4,6,2,4,4,9,5,5,6,4,4,3,1,6,3,1,9,2,3,1,4,1,1,5,9,2,2,4,8,5,5,1,5,4,6,6,1,1,4,1,7,3,9,8,2,6,4,8,3,2,1,3,2,1,6,1,7,3,9,9,4,1,7,1,1,9,9,2,1,4,9,3,5,1,9,1,10,1,10,2,2,2,1,5,7,2,1,4,5,2,1,1,4,5,4,7,3,4,1,10,3,3,7,2,5,8,8,7,4,7,2,2,1,4,2,1,2,10,5,10,8,1,9,1,3,9,8,5,2,8,4,1,10,2,3,1,4,7,5,8,5,2,5,10,1,2,4,2,1,7,3,5,7,4,4,3,1,1,9,4,9,4,8,4,1,10,8,9,3,6,2,8,1,9,7,3,1,8,1,5,7,2,9,3,1,7,1,2,8,1,3,3,1,4,4,2,1,5,3,3,8,2,2,3,9,1,6,9,9,4,1,8,9,6,2,3,1,2,5,3,8,4,2,2,7,6,1,1,3,1,3,1,8,1,7,6,9,8,2,2,1,2,4,8,1,4,3,10,4,1,8,10,2,8,6,1,1,9,8,8,4,1,4,5,5,10,8,1,2,4,1,7,9,4,1,7,6,1,6,1,3,9,3,3,5,5,3,1,2,7,5,6,1,1,5,1,2,7,5,1,6,2,5,10,8,9,8,9,5,4,8,6,8,1,4,6,1,4,5,7,1,9,4,1,2,1,2,1,6,3,5,5,3,6,3,1,7,2,5,4,5,4,9,2,2,6,8,8,5,3,5,2,5,2,3,7,2,3,5,7,4,1,3,9,1,7,3,5,1,10,10,9,5,9,3,5,7,6,2,2,2,1,2,4,1,5,9,6,5,2,4,9,7,9,1,9,6,3,1,10,3,9,8,7,4,7,1,4,10,1,3,8,8,1,3,2,5,10,7,2,9,1,5,6,10,4,5,5,5,4,3,7,3,1,8,1,2,5,4,1,1,2,1,6,2,7,3,4,8,4,10,4,1,1,9,4,1,7,4,9,4,1,3,2,6,2,6,3,5,3,1,2,7,5,3,8,7,1,2,6,1,4,4,8,8,4,8,4,4,9,8,2,6,6,6,6,3,10,1,3,8,2,9,6,8,7,6,8,5,4,4,4,1,1,3,6,4,2,4,8,10,7,2,9,5,6,1,4,2,3,6,3,2,8,2,4,8,4,6,3,3,7,5,1,2,8,6,6,2,1,6,5,3,1,7,3,6,1,5,5,7,5,8,6,10,9,7,8,9,2,1,9,10,9,6,10,2,6,10,1,1,2,1,8,2,5,3,7,3,4,8,5,3,5,1,8,1,6,1,10,6,2,1,10,6,5,1,3,5,4,1,2,6,4,5,5,6,4,4,3,3,1,6,7,1,9,3,4,1,2,2,6,7,3,7,1,7,6,1,1,9,3,10,1,10,1,10,1,6,6,6,9,6,2,9,2,7,4,1,7,2,4,4,7,1,2,6,8,8,2,3,5,10,4,1,4,6,4,5,5,8,1,9,9,1,3,3,2,7,10,7,8,5,4,2,2,6,3,2,7,5,8,1,7,1,4,8,6,10,1,8,4,1,7,5,8,8,3,8,9,8,1,4,2,2,1,1,7,3,6,5,9,8,1,5,2,2,1,4,3,1,7,2,1,2,1,3,1,1,1,8,1,8,5,10,1,2,5,4,6,9,1,3,7,9,6,3,3,1,1,1,2,6,9,3,10,2,1,3,6,4,1,1,10,4,3,6,9,3,2,2,1,3,4,5,5,7,1,1,1,6,5,5,7,1,1,4,1,1,3,2,10,6,3,7,6,2,5,1,1,1,2,1,3,7,1,7,8,1,6,4,3,1,4,2,8,7,4,1,2,2,3,4,2,2,4,10,2,1,1,7,5,1,1,5,7,1,7,3,1,1,1,8,8,3,4,7,1,4,2,8,2,10,2,4,5,7,1,4,6,8,8,3,5,4,4,7,2,1,2,1,2,10,9,1,2,8,2,2,4,3,2,2,1,6,7,6,2,7,2,7,4,9,7,1,4,8,1,1,7,3,7,1,6,1,5,2,6,1,1,1,2,8,1,3,9,5,6,8,9,9,2,8,1,7,8,2,6,1,3,8,2,2,1,10,6,4,2,5,9,2,8,3,8,10,1,3,6,2,3,1,2,3,1,2,4,1,1,7,6,1,1,2,2,5,2,5,10,4,6,9,4,3,6,8,3,1,4,9,1,2,9,6,6,4,2,3,2,2,2,1,9,3,8,1,1,1,8,7,3,9,7,1,1,5,7,9,4,4,5,4,8,1,2,7,8,1,8,4,1,6,7,5,8,1,6,5,2,2,1,1,5,2,7,1,1,2,2,6,1,6,3,7,2,2,5,5,1,1,10,1,6,3,1,5,6,1,10,8,9,2,6,7,7,4,4,4,9,3,7,7,7,2,4,8,1,2,2,7,1,6,1,9,5,9,4,10,7,3,3,6,7,9,2,5,3,4,1,1,2,8,8,1,8,2,9,1,1,2,3,4,1,10,9,9,10,2,3,1,7,4,2,1,1,3,1,6,8,2,3,2,3,8,6,2,4,9,9,3,8,3,7,8,7,2,7,1,7,4,2,1,1,1,2,9,5,1,3,5,2,9,1,2,8,10,8,1,4,6,6,5,10,1,1,4,7,1,10,9,1,2,5,6,7,1,1,1,8,10,4,5,1,9,8,9,8,1,3,2,1,1,8,1,4,3,1,1,2,5,3,10,3,2,2,2,2,1,4,6,7,7,1,2,4,3,10,10,1,4,4,5,1,9,5,2,5,3,3,9,9,9,7,2,2,8,1,1,1,1,3,5,3,2,10,5,1,1,6,10,1,3,1,7,3,9,1,3,1,10,8,1,5,8,6,2,7,10,6,3,2,3,7,7,1,5,8,6,2,3,3,7,3,3,7,3,3,3,9,6,3,6,8,9,6,4,5,6,10,1,10,1,2,4,1,2,4,9,7,5,3,6,2,9,6,3,5,1,5,4,1,10,5,1,8,2,1,5,9,8,8,1,2,1,1,7,1,8,4,3,8,9,7,6,1,1,3,6,10,9,2,1,3,8,1,4,10,1,4,1,7,5,2,9,3,2,6,3,6,10,3,9,1,9,7,4,1,4,8,3,2,7,10,6,5,6,7,1,1,2,5,1,1,6,10,9,8,2,5,1,4,4,1,2,7,10,8,6,9,3,3,3,3,2,3,3,2,1,2,2,5,5,4,2,5,1,4,6,4,10,10,1,4,7,4,1,2,9,3,1,8,5,4,1,3,10,8,3,5,3,5,7,10,2,2,6,9,6,2,7,4,3,9,1,1,3,10,1,6,1,9,5,5,2,1,2,5,4,9,1,6,4,1,10,1,5,9,1,2,10,4,8,7,1,9,1,6,3,2,10,10,5,1,6,5,2,2,4,5,1,9,2,1,8,1,1,1,1,9,2,7,4,4,10,7,1,1,9,7,1,3,7,2,6,6,2,4,9,2,5,3,5,3,2,8,2,2,8,4,7,1,8,1,1,4,1,1,5,1,8,4,1,6,2,2,2,3,7,1,1,3,1,6,9,2,9,2,4,5,6,8,7,2,1,3,3,3,2,9,1,2,4,8,6,1,3,2,5,1,2,3,3,9,1,6,3,4,10,9,6,10,1,5,1,5,9,1,1,3,1,5,2,1,1,3,3,9,7,4,9,3,5,6,3,1,5,1,9,3,4,2,1,2,6,4,3,1,2,1,2,6,3,9,10,4,3,9,4,1,7,2,2,9,2,1,3,3,1,5,1,6,4,8,2,8,2,5,3,2,1,2,3,9,10,7,10,8,6,6,3,2,2,7,1,5,8,1,7,4,9,9,3,3,7,7,4,1,7,5,3,1,4,2,4,5,6,9,6,10,2,2,4,10,3,2,4,10,9,1,8,10,2,1,4,1,6,7,4,1,9,3,1,2,1,10,4,1,4,9,8,3,6,6,1,1,6,4,5,6,8,2,8,8,2,10,1,9,1,6,1,5,4,1,7,7,3,2,7,5,1,8,7,1,8,4,9,3,8,4,1,3,5,1,4,8,5,7,1,4,5,1,9,2,7,1,9,9,2,1,8,6,1,10,4,8,8,4,2,1,1,1,1,1,1,1,10,4,8,8,1,5,4,1,9,8,6,1,2,3,7,6,3,1,7,4,3,1,1,5,5,7,5,5,2,1,4,2,2,7,6,9,4,7,5,8,8,5,2,7,10,7,7,7,4,1,4,8,7,5,9,1,2,2,1,1,8,8,1,5,6,9,5,2,4,6,1,2,2,6,8,4,7,7,1,2,2,7,6,5,1,2,2,1,9,6,9,5,1,4,3,3,6,3,7,2,3,2,9,3,9,9,9,1,7,6,10,2,9,8,9,4,3,2,1,1,1,7,8,1,1,3,7,2,2,9,10,1,2,9,2,3,4,3,2,4,2,7,4,2,8,2,9,4,6,10,1,8,4,4,1,9,7,1,7,1,8,1,2,8,4,4,1,9,4,5,1,1,3,3,3,6,7,1,1,4,3,7,2,6,9,2,1,9,7,8,3,1,2,2,6,1,4,2,1,1,1,1,1,2,5,7,5,3,9,6,2,8,4,1,5,9,7,5,9,1,1,6,2,1,7,5,1,6,6,1,10,9,9,5,9,6,5,7,7,6,2,4,5,2,10,4,9,4,6,5,5,6,10,3,4,6,8,4,7,1,9,9,2,8,8,10,1,4,3,9,9,3,7,2,1,4,1,6,5,10,1,4,2,1,4,2,5,8,6,1,2,3,4,2,10,6,1,7,6,6,9,2,1,5,6,3,3,3,9,7,1,6,2,3,5,1,4,1,5,7,9,7,6,5,9,8,8,6,1,5,7,7,5,1,1,7,3,3,3,2,6,1,2,1,7,3,6,3,1,7,1,1,7,6,8,1,5,4,4,5,6,5,7,7,1,8,7,2,1,5,9,5,7,2,1,6,1,1,4,2,6,7,7,9,5,10,1,2,4,8,2,9,5,9,6,10,2,3,10,2,5,8,2,9,4,8,4,9,8,7,2,2,2,1,7,4,6,5,2,8,6,1,3,1,2,5,5,8,2,7,4,7,1,9,2,2,6,5,3,6,10,4,6,4,5,2,1,1,1,1,4,2,7,5,4,6,6,10,2,7,3,4,8,1,1,7,3,10,1,9,1,3,1,6,4,10,4,1,3,1,1,7,2,3,2,10,4,8,3,5,8,4,1,2,8,4,8,10,9,1,1,5,7,1,7,4,7,2,4,6,1,2,9,1,9,6,6,2,10,4,3,9,2,5,2,4,1,10,1,6,8,7,3,1,6,4,1,2,5,1,2,6,4,4,1,8,1,7,8,9,10,5,10,3,7,7,4,6,10,2,1,1,4,6,3,6,4,5,7,5,10,2,4,1,2,1,6,2,1,1,3,6,8,9,10,4,2,2,10,8,1,2,5,1,1,2,2,4,6,5,2,5,1,8,7,1,5,3,9,7,8,9,5,5,1,4,9,4,5,1,2,10,2,10,2,2,2,4,1,5,5,1,3,8,1,1,3,6,2,1,10,6,3,2,9,9,2,9,2,7,10,1,4,7,3,10,6,6,6,3,1,3,5,5,3,4,1,1,4,6,1,2,10,9,7,1,9,2,6,2,8,9,5,2,9,10,9,9,6,1,4,1,4,1,5,4,5,5,3,5,10,1,6,7,1,1,8,10,5,10,1,1,3,1,1,2,6,7,1,7,2,1,3,1,1,1,6,6,3,3,4,5,8,5,7,2,10,7,1,5,1,6,1,3,8,4,9,4,1,4,10,4,1,4,5,2,10,6,4,7,9,3,4,4,4,5,4,4,6,4,9,1,3,4,4,4,4,9,1,7,2,6,6,1,5,9,10,5,7,2,8,5,1,6,1,4,6,7,4,4,3,2,1,2,4,6,4,8,1,1,5,4,2,5,2,1,3,3,3,1,1,2,8,9,9,6,1,2,2,5,2,4,1,9,9,2,6,1,7,8,8,9,1,2,7,3,7,2,6,8,8,2,5,7,2,2,3,4,6,9,1,9,10,6,2,6,1,7,3,8,7,7,6,10,1,1,9,9,8,2,7,4,10,2,5,8,1,9,5,1,2,7,6,3,1,9,2,10,8,8,4,3,10,9,7,5,2,7,1,2,1,1,1,5,1,9,9,6,1,6,7,1,3,7,1,1,10,2,4,1,9,4,3,1,9,2,1,6,3,4,3,3,4,3,8,7,1,7,4,10,10,5,10,2,8,10,8,8,3,5,3,5,5,1,3,2,7,6,1,6,4,5,3,10,1,1,1,3,1,5,9,1,10,5,4,1,1,7,1,1,6,8,2,10,9,3,2,1,8,2,1,1,6,2,6,8,2,1,6,1,9,10,6,1,1,1,3,4,1,6,7,5,9,9,7,6,6,4,10,1,8,4,5,7,1,3,2,7,8,1,2,9,1,1,1,7,1,5,4,9,3,2,1,1,2,4,2,6,1,4,2,4,3,3,1,1,10,6,1,4,1,4,2,6,7,7,5,1,1,7,1,1,1,1,3,3,1,6,9,5,1,2,7,8,1,5,1,8,1,2,3,2,3,1,10,4,6,1,6,9,7,2,7,7,1,9,10,9,1,1,5,9,2,2,4,6,1,4,8,4,8,9,1,6,5,5,7,1,1,7,5,1,3,4,1,8,7,3,4,6,6,1,10,3,3,1,7,4,10,3,10,8,6,1,4,2,4,4,6,2,5,5,5,3,5,5,5,1,3,5,8,9,9,2,7,3,6,10,4,5,1,3,10,1,8,3,3,4,1,4,2,3,10,2,7,2,3,5,10,2,7,8,2,5,3,6,6,2,1,4,2,10,2,1,10,6,7,9,1,3,10,3,4,9,6,1,6,1,1,1,9,8,3,6,9,1,6,8,10,8,3,10,10,10,6,7,5,1,7,10,4,1,10,1,6,3,4,6,2,4,2,1,3,2,1,6,3,6,1,6,6,9,6,1,1,10,4,6,2,2,2,4,1,10,4,7,7,3,1,1,2,10,8,1,1,4,4,1,3,1,1,2,1,2,2,4,8,3,6,5,1,9,3,5,9,1,5,4,9,5,1,6,5,10,5,4,1,6,1,10,1,5,4,1,3,1,1,4,5,5,6,6,9,1,1,6,3,8,3,6,7,10,3,10,2,6,2,2,6,2,7,1,1,6,10,1,3,2,6,1,10,4,6,10,7,10,5,2,4,6,8,2,5,2,10,4,8,10,6,4,7,5,9,5,3,6,5,2,1,2,2,7,6,5,7,3,3,1,9,6,8,1,9,4,5,1,8,5,9,3,9,1,3,2,6,4,1,4,4,4,1,2,6,3,2,2,8,6,2,7,3,1,2,5,8,4,10,2,3,4,10,2,6,2,9,7,3,1,9,1,2,5,8,8,8,7,6,9,3,10,5,2,7,1,9,3,1,9,6,3,2,6,1,1,1,9,7,6,3,2,10,2,4,3,5,1,3,7,10,8,10,7,3,4,2,4,9,2,1,1,9,1,9,9,5,9,2,7,1,1,10,2,1,5,4,1,3,1,1,7,6,8,1,1,1,6,6,2,1,6,1,4,6,9,3,10,5,8,2,2,8,4,8,2,3,7,1,2,5,10,10,3,2,6,2,7,1,2,4,9,4,8,5,3,2,10,4,3,5,6,4,8,5,6,2,1,8,5,1,1,5,3,6,1,3,10,3,5,1,5,2,1,1,4,2,5,8,6,1,7,7,5,6,4,7,3,3,9,3,1,9,1,5,5,3,1,4,1,7,1,2,3,10,5,2,6,7,6,1,2,6,1,1,7,1,1,1,4,6,8,2,1,1,7,6,3,6,9,10,2,5,6,5,9,9,5,4,7,10,6,10,10,8,1,8,8,2,10,1,10,9,2,9,6,2,1,1,2,10,7,3,1,1,8,9,2,10,7,2,1,7,5,5,2,2,2,1,4,1,9,1,9,1,1,1,10,1,2,3,2,8,5,1,4,1,5,7,4,9,2,9,5,1,8,10,8,3,9,2,6,2,1,8,8,7,7,7,6,2,4,4,3,9,10,7,8,3,6,1,3,7,6,10,7,2,3,2,6,6,1,2,4,4,1,3,2,7,2,5,3,7,5,4,8,1,2,10,4,9,2,5,4,8,6,1,6,3,4,7,3,6,3,5,1,9,1,5,1,4,3,1,7,5,10,2,3,3,8,1,8,1,2,7,10,5,5,2,1,4,7,1,1,3,1,9,1,2,5,8,1,6,1,9,2,1,1,4,2,6,5,1,7,8,4,4,1,4,10,9,1,1,1,8,1,5,9,4,3,7,1,2,4,10,1,5,6,2,1,5,2,1,8,6,10,1,9,1,3,9,1,1,7,3,1,7,7,7,9,8,1,1,3,3,5,1,7,2,6,1,4,1,1,4,1,3,1,4,2,2,1,2,1,1,4,7,1,1,5,4,10,8,2,1,5,4,5,3,4,9,2,9,10,1,1,1,1,5,3,9,3,2,2,10,10,7,2,2,3,9,8,3,9,1,2,4,4,4,4,5,2,4,2,10,1,1,3,2,6,4,9,9,1,2,2,2,5,7,9,6,1,3,1,6,5,10,1,10,6,9,1,2,2,4,4,3,7,1,1,1,3,7,4,3,1],\"x0\":\" \",\"xaxis\":\"x\",\"y\":[77,42,33,31,51,53,50,51,29,30,36,32,30,50,39,45,34,40,39,73,30,36,32,51,51,41,52,35,35,41,39,40,72,35,64,41,47,62,58,34,33,43,37,60,38,33,36,45,37,38,34,43,57,42,38,38,59,34,57,42,39,40,33,36,41,38,57,62,44,71,42,35,47,55,31,30,38,70,36,41,54,31,42,48,32,38,35,48,60,31,31,36,41,41,50,58,38,74,61,31,59,33,29,30,32,62,49,34,45,35,30,39,33,80,43,48,75,28,33,39,33,39,40,67,43,51,30,30,36,28,47,36,42,39,42,46,50,50,31,42,53,40,35,39,36,55,64,42,61,42,70,31,50,35,39,37,30,36,45,31,53,40,61,43,40,35,39,67,37,32,50,47,41,42,64,36,61,33,61,71,38,63,48,39,57,42,31,54,50,40,40,34,39,32,61,70,39,64,40,37,62,67,87,65,29,32,47,47,44,30,56,32,66,75,54,54,41,46,47,34,34,54,32,42,46,45,59,52,40,33,49,34,46,36,51,46,47,35,30,65,47,37,53,37,70,59,29,45,57,46,36,45,41,63,32,30,50,60,52,60,37,39,37,56,31,39,34,40,46,41,35,62,36,53,34,30,32,44,39,31,35,56,32,32,37,29,39,48,47,48,36,27,40,40,36,29,55,30,28,75,34,36,38,31,44,40,44,51,53,61,52,46,56,32,46,37,78,62,67,54,30,35,47,42,28,43,32,43,39,48,33,42,42,49,67,53,65,36,30,31,71,35,65,45,52,32,36,53,37,56,33,36,29,33,40,31,65,29,62,38,51,29,61,57,33,36,32,61,45,36,55,30,53,29,63,36,45,32,36,38,38,30,39,47,60,41,46,41,32,56,46,28,36,48,78,44,30,34,30,28,37,53,58,38,31,43,38,44,39,29,43,33,34,30,65,38,45,38,29,30,46,42,42,36,35,49,34,47,50,37,32,35,51,31,30,30,46,53,72,44,44,62,69,37,57,32,56,53,36,36,37,42,55,45,37,31,35,49,73,34,77,65,36,61,41,69,44,40,59,32,65,61,34,29,31,62,39,31,30,37,51,29,38,37,67,31,57,45,65,36,34,33,41,36,37,33,28,44,42,41,42,40,33,34,28,31,37,33,70,43,39,47,33,35,43,53,50,29,35,35,37,60,37,64,55,68,35,37,71,51,29,66,32,62,44,51,62,66,49,32,43,61,29,33,60,33,45,55,53,42,65,43,68,43,67,38,43,38,38,29,35,59,42,35,57,40,46,38,64,38,63,37,37,47,37,36,34,61,75,31,35,59,43,80,45,35,61,48,38,34,57,64,39,37,41,33,68,38,51,33,67,56,64,38,33,60,29,34,33,31,36,62,34,40,34,41,30,54,46,34,29,40,44,43,51,33,44,31,30,56,80,76,36,52,55,53,36,31,51,67,33,57,34,48,29,72,31,59,47,50,37,31,29,34,62,48,33,36,53,51,46,34,43,31,32,73,59,36,75,39,31,39,33,61,39,65,39,29,36,33,36,29,41,31,28,35,34,39,36,68,49,31,45,59,39,36,52,45,36,47,33,30,68,52,36,34,60,41,38,72,37,37,34,63,31,39,38,30,70,33,35,40,29,35,36,34,32,47,60,35,31,47,53,45,29,29,38,33,65,41,31,39,38,38,61,32,48,32,40,30,36,47,40,56,30,44,32,74,44,62,60,57,45,70,53,29,46,39,42,40,63,37,35,45,55,30,36,39,37,31,73,36,30,56,39,44,40,45,28,45,46,53,61,41,42,29,42,56,66,37,33,53,55,45,34,60,36,49,62,35,37,31,30,50,32,70,46,39,53,58,54,48,31,35,70,42,32,33,30,33,38,77,50,48,30,40,38,31,31,46,50,30,54,57,45,58,32,33,37,33,59,42,50,32,44,39,30,48,33,34,36,80,48,29,31,34,31,44,30,62,36,63,64,35,34,48,32,36,35,37,36,36,40,50,34,39,34,55,34,45,57,34,33,29,32,31,65,56,45,40,30,39,33,40,41,72,38,35,56,29,41,33,35,91,37,45,47,38,38,33,42,45,44,33,35,35,61,37,40,41,41,38,43,52,56,34,48,31,44,29,42,29,52,33,56,31,60,34,76,42,64,30,71,31,37,38,35,46,60,51,59,29,50,66,49,35,30,30,50,33,47,35,66,56,33,34,35,55,33,34,37,33,33,38,45,39,33,46,41,33,40,32,39,39,48,54,55,57,32,48,32,49,30,51,32,42,44,37,59,34,57,30,46,41,32,60,28,41,52,35,35,61,35,55,36,41,36,62,53,37,41,35,48,32,49,44,37,37,47,44,31,55,51,33,39,61,36,49,34,29,57,51,30,41,72,38,66,35,55,31,33,33,49,36,60,36,55,36,58,41,32,40,54,42,33,60,56,41,33,35,55,34,34,29,34,31,44,29,39,38,54,28,42,44,49,32,46,51,51,34,63,36,50,31,47,32,38,44,42,47,38,63,31,46,35,64,28,46,60,36,38,44,41,29,34,31,41,38,39,52,35,31,65,32,41,61,38,51,50,28,64,30,54,38,63,38,60,54,36,32,33,33,59,32,64,38,45,31,77,29,68,48,38,31,37,43,53,34,40,44,35,39,41,38,36,28,69,62,60,34,35,33,64,43,35,38,44,65,33,43,55,36,33,37,51,67,48,63,36,54,46,33,37,64,44,42,52,68,66,63,36,49,66,41,41,44,31,30,56,39,44,61,44,44,46,61,62,66,31,30,34,56,36,56,39,64,53,29,43,54,47,59,41,38,35,53,56,31,58,44,69,57,67,41,36,32,49,41,34,36,42,38,33,42,29,45,32,32,38,33,75,40,58,59,49,33,33,62,33,55,32,44,34,34,31,41,47,38,41,33,32,42,46,31,35,52,35,44,33,70,39,61,34,35,48,56,58,34,46,38,29,33,29,35,34,40,31,48,44,39,29,50,44,29,31,65,31,29,46,31,29,49,70,42,34,30,34,41,50,32,28,32,37,34,58,30,41,59,74,43,44,34,38,34,39,39,48,50,35,33,60,39,47,28,55,33,44,29,32,40,37,35,49,47,36,52,58,29,50,53,37,41,38,37,47,47,30,38,30,30,45,38,42,47,45,40,36,32,56,29,44,39,32,32,30,29,33,49,36,69,29,41,28,43,46,32,36,37,29,41,39,46,40,36,39,30,29,65,60,46,29,31,44,67,52,34,40,39,28,49,40,31,35,53,34,47,37,81,30,44,37,37,33,66,36,65,41,62,56,59,29,29,38,45,68,34,38,28,31,35,80,29,30,39,39,46,52,54,77,38,46,32,57,41,46,54,51,74,62,53,55,47,35,37,60,36,50,82,52,33,57,35,31,66,73,40,36,44,38,43,30,29,36,54,68,31,36,41,52,31,46,34,41,34,41,47,60,42,35,30,40,52,31,33,31,38,33,29,48,39,41,68,29,62,42,45,31,31,41,41,75,39,37,52,44,34,30,27,41,42,57,31,38,71,46,43,61,68,43,53,40,37,65,60,32,30,35,30,38,66,29,36,52,49,66,74,36,35,69,40,32,42,34,29,64,45,57,30,32,37,31,42,46,29,29,28,40,41,36,33,31,29,66,53,61,43,37,43,61,44,37,30,30,49,56,52,32,50,43,35,63,47,38,50,31,48,52,50,30,32,51,32,34,58,35,61,35,52,30,39,57,40,37,34,33,36,37,31,53,40,40,60,70,77,60,39,28,32,30,32,65,39,52,33,34,32,66,30,40,34,39,56,51,33,69,73,37,45,31,37,38,40,35,36,61,28,63,45,34,71,43,29,35,40,34,42,38,35,46,40,81,47,49,31,53,29,36,64,31,46,30,65,63,37,39,65,61,36,31,32,42,42,43,31,33,41,56,33,34,36,50,64,54,45,36,29,67,80,28,36,40,58,53,39,67,54,56,32,29,60,42,46,30,41,50,29,58,35,39,42,55,31,30,41,35,46,56,67,37,36,29,35,43,41,49,47,31,51,60,29,41,38,38,55,30,44,29,42,33,32,46,56,54,37,41,35,52,65,38,44,38,63,38,40,75,53,37,76,53,34,33,37,54,40,32,29,35,69,63,40,52,41,45,67,40,66,46,41,53,41,59,54,37,35,54,57,34,43,34,40,51,44,39,29,59,40,31,46,60,30,31,61,58,64,31,53,31,30,36,33,30,51,45,39,30,44,37,32,52,34,41,37,38,66,29,36,60,43,35,29,32,34,28,57,69,65,74,29,54,47,45,53,41,73,41,39,70,42,47,43,40,32,42,30,35,46,43,47,35,47,57,35,32,31,29,32,72,67,34,55,32,38,49,31,40,35,32,36,57,31,39,55,62,42,53,35,34,33,60,48,55,37,66,31,44,43,35,33,39,29,46,60,60,40,37,65,54,35,39,42,32,40,39,28,41,38,45,32,38,74,68,34,59,36,31,66,57,38,46,40,33,34,36,33,74,71,38,39,32,55,50,41,30,30,38,52,34,56,58,63,42,63,46,35,37,85,43,59,31,31,60,37,34,45,37,42,46,51,54,29,41,39,32,50,33,44,34,78,31,33,38,33,31,30,37,56,67,44,38,44,35,40,40,40,76,37,56,32,53,51,48,64,36,38,61,33,40,45,61,30,47,37,76,59,38,45,31,47,41,49,34,36,67,43,53,39,37,62,30,52,40,39,36,69,62,37,55,31,33,38,52,78,52,60,34,33,40,32,37,35,44,64,68,36,33,74,43,49,62,32,32,34,65,37,70,37,38,60,36,47,33,31,48,28,55,47,32,61,62,47,34,61,40,34,34,33,45,45,39,34,30,43,30,34,33,45,33,30,59,41,41,42,34,51,38,59,41,42,46,36,36,37,35,30,66,35,44,36,37,38,33,35,52,40,68,48,31,31,30,50,43,52,39,38,47,30,35,27,59,45,34,71,32,42,44,30,38,48,45,35,33,77,36,29,36,51,55,34,42,38,55,41,34,31,30,39,55,41,63,35,41,48,43,31,37,30,40,68,45,59,66,44,40,30,53,36,47,57,59,58,39,43,66,77,64,67,29,35,67,30,40,75,61,50,38,30,40,65,67,37,47,31,54,41,37,59,55,43,39,51,61,54,51,45,38,41,40,34,29,44,65,47,43,61,73,36,46,30,60,38,44,39,70,34,34,35,41,51,35,39,44,32,42,55,69,70,47,55,38,61,43,30,40,40,33,34,40,69,57,46,38,54,45,35,30,37,44,43,50,32,31,37,29,30,46,55,30,38,37,51,66,65,49,49,39,30,32,34,57,42,34,38,60,34,67,39,45,32,42,34,43,41,42,48,58,33,34,50,30,45,38,48,36,46,29,58,34,61,47,68,29,58,50,43,31,38,31,34,51,43,60,42,33,46,45,53,41,32,29,44,59,29,57,47,69,31,39,40,34,37,61,35,35,52,38,53,59,29,37,52,45,34,48,45,38,49,38,36,49,32,53,39,43,79,62,60,45,31,60,34,60,37,64,34,35,33,39,29,46,30,30,35,40,33,63,39,37,79,45,54,48,29,52,47,38,46,47,53,51,39,38,56,33,49,41,57,35,40,41,70,39,70,56,33,30,38,72,55,42,38,52,30,34,60,48,41,30,68,47,31,51,29,47,32,44,44,40,37,69,52,48,39,62,35,33,50,29,39,41,29,30,42,57,61,30,30,38,35,55,30,59,44,61,57,56,40,30,41,56,70,29,44,53,54,43,61,29,62,31,54,34,39,40,58,37,44,36,50,35,44,33,34,55,30,61,31,36,38,56,34,44,31,57,38,85,53,37,36,61,45,30,54,42,54,36,30,56,46,48,33,46,48,32,57,32,40,43,31,32,52,45,51,36,52,62,48,56,37,57,44,44,31,34,31,43,43,79,39,34,32,43,33,34,69,35,69,66,45,32,35,55,49,37,57,54,28,31,62,65,74,39,35,65,40,34,29,47,32,76,28,33,32,57,42,40,29,37,75,46,41,28,44,63,49,68,61,54,35,31,43,45,28,49,39,49,51,33,52,54,47,48,34,56,34,30,35,62,72,35,33,70,59,35,66,32,43,36,43,39,62,53,64,66,46,63,53,69,36,30,35,38,57,51,46,47,35,32,30,51,58,52,33,30,59,39,48,45,37,32,35,49,32,43,40,29,57,34,47,32,36,34,64,31,65,75,55,67,36,42,42,35,44,50,43,38,41,45,59,43,35,35,45,33,54,38,57,28,49,33,58,38,29,62,58,51,30,69,55,82,84,52,28,36,62,34,61,36,62,41,65,31,64,32,47,32,62,42,32,37,34,36,53,37,64,44,38,31,65,35,37,46,47,41,35,49,43,31,69,46,54,39,51,35,42,31,41,63,34,33,32,70,44,36,36,33,42,41,47,42,30,48,36,48,38,38,47,74,45,54,63,52,28,36,36,70,56,36,36,28,35,61,34,34,39,32,32,40,38,49,36,54,65,33,53,76,30,48,29,72,56,43,61,70,37,64,43,38,29,31,34,49,63,43,31,69,47,62,41,35,69,29,77,40,35,39,30,38,32,49,54,40,31,72,59,49,28,41,46,40,48,56,32,39,61,38,35,38,75,34,39,33,53,43,36,33,41,40,31,50,55,35,36,59,65,31,43,42,28,54,60,52,32,42,35,46,47,43,34,36,49,29,46,47,39,45,43,30,33,53,41,39,49,36,57,66,76,68,32,29,43,40,39,36,57,64,51,43,52,53,38,34,38,41,34,105,44,38,36,50,39,33,57,42,57,50,34,51,38,35,43,63,33,51,34,29,35,30,35,43,35,36,63,38,37,47,30,34,37,62,37,35,61,39,40,32,54,42,37,66,30,34,42,32,45,53,30,52,48,54,36,46,35,37,32,40,33,45,50,35,50,49,41,36,56,45,32,36,33,32,39,63,35,43,44,34,29,33,39,31,38,64,42,53,50,64,29,66,53,34,45,36,64,48,39,59,39,29,66,67,29,59,36,34,32,43,45,36,57,30,28,30,29,66,35,38,38,50,60,32,31,28,50,63,34,31,46,46,58,43,36,30,67,45,36,47,36,30,41,40,68,39,28,68,35,35,38,34,53,49,55,46,31,46,43,39,45,43,29,55,31,34,51,36,44,55,43,29,31,49,57,42,40,41,39,31,39,37,45,48,60,43,39,43,31,62,36,51,46,58,34,41,58,37,56,38,55,35,43,39,33,29,34,32,33,56,69,57,57,39,30,40,34,62,30,35,38,38,30,61,29,60,34,38,58,32,33,47,46,28,62,40,34,37,47,31,30,30,35,33,35,37,57,60,34,65,42,47,44,32,31,48,30,31,39,51,58,63,46,37,46,32,50,59,50,34,48,31,59,29,64,33,53,33,60,42,46,32,46,32,60,49,56,52,31,53,38,65,29,48,34,46,32,45,46,64,64,62,30,36,27,37,35,33,75,37,59,30,33,69,45,31,81,53,51,48,43,29,65,51,41,58,54,43,56,67,57,54,37,47,33,44,36,34,62,30,35,31,80,38,33,41,32,44,30,57,34,38,36,41,37,39,30,73,46,49,68,67,36,34,39,36,34,68,65,42,34,56,39,40,69,33,32,41,31,32,34,41,31,33,68,35,42,38,58,38,27,31,43,55,30,62,68,30,33,73,50,54,32,57,29,37,37,46,62,38,34,39,41,31,43,49,46,35,39,52,36,58,41,31,49,32,43,41,42,41,49,46,36,59,54,32,46,30,47,54,40,30,50,59,61,34,69,31,71,66,45,33,32,46,33,29,46,33,38,61,42,38,68,31,49,45,48,56,40,28,70,29,59,35,36,39,48,32,39,29,32,50,76,47,41,35,78,33,63,37,28,30,36,37,45,34,40,40,33,77,29,30,50,30,38,47,29,34,64,40,65,44,43,61,30,51,58,64,36,34,38,56,34,29,57,45,51,72,49,43,30,36,38,43,41,33,40,56,42,53,52,64,32,63,30,47,30,34,52,60,30,40,41,65,31,58,43,48,38,32,35,31,29,29,30,29,32,43,54,39,34,64,44,35,43,56,39,54,30,42,55,51,47,47,59,39,32,54,34,47,30,48,45,33,32,70,51,47,38,76,36,31,53,51,39,48,68,43,53,45,40,36,66,33,41,39,37,40,65,75,44,70,66,77,73,69,46,37,46,71,31,39,31,40,33,43,42,34,46,50,34,44,34,64,34,43,58,39,34,40,40,32,42,32,33,39,49,32,60,49,59,30,35,37,40,32,39,35,37,68,38,32,33,42,37,29,57,32,61,54,40,33,39,33,33,33,31,40,31,42,35,51,57,44,33,56,70,60,34,57,38,59,55,46,35,37,57,33,29,42,35,29,55,30,29,30,38,55,33,65,42,32,37,30,65,36,39,29,49,56,40,76,32,41,28,65,31,36,48,33,51,38,42,47,40,31,48,32,67,51,61,35,35,56,42,42,37,32,54,34,41,43,31,47,38,36,34,42,30,39,50,47,68,30,48,35,62,30,38,39,43,52,30,43,43,32,30,53,32,42,48,30,39,52,30,32,44,31,41,32,37,51,32,40,33,33,34,64,41,35,29,37,36,34,43,54,34,30,29,55,36,63,43,32,35,36,56,37,38,51,34,36,63,41,34,49,30,59,37,29,42,40,34,31,39,36,50,52,47,31,49,29,44,43,36,33,46,30,34,62,54,36,60,31,36,38,47,34,46,45,37,36,31,58,29,45,34,31,49,37,30,34,31,42,35,44,66,36,46,45,59,61,33,47,35,63,80,35,43,31,54,64,42,54,35,31,40,32,48,28,33,32,34,35,37,42,51,38,50,46,55,44,31,33,32,44,56,63,30,35,32,52,58,34,41,35,55,41,31,52,34,32,34,37,41,30,40,41,34,38,64,59,36,53,28,32,33,58,32,40,40,51,45,30,38,56,62,30,32,39,31,36,45,33,28,41,84,37,75,39,53,34,47,36,67,36,35,62,51,45,44,35,39,39,41,47,34,33,61,59,46,67,43,41,38,36,47,33,47,61,65,57,55,66,47,55,40,43,51,29,30,33,33,64,32,35,61,35,40,36,65,60,45,54,32,30,29,60,78,37,35,37,47,38,74,43,46,30,30,56,64,35,53,41,32,66,34,47,41,49,40,45,71,30,51,31,37,40,46,36,57,31,57,37,68,48,33,45,32,65,58,33,29,44,65,33,34,42,57,43,37,41,64,46,29,33,57,34,43,66,30,29,47,31,34,41,53,31,37,34,32,42,43,31,65,48,38,53,66,30,43,42,33,36,29,44,62,69,52,81,41,33,34,68,33,52,39,45,50,57,59,63,54,54,45,39,48,58,50,42,34,35,38,32,35,44,30,54,38,51,53,40,65,51,29,32,47,60,30,36,41,56,60,34,64,61,39,40,42,44,48,28,74,68,39,38,35,35,54,33,52,40,50,46,62,52,35,37,28,45,36,48,46,31,50,33,48,35,34,67,30,41,47,29,47,68,37,66,62,41,54,67,60,33,62,63,40,53,36,44,48,67,45,46,48,51,69,45,51,29,60,43,53,32,45,37,47,53,51,34,41,29,46,42,37,42,48,44,49,41,27,41,45,41,56,71,46,33,41,39,33,43,32,47,42,44,31,35,48,45,54,53,43,29,58,44,39,53,65,34,37,43,61,38,34,42,32,43,42,29,55,31,65,31,49,30,36,33,31,52,36,60,40,36,41,58,38,37,32,39,64,28,39,43,65,42,37,37,46,46,39,49,60,44,74,32,47,44,66,34,34,48,49,43,42,55,63,39,31,44,42,47,61,66,32,42,60,38,67,33,41,51,54,50,31,58,51,49,49,34,33,32,29,40,33,53,32,47,34,34,33,55,56,63,31,42,44,35,36,38,34,56,43,41,38,42,36,35,29,47,33,38,55,60,59,34,40,31,39,63,35,53,63,58,42,52,31,45,44,34,34,53,55,61,33,36,36,50,32,50,32,47,71,32,51,41,32,32,35,58,49,33,51,65,48,51,61,35,31,46,41,46,60,38,37,71,58,29,59,35,45,54,39,32,52,34,34,53,62,35,35,45,29,80,33,49,69,47,40,62,64,45,43,38,30,52,64,36,31,31,34,65,42,41,55,60,31,56,36,29,36,48,34,43,73,42,30,74,33,60,47,37,33,47,41,40,39,43,41,38,59,31,39,38,44,30,41,57,41,66,62,39,37,62,42,33,56,43,32,31,31,56,30,70,49,61,38,57,46,58,28,47,58,66,40,31,39,56,40,41,33,66,54,66,66,37,32,35,39,53,35,51,57,37,53,31,50,34,62,36,48,61,35,55,44,41,39,40,29,35,53,41,43,36,30,37,36,38,29,43,55,53,34,46,36,30,36,40,61,53,37,40,68,49,57,41,38,34,60,43,64,45,46,42,30,28,42,35,38,41,34,46,28,40,38,40,44,43,29,75,32,38,43,79,35,31,35,52,31,45,35,36,62,38,74,29,54,51,62,29,28,58,38,37,46,34,42,62,56,47,33,30,56,60,31,51,44,35,47,31,63,33,34,72,47,58,51,33,42,49,53,60,59,42,54,37,42,49,51,43,47,30,42,45,41,39,54,39,61,49,57,64,53,61,35,37,37,31,35,60,41,36,30,29,32,40,61,68,34,65,36,35,40,65,44,42,32,36,47,37,70,62,47,38,29,39,49,44,32,47,41,38,67,31,35,31,32,59,40,33,49,60,36,58,50,44,60,37,29,30,35,31,66,44,63,34,63,47,32,32,58,56,39,35,45,45,35,38,35,69,36,50,30,37,42,37,64,30,38,36,54,32,59,33,56,65,63,48,44,39,62,43,34,92,55,43,39,31,55,40,59,44,36,33,67,53,39,44,29,58,45,39,38,33,45,32,37,33,40,32,37,60,42,38,47,48,44,67,28,34,32,40,42,61,42,29,56,34,42,52,31,66,29,45,43,65,65,61,34,31,39,34,38,33,38,36,46,48,37,35,34,54,38,45,70,35,39,43,36,38,30,37,37,60,38,29,69,32,29,30,68,34,45,47,32,28,69,61,34,37,31,30,61,65,48,33,68,74,78,28,53,40,42,34,69,36,63,55,60,34,34,53,41,45,86,28,58,40,38,37,30,30,67,32,49,60,43,31,39,60,37,33,46,52,53,41,45,31,64,44,35,31,37,51,49,30,36,40,69,36,35,50,50,67,52,38,42,30,30,60,29,44,36,36,49,50,33,34,29,47,30,48,33,50,48,47,59,38,48,34,31,33,53,29,42,47,35,36,52,44,47,51,53,34,42,34,58,40,32,48,35,32,39,39,35,38,40,33,43,78,47,52,42,48,29,32,52,48,47,29,31,34,33,56,30,44,34,34,32,32,30,43,39,40,38,42,29,69,37,63,35,61,46,36,64,68,31,41,63,33,49,49,69,66,34,80,32,37,32,33,29,53,65,52,30,40,41,38,31,32,33,54,43,29,63,45,34,70,33,47,54,71,33,36,58,49,38,45,66,30,60,52,40,40,55,31,30,52,36,36,40,61,67,31,29,47,40,41,34,68,77,47,41,66,31,56,40,43,38,37,60,44,60,29,34,37,39,28,71,48,39,38,39,41,29,53,39,32,54,47,51,40,32,34,39,52,61,48,56,40,30,30,32,74,70,40,38,63,30,38,41,60,41,30,57,36,30,34,36,29,37,42,48,52,57,29,40,59,31,33,41,65,32,35,50,37,47,67,60,33,31,45,62,41,62,39,44,51,35,64,33,35,31,61,41,70,32,41,54,30,62,60,37,31,32,32,34,39,34,34,36,44,57,45,42,38,31,37,34,37,35,37,32,30,34,35,34,35,48,37,47,48,65,60,45,60,34,34,31,32,75,35,42,38,30,52,39,31,37,64,40,35,40,70,34,29,44,67,57,59,65,49,40,28,46,31,62,35,34,29,42,34,37,33,57,36,32,37,41,63,34,55,64,31,59,41,64,64,32,62,49,47,36,45,33,43,43,49,47,35,66,35,30,49,65,42,38,60,54,31,51,30,65,57,36,36,43,31,55,56,42,67,35,41,30,48,38,58,43,30,52,75,45,28,47,34,68,45,34,30,34,32,62,45,30,36,30,41,40,65,39,36,46,35,51,36,50,46,41,35,40,41,52,67,54,33,41,52,59,39,45,52,45,33,40,46,30,84,49,40,42,31,35,36,34,33,65,35,29,36,49,33,35,35,63,47,45,74,73,33,38,43,65,40,77,34,36,48,47,39,33,30,39,44,42,34,39,39,43,50,34,66,41,35,33,44,49,35,30,38,54,45,43,59,34,35,33,48,36,33,38,30,36,29,50,39,32,47,40,46,35,32,39,39,29,33,33,50,33,34,30,41,47,64,43,48,58,30,34,30,54,37,61,43,66,33,48,33,31,38,59,56,46,35,33,31,65,32,52,41,59,30,59,28,48,51,67,31,54,36,38,45,30,71,59,38,37,30,30,35,30,38,52,30,61,45,33,35,36,28,42,31,34,38,33,42,47,43,32,34,33,39,58,45,41,72,30,35,50,31,30,34,35,39,36,62,66,31,31,36,51,39,30,89,42,67,77,32,44,32,49,29,34,47,34,44,30,29,40,58,32,28,53,50,34,38,53,42,28,31,30,52,32,44,35,39,34,44,35,34,32,43,38,39,47,52,53,45,47,46,64,40,71,28,33,30,46,30,40,65,31,39,48,52,34,41,35,33,55,70,54,53,39,58,41,43,39,38,36,32,37,52,43,53,39,39,35,60,29,31,49,38,40,35,53,33,32,40,60,68,58,45,33,39,55,68,60,40,43,41,63,48,32,44,41,29,54,48,31,64,45,70,50,42,41,46,60,55,30,66,41,77,32,55,49,39,33,32,50,64,34,48,32,41,32,39,34,38,45,65,52,35,34,55,68,33,29,48,37,67,75,63,56,46,37,54,54,29,60,39,37,43,33,36,44,35,37,38,76,31,37,61,33,29,32,53,28,43,33,64,32,86,61,30,43,48,38,37,62,39,35,42,32,41,51,47,30,43,62,43,35,36,35,37,34,63,33,34,42,55,31,29,36,53,54,53,37,40,33,50,44,46,44,29,59,47,40,37,41,35,31,29,43,39,78,53,34,36,42,47,44,43,46,32,52,36,34,46,35,49,30,39,39,38,32,37,58,33,49,42,49,74,65,30,50,30,29,59,45,53,33,39,53,34,46,37,50,42,41,51,38,33,29,30,56,31,46,64,28,38,64,35,33,32,33,45,52,34,57,33,48,57,30,45,35,60,75,69,29,31,44,66,34,63,39,41,57,28,75,40,63,29,39,64,33,34,55,66,36,31,51,46,76,33,31,68,45,31,39,42,61,36,46,58,38,61,45,35,33,35,44,40,45,32,42,67,63,31,41,41,41,51,49,31,59,35,34,45,32,45,30,40,54,45,31,33,41,44,38,50,30,42,64,45,29,60,64,35,35,55,50,40,50,34,36,40,32,31,52,60,31,38,48,38,57,33,49,74,49,55,35,30,53,50,40,34,40,50,47,50,34,36,52,50,29,32,36,32,42,50,29,62,57,45,49,67,71,34,60,55,59,37,33,41,33,39,65,32,47,34,57,34,42,68,43,52,29,65,54,36,46,51,74,68,44,46,38,37,43,30,38,30,78,37,36,28,33,48,30,36,43,36,45,49,69,32,43,61,47,35,59,35,30,51,38,69,43,65,31,40,30,32,54,35,33,39,41,69,36,50,34,69,31,48,44,38,42,58,57,33,38,59,34,46,47,38,35,54,30,44,38,32,61,45,72,40,32,35,57,35,30,29,37,46,60,56,51,32,58,37,34,36,54,50,40,37,47,42,50,57,36,33,38,42,42,30,41,71,48,38,52,65,37,35,32,33,60,59,65,37,30,48,35,43,32,32,36,28,35,38,58,37,43,34,67,46,31,57,70,39,53,34,55,45,35,38,52,37,31,62,42,43,29,34,37,40,46,37,31,68,37,46,39,36,60,37,33,52,36,34,30,39,64,35,33,38,45,63,31,34,54,30,35,62,34,41,54,56,72,39,50,54,59,66,40,30,50,38,36,31,57,33,46,39,42,64,33,68,38,39,56,52,74,60,57,29,73,85,44,53,47,33,53,36,45,47,29,29,31,36,36,37,61,47,58,28,55,49,38,37,36,31,42,34,33,41,53,52,37,35,66,64,76,54,41,38,43,33,30,50,39,49,42,47,50,37,32,32,39,39,40,42,35,31,30,46,34,54,53,30,40,32,29,41,37,44,38,60,31,37,29,61,34,43,56,55,54,59,31,62,46,46,29,48,59,34,31,29,37,30,34,31,42,61,39,36,33,40,38,29,35,33,52,55,65,32,30,62,38,71,33,37,48,40,54,38,34,67,35,44,33,36,52,28,38,30,47,81,71,37,39,43,35,64,34,56,30,31,36,38,33,33,57,54,35,37,42,30,32,53,37,75,55,34,37,60,55,38,28,43,40,56,47,41,32,72,39,68,33,47,44,32,42,44,34,67,36,32,42,51,52,39,36,43,35,40,31,38,40,63,47,39,66,35,30,53,61,39,45,40,41,86,69,49,42,42,36,34,39,68,31,64,41,30,62,39,58,35,29,45,44,70,34,41,48,44,36,46,41,44,39,39,50,43,50,32,41,34,59,43,29,52,46,52,38,37,36,40,53,33,31,38,28,60,45,50,53,44,44,47,41,38,59,47,30,33,38,30,46,34,73,60,46,52,38,41,44,30,30,55,41,52,43,35,35,30,70,42,54,42,49,47,49,34,29,31,29,50,63,65,31,39,32,33,61,30,42,73,42,46,29,36,37,32,30,39,37,41,34,42,43,49,33,33,32,45,38,52,62,35,59,68,30,60,33,41,38,28,29,29,50,46,55,42,40,30,69,66,31,31,40,44,58,34,36,31,40,40,33,55,34,29,37,38,51,30,49,30,48,30,40,44,39,65,38,45,47,45,40,32,32,41,42,61,29,47,55,36,30,34,29,44,32,45,72,36,36,35,33,50,38,40,52,35,33,57,33,36,30,67,31,30,50,30,41,42,35,58,68,55,65,31,55,42,45,28,41,36,47,73,30,31,77,34,30,37,37,33,30,54,42,49,29,30,45,37,42,36,48,64,31,63,30,54,28,33,47,32,64,54,48,78,88,56,55,32,68,29,39,65,38,40,65,30,30,44,51,61,29,35,50,32,52,55,34,31,42,44,78,41,31,55,43,66,48,47,31,32,33,72,46,32,36,37,29,39,45,36,59,42,45,42,32,31,46,29,44,63,35,43,68,54,46,47,54,31,33,46,34,33,42,42,35,29,41,56,39,63,48,58,28,39,66,59,32,39,35,29,31,47,60,39,48,35,35,43,29,72,35,35,35,54,31,36,29,37,32,34,39,29,45,42,70,28,32,44,58,34,40,34,31,38,42,42,61,46,30,30,52,39,29,33,53,55,49,30,62,57,61,33,44,34,30,36,47,32,40,42,35,51,33,43,34,33,31,65,43,31,29,75,40,37,38,31,47,42,37,39,30,44,37,64,29,32,36,52,47,48,32,35,44,70,42,71,31,39,48,42,35,40,37,53,39,35,43,33,63,47,37,53,56,32,38,64,56,56,48,40,56,42,33,46,29,48,37,39,70,46,47,33,39,31,29,65,56,65,56,39,61,33,35,57,39,37,68,28,31,58,44,30,58,30,30,44,55,69,34,53,38,29,28,38,57,30,37,43,63,29,40,31,54,34,45,43,45,35,44,59,40,59,56,48,39,57,49,29,48,41,38,69,46,43,33,58,31,64,41,38,55,41,38,62,38,38,35,32,52,62,33,41,41,65,49,39,38,43,49,66,35,48,36,53,35,73,29,57,42,61,31,65,50,57,44,32,36,32,65,37,30,41,34,45,40,35,54,36,37,39,45,64,29,31,33,49,44,58,42,33,56,31,36,35,34,37,47,39,61,32,46,45,60,29,29,32,31,46,40,37,30,39,48,43,40,54,45,33,34,35,54,39,70,51,57,35,41,42,62,38,45,39,38,49,45,67,43,58,35,30,28,58,31,42,29,37,38,34,29,57,38,64,30,35,36,61,36,69,53,39,52,37,48,31,28,40,33,44,39,31,58,35,68,48,39,55,35,42,35,57,52,32,63,59,29,34,61,35,31,58,46,26,39,61,80,59,53,61,35,30,35,35,34,56,28,61,61,47,46,36,41,55,40,33,38,34,35,66,41,51,31,35,41,59,39,39,50,72,32,56,35,40,36,34,45,65,30,30,30,44,31,57,58,31,35,46,42,52,31,31,77,30,32,53,73,35,38,77,35,44,39,32,33,31,51,40,32,29,49,46,36,39,34,51,32,51,31,37,52,47,41,33,32,57,45,41,68,38,29,29,33,58,63,59,38,60,29,30,33,40,31,32,32,40,37,59,32,55,40,37,50,36,30,38,58,67,45,37,35,45,51,47,38,31,55,63,72,46,45,40,31,38,32,48,56,34,63,72,36,64,69,66,33,63,38,35,34,46,33,43,69,34,66,55,30,41,39,43,26,34,58,62,37,47,36,61,65,52,38,36,31,48,56,38,34,76,37,32,58,37,35,60,55,39,54,33,86,29,55,62,63,35,32,36,30,47,44,29,38,38,38,49,40,57,48,61,39,40,38,31,53,65,37,40,41,47,44,35,35,36,51,37,62,56,36,36,33,37,34,31,51,61,30,37,30,34,59,32,47,28,39,43,41,36,35,38,29,39,79,33,55,65,67,41,36,37,33,54,59,33,54,51,33,29,42,64,41,35,40,31,68,48,59,34,40,29,37,29,63,31,54,43,33,29,55,45,46,48,29,47,31,33,50,28,29,65,29,36,43,62,66,35,37,29,29,36,38,30,54,69,52,30,31,35,33,40,30,62,62,60,29,35,57,28,72,56,34,42,29,32,66,38,57,34,59,35,40,42,61,43,49,60,35,56,35,31,65,50,46,62,45,30,34,36,33,61,42,55,30,54,37,75,39,29,36,34,62,44,43,51,39,40,56,55,37,35,34,43,33,64,30,34,59,58,58,65,28,34,30,39,44,34,42,40,42,37,34,35,60,67,40,37,48,28,29,34,33,58,37,34,31,37,33,58,42,43,39,52,61,50,50,55,66,40,44,39,36,57,40,38,46,30,31,36,34,44,66,44,41,44,42,47,40,75,32,33,40,31,33,34,61,46,37,42,38,58,40,68,60,47,32,35,31,30,43,45,39,40,55,63,29,80,83,34,35,33,51,36,37,63,66,63,39,36,48,49,29,37,41,31,36,43,37,37,39,28,35,62,36,36,43,45,40,56,30,32,64,49,39,50,64,31,69,30,28,57,40,56,59,59,41,53,65,71,50,52,36,40,43,50,31,34,62,75,43,47,49,29,38,41,32,38,41,38,55,40,33,37,43,38,47,38,37,45,57,33,38,32,29,41,38,54,44,31,31,49,30,36,30,36,30,31,34,35,38,34,39,30,41,43,32,63,39,42,51,54,39,50,72,58,58,51,33,60,40,37,57,35,36,58,55,65,62,36,43,49,54,56,36,36,30,40,51,34,39,51,31,61,57,39,42,36,37,53,46,46,31,79,43,54,37,61,49,44,56,39,34,39,45,61,43,51,30,38,42,62,66,54,36,38,71,43,31,40,40,40,30,36,42,30,34,48,38,36,29,47,43,36,45,62,37,48,50,50,38,49,45,62,34,36,31,41,29,35,60,75,35,63,59,40,37,40,37,30,35,41,45,35,50,33,70,42,62,56,43,40,54,30,37,32,50,39,68,49,30,33,40,34,56,38,34,30,37,49,47,31,38,47,44,34,34,29,63,56,36,33,37,54,40,30,43,32,68,36,32,55,41,39,63,30,53,30,52,36,31,31,40,40,41,36,29,30,32,42,73,39,29,35,38,32,59,31,68,55,40,64,34,40,35,32,37,42,85,31,52,71,44,31,52,41,32,41,62,55,39,28,57,33,65,45,57,47,52,52,78,51,40,35,82,29,35,33,30,42,30,58,50,33,42,60,36,72,33,42,42,44,41,49,48,38,53,53,32,35,33,54,61,31,33,56,28,34,45,70,42,61,60,31,36,29,56,74,50,30,47,76,53,56,38,75,48,31,40,42,33,38,37,58,40,31,29,43,43,43,31,34,35,44,43,43,59,35,63,37,31,60,28,38,38,29,52,61,49,73,32,35,31,33,55,47,68,35,29,33,38,40,39,42,32,60,39,47,65,70,35,52,38,31,83,67,41,56,38,34,65,56,58,45,39,36,58,65,36,58,67,42,44,34,37,34,32,29,38,63,37,39,48,30,55,43,52,38,44,43,34,60,44,35,50,30,68,38,36,46,50,40,31,28,75,38,37,30,62,30,36,69,60,27,68,31,42,59,64,52,51,45,65,45,43,31,33,76,40,31,41,34,43,37,52,37,40,32,38,38,34,53,39,32,39,30,39,29,32,31,66,58,61,55,50,37,33,46,41,56,54,62,56,47,48,32,70,36,29,62,30,30,39,58,44,56,48,36,30,32,42,41,52,34,60,35,30,29,70,44,43,29,30,30,38,44,37,60,35,38,46,49,50,39,63,28,33,46,28,33,35,63,48,33,37,50,41,38,66,37,64,45,30,45,59,67,36,45,32,31,53,48,31,62,37,30,30,36,29,43,31,41,32,33,32,30,47,29,58,65,49,39,55,34,53,37,30,41,46,68,63,29,40,30,30,33,38,35,43,36,42,33,29,31,40,64,31,56,43,44,36,54,74,61,39,29,58,44,39,50,38,49,61,37,63,44,37,67,47,31,30,95,36,33,30,32,38,69,59,48,39,34,53,69,50,43,51,43,64,35,61,40,51,48,30,45,40,39,47,35,32,64,32,58,62,55,34,46,59,49,65,32,32,31,56,66,31,33,41,32,31,46,38,42,39,62,31,37,32,68,46,34,29,38,30,35,56,28,44,34,34,48,41,36,49,39,41,36,43,56,35,34,53,44,86,60,32,36,46,28,37,33,52,35,31,40,60,44,36,67,47,38,42,55,38,58,49,67,36,64,39,38,56,28,57,53,32,60,32,45,37,47,63,32,59,65,32,33,47,53,35,31,30,44,39,30,46,45,35,41,47,33,32,53,41,33,29,50,37,46,37,49,60,32,40,30,32,31,35,29,33,58,75,32,58,49,60,30,30,40,41,55,61,29,48,39,44,46,35,39,77,35,62,40,33,42,57,40,50,56,47,64,46,51,46,46,58,34,62,54,42,46,30,77,35,34,30,58,61,36,36,37,44,56,50,31,40,32,42,35,53,35,53,49,49,33,58,33,70,37,33,55,73,66,35,41,34,41,44,37,48,30,39,38,31,60,42,46,66,46,36,32,61,62,66,39,56,40,68,32,61,58,42,35,33,54,66,33,32,60,35,67,35,55,60,42,52,71,42,47,45,30,43,55,34,32,64,31,29,37,44,30,49,43,30,45,33,38,71,42,39,61,44,47,67,65,39,35,74,41,35,38,73,42,56,54,43,30,69,56,40,34,33,35,38,43,52,35,41,47,32,40,40,55,38,32,58,43,57,35,58,42,49,77,35,44,34,31,45,34,35,42,52,40,54,49,42,39,50,28,42,37,45,30,38,33,45,68,38,38,43,41,37,45,74,59,61,40,34,34,33,34,63,34,40,31,61,47,56,44,62,29,44,60,52,65,33,32,31,65,53,71,56,31,43,38,42],\"y0\":\" \",\"yaxis\":\"y\",\"type\":\"violin\"},{\"alignmentgroup\":\"True\",\"box\":{\"visible\":true},\"hovertemplate\":\"sex=Female\\u003cbr\\u003edecile_score=%{x}\\u003cbr\\u003eage=%{y}\\u003cextra\\u003e\\u003c\\u002fextra\\u003e\",\"legendgroup\":\"Female\",\"marker\":{\"color\":\"#EF553B\"},\"name\":\"Female\",\"offsetgroup\":\"Female\",\"orientation\":\"v\",\"scalegroup\":\"True\",\"showlegend\":true,\"x\":[1,5,1,1,4,9,3,5,8,2,2,1,1,1,1,3,4,4,1,2,7,1,1,1,3,4,3,4,2,2,1,4,2,2,4,3,5,4,10,1,3,9,6,6,1,10,2,4,7,6,6,7,10,5,5,3,9,4,3,9,3,8,9,9,2,1,7,6,4,6,2,1,8,5,1,2,5,2,7,2,5,1,1,4,2,3,3,2,1,8,4,6,1,3,2,1,3,7,4,3,8,6,6,6,3,6,5,1,10,4,1,1,4,4,4,1,2,4,2,6,7,2,1,1,1,1,1,10,5,4,2,10,8,7,9,1,1,9,2,4,1,5,2,1,6,2,1,4,9,1,2,2,9,4,1,1,1,3,8,1,2,3,1,1,3,7,7,5,2,1,1,1,1,1,4,3,10,5,10,3,3,2,4,8,6,6,6,2,3,4,1,3,2,9,3,2,4,5,3,1,8,9,3,3,6,10,3,1,1,5,1,9,9,5,5,3,10,10,8,2,1,7,4,5,4,7,4,5,2,1,2,6,5,6,3,1,9,3,2,6,5,2,5,1,2,5,6,3,1,2,4,3,5,4,2,1,4,1,3,1,2,1,1,2,6,4,5,7,6,2,4,9,7,4,1,9,6,3,2,1,3,7,2,2,3,1,5,1,7,2,1,3,1,5,1,1,4,8,7,6,8,1,1,3,3,5,6,1,1,1,10,8,3,2,7,7,5,3,1,2,8,3,2,1,1,10,3,1,7,1,7,9,2,1,7,2,7,2,6,4,6,6,7,5,1,6,9,7,3,5,4,10,4,3,5,7,10,1,2,3,2,10,3,8,3,4,3,1,9,4,1,8,1,2,1,6,2,3,1,5,9,2,1,8,7,2,2,3,3,1,3,5,5,4,6,1,3,4,4,1,1,6,4,2,1,2,3,4,10,1,1,4,10,2,3,4,8,6,3,3,1,3,6,5,2,6,5,4,3,7,6,8,9,10,6,2,1,9,7,6,1,7,10,4,1,4,2,6,2,2,3,4,1,7,8,7,1,2,3,3,3,2,5,10,4,1,3,1,1,4,5,2,3,8,4,5,5,7,2,1,5,2,6,1,1,6,7,4,5,8,5,2,7,2,10,5,5,6,6,1,3,4,5,1,7,2,2,1,2,4,7,4,6,1,7,10,5,4,2,5,6,2,1,1,9,5,4,3,7,2,1,9,5,2,4,7,1,6,1,5,7,10,6,4,6,7,2,1,3,1,8,5,7,4,3,6,1,10,6,4,1,1,4,7,4,1,4,7,8,7,1,1,3,1,1,2,7,1,1,4,1,2,5,2,4,4,3,2,5,1,3,1,4,2,4,5,1,1,4,8,8,1,3,2,1,1,8,2,3,6,1,7,4,1,7,8,10,1,6,1,6,5,3,5,2,5,2,1,5,8,9,2,1,6,3,3,3,3,4,2,1,8,4,2,1,1,4,4,8,6,2,3,2,2,1,2,6,7,3,1,2,7,10,4,5,7,9,5,10,5,9,3,3,3,3,6,1,1,2,5,3,7,3,4,7,1,1,4,6,6,4,2,7,2,5,3,9,4,1,1,1,1,3,1,9,5,4,2,4,8,9,1,1,2,1,1,5,4,4,8,3,7,2,1,1,3,2,6,6,8,8,3,3,2,8,1,9,9,2,1,6,5,9,6,4,4,3,7,1,3,3,3,7,1,8,2,4,2,3,4,6,2,2,1,4,7,1,6,2,4,1,6,7,5,8,1,5,4,4,4,9,1,4,6,3,4,10,6,9,2,3,3,10,1,10,7,7,7,5,1,9,7,5,1,9,1,1,5,9,6,5,8,3,2,10,1,10,3,2,3,2,2,1,1,5,2,5,10,5,1,1,1,3,2,7,2,6,4,1,10,5,4,1,6,5,2,1,2,3,4,5,4,2,3,8,1,3,6,5,6,8,4,4,2,4,7,1,3,1,2,2,2,4,1,1,8,1,10,1,1,4,2,3,5,3,6,9,5,1,8,9,10,7,9,3,6,1,10,1,10,5,2,5,1,6,1,1,5,3,2,6,2,1,3,6,7,5,2,4,1,1,2,1,5,1,4,7,2,5,1,6,4,1,5,2,5,2,3,2,5,5,4,3,5,9,10,7,5,2,1,4,6,5,6,2,4,6,1,5,4,3,4,7,7,1,1,4,1,3,6,2,9,3,6,3,5,2,4,6,6,8,8,4,5,5,5,3,1,1,1,5,4,5,7,8,8,3,3,4,4,1,7,2,1,6,1,10,4,2,5,6,2,8,9,1,4,3,10,5,6,1,9,3,2,8,2,6,3,1,2,9,4,2,10,2,5,5,7,7,6,1,6,8,1,6,1,8,9,7,2,4,3,2,5,7,7,2,3,6,5,10,4,4,1,1,3,2,3,5,2,3,4,7,1,1,3,1,3,7,1,2,10,6,1,2,1,1,7,1,9,1,3,8,6,4,4,4,8,1,3,3,4,1,2,2,2,1,3,1,7,7,4,7,1,5,6,6,1,8,7,9,2,3,8,10,5,3,1,4,3,1,8,5,2,2,6,2,2,10,4,3,6,2,2,2,5,3,3,4,6,8,3,1,5,5,10,3,7,1,10,1,2,6,3,1,6,1,8,7,6,2,5,5,1,5,2,3,1,7,1,7,1,7,4,10,1,3,4,2,3,6,1,7,5,2,3,1,5,2,5,2,2,1,3,4,2,6,7,2,3,4,5,9,2,10,4,5,7,3,4,5,2,2,1,7,2,3,4,1,1,1,1,3,9,4,1,3,1,5,6,2,2,4,7,4,4,3,4,2,2,5,5,2,1,1,4,8,1,1,5,1,1,6,1,4,6,1,7,8,4,6,7,5,6,9,7,1,8,6,2,2,5,6,1,2,6,2,9,1,7,5,2,10,4,4,1,6,2,3,2,6,2,1,9,2,3,1,8,2,4,9,9,10,5,2,7,1,1,2,5,5,2,1,2,4,1,6,3,7,4,3,6,4,3,3,4,2,3,1,5,1,2,3,2,3,9,1,5,6,9,3,8,10,4,1,3,2,1,5,4,9,8,9,2,1,5,7,5,7,1,1,6,2,3,8,5,5,3,4,8,4,3,5,1,2,3,6,5,1,4,5,7,10,10,6,1,1,2,2,9,10,8,2,1,3,9,2,6,4,7,5,2,3,3,4,9,3,1,9,9,6,1,2,3,10,4,1,5,2,4,10,1,2,7,3,4,7,5,6,3,4,1,4,1,1,6,2,6,9,1,8,2,5,1,3,6,5,1,3,2,8,1,3,8,1,5,2,3,4,2,3,9,1,3,8,7,6,1,1,4,6,9,9,2,1,10,1,10,7,6,5,10,8,5,2,5,2,2,2,7,6,9,2,5,3,3,5,7,5,1,3,5,2,2,1,5,1,9,1,1,3,8,1,1,1,3,1,4,6,4,3,2,5,10,1,2,1,8,1,3,5,5,4,6,1,5,1,2,2,5,5,5,4,5,3,9,3,6,3,10,6,2,1,6,1,1,9,6,3,6,7,1,6,1,10,7,6,6,6,9,3,4,7,1,4,4,6,8,5,6,1,3,3,3,3,7,8,8,6,7,7,10,2,1,7,2,5,9,2,2,4,1,2,4,9,1,5,5,1,3,1,1,1,2,1,1,3,6,6,2,6,2,6,1,5,3,6,3,1,6,5,2,7,7,4,4,1,9,9,2,6,1,7,1,8,3,9,4,6,6,6,2,4,2,7,1,3,6,6,2,2,4,8,1,5,5,1,3,3,5,4,5,9,5,4,3,1,3,4,2,1,6,8,6,9,8,1,2,2,2,5,4,1,6,1,3,1,4,6,6,1,1,3,2,1,5,8,1,1,1,4,5,1,5,1,2,2,5,4,3,2,5,5,5,3,5,3,9,6,8,4,1,7,2,1,1,2,4,8,2,1,6,5,5,2,1,1,2,5,2,2,1,4,3,7,4,7,4,9,3,5,6,1,5,1,5,6,1,9,7,9,2,2,5,4,3,10,1,1,1,4,1,5,4,7,1,1,2,5,2,1,2,5,1,1,8,8,1,4,10,8,3,1,3,4,7,5,1,6,1,4,2,6,6,5,4,10,9,4,1,3,5,9,3,4,3,2,2,2,3,7,7,9,1,1,5,4,4,1,7,5,4,1,4,9,5,3,2,5,1,1,6,3,1,7,2,7,9,1,1,3,3,9,1,6,2,9,6,1,10,1,6,4,1,1,6,6,5,5,4,6,4,2,6,5,1,1,2,5,7,7,5,2,3,3,2,2,2,1,4,1,5,4,6,1,2,2,6,1,3,1,1,3,1,9,2,1,8,3,2,6,5,3,10,3,8,3,1,4,2,8,8,10,9,4,3,10,9,2,3,8,2,2,1,4,3,5,8,10,3,2,6,4,1,2,6,1,2,4,6,9,3,7,9,3,1,1,6,2,2,9,10,6,1,5,6,4,1,10,1,2,4,1,6,4,4,3,7,3,8,6,7,3,1,9,4,1,6,4,1,6,3,8,6,1,6,1,3,6,3,1,8,5,1,2,5,2,1,6,5,1,6,1,3,7,2,5,1,5,4,4,1,6,7,3,2,1,3,1,5,7,1,6,1,7,2,5,3,6,2,3,4,4,4,2,3,7,7,4,3,4,6,8,1,6,1,3,6,8,5,2,8,1,5,4,1,4,3,7,8,8,1,2,1,5,10,1,1,6,7,2,1,6,6,6,1,7,1,7,6,2,4,2,1,6,9,5,2,9,8,1,3,7,9,3,3,8,10,1,1,3,6,6,9,6,8,1,5,3,7,9,2,8,9,10,3,8,6,5,6,7,1,8,9,2,1,3,10,6,4,4,1,10,8,2,7,1,3,8,2,2,4,3,2,1,5,1,10,6,8,4,5,4,9,4,2,6,7,3,10,1,5,1,6,7,3,3,6,3,1,1,6,1,3,5,1,5,2,4,5,5,3,1,8,5,7,2,6,6,10,8,9,2,6,1,9,1,1,2,1,6,3,1,1,9,6,2,3,4,1,4,1,4,1,1,1,2,3,6,1,2,4,10,5,3,1,1,1,2,4,1,7,2],\"x0\":\" \",\"xaxis\":\"x\",\"y\":[48,35,46,56,29,62,45,41,30,60,37,72,40,43,64,39,33,35,68,44,29,63,53,47,41,48,33,30,39,40,72,33,46,33,37,34,39,53,29,51,39,41,29,35,70,40,55,35,39,58,30,40,46,47,37,60,65,32,46,43,40,36,36,37,33,60,39,50,34,32,43,38,38,29,46,42,55,49,33,40,32,46,61,31,57,31,49,34,54,42,40,30,41,42,50,60,31,45,33,32,29,38,34,50,41,30,32,69,35,29,59,62,33,31,52,60,36,41,39,48,31,35,56,52,68,67,50,33,33,36,59,55,60,43,33,55,62,33,39,68,68,31,44,71,42,35,57,43,31,62,38,35,35,29,48,59,56,39,32,46,44,34,58,55,31,40,30,33,33,57,47,68,42,67,37,37,32,31,28,31,44,67,65,30,40,54,45,36,42,45,40,68,37,43,55,40,36,57,69,45,55,58,45,46,39,44,44,62,54,30,61,34,34,45,38,32,56,32,29,32,61,32,41,43,74,45,32,33,45,39,41,28,38,30,41,46,30,32,43,41,33,48,46,43,39,29,31,39,60,35,45,40,38,34,66,51,37,61,44,65,38,78,42,36,35,34,29,29,32,65,29,37,32,39,59,45,43,31,38,44,51,47,59,47,32,63,35,83,34,48,40,34,62,30,45,45,35,40,35,59,47,51,47,59,33,58,31,63,49,71,39,28,63,60,38,32,32,34,40,39,44,31,41,58,48,51,35,60,61,50,32,43,49,71,68,41,33,65,69,37,35,34,30,43,66,31,36,34,32,42,36,38,40,35,39,37,37,41,63,45,42,35,43,34,38,36,54,50,65,35,50,38,58,63,41,48,54,62,62,52,35,48,59,29,43,37,40,33,32,66,33,59,34,71,30,67,31,38,35,75,45,33,31,41,57,41,56,37,47,57,68,36,47,50,29,46,39,34,36,51,69,39,31,34,35,29,43,35,33,39,39,64,32,36,29,33,59,51,34,55,55,48,29,31,49,42,32,32,37,40,54,31,40,36,38,33,43,57,43,29,37,33,37,29,65,65,32,78,54,42,48,41,63,29,29,54,31,60,41,57,34,40,42,54,41,41,31,66,40,46,32,36,34,58,38,31,36,52,43,45,44,43,35,56,52,54,56,61,38,30,31,37,56,49,53,44,43,44,52,30,34,36,62,69,34,37,34,43,35,41,55,40,32,35,31,57,65,36,68,48,55,32,32,45,32,31,44,66,33,69,32,31,60,42,40,34,55,44,33,48,55,50,30,59,34,50,33,36,53,36,42,42,73,49,72,44,33,48,58,33,48,50,49,42,58,32,45,40,33,58,33,41,30,41,49,36,42,49,34,52,36,54,36,36,69,46,33,38,38,33,39,33,55,55,34,55,54,57,35,56,33,36,36,29,39,34,58,73,50,36,40,49,47,30,39,41,42,45,36,43,44,43,33,37,49,46,54,46,38,44,47,28,36,41,51,37,30,44,33,60,46,36,30,36,38,36,33,42,39,29,28,34,33,30,42,35,48,54,37,45,40,32,43,49,37,61,44,33,63,48,35,40,50,41,31,56,61,35,46,48,47,73,33,49,36,40,41,36,31,40,43,44,44,50,50,66,40,52,36,30,54,41,35,71,64,45,40,42,34,62,40,32,63,59,30,44,30,39,67,44,45,43,42,29,29,34,60,40,58,32,40,36,31,41,34,49,44,66,54,38,31,50,31,60,41,44,63,50,38,50,56,33,53,37,28,49,33,39,49,47,46,53,43,39,41,47,39,29,39,33,35,50,33,56,30,53,33,47,33,62,60,30,32,49,59,60,73,28,32,44,32,38,43,36,36,43,38,28,62,39,52,40,57,69,31,62,37,34,31,65,50,52,34,53,43,39,37,29,58,28,35,31,63,38,35,41,53,42,53,41,34,39,56,38,55,84,41,32,32,29,35,47,43,41,30,38,74,36,59,34,43,61,38,47,65,36,73,60,66,60,30,36,34,40,38,32,31,37,49,62,30,39,48,31,48,43,56,35,65,42,36,35,33,41,61,74,63,40,32,33,39,44,72,37,36,36,30,41,36,44,49,36,49,31,56,43,34,35,36,60,42,42,61,30,37,29,36,30,37,38,39,41,31,40,33,48,32,35,35,58,30,45,30,33,52,36,47,41,32,47,70,40,30,34,55,65,34,46,59,31,63,35,50,52,35,40,41,47,45,36,40,45,32,33,65,31,43,61,44,57,35,37,45,41,39,40,31,47,34,41,40,31,36,52,32,44,41,39,36,36,45,38,62,28,46,46,35,32,45,50,47,42,52,51,28,63,45,51,39,38,33,34,41,30,36,45,31,36,47,52,55,35,50,55,37,46,31,31,41,39,33,53,42,46,42,38,59,39,36,38,29,33,51,61,51,37,51,34,43,41,60,33,31,56,74,31,47,34,38,57,39,48,42,53,43,52,61,50,42,50,41,46,32,45,34,40,42,35,62,45,33,48,46,44,37,43,47,33,64,40,39,43,38,61,30,38,41,61,42,37,42,41,31,33,48,52,38,53,29,32,53,29,32,44,38,48,51,57,52,33,32,59,43,40,37,43,37,32,63,33,33,32,57,50,63,34,30,30,64,36,56,35,29,44,46,59,53,42,32,32,54,36,33,60,46,48,32,52,31,54,53,62,40,36,38,60,36,32,39,43,46,53,33,29,49,30,70,30,77,35,37,39,72,70,38,30,33,38,51,39,36,33,31,38,52,33,51,38,37,29,33,45,36,71,29,51,49,32,61,46,59,52,35,29,33,83,43,53,35,48,44,32,32,41,57,34,33,63,50,39,61,35,58,73,68,40,31,56,51,37,63,40,44,46,41,39,50,49,32,32,31,34,34,32,37,44,47,38,31,31,50,34,35,46,47,40,38,30,60,53,45,38,32,31,28,48,38,44,32,48,29,37,43,56,43,47,47,49,38,59,45,31,43,47,45,37,46,67,37,31,28,43,48,63,36,53,45,51,32,31,46,69,35,36,42,37,64,33,53,36,39,57,50,42,54,37,48,30,28,35,43,35,31,47,41,31,66,45,36,30,52,44,32,36,61,33,32,33,38,53,46,50,42,46,30,42,49,45,29,32,47,37,31,79,34,38,61,42,62,30,33,35,44,34,42,66,55,48,47,31,34,44,51,67,35,54,41,37,40,34,46,57,44,42,33,33,61,37,55,42,52,57,37,38,33,35,64,60,57,37,38,60,38,33,40,30,39,40,29,34,36,56,57,61,50,32,40,32,52,58,75,57,29,72,42,39,29,58,33,52,59,64,31,54,46,39,40,29,30,47,32,56,60,37,34,32,35,43,63,42,31,31,31,59,48,36,49,31,40,28,43,37,31,44,43,34,32,64,35,64,50,53,58,39,30,33,30,30,44,49,46,31,36,42,52,33,60,42,58,50,33,49,45,71,50,33,42,31,49,32,35,57,36,28,76,39,62,32,67,35,45,30,30,51,58,33,64,45,59,36,29,29,29,47,38,29,38,29,33,40,35,45,46,38,47,43,38,32,48,34,29,64,41,50,36,50,61,33,56,45,54,31,35,42,37,34,30,35,34,37,64,48,37,33,32,32,40,35,45,35,57,43,43,47,42,41,39,55,39,37,29,55,45,30,35,59,53,37,58,35,55,42,70,51,78,55,35,46,31,48,41,44,29,50,33,43,31,34,53,39,35,49,30,37,35,35,69,31,49,42,43,49,29,52,39,34,30,37,32,36,39,52,35,45,34,83,36,41,37,50,39,49,36,61,29,31,42,35,38,54,33,48,47,31,38,38,73,43,36,48,64,35,64,36,43,29,60,38,56,44,57,34,60,47,57,31,51,57,36,38,52,63,36,48,52,36,37,42,41,44,30,48,40,52,44,44,40,31,28,61,41,43,60,35,41,30,35,56,30,29,41,61,39,39,46,42,40,44,57,43,42,58,31,46,39,43,64,66,38,49,34,68,32,36,37,43,30,29,35,59,67,36,49,31,43,31,40,58,34,35,34,35,35,35,48,39,47,64,44,57,57,52,34,37,33,63,66,38,35,50,53,45,35,66,49,30,45,61,34,38,29,37,55,31,31,60,31,55,62,45,31,42,35,32,40,38,30,33,32,47,59,31,37,33,37,39,36,53,35,36,33,45,30,63,73,48,30,28,52,36,30,29,57,35,33,28,42,62,64,53,64,56,47,55,61,35,31,43,41,56,59,35,39,52,31,34,30,36,63,33,42,50,31,48,52,43,32,33,30,31,54,35,45,44,61,65,57,42,50,52,34,36,45,44,40,53,37,37,63,33,61,47,49,39,59,38,35,29,56,40,58,53,35,56,35,49,60,34,52,36,53,35,36,58,54,34,35,61,31,34,35,29,34,31,29,37,28,29,42,32,39,38,53,72,37,68,28,37,48,35,40,35,33,54,43,33,48,32,34,33,34,39,60,52,35,55,47,33,38,51,63,51,34,56,39,69,35,42,30,54,60,38,53,36,34,37,43,42,39,31,34,32,35,73,36,40,50,53,33,75,36,34,50,36,40,35,60,36,33,38,48,30,34,42,41,39,45,60,31,30,51,52,48,48,49,45,59,50,29,47,37,53,56,38,41,37,53,33,64,46,37,44,37,67,44,44,36,78,40,37,61,53,31,34,35,58,54,55,31,45,32,31,35,50,35,58,38,58,37,57,33,51,52,37,32,45,32,58,48,35,40,63,42,60,38,29,59,62,43,31,57,69,57,33,45,39,29,52,43,40,42,32,42,47,35,42,39,40,44,66,61,35,52,28,34,33,43,31,62,58,35,34,37,38,34,31,42,35,32,45,28,39,52,31,38,46,39,49,48,33,32,44,60,43,35,46,37,38,50,46,30,45,35,52,32,49,61,41,31,34,66,32,34,44,46,31,55,31,40,61,32,51,53,45,34,46,36,31,58,47,51,38,50,36,52,49,45,43,42,40,62,37,54,39,33,60,32,40,43,38,37,33,48,41,42,31,42,37,33,29,34,31,39,36,53,35,59,51,61,60,31,55,62,59,34,60,40,46,37,71,32,42,31,51,47,70,40,42,33,74,52,32,32,29,38,70,68,55,44,31,62,30,43],\"y0\":\" \",\"yaxis\":\"y\",\"type\":\"violin\"}],                        {\"template\":{\"data\":{\"histogram2dcontour\":[{\"type\":\"histogram2dcontour\",\"colorbar\":{\"outlinewidth\":0,\"ticks\":\"\"},\"colorscale\":[[0.0,\"#0d0887\"],[0.1111111111111111,\"#46039f\"],[0.2222222222222222,\"#7201a8\"],[0.3333333333333333,\"#9c179e\"],[0.4444444444444444,\"#bd3786\"],[0.5555555555555556,\"#d8576b\"],[0.6666666666666666,\"#ed7953\"],[0.7777777777777778,\"#fb9f3a\"],[0.8888888888888888,\"#fdca26\"],[1.0,\"#f0f921\"]]}],\"choropleth\":[{\"type\":\"choropleth\",\"colorbar\":{\"outlinewidth\":0,\"ticks\":\"\"}}],\"histogram2d\":[{\"type\":\"histogram2d\",\"colorbar\":{\"outlinewidth\":0,\"ticks\":\"\"},\"colorscale\":[[0.0,\"#0d0887\"],[0.1111111111111111,\"#46039f\"],[0.2222222222222222,\"#7201a8\"],[0.3333333333333333,\"#9c179e\"],[0.4444444444444444,\"#bd3786\"],[0.5555555555555556,\"#d8576b\"],[0.6666666666666666,\"#ed7953\"],[0.7777777777777778,\"#fb9f3a\"],[0.8888888888888888,\"#fdca26\"],[1.0,\"#f0f921\"]]}],\"heatmap\":[{\"type\":\"heatmap\",\"colorbar\":{\"outlinewidth\":0,\"ticks\":\"\"},\"colorscale\":[[0.0,\"#0d0887\"],[0.1111111111111111,\"#46039f\"],[0.2222222222222222,\"#7201a8\"],[0.3333333333333333,\"#9c179e\"],[0.4444444444444444,\"#bd3786\"],[0.5555555555555556,\"#d8576b\"],[0.6666666666666666,\"#ed7953\"],[0.7777777777777778,\"#fb9f3a\"],[0.8888888888888888,\"#fdca26\"],[1.0,\"#f0f921\"]]}],\"heatmapgl\":[{\"type\":\"heatmapgl\",\"colorbar\":{\"outlinewidth\":0,\"ticks\":\"\"},\"colorscale\":[[0.0,\"#0d0887\"],[0.1111111111111111,\"#46039f\"],[0.2222222222222222,\"#7201a8\"],[0.3333333333333333,\"#9c179e\"],[0.4444444444444444,\"#bd3786\"],[0.5555555555555556,\"#d8576b\"],[0.6666666666666666,\"#ed7953\"],[0.7777777777777778,\"#fb9f3a\"],[0.8888888888888888,\"#fdca26\"],[1.0,\"#f0f921\"]]}],\"contourcarpet\":[{\"type\":\"contourcarpet\",\"colorbar\":{\"outlinewidth\":0,\"ticks\":\"\"}}],\"contour\":[{\"type\":\"contour\",\"colorbar\":{\"outlinewidth\":0,\"ticks\":\"\"},\"colorscale\":[[0.0,\"#0d0887\"],[0.1111111111111111,\"#46039f\"],[0.2222222222222222,\"#7201a8\"],[0.3333333333333333,\"#9c179e\"],[0.4444444444444444,\"#bd3786\"],[0.5555555555555556,\"#d8576b\"],[0.6666666666666666,\"#ed7953\"],[0.7777777777777778,\"#fb9f3a\"],[0.8888888888888888,\"#fdca26\"],[1.0,\"#f0f921\"]]}],\"surface\":[{\"type\":\"surface\",\"colorbar\":{\"outlinewidth\":0,\"ticks\":\"\"},\"colorscale\":[[0.0,\"#0d0887\"],[0.1111111111111111,\"#46039f\"],[0.2222222222222222,\"#7201a8\"],[0.3333333333333333,\"#9c179e\"],[0.4444444444444444,\"#bd3786\"],[0.5555555555555556,\"#d8576b\"],[0.6666666666666666,\"#ed7953\"],[0.7777777777777778,\"#fb9f3a\"],[0.8888888888888888,\"#fdca26\"],[1.0,\"#f0f921\"]]}],\"mesh3d\":[{\"type\":\"mesh3d\",\"colorbar\":{\"outlinewidth\":0,\"ticks\":\"\"}}],\"scatter\":[{\"fillpattern\":{\"fillmode\":\"overlay\",\"size\":10,\"solidity\":0.2},\"type\":\"scatter\"}],\"parcoords\":[{\"type\":\"parcoords\",\"line\":{\"colorbar\":{\"outlinewidth\":0,\"ticks\":\"\"}}}],\"scatterpolargl\":[{\"type\":\"scatterpolargl\",\"marker\":{\"colorbar\":{\"outlinewidth\":0,\"ticks\":\"\"}}}],\"bar\":[{\"error_x\":{\"color\":\"#2a3f5f\"},\"error_y\":{\"color\":\"#2a3f5f\"},\"marker\":{\"line\":{\"color\":\"#E5ECF6\",\"width\":0.5},\"pattern\":{\"fillmode\":\"overlay\",\"size\":10,\"solidity\":0.2}},\"type\":\"bar\"}],\"scattergeo\":[{\"type\":\"scattergeo\",\"marker\":{\"colorbar\":{\"outlinewidth\":0,\"ticks\":\"\"}}}],\"scatterpolar\":[{\"type\":\"scatterpolar\",\"marker\":{\"colorbar\":{\"outlinewidth\":0,\"ticks\":\"\"}}}],\"histogram\":[{\"marker\":{\"pattern\":{\"fillmode\":\"overlay\",\"size\":10,\"solidity\":0.2}},\"type\":\"histogram\"}],\"scattergl\":[{\"type\":\"scattergl\",\"marker\":{\"colorbar\":{\"outlinewidth\":0,\"ticks\":\"\"}}}],\"scatter3d\":[{\"type\":\"scatter3d\",\"line\":{\"colorbar\":{\"outlinewidth\":0,\"ticks\":\"\"}},\"marker\":{\"colorbar\":{\"outlinewidth\":0,\"ticks\":\"\"}}}],\"scattermapbox\":[{\"type\":\"scattermapbox\",\"marker\":{\"colorbar\":{\"outlinewidth\":0,\"ticks\":\"\"}}}],\"scatterternary\":[{\"type\":\"scatterternary\",\"marker\":{\"colorbar\":{\"outlinewidth\":0,\"ticks\":\"\"}}}],\"scattercarpet\":[{\"type\":\"scattercarpet\",\"marker\":{\"colorbar\":{\"outlinewidth\":0,\"ticks\":\"\"}}}],\"carpet\":[{\"aaxis\":{\"endlinecolor\":\"#2a3f5f\",\"gridcolor\":\"white\",\"linecolor\":\"white\",\"minorgridcolor\":\"white\",\"startlinecolor\":\"#2a3f5f\"},\"baxis\":{\"endlinecolor\":\"#2a3f5f\",\"gridcolor\":\"white\",\"linecolor\":\"white\",\"minorgridcolor\":\"white\",\"startlinecolor\":\"#2a3f5f\"},\"type\":\"carpet\"}],\"table\":[{\"cells\":{\"fill\":{\"color\":\"#EBF0F8\"},\"line\":{\"color\":\"white\"}},\"header\":{\"fill\":{\"color\":\"#C8D4E3\"},\"line\":{\"color\":\"white\"}},\"type\":\"table\"}],\"barpolar\":[{\"marker\":{\"line\":{\"color\":\"#E5ECF6\",\"width\":0.5},\"pattern\":{\"fillmode\":\"overlay\",\"size\":10,\"solidity\":0.2}},\"type\":\"barpolar\"}],\"pie\":[{\"automargin\":true,\"type\":\"pie\"}]},\"layout\":{\"autotypenumbers\":\"strict\",\"colorway\":[\"#636efa\",\"#EF553B\",\"#00cc96\",\"#ab63fa\",\"#FFA15A\",\"#19d3f3\",\"#FF6692\",\"#B6E880\",\"#FF97FF\",\"#FECB52\"],\"font\":{\"color\":\"#2a3f5f\"},\"hovermode\":\"closest\",\"hoverlabel\":{\"align\":\"left\"},\"paper_bgcolor\":\"white\",\"plot_bgcolor\":\"#E5ECF6\",\"polar\":{\"bgcolor\":\"#E5ECF6\",\"angularaxis\":{\"gridcolor\":\"white\",\"linecolor\":\"white\",\"ticks\":\"\"},\"radialaxis\":{\"gridcolor\":\"white\",\"linecolor\":\"white\",\"ticks\":\"\"}},\"ternary\":{\"bgcolor\":\"#E5ECF6\",\"aaxis\":{\"gridcolor\":\"white\",\"linecolor\":\"white\",\"ticks\":\"\"},\"baxis\":{\"gridcolor\":\"white\",\"linecolor\":\"white\",\"ticks\":\"\"},\"caxis\":{\"gridcolor\":\"white\",\"linecolor\":\"white\",\"ticks\":\"\"}},\"coloraxis\":{\"colorbar\":{\"outlinewidth\":0,\"ticks\":\"\"}},\"colorscale\":{\"sequential\":[[0.0,\"#0d0887\"],[0.1111111111111111,\"#46039f\"],[0.2222222222222222,\"#7201a8\"],[0.3333333333333333,\"#9c179e\"],[0.4444444444444444,\"#bd3786\"],[0.5555555555555556,\"#d8576b\"],[0.6666666666666666,\"#ed7953\"],[0.7777777777777778,\"#fb9f3a\"],[0.8888888888888888,\"#fdca26\"],[1.0,\"#f0f921\"]],\"sequentialminus\":[[0.0,\"#0d0887\"],[0.1111111111111111,\"#46039f\"],[0.2222222222222222,\"#7201a8\"],[0.3333333333333333,\"#9c179e\"],[0.4444444444444444,\"#bd3786\"],[0.5555555555555556,\"#d8576b\"],[0.6666666666666666,\"#ed7953\"],[0.7777777777777778,\"#fb9f3a\"],[0.8888888888888888,\"#fdca26\"],[1.0,\"#f0f921\"]],\"diverging\":[[0,\"#8e0152\"],[0.1,\"#c51b7d\"],[0.2,\"#de77ae\"],[0.3,\"#f1b6da\"],[0.4,\"#fde0ef\"],[0.5,\"#f7f7f7\"],[0.6,\"#e6f5d0\"],[0.7,\"#b8e186\"],[0.8,\"#7fbc41\"],[0.9,\"#4d9221\"],[1,\"#276419\"]]},\"xaxis\":{\"gridcolor\":\"white\",\"linecolor\":\"white\",\"ticks\":\"\",\"title\":{\"standoff\":15},\"zerolinecolor\":\"white\",\"automargin\":true,\"zerolinewidth\":2},\"yaxis\":{\"gridcolor\":\"white\",\"linecolor\":\"white\",\"ticks\":\"\",\"title\":{\"standoff\":15},\"zerolinecolor\":\"white\",\"automargin\":true,\"zerolinewidth\":2},\"scene\":{\"xaxis\":{\"backgroundcolor\":\"#E5ECF6\",\"gridcolor\":\"white\",\"linecolor\":\"white\",\"showbackground\":true,\"ticks\":\"\",\"zerolinecolor\":\"white\",\"gridwidth\":2},\"yaxis\":{\"backgroundcolor\":\"#E5ECF6\",\"gridcolor\":\"white\",\"linecolor\":\"white\",\"showbackground\":true,\"ticks\":\"\",\"zerolinecolor\":\"white\",\"gridwidth\":2},\"zaxis\":{\"backgroundcolor\":\"#E5ECF6\",\"gridcolor\":\"white\",\"linecolor\":\"white\",\"showbackground\":true,\"ticks\":\"\",\"zerolinecolor\":\"white\",\"gridwidth\":2}},\"shapedefaults\":{\"line\":{\"color\":\"#2a3f5f\"}},\"annotationdefaults\":{\"arrowcolor\":\"#2a3f5f\",\"arrowhead\":0,\"arrowwidth\":1},\"geo\":{\"bgcolor\":\"white\",\"landcolor\":\"#E5ECF6\",\"subunitcolor\":\"white\",\"showland\":true,\"showlakes\":true,\"lakecolor\":\"white\"},\"title\":{\"x\":0.05},\"mapbox\":{\"style\":\"light\"}}},\"xaxis\":{\"anchor\":\"y\",\"domain\":[0.0,1.0],\"title\":{\"text\":\"decile_score\"}},\"yaxis\":{\"anchor\":\"x\",\"domain\":[0.0,1.0],\"title\":{\"text\":\"age\"}},\"legend\":{\"title\":{\"text\":\"sex\"},\"tracegroupgap\":0},\"title\":{\"text\":\"Gender Differences in Age Distribution per Decile Score\"},\"violinmode\":\"group\"},                        {\"responsive\": true}                    ).then(function(){\n",
              "                            \n",
              "var gd = document.getElementById('ee7ff574-3be8-43ad-92b6-d0a24aa22513');\n",
              "var x = new MutationObserver(function (mutations, observer) {{\n",
              "        var display = window.getComputedStyle(gd).display;\n",
              "        if (!display || display === 'none') {{\n",
              "            console.log([gd, 'removed!']);\n",
              "            Plotly.purge(gd);\n",
              "            observer.disconnect();\n",
              "        }}\n",
              "}});\n",
              "\n",
              "// Listen for the removal of the full notebook cells\n",
              "var notebookContainer = gd.closest('#notebook-container');\n",
              "if (notebookContainer) {{\n",
              "    x.observe(notebookContainer, {childList: true});\n",
              "}}\n",
              "\n",
              "// Listen for the clearing of the current output cell\n",
              "var outputEl = gd.closest('.output');\n",
              "if (outputEl) {{\n",
              "    x.observe(outputEl, {childList: true});\n",
              "}}\n",
              "\n",
              "                        })                };                            </script>        </div>\n",
              "</body>\n",
              "</html>"
            ]
          },
          "metadata": {}
        }
      ]
    },
    {
      "cell_type": "code",
      "source": [
        "#CODE HERE - feel free to experiment and explore!\n",
        "...\n",
        "..."
      ],
      "metadata": {
        "id": "LY1kGlfsbJsR"
      },
      "execution_count": null,
      "outputs": []
    },
    {
      "cell_type": "markdown",
      "source": [
        "_WRITTEN ANSWER HERE_"
      ],
      "metadata": {
        "id": "QeljbtsAbPHD"
      }
    },
    {
      "cell_type": "markdown",
      "source": [
        "**Question 3.4.1** Please review your answers to Question 1.2 and 2.3. Considering those who designed COMPAS, what columns would be considered correlation, general causation, and singular causation with reference to recidivism?"
      ],
      "metadata": {
        "id": "TWn9c2UcRkAU"
      }
    },
    {
      "cell_type": "markdown",
      "source": [
        "*ANSWER HERE*"
      ],
      "metadata": {
        "id": "D6Uhmdwmvt0j"
      }
    },
    {
      "cell_type": "markdown",
      "source": [
        "**Question 3.4.2** Consider the effect that this algorithm would have on defendants, based on your answer to 3.3.1. What factors may affect a person's decision to recidivize?"
      ],
      "metadata": {
        "id": "kKwRwIzZv9-3"
      }
    },
    {
      "cell_type": "markdown",
      "source": [
        "_ANSWER HERE_"
      ],
      "metadata": {
        "id": "amDqWoYGdYLv"
      }
    },
    {
      "cell_type": "code",
      "source": [
        "# @title Hidden code\n",
        "#add age groups\n",
        "\n",
        "def age_group(age):\n",
        "  if 26 <= age < 35:\n",
        "    return 'Age Group 1: 26-34'\n",
        "  elif 35 <= age < 55:\n",
        "    return 'Age Group 1: 35-55'\n",
        "  else:\n",
        "    return 'Age Group 3: 55+'\n",
        "\n",
        "compas_full['Age Group'] = compas_full['age'].apply(age_group)\n",
        "\n",
        "sns.histplot(data=compas_full, x='decile_score', hue='Age Group', multiple='dodge', stat='proportion')\n",
        "plt.title('Decile Scores per Age Group');"
      ],
      "metadata": {
        "colab": {
          "base_uri": "https://localhost:8080/",
          "height": 472
        },
        "id": "WDUgfShjg6lP",
        "outputId": "d39a8ba4-43ed-42f4-da7c-fac4c8982f7e"
      },
      "execution_count": null,
      "outputs": [
        {
          "output_type": "display_data",
          "data": {
            "text/plain": [
              "<Figure size 640x480 with 1 Axes>"
            ],
            "image/png": "[encoded data removed]"
          },
          "metadata": {}
        }
      ]
    },
    {
      "cell_type": "markdown",
      "source": [
        "##### Todo: Change this histogram too to make it look more pleasing\n",
        "**Question 3.4.3** What patterns do you see in the histogram above?"
      ],
      "metadata": {
        "id": "I3ypyP6ow4U4"
      }
    },
    {
      "cell_type": "markdown",
      "source": [
        "**Question 3.4.4** Considering COMPAS and this histogram, under which criteria, if any, is statistically modeling the human experience justified, and how can reductionism relate to this?"
      ],
      "metadata": {
        "id": "pqlPmVbtwQZg"
      }
    },
    {
      "cell_type": "markdown",
      "source": [
        "_ANSWER HERE_"
      ],
      "metadata": {
        "id": "bx9LREydwQdH"
      }
    },
    {
      "cell_type": "markdown",
      "source": [
        "# Question 4: Biases\n",
        "\n",
        "**Question 4.1** You realize through a hypothetical source that Northpointe forgot to properly clean their data. You can interpret this in any way. Given your interpretation, what form(s) of bias would this be categorized as?"
      ],
      "metadata": {
        "id": "Fr9jrSmU5ld8"
      }
    },
    {
      "cell_type": "markdown",
      "source": [
        "_ANSWER HERE_"
      ],
      "metadata": {
        "id": "BDUZY2uA4r31"
      }
    },
    {
      "cell_type": "markdown",
      "source": [
        "The COMPAS algorithm was intended for judges to use when deciding sentence length for prisoners. Although the exact traits they used to predict are in a black box model, third parties have found that traits like age, gender, and socioeconomic status play large parts in determining the risk score. In addition, a 2018 assessment found that age played a huge part in the variation of the COMPAS score; more than past priors, gender, or even race."
      ],
      "metadata": {
        "id": "FOez_VTJ77wj"
      }
    },
    {
      "cell_type": "markdown",
      "source": [
        "**Question 4.2** Elaborating upon this context, please read these articles before answering this question, and review your other answers.\n",
        "\n",
        "[Washington Post](https://https://www.washingtonpost.com/news/monkey-cage/wp/2016/10/17/can-an-algorithm-be-racist-our-analysis-is-more-cautious-than-propublicas/)\n",
        "\n",
        "[ProPublica](https://https://www.propublica.org/article/how-we-analyzed-the-compas-recidivism-algorithm)\n",
        "\n",
        "How do these two articles differ in their analysis of COMPAS?"
      ],
      "metadata": {
        "id": "gUPF7c2ieVnH"
      }
    },
    {
      "cell_type": "markdown",
      "source": [
        "_ANSWER HERE_"
      ],
      "metadata": {
        "id": "Hu730TZW7UBc"
      }
    },
    {
      "cell_type": "markdown",
      "source": [
        "What factors motivate people to overlook flaws in this model, despite its past use? Do you think COMPAS is an appropriate model to use in courtrooms?"
      ],
      "metadata": {
        "id": "avAaS7RsWDlY"
      }
    },
    {
      "cell_type": "markdown",
      "source": [
        "_ANSWER HERE_"
      ],
      "metadata": {
        "id": "eBsPZfLeYupu"
      }
    },
    {
      "cell_type": "code",
      "source": [],
      "metadata": {
        "id": "e666WCGKYvv2"
      },
      "execution_count": null,
      "outputs": []
    }
  ]
}