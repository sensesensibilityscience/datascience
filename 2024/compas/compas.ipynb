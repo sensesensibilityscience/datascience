{
  "nbformat": 4,
  "nbformat_minor": 0,
  "metadata": {
    "colab": {
      "provenance": []
    },
    "kernelspec": {
      "name": "python3",
      "display_name": "Python 3"
    },
    "language_info": {
      "name": "python"
    }
  },
  "cells": [
    {
      "cell_type": "code",
      "execution_count": null,
      "metadata": {
        "id": "bKa_yNWPDWVc",
        "colab": {
          "base_uri": "https://localhost:8080/"
        },
        "outputId": "d06e70b2-4a66-4c57-992e-2ce6603b55b5"
      },
      "outputs": [
        {
          "output_type": "stream",
          "name": "stdout",
          "text": [
            "Cloning into 'compas-analysis'...\n",
            "remote: Enumerating objects: 31, done.\u001b[K\n",
            "remote: Total 31 (delta 0), reused 0 (delta 0), pack-reused 31\u001b[K\n",
            "Receiving objects: 100% (31/31), 15.24 MiB | 4.91 MiB/s, done.\n",
            "Resolving deltas: 100% (14/14), done.\n",
            "Updating files: 100% (12/12), done.\n"
          ]
        }
      ],
      "source": [
        "#hide this cell when in use\n",
        "import pandas as pd\n",
        "import numpy as np\n",
        "import seaborn as sns\n",
        "import matplotlib.pyplot as plt\n",
        "!git clone https://github.com/propublica/compas-analysis/\n",
        "from datetime import datetime"
      ]
    },
    {
      "cell_type": "markdown",
      "source": [
        "Import necessary datasets"
      ],
      "metadata": {
        "id": "QKHv1xB5D9w7"
      }
    },
    {
      "cell_type": "code",
      "source": [
        "two_years_v = pd.read_csv('./compas-analysis/compas-scores-two-years-violent.csv')\n",
        "two_years = pd.read_csv('./compas-analysis/compas-scores-two-years.csv')\n",
        "compas = pd.read_csv('./compas-analysis/compas-scores.csv')\n",
        "\n",
        "#convert date of birth column to age\n",
        "dated = pd.to_datetime(compas['dob'], format=\"%Y-%m-%d\")\n",
        "year = pd.DatetimeIndex(compas['dob']).year\n",
        "compas['age'] = 2024 - year\n",
        "\n",
        "compas_simple = compas[['id', 'name', 'sex', 'age', 'priors_count', 'decile_score', 'score_text']].set_index('id')\n",
        "compas_full = compas[compas.is_recid != -1][['id', 'name', 'sex', 'age', 'priors_count', 'race', 'decile_score', 'score_text', 'is_recid']].set_index('id')\n",
        "compas_total = compas[compas.is_recid != -1][['id', 'name', 'sex', 'age', 'priors_count', 'race', 'decile_score', 'score_text', 'is_recid', 'race']].set_index('id')\n",
        "#consider using more columns later"
      ],
      "metadata": {
        "id": "isk3UP2IDuvm"
      },
      "execution_count": null,
      "outputs": []
    },
    {
      "cell_type": "code",
      "source": [
        "compas.size"
      ],
      "metadata": {
        "colab": {
          "base_uri": "https://localhost:8080/"
        },
        "id": "adkem_f6oxNQ",
        "outputId": "edbde2f6-f960-4663-807b-2cffea258a53"
      },
      "execution_count": null,
      "outputs": [
        {
          "output_type": "execute_result",
          "data": {
            "text/plain": [
              "552579"
            ]
          },
          "metadata": {},
          "execution_count": 26
        }
      ]
    },
    {
      "cell_type": "code",
      "source": [
        "compas_full.columns"
      ],
      "metadata": {
        "colab": {
          "base_uri": "https://localhost:8080/"
        },
        "id": "hb-7xW8izoFr",
        "outputId": "40517b87-0392-4f90-de86-85f0aefdc5cb"
      },
      "execution_count": null,
      "outputs": [
        {
          "output_type": "execute_result",
          "data": {
            "text/plain": [
              "Index(['name', 'sex', 'age', 'priors_count', 'race', 'decile_score',\n",
              "       'score_text', 'is_recid'],\n",
              "      dtype='object')"
            ]
          },
          "metadata": {},
          "execution_count": 23
        }
      ]
    },
    {
      "cell_type": "markdown",
      "source": [
        "# Introduction\n",
        "\n",
        "##### Note: The most recent edits are in the student version. Todo: add them back here.\n",
        "\n",
        "##### Northpointe, a for-profit company, has created a model that generates 'risk scores' for criminals, representing the likelihood of reoffending, based on several factors. You have decided to analyze their data for accuracy. Below is a table which contains defendent information. The 'decile_score' column is a number between 1-9 that represents the algorithm's output, and the 'score_text' column corresponds to a low, medium, or high score."
      ],
      "metadata": {
        "id": "4yJoHHilHxor"
      }
    },
    {
      "cell_type": "code",
      "source": [
        "compas_simple.head(5)"
      ],
      "metadata": {
        "id": "OIWCC565fWqL",
        "colab": {
          "base_uri": "https://localhost:8080/",
          "height": 237
        },
        "outputId": "af2828ad-b04b-474c-e97b-74a9827a8f31"
      },
      "execution_count": null,
      "outputs": [
        {
          "output_type": "execute_result",
          "data": {
            "text/plain": [
              "                name   sex  age  priors_count  decile_score score_text\n",
              "id                                                                    \n",
              "1   miguel hernandez  Male   77             0             1        Low\n",
              "2       michael ryan  Male   39             0             5     Medium\n",
              "3        kevon dixon  Male   42             0             3        Low\n",
              "4           ed philo  Male   33             4             4        Low\n",
              "5        marcu brown  Male   31             1             8       High"
            ],
            "text/html": [
              "\n",
              "  <div id=\"df-fe70ad55-80b8-4354-8673-a03ae5b3a200\" class=\"colab-df-container\">\n",
              "    <div>\n",
              "<style scoped>\n",
              "    .dataframe tbody tr th:only-of-type {\n",
              "        vertical-align: middle;\n",
              "    }\n",
              "\n",
              "    .dataframe tbody tr th {\n",
              "        vertical-align: top;\n",
              "    }\n",
              "\n",
              "    .dataframe thead th {\n",
              "        text-align: right;\n",
              "    }\n",
              "</style>\n",
              "<table border=\"1\" class=\"dataframe\">\n",
              "  <thead>\n",
              "    <tr style=\"text-align: right;\">\n",
              "      <th></th>\n",
              "      <th>name</th>\n",
              "      <th>sex</th>\n",
              "      <th>age</th>\n",
              "      <th>priors_count</th>\n",
              "      <th>decile_score</th>\n",
              "      <th>score_text</th>\n",
              "    </tr>\n",
              "    <tr>\n",
              "      <th>id</th>\n",
              "      <th></th>\n",
              "      <th></th>\n",
              "      <th></th>\n",
              "      <th></th>\n",
              "      <th></th>\n",
              "      <th></th>\n",
              "    </tr>\n",
              "  </thead>\n",
              "  <tbody>\n",
              "    <tr>\n",
              "      <th>1</th>\n",
              "      <td>miguel hernandez</td>\n",
              "      <td>Male</td>\n",
              "      <td>77</td>\n",
              "      <td>0</td>\n",
              "      <td>1</td>\n",
              "      <td>Low</td>\n",
              "    </tr>\n",
              "    <tr>\n",
              "      <th>2</th>\n",
              "      <td>michael ryan</td>\n",
              "      <td>Male</td>\n",
              "      <td>39</td>\n",
              "      <td>0</td>\n",
              "      <td>5</td>\n",
              "      <td>Medium</td>\n",
              "    </tr>\n",
              "    <tr>\n",
              "      <th>3</th>\n",
              "      <td>kevon dixon</td>\n",
              "      <td>Male</td>\n",
              "      <td>42</td>\n",
              "      <td>0</td>\n",
              "      <td>3</td>\n",
              "      <td>Low</td>\n",
              "    </tr>\n",
              "    <tr>\n",
              "      <th>4</th>\n",
              "      <td>ed philo</td>\n",
              "      <td>Male</td>\n",
              "      <td>33</td>\n",
              "      <td>4</td>\n",
              "      <td>4</td>\n",
              "      <td>Low</td>\n",
              "    </tr>\n",
              "    <tr>\n",
              "      <th>5</th>\n",
              "      <td>marcu brown</td>\n",
              "      <td>Male</td>\n",
              "      <td>31</td>\n",
              "      <td>1</td>\n",
              "      <td>8</td>\n",
              "      <td>High</td>\n",
              "    </tr>\n",
              "  </tbody>\n",
              "</table>\n",
              "</div>\n",
              "    <div class=\"colab-df-buttons\">\n",
              "\n",
              "  <div class=\"colab-df-container\">\n",
              "    <button class=\"colab-df-convert\" onclick=\"convertToInteractive('df-fe70ad55-80b8-4354-8673-a03ae5b3a200')\"\n",
              "            title=\"Convert this dataframe to an interactive table.\"\n",
              "            style=\"display:none;\">\n",
              "\n",
              "  <svg xmlns=\"http://www.w3.org/2000/svg\" height=\"24px\" viewBox=\"0 -960 960 960\">\n",
              "    <path d=\"M120-120v-720h720v720H120Zm60-500h600v-160H180v160Zm220 220h160v-160H400v160Zm0 220h160v-160H400v160ZM180-400h160v-160H180v160Zm440 0h160v-160H620v160ZM180-180h160v-160H180v160Zm440 0h160v-160H620v160Z\"/>\n",
              "  </svg>\n",
              "    </button>\n",
              "\n",
              "  <style>\n",
              "    .colab-df-container {\n",
              "      display:flex;\n",
              "      gap: 12px;\n",
              "    }\n",
              "\n",
              "    .colab-df-convert {\n",
              "      background-color: #E8F0FE;\n",
              "      border: none;\n",
              "      border-radius: 50%;\n",
              "      cursor: pointer;\n",
              "      display: none;\n",
              "      fill: #1967D2;\n",
              "      height: 32px;\n",
              "      padding: 0 0 0 0;\n",
              "      width: 32px;\n",
              "    }\n",
              "\n",
              "    .colab-df-convert:hover {\n",
              "      background-color: #E2EBFA;\n",
              "      box-shadow: 0px 1px 2px rgba(60, 64, 67, 0.3), 0px 1px 3px 1px rgba(60, 64, 67, 0.15);\n",
              "      fill: #174EA6;\n",
              "    }\n",
              "\n",
              "    .colab-df-buttons div {\n",
              "      margin-bottom: 4px;\n",
              "    }\n",
              "\n",
              "    [theme=dark] .colab-df-convert {\n",
              "      background-color: #3B4455;\n",
              "      fill: #D2E3FC;\n",
              "    }\n",
              "\n",
              "    [theme=dark] .colab-df-convert:hover {\n",
              "      background-color: #434B5C;\n",
              "      box-shadow: 0px 1px 3px 1px rgba(0, 0, 0, 0.15);\n",
              "      filter: drop-shadow(0px 1px 2px rgba(0, 0, 0, 0.3));\n",
              "      fill: #FFFFFF;\n",
              "    }\n",
              "  </style>\n",
              "\n",
              "    <script>\n",
              "      const buttonEl =\n",
              "        document.querySelector('#df-fe70ad55-80b8-4354-8673-a03ae5b3a200 button.colab-df-convert');\n",
              "      buttonEl.style.display =\n",
              "        google.colab.kernel.accessAllowed ? 'block' : 'none';\n",
              "\n",
              "      async function convertToInteractive(key) {\n",
              "        const element = document.querySelector('#df-fe70ad55-80b8-4354-8673-a03ae5b3a200');\n",
              "        const dataTable =\n",
              "          await google.colab.kernel.invokeFunction('convertToInteractive',\n",
              "                                                    [key], {});\n",
              "        if (!dataTable) return;\n",
              "\n",
              "        const docLinkHtml = 'Like what you see? Visit the ' +\n",
              "          '<a target=\"_blank\" href=https://colab.research.google.com/notebooks/data_table.ipynb>data table notebook</a>'\n",
              "          + ' to learn more about interactive tables.';\n",
              "        element.innerHTML = '';\n",
              "        dataTable['output_type'] = 'display_data';\n",
              "        await google.colab.output.renderOutput(dataTable, element);\n",
              "        const docLink = document.createElement('div');\n",
              "        docLink.innerHTML = docLinkHtml;\n",
              "        element.appendChild(docLink);\n",
              "      }\n",
              "    </script>\n",
              "  </div>\n",
              "\n",
              "\n",
              "<div id=\"df-6b67adbc-dc5e-48c3-846e-da08ea5308d5\">\n",
              "  <button class=\"colab-df-quickchart\" onclick=\"quickchart('df-6b67adbc-dc5e-48c3-846e-da08ea5308d5')\"\n",
              "            title=\"Suggest charts\"\n",
              "            style=\"display:none;\">\n",
              "\n",
              "<svg xmlns=\"http://www.w3.org/2000/svg\" height=\"24px\"viewBox=\"0 0 24 24\"\n",
              "     width=\"24px\">\n",
              "    <g>\n",
              "        <path d=\"M19 3H5c-1.1 0-2 .9-2 2v14c0 1.1.9 2 2 2h14c1.1 0 2-.9 2-2V5c0-1.1-.9-2-2-2zM9 17H7v-7h2v7zm4 0h-2V7h2v10zm4 0h-2v-4h2v4z\"/>\n",
              "    </g>\n",
              "</svg>\n",
              "  </button>\n",
              "\n",
              "<style>\n",
              "  .colab-df-quickchart {\n",
              "      --bg-color: #E8F0FE;\n",
              "      --fill-color: #1967D2;\n",
              "      --hover-bg-color: #E2EBFA;\n",
              "      --hover-fill-color: #174EA6;\n",
              "      --disabled-fill-color: #AAA;\n",
              "      --disabled-bg-color: #DDD;\n",
              "  }\n",
              "\n",
              "  [theme=dark] .colab-df-quickchart {\n",
              "      --bg-color: #3B4455;\n",
              "      --fill-color: #D2E3FC;\n",
              "      --hover-bg-color: #434B5C;\n",
              "      --hover-fill-color: #FFFFFF;\n",
              "      --disabled-bg-color: #3B4455;\n",
              "      --disabled-fill-color: #666;\n",
              "  }\n",
              "\n",
              "  .colab-df-quickchart {\n",
              "    background-color: var(--bg-color);\n",
              "    border: none;\n",
              "    border-radius: 50%;\n",
              "    cursor: pointer;\n",
              "    display: none;\n",
              "    fill: var(--fill-color);\n",
              "    height: 32px;\n",
              "    padding: 0;\n",
              "    width: 32px;\n",
              "  }\n",
              "\n",
              "  .colab-df-quickchart:hover {\n",
              "    background-color: var(--hover-bg-color);\n",
              "    box-shadow: 0 1px 2px rgba(60, 64, 67, 0.3), 0 1px 3px 1px rgba(60, 64, 67, 0.15);\n",
              "    fill: var(--button-hover-fill-color);\n",
              "  }\n",
              "\n",
              "  .colab-df-quickchart-complete:disabled,\n",
              "  .colab-df-quickchart-complete:disabled:hover {\n",
              "    background-color: var(--disabled-bg-color);\n",
              "    fill: var(--disabled-fill-color);\n",
              "    box-shadow: none;\n",
              "  }\n",
              "\n",
              "  .colab-df-spinner {\n",
              "    border: 2px solid var(--fill-color);\n",
              "    border-color: transparent;\n",
              "    border-bottom-color: var(--fill-color);\n",
              "    animation:\n",
              "      spin 1s steps(1) infinite;\n",
              "  }\n",
              "\n",
              "  @keyframes spin {\n",
              "    0% {\n",
              "      border-color: transparent;\n",
              "      border-bottom-color: var(--fill-color);\n",
              "      border-left-color: var(--fill-color);\n",
              "    }\n",
              "    20% {\n",
              "      border-color: transparent;\n",
              "      border-left-color: var(--fill-color);\n",
              "      border-top-color: var(--fill-color);\n",
              "    }\n",
              "    30% {\n",
              "      border-color: transparent;\n",
              "      border-left-color: var(--fill-color);\n",
              "      border-top-color: var(--fill-color);\n",
              "      border-right-color: var(--fill-color);\n",
              "    }\n",
              "    40% {\n",
              "      border-color: transparent;\n",
              "      border-right-color: var(--fill-color);\n",
              "      border-top-color: var(--fill-color);\n",
              "    }\n",
              "    60% {\n",
              "      border-color: transparent;\n",
              "      border-right-color: var(--fill-color);\n",
              "    }\n",
              "    80% {\n",
              "      border-color: transparent;\n",
              "      border-right-color: var(--fill-color);\n",
              "      border-bottom-color: var(--fill-color);\n",
              "    }\n",
              "    90% {\n",
              "      border-color: transparent;\n",
              "      border-bottom-color: var(--fill-color);\n",
              "    }\n",
              "  }\n",
              "</style>\n",
              "\n",
              "  <script>\n",
              "    async function quickchart(key) {\n",
              "      const quickchartButtonEl =\n",
              "        document.querySelector('#' + key + ' button');\n",
              "      quickchartButtonEl.disabled = true;  // To prevent multiple clicks.\n",
              "      quickchartButtonEl.classList.add('colab-df-spinner');\n",
              "      try {\n",
              "        const charts = await google.colab.kernel.invokeFunction(\n",
              "            'suggestCharts', [key], {});\n",
              "      } catch (error) {\n",
              "        console.error('Error during call to suggestCharts:', error);\n",
              "      }\n",
              "      quickchartButtonEl.classList.remove('colab-df-spinner');\n",
              "      quickchartButtonEl.classList.add('colab-df-quickchart-complete');\n",
              "    }\n",
              "    (() => {\n",
              "      let quickchartButtonEl =\n",
              "        document.querySelector('#df-6b67adbc-dc5e-48c3-846e-da08ea5308d5 button');\n",
              "      quickchartButtonEl.style.display =\n",
              "        google.colab.kernel.accessAllowed ? 'block' : 'none';\n",
              "    })();\n",
              "  </script>\n",
              "</div>\n",
              "    </div>\n",
              "  </div>\n"
            ],
            "application/vnd.google.colaboratory.intrinsic+json": {
              "type": "dataframe",
              "variable_name": "compas_simple",
              "summary": "{\n  \"name\": \"compas_simple\",\n  \"rows\": 11757,\n  \"fields\": [\n    {\n      \"column\": \"id\",\n      \"properties\": {\n        \"dtype\": \"number\",\n        \"std\": 3394,\n        \"min\": 1,\n        \"max\": 11757,\n        \"num_unique_values\": 11757,\n        \"samples\": [\n          6108,\n          6464,\n          6561\n        ],\n        \"semantic_type\": \"\",\n        \"description\": \"\"\n      }\n    },\n    {\n      \"column\": \"name\",\n      \"properties\": {\n        \"dtype\": \"string\",\n        \"num_unique_values\": 11584,\n        \"samples\": [\n          \"xochitl roberts\",\n          \"edmond morley\",\n          \"diane perez\"\n        ],\n        \"semantic_type\": \"\",\n        \"description\": \"\"\n      }\n    },\n    {\n      \"column\": \"sex\",\n      \"properties\": {\n        \"dtype\": \"category\",\n        \"num_unique_values\": 2,\n        \"samples\": [\n          \"Female\",\n          \"Male\"\n        ],\n        \"semantic_type\": \"\",\n        \"description\": \"\"\n      }\n    },\n    {\n      \"column\": \"age\",\n      \"properties\": {\n        \"dtype\": \"int32\",\n        \"num_unique_values\": 68,\n        \"samples\": [\n          67,\n          45\n        ],\n        \"semantic_type\": \"\",\n        \"description\": \"\"\n      }\n    },\n    {\n      \"column\": \"priors_count\",\n      \"properties\": {\n        \"dtype\": \"number\",\n        \"std\": 4,\n        \"min\": 0,\n        \"max\": 43,\n        \"num_unique_values\": 39,\n        \"samples\": [\n          26,\n          35\n        ],\n        \"semantic_type\": \"\",\n        \"description\": \"\"\n      }\n    },\n    {\n      \"column\": \"decile_score\",\n      \"properties\": {\n        \"dtype\": \"number\",\n        \"std\": 2,\n        \"min\": -1,\n        \"max\": 10,\n        \"num_unique_values\": 11,\n        \"samples\": [\n          6,\n          1\n        ],\n        \"semantic_type\": \"\",\n        \"description\": \"\"\n      }\n    },\n    {\n      \"column\": \"score_text\",\n      \"properties\": {\n        \"dtype\": \"category\",\n        \"num_unique_values\": 3,\n        \"samples\": [\n          \"Low\",\n          \"Medium\"\n        ],\n        \"semantic_type\": \"\",\n        \"description\": \"\"\n      }\n    }\n  ]\n}"
            }
          },
          "metadata": {},
          "execution_count": 5
        }
      ]
    },
    {
      "cell_type": "markdown",
      "source": [
        "## Question 1: Understanding the Data\n",
        "\n",
        "Learning goals:\n",
        "1. Recognize the potential to abuse science for social and political ends.\n",
        "Show heightened caution in situations in which science involves the study of human groups and subsequent validation of societal power structures.\n",
        "2. Recognize that you yourself are always involved in some social dynamic that may be relevant to the assessment of any particular study of human groups\n",
        "\n",
        "Students should be able to realize the motivation behind creating the algorithm, and the potential political/social implications that these scores would have. They should be able to identify who would profit from the use of this algorithm, and which demographics may suffer. Second learning goal may be harder to address.\n",
        "\n",
        "###NOTE: add coding to calculate correlation co-efficient? Signal/Noise etc"
      ],
      "metadata": {
        "id": "JBbn0yzm0mq5"
      }
    },
    {
      "cell_type": "markdown",
      "source": [
        "**Question 1.0** Possibly remove: In transforming decile scores to low, medium, or high, uncertainty was produced. Fill in the box below to determine the signal to noise ratio both before and after conversion. (This can be turned into a written question.)\n",
        "**This may be more relevant near question 2.1**"
      ],
      "metadata": {
        "id": "yvleR37XJ5AF"
      }
    },
    {
      "cell_type": "markdown",
      "source": [
        "_ANSWER HERE_"
      ],
      "metadata": {
        "id": "mWcdne5Q72SC"
      }
    },
    {
      "cell_type": "markdown",
      "source": [
        "**Question 1.1** What columns would be useful to predict whether a defendant would reoffend? What would you expect higher values to correspond to? What would we not want to include as variables when we predict?"
      ],
      "metadata": {
        "id": "DijWOUupZ2Ft"
      }
    },
    {
      "cell_type": "markdown",
      "source": [
        "_ANSWER HERE_"
      ],
      "metadata": {
        "id": "IpivFtqKdbSt"
      }
    },
    {
      "cell_type": "markdown",
      "source": [
        "**Question 1.2**  Who would this algorithm be used by, and what for? Please answer beyond the context that was given."
      ],
      "metadata": {
        "id": "UU35DyGPdYH0"
      }
    },
    {
      "cell_type": "markdown",
      "source": [
        "_ANSWER HERE_"
      ],
      "metadata": {
        "id": "ru8ulnBTde_i"
      }
    },
    {
      "cell_type": "markdown",
      "source": [
        "**Question 1.3 (code)** - We're interested in seeing whether certain factors are correlated with decile scores. Fill out the code below to generate visualizations of these variables' distributions."
      ],
      "metadata": {
        "id": "TLYdRkvNwERZ"
      }
    },
    {
      "cell_type": "code",
      "source": [
        "sns.scatterplot(data=compas_simple, x = 'age', y='decile_score')\n",
        "plt.title(\"Recidivism Decile Scores vs. Defendant Age\")"
      ],
      "metadata": {
        "colab": {
          "base_uri": "https://localhost:8080/",
          "height": 489
        },
        "id": "y60lNhmFea33",
        "outputId": "656e0fda-a9db-4ef9-c8ae-92d5a6d66ff2"
      },
      "execution_count": null,
      "outputs": [
        {
          "output_type": "execute_result",
          "data": {
            "text/plain": [
              "Text(0.5, 1.0, 'Recidivism Decile Scores vs. Defendant Age')"
            ]
          },
          "metadata": {},
          "execution_count": 7
        },
        {
          "output_type": "display_data",
          "data": {
            "text/plain": [
              "<Figure size 640x480 with 1 Axes>"
            ],
            "image/png": "[encoded data removed]"
          },
          "metadata": {}
        }
      ]
    },
    {
      "cell_type": "code",
      "source": [
        "sns.histplot(data=compas_simple, x = 'decile_score', hue='sex', bins=range(1, 10, 1))"
      ],
      "metadata": {
        "colab": {
          "base_uri": "https://localhost:8080/",
          "height": 467
        },
        "id": "LzIdhTzI6Ap5",
        "outputId": "d7a1cf0b-95c9-4f2d-aac4-44d9c17f0f6f"
      },
      "execution_count": null,
      "outputs": [
        {
          "output_type": "execute_result",
          "data": {
            "text/plain": [
              "<Axes: xlabel='decile_score', ylabel='Count'>"
            ]
          },
          "metadata": {},
          "execution_count": 8
        },
        {
          "output_type": "display_data",
          "data": {
            "text/plain": [
              "<Figure size 640x480 with 1 Axes>"
            ],
            "image/png": "[encoded data removed]"
          },
          "metadata": {}
        }
      ]
    },
    {
      "cell_type": "code",
      "source": [
        "sns.scatterplot(data=compas_simple, x = 'priors_count', y='decile_score')"
      ],
      "metadata": {
        "colab": {
          "base_uri": "https://localhost:8080/",
          "height": 467
        },
        "id": "zNxCsvMy6cHE",
        "outputId": "b0a1d6ba-efa4-4a50-af36-84a4963a9d29"
      },
      "execution_count": null,
      "outputs": [
        {
          "output_type": "execute_result",
          "data": {
            "text/plain": [
              "<Axes: xlabel='priors_count', ylabel='decile_score'>"
            ]
          },
          "metadata": {},
          "execution_count": 9
        },
        {
          "output_type": "display_data",
          "data": {
            "text/plain": [
              "<Figure size 640x480 with 1 Axes>"
            ],
            "image/png": "[encoded data removed]"
          },
          "metadata": {}
        }
      ]
    },
    {
      "cell_type": "markdown",
      "source": [
        "**Question 1.4** Do you see any patterns in the data? What corresponds to a higher decile score?\n"
      ],
      "metadata": {
        "id": "adDRHupJfM6x"
      }
    },
    {
      "cell_type": "markdown",
      "source": [
        "_ANSWER HERE_"
      ],
      "metadata": {
        "id": "qbVoovaafVPS"
      }
    },
    {
      "cell_type": "markdown",
      "source": [
        "# Question 2: Impacts\n",
        "\n",
        "##### Have students code false positive/false negative rates - how do we balance these in this model? Think about implications of each for different groups. Which one should we prioritize?\n",
        "\n",
        "##### What does an accurate model mean?\n",
        "\n",
        " Learning Goals:\n",
        " 1. Understand that there is always the inevitability of a trade-off—for a given test, one can reduce the risk of false positives by increasing the risk of false negatives, and vice versa. Holding model choice constant, you make this trade-off when you determine what a threshold is (e.g. convict someone if you're 99% or 70% certain that they're guilty).\n",
        " 2. Understand that whether false positive or negative is preferable depends on a human's value judgement on the consequences of either: (e.g. \"innocent people shouldn't be in jail\") and risks (e.g. dangerous people committing more crimes).\n",
        "\n",
        " Students should be able to understand from this question the trade-off between accuracy and recall when assigning a risk scores. The harms of false positives (giving someone a longer sentence than they should get, social harm they may receive from being classified as high harm, financial harm that may come from this score, etc), and the harms of a false negative (releasing a criminal). This question is meant to engage students in a discussion on trying to assign numbers to morality."
      ],
      "metadata": {
        "id": "C4CpB7Xw6cu8"
      }
    },
    {
      "cell_type": "markdown",
      "source": [
        "Suppose we now have access to whether the defendant actually reoffended - this data is stored in our is_recid column, which is a 1 if they recidivized, and a 0 if they did not."
      ],
      "metadata": {
        "id": "Ypoc_yPEf2sz"
      }
    },
    {
      "cell_type": "code",
      "source": [
        "compas_full.head(5) #with recid column - labelled 1 if they did reoffend, and 0 otherwise"
      ],
      "metadata": {
        "colab": {
          "base_uri": "https://localhost:8080/",
          "height": 237
        },
        "id": "ky48n5t5ca_k",
        "outputId": "60f3f37b-f082-434e-de97-cc9e959b1445"
      },
      "execution_count": null,
      "outputs": [
        {
          "output_type": "execute_result",
          "data": {
            "text/plain": [
              "                  name   sex  age  priors_count              race  \\\n",
              "id                                                                  \n",
              "1     miguel hernandez  Male   77             0             Other   \n",
              "3          kevon dixon  Male   42             0  African-American   \n",
              "4             ed philo  Male   33             4  African-American   \n",
              "5          marcu brown  Male   31             1  African-American   \n",
              "6   bouthy pierrelouis  Male   51             2             Other   \n",
              "\n",
              "    decile_score score_text  is_recid  \n",
              "id                                     \n",
              "1              1        Low         0  \n",
              "3              3        Low         1  \n",
              "4              4        Low         1  \n",
              "5              8       High         0  \n",
              "6              1        Low         0  "
            ],
            "text/html": [
              "\n",
              "  <div id=\"df-1b1d2cae-4573-4abe-ad57-2c45f3ece000\" class=\"colab-df-container\">\n",
              "    <div>\n",
              "<style scoped>\n",
              "    .dataframe tbody tr th:only-of-type {\n",
              "        vertical-align: middle;\n",
              "    }\n",
              "\n",
              "    .dataframe tbody tr th {\n",
              "        vertical-align: top;\n",
              "    }\n",
              "\n",
              "    .dataframe thead th {\n",
              "        text-align: right;\n",
              "    }\n",
              "</style>\n",
              "<table border=\"1\" class=\"dataframe\">\n",
              "  <thead>\n",
              "    <tr style=\"text-align: right;\">\n",
              "      <th></th>\n",
              "      <th>name</th>\n",
              "      <th>sex</th>\n",
              "      <th>age</th>\n",
              "      <th>priors_count</th>\n",
              "      <th>race</th>\n",
              "      <th>decile_score</th>\n",
              "      <th>score_text</th>\n",
              "      <th>is_recid</th>\n",
              "    </tr>\n",
              "    <tr>\n",
              "      <th>id</th>\n",
              "      <th></th>\n",
              "      <th></th>\n",
              "      <th></th>\n",
              "      <th></th>\n",
              "      <th></th>\n",
              "      <th></th>\n",
              "      <th></th>\n",
              "      <th></th>\n",
              "    </tr>\n",
              "  </thead>\n",
              "  <tbody>\n",
              "    <tr>\n",
              "      <th>1</th>\n",
              "      <td>miguel hernandez</td>\n",
              "      <td>Male</td>\n",
              "      <td>77</td>\n",
              "      <td>0</td>\n",
              "      <td>Other</td>\n",
              "      <td>1</td>\n",
              "      <td>Low</td>\n",
              "      <td>0</td>\n",
              "    </tr>\n",
              "    <tr>\n",
              "      <th>3</th>\n",
              "      <td>kevon dixon</td>\n",
              "      <td>Male</td>\n",
              "      <td>42</td>\n",
              "      <td>0</td>\n",
              "      <td>African-American</td>\n",
              "      <td>3</td>\n",
              "      <td>Low</td>\n",
              "      <td>1</td>\n",
              "    </tr>\n",
              "    <tr>\n",
              "      <th>4</th>\n",
              "      <td>ed philo</td>\n",
              "      <td>Male</td>\n",
              "      <td>33</td>\n",
              "      <td>4</td>\n",
              "      <td>African-American</td>\n",
              "      <td>4</td>\n",
              "      <td>Low</td>\n",
              "      <td>1</td>\n",
              "    </tr>\n",
              "    <tr>\n",
              "      <th>5</th>\n",
              "      <td>marcu brown</td>\n",
              "      <td>Male</td>\n",
              "      <td>31</td>\n",
              "      <td>1</td>\n",
              "      <td>African-American</td>\n",
              "      <td>8</td>\n",
              "      <td>High</td>\n",
              "      <td>0</td>\n",
              "    </tr>\n",
              "    <tr>\n",
              "      <th>6</th>\n",
              "      <td>bouthy pierrelouis</td>\n",
              "      <td>Male</td>\n",
              "      <td>51</td>\n",
              "      <td>2</td>\n",
              "      <td>Other</td>\n",
              "      <td>1</td>\n",
              "      <td>Low</td>\n",
              "      <td>0</td>\n",
              "    </tr>\n",
              "  </tbody>\n",
              "</table>\n",
              "</div>\n",
              "    <div class=\"colab-df-buttons\">\n",
              "\n",
              "  <div class=\"colab-df-container\">\n",
              "    <button class=\"colab-df-convert\" onclick=\"convertToInteractive('df-1b1d2cae-4573-4abe-ad57-2c45f3ece000')\"\n",
              "            title=\"Convert this dataframe to an interactive table.\"\n",
              "            style=\"display:none;\">\n",
              "\n",
              "  <svg xmlns=\"http://www.w3.org/2000/svg\" height=\"24px\" viewBox=\"0 -960 960 960\">\n",
              "    <path d=\"M120-120v-720h720v720H120Zm60-500h600v-160H180v160Zm220 220h160v-160H400v160Zm0 220h160v-160H400v160ZM180-400h160v-160H180v160Zm440 0h160v-160H620v160ZM180-180h160v-160H180v160Zm440 0h160v-160H620v160Z\"/>\n",
              "  </svg>\n",
              "    </button>\n",
              "\n",
              "  <style>\n",
              "    .colab-df-container {\n",
              "      display:flex;\n",
              "      gap: 12px;\n",
              "    }\n",
              "\n",
              "    .colab-df-convert {\n",
              "      background-color: #E8F0FE;\n",
              "      border: none;\n",
              "      border-radius: 50%;\n",
              "      cursor: pointer;\n",
              "      display: none;\n",
              "      fill: #1967D2;\n",
              "      height: 32px;\n",
              "      padding: 0 0 0 0;\n",
              "      width: 32px;\n",
              "    }\n",
              "\n",
              "    .colab-df-convert:hover {\n",
              "      background-color: #E2EBFA;\n",
              "      box-shadow: 0px 1px 2px rgba(60, 64, 67, 0.3), 0px 1px 3px 1px rgba(60, 64, 67, 0.15);\n",
              "      fill: #174EA6;\n",
              "    }\n",
              "\n",
              "    .colab-df-buttons div {\n",
              "      margin-bottom: 4px;\n",
              "    }\n",
              "\n",
              "    [theme=dark] .colab-df-convert {\n",
              "      background-color: #3B4455;\n",
              "      fill: #D2E3FC;\n",
              "    }\n",
              "\n",
              "    [theme=dark] .colab-df-convert:hover {\n",
              "      background-color: #434B5C;\n",
              "      box-shadow: 0px 1px 3px 1px rgba(0, 0, 0, 0.15);\n",
              "      filter: drop-shadow(0px 1px 2px rgba(0, 0, 0, 0.3));\n",
              "      fill: #FFFFFF;\n",
              "    }\n",
              "  </style>\n",
              "\n",
              "    <script>\n",
              "      const buttonEl =\n",
              "        document.querySelector('#df-1b1d2cae-4573-4abe-ad57-2c45f3ece000 button.colab-df-convert');\n",
              "      buttonEl.style.display =\n",
              "        google.colab.kernel.accessAllowed ? 'block' : 'none';\n",
              "\n",
              "      async function convertToInteractive(key) {\n",
              "        const element = document.querySelector('#df-1b1d2cae-4573-4abe-ad57-2c45f3ece000');\n",
              "        const dataTable =\n",
              "          await google.colab.kernel.invokeFunction('convertToInteractive',\n",
              "                                                    [key], {});\n",
              "        if (!dataTable) return;\n",
              "\n",
              "        const docLinkHtml = 'Like what you see? Visit the ' +\n",
              "          '<a target=\"_blank\" href=https://colab.research.google.com/notebooks/data_table.ipynb>data table notebook</a>'\n",
              "          + ' to learn more about interactive tables.';\n",
              "        element.innerHTML = '';\n",
              "        dataTable['output_type'] = 'display_data';\n",
              "        await google.colab.output.renderOutput(dataTable, element);\n",
              "        const docLink = document.createElement('div');\n",
              "        docLink.innerHTML = docLinkHtml;\n",
              "        element.appendChild(docLink);\n",
              "      }\n",
              "    </script>\n",
              "  </div>\n",
              "\n",
              "\n",
              "<div id=\"df-9ecd4849-f9c1-480b-baf3-60ce0a300df0\">\n",
              "  <button class=\"colab-df-quickchart\" onclick=\"quickchart('df-9ecd4849-f9c1-480b-baf3-60ce0a300df0')\"\n",
              "            title=\"Suggest charts\"\n",
              "            style=\"display:none;\">\n",
              "\n",
              "<svg xmlns=\"http://www.w3.org/2000/svg\" height=\"24px\"viewBox=\"0 0 24 24\"\n",
              "     width=\"24px\">\n",
              "    <g>\n",
              "        <path d=\"M19 3H5c-1.1 0-2 .9-2 2v14c0 1.1.9 2 2 2h14c1.1 0 2-.9 2-2V5c0-1.1-.9-2-2-2zM9 17H7v-7h2v7zm4 0h-2V7h2v10zm4 0h-2v-4h2v4z\"/>\n",
              "    </g>\n",
              "</svg>\n",
              "  </button>\n",
              "\n",
              "<style>\n",
              "  .colab-df-quickchart {\n",
              "      --bg-color: #E8F0FE;\n",
              "      --fill-color: #1967D2;\n",
              "      --hover-bg-color: #E2EBFA;\n",
              "      --hover-fill-color: #174EA6;\n",
              "      --disabled-fill-color: #AAA;\n",
              "      --disabled-bg-color: #DDD;\n",
              "  }\n",
              "\n",
              "  [theme=dark] .colab-df-quickchart {\n",
              "      --bg-color: #3B4455;\n",
              "      --fill-color: #D2E3FC;\n",
              "      --hover-bg-color: #434B5C;\n",
              "      --hover-fill-color: #FFFFFF;\n",
              "      --disabled-bg-color: #3B4455;\n",
              "      --disabled-fill-color: #666;\n",
              "  }\n",
              "\n",
              "  .colab-df-quickchart {\n",
              "    background-color: var(--bg-color);\n",
              "    border: none;\n",
              "    border-radius: 50%;\n",
              "    cursor: pointer;\n",
              "    display: none;\n",
              "    fill: var(--fill-color);\n",
              "    height: 32px;\n",
              "    padding: 0;\n",
              "    width: 32px;\n",
              "  }\n",
              "\n",
              "  .colab-df-quickchart:hover {\n",
              "    background-color: var(--hover-bg-color);\n",
              "    box-shadow: 0 1px 2px rgba(60, 64, 67, 0.3), 0 1px 3px 1px rgba(60, 64, 67, 0.15);\n",
              "    fill: var(--button-hover-fill-color);\n",
              "  }\n",
              "\n",
              "  .colab-df-quickchart-complete:disabled,\n",
              "  .colab-df-quickchart-complete:disabled:hover {\n",
              "    background-color: var(--disabled-bg-color);\n",
              "    fill: var(--disabled-fill-color);\n",
              "    box-shadow: none;\n",
              "  }\n",
              "\n",
              "  .colab-df-spinner {\n",
              "    border: 2px solid var(--fill-color);\n",
              "    border-color: transparent;\n",
              "    border-bottom-color: var(--fill-color);\n",
              "    animation:\n",
              "      spin 1s steps(1) infinite;\n",
              "  }\n",
              "\n",
              "  @keyframes spin {\n",
              "    0% {\n",
              "      border-color: transparent;\n",
              "      border-bottom-color: var(--fill-color);\n",
              "      border-left-color: var(--fill-color);\n",
              "    }\n",
              "    20% {\n",
              "      border-color: transparent;\n",
              "      border-left-color: var(--fill-color);\n",
              "      border-top-color: var(--fill-color);\n",
              "    }\n",
              "    30% {\n",
              "      border-color: transparent;\n",
              "      border-left-color: var(--fill-color);\n",
              "      border-top-color: var(--fill-color);\n",
              "      border-right-color: var(--fill-color);\n",
              "    }\n",
              "    40% {\n",
              "      border-color: transparent;\n",
              "      border-right-color: var(--fill-color);\n",
              "      border-top-color: var(--fill-color);\n",
              "    }\n",
              "    60% {\n",
              "      border-color: transparent;\n",
              "      border-right-color: var(--fill-color);\n",
              "    }\n",
              "    80% {\n",
              "      border-color: transparent;\n",
              "      border-right-color: var(--fill-color);\n",
              "      border-bottom-color: var(--fill-color);\n",
              "    }\n",
              "    90% {\n",
              "      border-color: transparent;\n",
              "      border-bottom-color: var(--fill-color);\n",
              "    }\n",
              "  }\n",
              "</style>\n",
              "\n",
              "  <script>\n",
              "    async function quickchart(key) {\n",
              "      const quickchartButtonEl =\n",
              "        document.querySelector('#' + key + ' button');\n",
              "      quickchartButtonEl.disabled = true;  // To prevent multiple clicks.\n",
              "      quickchartButtonEl.classList.add('colab-df-spinner');\n",
              "      try {\n",
              "        const charts = await google.colab.kernel.invokeFunction(\n",
              "            'suggestCharts', [key], {});\n",
              "      } catch (error) {\n",
              "        console.error('Error during call to suggestCharts:', error);\n",
              "      }\n",
              "      quickchartButtonEl.classList.remove('colab-df-spinner');\n",
              "      quickchartButtonEl.classList.add('colab-df-quickchart-complete');\n",
              "    }\n",
              "    (() => {\n",
              "      let quickchartButtonEl =\n",
              "        document.querySelector('#df-9ecd4849-f9c1-480b-baf3-60ce0a300df0 button');\n",
              "      quickchartButtonEl.style.display =\n",
              "        google.colab.kernel.accessAllowed ? 'block' : 'none';\n",
              "    })();\n",
              "  </script>\n",
              "</div>\n",
              "    </div>\n",
              "  </div>\n"
            ],
            "application/vnd.google.colaboratory.intrinsic+json": {
              "type": "dataframe",
              "variable_name": "compas_full",
              "summary": "{\n  \"name\": \"compas_full\",\n  \"rows\": 11038,\n  \"fields\": [\n    {\n      \"column\": \"id\",\n      \"properties\": {\n        \"dtype\": \"number\",\n        \"std\": 3395,\n        \"min\": 1,\n        \"max\": 11757,\n        \"num_unique_values\": 11038,\n        \"samples\": [\n          1601,\n          4001,\n          2471\n        ],\n        \"semantic_type\": \"\",\n        \"description\": \"\"\n      }\n    },\n    {\n      \"column\": \"name\",\n      \"properties\": {\n        \"dtype\": \"string\",\n        \"num_unique_values\": 10902,\n        \"samples\": [\n          \"rogrigo penaranda\",\n          \"johnny joseph\",\n          \"broderick westbrook\"\n        ],\n        \"semantic_type\": \"\",\n        \"description\": \"\"\n      }\n    },\n    {\n      \"column\": \"sex\",\n      \"properties\": {\n        \"dtype\": \"category\",\n        \"num_unique_values\": 2,\n        \"samples\": [\n          \"Female\",\n          \"Male\"\n        ],\n        \"semantic_type\": \"\",\n        \"description\": \"\"\n      }\n    },\n    {\n      \"column\": \"age\",\n      \"properties\": {\n        \"dtype\": \"int32\",\n        \"num_unique_values\": 68,\n        \"samples\": [\n          67,\n          45\n        ],\n        \"semantic_type\": \"\",\n        \"description\": \"\"\n      }\n    },\n    {\n      \"column\": \"priors_count\",\n      \"properties\": {\n        \"dtype\": \"number\",\n        \"std\": 4,\n        \"min\": 0,\n        \"max\": 43,\n        \"num_unique_values\": 39,\n        \"samples\": [\n          26,\n          35\n        ],\n        \"semantic_type\": \"\",\n        \"description\": \"\"\n      }\n    },\n    {\n      \"column\": \"race\",\n      \"properties\": {\n        \"dtype\": \"category\",\n        \"num_unique_values\": 6,\n        \"samples\": [\n          \"Other\",\n          \"African-American\"\n        ],\n        \"semantic_type\": \"\",\n        \"description\": \"\"\n      }\n    },\n    {\n      \"column\": \"decile_score\",\n      \"properties\": {\n        \"dtype\": \"number\",\n        \"std\": 2,\n        \"min\": -1,\n        \"max\": 10,\n        \"num_unique_values\": 11,\n        \"samples\": [\n          10,\n          1\n        ],\n        \"semantic_type\": \"\",\n        \"description\": \"\"\n      }\n    },\n    {\n      \"column\": \"score_text\",\n      \"properties\": {\n        \"dtype\": \"category\",\n        \"num_unique_values\": 3,\n        \"samples\": [\n          \"Low\",\n          \"High\"\n        ],\n        \"semantic_type\": \"\",\n        \"description\": \"\"\n      }\n    },\n    {\n      \"column\": \"is_recid\",\n      \"properties\": {\n        \"dtype\": \"number\",\n        \"std\": 0,\n        \"min\": 0,\n        \"max\": 1,\n        \"num_unique_values\": 2,\n        \"samples\": [\n          1,\n          0\n        ],\n        \"semantic_type\": \"\",\n        \"description\": \"\"\n      }\n    }\n  ]\n}"
            }
          },
          "metadata": {},
          "execution_count": 10
        }
      ]
    },
    {
      "cell_type": "markdown",
      "source": [
        "**Question 2.1** Write code to calculate the accuracy, false_positive, and false_negative rates. (We can assume a score_text of Medium or High is a prediction that the defendant will reoffend, and a score_text of Low is a prediction the defendant will not reoffend).\n",
        "\n"
      ],
      "metadata": {
        "id": "YcXAc-IqiDzH"
      }
    },
    {
      "cell_type": "code",
      "source": [
        "accuracy = ...\n",
        "false_positive = ...\n",
        "false_negative = ..."
      ],
      "metadata": {
        "id": "6crW9e2Mk_fk"
      },
      "execution_count": null,
      "outputs": []
    },
    {
      "cell_type": "code",
      "source": [
        "#ANSWER\n",
        "true_positives = len(compas_full[( ( compas_full.is_recid==1) &\n",
        " (compas_full.score_text == 'Medium') | (compas_full.score_text == 'High') )])\n",
        "true_negatives = len(compas_full[( compas_full.is_recid==0) & (compas_full.score_text == 'Low' ) ])\n",
        "false_positives = len(compas_full[(( compas_full.is_recid==0) & (compas_full.score_text == 'Medium') | (compas_full.score_text == 'High') ) ])\n",
        "false_negatives = len(compas_full[( compas_full.is_recid==1) & (compas_full.score_text == 'Low') ])\n",
        "\n",
        "\n",
        "accuracy = (true_positives + true_negatives) / len(compas_full)\n",
        "false_positive_rate = false_positives / len(compas_full)\n",
        "false_negative_rate = false_negatives / len(compas_full)\n",
        "\n",
        "print(accuracy, false_positive_rate, false_negative_rate)"
      ],
      "metadata": {
        "colab": {
          "base_uri": "https://localhost:8080/"
        },
        "id": "-ibMLtjcne2s",
        "outputId": "02c07613-84e9-4674-c2d3-19492a1fd9e3"
      },
      "execution_count": null,
      "outputs": [
        {
          "output_type": "stream",
          "name": "stdout",
          "text": [
            "0.7241348070302591 0.3362022105453887 0.1288276861750317\n"
          ]
        }
      ]
    },
    {
      "cell_type": "markdown",
      "source": [
        "**Question 2.2** It seems like the accuracy of our model is pretty high (by some standards)! However, it also has a high rate of false positives compared to false negatives. What are the potential implications of a false positive or a false negative?"
      ],
      "metadata": {
        "id": "IGdxZitkueip"
      }
    },
    {
      "cell_type": "markdown",
      "source": [
        "_ANSWER HERE_"
      ],
      "metadata": {
        "id": "L3lRct_8voD-"
      }
    },
    {
      "cell_type": "markdown",
      "source": [
        "**Question 2.3** In this scenario, how should we balance false positives and false negatives? Which one is more harmful, and which one would the users of this algorithm be motivated to minimze?"
      ],
      "metadata": {
        "id": "mQcjSV-xAOxD"
      }
    },
    {
      "cell_type": "markdown",
      "source": [
        "_ANSWER HERE_"
      ],
      "metadata": {
        "id": "e4szCNphAjEY"
      }
    },
    {
      "cell_type": "markdown",
      "source": [
        "**Question 2.4** Suppose that we want to calculate the accuracy, false positive, and false negatives based off the decile score, and not the score_text column. Below we have defined a function that calculates these statistics based off a given decile score threshold, which would represent a positive prediction in our algorithm. Explain any patterns you see as you increase or decrease the threshold."
      ],
      "metadata": {
        "id": "Uyt8UaNzPW1N"
      }
    },
    {
      "cell_type": "code",
      "source": [
        "threshold = ...#Set by a slider maybe (or random number generator)\n",
        "\n",
        "def hidden_function(tbl, threshold):\n",
        "  true_positives = len(tbl[( (tbl.is_recid==1) &\n",
        "  (tbl.decile_score >= threshold) )])\n",
        "  true_negatives = len(tbl[(tbl.is_recid==0) & (tbl.decile_score < threshold) ])\n",
        "  false_positives = len(tbl[((tbl.is_recid==0) & (tbl.decile_score >= threshold) ) ])\n",
        "  false_negatives = len(tbl[(tbl.is_recid==1) & (tbl.decile_score < threshold) ])\n",
        "\n",
        "  accuracy = (true_positives + true_negatives) / len(tbl)\n",
        "  false_positive_rate = false_positives / len(tbl)\n",
        "  false_negative_rate = false_negatives / len(tbl)\n",
        "  print('Accuracy: ', accuracy)\n",
        "  print('False Positive Rate: ', false_positive_rate)\n",
        "  print('False Negative Rate: ', false_negative_rate)\n",
        "  return [accuracy, false_positive_rate, false_negative_rate]\n",
        "\n",
        "#Test the function out with different numbers to see how the statistics change!\n",
        "#hidden_function(...)"
      ],
      "metadata": {
        "id": "LuGmXP1JPUmH"
      },
      "execution_count": null,
      "outputs": []
    },
    {
      "cell_type": "markdown",
      "source": [
        "_ANSWER HERE_"
      ],
      "metadata": {
        "id": "ZAXX80OnzKdK"
      }
    },
    {
      "cell_type": "markdown",
      "source": [
        "##**End of Part 1**"
      ],
      "metadata": {
        "id": "bx2PaDN8tuah"
      }
    },
    {
      "cell_type": "markdown",
      "source": [
        "# PART 2 - Question 3: A Hidden Impact\n",
        "\n",
        "Introduce the Race column to students to see the difference.\n",
        "\n",
        "Learning Goals:\n",
        "1. Distinguish between singular and general causation.\n",
        "2. Distinguish between the evidence needed to establish singular or general causation.\n",
        "3. Identify different policy implications of singular or general causation.\n",
        "4. Recognize cases where omission bias and status quo bias can influence decision making, even when this results in a worse outcome.\n",
        "\n",
        "Students should be able to realize disproportionate impact, and discuss how different groups may experience impacts. In addition, students should think about the difficulties of using computer algorithms to try and predict human experiences. A general trend of higher priors, or race correlating with higher rates of recidivism may exist, but that does not mean this trait causes a person to recidivize."
      ],
      "metadata": {
        "id": "8GFak-IlAg2I"
      }
    },
    {
      "cell_type": "markdown",
      "source": [
        "**Question 3.1** Calculate accuracy for black versus white defendants. The accuracy for white defendants is provided for you. You can assume the threshold is a decile score of 4."
      ],
      "metadata": {
        "id": "9pbLAXlIC1Xm"
      }
    },
    {
      "cell_type": "code",
      "source": [
        "compas_full"
      ],
      "metadata": {
        "colab": {
          "base_uri": "https://localhost:8080/",
          "height": 454
        },
        "id": "LSGRBpJseqXZ",
        "outputId": "07b6bbe1-ff97-4997-a691-cd7667209e8c"
      },
      "execution_count": null,
      "outputs": [
        {
          "output_type": "execute_result",
          "data": {
            "text/plain": [
              "                         name   sex  age  priors_count              race  \\\n",
              "id                                                                         \n",
              "1            miguel hernandez  Male   77             0             Other   \n",
              "3                 kevon dixon  Male   42             0  African-American   \n",
              "4                    ed philo  Male   33             4  African-American   \n",
              "5                 marcu brown  Male   31             1  African-American   \n",
              "6          bouthy pierrelouis  Male   51             2             Other   \n",
              "...                       ...   ...  ...           ...               ...   \n",
              "11753        patrick hamilton  Male   56             1             Other   \n",
              "11754       raymond hernandez  Male   31             3         Caucasian   \n",
              "11755  dieuseul pierre-gilles  Male   43             0             Other   \n",
              "11756        scott lomagistro  Male   38             2         Caucasian   \n",
              "11757                chin yan  Male   42             0             Asian   \n",
              "\n",
              "       decile_score score_text  is_recid  \n",
              "id                                        \n",
              "1                 1        Low         0  \n",
              "3                 3        Low         1  \n",
              "4                 4        Low         1  \n",
              "5                 8       High         0  \n",
              "6                 1        Low         0  \n",
              "...             ...        ...       ...  \n",
              "11753             3        Low         0  \n",
              "11754             7     Medium         1  \n",
              "11755             4        Low         0  \n",
              "11756             3        Low         0  \n",
              "11757             1        Low         0  \n",
              "\n",
              "[11038 rows x 8 columns]"
            ],
            "text/html": [
              "\n",
              "  <div id=\"df-3b3fe036-1f94-4457-8344-de7d1654a783\" class=\"colab-df-container\">\n",
              "    <div>\n",
              "<style scoped>\n",
              "    .dataframe tbody tr th:only-of-type {\n",
              "        vertical-align: middle;\n",
              "    }\n",
              "\n",
              "    .dataframe tbody tr th {\n",
              "        vertical-align: top;\n",
              "    }\n",
              "\n",
              "    .dataframe thead th {\n",
              "        text-align: right;\n",
              "    }\n",
              "</style>\n",
              "<table border=\"1\" class=\"dataframe\">\n",
              "  <thead>\n",
              "    <tr style=\"text-align: right;\">\n",
              "      <th></th>\n",
              "      <th>name</th>\n",
              "      <th>sex</th>\n",
              "      <th>age</th>\n",
              "      <th>priors_count</th>\n",
              "      <th>race</th>\n",
              "      <th>decile_score</th>\n",
              "      <th>score_text</th>\n",
              "      <th>is_recid</th>\n",
              "    </tr>\n",
              "    <tr>\n",
              "      <th>id</th>\n",
              "      <th></th>\n",
              "      <th></th>\n",
              "      <th></th>\n",
              "      <th></th>\n",
              "      <th></th>\n",
              "      <th></th>\n",
              "      <th></th>\n",
              "      <th></th>\n",
              "    </tr>\n",
              "  </thead>\n",
              "  <tbody>\n",
              "    <tr>\n",
              "      <th>1</th>\n",
              "      <td>miguel hernandez</td>\n",
              "      <td>Male</td>\n",
              "      <td>77</td>\n",
              "      <td>0</td>\n",
              "      <td>Other</td>\n",
              "      <td>1</td>\n",
              "      <td>Low</td>\n",
              "      <td>0</td>\n",
              "    </tr>\n",
              "    <tr>\n",
              "      <th>3</th>\n",
              "      <td>kevon dixon</td>\n",
              "      <td>Male</td>\n",
              "      <td>42</td>\n",
              "      <td>0</td>\n",
              "      <td>African-American</td>\n",
              "      <td>3</td>\n",
              "      <td>Low</td>\n",
              "      <td>1</td>\n",
              "    </tr>\n",
              "    <tr>\n",
              "      <th>4</th>\n",
              "      <td>ed philo</td>\n",
              "      <td>Male</td>\n",
              "      <td>33</td>\n",
              "      <td>4</td>\n",
              "      <td>African-American</td>\n",
              "      <td>4</td>\n",
              "      <td>Low</td>\n",
              "      <td>1</td>\n",
              "    </tr>\n",
              "    <tr>\n",
              "      <th>5</th>\n",
              "      <td>marcu brown</td>\n",
              "      <td>Male</td>\n",
              "      <td>31</td>\n",
              "      <td>1</td>\n",
              "      <td>African-American</td>\n",
              "      <td>8</td>\n",
              "      <td>High</td>\n",
              "      <td>0</td>\n",
              "    </tr>\n",
              "    <tr>\n",
              "      <th>6</th>\n",
              "      <td>bouthy pierrelouis</td>\n",
              "      <td>Male</td>\n",
              "      <td>51</td>\n",
              "      <td>2</td>\n",
              "      <td>Other</td>\n",
              "      <td>1</td>\n",
              "      <td>Low</td>\n",
              "      <td>0</td>\n",
              "    </tr>\n",
              "    <tr>\n",
              "      <th>...</th>\n",
              "      <td>...</td>\n",
              "      <td>...</td>\n",
              "      <td>...</td>\n",
              "      <td>...</td>\n",
              "      <td>...</td>\n",
              "      <td>...</td>\n",
              "      <td>...</td>\n",
              "      <td>...</td>\n",
              "    </tr>\n",
              "    <tr>\n",
              "      <th>11753</th>\n",
              "      <td>patrick hamilton</td>\n",
              "      <td>Male</td>\n",
              "      <td>56</td>\n",
              "      <td>1</td>\n",
              "      <td>Other</td>\n",
              "      <td>3</td>\n",
              "      <td>Low</td>\n",
              "      <td>0</td>\n",
              "    </tr>\n",
              "    <tr>\n",
              "      <th>11754</th>\n",
              "      <td>raymond hernandez</td>\n",
              "      <td>Male</td>\n",
              "      <td>31</td>\n",
              "      <td>3</td>\n",
              "      <td>Caucasian</td>\n",
              "      <td>7</td>\n",
              "      <td>Medium</td>\n",
              "      <td>1</td>\n",
              "    </tr>\n",
              "    <tr>\n",
              "      <th>11755</th>\n",
              "      <td>dieuseul pierre-gilles</td>\n",
              "      <td>Male</td>\n",
              "      <td>43</td>\n",
              "      <td>0</td>\n",
              "      <td>Other</td>\n",
              "      <td>4</td>\n",
              "      <td>Low</td>\n",
              "      <td>0</td>\n",
              "    </tr>\n",
              "    <tr>\n",
              "      <th>11756</th>\n",
              "      <td>scott lomagistro</td>\n",
              "      <td>Male</td>\n",
              "      <td>38</td>\n",
              "      <td>2</td>\n",
              "      <td>Caucasian</td>\n",
              "      <td>3</td>\n",
              "      <td>Low</td>\n",
              "      <td>0</td>\n",
              "    </tr>\n",
              "    <tr>\n",
              "      <th>11757</th>\n",
              "      <td>chin yan</td>\n",
              "      <td>Male</td>\n",
              "      <td>42</td>\n",
              "      <td>0</td>\n",
              "      <td>Asian</td>\n",
              "      <td>1</td>\n",
              "      <td>Low</td>\n",
              "      <td>0</td>\n",
              "    </tr>\n",
              "  </tbody>\n",
              "</table>\n",
              "<p>11038 rows × 8 columns</p>\n",
              "</div>\n",
              "    <div class=\"colab-df-buttons\">\n",
              "\n",
              "  <div class=\"colab-df-container\">\n",
              "    <button class=\"colab-df-convert\" onclick=\"convertToInteractive('df-3b3fe036-1f94-4457-8344-de7d1654a783')\"\n",
              "            title=\"Convert this dataframe to an interactive table.\"\n",
              "            style=\"display:none;\">\n",
              "\n",
              "  <svg xmlns=\"http://www.w3.org/2000/svg\" height=\"24px\" viewBox=\"0 -960 960 960\">\n",
              "    <path d=\"M120-120v-720h720v720H120Zm60-500h600v-160H180v160Zm220 220h160v-160H400v160Zm0 220h160v-160H400v160ZM180-400h160v-160H180v160Zm440 0h160v-160H620v160ZM180-180h160v-160H180v160Zm440 0h160v-160H620v160Z\"/>\n",
              "  </svg>\n",
              "    </button>\n",
              "\n",
              "  <style>\n",
              "    .colab-df-container {\n",
              "      display:flex;\n",
              "      gap: 12px;\n",
              "    }\n",
              "\n",
              "    .colab-df-convert {\n",
              "      background-color: #E8F0FE;\n",
              "      border: none;\n",
              "      border-radius: 50%;\n",
              "      cursor: pointer;\n",
              "      display: none;\n",
              "      fill: #1967D2;\n",
              "      height: 32px;\n",
              "      padding: 0 0 0 0;\n",
              "      width: 32px;\n",
              "    }\n",
              "\n",
              "    .colab-df-convert:hover {\n",
              "      background-color: #E2EBFA;\n",
              "      box-shadow: 0px 1px 2px rgba(60, 64, 67, 0.3), 0px 1px 3px 1px rgba(60, 64, 67, 0.15);\n",
              "      fill: #174EA6;\n",
              "    }\n",
              "\n",
              "    .colab-df-buttons div {\n",
              "      margin-bottom: 4px;\n",
              "    }\n",
              "\n",
              "    [theme=dark] .colab-df-convert {\n",
              "      background-color: #3B4455;\n",
              "      fill: #D2E3FC;\n",
              "    }\n",
              "\n",
              "    [theme=dark] .colab-df-convert:hover {\n",
              "      background-color: #434B5C;\n",
              "      box-shadow: 0px 1px 3px 1px rgba(0, 0, 0, 0.15);\n",
              "      filter: drop-shadow(0px 1px 2px rgba(0, 0, 0, 0.3));\n",
              "      fill: #FFFFFF;\n",
              "    }\n",
              "  </style>\n",
              "\n",
              "    <script>\n",
              "      const buttonEl =\n",
              "        document.querySelector('#df-3b3fe036-1f94-4457-8344-de7d1654a783 button.colab-df-convert');\n",
              "      buttonEl.style.display =\n",
              "        google.colab.kernel.accessAllowed ? 'block' : 'none';\n",
              "\n",
              "      async function convertToInteractive(key) {\n",
              "        const element = document.querySelector('#df-3b3fe036-1f94-4457-8344-de7d1654a783');\n",
              "        const dataTable =\n",
              "          await google.colab.kernel.invokeFunction('convertToInteractive',\n",
              "                                                    [key], {});\n",
              "        if (!dataTable) return;\n",
              "\n",
              "        const docLinkHtml = 'Like what you see? Visit the ' +\n",
              "          '<a target=\"_blank\" href=https://colab.research.google.com/notebooks/data_table.ipynb>data table notebook</a>'\n",
              "          + ' to learn more about interactive tables.';\n",
              "        element.innerHTML = '';\n",
              "        dataTable['output_type'] = 'display_data';\n",
              "        await google.colab.output.renderOutput(dataTable, element);\n",
              "        const docLink = document.createElement('div');\n",
              "        docLink.innerHTML = docLinkHtml;\n",
              "        element.appendChild(docLink);\n",
              "      }\n",
              "    </script>\n",
              "  </div>\n",
              "\n",
              "\n",
              "<div id=\"df-0b4228a6-9892-48ad-ac79-50fcf3644c5f\">\n",
              "  <button class=\"colab-df-quickchart\" onclick=\"quickchart('df-0b4228a6-9892-48ad-ac79-50fcf3644c5f')\"\n",
              "            title=\"Suggest charts\"\n",
              "            style=\"display:none;\">\n",
              "\n",
              "<svg xmlns=\"http://www.w3.org/2000/svg\" height=\"24px\"viewBox=\"0 0 24 24\"\n",
              "     width=\"24px\">\n",
              "    <g>\n",
              "        <path d=\"M19 3H5c-1.1 0-2 .9-2 2v14c0 1.1.9 2 2 2h14c1.1 0 2-.9 2-2V5c0-1.1-.9-2-2-2zM9 17H7v-7h2v7zm4 0h-2V7h2v10zm4 0h-2v-4h2v4z\"/>\n",
              "    </g>\n",
              "</svg>\n",
              "  </button>\n",
              "\n",
              "<style>\n",
              "  .colab-df-quickchart {\n",
              "      --bg-color: #E8F0FE;\n",
              "      --fill-color: #1967D2;\n",
              "      --hover-bg-color: #E2EBFA;\n",
              "      --hover-fill-color: #174EA6;\n",
              "      --disabled-fill-color: #AAA;\n",
              "      --disabled-bg-color: #DDD;\n",
              "  }\n",
              "\n",
              "  [theme=dark] .colab-df-quickchart {\n",
              "      --bg-color: #3B4455;\n",
              "      --fill-color: #D2E3FC;\n",
              "      --hover-bg-color: #434B5C;\n",
              "      --hover-fill-color: #FFFFFF;\n",
              "      --disabled-bg-color: #3B4455;\n",
              "      --disabled-fill-color: #666;\n",
              "  }\n",
              "\n",
              "  .colab-df-quickchart {\n",
              "    background-color: var(--bg-color);\n",
              "    border: none;\n",
              "    border-radius: 50%;\n",
              "    cursor: pointer;\n",
              "    display: none;\n",
              "    fill: var(--fill-color);\n",
              "    height: 32px;\n",
              "    padding: 0;\n",
              "    width: 32px;\n",
              "  }\n",
              "\n",
              "  .colab-df-quickchart:hover {\n",
              "    background-color: var(--hover-bg-color);\n",
              "    box-shadow: 0 1px 2px rgba(60, 64, 67, 0.3), 0 1px 3px 1px rgba(60, 64, 67, 0.15);\n",
              "    fill: var(--button-hover-fill-color);\n",
              "  }\n",
              "\n",
              "  .colab-df-quickchart-complete:disabled,\n",
              "  .colab-df-quickchart-complete:disabled:hover {\n",
              "    background-color: var(--disabled-bg-color);\n",
              "    fill: var(--disabled-fill-color);\n",
              "    box-shadow: none;\n",
              "  }\n",
              "\n",
              "  .colab-df-spinner {\n",
              "    border: 2px solid var(--fill-color);\n",
              "    border-color: transparent;\n",
              "    border-bottom-color: var(--fill-color);\n",
              "    animation:\n",
              "      spin 1s steps(1) infinite;\n",
              "  }\n",
              "\n",
              "  @keyframes spin {\n",
              "    0% {\n",
              "      border-color: transparent;\n",
              "      border-bottom-color: var(--fill-color);\n",
              "      border-left-color: var(--fill-color);\n",
              "    }\n",
              "    20% {\n",
              "      border-color: transparent;\n",
              "      border-left-color: var(--fill-color);\n",
              "      border-top-color: var(--fill-color);\n",
              "    }\n",
              "    30% {\n",
              "      border-color: transparent;\n",
              "      border-left-color: var(--fill-color);\n",
              "      border-top-color: var(--fill-color);\n",
              "      border-right-color: var(--fill-color);\n",
              "    }\n",
              "    40% {\n",
              "      border-color: transparent;\n",
              "      border-right-color: var(--fill-color);\n",
              "      border-top-color: var(--fill-color);\n",
              "    }\n",
              "    60% {\n",
              "      border-color: transparent;\n",
              "      border-right-color: var(--fill-color);\n",
              "    }\n",
              "    80% {\n",
              "      border-color: transparent;\n",
              "      border-right-color: var(--fill-color);\n",
              "      border-bottom-color: var(--fill-color);\n",
              "    }\n",
              "    90% {\n",
              "      border-color: transparent;\n",
              "      border-bottom-color: var(--fill-color);\n",
              "    }\n",
              "  }\n",
              "</style>\n",
              "\n",
              "  <script>\n",
              "    async function quickchart(key) {\n",
              "      const quickchartButtonEl =\n",
              "        document.querySelector('#' + key + ' button');\n",
              "      quickchartButtonEl.disabled = true;  // To prevent multiple clicks.\n",
              "      quickchartButtonEl.classList.add('colab-df-spinner');\n",
              "      try {\n",
              "        const charts = await google.colab.kernel.invokeFunction(\n",
              "            'suggestCharts', [key], {});\n",
              "      } catch (error) {\n",
              "        console.error('Error during call to suggestCharts:', error);\n",
              "      }\n",
              "      quickchartButtonEl.classList.remove('colab-df-spinner');\n",
              "      quickchartButtonEl.classList.add('colab-df-quickchart-complete');\n",
              "    }\n",
              "    (() => {\n",
              "      let quickchartButtonEl =\n",
              "        document.querySelector('#df-0b4228a6-9892-48ad-ac79-50fcf3644c5f button');\n",
              "      quickchartButtonEl.style.display =\n",
              "        google.colab.kernel.accessAllowed ? 'block' : 'none';\n",
              "    })();\n",
              "  </script>\n",
              "</div>\n",
              "    </div>\n",
              "  </div>\n"
            ],
            "application/vnd.google.colaboratory.intrinsic+json": {
              "type": "dataframe",
              "variable_name": "compas_full",
              "summary": "{\n  \"name\": \"compas_full\",\n  \"rows\": 11038,\n  \"fields\": [\n    {\n      \"column\": \"id\",\n      \"properties\": {\n        \"dtype\": \"number\",\n        \"std\": 3395,\n        \"min\": 1,\n        \"max\": 11757,\n        \"num_unique_values\": 11038,\n        \"samples\": [\n          1601,\n          4001,\n          2471\n        ],\n        \"semantic_type\": \"\",\n        \"description\": \"\"\n      }\n    },\n    {\n      \"column\": \"name\",\n      \"properties\": {\n        \"dtype\": \"string\",\n        \"num_unique_values\": 10902,\n        \"samples\": [\n          \"rogrigo penaranda\",\n          \"johnny joseph\",\n          \"broderick westbrook\"\n        ],\n        \"semantic_type\": \"\",\n        \"description\": \"\"\n      }\n    },\n    {\n      \"column\": \"sex\",\n      \"properties\": {\n        \"dtype\": \"category\",\n        \"num_unique_values\": 2,\n        \"samples\": [\n          \"Female\",\n          \"Male\"\n        ],\n        \"semantic_type\": \"\",\n        \"description\": \"\"\n      }\n    },\n    {\n      \"column\": \"age\",\n      \"properties\": {\n        \"dtype\": \"int32\",\n        \"num_unique_values\": 68,\n        \"samples\": [\n          67,\n          45\n        ],\n        \"semantic_type\": \"\",\n        \"description\": \"\"\n      }\n    },\n    {\n      \"column\": \"priors_count\",\n      \"properties\": {\n        \"dtype\": \"number\",\n        \"std\": 4,\n        \"min\": 0,\n        \"max\": 43,\n        \"num_unique_values\": 39,\n        \"samples\": [\n          26,\n          35\n        ],\n        \"semantic_type\": \"\",\n        \"description\": \"\"\n      }\n    },\n    {\n      \"column\": \"race\",\n      \"properties\": {\n        \"dtype\": \"category\",\n        \"num_unique_values\": 6,\n        \"samples\": [\n          \"Other\",\n          \"African-American\"\n        ],\n        \"semantic_type\": \"\",\n        \"description\": \"\"\n      }\n    },\n    {\n      \"column\": \"decile_score\",\n      \"properties\": {\n        \"dtype\": \"number\",\n        \"std\": 2,\n        \"min\": -1,\n        \"max\": 10,\n        \"num_unique_values\": 11,\n        \"samples\": [\n          10,\n          1\n        ],\n        \"semantic_type\": \"\",\n        \"description\": \"\"\n      }\n    },\n    {\n      \"column\": \"score_text\",\n      \"properties\": {\n        \"dtype\": \"category\",\n        \"num_unique_values\": 3,\n        \"samples\": [\n          \"Low\",\n          \"High\"\n        ],\n        \"semantic_type\": \"\",\n        \"description\": \"\"\n      }\n    },\n    {\n      \"column\": \"is_recid\",\n      \"properties\": {\n        \"dtype\": \"number\",\n        \"std\": 0,\n        \"min\": 0,\n        \"max\": 1,\n        \"num_unique_values\": 2,\n        \"samples\": [\n          1,\n          0\n        ],\n        \"semantic_type\": \"\",\n        \"description\": \"\"\n      }\n    }\n  ]\n}"
            }
          },
          "metadata": {},
          "execution_count": 17
        }
      ]
    },
    {
      "cell_type": "code",
      "source": [
        "#hide this cell from students, or put in raw numbers\n",
        "compas_white = compas_full[compas_full.race==\"Caucasian\"]\n",
        "\n",
        "hidden_function(compas_white, 4)"
      ],
      "metadata": {
        "colab": {
          "base_uri": "https://localhost:8080/"
        },
        "id": "UNVIe5y7uKlN",
        "outputId": "5060e944-0807-47ff-818c-999bb36d4fb5"
      },
      "execution_count": null,
      "outputs": [
        {
          "output_type": "stream",
          "name": "stdout",
          "text": [
            "Accuracy:  0.6270298585646935\n",
            "False Positive Rate:  0.2658459926663174\n",
            "False Negative Rate:  0.107124148768989\n"
          ]
        },
        {
          "output_type": "execute_result",
          "data": {
            "text/plain": [
              "[0.6270298585646935, 0.2658459926663174, 0.107124148768989]"
            ]
          },
          "metadata": {},
          "execution_count": 43
        }
      ]
    },
    {
      "cell_type": "code",
      "source": [
        "#Fill in the ellipses here\n",
        "compas_black = ...\n",
        "statistics_array = ..."
      ],
      "metadata": {
        "id": "fTj9lwNz12r3"
      },
      "execution_count": null,
      "outputs": []
    },
    {
      "cell_type": "code",
      "source": [
        "#ANSWER\n",
        "compas_black = compas_full[compas_full.race==\"African-American\"]\n",
        "statistics_array = hidden_function(compas_black, 4)"
      ],
      "metadata": {
        "id": "80LuMJtcOI0D",
        "colab": {
          "base_uri": "https://localhost:8080/"
        },
        "outputId": "504ea1e5-33da-4198-ba87-90340052b841"
      },
      "execution_count": null,
      "outputs": [
        {
          "output_type": "stream",
          "name": "stdout",
          "text": [
            "Accuracy:  0.560807125977095\n",
            "False Positive Rate:  0.36138883839301944\n",
            "False Negative Rate:  0.07780403562988547\n"
          ]
        },
        {
          "output_type": "execute_result",
          "data": {
            "text/plain": [
              "[0.560807125977095, 0.36138883839301944, 0.07780403562988547]"
            ]
          },
          "metadata": {},
          "execution_count": 46
        }
      ]
    },
    {
      "cell_type": "markdown",
      "source": [
        "**Question 3.2** How do these statistics differ? Can you think of any reasons why this may be the case?"
      ],
      "metadata": {
        "id": "fXqOulwMC2Sh"
      }
    },
    {
      "cell_type": "markdown",
      "source": [
        "_ANSWER HERE_"
      ],
      "metadata": {
        "id": "jdHoKX_FOHUL"
      }
    },
    {
      "cell_type": "markdown",
      "source": [
        "**Question 3.3** Considering those who designed COMPAS, what columns would be considered correlation, general causation, and singular causation when it comes to recidivism? Consider the effect that this algorithm would have on its defendant, and whether this is a randomized controlled experiment (maybe don't mention this part to students). What factors may affect a person's decision to recidivize?\n",
        "\n",
        "Under which criteria is reducing the human experience to a model justified? How would reductionism relate to this?"
      ],
      "metadata": {
        "id": "TWn9c2UcRkAU"
      }
    },
    {
      "cell_type": "markdown",
      "source": [
        "_ANSWER HERE_"
      ],
      "metadata": {
        "id": "amDqWoYGdYLv"
      }
    },
    {
      "cell_type": "code",
      "source": [
        "filtered_race = compas_full[(compas_full.race == 'African-American') | (compas_full.race == 'Caucasian')]\n",
        "sns.histplot(data=filtered_race, x = 'decile_score', hue='race', bins=range(1, 10, 1))"
      ],
      "metadata": {
        "colab": {
          "base_uri": "https://localhost:8080/",
          "height": 467
        },
        "id": "WDUgfShjg6lP",
        "outputId": "8bafa938-6daa-4ec3-8102-d4d04095b98f"
      },
      "execution_count": null,
      "outputs": [
        {
          "output_type": "execute_result",
          "data": {
            "text/plain": [
              "<Axes: xlabel='decile_score', ylabel='Count'>"
            ]
          },
          "metadata": {},
          "execution_count": 19
        },
        {
          "output_type": "display_data",
          "data": {
            "text/plain": [
              "<Figure size 640x480 with 1 Axes>"
            ],
            "image/png": "[encoded data removed]"
          },
          "metadata": {}
        }
      ]
    },
    {
      "cell_type": "markdown",
      "source": [
        "# Question 4: Biases\n",
        "\n",
        "You realize through a hypothetical source that Northpointe forgot to properly clean their data. What form of bias would this be categorized as? The tradeoff between false positives and negatives is sometimes driven by bias.\n",
        "\n",
        "**Question 4.1** What are other sources of bias in the process of training this algorithm and running inference? (Simplify this question depending on prior experience)."
      ],
      "metadata": {
        "id": "Fr9jrSmU5ld8"
      }
    },
    {
      "cell_type": "markdown",
      "source": [
        "_ANSWER HERE_"
      ],
      "metadata": {
        "id": "BDUZY2uA4r31"
      }
    },
    {
      "cell_type": "markdown",
      "source": [
        "# Concluding questions"
      ],
      "metadata": {
        "id": "czbyHn-geSni"
      }
    },
    {
      "cell_type": "markdown",
      "source": [
        "**Question 4.2** Read these articles before answering this question:\n",
        "\n",
        "[Washington Post](https://https://www.washingtonpost.com/news/monkey-cage/wp/2016/10/17/can-an-algorithm-be-racist-our-analysis-is-more-cautious-than-propublicas/)\n",
        "\n",
        "[ProPublica](https://https://www.propublica.org/article/how-we-analyzed-the-compas-recidivism-algorithm)\n",
        "\n",
        "Is COMPAS a suitable model?\n",
        "What factors motivate people to overlook flaws in this model? (consider overlaps with other questions and condense)"
      ],
      "metadata": {
        "id": "gUPF7c2ieVnH"
      }
    },
    {
      "cell_type": "markdown",
      "source": [
        "_ANSWER HERE_"
      ],
      "metadata": {
        "id": "Hu730TZW7UBc"
      }
    },
    {
      "cell_type": "code",
      "source": [],
      "metadata": {
        "id": "zIPAGIkn7Vkf"
      },
      "execution_count": null,
      "outputs": []
    }
  ]
}