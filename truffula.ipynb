{
 "cells": [
  {
   "cell_type": "markdown",
   "metadata": {},
   "source": [
    "<img src='https://seussblog.files.wordpress.com/2013/06/lorax-scenery-splash.jpg'>\n",
    "Run the following box first!"
   ]
  },
  {
   "cell_type": "code",
   "execution_count": null,
   "metadata": {},
   "outputs": [],
   "source": [
    "from causality_simulation import *\n",
    "\n",
    "x = np.linspace(0, 1000, 50)\n",
    "y = np.linspace(0, 1000, 50)\n",
    "grid = np.transpose([np.tile(x, len(y)), np.repeat(y, len(x))])\n",
    "ids = sorted(np.random.choice(np.arange(50*50), 500))\n",
    "coords = np.array([grid[i] for i in ids])\n",
    "init_data = {\n",
    "    'Longitude': coords[:,0],\n",
    "    'Latitude': coords[:,1]\n",
    "}\n",
    "truffula.init(init_data)"
   ]
  },
  {
   "cell_type": "markdown",
   "metadata": {},
   "source": [
    "# Part 1"
   ]
  },
  {
   "cell_type": "markdown",
   "metadata": {},
   "source": [
    "The truffula tree bears fruit every year during summer. Hans, a botanist, wants to know whether the number of fruits that a truffula tree bears affects the neighbouring bee population. Out of 500 trees in his truffula orchard, he carefully records the average daily number of bees that land on each tree, as well as the total number of fruits during the whole fruit-bearing season.\n",
    "\n",
    "Run the following three boxes. In the \"Tree Group Assignment\" plot, you will see a aerial view of his orchard, where each tree is represented by a blue dot."
   ]
  },
  {
   "cell_type": "code",
   "execution_count": null,
   "metadata": {},
   "outputs": [],
   "source": [
    "assignment_observation = {\n",
    "    'name': 'Observation',\n",
    "    'samples_str': '1-500'\n",
    "}\n",
    "experiment_observation = TruffulaExperiment()\n",
    "experiment_observation.assignment(config=[assignment_observation], hide_random=True)"
   ]
  },
  {
   "cell_type": "code",
   "execution_count": null,
   "metadata": {},
   "outputs": [],
   "source": [
    "experiment_observation.plotAssignment()"
   ]
  },
  {
   "cell_type": "markdown",
   "metadata": {},
   "source": [
    "Run the following box to see how Hans set up his observational experiment. Note that he is not performing any intervention on the number of bees or the number of fruits. He simply sits back and watches nature unfold.\n",
    "\n",
    "Click on \"Perform experiment\" to perform the experiment."
   ]
  },
  {
   "cell_type": "code",
   "execution_count": null,
   "metadata": {},
   "outputs": [],
   "source": [
    "intervention_observation = {\n",
    "    'name': 'Observation',\n",
    "    'intervention': {\n",
    "    }\n",
    "}\n",
    "experiment_observation.setting(config=[intervention_observation], show=['Number of bees', 'Number of fruits'], disable='all')"
   ]
  },
  {
   "cell_type": "markdown",
   "metadata": {},
   "source": [
    "In the following aerial view of the orchard, each tree has been colour-coded according to the number of bees that Hans has recorded. If you wish to see the colour-coding according to the number of fruits instead, use the \"Gradient\" dropdown menu and select \"Number of Fruits\"."
   ]
  },
  {
   "cell_type": "code",
   "execution_count": null,
   "metadata": {},
   "outputs": [],
   "source": [
    "experiment_observation.plotOrchard(gradient='Number of bees', show=['Number of bees', 'Number of fruits'])"
   ]
  },
  {
   "cell_type": "markdown",
   "metadata": {},
   "source": [
    "Run the following box to plot the data that Hans has recorded. Remember that he is trying to see if there is any relationship between the number of bees and the number of fruits. Select \"Number of Fruits\" for the \"x-Axis Variable\" and \"Number of Bees\" for the \"y-Axis Variable\"."
   ]
  },
  {
   "cell_type": "code",
   "execution_count": null,
   "metadata": {},
   "outputs": [],
   "source": [
    "experiment_observation.plot(show=['Number of bees', 'Number of fruits'])"
   ]
  },
  {
   "cell_type": "markdown",
   "metadata": {},
   "source": [
    "## Question 1"
   ]
  },
  {
   "cell_type": "markdown",
   "metadata": {},
   "source": [
    "__1a) What is the correlation (r) between the number of fruits and the number of bees?__\n",
    "\n",
    "__1b) Is the correlation statistically significant at $p<0.05$?__ Recall that the p-value tells you how likely that this correlation is merely a result of random chance. The smaller the p-value, the more statistically significant the correlation is.\n",
    "\n",
    "__1c) What does that tell you about the causal relationship between the number of fruits and the number of bees? In other words, what conclusion can we make about the hypothesis \"having more truffula fruits causes neighbouring bee population to increase\"?__"
   ]
  },
  {
   "cell_type": "markdown",
   "metadata": {},
   "source": [
    "`Double-click on this box to fill in your response! Shift-enter when you are done typing.`\n",
    "\n",
    "1a) \n",
    "\n",
    "1b)\n",
    "\n",
    "1c)"
   ]
  },
  {
   "cell_type": "markdown",
   "metadata": {},
   "source": [
    "# Part 2"
   ]
  },
  {
   "cell_type": "markdown",
   "metadata": {},
   "source": [
    "Hans then decides to perform an experiment. Over the course of the following summer, he randomly selects 250 out of the 500 truffula trees, and diligently plucks out all the fruits that are starting to grow on these trees. The other 250 trees are left alone. He continues to record the average daily number of bees that land on each of the 500 trees.\n",
    "\n",
    "Run the following three boxes. In the \"Tree Group Assignments\" plot, trees that assigned to the control group are marked by blue dots, while those assigned to the intervention (no fruits) group are marked by red squares."
   ]
  },
  {
   "cell_type": "code",
   "execution_count": null,
   "metadata": {},
   "outputs": [],
   "source": [
    "assignment_nofruits_control = {\n",
    "    'name': 'Control',\n",
    "    'samples_str': ''\n",
    "}\n",
    "assignment_nofruits_intervene = {\n",
    "    'name': 'Intervention (no fruits)',\n",
    "    'samples_str': ''\n",
    "}\n",
    "assignment = [assignment_nofruits_control, assignment_nofruits_intervene]\n",
    "experiment_nofruits = TruffulaExperiment()\n",
    "experiment_nofruits.assignment(config=assignment)"
   ]
  },
  {
   "cell_type": "code",
   "execution_count": null,
   "metadata": {},
   "outputs": [],
   "source": [
    "experiment_nofruits.plotAssignment()"
   ]
  },
  {
   "cell_type": "markdown",
   "metadata": {},
   "source": [
    "Run the following box to see how Hans set up his experiment. In the control group, he performs no intervention, letting nature run its course. In the intervention group, he fixes the number of fruits to 0 (by nipping them in the bud).\n",
    "\n",
    "Click on \"Perform experiment\" to perform the experiment."
   ]
  },
  {
   "cell_type": "code",
   "execution_count": null,
   "metadata": {},
   "outputs": [],
   "source": [
    "intervention_nofruits_control = {\n",
    "    'name': 'Control',\n",
    "    'intervention': {\n",
    "    }\n",
    "}\n",
    "intervention_nofruits_intervene = {\n",
    "    'name': 'Intervention (no fruits)',\n",
    "    'intervention': {\n",
    "        'Number of fruits': ['fixed', 0]\n",
    "    }\n",
    "}\n",
    "intervention = [intervention_nofruits_control, intervention_nofruits_intervene]\n",
    "experiment_nofruits.setting(config=intervention, show=['Number of bees', 'Number of fruits'], disable='all')"
   ]
  },
  {
   "cell_type": "markdown",
   "metadata": {},
   "source": [
    "Run the following box to plot the data. Choose \"Number of Bees\" for the \"x-Axis Variable\" and \"None (Distribution Only)\" for the \"y-Axis Variable\". This way, we can see two separate histograms of the number of bees on each tree, one for the control group and one for the intervention (no fruits) group."
   ]
  },
  {
   "cell_type": "code",
   "execution_count": null,
   "metadata": {},
   "outputs": [],
   "source": [
    "experiment_nofruits.plot(show=['Number of bees', 'Number of fruits'])"
   ]
  },
  {
   "cell_type": "markdown",
   "metadata": {},
   "source": [
    "## Question 2"
   ]
  },
  {
   "cell_type": "markdown",
   "metadata": {},
   "source": [
    "__2a) Is there a difference in the number of bees when there are fruits and when there are no fruits?__ (You can answer yes, no, or can't really tell)\n",
    "\n",
    "__2b) What does that tell you about the causal relationship between the number of fruits and the number of bees? In other words, what conclusion can we make about the hypothesis \"having more truffula fruits causes neighbouring bee population to increase\"?__"
   ]
  },
  {
   "cell_type": "markdown",
   "metadata": {},
   "source": [
    "`Fill in`\n",
    "\n",
    "2a) \n",
    "\n",
    "2b)"
   ]
  },
  {
   "cell_type": "markdown",
   "metadata": {},
   "source": [
    "# Part 3"
   ]
  },
  {
   "cell_type": "markdown",
   "metadata": {},
   "source": [
    "Now it's your turn! Design an experiment to further investigate the causal relationship between the number of bees and the number of fruits that a truffula tree bears.\n",
    "\n",
    "First run the following box. Then, create any number of experimental groups by clicking \"Add another group\". You can name the groups anything you like, and you can write down the IDs (1 through 500) of the trees you wish to assign to each group into the \"Assigned samples\" box. If you wish to randomly assign the trees evenly to all the groups, click on the \"Randomise assignment\" button. To save and visualise the assignment, click on \"Save assignments\" and run the box below this one."
   ]
  },
  {
   "cell_type": "code",
   "execution_count": null,
   "metadata": {},
   "outputs": [],
   "source": [
    "experiment = TruffulaExperiment()\n",
    "experiment.assignment()"
   ]
  },
  {
   "cell_type": "code",
   "execution_count": null,
   "metadata": {},
   "outputs": [],
   "source": [
    "experiment.plotAssignment()"
   ]
  },
  {
   "cell_type": "markdown",
   "metadata": {},
   "source": [
    "Run the following box. For each group, set up the corresponding intervention (or no intervention). If you are confused, take another look at Hans' setup in Part 2 of this notebook.\n",
    "\n",
    "Remember to click on \"Perform experiment\" once you've completed the setup!"
   ]
  },
  {
   "cell_type": "code",
   "execution_count": null,
   "metadata": {},
   "outputs": [],
   "source": [
    "experiment.setting(show=['Number of bees', 'Number of fruits'])"
   ]
  },
  {
   "cell_type": "markdown",
   "metadata": {},
   "source": [
    "Run the following box to plot the data. Use the dropdown menus to select the appropriate \"x-Axis Variable\" and \"y-Axis Variable\"."
   ]
  },
  {
   "cell_type": "code",
   "execution_count": null,
   "metadata": {},
   "outputs": [],
   "source": [
    "experiment.plot(show=['Number of bees', 'Number of fruits'])"
   ]
  },
  {
   "cell_type": "markdown",
   "metadata": {},
   "source": [
    "## Question 3"
   ]
  },
  {
   "cell_type": "markdown",
   "metadata": {},
   "source": [
    "__3a) From the above experiment that you have designed and performed, what can you conclude about the causal relationship between the number of fruits and the number of bees? Please justify your conclusion using the definition of \"causality\" introduced in class.__\n",
    "\n",
    "__3b) (Optional) Can you come up with a situation (causal pathway) that is consistent with all the experimental data so far, but makes the conclusion you made above invalid?__ Be creative!"
   ]
  },
  {
   "cell_type": "markdown",
   "metadata": {},
   "source": [
    "`Fill in`\n",
    "\n",
    "3a) \n",
    "\n",
    "3b)"
   ]
  },
  {
   "cell_type": "markdown",
   "metadata": {},
   "source": [
    "## Free play (optional)\n",
    "\n",
    "The growth of truffula fruits is also affected by other variables, such as the amount of fertiliser and whether you water the trees with something other than water! Form your own hypothesis of which supplement encourages fruiting the most and design your own experiments to find out. Have fun!"
   ]
  },
  {
   "cell_type": "code",
   "execution_count": null,
   "metadata": {},
   "outputs": [],
   "source": [
    "experiment_free = TruffulaExperiment()\n",
    "experiment_free.assignment()"
   ]
  },
  {
   "cell_type": "code",
   "execution_count": null,
   "metadata": {},
   "outputs": [],
   "source": [
    "experiment_free.plotAssignment()"
   ]
  },
  {
   "cell_type": "code",
   "execution_count": null,
   "metadata": {},
   "outputs": [],
   "source": [
    "experiment_free.setting(disable='Soil quality')"
   ]
  },
  {
   "cell_type": "code",
   "execution_count": null,
   "metadata": {},
   "outputs": [],
   "source": [
    "experiment_free.plotOrchard(gradient='Number of bees', show=['Fertilizer', 'Number of bees', 'Number of fruits', 'Soil quality', 'Wind speed'])"
   ]
  },
  {
   "cell_type": "code",
   "execution_count": null,
   "metadata": {},
   "outputs": [],
   "source": [
    "experiment_free.plot()"
   ]
  },
  {
   "cell_type": "code",
   "execution_count": null,
   "metadata": {},
   "outputs": [],
   "source": []
  }
 ],
 "metadata": {
  "kernelspec": {
   "display_name": "Python 3 (ipykernel)",
   "language": "python",
   "name": "python3"
  },
  "language_info": {
   "codemirror_mode": {
    "name": "ipython",
    "version": 3
   },
   "file_extension": ".py",
   "mimetype": "text/x-python",
   "name": "python",
   "nbconvert_exporter": "python",
   "pygments_lexer": "ipython3",
   "version": "3.11.11"
  }
 },
 "nbformat": 4,
 "nbformat_minor": 4
}
